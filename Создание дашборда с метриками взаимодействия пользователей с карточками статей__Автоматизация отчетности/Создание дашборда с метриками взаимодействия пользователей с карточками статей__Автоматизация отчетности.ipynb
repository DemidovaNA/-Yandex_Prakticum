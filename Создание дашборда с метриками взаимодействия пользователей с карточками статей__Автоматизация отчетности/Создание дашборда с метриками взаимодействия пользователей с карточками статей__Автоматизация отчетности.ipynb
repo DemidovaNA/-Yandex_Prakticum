{
 "cells": [
  {
   "cell_type": "markdown",
   "id": "ed8b1cb2",
   "metadata": {},
   "source": [
    "# Тема: Автоматизация отчетности\n",
    "# Проект: Создание дашборда с метриками взаимодействия пользователей с карточками статей"
   ]
  },
  {
   "cell_type": "markdown",
   "id": "f08c9eb0",
   "metadata": {},
   "source": [
    "# Техническое задание:\n",
    "* Бизнес-задача: анализ взаимодействия пользователей с карточками Яндекс.Дзен;\n",
    "\n",
    "* Насколько часто предполагается пользоваться дашбордом: не реже, чем раз в неделю;\n",
    "\n",
    "* Кто будет основным пользователем дашборда: менеджеры по анализу контента;\n",
    "\n",
    "* Состав данных для дашборда:\n",
    "    * История событий по темам карточек (два графика - абсолютные числа и процентное соотношение);\n",
    "    * Разбивка событий по темам источников;\n",
    "    * Таблица соответствия тем источников темам карточек;\n",
    "* По каким параметрам данные должны группироваться:\n",
    "    * Дата и время;\n",
    "    * Тема карточки;\n",
    "    * Тема источника;\n",
    "    * Возрастная группа;\n",
    "\n",
    "* Характер данных:\n",
    "    * История событий по темам карточек — абсолютные величины с разбивкой по минутам;\n",
    "    * Разбивка событий по темам источников — относительные величины (% событий);\n",
    "    * Соответствия тем источников темам карточек - абсолютные величины;\n",
    "\n",
    "* Важность: все графики имеют равную важность;\n",
    "\n",
    "* Источники данных для дашборда: cырые данные о событиях взаимодействия пользователей с карточками (таблица log_raw);\n",
    "\n",
    "* База данных, в которой будут храниться агрегированные данные: дополнительные агрегированные таблицы в БД zen;\n",
    "\n",
    "* Частота обновления данных: один раз в сутки, в полночь по UTC;\n",
    "\n",
    "* Какие графики должны отображаться и в каком порядке, какие элементы управления должны быть на дашборде (макет дашборда):"
   ]
  },
  {
   "cell_type": "markdown",
   "id": "a9293586",
   "metadata": {},
   "source": [
    "![dashboard_example](dashboard_example.png)"
   ]
  },
  {
   "cell_type": "markdown",
   "id": "af0f6964",
   "metadata": {},
   "source": [
    "# Материалы:"
   ]
  },
  {
   "cell_type": "markdown",
   "id": "b5d7de5d",
   "metadata": {},
   "source": [
    "[Дашборд](https://public.tableau.com/views/Dashboard_Yandex_Zen_16555074175810/sheet5?:language=en-US&publish=yes&:display_count=n&:origin=viz_share_link)\n",
    "\n",
    "[Презентация](https://disk.yandex.ru/i/AE2om-fviyc9Gw)"
   ]
  },
  {
   "cell_type": "markdown",
   "id": "0e6fc893",
   "metadata": {},
   "source": [
    "## Загрузка данных и подготовка к анализу"
   ]
  },
  {
   "cell_type": "code",
   "execution_count": 1,
   "id": "dd429f04",
   "metadata": {},
   "outputs": [
    {
     "name": "stdout",
     "output_type": "stream",
     "text": [
      "Requirement already satisfied: psycopg2-binary in c:\\programdata\\anaconda3\\lib\\site-packages (2.9.3)\n"
     ]
    }
   ],
   "source": [
    "# установливаем пакета для работы с PostgreSQL\n",
    "!pip install psycopg2-binary"
   ]
  },
  {
   "cell_type": "code",
   "execution_count": 2,
   "id": "eae434ff",
   "metadata": {},
   "outputs": [],
   "source": [
    "# импортируем библиотеки\n",
    "import pandas as pd\n",
    "from sqlalchemy import create_engine\n",
    "import psycopg2"
   ]
  },
  {
   "cell_type": "code",
   "execution_count": 3,
   "id": "ec1c1514",
   "metadata": {},
   "outputs": [],
   "source": [
    "# cоздаём коннекцию к базе\n",
    "db_config = {'user': 'praktikum_student', # имя пользователя\n",
    "            'pwd': 'Sdf4$2;d-d30pp', # пароль\n",
    "            'host': 'rc1b-wcoijxj3yxfsf3fs.mdb.yandexcloud.net',\n",
    "            'port': 6432, # порт подключения\n",
    "            'db': 'data-analyst-zen-project-db'} # название базы данных\n",
    "\n",
    "connection_string = 'postgresql://{}:{}@{}:{}/{}'.format(db_config['user'],\n",
    "                                                db_config['pwd'],\n",
    "                                                db_config['host'],\n",
    "                                                db_config['port'],\n",
    "                                                db_config['db'])\n",
    "\n",
    "engine = create_engine(connection_string)"
   ]
  },
  {
   "cell_type": "code",
   "execution_count": 4,
   "id": "25d9295e",
   "metadata": {},
   "outputs": [],
   "source": [
    "# формируем sql-запрос\n",
    "query = ''' SELECT * \n",
    "            FROM dash_visits\n",
    "        '''"
   ]
  },
  {
   "cell_type": "code",
   "execution_count": 5,
   "id": "00c6d939",
   "metadata": {},
   "outputs": [],
   "source": [
    "# выполняем sql-запрос\n",
    "dash_visits = pd.io.sql.read_sql(query, con = engine)"
   ]
  },
  {
   "cell_type": "code",
   "execution_count": 6,
   "id": "af604005",
   "metadata": {},
   "outputs": [],
   "source": [
    "# выгружаем данные из таблицы dash_visits в файл dash_visits.csv\n",
    "dash_visits.to_csv('dash_visits.csv', index=False)"
   ]
  },
  {
   "cell_type": "code",
   "execution_count": 7,
   "id": "6e557602",
   "metadata": {},
   "outputs": [
    {
     "data": {
      "text/html": [
       "<div>\n",
       "<style scoped>\n",
       "    .dataframe tbody tr th:only-of-type {\n",
       "        vertical-align: middle;\n",
       "    }\n",
       "\n",
       "    .dataframe tbody tr th {\n",
       "        vertical-align: top;\n",
       "    }\n",
       "\n",
       "    .dataframe thead th {\n",
       "        text-align: right;\n",
       "    }\n",
       "</style>\n",
       "<table border=\"1\" class=\"dataframe\">\n",
       "  <thead>\n",
       "    <tr style=\"text-align: right;\">\n",
       "      <th></th>\n",
       "      <th>record_id</th>\n",
       "      <th>item_topic</th>\n",
       "      <th>source_topic</th>\n",
       "      <th>age_segment</th>\n",
       "      <th>dt</th>\n",
       "      <th>visits</th>\n",
       "    </tr>\n",
       "  </thead>\n",
       "  <tbody>\n",
       "    <tr>\n",
       "      <th>0</th>\n",
       "      <td>1040597</td>\n",
       "      <td>Деньги</td>\n",
       "      <td>Авто</td>\n",
       "      <td>18-25</td>\n",
       "      <td>2019-09-24 18:32:00</td>\n",
       "      <td>3</td>\n",
       "    </tr>\n",
       "    <tr>\n",
       "      <th>1</th>\n",
       "      <td>1040598</td>\n",
       "      <td>Деньги</td>\n",
       "      <td>Авто</td>\n",
       "      <td>18-25</td>\n",
       "      <td>2019-09-24 18:35:00</td>\n",
       "      <td>1</td>\n",
       "    </tr>\n",
       "    <tr>\n",
       "      <th>2</th>\n",
       "      <td>1040599</td>\n",
       "      <td>Деньги</td>\n",
       "      <td>Авто</td>\n",
       "      <td>18-25</td>\n",
       "      <td>2019-09-24 18:54:00</td>\n",
       "      <td>4</td>\n",
       "    </tr>\n",
       "    <tr>\n",
       "      <th>3</th>\n",
       "      <td>1040600</td>\n",
       "      <td>Деньги</td>\n",
       "      <td>Авто</td>\n",
       "      <td>18-25</td>\n",
       "      <td>2019-09-24 18:55:00</td>\n",
       "      <td>17</td>\n",
       "    </tr>\n",
       "    <tr>\n",
       "      <th>4</th>\n",
       "      <td>1040601</td>\n",
       "      <td>Деньги</td>\n",
       "      <td>Авто</td>\n",
       "      <td>18-25</td>\n",
       "      <td>2019-09-24 18:56:00</td>\n",
       "      <td>27</td>\n",
       "    </tr>\n",
       "  </tbody>\n",
       "</table>\n",
       "</div>"
      ],
      "text/plain": [
       "   record_id item_topic source_topic age_segment                  dt  visits\n",
       "0    1040597     Деньги         Авто       18-25 2019-09-24 18:32:00       3\n",
       "1    1040598     Деньги         Авто       18-25 2019-09-24 18:35:00       1\n",
       "2    1040599     Деньги         Авто       18-25 2019-09-24 18:54:00       4\n",
       "3    1040600     Деньги         Авто       18-25 2019-09-24 18:55:00      17\n",
       "4    1040601     Деньги         Авто       18-25 2019-09-24 18:56:00      27"
      ]
     },
     "execution_count": 7,
     "metadata": {},
     "output_type": "execute_result"
    }
   ],
   "source": [
    "dash_visits.head()"
   ]
  },
  {
   "cell_type": "code",
   "execution_count": 9,
   "id": "ac96cdea",
   "metadata": {},
   "outputs": [
    {
     "data": {
      "text/plain": [
       "(Timestamp('2019-09-24 18:28:00'), Timestamp('2019-09-24 19:00:00'))"
      ]
     },
     "execution_count": 9,
     "metadata": {},
     "output_type": "execute_result"
    }
   ],
   "source": [
    "# уточним период исследования\n",
    "dash_visits['dt'].min(), dash_visits['dt'].max()"
   ]
  },
  {
   "cell_type": "code",
   "execution_count": 10,
   "id": "6dedd0f1",
   "metadata": {},
   "outputs": [
    {
     "data": {
      "text/plain": [
       "310207"
      ]
     },
     "execution_count": 10,
     "metadata": {},
     "output_type": "execute_result"
    }
   ],
   "source": [
    "# выясним общее количество визитов за период\n",
    "dash_visits['visits'].sum()"
   ]
  },
  {
   "cell_type": "code",
   "execution_count": 16,
   "id": "0f5e03f9",
   "metadata": {},
   "outputs": [
    {
     "data": {
      "text/plain": [
       "25"
      ]
     },
     "execution_count": 16,
     "metadata": {},
     "output_type": "execute_result"
    }
   ],
   "source": [
    "# итоговое количество уникальных тем карточек\n",
    "dash_visits['item_topic'].nunique()"
   ]
  },
  {
   "cell_type": "code",
   "execution_count": 17,
   "id": "0fb0b105",
   "metadata": {},
   "outputs": [
    {
     "data": {
      "text/plain": [
       "26"
      ]
     },
     "execution_count": 17,
     "metadata": {},
     "output_type": "execute_result"
    }
   ],
   "source": [
    "# итоговое количество уникальных ресурсов\n",
    "dash_visits['source_topic'].nunique()"
   ]
  }
 ],
 "metadata": {
  "kernelspec": {
   "display_name": "Python 3 (ipykernel)",
   "language": "python",
   "name": "python3"
  },
  "language_info": {
   "codemirror_mode": {
    "name": "ipython",
    "version": 3
   },
   "file_extension": ".py",
   "mimetype": "text/x-python",
   "name": "python",
   "nbconvert_exporter": "python",
   "pygments_lexer": "ipython3",
   "version": "3.9.7"
  }
 },
 "nbformat": 4,
 "nbformat_minor": 5
}

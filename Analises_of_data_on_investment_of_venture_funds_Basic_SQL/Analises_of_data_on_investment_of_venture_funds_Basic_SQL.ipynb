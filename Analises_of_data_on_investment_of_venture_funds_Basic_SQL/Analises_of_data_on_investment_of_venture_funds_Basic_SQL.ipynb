{
 "cells": [
  {
   "cell_type": "markdown",
   "id": "01eeea1d",
   "metadata": {},
   "source": [
    "# Тема: Базовый SQL\n",
    "# Проект: Исследование данных об инвестиции венчурных фондов"
   ]
  },
  {
   "cell_type": "markdown",
   "id": "072519aa",
   "metadata": {},
   "source": [
    "**Задача:**\n",
    "\n",
    "Произвести различные выгрузки с помощью SQL.\n",
    "\n",
    "\n",
    "**Исходные данные:**\n",
    "\n",
    "База данных, которая хранит информацию о венчурных фондах и инвестициях в компании-стартапы (База основана на датасете Startup Investments опубликованном на платформе Kaggle)."
   ]
  },
  {
   "cell_type": "markdown",
   "id": "c1b6318c",
   "metadata": {},
   "source": [
    "## 1. Выясните количество закрывшихся компаний."
   ]
  },
  {
   "cell_type": "code",
   "execution_count": null,
   "id": "96266348",
   "metadata": {},
   "outputs": [],
   "source": [
    "query = '''SELECT COUNT(id)\n",
    "           FROM company\n",
    "           WHERE status = 'closed';\n",
    "        '''"
   ]
  },
  {
   "cell_type": "markdown",
   "id": "f5344401",
   "metadata": {},
   "source": [
    "## 2. Выведите количество привлечённых средств для новостных компаний США. Необходимо использовать данные из таблицы `company`. Отсортируйте таблицу по убыванию значений в поле `funding_total` ."
   ]
  },
  {
   "cell_type": "code",
   "execution_count": null,
   "id": "e11ba0c1",
   "metadata": {},
   "outputs": [],
   "source": [
    "query = '''SELECT funding_total\n",
    "           FROM company\n",
    "           WHERE country_code = 'USA'\n",
    "                 AND category_code = 'news'\n",
    "           ORDER BY funding_total DESC;\n",
    "        '''"
   ]
  },
  {
   "cell_type": "markdown",
   "id": "800d6095",
   "metadata": {},
   "source": [
    "## 3. Посчитайте общую сумму сделок по покупке одних компаний другими в долларах. Отобразите только те сделки, которые осуществлялись за наличные с 2011 по 2013 год."
   ]
  },
  {
   "cell_type": "code",
   "execution_count": null,
   "id": "42e6a313",
   "metadata": {},
   "outputs": [],
   "source": [
    "query = '''SELECT SUM(price_amount)\n",
    "           FROM acquisition\n",
    "           WHERE term_code = 'cash'\n",
    "                 AND EXTRACT(YEAR FROM CAST(acquired_at AS date)) IN (2011, 2012, 2013)\n",
    "        '''"
   ]
  },
  {
   "cell_type": "markdown",
   "id": "fba7c5a8",
   "metadata": {},
   "source": [
    "## 4. Выведите имя, фамилию и названия аккаунтов людей в твиттере. Названия  их аккаунтов должно начинаться на `Silver`."
   ]
  },
  {
   "cell_type": "code",
   "execution_count": null,
   "id": "dbdb53f3",
   "metadata": {},
   "outputs": [],
   "source": [
    "query = '''SELECT  first_name,\n",
    "                   last_name,\n",
    "                   twitter_username\n",
    "           FROM people\n",
    "           WHERE twitter_username LIKE 'Silver%'\n",
    "        '''"
   ]
  },
  {
   "cell_type": "markdown",
   "id": "f6c1aa70",
   "metadata": {},
   "source": [
    "## 5. Отобразите  всю информацию о людях, у которых названия аккаунтов в твиттере содержат подстроку `money`. Фамилия людей в выборке должна начинаться на `K`."
   ]
  },
  {
   "cell_type": "code",
   "execution_count": null,
   "id": "97914347",
   "metadata": {},
   "outputs": [],
   "source": [
    "query = '''SELECT id,  \n",
    "                  first_name,\n",
    "                  last_name,\n",
    "                  company_id,\n",
    "                  twitter_username,\n",
    "                  created_at,\n",
    "                  updated_at\n",
    "           FROM people\n",
    "           WHERE twitter_username LIKE '%money%'\n",
    "                 AND last_name LIKE 'K%'\n",
    "        '''"
   ]
  },
  {
   "cell_type": "markdown",
   "id": "a4659b6e",
   "metadata": {},
   "source": [
    "## 6. Отобразите общую сумму привлечённых инвестиций, которые получили компании, зарегистрированные в этой стране (для всех стран). Страну, в которой зарегистрирована компания, можно определить по коду страны.  Данные отсортируйте по убыванию суммы."
   ]
  },
  {
   "cell_type": "code",
   "execution_count": null,
   "id": "7acbb695",
   "metadata": {},
   "outputs": [],
   "source": [
    "query = '''SELECT country_code, \n",
    "                  SUM(funding_total)\n",
    "           FROM company\n",
    "           GROUP BY country_code\n",
    "           ORDER BY SUM(funding_total) DESC;\n",
    "        '''"
   ]
  },
  {
   "cell_type": "markdown",
   "id": "503e50ab",
   "metadata": {},
   "source": [
    "## 7. Сформируйте таблицу с датой проведения раунда, а также минимальным и максимальным значением суммы инвестиций, привлечённых в эту дату.  В итоговой таблице оставьте только те записи, в которых минимальное значение суммы инвестиций не равно нулю и не равно максимальному значению."
   ]
  },
  {
   "cell_type": "code",
   "execution_count": null,
   "id": "eecd2db7",
   "metadata": {},
   "outputs": [],
   "source": [
    "query = '''SELECT funded_at,\n",
    "                  MIN(raised_amount),\n",
    "                  MAX(raised_amount)\n",
    "           FROM funding_round\n",
    "           GROUP BY funded_at\n",
    "           HAVING MIN(raised_amount) <> 0\n",
    "                  AND MIN(raised_amount) <> MAX(raised_amount);\n",
    "           '''"
   ]
  },
  {
   "cell_type": "markdown",
   "id": "de69d94e",
   "metadata": {},
   "source": [
    "## 8. Создайте поле с тремя категориями:\n",
    "* `high_activity` - фонды, которые инвестируют в 100 и более компаний;\n",
    "* `middle_activity` - фонды, которые инвестируют в 20 и более компаний до 100;\n",
    "* `low_activity` - количество инвестируемых компаний фонда не достигает 20.\n",
    "\n",
    "Отобразите все поля таблицы `fund` и новое поле с категориями."
   ]
  },
  {
   "cell_type": "code",
   "execution_count": null,
   "id": "c8fe3178",
   "metadata": {},
   "outputs": [],
   "source": [
    "query = '''SELECT *,\n",
    "                  CASE\n",
    "                      WHEN invested_companies >= 100 THEN 'high_activity'\n",
    "                      WHEN invested_companies >= 20 AND invested_companies < 100 THEN 'middle_activity'\n",
    "                      WHEN invested_companies < 20 THEN 'low_activity'\n",
    "                  END\n",
    "           FROM fund;\n",
    "        '''"
   ]
  },
  {
   "cell_type": "markdown",
   "id": "9bf78ae1",
   "metadata": {},
   "source": [
    "## 9. Для каждой из категорий, из предыдущего задания, посчитайте округлённое до ближайшего целого числа среднее количество инвестиционных раундов, в которых фонд принимал участие. Отобразите на экране категории и среднее число инвестиционных раундов. Отсортируйте таблицу по возрастанию среднего."
   ]
  },
  {
   "cell_type": "code",
   "execution_count": null,
   "id": "dc07b490",
   "metadata": {},
   "outputs": [],
   "source": [
    "query = '''SELECT CASE\n",
    "                       WHEN invested_companies>=100 THEN 'high_activity'\n",
    "                       WHEN invested_companies>=20 THEN 'middle_activity'\n",
    "                       ELSE 'low_activity'\n",
    "                  END AS activity,\n",
    "                  ROUND(AVG(investment_rounds)) AS avg_rounds\n",
    "           FROM fund\n",
    "           GROUP BY activity\n",
    "           ORDER BY avg_rounds ASC;\n",
    "        '''"
   ]
  },
  {
   "cell_type": "markdown",
   "id": "e115f33c",
   "metadata": {},
   "source": [
    "## 10. Создайте таблицу с десятью самыми активными инвестирующими странами. Активность страны определите по среднему количеству компаний, в которые инвестируют фонды этой страны.  Посчитайте минимальное, максимальное и среднее число компаний, в которые инвестировали фонды, основанные с 2010 по 2012 год включительно для каждой страны. Исключите из таблицы страны с фондами, у которых минимальное число компаний, получивших инвестиции, равно нулю. Отсортируйте таблицу по среднему количеству компаний от большего к меньшему, а затем по коду страны в лексикографическом порядке."
   ]
  },
  {
   "cell_type": "code",
   "execution_count": null,
   "id": "1a56a314",
   "metadata": {},
   "outputs": [],
   "source": [
    "query = '''SELECT country_code,\n",
    "                  MIN(invested_companies),\n",
    "                  MAX(invested_companies),\n",
    "                  AVG(invested_companies)\n",
    "           FROM fund\n",
    "           WHERE EXTRACT(YEAR FROM CAST(founded_at AS date)) BETWEEN '2010' AND '2012'\n",
    "           GROUP BY country_code\n",
    "           HAVING MIN(invested_companies) <> 0\n",
    "           ORDER BY AVG(invested_companies) DESC\n",
    "           LIMIT 10;\n",
    "        '''"
   ]
  },
  {
   "cell_type": "markdown",
   "id": "fa8abded",
   "metadata": {},
   "source": [
    "## 11. Отобразите имена и фамилии всех сотрудников стартапов. Добавьте поле с названием учебного заведения, которое окончил сотрудник, если эта информация известна."
   ]
  },
  {
   "cell_type": "code",
   "execution_count": null,
   "id": "e240c53e",
   "metadata": {},
   "outputs": [],
   "source": [
    "query = '''SELECT first_name,\n",
    "                  last_name,\n",
    "                  instituition\n",
    "           FROM people AS p\n",
    "           LEFT OUTER JOIN education AS e ON p.id = e.person_id\n",
    "        '''"
   ]
  },
  {
   "cell_type": "markdown",
   "id": "d7a76657",
   "metadata": {},
   "source": [
    "## 12. Для всех компаний найдите количество учебных заведений, которые окончили её сотрудники. Выведите название компании и число уникальных названий учебных заведений. Составьте топ-5 по количеству университетов."
   ]
  },
  {
   "cell_type": "code",
   "execution_count": null,
   "id": "96c907d6",
   "metadata": {},
   "outputs": [],
   "source": [
    "query = '''SELECT c.name,\n",
    "                  COUNT(DISTINCT e.instituition) AS inst\n",
    "           FROM company AS c\n",
    "           INNER JOIN people AS p ON c.id=p.company_id\n",
    "           INNER JOIN education AS e ON p.id=e.person_id\n",
    "           GROUP BY c.name\n",
    "           ORDER BY inst DESC\n",
    "           LIMIT 5;\n",
    "        '''"
   ]
  },
  {
   "cell_type": "markdown",
   "id": "038686d2",
   "metadata": {},
   "source": [
    "## 13. Составьте список:\n",
    "* закрытых компаний с уникальными названиями;\n",
    "* их первый раунд финансирования оказался последним."
   ]
  },
  {
   "cell_type": "code",
   "execution_count": null,
   "id": "b4d1e2b1",
   "metadata": {},
   "outputs": [],
   "source": [
    "query = '''SELECT  DISTINCT name\n",
    "           FROM company AS c\n",
    "           INNER JOIN funding_round AS fr ON c.id=fr.company_id\n",
    "           WHERE status = 'closed'\n",
    "             AND is_first_round = 1 \n",
    "             AND is_last_round = 1;\n",
    "        '''"
   ]
  },
  {
   "cell_type": "markdown",
   "id": "8ba1079e",
   "metadata": {},
   "source": [
    "## 14. На основе предыдущего задания составьте список уникальных номеров сотрудников, которые работают в отобранных компаниях."
   ]
  },
  {
   "cell_type": "code",
   "execution_count": null,
   "id": "4684c89c",
   "metadata": {},
   "outputs": [],
   "source": [
    "query = '''SELECT p.id\n",
    "           FROM people AS p \n",
    "           WHERE company_id IN (SELECT id\n",
    "                                FROM company \n",
    "                                WHERE id IN (SELECT company_id\n",
    "                                             FROM funding_round\n",
    "                                             WHERE is_first_round = 1 AND is_last_round = 1)\n",
    "                                  AND status = 'closed');\n",
    "        '''"
   ]
  },
  {
   "cell_type": "markdown",
   "id": "71676841",
   "metadata": {},
   "source": [
    "## 15. Составьте таблицу, с уникальными номерами сотрудников из предыдущей задачи и учебным заведением, которое окончил сотрудник."
   ]
  },
  {
   "cell_type": "code",
   "execution_count": null,
   "id": "3703c9e9",
   "metadata": {},
   "outputs": [],
   "source": [
    "query = '''SELECT  DISTINCT person_id,\n",
    "                   instituition\n",
    "           FROM education\n",
    "           WHERE person_id IN (SELECT p.id\n",
    "                               FROM people AS p \n",
    "                               WHERE company_id IN (SELECT id\n",
    "                                                    FROM company \n",
    "                                                    WHERE id IN (SELECT company_id\n",
    "                                                                 FROM funding_round\n",
    "                                                                 WHERE is_first_round = 1 AND is_last_round = 1)\n",
    "                                                      AND status = 'closed'))\n",
    "           GROUP BY person_id, instituition;\n",
    "        '''"
   ]
  },
  {
   "cell_type": "markdown",
   "id": "417b0204",
   "metadata": {},
   "source": [
    "## 16. Выясните количество учебных заведений для каждого сотрудника из предыдущего задания."
   ]
  },
  {
   "cell_type": "code",
   "execution_count": null,
   "id": "42af4862",
   "metadata": {},
   "outputs": [],
   "source": [
    "query = '''SELECT  DISTINCT person_id,\n",
    "                   COUNT(instituition)\n",
    "           FROM education\n",
    "           WHERE person_id IN (SELECT p.id\n",
    "                               FROM people AS p \n",
    "                               WHERE company_id IN (SELECT id\n",
    "                                                    FROM company \n",
    "                                                    WHERE id IN (SELECT company_id\n",
    "                                                                 FROM funding_round\n",
    "                                                                 WHERE is_first_round = 1 AND is_last_round = 1)\n",
    "                                                    AND status = 'closed'))\n",
    "           GROUP BY person_id;\n",
    "        '''"
   ]
  },
  {
   "cell_type": "markdown",
   "id": "b17fbde7",
   "metadata": {},
   "source": [
    "## 17. Составьте таблицу, в которой будут содержаться следующие поля:\n",
    "* название фонда;\n",
    "* название компании;\n",
    "* сумма инвестиций, которую привлекла компания в раунде.\n",
    "\n",
    "\n",
    "В таблицу войдут данные о компаниях, в истории которых было больше шести важных этапов. Раунды финансирования должны проходилть в период с 2012 по 2013 год включительно."
   ]
  },
  {
   "cell_type": "code",
   "execution_count": null,
   "id": "67df51e6",
   "metadata": {},
   "outputs": [],
   "source": [
    "query = '''SELECT f.name AS name_of_fund,\n",
    "                  c.name AS name_of_company,\n",
    "                  fr.raised_amount AS amount\n",
    "           FROM investment AS i\n",
    "           LEFT OUTER JOIN company AS c ON c.id = i.company_id\n",
    "           LEFT OUTER JOIN fund AS f ON f.id=i.fund_id\n",
    "           INNER JOIN\n",
    "           (SELECT *\n",
    "            FROM funding_round\n",
    "            WHERE EXTRACT(YEAR FROM CAST(funded_at AS date)) BETWEEN '2012' AND '2013') AS fr ON fr.id = i.funding_round_id\n",
    "            WHERE c.milestones > 6;\n",
    "        '''"
   ]
  },
  {
   "cell_type": "markdown",
   "id": "75069ce3",
   "metadata": {},
   "source": [
    "## 18. Создайте таблицу с полями:\n",
    "* название компании-покупателя;\n",
    "* сумма сделки;\n",
    "* название компании, которую купили;\n",
    "* сумма инвестиций, вложенных в купленную компанию;\n",
    "* доля, которая отображает, во сколько раз сумма покупки превысила сумму вложенных в компанию инвестиций, округлённая до ближайшего целого числа.\n",
    "Не учитывайте те сделки, в которых сумма покупки равна нулю.\n",
    "Отсортируйте таблицу по сумме сделки от большей к меньшей, а затем по названию купленной компании в лексикографическом порядке. Ограничьте таблицу первыми десятью записями."
   ]
  },
  {
   "cell_type": "code",
   "execution_count": null,
   "id": "d9e2f76f",
   "metadata": {},
   "outputs": [],
   "source": [
    "query = '''SELECT c.name,\n",
    "                  a.price_amount,\n",
    "                  c_second.name,\n",
    "                  c_second.funding_total,\n",
    "                  ROUND(a.price_amount/c_second.funding_total)\n",
    "           FROM acquisition AS a\n",
    "           LEFT OUTER JOIN company AS c ON a.acquiring_company_id = c.id\n",
    "           LEFT OUTER JOIN company AS c_second ON a.acquired_company_id = c_second.id\n",
    "           WHERE a.price_amount != 0\n",
    "             AND c_second.funding_total != 0\n",
    "           ORDER BY a.price_amount DESC,\n",
    "                    c_second.name\n",
    "           LIMIT 10;\n",
    "        '''"
   ]
  },
  {
   "cell_type": "markdown",
   "id": "364967c2",
   "metadata": {},
   "source": [
    "## 19. Создайте таблицу, в которую войдут названия компаний из категории `social`, получившие финансирование с 2010 по 2013 год включительно. Выведите номер месяца, в котором проходил раунд финансирования."
   ]
  },
  {
   "cell_type": "code",
   "execution_count": null,
   "id": "1c99ff06",
   "metadata": {},
   "outputs": [],
   "source": [
    "query = '''SELECT c.name,\n",
    "                  EXTRACT(MONTH FROM CAST(funded_at AS date))\n",
    "           FROM company AS c\n",
    "           LEFT OUTER JOIN funding_round AS fr ON c.id=fr.company_id\n",
    "           WHERE category_code = 'social'\n",
    "             AND EXTRACT(YEAR FROM CAST(funded_at AS date)) BETWEEN '2010' AND '2013'\n",
    "        '''"
   ]
  },
  {
   "cell_type": "markdown",
   "id": "99e640f3",
   "metadata": {},
   "source": [
    "## 20. Отберите данные по месяцам с 2010 по 2013 год, когда проходили инвестиционные раунды. Сгруппируйте данные по номеру месяца. Получите таблицу с полями:\n",
    "* номер месяца, в котором проходили раунды;\n",
    "* количество уникальных названий фондов из США, которые инвестировали в этом месяце;\n",
    "* количество компаний, купленных за этот месяц;\n",
    "* общая сумма сделок по покупкам в этом месяце."
   ]
  },
  {
   "cell_type": "code",
   "execution_count": null,
   "id": "5d363a53",
   "metadata": {},
   "outputs": [],
   "source": [
    "query = '''WITH \n",
    "           ft_table AS (SELECT EXTRACT(MONTH FROM CAST(fr.funded_at AS date)) AS foundation_date,\n",
    "                               COUNT(DISTINCT f.name) AS count_of_fund\n",
    "                        FROM funding_round AS fr\n",
    "                        LEFT JOIN investment AS i ON i.funding_round_id = fr.id\n",
    "                        LEFT JOIN fund AS f ON i.fund_id = f.id\n",
    "                        WHERE EXTRACT(YEAR FROM CAST(fr.funded_at AS date)) BETWEEN '2010' AND '2013'\n",
    "                          AND f.country_code = 'USA'\n",
    "                        GROUP BY foundation_date), \n",
    "\n",
    "           sd_table AS (SELECT EXTRACT(MONTH FROM CAST(acquired_at AS date)) AS deals_date,\n",
    "                               COUNT(acquired_company_id) AS count_of_acquired,\n",
    "                               SUM(price_amount) AS sum_of_acquired\n",
    "                        FROM acquisition\n",
    "                        WHERE EXTRACT(YEAR FROM CAST(acquired_at AS date)) BETWEEN '2010' AND '2013'\n",
    "                        GROUP BY deals_date)\n",
    "                   \n",
    "                   \n",
    "           SELECT  ft_table.foundation_date,\n",
    "                   ft_table.count_of_fund,\n",
    "                   sd_table.count_of_acquired,\n",
    "                   sd_table.sum_of_acquired\n",
    "           FROM ft_table\n",
    "           JOIN sd_table ON ft_table.foundation_date = sd_table.deals_date;\n",
    "        '''"
   ]
  },
  {
   "cell_type": "markdown",
   "id": "e9faf592",
   "metadata": {},
   "source": [
    "## 21. Сделайте сводную таблицу и выведите среднюю сумму инвестиций для стран, в которых есть стартапы. Они должны быть зарегистрированны в 2011, 2012 и 2013 годах. Данные за каждый год должны отобразите в отдельном поле. Отсортируйте таблицу по среднему значению инвестиций за 2011 год от большего к меньшему."
   ]
  },
  {
   "cell_type": "code",
   "execution_count": null,
   "id": "b3957660",
   "metadata": {},
   "outputs": [],
   "source": [
    "query = '''WITH\n",
    "           as_11 AS (SELECT country_code,\n",
    "                            AVG(funding_total) AS avg_sum_2011\n",
    "                     FROM company\n",
    "                     WHERE EXTRACT(YEAR FROM CAST(founded_at AS date)) = '2011'\n",
    "                     GROUP BY country_code),\n",
    "\n",
    "           as_12 AS (SELECT country_code,\n",
    "                            AVG(funding_total) AS avg_sum_2012\n",
    "                     FROM company\n",
    "                     WHERE EXTRACT(YEAR FROM CAST(founded_at AS date)) = '2012'\n",
    "                     GROUP BY country_code),\n",
    "\n",
    "           as_13 AS (SELECT country_code,\n",
    "                            AVG(funding_total) AS avg_sum_2013\n",
    "                     FROM company\n",
    "                     WHERE EXTRACT(YEAR FROM CAST(founded_at AS date)) = '2013'\n",
    "                     GROUP BY country_code)\n",
    "\n",
    "\n",
    "           SELECT  as_11.country_code,\n",
    "                   as_11.avg_sum_2011,\n",
    "                   as_12.avg_sum_2012,\n",
    "                   as_13.avg_sum_2013\n",
    "           FROM as_11 INNER JOIN as_12 ON as_11.country_code=as_12.country_code\n",
    "           INNER JOIN as_13 ON as_12.country_code=as_13.country_code\n",
    "           ORDER BY avg_sum_2011 DESC;\n",
    "        '''"
   ]
  }
 ],
 "metadata": {
  "kernelspec": {
   "display_name": "Python 3 (ipykernel)",
   "language": "python",
   "name": "python3"
  },
  "language_info": {
   "codemirror_mode": {
    "name": "ipython",
    "version": 3
   },
   "file_extension": ".py",
   "mimetype": "text/x-python",
   "name": "python",
   "nbconvert_exporter": "python",
   "pygments_lexer": "ipython3",
   "version": "3.9.7"
  }
 },
 "nbformat": 4,
 "nbformat_minor": 5
}

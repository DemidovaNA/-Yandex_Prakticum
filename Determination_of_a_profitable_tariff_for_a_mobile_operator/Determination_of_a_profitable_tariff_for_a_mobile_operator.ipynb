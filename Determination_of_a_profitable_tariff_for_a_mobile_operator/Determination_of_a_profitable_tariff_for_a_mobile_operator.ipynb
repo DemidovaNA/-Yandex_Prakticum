{
 "cells": [
  {
   "cell_type": "markdown",
   "id": "505a5224",
   "metadata": {
    "toc": true
   },
   "source": [
    "<h1>Содержание<span class=\"tocSkip\"></span></h1>\n",
    "<div class=\"toc\"><ul class=\"toc-item\"><li><span><a href=\"#Обзор-данных\" data-toc-modified-id=\"Обзор-данных-1\"><span class=\"toc-item-num\">1&nbsp;&nbsp;</span>Обзор данных</a></span><ul class=\"toc-item\"><li><span><a href=\"#Импорт-библиотек-и-сохранение-данных-в-переменных\" data-toc-modified-id=\"Импорт-библиотек-и-сохранение-данных-в-переменных-1.1\"><span class=\"toc-item-num\">1.1&nbsp;&nbsp;</span>Импорт библиотек и сохранение данных в переменных</a></span></li><li><span><a href=\"#Обзор-таблицы-df_calls\" data-toc-modified-id=\"Обзор-таблицы-df_calls-1.2\"><span class=\"toc-item-num\">1.2&nbsp;&nbsp;</span>Обзор таблицы df_calls</a></span></li><li><span><a href=\"#Обзор-таблицы-df_internet\" data-toc-modified-id=\"Обзор-таблицы-df_internet-1.3\"><span class=\"toc-item-num\">1.3&nbsp;&nbsp;</span>Обзор таблицы df_internet</a></span></li><li><span><a href=\"#Обзор-таблицы-df_messages\" data-toc-modified-id=\"Обзор-таблицы-df_messages-1.4\"><span class=\"toc-item-num\">1.4&nbsp;&nbsp;</span>Обзор таблицы df_messages</a></span></li><li><span><a href=\"#Обзор-таблицы-df_tariffs\" data-toc-modified-id=\"Обзор-таблицы-df_tariffs-1.5\"><span class=\"toc-item-num\">1.5&nbsp;&nbsp;</span>Обзор таблицы df_tariffs</a></span></li><li><span><a href=\"#Обзор-таблицы-df_users\" data-toc-modified-id=\"Обзор-таблицы-df_users-1.6\"><span class=\"toc-item-num\">1.6&nbsp;&nbsp;</span>Обзор таблицы df_users</a></span></li><li><span><a href=\"#Выводы\" data-toc-modified-id=\"Выводы-1.7\"><span class=\"toc-item-num\">1.7&nbsp;&nbsp;</span>Выводы</a></span></li></ul></li><li><span><a href=\"#Подготовка-данных\" data-toc-modified-id=\"Подготовка-данных-2\"><span class=\"toc-item-num\">2&nbsp;&nbsp;</span>Подготовка данных</a></span><ul class=\"toc-item\"><li><span><a href=\"#Обраборка-таблицы-df_calls\" data-toc-modified-id=\"Обраборка-таблицы-df_calls-2.1\"><span class=\"toc-item-num\">2.1&nbsp;&nbsp;</span>Обраборка таблицы df_calls</a></span></li><li><span><a href=\"#Обраборка-таблицы-df_internet\" data-toc-modified-id=\"Обраборка-таблицы-df_internet-2.2\"><span class=\"toc-item-num\">2.2&nbsp;&nbsp;</span>Обраборка таблицы df_internet</a></span></li><li><span><a href=\"#Обраборка-таблицы-df_messages\" data-toc-modified-id=\"Обраборка-таблицы-df_messages-2.3\"><span class=\"toc-item-num\">2.3&nbsp;&nbsp;</span>Обраборка таблицы df_messages</a></span></li><li><span><a href=\"#Обраборка-таблицы-df_tariffs\" data-toc-modified-id=\"Обраборка-таблицы-df_tariffs-2.4\"><span class=\"toc-item-num\">2.4&nbsp;&nbsp;</span>Обраборка таблицы df_tariffs</a></span></li><li><span><a href=\"#Обраборка-таблицы-df_users\" data-toc-modified-id=\"Обраборка-таблицы-df_users-2.5\"><span class=\"toc-item-num\">2.5&nbsp;&nbsp;</span>Обраборка таблицы df_users</a></span></li><li><span><a href=\"#Округление-минут\" data-toc-modified-id=\"Округление-минут-2.6\"><span class=\"toc-item-num\">2.6&nbsp;&nbsp;</span>Округление минут</a></span></li><li><span><a href=\"#Количество-сделанных-звонков-и-израсходованных-минут-разговора-по-месяцам\" data-toc-modified-id=\"Количество-сделанных-звонков-и-израсходованных-минут-разговора-по-месяцам-2.7\"><span class=\"toc-item-num\">2.7&nbsp;&nbsp;</span>Количество сделанных звонков и израсходованных минут разговора по месяцам</a></span></li><li><span><a href=\"#Объем-израсходованного-интернет-трафика-по-месяцам\" data-toc-modified-id=\"Объем-израсходованного-интернет-трафика-по-месяцам-2.8\"><span class=\"toc-item-num\">2.8&nbsp;&nbsp;</span>Объем израсходованного интернет-трафика по месяцам</a></span></li><li><span><a href=\"#Количество-отправленных-сообщений-по-месяцам\" data-toc-modified-id=\"Количество-отправленных-сообщений-по-месяцам-2.9\"><span class=\"toc-item-num\">2.9&nbsp;&nbsp;</span>Количество отправленных сообщений по месяцам</a></span></li><li><span><a href=\"#Группировка-данных\" data-toc-modified-id=\"Группировка-данных-2.10\"><span class=\"toc-item-num\">2.10&nbsp;&nbsp;</span>Группировка данных</a></span></li><li><span><a href=\"#Обработка-дубликатов\" data-toc-modified-id=\"Обработка-дубликатов-2.11\"><span class=\"toc-item-num\">2.11&nbsp;&nbsp;</span>Обработка дубликатов</a></span></li><li><span><a href=\"#Расчет-помесячной-выручки-с-каждого-пользователя\" data-toc-modified-id=\"Расчет-помесячной-выручки-с-каждого-пользователя-2.12\"><span class=\"toc-item-num\">2.12&nbsp;&nbsp;</span>Расчет помесячной выручки с каждого пользователя</a></span></li><li><span><a href=\"#Выводы\" data-toc-modified-id=\"Выводы-2.13\"><span class=\"toc-item-num\">2.13&nbsp;&nbsp;</span>Выводы</a></span></li></ul></li><li><span><a href=\"#Анализ-данных\" data-toc-modified-id=\"Анализ-данных-3\"><span class=\"toc-item-num\">3&nbsp;&nbsp;</span>Анализ данных</a></span><ul class=\"toc-item\"><li><span><a href=\"#Расчет-среднего-значения,-дисперсии-и-стандартного-отклонения\" data-toc-modified-id=\"Расчет-среднего-значения,-дисперсии-и-стандартного-отклонения-3.1\"><span class=\"toc-item-num\">3.1&nbsp;&nbsp;</span>Расчет среднего значения, дисперсии и стандартного отклонения</a></span></li><li><span><a href=\"#Выводы\" data-toc-modified-id=\"Выводы-3.2\"><span class=\"toc-item-num\">3.2&nbsp;&nbsp;</span>Выводы</a></span></li></ul></li><li><span><a href=\"#Проверка-гипотез\" data-toc-modified-id=\"Проверка-гипотез-4\"><span class=\"toc-item-num\">4&nbsp;&nbsp;</span>Проверка гипотез</a></span><ul class=\"toc-item\"><li><span><a href=\"#Проверка-гипотезы:-средняя-выручка-пользователей-тарифов-&quot;Ультра&quot;-и-&quot;Смарт&quot;-различаются.\" data-toc-modified-id=\"Проверка-гипотезы:-средняя-выручка-пользователей-тарифов-&quot;Ультра&quot;-и-&quot;Смарт&quot;-различаются.-4.1\"><span class=\"toc-item-num\">4.1&nbsp;&nbsp;</span>Проверка гипотезы: средняя выручка пользователей тарифов \"Ультра\" и \"Смарт\" различаются.</a></span></li><li><span><a href=\"#Проверка-гипотезы:-средняя-выручка-пользователей-из-Москвы-отличается-от-выручки-пользователей-из-других-регионов.\" data-toc-modified-id=\"Проверка-гипотезы:-средняя-выручка-пользователей-из-Москвы-отличается-от-выручки-пользователей-из-других-регионов.-4.2\"><span class=\"toc-item-num\">4.2&nbsp;&nbsp;</span>Проверка гипотезы: средняя выручка пользователей из Москвы отличается от выручки пользователей из других регионов.</a></span></li></ul></li><li><span><a href=\"#Выводы\" data-toc-modified-id=\"Выводы-5\"><span class=\"toc-item-num\">5&nbsp;&nbsp;</span>Выводы</a></span></li></ul></div>"
   ]
  },
  {
   "cell_type": "markdown",
   "id": "25a39e46",
   "metadata": {},
   "source": [
    "# Тема: Статистический анализ данных\n",
    "# Проект: Определение перспективного тарифа для телеком-компании\n",
    "\n",
    "**Описание проекта**\n",
    "\n",
    "Компания федерального оператора сотовой связи предлагает своим клиентам два тарифных плана: «Смарт» и «Ультра». Необходимо скорректировать рекламный бюджет. Для этого нужно понять, какой тариф приносит больше денег.\n",
    "\n",
    "\n",
    "\n",
    "**Исходные данные:**\n",
    "\n",
    "Данные 500 пользователей: кто они, откуда, каким тарифом пользуются, сколько звонков и сообщений каждый отправил за 2018 год.\n",
    "\n",
    "\n",
    "**Задача:**\n",
    "Сделать предварительный анализ тарифов на небольшой выборке клиентов и определить какой тариф лучше.\n",
    "\n",
    "\n",
    "\n",
    "**Описание тарифов**\n",
    "\n",
    "Тариф «Смарт»\n",
    "1. Ежемесячная плата: 550 рублей\n",
    "2. Включено 500 минут разговора, 50 сообщений и 15 Гб интернет-трафика\n",
    "3. Стоимость услуг сверх тарифного пакета:\n",
    " * минута разговора: 3 рубля\n",
    " * сообщение: 3 рубля\n",
    " * 1 Гб интернет-трафика: 200 рублей\n",
    " \n",
    " \n",
    "Тариф «Ультра»\n",
    "1. Ежемесячная плата: 1950 рублей\n",
    "2. Включено 3000 минут разговора, 1000 сообщений и 30 Гб интернет-трафика\n",
    "3. Стоимость услуг сверх тарифного пакета:\n",
    " * минута разговора: 1 рубль\n",
    " * сообщение: 1 рубль\n",
    " * 1 Гб интернет-трафика: 150 рублей\n",
    " \n",
    "**Примечание:**\n",
    "\n",
    "Оператор всегда округляет секунды до минут, а мегабайты — до гигабайт. Каждый звонок округляется отдельно: даже если он длился всего 1 секунду, будет засчитан как 1 минута.\n",
    "\n",
    "Для веб-трафика отдельные сессии не считаются. Вместо этого общая сумма за месяц округляется в бо́льшую сторону. Если абонент использует 1025 мегабайт в этом месяце, с него возьмут плату за 2 гигабайта."
   ]
  },
  {
   "cell_type": "markdown",
   "id": "156ab867",
   "metadata": {},
   "source": [
    "## Обзор данных"
   ]
  },
  {
   "cell_type": "markdown",
   "id": "e0984bf2",
   "metadata": {},
   "source": [
    "### Импорт библиотек и сохранение данных в переменных"
   ]
  },
  {
   "cell_type": "code",
   "execution_count": 1,
   "id": "5b303d8e",
   "metadata": {},
   "outputs": [],
   "source": [
    "# импортируем необходимые библиотеки и пакеты\n",
    "import pandas as pd\n",
    "\n",
    "import numpy as np\n",
    "\n",
    "import matplotlib.pyplot as plt\n",
    "from scipy import stats as st"
   ]
  },
  {
   "cell_type": "code",
   "execution_count": 2,
   "id": "da2b956f",
   "metadata": {},
   "outputs": [],
   "source": [
    "# cнизим размерность чисел для вывода на экран на всем проекте\n",
    "pd.options.display.float_format = '{:,.2f}'.format"
   ]
  },
  {
   "cell_type": "code",
   "execution_count": 3,
   "id": "3d056816",
   "metadata": {
    "scrolled": true
   },
   "outputs": [],
   "source": [
    "# сохраним данные в переменных df\n",
    "df_calls = pd.read_csv('/datasets/calls.csv')\n",
    "df_internet = pd.read_csv('/datasets/internet.csv', index_col=0)\n",
    "df_messages = pd.read_csv('/datasets/messages.csv')\n",
    "df_tariffs = pd.read_csv('/datasets/tariffs.csv') \n",
    "df_users = pd.read_csv('/datasets/users.csv')"
   ]
  },
  {
   "cell_type": "markdown",
   "id": "07209b39",
   "metadata": {},
   "source": [
    "### Обзор таблицы df_calls"
   ]
  },
  {
   "cell_type": "code",
   "execution_count": 4,
   "id": "c9b2aff6",
   "metadata": {},
   "outputs": [
    {
     "name": "stdout",
     "output_type": "stream",
     "text": [
      "<class 'pandas.core.frame.DataFrame'>\n",
      "RangeIndex: 202607 entries, 0 to 202606\n",
      "Data columns (total 4 columns):\n",
      " #   Column     Non-Null Count   Dtype  \n",
      "---  ------     --------------   -----  \n",
      " 0   id         202607 non-null  object \n",
      " 1   call_date  202607 non-null  object \n",
      " 2   duration   202607 non-null  float64\n",
      " 3   user_id    202607 non-null  int64  \n",
      "dtypes: float64(1), int64(1), object(2)\n",
      "memory usage: 6.2+ MB\n"
     ]
    }
   ],
   "source": [
    "# получим общую информацию о данных в таблице df_calls\n",
    "df_calls.info()"
   ]
  },
  {
   "cell_type": "code",
   "execution_count": 5,
   "id": "7ac98919",
   "metadata": {},
   "outputs": [
    {
     "data": {
      "text/html": [
       "<div>\n",
       "<style scoped>\n",
       "    .dataframe tbody tr th:only-of-type {\n",
       "        vertical-align: middle;\n",
       "    }\n",
       "\n",
       "    .dataframe tbody tr th {\n",
       "        vertical-align: top;\n",
       "    }\n",
       "\n",
       "    .dataframe thead th {\n",
       "        text-align: right;\n",
       "    }\n",
       "</style>\n",
       "<table border=\"1\" class=\"dataframe\">\n",
       "  <thead>\n",
       "    <tr style=\"text-align: right;\">\n",
       "      <th></th>\n",
       "      <th>id</th>\n",
       "      <th>call_date</th>\n",
       "      <th>duration</th>\n",
       "      <th>user_id</th>\n",
       "    </tr>\n",
       "  </thead>\n",
       "  <tbody>\n",
       "    <tr>\n",
       "      <th>0</th>\n",
       "      <td>1000_0</td>\n",
       "      <td>2018-07-25</td>\n",
       "      <td>0.00</td>\n",
       "      <td>1000</td>\n",
       "    </tr>\n",
       "    <tr>\n",
       "      <th>1</th>\n",
       "      <td>1000_1</td>\n",
       "      <td>2018-08-17</td>\n",
       "      <td>0.00</td>\n",
       "      <td>1000</td>\n",
       "    </tr>\n",
       "    <tr>\n",
       "      <th>2</th>\n",
       "      <td>1000_2</td>\n",
       "      <td>2018-06-11</td>\n",
       "      <td>2.85</td>\n",
       "      <td>1000</td>\n",
       "    </tr>\n",
       "    <tr>\n",
       "      <th>3</th>\n",
       "      <td>1000_3</td>\n",
       "      <td>2018-09-21</td>\n",
       "      <td>13.80</td>\n",
       "      <td>1000</td>\n",
       "    </tr>\n",
       "    <tr>\n",
       "      <th>4</th>\n",
       "      <td>1000_4</td>\n",
       "      <td>2018-12-15</td>\n",
       "      <td>5.18</td>\n",
       "      <td>1000</td>\n",
       "    </tr>\n",
       "    <tr>\n",
       "      <th>5</th>\n",
       "      <td>1000_5</td>\n",
       "      <td>2018-11-02</td>\n",
       "      <td>0.00</td>\n",
       "      <td>1000</td>\n",
       "    </tr>\n",
       "    <tr>\n",
       "      <th>6</th>\n",
       "      <td>1000_6</td>\n",
       "      <td>2018-10-18</td>\n",
       "      <td>0.00</td>\n",
       "      <td>1000</td>\n",
       "    </tr>\n",
       "    <tr>\n",
       "      <th>7</th>\n",
       "      <td>1000_7</td>\n",
       "      <td>2018-08-22</td>\n",
       "      <td>18.31</td>\n",
       "      <td>1000</td>\n",
       "    </tr>\n",
       "    <tr>\n",
       "      <th>8</th>\n",
       "      <td>1000_8</td>\n",
       "      <td>2018-09-15</td>\n",
       "      <td>18.44</td>\n",
       "      <td>1000</td>\n",
       "    </tr>\n",
       "    <tr>\n",
       "      <th>9</th>\n",
       "      <td>1000_9</td>\n",
       "      <td>2018-08-15</td>\n",
       "      <td>0.00</td>\n",
       "      <td>1000</td>\n",
       "    </tr>\n",
       "  </tbody>\n",
       "</table>\n",
       "</div>"
      ],
      "text/plain": [
       "       id   call_date  duration  user_id\n",
       "0  1000_0  2018-07-25      0.00     1000\n",
       "1  1000_1  2018-08-17      0.00     1000\n",
       "2  1000_2  2018-06-11      2.85     1000\n",
       "3  1000_3  2018-09-21     13.80     1000\n",
       "4  1000_4  2018-12-15      5.18     1000\n",
       "5  1000_5  2018-11-02      0.00     1000\n",
       "6  1000_6  2018-10-18      0.00     1000\n",
       "7  1000_7  2018-08-22     18.31     1000\n",
       "8  1000_8  2018-09-15     18.44     1000\n",
       "9  1000_9  2018-08-15      0.00     1000"
      ]
     },
     "execution_count": 5,
     "metadata": {},
     "output_type": "execute_result"
    }
   ],
   "source": [
    "# изучим содержимое первых 10 строк таблицы\n",
    "df_calls.head(10)"
   ]
  },
  {
   "cell_type": "code",
   "execution_count": 6,
   "id": "71d75bf3",
   "metadata": {},
   "outputs": [
    {
     "data": {
      "text/plain": [
       "Index(['id', 'call_date', 'duration', 'user_id'], dtype='object')"
      ]
     },
     "execution_count": 6,
     "metadata": {},
     "output_type": "execute_result"
    }
   ],
   "source": [
    "# изучим название столбцов таблицы df_calls\n",
    "df_calls.columns"
   ]
  },
  {
   "cell_type": "markdown",
   "id": "117b14a6",
   "metadata": {},
   "source": [
    "### Обзор таблицы df_internet"
   ]
  },
  {
   "cell_type": "code",
   "execution_count": 7,
   "id": "8f1927d1",
   "metadata": {},
   "outputs": [
    {
     "name": "stdout",
     "output_type": "stream",
     "text": [
      "<class 'pandas.core.frame.DataFrame'>\n",
      "Int64Index: 149396 entries, 0 to 149395\n",
      "Data columns (total 4 columns):\n",
      " #   Column        Non-Null Count   Dtype  \n",
      "---  ------        --------------   -----  \n",
      " 0   id            149396 non-null  object \n",
      " 1   mb_used       149396 non-null  float64\n",
      " 2   session_date  149396 non-null  object \n",
      " 3   user_id       149396 non-null  int64  \n",
      "dtypes: float64(1), int64(1), object(2)\n",
      "memory usage: 5.7+ MB\n"
     ]
    }
   ],
   "source": [
    "df_internet.info()"
   ]
  },
  {
   "cell_type": "code",
   "execution_count": 8,
   "id": "30162104",
   "metadata": {},
   "outputs": [
    {
     "data": {
      "text/html": [
       "<div>\n",
       "<style scoped>\n",
       "    .dataframe tbody tr th:only-of-type {\n",
       "        vertical-align: middle;\n",
       "    }\n",
       "\n",
       "    .dataframe tbody tr th {\n",
       "        vertical-align: top;\n",
       "    }\n",
       "\n",
       "    .dataframe thead th {\n",
       "        text-align: right;\n",
       "    }\n",
       "</style>\n",
       "<table border=\"1\" class=\"dataframe\">\n",
       "  <thead>\n",
       "    <tr style=\"text-align: right;\">\n",
       "      <th></th>\n",
       "      <th>id</th>\n",
       "      <th>mb_used</th>\n",
       "      <th>session_date</th>\n",
       "      <th>user_id</th>\n",
       "    </tr>\n",
       "  </thead>\n",
       "  <tbody>\n",
       "    <tr>\n",
       "      <th>0</th>\n",
       "      <td>1000_0</td>\n",
       "      <td>112.95</td>\n",
       "      <td>2018-11-25</td>\n",
       "      <td>1000</td>\n",
       "    </tr>\n",
       "    <tr>\n",
       "      <th>1</th>\n",
       "      <td>1000_1</td>\n",
       "      <td>1,052.81</td>\n",
       "      <td>2018-09-07</td>\n",
       "      <td>1000</td>\n",
       "    </tr>\n",
       "    <tr>\n",
       "      <th>2</th>\n",
       "      <td>1000_2</td>\n",
       "      <td>1,197.26</td>\n",
       "      <td>2018-06-25</td>\n",
       "      <td>1000</td>\n",
       "    </tr>\n",
       "    <tr>\n",
       "      <th>3</th>\n",
       "      <td>1000_3</td>\n",
       "      <td>550.27</td>\n",
       "      <td>2018-08-22</td>\n",
       "      <td>1000</td>\n",
       "    </tr>\n",
       "    <tr>\n",
       "      <th>4</th>\n",
       "      <td>1000_4</td>\n",
       "      <td>302.56</td>\n",
       "      <td>2018-09-24</td>\n",
       "      <td>1000</td>\n",
       "    </tr>\n",
       "    <tr>\n",
       "      <th>5</th>\n",
       "      <td>1000_5</td>\n",
       "      <td>399.97</td>\n",
       "      <td>2018-10-02</td>\n",
       "      <td>1000</td>\n",
       "    </tr>\n",
       "    <tr>\n",
       "      <th>6</th>\n",
       "      <td>1000_6</td>\n",
       "      <td>540.08</td>\n",
       "      <td>2018-09-07</td>\n",
       "      <td>1000</td>\n",
       "    </tr>\n",
       "    <tr>\n",
       "      <th>7</th>\n",
       "      <td>1000_7</td>\n",
       "      <td>415.70</td>\n",
       "      <td>2018-07-11</td>\n",
       "      <td>1000</td>\n",
       "    </tr>\n",
       "    <tr>\n",
       "      <th>8</th>\n",
       "      <td>1000_8</td>\n",
       "      <td>505.40</td>\n",
       "      <td>2018-10-08</td>\n",
       "      <td>1000</td>\n",
       "    </tr>\n",
       "    <tr>\n",
       "      <th>9</th>\n",
       "      <td>1000_9</td>\n",
       "      <td>345.54</td>\n",
       "      <td>2018-09-03</td>\n",
       "      <td>1000</td>\n",
       "    </tr>\n",
       "  </tbody>\n",
       "</table>\n",
       "</div>"
      ],
      "text/plain": [
       "       id  mb_used session_date  user_id\n",
       "0  1000_0   112.95   2018-11-25     1000\n",
       "1  1000_1 1,052.81   2018-09-07     1000\n",
       "2  1000_2 1,197.26   2018-06-25     1000\n",
       "3  1000_3   550.27   2018-08-22     1000\n",
       "4  1000_4   302.56   2018-09-24     1000\n",
       "5  1000_5   399.97   2018-10-02     1000\n",
       "6  1000_6   540.08   2018-09-07     1000\n",
       "7  1000_7   415.70   2018-07-11     1000\n",
       "8  1000_8   505.40   2018-10-08     1000\n",
       "9  1000_9   345.54   2018-09-03     1000"
      ]
     },
     "execution_count": 8,
     "metadata": {},
     "output_type": "execute_result"
    }
   ],
   "source": [
    "df_internet.head(10)"
   ]
  },
  {
   "cell_type": "code",
   "execution_count": 9,
   "id": "b1db8376",
   "metadata": {},
   "outputs": [
    {
     "data": {
      "text/plain": [
       "Index(['id', 'mb_used', 'session_date', 'user_id'], dtype='object')"
      ]
     },
     "execution_count": 9,
     "metadata": {},
     "output_type": "execute_result"
    }
   ],
   "source": [
    "# изучим название столбцов таблицы df_internet\n",
    "df_internet.columns"
   ]
  },
  {
   "cell_type": "markdown",
   "id": "e104c240",
   "metadata": {},
   "source": [
    "### Обзор таблицы df_messages"
   ]
  },
  {
   "cell_type": "code",
   "execution_count": 10,
   "id": "6cbb51a4",
   "metadata": {},
   "outputs": [
    {
     "name": "stdout",
     "output_type": "stream",
     "text": [
      "<class 'pandas.core.frame.DataFrame'>\n",
      "RangeIndex: 123036 entries, 0 to 123035\n",
      "Data columns (total 3 columns):\n",
      " #   Column        Non-Null Count   Dtype \n",
      "---  ------        --------------   ----- \n",
      " 0   id            123036 non-null  object\n",
      " 1   message_date  123036 non-null  object\n",
      " 2   user_id       123036 non-null  int64 \n",
      "dtypes: int64(1), object(2)\n",
      "memory usage: 2.8+ MB\n"
     ]
    }
   ],
   "source": [
    "df_messages.info()"
   ]
  },
  {
   "cell_type": "code",
   "execution_count": 11,
   "id": "6a9fb4c3",
   "metadata": {},
   "outputs": [
    {
     "data": {
      "text/html": [
       "<div>\n",
       "<style scoped>\n",
       "    .dataframe tbody tr th:only-of-type {\n",
       "        vertical-align: middle;\n",
       "    }\n",
       "\n",
       "    .dataframe tbody tr th {\n",
       "        vertical-align: top;\n",
       "    }\n",
       "\n",
       "    .dataframe thead th {\n",
       "        text-align: right;\n",
       "    }\n",
       "</style>\n",
       "<table border=\"1\" class=\"dataframe\">\n",
       "  <thead>\n",
       "    <tr style=\"text-align: right;\">\n",
       "      <th></th>\n",
       "      <th>id</th>\n",
       "      <th>message_date</th>\n",
       "      <th>user_id</th>\n",
       "    </tr>\n",
       "  </thead>\n",
       "  <tbody>\n",
       "    <tr>\n",
       "      <th>0</th>\n",
       "      <td>1000_0</td>\n",
       "      <td>2018-06-27</td>\n",
       "      <td>1000</td>\n",
       "    </tr>\n",
       "    <tr>\n",
       "      <th>1</th>\n",
       "      <td>1000_1</td>\n",
       "      <td>2018-10-08</td>\n",
       "      <td>1000</td>\n",
       "    </tr>\n",
       "    <tr>\n",
       "      <th>2</th>\n",
       "      <td>1000_2</td>\n",
       "      <td>2018-08-04</td>\n",
       "      <td>1000</td>\n",
       "    </tr>\n",
       "    <tr>\n",
       "      <th>3</th>\n",
       "      <td>1000_3</td>\n",
       "      <td>2018-06-16</td>\n",
       "      <td>1000</td>\n",
       "    </tr>\n",
       "    <tr>\n",
       "      <th>4</th>\n",
       "      <td>1000_4</td>\n",
       "      <td>2018-12-05</td>\n",
       "      <td>1000</td>\n",
       "    </tr>\n",
       "    <tr>\n",
       "      <th>5</th>\n",
       "      <td>1000_5</td>\n",
       "      <td>2018-06-20</td>\n",
       "      <td>1000</td>\n",
       "    </tr>\n",
       "    <tr>\n",
       "      <th>6</th>\n",
       "      <td>1000_6</td>\n",
       "      <td>2018-11-19</td>\n",
       "      <td>1000</td>\n",
       "    </tr>\n",
       "    <tr>\n",
       "      <th>7</th>\n",
       "      <td>1000_7</td>\n",
       "      <td>2018-10-29</td>\n",
       "      <td>1000</td>\n",
       "    </tr>\n",
       "    <tr>\n",
       "      <th>8</th>\n",
       "      <td>1000_8</td>\n",
       "      <td>2018-06-25</td>\n",
       "      <td>1000</td>\n",
       "    </tr>\n",
       "    <tr>\n",
       "      <th>9</th>\n",
       "      <td>1000_9</td>\n",
       "      <td>2018-12-18</td>\n",
       "      <td>1000</td>\n",
       "    </tr>\n",
       "  </tbody>\n",
       "</table>\n",
       "</div>"
      ],
      "text/plain": [
       "       id message_date  user_id\n",
       "0  1000_0   2018-06-27     1000\n",
       "1  1000_1   2018-10-08     1000\n",
       "2  1000_2   2018-08-04     1000\n",
       "3  1000_3   2018-06-16     1000\n",
       "4  1000_4   2018-12-05     1000\n",
       "5  1000_5   2018-06-20     1000\n",
       "6  1000_6   2018-11-19     1000\n",
       "7  1000_7   2018-10-29     1000\n",
       "8  1000_8   2018-06-25     1000\n",
       "9  1000_9   2018-12-18     1000"
      ]
     },
     "execution_count": 11,
     "metadata": {},
     "output_type": "execute_result"
    }
   ],
   "source": [
    "df_messages.head(10)"
   ]
  },
  {
   "cell_type": "code",
   "execution_count": 12,
   "id": "e218c5a3",
   "metadata": {},
   "outputs": [
    {
     "data": {
      "text/plain": [
       "Index(['id', 'message_date', 'user_id'], dtype='object')"
      ]
     },
     "execution_count": 12,
     "metadata": {},
     "output_type": "execute_result"
    }
   ],
   "source": [
    "# изучим название столбцов таблицы df_messages\n",
    "df_messages.columns"
   ]
  },
  {
   "cell_type": "markdown",
   "id": "e894b35f",
   "metadata": {},
   "source": [
    "### Обзор таблицы df_tariffs"
   ]
  },
  {
   "cell_type": "code",
   "execution_count": 13,
   "id": "c6f87b6b",
   "metadata": {},
   "outputs": [
    {
     "name": "stdout",
     "output_type": "stream",
     "text": [
      "<class 'pandas.core.frame.DataFrame'>\n",
      "RangeIndex: 2 entries, 0 to 1\n",
      "Data columns (total 8 columns):\n",
      " #   Column                 Non-Null Count  Dtype \n",
      "---  ------                 --------------  ----- \n",
      " 0   messages_included      2 non-null      int64 \n",
      " 1   mb_per_month_included  2 non-null      int64 \n",
      " 2   minutes_included       2 non-null      int64 \n",
      " 3   rub_monthly_fee        2 non-null      int64 \n",
      " 4   rub_per_gb             2 non-null      int64 \n",
      " 5   rub_per_message        2 non-null      int64 \n",
      " 6   rub_per_minute         2 non-null      int64 \n",
      " 7   tariff_name            2 non-null      object\n",
      "dtypes: int64(7), object(1)\n",
      "memory usage: 256.0+ bytes\n"
     ]
    }
   ],
   "source": [
    "df_tariffs.info()"
   ]
  },
  {
   "cell_type": "code",
   "execution_count": 14,
   "id": "ee0c507d",
   "metadata": {},
   "outputs": [
    {
     "data": {
      "text/html": [
       "<div>\n",
       "<style scoped>\n",
       "    .dataframe tbody tr th:only-of-type {\n",
       "        vertical-align: middle;\n",
       "    }\n",
       "\n",
       "    .dataframe tbody tr th {\n",
       "        vertical-align: top;\n",
       "    }\n",
       "\n",
       "    .dataframe thead th {\n",
       "        text-align: right;\n",
       "    }\n",
       "</style>\n",
       "<table border=\"1\" class=\"dataframe\">\n",
       "  <thead>\n",
       "    <tr style=\"text-align: right;\">\n",
       "      <th></th>\n",
       "      <th>messages_included</th>\n",
       "      <th>mb_per_month_included</th>\n",
       "      <th>minutes_included</th>\n",
       "      <th>rub_monthly_fee</th>\n",
       "      <th>rub_per_gb</th>\n",
       "      <th>rub_per_message</th>\n",
       "      <th>rub_per_minute</th>\n",
       "      <th>tariff_name</th>\n",
       "    </tr>\n",
       "  </thead>\n",
       "  <tbody>\n",
       "    <tr>\n",
       "      <th>0</th>\n",
       "      <td>50</td>\n",
       "      <td>15360</td>\n",
       "      <td>500</td>\n",
       "      <td>550</td>\n",
       "      <td>200</td>\n",
       "      <td>3</td>\n",
       "      <td>3</td>\n",
       "      <td>smart</td>\n",
       "    </tr>\n",
       "    <tr>\n",
       "      <th>1</th>\n",
       "      <td>1000</td>\n",
       "      <td>30720</td>\n",
       "      <td>3000</td>\n",
       "      <td>1950</td>\n",
       "      <td>150</td>\n",
       "      <td>1</td>\n",
       "      <td>1</td>\n",
       "      <td>ultra</td>\n",
       "    </tr>\n",
       "  </tbody>\n",
       "</table>\n",
       "</div>"
      ],
      "text/plain": [
       "   messages_included  mb_per_month_included  minutes_included  \\\n",
       "0                 50                  15360               500   \n",
       "1               1000                  30720              3000   \n",
       "\n",
       "   rub_monthly_fee  rub_per_gb  rub_per_message  rub_per_minute tariff_name  \n",
       "0              550         200                3               3       smart  \n",
       "1             1950         150                1               1       ultra  "
      ]
     },
     "execution_count": 14,
     "metadata": {},
     "output_type": "execute_result"
    }
   ],
   "source": [
    "df_tariffs.head()"
   ]
  },
  {
   "cell_type": "code",
   "execution_count": 15,
   "id": "5a2fff04",
   "metadata": {},
   "outputs": [
    {
     "data": {
      "text/plain": [
       "Index(['messages_included', 'mb_per_month_included', 'minutes_included',\n",
       "       'rub_monthly_fee', 'rub_per_gb', 'rub_per_message', 'rub_per_minute',\n",
       "       'tariff_name'],\n",
       "      dtype='object')"
      ]
     },
     "execution_count": 15,
     "metadata": {},
     "output_type": "execute_result"
    }
   ],
   "source": [
    "# изучим название столбцов таблицы df_messages\n",
    "df_tariffs.columns"
   ]
  },
  {
   "cell_type": "markdown",
   "id": "9c91cbf9",
   "metadata": {},
   "source": [
    "### Обзор таблицы df_users"
   ]
  },
  {
   "cell_type": "code",
   "execution_count": 16,
   "id": "0ecdd3c3",
   "metadata": {},
   "outputs": [
    {
     "name": "stdout",
     "output_type": "stream",
     "text": [
      "<class 'pandas.core.frame.DataFrame'>\n",
      "RangeIndex: 500 entries, 0 to 499\n",
      "Data columns (total 8 columns):\n",
      " #   Column      Non-Null Count  Dtype \n",
      "---  ------      --------------  ----- \n",
      " 0   user_id     500 non-null    int64 \n",
      " 1   age         500 non-null    int64 \n",
      " 2   churn_date  38 non-null     object\n",
      " 3   city        500 non-null    object\n",
      " 4   first_name  500 non-null    object\n",
      " 5   last_name   500 non-null    object\n",
      " 6   reg_date    500 non-null    object\n",
      " 7   tariff      500 non-null    object\n",
      "dtypes: int64(2), object(6)\n",
      "memory usage: 31.4+ KB\n"
     ]
    }
   ],
   "source": [
    "df_users.info()"
   ]
  },
  {
   "cell_type": "code",
   "execution_count": 17,
   "id": "917fef1a",
   "metadata": {},
   "outputs": [
    {
     "data": {
      "text/html": [
       "<div>\n",
       "<style scoped>\n",
       "    .dataframe tbody tr th:only-of-type {\n",
       "        vertical-align: middle;\n",
       "    }\n",
       "\n",
       "    .dataframe tbody tr th {\n",
       "        vertical-align: top;\n",
       "    }\n",
       "\n",
       "    .dataframe thead th {\n",
       "        text-align: right;\n",
       "    }\n",
       "</style>\n",
       "<table border=\"1\" class=\"dataframe\">\n",
       "  <thead>\n",
       "    <tr style=\"text-align: right;\">\n",
       "      <th></th>\n",
       "      <th>user_id</th>\n",
       "      <th>age</th>\n",
       "      <th>churn_date</th>\n",
       "      <th>city</th>\n",
       "      <th>first_name</th>\n",
       "      <th>last_name</th>\n",
       "      <th>reg_date</th>\n",
       "      <th>tariff</th>\n",
       "    </tr>\n",
       "  </thead>\n",
       "  <tbody>\n",
       "    <tr>\n",
       "      <th>0</th>\n",
       "      <td>1000</td>\n",
       "      <td>52</td>\n",
       "      <td>NaN</td>\n",
       "      <td>Краснодар</td>\n",
       "      <td>Рафаил</td>\n",
       "      <td>Верещагин</td>\n",
       "      <td>2018-05-25</td>\n",
       "      <td>ultra</td>\n",
       "    </tr>\n",
       "    <tr>\n",
       "      <th>1</th>\n",
       "      <td>1001</td>\n",
       "      <td>41</td>\n",
       "      <td>NaN</td>\n",
       "      <td>Москва</td>\n",
       "      <td>Иван</td>\n",
       "      <td>Ежов</td>\n",
       "      <td>2018-11-01</td>\n",
       "      <td>smart</td>\n",
       "    </tr>\n",
       "    <tr>\n",
       "      <th>2</th>\n",
       "      <td>1002</td>\n",
       "      <td>59</td>\n",
       "      <td>NaN</td>\n",
       "      <td>Стерлитамак</td>\n",
       "      <td>Евгений</td>\n",
       "      <td>Абрамович</td>\n",
       "      <td>2018-06-17</td>\n",
       "      <td>smart</td>\n",
       "    </tr>\n",
       "    <tr>\n",
       "      <th>3</th>\n",
       "      <td>1003</td>\n",
       "      <td>23</td>\n",
       "      <td>NaN</td>\n",
       "      <td>Москва</td>\n",
       "      <td>Белла</td>\n",
       "      <td>Белякова</td>\n",
       "      <td>2018-08-17</td>\n",
       "      <td>ultra</td>\n",
       "    </tr>\n",
       "    <tr>\n",
       "      <th>4</th>\n",
       "      <td>1004</td>\n",
       "      <td>68</td>\n",
       "      <td>NaN</td>\n",
       "      <td>Новокузнецк</td>\n",
       "      <td>Татьяна</td>\n",
       "      <td>Авдеенко</td>\n",
       "      <td>2018-05-14</td>\n",
       "      <td>ultra</td>\n",
       "    </tr>\n",
       "    <tr>\n",
       "      <th>5</th>\n",
       "      <td>1005</td>\n",
       "      <td>67</td>\n",
       "      <td>NaN</td>\n",
       "      <td>Набережные Челны</td>\n",
       "      <td>Афанасий</td>\n",
       "      <td>Горлов</td>\n",
       "      <td>2018-01-25</td>\n",
       "      <td>smart</td>\n",
       "    </tr>\n",
       "    <tr>\n",
       "      <th>6</th>\n",
       "      <td>1006</td>\n",
       "      <td>21</td>\n",
       "      <td>NaN</td>\n",
       "      <td>Ульяновск</td>\n",
       "      <td>Леонид</td>\n",
       "      <td>Ермолаев</td>\n",
       "      <td>2018-02-26</td>\n",
       "      <td>smart</td>\n",
       "    </tr>\n",
       "    <tr>\n",
       "      <th>7</th>\n",
       "      <td>1007</td>\n",
       "      <td>65</td>\n",
       "      <td>NaN</td>\n",
       "      <td>Москва</td>\n",
       "      <td>Юна</td>\n",
       "      <td>Березина</td>\n",
       "      <td>2018-04-19</td>\n",
       "      <td>smart</td>\n",
       "    </tr>\n",
       "    <tr>\n",
       "      <th>8</th>\n",
       "      <td>1008</td>\n",
       "      <td>63</td>\n",
       "      <td>NaN</td>\n",
       "      <td>Челябинск</td>\n",
       "      <td>Рустэм</td>\n",
       "      <td>Пономарёв</td>\n",
       "      <td>2018-12-19</td>\n",
       "      <td>smart</td>\n",
       "    </tr>\n",
       "    <tr>\n",
       "      <th>9</th>\n",
       "      <td>1009</td>\n",
       "      <td>24</td>\n",
       "      <td>NaN</td>\n",
       "      <td>Пермь</td>\n",
       "      <td>Василиса</td>\n",
       "      <td>Блинова</td>\n",
       "      <td>2018-03-22</td>\n",
       "      <td>smart</td>\n",
       "    </tr>\n",
       "  </tbody>\n",
       "</table>\n",
       "</div>"
      ],
      "text/plain": [
       "   user_id  age churn_date              city first_name  last_name  \\\n",
       "0     1000   52        NaN         Краснодар     Рафаил  Верещагин   \n",
       "1     1001   41        NaN            Москва       Иван       Ежов   \n",
       "2     1002   59        NaN       Стерлитамак    Евгений  Абрамович   \n",
       "3     1003   23        NaN            Москва      Белла   Белякова   \n",
       "4     1004   68        NaN       Новокузнецк    Татьяна   Авдеенко   \n",
       "5     1005   67        NaN  Набережные Челны   Афанасий     Горлов   \n",
       "6     1006   21        NaN         Ульяновск     Леонид   Ермолаев   \n",
       "7     1007   65        NaN            Москва        Юна   Березина   \n",
       "8     1008   63        NaN         Челябинск     Рустэм  Пономарёв   \n",
       "9     1009   24        NaN             Пермь   Василиса    Блинова   \n",
       "\n",
       "     reg_date tariff  \n",
       "0  2018-05-25  ultra  \n",
       "1  2018-11-01  smart  \n",
       "2  2018-06-17  smart  \n",
       "3  2018-08-17  ultra  \n",
       "4  2018-05-14  ultra  \n",
       "5  2018-01-25  smart  \n",
       "6  2018-02-26  smart  \n",
       "7  2018-04-19  smart  \n",
       "8  2018-12-19  smart  \n",
       "9  2018-03-22  smart  "
      ]
     },
     "execution_count": 17,
     "metadata": {},
     "output_type": "execute_result"
    }
   ],
   "source": [
    "df_users.head(10)"
   ]
  },
  {
   "cell_type": "code",
   "execution_count": 18,
   "id": "b7db8425",
   "metadata": {},
   "outputs": [
    {
     "data": {
      "text/plain": [
       "Index(['user_id', 'age', 'churn_date', 'city', 'first_name', 'last_name',\n",
       "       'reg_date', 'tariff'],\n",
       "      dtype='object')"
      ]
     },
     "execution_count": 18,
     "metadata": {},
     "output_type": "execute_result"
    }
   ],
   "source": [
    "# изучим название столбцов таблицы df_users\n",
    "df_users.columns"
   ]
  },
  {
   "cell_type": "markdown",
   "id": "196c9f38",
   "metadata": {},
   "source": [
    "**Описание данных**\n",
    "\n",
    "\n",
    "\n",
    "Таблица `calls` (информация о звонках):\n",
    "\n",
    "* id — уникальный номер звонка\n",
    "* call_date — дата звонка\n",
    "* duration — длительность звонка в минутах\n",
    "* user_id — идентификатор пользователя, сделавшего звонок\n",
    "\n",
    "Таблица `internet` (информация об интернет-сессиях):\n",
    "\n",
    "* id — уникальный номер сессии\n",
    "* mb_used — объём потраченного за сессию интернет-трафика (в мегабайтах)\n",
    "* session_date — дата интернет-сессии\n",
    "* user_id — идентификатор пользователя\n",
    "\n",
    "Таблица `messages` (информация о сообщениях):\n",
    "\n",
    "* id — уникальный номер сообщения\n",
    "* message_date — дата сообщения\n",
    "* user_id — идентификатор пользователя, отправившего сообщение\n",
    "\n",
    "\n",
    "Таблица `tariffs` (информация о тарифах):\n",
    "\n",
    "* tariff_name — название тарифа\n",
    "* rub_monthly_fee — ежемесячная абонентская плата в рублях\n",
    "* minutes_included — количество минут разговора в месяц, включённых в абонентскую плату\n",
    "* messages_included — количество сообщений в месяц, включённых в абонентскую плату\n",
    "* mb_per_month_included — объём интернет-трафика, включённого в абонентскую плату (в мегабайтах)\n",
    "* rub_per_minute — стоимость минуты разговора сверх тарифного пакета (например, если в тарифе 100 минут разговора в месяц, то со 101 минуты будет взиматься плата)\n",
    "* rub_per_message — стоимость отправки сообщения сверх тарифного пакета\n",
    "* rub_per_gb — стоимость дополнительного гигабайта интернет-трафика сверх тарифного пакета (1 гигабайт = 1024 мегабайта)\n",
    "\n",
    "Таблица `users` (информация о пользователях):\n",
    "\n",
    "* user_id — уникальный идентификатор пользователя\n",
    "* first_name — имя пользователя\n",
    "* last_name — фамилия пользователя\n",
    "* age — возраст пользователя (годы)\n",
    "* reg_date — дата подключения тарифа (день, месяц, год)\n",
    "* churn_date — дата прекращения пользования тарифом (если значение пропущено, то тариф ещё действовал на момент выгрузки данных)\n",
    "* city — город проживания пользователя\n",
    "* tariff — название тарифного плана"
   ]
  },
  {
   "cell_type": "markdown",
   "id": "dc0cfbdb",
   "metadata": {},
   "source": [
    "###  Выводы"
   ]
  },
  {
   "cell_type": "markdown",
   "id": "8f871594",
   "metadata": {},
   "source": [
    "В названиях колонок нарушения стиля нет. В таблицах все столбцы с датой находятся в формате object. Их необходимо заменить на datetime64."
   ]
  },
  {
   "cell_type": "markdown",
   "id": "b85c9606",
   "metadata": {},
   "source": [
    "## Подготовка данных"
   ]
  },
  {
   "cell_type": "markdown",
   "id": "6f5dc6fb",
   "metadata": {},
   "source": [
    "### Обраборка таблицы df_calls"
   ]
  },
  {
   "cell_type": "code",
   "execution_count": 19,
   "id": "c57386ee",
   "metadata": {},
   "outputs": [
    {
     "data": {
      "text/plain": [
       "id           0\n",
       "call_date    0\n",
       "duration     0\n",
       "user_id      0\n",
       "dtype: int64"
      ]
     },
     "execution_count": 19,
     "metadata": {},
     "output_type": "execute_result"
    }
   ],
   "source": [
    "# найдем пропуски\n",
    "df_calls.isna().sum().sort_values()"
   ]
  },
  {
   "cell_type": "code",
   "execution_count": 20,
   "id": "f0a1fb53",
   "metadata": {},
   "outputs": [],
   "source": [
    "# изменим формат данных столбца call_date на datetime64\n",
    "df_calls['call_date'] = pd.to_datetime(df_calls['call_date'], format='%Y-%m-%d')"
   ]
  },
  {
   "cell_type": "code",
   "execution_count": 21,
   "id": "f4fde6ef",
   "metadata": {
    "scrolled": true
   },
   "outputs": [
    {
     "data": {
      "text/plain": [
       "id                   object\n",
       "call_date    datetime64[ns]\n",
       "duration            float64\n",
       "user_id               int64\n",
       "dtype: object"
      ]
     },
     "execution_count": 21,
     "metadata": {},
     "output_type": "execute_result"
    }
   ],
   "source": [
    "# проверим изменился ли формат\n",
    "df_calls.dtypes"
   ]
  },
  {
   "cell_type": "code",
   "execution_count": 22,
   "id": "f5239ae3",
   "metadata": {},
   "outputs": [
    {
     "data": {
      "text/html": [
       "<div>\n",
       "<style scoped>\n",
       "    .dataframe tbody tr th:only-of-type {\n",
       "        vertical-align: middle;\n",
       "    }\n",
       "\n",
       "    .dataframe tbody tr th {\n",
       "        vertical-align: top;\n",
       "    }\n",
       "\n",
       "    .dataframe thead th {\n",
       "        text-align: right;\n",
       "    }\n",
       "</style>\n",
       "<table border=\"1\" class=\"dataframe\">\n",
       "  <thead>\n",
       "    <tr style=\"text-align: right;\">\n",
       "      <th></th>\n",
       "      <th>duration</th>\n",
       "      <th>user_id</th>\n",
       "    </tr>\n",
       "  </thead>\n",
       "  <tbody>\n",
       "    <tr>\n",
       "      <th>count</th>\n",
       "      <td>202,607.00</td>\n",
       "      <td>202,607.00</td>\n",
       "    </tr>\n",
       "    <tr>\n",
       "      <th>mean</th>\n",
       "      <td>6.76</td>\n",
       "      <td>1,253.94</td>\n",
       "    </tr>\n",
       "    <tr>\n",
       "      <th>std</th>\n",
       "      <td>5.84</td>\n",
       "      <td>144.72</td>\n",
       "    </tr>\n",
       "    <tr>\n",
       "      <th>min</th>\n",
       "      <td>0.00</td>\n",
       "      <td>1,000.00</td>\n",
       "    </tr>\n",
       "    <tr>\n",
       "      <th>25%</th>\n",
       "      <td>1.30</td>\n",
       "      <td>1,126.00</td>\n",
       "    </tr>\n",
       "    <tr>\n",
       "      <th>50%</th>\n",
       "      <td>6.00</td>\n",
       "      <td>1,260.00</td>\n",
       "    </tr>\n",
       "    <tr>\n",
       "      <th>75%</th>\n",
       "      <td>10.70</td>\n",
       "      <td>1,379.00</td>\n",
       "    </tr>\n",
       "    <tr>\n",
       "      <th>max</th>\n",
       "      <td>38.00</td>\n",
       "      <td>1,499.00</td>\n",
       "    </tr>\n",
       "  </tbody>\n",
       "</table>\n",
       "</div>"
      ],
      "text/plain": [
       "        duration    user_id\n",
       "count 202,607.00 202,607.00\n",
       "mean        6.76   1,253.94\n",
       "std         5.84     144.72\n",
       "min         0.00   1,000.00\n",
       "25%         1.30   1,126.00\n",
       "50%         6.00   1,260.00\n",
       "75%        10.70   1,379.00\n",
       "max        38.00   1,499.00"
      ]
     },
     "execution_count": 22,
     "metadata": {},
     "output_type": "execute_result"
    }
   ],
   "source": [
    "# изучим характеристики, дающие представление о выборке\n",
    "df_calls.describe()"
   ]
  },
  {
   "cell_type": "markdown",
   "id": "47ff1fea",
   "metadata": {},
   "source": [
    "### Обраборка таблицы df_internet"
   ]
  },
  {
   "cell_type": "code",
   "execution_count": 23,
   "id": "aa3b0000",
   "metadata": {},
   "outputs": [
    {
     "data": {
      "text/plain": [
       "id              0\n",
       "mb_used         0\n",
       "session_date    0\n",
       "user_id         0\n",
       "dtype: int64"
      ]
     },
     "execution_count": 23,
     "metadata": {},
     "output_type": "execute_result"
    }
   ],
   "source": [
    "# найдем пропуски\n",
    "df_internet.isna().sum().sort_values()"
   ]
  },
  {
   "cell_type": "code",
   "execution_count": 24,
   "id": "7e33710b",
   "metadata": {},
   "outputs": [],
   "source": [
    "# изменим формат данных столбца session_date на datetime64\n",
    "df_internet['session_date'] = pd.to_datetime(df_internet['session_date'], format='%Y-%m-%d')"
   ]
  },
  {
   "cell_type": "code",
   "execution_count": 25,
   "id": "3dbbf3a2",
   "metadata": {
    "scrolled": true
   },
   "outputs": [
    {
     "data": {
      "text/plain": [
       "id                      object\n",
       "mb_used                float64\n",
       "session_date    datetime64[ns]\n",
       "user_id                  int64\n",
       "dtype: object"
      ]
     },
     "execution_count": 25,
     "metadata": {},
     "output_type": "execute_result"
    }
   ],
   "source": [
    "# проверим изменился ли формат\n",
    "df_internet.dtypes"
   ]
  },
  {
   "cell_type": "code",
   "execution_count": 26,
   "id": "db50816f",
   "metadata": {},
   "outputs": [
    {
     "data": {
      "text/html": [
       "<div>\n",
       "<style scoped>\n",
       "    .dataframe tbody tr th:only-of-type {\n",
       "        vertical-align: middle;\n",
       "    }\n",
       "\n",
       "    .dataframe tbody tr th {\n",
       "        vertical-align: top;\n",
       "    }\n",
       "\n",
       "    .dataframe thead th {\n",
       "        text-align: right;\n",
       "    }\n",
       "</style>\n",
       "<table border=\"1\" class=\"dataframe\">\n",
       "  <thead>\n",
       "    <tr style=\"text-align: right;\">\n",
       "      <th></th>\n",
       "      <th>mb_used</th>\n",
       "      <th>user_id</th>\n",
       "    </tr>\n",
       "  </thead>\n",
       "  <tbody>\n",
       "    <tr>\n",
       "      <th>count</th>\n",
       "      <td>149,396.00</td>\n",
       "      <td>149,396.00</td>\n",
       "    </tr>\n",
       "    <tr>\n",
       "      <th>mean</th>\n",
       "      <td>370.19</td>\n",
       "      <td>1,252.10</td>\n",
       "    </tr>\n",
       "    <tr>\n",
       "      <th>std</th>\n",
       "      <td>278.30</td>\n",
       "      <td>144.05</td>\n",
       "    </tr>\n",
       "    <tr>\n",
       "      <th>min</th>\n",
       "      <td>0.00</td>\n",
       "      <td>1,000.00</td>\n",
       "    </tr>\n",
       "    <tr>\n",
       "      <th>25%</th>\n",
       "      <td>138.19</td>\n",
       "      <td>1,130.00</td>\n",
       "    </tr>\n",
       "    <tr>\n",
       "      <th>50%</th>\n",
       "      <td>348.01</td>\n",
       "      <td>1,251.00</td>\n",
       "    </tr>\n",
       "    <tr>\n",
       "      <th>75%</th>\n",
       "      <td>559.55</td>\n",
       "      <td>1,380.00</td>\n",
       "    </tr>\n",
       "    <tr>\n",
       "      <th>max</th>\n",
       "      <td>1,724.83</td>\n",
       "      <td>1,499.00</td>\n",
       "    </tr>\n",
       "  </tbody>\n",
       "</table>\n",
       "</div>"
      ],
      "text/plain": [
       "         mb_used    user_id\n",
       "count 149,396.00 149,396.00\n",
       "mean      370.19   1,252.10\n",
       "std       278.30     144.05\n",
       "min         0.00   1,000.00\n",
       "25%       138.19   1,130.00\n",
       "50%       348.01   1,251.00\n",
       "75%       559.55   1,380.00\n",
       "max     1,724.83   1,499.00"
      ]
     },
     "execution_count": 26,
     "metadata": {},
     "output_type": "execute_result"
    }
   ],
   "source": [
    "# изучим характеристики, дающие представление о выборке\n",
    "df_internet.describe()"
   ]
  },
  {
   "cell_type": "markdown",
   "id": "34d70a5c",
   "metadata": {},
   "source": [
    "### Обраборка таблицы df_messages"
   ]
  },
  {
   "cell_type": "code",
   "execution_count": 27,
   "id": "1427c5a8",
   "metadata": {},
   "outputs": [
    {
     "data": {
      "text/plain": [
       "id              0\n",
       "message_date    0\n",
       "user_id         0\n",
       "dtype: int64"
      ]
     },
     "execution_count": 27,
     "metadata": {},
     "output_type": "execute_result"
    }
   ],
   "source": [
    "# найдем пропуски\n",
    "df_messages.isna().sum().sort_values()"
   ]
  },
  {
   "cell_type": "code",
   "execution_count": 28,
   "id": "cb59fc15",
   "metadata": {},
   "outputs": [],
   "source": [
    "# изменим формат данных столбца message_date на datetime64\n",
    "df_messages['message_date'] = pd.to_datetime(df_messages['message_date'], format='%Y-%m-%d')"
   ]
  },
  {
   "cell_type": "code",
   "execution_count": 29,
   "id": "d42253ed",
   "metadata": {},
   "outputs": [
    {
     "data": {
      "text/plain": [
       "id                      object\n",
       "message_date    datetime64[ns]\n",
       "user_id                  int64\n",
       "dtype: object"
      ]
     },
     "execution_count": 29,
     "metadata": {},
     "output_type": "execute_result"
    }
   ],
   "source": [
    "# проверим изменился ли формат\n",
    "df_messages.dtypes"
   ]
  },
  {
   "cell_type": "code",
   "execution_count": 30,
   "id": "2e80f838",
   "metadata": {},
   "outputs": [
    {
     "data": {
      "text/html": [
       "<div>\n",
       "<style scoped>\n",
       "    .dataframe tbody tr th:only-of-type {\n",
       "        vertical-align: middle;\n",
       "    }\n",
       "\n",
       "    .dataframe tbody tr th {\n",
       "        vertical-align: top;\n",
       "    }\n",
       "\n",
       "    .dataframe thead th {\n",
       "        text-align: right;\n",
       "    }\n",
       "</style>\n",
       "<table border=\"1\" class=\"dataframe\">\n",
       "  <thead>\n",
       "    <tr style=\"text-align: right;\">\n",
       "      <th></th>\n",
       "      <th>user_id</th>\n",
       "    </tr>\n",
       "  </thead>\n",
       "  <tbody>\n",
       "    <tr>\n",
       "      <th>count</th>\n",
       "      <td>123,036.00</td>\n",
       "    </tr>\n",
       "    <tr>\n",
       "      <th>mean</th>\n",
       "      <td>1,256.99</td>\n",
       "    </tr>\n",
       "    <tr>\n",
       "      <th>std</th>\n",
       "      <td>143.52</td>\n",
       "    </tr>\n",
       "    <tr>\n",
       "      <th>min</th>\n",
       "      <td>1,000.00</td>\n",
       "    </tr>\n",
       "    <tr>\n",
       "      <th>25%</th>\n",
       "      <td>1,134.00</td>\n",
       "    </tr>\n",
       "    <tr>\n",
       "      <th>50%</th>\n",
       "      <td>1,271.00</td>\n",
       "    </tr>\n",
       "    <tr>\n",
       "      <th>75%</th>\n",
       "      <td>1,381.00</td>\n",
       "    </tr>\n",
       "    <tr>\n",
       "      <th>max</th>\n",
       "      <td>1,499.00</td>\n",
       "    </tr>\n",
       "  </tbody>\n",
       "</table>\n",
       "</div>"
      ],
      "text/plain": [
       "         user_id\n",
       "count 123,036.00\n",
       "mean    1,256.99\n",
       "std       143.52\n",
       "min     1,000.00\n",
       "25%     1,134.00\n",
       "50%     1,271.00\n",
       "75%     1,381.00\n",
       "max     1,499.00"
      ]
     },
     "execution_count": 30,
     "metadata": {},
     "output_type": "execute_result"
    }
   ],
   "source": [
    "# изучим характеристики, дающие представление о выборке\n",
    "df_messages.describe()"
   ]
  },
  {
   "cell_type": "markdown",
   "id": "86c4554c",
   "metadata": {},
   "source": [
    "### Обраборка таблицы df_tariffs"
   ]
  },
  {
   "cell_type": "code",
   "execution_count": 31,
   "id": "d15865ed",
   "metadata": {},
   "outputs": [
    {
     "data": {
      "text/plain": [
       "messages_included        0\n",
       "mb_per_month_included    0\n",
       "minutes_included         0\n",
       "rub_monthly_fee          0\n",
       "rub_per_gb               0\n",
       "rub_per_message          0\n",
       "rub_per_minute           0\n",
       "tariff_name              0\n",
       "dtype: int64"
      ]
     },
     "execution_count": 31,
     "metadata": {},
     "output_type": "execute_result"
    }
   ],
   "source": [
    "# найдем пропуски\n",
    "df_tariffs.isna().sum().sort_values()"
   ]
  },
  {
   "cell_type": "code",
   "execution_count": 32,
   "id": "31652a76",
   "metadata": {},
   "outputs": [
    {
     "data": {
      "text/html": [
       "<div>\n",
       "<style scoped>\n",
       "    .dataframe tbody tr th:only-of-type {\n",
       "        vertical-align: middle;\n",
       "    }\n",
       "\n",
       "    .dataframe tbody tr th {\n",
       "        vertical-align: top;\n",
       "    }\n",
       "\n",
       "    .dataframe thead th {\n",
       "        text-align: right;\n",
       "    }\n",
       "</style>\n",
       "<table border=\"1\" class=\"dataframe\">\n",
       "  <thead>\n",
       "    <tr style=\"text-align: right;\">\n",
       "      <th></th>\n",
       "      <th>messages_included</th>\n",
       "      <th>mb_per_month_included</th>\n",
       "      <th>minutes_included</th>\n",
       "      <th>rub_monthly_fee</th>\n",
       "      <th>rub_per_gb</th>\n",
       "      <th>rub_per_message</th>\n",
       "      <th>rub_per_minute</th>\n",
       "      <th>tariff_name</th>\n",
       "    </tr>\n",
       "  </thead>\n",
       "  <tbody>\n",
       "    <tr>\n",
       "      <th>0</th>\n",
       "      <td>50</td>\n",
       "      <td>15360</td>\n",
       "      <td>500</td>\n",
       "      <td>550</td>\n",
       "      <td>200</td>\n",
       "      <td>3</td>\n",
       "      <td>3</td>\n",
       "      <td>smart</td>\n",
       "    </tr>\n",
       "    <tr>\n",
       "      <th>1</th>\n",
       "      <td>1000</td>\n",
       "      <td>30720</td>\n",
       "      <td>3000</td>\n",
       "      <td>1950</td>\n",
       "      <td>150</td>\n",
       "      <td>1</td>\n",
       "      <td>1</td>\n",
       "      <td>ultra</td>\n",
       "    </tr>\n",
       "  </tbody>\n",
       "</table>\n",
       "</div>"
      ],
      "text/plain": [
       "   messages_included  mb_per_month_included  minutes_included  \\\n",
       "0                 50                  15360               500   \n",
       "1               1000                  30720              3000   \n",
       "\n",
       "   rub_monthly_fee  rub_per_gb  rub_per_message  rub_per_minute tariff_name  \n",
       "0              550         200                3               3       smart  \n",
       "1             1950         150                1               1       ultra  "
      ]
     },
     "execution_count": 32,
     "metadata": {},
     "output_type": "execute_result"
    }
   ],
   "source": [
    "df_tariffs.head()"
   ]
  },
  {
   "cell_type": "markdown",
   "id": "3794a28d",
   "metadata": {},
   "source": [
    "### Обраборка таблицы df_users"
   ]
  },
  {
   "cell_type": "code",
   "execution_count": 33,
   "id": "c4396829",
   "metadata": {},
   "outputs": [
    {
     "data": {
      "text/plain": [
       "user_id         0\n",
       "age             0\n",
       "city            0\n",
       "first_name      0\n",
       "last_name       0\n",
       "reg_date        0\n",
       "tariff          0\n",
       "churn_date    462\n",
       "dtype: int64"
      ]
     },
     "execution_count": 33,
     "metadata": {},
     "output_type": "execute_result"
    }
   ],
   "source": [
    "# найдем пропуски\n",
    "df_users.isna().sum().sort_values()"
   ]
  },
  {
   "cell_type": "code",
   "execution_count": 34,
   "id": "20480dd9",
   "metadata": {},
   "outputs": [
    {
     "data": {
      "text/plain": [
       "user_id      0.00\n",
       "age          0.00\n",
       "city         0.00\n",
       "first_name   0.00\n",
       "last_name    0.00\n",
       "reg_date     0.00\n",
       "tariff       0.00\n",
       "churn_date   0.92\n",
       "dtype: float64"
      ]
     },
     "execution_count": 34,
     "metadata": {},
     "output_type": "execute_result"
    }
   ],
   "source": [
    "# определим долю пропусков от общего числа значений\n",
    "df_users.isna().sum().sort_values()/df_users.shape[0]"
   ]
  },
  {
   "cell_type": "markdown",
   "id": "ede4d888",
   "metadata": {},
   "source": [
    "Обнаружено 462 пропуска. Это 92,4 % от всех данных столбца. Они говорят нам  о том что тариф ещё действовал на момент выгрузки данных. Заменим их на 0."
   ]
  },
  {
   "cell_type": "code",
   "execution_count": 35,
   "id": "19778ab2",
   "metadata": {},
   "outputs": [],
   "source": [
    "df_users['churn_date'].fillna(0, inplace=True)"
   ]
  },
  {
   "cell_type": "code",
   "execution_count": 36,
   "id": "ba528b5c",
   "metadata": {},
   "outputs": [
    {
     "data": {
      "text/plain": [
       "0"
      ]
     },
     "execution_count": 36,
     "metadata": {},
     "output_type": "execute_result"
    }
   ],
   "source": [
    "# проверим произошла ли замена\n",
    "df_users['churn_date'].isna().sum()"
   ]
  },
  {
   "cell_type": "code",
   "execution_count": 37,
   "id": "ec230cea",
   "metadata": {},
   "outputs": [],
   "source": [
    "# изменим формат данных столбца reg_date на datetime64\n",
    "df_users['reg_date'] = pd.to_datetime(df_users['reg_date'], format='%Y-%m-%d')"
   ]
  },
  {
   "cell_type": "code",
   "execution_count": 38,
   "id": "f340b110",
   "metadata": {},
   "outputs": [
    {
     "data": {
      "text/plain": [
       "reg_date    datetime64[ns]\n",
       "dtype: object"
      ]
     },
     "execution_count": 38,
     "metadata": {},
     "output_type": "execute_result"
    }
   ],
   "source": [
    "# проверим изменился ли формат\n",
    "df_users[['reg_date']].dtypes"
   ]
  },
  {
   "cell_type": "code",
   "execution_count": 39,
   "id": "b6baa7f7",
   "metadata": {},
   "outputs": [
    {
     "data": {
      "text/html": [
       "<div>\n",
       "<style scoped>\n",
       "    .dataframe tbody tr th:only-of-type {\n",
       "        vertical-align: middle;\n",
       "    }\n",
       "\n",
       "    .dataframe tbody tr th {\n",
       "        vertical-align: top;\n",
       "    }\n",
       "\n",
       "    .dataframe thead th {\n",
       "        text-align: right;\n",
       "    }\n",
       "</style>\n",
       "<table border=\"1\" class=\"dataframe\">\n",
       "  <thead>\n",
       "    <tr style=\"text-align: right;\">\n",
       "      <th></th>\n",
       "      <th>user_id</th>\n",
       "      <th>age</th>\n",
       "    </tr>\n",
       "  </thead>\n",
       "  <tbody>\n",
       "    <tr>\n",
       "      <th>count</th>\n",
       "      <td>500.00</td>\n",
       "      <td>500.00</td>\n",
       "    </tr>\n",
       "    <tr>\n",
       "      <th>mean</th>\n",
       "      <td>1,249.50</td>\n",
       "      <td>46.59</td>\n",
       "    </tr>\n",
       "    <tr>\n",
       "      <th>std</th>\n",
       "      <td>144.48</td>\n",
       "      <td>16.67</td>\n",
       "    </tr>\n",
       "    <tr>\n",
       "      <th>min</th>\n",
       "      <td>1,000.00</td>\n",
       "      <td>18.00</td>\n",
       "    </tr>\n",
       "    <tr>\n",
       "      <th>25%</th>\n",
       "      <td>1,124.75</td>\n",
       "      <td>32.00</td>\n",
       "    </tr>\n",
       "    <tr>\n",
       "      <th>50%</th>\n",
       "      <td>1,249.50</td>\n",
       "      <td>46.00</td>\n",
       "    </tr>\n",
       "    <tr>\n",
       "      <th>75%</th>\n",
       "      <td>1,374.25</td>\n",
       "      <td>62.00</td>\n",
       "    </tr>\n",
       "    <tr>\n",
       "      <th>max</th>\n",
       "      <td>1,499.00</td>\n",
       "      <td>75.00</td>\n",
       "    </tr>\n",
       "  </tbody>\n",
       "</table>\n",
       "</div>"
      ],
      "text/plain": [
       "       user_id    age\n",
       "count   500.00 500.00\n",
       "mean  1,249.50  46.59\n",
       "std     144.48  16.67\n",
       "min   1,000.00  18.00\n",
       "25%   1,124.75  32.00\n",
       "50%   1,249.50  46.00\n",
       "75%   1,374.25  62.00\n",
       "max   1,499.00  75.00"
      ]
     },
     "execution_count": 39,
     "metadata": {},
     "output_type": "execute_result"
    }
   ],
   "source": [
    "# изучим характеристики, дающие представление о выборке\n",
    "df_users.describe()"
   ]
  },
  {
   "cell_type": "markdown",
   "id": "1dff17ed",
   "metadata": {},
   "source": [
    "Были найдены колонки с датами в некорректном формате object. Они заменены на datetime64 с помощью метода datetime. Пропуски в таблице df_users заполнены 0 с помощью метода fillna. Применив метод describe ко всем таблица мы не нашли никаких аномалий. Все значения в диапазоне допустимых."
   ]
  },
  {
   "cell_type": "markdown",
   "id": "c9d1e4d1",
   "metadata": {},
   "source": [
    "### Округление минут"
   ]
  },
  {
   "cell_type": "markdown",
   "id": "dde193df",
   "metadata": {},
   "source": [
    "В соответствии с условиями задачи округлим значения минут и мегабайтов. Для округления используем метод ceil(), который округляет в большую сторону."
   ]
  },
  {
   "cell_type": "code",
   "execution_count": 40,
   "id": "66036e88",
   "metadata": {},
   "outputs": [
    {
     "data": {
      "text/html": [
       "<div>\n",
       "<style scoped>\n",
       "    .dataframe tbody tr th:only-of-type {\n",
       "        vertical-align: middle;\n",
       "    }\n",
       "\n",
       "    .dataframe tbody tr th {\n",
       "        vertical-align: top;\n",
       "    }\n",
       "\n",
       "    .dataframe thead th {\n",
       "        text-align: right;\n",
       "    }\n",
       "</style>\n",
       "<table border=\"1\" class=\"dataframe\">\n",
       "  <thead>\n",
       "    <tr style=\"text-align: right;\">\n",
       "      <th></th>\n",
       "      <th>duration</th>\n",
       "    </tr>\n",
       "  </thead>\n",
       "  <tbody>\n",
       "    <tr>\n",
       "      <th>0</th>\n",
       "      <td>0.00</td>\n",
       "    </tr>\n",
       "    <tr>\n",
       "      <th>1</th>\n",
       "      <td>0.00</td>\n",
       "    </tr>\n",
       "    <tr>\n",
       "      <th>2</th>\n",
       "      <td>2.85</td>\n",
       "    </tr>\n",
       "    <tr>\n",
       "      <th>3</th>\n",
       "      <td>13.80</td>\n",
       "    </tr>\n",
       "    <tr>\n",
       "      <th>4</th>\n",
       "      <td>5.18</td>\n",
       "    </tr>\n",
       "  </tbody>\n",
       "</table>\n",
       "</div>"
      ],
      "text/plain": [
       "   duration\n",
       "0      0.00\n",
       "1      0.00\n",
       "2      2.85\n",
       "3     13.80\n",
       "4      5.18"
      ]
     },
     "execution_count": 40,
     "metadata": {},
     "output_type": "execute_result"
    }
   ],
   "source": [
    "# изучим значение столбца 'duration' в таблице 'df_calls' до округления \n",
    "df_calls[['duration']].head()"
   ]
  },
  {
   "cell_type": "code",
   "execution_count": 41,
   "id": "61e6aa93",
   "metadata": {},
   "outputs": [],
   "source": [
    "# округлим минуты\n",
    "df_calls['duration'] = df_calls['duration'].apply(np.ceil)"
   ]
  },
  {
   "cell_type": "code",
   "execution_count": 42,
   "id": "1f7ec88a",
   "metadata": {},
   "outputs": [
    {
     "data": {
      "text/html": [
       "<div>\n",
       "<style scoped>\n",
       "    .dataframe tbody tr th:only-of-type {\n",
       "        vertical-align: middle;\n",
       "    }\n",
       "\n",
       "    .dataframe tbody tr th {\n",
       "        vertical-align: top;\n",
       "    }\n",
       "\n",
       "    .dataframe thead th {\n",
       "        text-align: right;\n",
       "    }\n",
       "</style>\n",
       "<table border=\"1\" class=\"dataframe\">\n",
       "  <thead>\n",
       "    <tr style=\"text-align: right;\">\n",
       "      <th></th>\n",
       "      <th>duration</th>\n",
       "    </tr>\n",
       "  </thead>\n",
       "  <tbody>\n",
       "    <tr>\n",
       "      <th>0</th>\n",
       "      <td>0.00</td>\n",
       "    </tr>\n",
       "    <tr>\n",
       "      <th>1</th>\n",
       "      <td>0.00</td>\n",
       "    </tr>\n",
       "    <tr>\n",
       "      <th>2</th>\n",
       "      <td>3.00</td>\n",
       "    </tr>\n",
       "    <tr>\n",
       "      <th>3</th>\n",
       "      <td>14.00</td>\n",
       "    </tr>\n",
       "    <tr>\n",
       "      <th>4</th>\n",
       "      <td>6.00</td>\n",
       "    </tr>\n",
       "  </tbody>\n",
       "</table>\n",
       "</div>"
      ],
      "text/plain": [
       "   duration\n",
       "0      0.00\n",
       "1      0.00\n",
       "2      3.00\n",
       "3     14.00\n",
       "4      6.00"
      ]
     },
     "execution_count": 42,
     "metadata": {},
     "output_type": "execute_result"
    }
   ],
   "source": [
    "# проверим применение метода\n",
    "df_calls[['duration']].head()"
   ]
  },
  {
   "cell_type": "markdown",
   "id": "15628a11",
   "metadata": {},
   "source": [
    "### Количество сделанных звонков и израсходованных минут разговора по месяцам"
   ]
  },
  {
   "cell_type": "markdown",
   "id": "c1912471",
   "metadata": {},
   "source": [
    "Так как в дальнейшем нам понадобится проанализировать данные в разрезе месяца, создадим в таблицах новый столбец `month`. Добавим его в `df_calls`, `df_internet`, `df_messages` и `df_users`. После сгруппируем таблицы по `month` и `user_id`.\n",
    "\n",
    "Посчитаем для каждого пользователя:\n",
    "\n",
    "* количество сделанных звонков и израсходованных минут разговора по месяцам;\n",
    "* количество отправленных сообщений по месяцам;\n",
    "* объем израсходованного интернет-трафика по месяцам;\n",
    "* помесячную выручку с каждого пользователя (вычтем бесплатный лимит из суммарного количества звонков, сообщений и интернет-трафика; остаток умножим на значение из тарифного плана; прибавим абонентскую плату, соответствующую тарифному плану)."
   ]
  },
  {
   "cell_type": "code",
   "execution_count": 43,
   "id": "2f8908ac",
   "metadata": {},
   "outputs": [],
   "source": [
    "# создадим новый столбец 'month' в таблице 'df_calls'\n",
    "df_calls['month'] = pd.DatetimeIndex(df_calls['call_date']).month"
   ]
  },
  {
   "cell_type": "code",
   "execution_count": 44,
   "id": "36518f45",
   "metadata": {},
   "outputs": [
    {
     "data": {
      "text/html": [
       "<div>\n",
       "<style scoped>\n",
       "    .dataframe tbody tr th:only-of-type {\n",
       "        vertical-align: middle;\n",
       "    }\n",
       "\n",
       "    .dataframe tbody tr th {\n",
       "        vertical-align: top;\n",
       "    }\n",
       "\n",
       "    .dataframe thead th {\n",
       "        text-align: right;\n",
       "    }\n",
       "</style>\n",
       "<table border=\"1\" class=\"dataframe\">\n",
       "  <thead>\n",
       "    <tr style=\"text-align: right;\">\n",
       "      <th></th>\n",
       "      <th>id</th>\n",
       "      <th>call_date</th>\n",
       "      <th>duration</th>\n",
       "      <th>user_id</th>\n",
       "      <th>month</th>\n",
       "    </tr>\n",
       "  </thead>\n",
       "  <tbody>\n",
       "    <tr>\n",
       "      <th>0</th>\n",
       "      <td>1000_0</td>\n",
       "      <td>2018-07-25</td>\n",
       "      <td>0.00</td>\n",
       "      <td>1000</td>\n",
       "      <td>7</td>\n",
       "    </tr>\n",
       "    <tr>\n",
       "      <th>1</th>\n",
       "      <td>1000_1</td>\n",
       "      <td>2018-08-17</td>\n",
       "      <td>0.00</td>\n",
       "      <td>1000</td>\n",
       "      <td>8</td>\n",
       "    </tr>\n",
       "    <tr>\n",
       "      <th>2</th>\n",
       "      <td>1000_2</td>\n",
       "      <td>2018-06-11</td>\n",
       "      <td>3.00</td>\n",
       "      <td>1000</td>\n",
       "      <td>6</td>\n",
       "    </tr>\n",
       "    <tr>\n",
       "      <th>3</th>\n",
       "      <td>1000_3</td>\n",
       "      <td>2018-09-21</td>\n",
       "      <td>14.00</td>\n",
       "      <td>1000</td>\n",
       "      <td>9</td>\n",
       "    </tr>\n",
       "    <tr>\n",
       "      <th>4</th>\n",
       "      <td>1000_4</td>\n",
       "      <td>2018-12-15</td>\n",
       "      <td>6.00</td>\n",
       "      <td>1000</td>\n",
       "      <td>12</td>\n",
       "    </tr>\n",
       "  </tbody>\n",
       "</table>\n",
       "</div>"
      ],
      "text/plain": [
       "       id  call_date  duration  user_id  month\n",
       "0  1000_0 2018-07-25      0.00     1000      7\n",
       "1  1000_1 2018-08-17      0.00     1000      8\n",
       "2  1000_2 2018-06-11      3.00     1000      6\n",
       "3  1000_3 2018-09-21     14.00     1000      9\n",
       "4  1000_4 2018-12-15      6.00     1000     12"
      ]
     },
     "execution_count": 44,
     "metadata": {},
     "output_type": "execute_result"
    }
   ],
   "source": [
    "df_calls.head()"
   ]
  },
  {
   "cell_type": "code",
   "execution_count": 45,
   "id": "844831a5",
   "metadata": {},
   "outputs": [],
   "source": [
    "# сгруппируем данные в новую таблицу 'internet_data'\n",
    "calls_data = df_calls.groupby(['user_id', 'month'])[['duration']].agg(['sum']).reset_index()"
   ]
  },
  {
   "cell_type": "code",
   "execution_count": 46,
   "id": "927de9f8",
   "metadata": {},
   "outputs": [
    {
     "data": {
      "text/html": [
       "<div>\n",
       "<style scoped>\n",
       "    .dataframe tbody tr th:only-of-type {\n",
       "        vertical-align: middle;\n",
       "    }\n",
       "\n",
       "    .dataframe tbody tr th {\n",
       "        vertical-align: top;\n",
       "    }\n",
       "\n",
       "    .dataframe thead tr th {\n",
       "        text-align: left;\n",
       "    }\n",
       "</style>\n",
       "<table border=\"1\" class=\"dataframe\">\n",
       "  <thead>\n",
       "    <tr>\n",
       "      <th></th>\n",
       "      <th>user_id</th>\n",
       "      <th>month</th>\n",
       "      <th>duration</th>\n",
       "    </tr>\n",
       "    <tr>\n",
       "      <th></th>\n",
       "      <th></th>\n",
       "      <th></th>\n",
       "      <th>sum</th>\n",
       "    </tr>\n",
       "  </thead>\n",
       "  <tbody>\n",
       "    <tr>\n",
       "      <th>0</th>\n",
       "      <td>1000</td>\n",
       "      <td>5</td>\n",
       "      <td>159.00</td>\n",
       "    </tr>\n",
       "    <tr>\n",
       "      <th>1</th>\n",
       "      <td>1000</td>\n",
       "      <td>6</td>\n",
       "      <td>172.00</td>\n",
       "    </tr>\n",
       "    <tr>\n",
       "      <th>2</th>\n",
       "      <td>1000</td>\n",
       "      <td>7</td>\n",
       "      <td>340.00</td>\n",
       "    </tr>\n",
       "    <tr>\n",
       "      <th>3</th>\n",
       "      <td>1000</td>\n",
       "      <td>8</td>\n",
       "      <td>408.00</td>\n",
       "    </tr>\n",
       "    <tr>\n",
       "      <th>4</th>\n",
       "      <td>1000</td>\n",
       "      <td>9</td>\n",
       "      <td>466.00</td>\n",
       "    </tr>\n",
       "  </tbody>\n",
       "</table>\n",
       "</div>"
      ],
      "text/plain": [
       "  user_id month duration\n",
       "                     sum\n",
       "0    1000     5   159.00\n",
       "1    1000     6   172.00\n",
       "2    1000     7   340.00\n",
       "3    1000     8   408.00\n",
       "4    1000     9   466.00"
      ]
     },
     "execution_count": 46,
     "metadata": {},
     "output_type": "execute_result"
    }
   ],
   "source": [
    "calls_data.head()"
   ]
  },
  {
   "cell_type": "code",
   "execution_count": 47,
   "id": "fba380f5",
   "metadata": {},
   "outputs": [],
   "source": [
    "# переименуем столбцы\n",
    "calls_data.columns = ['user_id', 'month', 'duration_sum']"
   ]
  },
  {
   "cell_type": "code",
   "execution_count": 48,
   "id": "ba49c104",
   "metadata": {},
   "outputs": [
    {
     "data": {
      "text/html": [
       "<div>\n",
       "<style scoped>\n",
       "    .dataframe tbody tr th:only-of-type {\n",
       "        vertical-align: middle;\n",
       "    }\n",
       "\n",
       "    .dataframe tbody tr th {\n",
       "        vertical-align: top;\n",
       "    }\n",
       "\n",
       "    .dataframe thead th {\n",
       "        text-align: right;\n",
       "    }\n",
       "</style>\n",
       "<table border=\"1\" class=\"dataframe\">\n",
       "  <thead>\n",
       "    <tr style=\"text-align: right;\">\n",
       "      <th></th>\n",
       "      <th>user_id</th>\n",
       "      <th>month</th>\n",
       "      <th>duration_sum</th>\n",
       "    </tr>\n",
       "  </thead>\n",
       "  <tbody>\n",
       "    <tr>\n",
       "      <th>0</th>\n",
       "      <td>1000</td>\n",
       "      <td>5</td>\n",
       "      <td>159.00</td>\n",
       "    </tr>\n",
       "    <tr>\n",
       "      <th>1</th>\n",
       "      <td>1000</td>\n",
       "      <td>6</td>\n",
       "      <td>172.00</td>\n",
       "    </tr>\n",
       "    <tr>\n",
       "      <th>2</th>\n",
       "      <td>1000</td>\n",
       "      <td>7</td>\n",
       "      <td>340.00</td>\n",
       "    </tr>\n",
       "    <tr>\n",
       "      <th>3</th>\n",
       "      <td>1000</td>\n",
       "      <td>8</td>\n",
       "      <td>408.00</td>\n",
       "    </tr>\n",
       "    <tr>\n",
       "      <th>4</th>\n",
       "      <td>1000</td>\n",
       "      <td>9</td>\n",
       "      <td>466.00</td>\n",
       "    </tr>\n",
       "  </tbody>\n",
       "</table>\n",
       "</div>"
      ],
      "text/plain": [
       "   user_id  month  duration_sum\n",
       "0     1000      5        159.00\n",
       "1     1000      6        172.00\n",
       "2     1000      7        340.00\n",
       "3     1000      8        408.00\n",
       "4     1000      9        466.00"
      ]
     },
     "execution_count": 48,
     "metadata": {},
     "output_type": "execute_result"
    }
   ],
   "source": [
    "calls_data.head()"
   ]
  },
  {
   "cell_type": "markdown",
   "id": "41bf3c7e",
   "metadata": {},
   "source": [
    "### Объем израсходованного интернет-трафика по месяцам"
   ]
  },
  {
   "cell_type": "code",
   "execution_count": 49,
   "id": "da0890a6",
   "metadata": {},
   "outputs": [],
   "source": [
    "# создадим новый столбец 'month' в таблице 'df_internet'\n",
    "df_internet['month'] = pd.DatetimeIndex(df_internet['session_date']).month"
   ]
  },
  {
   "cell_type": "code",
   "execution_count": 50,
   "id": "2b3aae27",
   "metadata": {},
   "outputs": [
    {
     "data": {
      "text/html": [
       "<div>\n",
       "<style scoped>\n",
       "    .dataframe tbody tr th:only-of-type {\n",
       "        vertical-align: middle;\n",
       "    }\n",
       "\n",
       "    .dataframe tbody tr th {\n",
       "        vertical-align: top;\n",
       "    }\n",
       "\n",
       "    .dataframe thead th {\n",
       "        text-align: right;\n",
       "    }\n",
       "</style>\n",
       "<table border=\"1\" class=\"dataframe\">\n",
       "  <thead>\n",
       "    <tr style=\"text-align: right;\">\n",
       "      <th></th>\n",
       "      <th>id</th>\n",
       "      <th>mb_used</th>\n",
       "      <th>session_date</th>\n",
       "      <th>user_id</th>\n",
       "      <th>month</th>\n",
       "    </tr>\n",
       "  </thead>\n",
       "  <tbody>\n",
       "    <tr>\n",
       "      <th>0</th>\n",
       "      <td>1000_0</td>\n",
       "      <td>112.95</td>\n",
       "      <td>2018-11-25</td>\n",
       "      <td>1000</td>\n",
       "      <td>11</td>\n",
       "    </tr>\n",
       "    <tr>\n",
       "      <th>1</th>\n",
       "      <td>1000_1</td>\n",
       "      <td>1,052.81</td>\n",
       "      <td>2018-09-07</td>\n",
       "      <td>1000</td>\n",
       "      <td>9</td>\n",
       "    </tr>\n",
       "    <tr>\n",
       "      <th>2</th>\n",
       "      <td>1000_2</td>\n",
       "      <td>1,197.26</td>\n",
       "      <td>2018-06-25</td>\n",
       "      <td>1000</td>\n",
       "      <td>6</td>\n",
       "    </tr>\n",
       "    <tr>\n",
       "      <th>3</th>\n",
       "      <td>1000_3</td>\n",
       "      <td>550.27</td>\n",
       "      <td>2018-08-22</td>\n",
       "      <td>1000</td>\n",
       "      <td>8</td>\n",
       "    </tr>\n",
       "    <tr>\n",
       "      <th>4</th>\n",
       "      <td>1000_4</td>\n",
       "      <td>302.56</td>\n",
       "      <td>2018-09-24</td>\n",
       "      <td>1000</td>\n",
       "      <td>9</td>\n",
       "    </tr>\n",
       "  </tbody>\n",
       "</table>\n",
       "</div>"
      ],
      "text/plain": [
       "       id  mb_used session_date  user_id  month\n",
       "0  1000_0   112.95   2018-11-25     1000     11\n",
       "1  1000_1 1,052.81   2018-09-07     1000      9\n",
       "2  1000_2 1,197.26   2018-06-25     1000      6\n",
       "3  1000_3   550.27   2018-08-22     1000      8\n",
       "4  1000_4   302.56   2018-09-24     1000      9"
      ]
     },
     "execution_count": 50,
     "metadata": {},
     "output_type": "execute_result"
    }
   ],
   "source": [
    "df_internet.head()"
   ]
  },
  {
   "cell_type": "code",
   "execution_count": 51,
   "id": "490d69bc",
   "metadata": {},
   "outputs": [],
   "source": [
    "# сгруппируем данные в новую таблицу 'internet_data'\n",
    "internet_data = df_internet.groupby(['user_id', 'month'])[['mb_used']].agg(['sum']).reset_index()"
   ]
  },
  {
   "cell_type": "code",
   "execution_count": 52,
   "id": "54ca488a",
   "metadata": {},
   "outputs": [
    {
     "data": {
      "text/html": [
       "<div>\n",
       "<style scoped>\n",
       "    .dataframe tbody tr th:only-of-type {\n",
       "        vertical-align: middle;\n",
       "    }\n",
       "\n",
       "    .dataframe tbody tr th {\n",
       "        vertical-align: top;\n",
       "    }\n",
       "\n",
       "    .dataframe thead tr th {\n",
       "        text-align: left;\n",
       "    }\n",
       "</style>\n",
       "<table border=\"1\" class=\"dataframe\">\n",
       "  <thead>\n",
       "    <tr>\n",
       "      <th></th>\n",
       "      <th>user_id</th>\n",
       "      <th>month</th>\n",
       "      <th>mb_used</th>\n",
       "    </tr>\n",
       "    <tr>\n",
       "      <th></th>\n",
       "      <th></th>\n",
       "      <th></th>\n",
       "      <th>sum</th>\n",
       "    </tr>\n",
       "  </thead>\n",
       "  <tbody>\n",
       "    <tr>\n",
       "      <th>0</th>\n",
       "      <td>1000</td>\n",
       "      <td>5</td>\n",
       "      <td>2,253.49</td>\n",
       "    </tr>\n",
       "    <tr>\n",
       "      <th>1</th>\n",
       "      <td>1000</td>\n",
       "      <td>6</td>\n",
       "      <td>23,233.77</td>\n",
       "    </tr>\n",
       "    <tr>\n",
       "      <th>2</th>\n",
       "      <td>1000</td>\n",
       "      <td>7</td>\n",
       "      <td>14,003.64</td>\n",
       "    </tr>\n",
       "    <tr>\n",
       "      <th>3</th>\n",
       "      <td>1000</td>\n",
       "      <td>8</td>\n",
       "      <td>14,055.93</td>\n",
       "    </tr>\n",
       "    <tr>\n",
       "      <th>4</th>\n",
       "      <td>1000</td>\n",
       "      <td>9</td>\n",
       "      <td>14,568.91</td>\n",
       "    </tr>\n",
       "  </tbody>\n",
       "</table>\n",
       "</div>"
      ],
      "text/plain": [
       "  user_id month   mb_used\n",
       "                      sum\n",
       "0    1000     5  2,253.49\n",
       "1    1000     6 23,233.77\n",
       "2    1000     7 14,003.64\n",
       "3    1000     8 14,055.93\n",
       "4    1000     9 14,568.91"
      ]
     },
     "execution_count": 52,
     "metadata": {},
     "output_type": "execute_result"
    }
   ],
   "source": [
    "internet_data.head()"
   ]
  },
  {
   "cell_type": "code",
   "execution_count": 53,
   "id": "0d26f18d",
   "metadata": {},
   "outputs": [],
   "source": [
    "# переименуем столбцы\n",
    "internet_data.columns = ['user_id', 'month', 'mb_used_sum']"
   ]
  },
  {
   "cell_type": "code",
   "execution_count": 54,
   "id": "e9b854c7",
   "metadata": {},
   "outputs": [
    {
     "data": {
      "text/html": [
       "<div>\n",
       "<style scoped>\n",
       "    .dataframe tbody tr th:only-of-type {\n",
       "        vertical-align: middle;\n",
       "    }\n",
       "\n",
       "    .dataframe tbody tr th {\n",
       "        vertical-align: top;\n",
       "    }\n",
       "\n",
       "    .dataframe thead th {\n",
       "        text-align: right;\n",
       "    }\n",
       "</style>\n",
       "<table border=\"1\" class=\"dataframe\">\n",
       "  <thead>\n",
       "    <tr style=\"text-align: right;\">\n",
       "      <th></th>\n",
       "      <th>user_id</th>\n",
       "      <th>month</th>\n",
       "      <th>mb_used_sum</th>\n",
       "    </tr>\n",
       "  </thead>\n",
       "  <tbody>\n",
       "    <tr>\n",
       "      <th>0</th>\n",
       "      <td>1000</td>\n",
       "      <td>5</td>\n",
       "      <td>2,253.49</td>\n",
       "    </tr>\n",
       "    <tr>\n",
       "      <th>1</th>\n",
       "      <td>1000</td>\n",
       "      <td>6</td>\n",
       "      <td>23,233.77</td>\n",
       "    </tr>\n",
       "    <tr>\n",
       "      <th>2</th>\n",
       "      <td>1000</td>\n",
       "      <td>7</td>\n",
       "      <td>14,003.64</td>\n",
       "    </tr>\n",
       "    <tr>\n",
       "      <th>3</th>\n",
       "      <td>1000</td>\n",
       "      <td>8</td>\n",
       "      <td>14,055.93</td>\n",
       "    </tr>\n",
       "    <tr>\n",
       "      <th>4</th>\n",
       "      <td>1000</td>\n",
       "      <td>9</td>\n",
       "      <td>14,568.91</td>\n",
       "    </tr>\n",
       "  </tbody>\n",
       "</table>\n",
       "</div>"
      ],
      "text/plain": [
       "   user_id  month  mb_used_sum\n",
       "0     1000      5     2,253.49\n",
       "1     1000      6    23,233.77\n",
       "2     1000      7    14,003.64\n",
       "3     1000      8    14,055.93\n",
       "4     1000      9    14,568.91"
      ]
     },
     "execution_count": 54,
     "metadata": {},
     "output_type": "execute_result"
    }
   ],
   "source": [
    "internet_data.head()"
   ]
  },
  {
   "cell_type": "markdown",
   "id": "8205a595",
   "metadata": {},
   "source": [
    "### Количество отправленных сообщений по месяцам"
   ]
  },
  {
   "cell_type": "code",
   "execution_count": 55,
   "id": "cdec1bcf",
   "metadata": {},
   "outputs": [],
   "source": [
    "# создадим новый столбец 'month' в таблице 'df_messages'\n",
    "df_messages['month'] = pd.DatetimeIndex(df_messages['message_date']).month\n"
   ]
  },
  {
   "cell_type": "code",
   "execution_count": 56,
   "id": "e392193b",
   "metadata": {},
   "outputs": [
    {
     "data": {
      "text/html": [
       "<div>\n",
       "<style scoped>\n",
       "    .dataframe tbody tr th:only-of-type {\n",
       "        vertical-align: middle;\n",
       "    }\n",
       "\n",
       "    .dataframe tbody tr th {\n",
       "        vertical-align: top;\n",
       "    }\n",
       "\n",
       "    .dataframe thead th {\n",
       "        text-align: right;\n",
       "    }\n",
       "</style>\n",
       "<table border=\"1\" class=\"dataframe\">\n",
       "  <thead>\n",
       "    <tr style=\"text-align: right;\">\n",
       "      <th></th>\n",
       "      <th>id</th>\n",
       "      <th>message_date</th>\n",
       "      <th>user_id</th>\n",
       "      <th>month</th>\n",
       "    </tr>\n",
       "  </thead>\n",
       "  <tbody>\n",
       "    <tr>\n",
       "      <th>0</th>\n",
       "      <td>1000_0</td>\n",
       "      <td>2018-06-27</td>\n",
       "      <td>1000</td>\n",
       "      <td>6</td>\n",
       "    </tr>\n",
       "    <tr>\n",
       "      <th>1</th>\n",
       "      <td>1000_1</td>\n",
       "      <td>2018-10-08</td>\n",
       "      <td>1000</td>\n",
       "      <td>10</td>\n",
       "    </tr>\n",
       "    <tr>\n",
       "      <th>2</th>\n",
       "      <td>1000_2</td>\n",
       "      <td>2018-08-04</td>\n",
       "      <td>1000</td>\n",
       "      <td>8</td>\n",
       "    </tr>\n",
       "    <tr>\n",
       "      <th>3</th>\n",
       "      <td>1000_3</td>\n",
       "      <td>2018-06-16</td>\n",
       "      <td>1000</td>\n",
       "      <td>6</td>\n",
       "    </tr>\n",
       "    <tr>\n",
       "      <th>4</th>\n",
       "      <td>1000_4</td>\n",
       "      <td>2018-12-05</td>\n",
       "      <td>1000</td>\n",
       "      <td>12</td>\n",
       "    </tr>\n",
       "  </tbody>\n",
       "</table>\n",
       "</div>"
      ],
      "text/plain": [
       "       id message_date  user_id  month\n",
       "0  1000_0   2018-06-27     1000      6\n",
       "1  1000_1   2018-10-08     1000     10\n",
       "2  1000_2   2018-08-04     1000      8\n",
       "3  1000_3   2018-06-16     1000      6\n",
       "4  1000_4   2018-12-05     1000     12"
      ]
     },
     "execution_count": 56,
     "metadata": {},
     "output_type": "execute_result"
    }
   ],
   "source": [
    "df_messages.head()"
   ]
  },
  {
   "cell_type": "code",
   "execution_count": 57,
   "id": "251b6d37",
   "metadata": {},
   "outputs": [],
   "source": [
    "# сгруппируем данные в новую таблицу 'internet_data'\n",
    "message_data = df_messages.groupby(['user_id', 'month'])[['message_date']].agg(['count']).reset_index()"
   ]
  },
  {
   "cell_type": "code",
   "execution_count": 58,
   "id": "a1b51f2c",
   "metadata": {},
   "outputs": [
    {
     "data": {
      "text/html": [
       "<div>\n",
       "<style scoped>\n",
       "    .dataframe tbody tr th:only-of-type {\n",
       "        vertical-align: middle;\n",
       "    }\n",
       "\n",
       "    .dataframe tbody tr th {\n",
       "        vertical-align: top;\n",
       "    }\n",
       "\n",
       "    .dataframe thead tr th {\n",
       "        text-align: left;\n",
       "    }\n",
       "</style>\n",
       "<table border=\"1\" class=\"dataframe\">\n",
       "  <thead>\n",
       "    <tr>\n",
       "      <th></th>\n",
       "      <th>user_id</th>\n",
       "      <th>month</th>\n",
       "      <th>message_date</th>\n",
       "    </tr>\n",
       "    <tr>\n",
       "      <th></th>\n",
       "      <th></th>\n",
       "      <th></th>\n",
       "      <th>count</th>\n",
       "    </tr>\n",
       "  </thead>\n",
       "  <tbody>\n",
       "    <tr>\n",
       "      <th>0</th>\n",
       "      <td>1000</td>\n",
       "      <td>5</td>\n",
       "      <td>22</td>\n",
       "    </tr>\n",
       "    <tr>\n",
       "      <th>1</th>\n",
       "      <td>1000</td>\n",
       "      <td>6</td>\n",
       "      <td>60</td>\n",
       "    </tr>\n",
       "    <tr>\n",
       "      <th>2</th>\n",
       "      <td>1000</td>\n",
       "      <td>7</td>\n",
       "      <td>75</td>\n",
       "    </tr>\n",
       "    <tr>\n",
       "      <th>3</th>\n",
       "      <td>1000</td>\n",
       "      <td>8</td>\n",
       "      <td>81</td>\n",
       "    </tr>\n",
       "    <tr>\n",
       "      <th>4</th>\n",
       "      <td>1000</td>\n",
       "      <td>9</td>\n",
       "      <td>57</td>\n",
       "    </tr>\n",
       "  </tbody>\n",
       "</table>\n",
       "</div>"
      ],
      "text/plain": [
       "  user_id month message_date\n",
       "                       count\n",
       "0    1000     5           22\n",
       "1    1000     6           60\n",
       "2    1000     7           75\n",
       "3    1000     8           81\n",
       "4    1000     9           57"
      ]
     },
     "execution_count": 58,
     "metadata": {},
     "output_type": "execute_result"
    }
   ],
   "source": [
    "message_data.head()"
   ]
  },
  {
   "cell_type": "code",
   "execution_count": 59,
   "id": "d3a52a54",
   "metadata": {},
   "outputs": [],
   "source": [
    "# переименуем столбцы\n",
    "message_data.columns = ['user_id', 'month', 'message_date_count']"
   ]
  },
  {
   "cell_type": "code",
   "execution_count": 60,
   "id": "1ebe1d87",
   "metadata": {},
   "outputs": [
    {
     "data": {
      "text/html": [
       "<div>\n",
       "<style scoped>\n",
       "    .dataframe tbody tr th:only-of-type {\n",
       "        vertical-align: middle;\n",
       "    }\n",
       "\n",
       "    .dataframe tbody tr th {\n",
       "        vertical-align: top;\n",
       "    }\n",
       "\n",
       "    .dataframe thead th {\n",
       "        text-align: right;\n",
       "    }\n",
       "</style>\n",
       "<table border=\"1\" class=\"dataframe\">\n",
       "  <thead>\n",
       "    <tr style=\"text-align: right;\">\n",
       "      <th></th>\n",
       "      <th>user_id</th>\n",
       "      <th>month</th>\n",
       "      <th>message_date_count</th>\n",
       "    </tr>\n",
       "  </thead>\n",
       "  <tbody>\n",
       "    <tr>\n",
       "      <th>0</th>\n",
       "      <td>1000</td>\n",
       "      <td>5</td>\n",
       "      <td>22</td>\n",
       "    </tr>\n",
       "    <tr>\n",
       "      <th>1</th>\n",
       "      <td>1000</td>\n",
       "      <td>6</td>\n",
       "      <td>60</td>\n",
       "    </tr>\n",
       "    <tr>\n",
       "      <th>2</th>\n",
       "      <td>1000</td>\n",
       "      <td>7</td>\n",
       "      <td>75</td>\n",
       "    </tr>\n",
       "    <tr>\n",
       "      <th>3</th>\n",
       "      <td>1000</td>\n",
       "      <td>8</td>\n",
       "      <td>81</td>\n",
       "    </tr>\n",
       "    <tr>\n",
       "      <th>4</th>\n",
       "      <td>1000</td>\n",
       "      <td>9</td>\n",
       "      <td>57</td>\n",
       "    </tr>\n",
       "  </tbody>\n",
       "</table>\n",
       "</div>"
      ],
      "text/plain": [
       "   user_id  month  message_date_count\n",
       "0     1000      5                  22\n",
       "1     1000      6                  60\n",
       "2     1000      7                  75\n",
       "3     1000      8                  81\n",
       "4     1000      9                  57"
      ]
     },
     "execution_count": 60,
     "metadata": {},
     "output_type": "execute_result"
    }
   ],
   "source": [
    "message_data.head()"
   ]
  },
  {
   "cell_type": "markdown",
   "id": "88129c96",
   "metadata": {},
   "source": [
    "### Группировка данных"
   ]
  },
  {
   "cell_type": "markdown",
   "id": "12503b82",
   "metadata": {},
   "source": [
    "Объединим данные в одну таблицу `summary_file`. Помимо выше созданных таблиц добавим в сводную названия городов и подробности о тарифах. Это поможет ответить на вопросы в рамках задания."
   ]
  },
  {
   "cell_type": "code",
   "execution_count": 61,
   "id": "cf4d10d6",
   "metadata": {},
   "outputs": [],
   "source": [
    "# сохраним данные calls_data и internet_data в новую переменную 'summary_file'. \n",
    "# объединим таблицы по столбцам 'user_id' и 'month'\n",
    "summary_file = calls_data.merge(internet_data, on=['user_id', 'month'], how='outer')"
   ]
  },
  {
   "cell_type": "markdown",
   "id": "747a62de",
   "metadata": {},
   "source": [
    "Для того чтобы не потерять данные после объединения таблиц сделаем сумму значений столбца 'duration_sum' проверочным числом после каждого объединения. Она должна остаться неизменной после окончания слияния данных."
   ]
  },
  {
   "cell_type": "code",
   "execution_count": 62,
   "id": "467411bf",
   "metadata": {},
   "outputs": [
    {
     "data": {
      "text/plain": [
       "1450301.0"
      ]
     },
     "execution_count": 62,
     "metadata": {},
     "output_type": "execute_result"
    }
   ],
   "source": [
    "summary_file['duration_sum'].sum()"
   ]
  },
  {
   "cell_type": "code",
   "execution_count": 63,
   "id": "7ec157a7",
   "metadata": {},
   "outputs": [],
   "source": [
    "# добавим message_data в таблицу summary_file\n",
    "summary_file = summary_file.merge(message_data, on=['user_id', 'month'], how='outer')"
   ]
  },
  {
   "cell_type": "code",
   "execution_count": 64,
   "id": "3c4cf33a",
   "metadata": {},
   "outputs": [
    {
     "data": {
      "text/plain": [
       "1450301.0"
      ]
     },
     "execution_count": 64,
     "metadata": {},
     "output_type": "execute_result"
    }
   ],
   "source": [
    "# проверим сумму значений 'duration_sum' еще раз\n",
    "summary_file['duration_sum'].sum()"
   ]
  },
  {
   "cell_type": "markdown",
   "id": "d7ada113",
   "metadata": {},
   "source": [
    "Контрольная сумма совпадает. Объединение прошло успешно."
   ]
  },
  {
   "cell_type": "code",
   "execution_count": 65,
   "id": "fb45806c",
   "metadata": {},
   "outputs": [],
   "source": [
    "# добавим столбцы 'tariff' и 'city' из файла df_users в таблицу summary_file.\n",
    "# перед этим создадим усеченную версию таблицы df_users\n",
    "users_data = df_users[['user_id', 'tariff', 'city']]"
   ]
  },
  {
   "cell_type": "code",
   "execution_count": 66,
   "id": "0380ff39",
   "metadata": {},
   "outputs": [],
   "source": [
    "summary_file = summary_file.merge(users_data, on='user_id', how='left')"
   ]
  },
  {
   "cell_type": "code",
   "execution_count": 67,
   "id": "407dce20",
   "metadata": {},
   "outputs": [
    {
     "data": {
      "text/plain": [
       "1450301.0"
      ]
     },
     "execution_count": 67,
     "metadata": {},
     "output_type": "execute_result"
    }
   ],
   "source": [
    "# проверим сумму значений 'duration_sum'\n",
    "summary_file['duration_sum'].sum()"
   ]
  },
  {
   "cell_type": "markdown",
   "id": "ba204340",
   "metadata": {},
   "source": [
    "Контрольная сумма совпадает. Объединение таблиц прошло успешно."
   ]
  },
  {
   "cell_type": "code",
   "execution_count": 68,
   "id": "7f277c2a",
   "metadata": {},
   "outputs": [
    {
     "data": {
      "text/html": [
       "<div>\n",
       "<style scoped>\n",
       "    .dataframe tbody tr th:only-of-type {\n",
       "        vertical-align: middle;\n",
       "    }\n",
       "\n",
       "    .dataframe tbody tr th {\n",
       "        vertical-align: top;\n",
       "    }\n",
       "\n",
       "    .dataframe thead th {\n",
       "        text-align: right;\n",
       "    }\n",
       "</style>\n",
       "<table border=\"1\" class=\"dataframe\">\n",
       "  <thead>\n",
       "    <tr style=\"text-align: right;\">\n",
       "      <th></th>\n",
       "      <th>user_id</th>\n",
       "      <th>month</th>\n",
       "      <th>duration_sum</th>\n",
       "      <th>mb_used_sum</th>\n",
       "      <th>message_date_count</th>\n",
       "      <th>tariff</th>\n",
       "      <th>city</th>\n",
       "    </tr>\n",
       "  </thead>\n",
       "  <tbody>\n",
       "    <tr>\n",
       "      <th>0</th>\n",
       "      <td>1000</td>\n",
       "      <td>5</td>\n",
       "      <td>159.00</td>\n",
       "      <td>2,253.49</td>\n",
       "      <td>22.00</td>\n",
       "      <td>ultra</td>\n",
       "      <td>Краснодар</td>\n",
       "    </tr>\n",
       "    <tr>\n",
       "      <th>1</th>\n",
       "      <td>1000</td>\n",
       "      <td>6</td>\n",
       "      <td>172.00</td>\n",
       "      <td>23,233.77</td>\n",
       "      <td>60.00</td>\n",
       "      <td>ultra</td>\n",
       "      <td>Краснодар</td>\n",
       "    </tr>\n",
       "    <tr>\n",
       "      <th>2</th>\n",
       "      <td>1000</td>\n",
       "      <td>7</td>\n",
       "      <td>340.00</td>\n",
       "      <td>14,003.64</td>\n",
       "      <td>75.00</td>\n",
       "      <td>ultra</td>\n",
       "      <td>Краснодар</td>\n",
       "    </tr>\n",
       "    <tr>\n",
       "      <th>3</th>\n",
       "      <td>1000</td>\n",
       "      <td>8</td>\n",
       "      <td>408.00</td>\n",
       "      <td>14,055.93</td>\n",
       "      <td>81.00</td>\n",
       "      <td>ultra</td>\n",
       "      <td>Краснодар</td>\n",
       "    </tr>\n",
       "    <tr>\n",
       "      <th>4</th>\n",
       "      <td>1000</td>\n",
       "      <td>9</td>\n",
       "      <td>466.00</td>\n",
       "      <td>14,568.91</td>\n",
       "      <td>57.00</td>\n",
       "      <td>ultra</td>\n",
       "      <td>Краснодар</td>\n",
       "    </tr>\n",
       "  </tbody>\n",
       "</table>\n",
       "</div>"
      ],
      "text/plain": [
       "   user_id  month  duration_sum  mb_used_sum  message_date_count tariff  \\\n",
       "0     1000      5        159.00     2,253.49               22.00  ultra   \n",
       "1     1000      6        172.00    23,233.77               60.00  ultra   \n",
       "2     1000      7        340.00    14,003.64               75.00  ultra   \n",
       "3     1000      8        408.00    14,055.93               81.00  ultra   \n",
       "4     1000      9        466.00    14,568.91               57.00  ultra   \n",
       "\n",
       "        city  \n",
       "0  Краснодар  \n",
       "1  Краснодар  \n",
       "2  Краснодар  \n",
       "3  Краснодар  \n",
       "4  Краснодар  "
      ]
     },
     "execution_count": 68,
     "metadata": {},
     "output_type": "execute_result"
    }
   ],
   "source": [
    "# изучим получившуюся таблицу\n",
    "summary_file.head()"
   ]
  },
  {
   "cell_type": "code",
   "execution_count": 69,
   "id": "503dde20",
   "metadata": {},
   "outputs": [],
   "source": [
    "# переименуем название столбца 'tariff' в 'tariff_name' чтобы подтянуть данные из таблицы df_tariffs\n",
    "summary_file.columns = ['user_id', 'month', 'duration_sum', 'mb_used_sum', 'message_date_count', 'tariff_name', 'city']"
   ]
  },
  {
   "cell_type": "code",
   "execution_count": 70,
   "id": "0605b15c",
   "metadata": {},
   "outputs": [
    {
     "data": {
      "text/plain": [
       "1450301.0"
      ]
     },
     "execution_count": 70,
     "metadata": {},
     "output_type": "execute_result"
    }
   ],
   "source": [
    "# проверим сумму значений 'duration_sum'\n",
    "summary_file['duration_sum'].sum() "
   ]
  },
  {
   "cell_type": "markdown",
   "id": "56b28846",
   "metadata": {},
   "source": [
    "Контрольная сумма совпадает. Объединение прошло успешно. Можно продолжать."
   ]
  },
  {
   "cell_type": "code",
   "execution_count": 71,
   "id": "60ef2698",
   "metadata": {},
   "outputs": [
    {
     "data": {
      "text/html": [
       "<div>\n",
       "<style scoped>\n",
       "    .dataframe tbody tr th:only-of-type {\n",
       "        vertical-align: middle;\n",
       "    }\n",
       "\n",
       "    .dataframe tbody tr th {\n",
       "        vertical-align: top;\n",
       "    }\n",
       "\n",
       "    .dataframe thead th {\n",
       "        text-align: right;\n",
       "    }\n",
       "</style>\n",
       "<table border=\"1\" class=\"dataframe\">\n",
       "  <thead>\n",
       "    <tr style=\"text-align: right;\">\n",
       "      <th></th>\n",
       "      <th>user_id</th>\n",
       "      <th>month</th>\n",
       "      <th>duration_sum</th>\n",
       "      <th>mb_used_sum</th>\n",
       "      <th>message_date_count</th>\n",
       "      <th>tariff_name</th>\n",
       "      <th>city</th>\n",
       "    </tr>\n",
       "  </thead>\n",
       "  <tbody>\n",
       "    <tr>\n",
       "      <th>0</th>\n",
       "      <td>1000</td>\n",
       "      <td>5</td>\n",
       "      <td>159.00</td>\n",
       "      <td>2,253.49</td>\n",
       "      <td>22.00</td>\n",
       "      <td>ultra</td>\n",
       "      <td>Краснодар</td>\n",
       "    </tr>\n",
       "    <tr>\n",
       "      <th>1</th>\n",
       "      <td>1000</td>\n",
       "      <td>6</td>\n",
       "      <td>172.00</td>\n",
       "      <td>23,233.77</td>\n",
       "      <td>60.00</td>\n",
       "      <td>ultra</td>\n",
       "      <td>Краснодар</td>\n",
       "    </tr>\n",
       "    <tr>\n",
       "      <th>2</th>\n",
       "      <td>1000</td>\n",
       "      <td>7</td>\n",
       "      <td>340.00</td>\n",
       "      <td>14,003.64</td>\n",
       "      <td>75.00</td>\n",
       "      <td>ultra</td>\n",
       "      <td>Краснодар</td>\n",
       "    </tr>\n",
       "    <tr>\n",
       "      <th>3</th>\n",
       "      <td>1000</td>\n",
       "      <td>8</td>\n",
       "      <td>408.00</td>\n",
       "      <td>14,055.93</td>\n",
       "      <td>81.00</td>\n",
       "      <td>ultra</td>\n",
       "      <td>Краснодар</td>\n",
       "    </tr>\n",
       "    <tr>\n",
       "      <th>4</th>\n",
       "      <td>1000</td>\n",
       "      <td>9</td>\n",
       "      <td>466.00</td>\n",
       "      <td>14,568.91</td>\n",
       "      <td>57.00</td>\n",
       "      <td>ultra</td>\n",
       "      <td>Краснодар</td>\n",
       "    </tr>\n",
       "  </tbody>\n",
       "</table>\n",
       "</div>"
      ],
      "text/plain": [
       "   user_id  month  duration_sum  mb_used_sum  message_date_count tariff_name  \\\n",
       "0     1000      5        159.00     2,253.49               22.00       ultra   \n",
       "1     1000      6        172.00    23,233.77               60.00       ultra   \n",
       "2     1000      7        340.00    14,003.64               75.00       ultra   \n",
       "3     1000      8        408.00    14,055.93               81.00       ultra   \n",
       "4     1000      9        466.00    14,568.91               57.00       ultra   \n",
       "\n",
       "        city  \n",
       "0  Краснодар  \n",
       "1  Краснодар  \n",
       "2  Краснодар  \n",
       "3  Краснодар  \n",
       "4  Краснодар  "
      ]
     },
     "execution_count": 71,
     "metadata": {},
     "output_type": "execute_result"
    }
   ],
   "source": [
    "# изучим получившуюся таблицу\n",
    "summary_file.head()"
   ]
  },
  {
   "cell_type": "code",
   "execution_count": 72,
   "id": "745f1bdf",
   "metadata": {},
   "outputs": [],
   "source": [
    "# добавим df_tariffs в таблицу summary_file\n",
    "summary_file = summary_file.merge(df_tariffs, on='tariff_name', how='left')"
   ]
  },
  {
   "cell_type": "code",
   "execution_count": 73,
   "id": "98c3bd6d",
   "metadata": {},
   "outputs": [
    {
     "data": {
      "text/plain": [
       "1450301.0"
      ]
     },
     "execution_count": 73,
     "metadata": {},
     "output_type": "execute_result"
    }
   ],
   "source": [
    "# проверим контрольное значение суммы столбца'duration_sum'\n",
    "summary_file['duration_sum'].sum()"
   ]
  },
  {
   "cell_type": "markdown",
   "id": "cce55e0e",
   "metadata": {},
   "source": [
    "Контрольная сумма совпадает."
   ]
  },
  {
   "cell_type": "code",
   "execution_count": 74,
   "id": "bf69247e",
   "metadata": {},
   "outputs": [
    {
     "data": {
      "text/html": [
       "<div>\n",
       "<style scoped>\n",
       "    .dataframe tbody tr th:only-of-type {\n",
       "        vertical-align: middle;\n",
       "    }\n",
       "\n",
       "    .dataframe tbody tr th {\n",
       "        vertical-align: top;\n",
       "    }\n",
       "\n",
       "    .dataframe thead th {\n",
       "        text-align: right;\n",
       "    }\n",
       "</style>\n",
       "<table border=\"1\" class=\"dataframe\">\n",
       "  <thead>\n",
       "    <tr style=\"text-align: right;\">\n",
       "      <th></th>\n",
       "      <th>user_id</th>\n",
       "      <th>month</th>\n",
       "      <th>duration_sum</th>\n",
       "      <th>mb_used_sum</th>\n",
       "      <th>message_date_count</th>\n",
       "      <th>tariff_name</th>\n",
       "      <th>city</th>\n",
       "      <th>messages_included</th>\n",
       "      <th>mb_per_month_included</th>\n",
       "      <th>minutes_included</th>\n",
       "      <th>rub_monthly_fee</th>\n",
       "      <th>rub_per_gb</th>\n",
       "      <th>rub_per_message</th>\n",
       "      <th>rub_per_minute</th>\n",
       "    </tr>\n",
       "  </thead>\n",
       "  <tbody>\n",
       "    <tr>\n",
       "      <th>0</th>\n",
       "      <td>1000</td>\n",
       "      <td>5</td>\n",
       "      <td>159.00</td>\n",
       "      <td>2,253.49</td>\n",
       "      <td>22.00</td>\n",
       "      <td>ultra</td>\n",
       "      <td>Краснодар</td>\n",
       "      <td>1000</td>\n",
       "      <td>30720</td>\n",
       "      <td>3000</td>\n",
       "      <td>1950</td>\n",
       "      <td>150</td>\n",
       "      <td>1</td>\n",
       "      <td>1</td>\n",
       "    </tr>\n",
       "    <tr>\n",
       "      <th>1</th>\n",
       "      <td>1000</td>\n",
       "      <td>6</td>\n",
       "      <td>172.00</td>\n",
       "      <td>23,233.77</td>\n",
       "      <td>60.00</td>\n",
       "      <td>ultra</td>\n",
       "      <td>Краснодар</td>\n",
       "      <td>1000</td>\n",
       "      <td>30720</td>\n",
       "      <td>3000</td>\n",
       "      <td>1950</td>\n",
       "      <td>150</td>\n",
       "      <td>1</td>\n",
       "      <td>1</td>\n",
       "    </tr>\n",
       "    <tr>\n",
       "      <th>2</th>\n",
       "      <td>1000</td>\n",
       "      <td>7</td>\n",
       "      <td>340.00</td>\n",
       "      <td>14,003.64</td>\n",
       "      <td>75.00</td>\n",
       "      <td>ultra</td>\n",
       "      <td>Краснодар</td>\n",
       "      <td>1000</td>\n",
       "      <td>30720</td>\n",
       "      <td>3000</td>\n",
       "      <td>1950</td>\n",
       "      <td>150</td>\n",
       "      <td>1</td>\n",
       "      <td>1</td>\n",
       "    </tr>\n",
       "    <tr>\n",
       "      <th>3</th>\n",
       "      <td>1000</td>\n",
       "      <td>8</td>\n",
       "      <td>408.00</td>\n",
       "      <td>14,055.93</td>\n",
       "      <td>81.00</td>\n",
       "      <td>ultra</td>\n",
       "      <td>Краснодар</td>\n",
       "      <td>1000</td>\n",
       "      <td>30720</td>\n",
       "      <td>3000</td>\n",
       "      <td>1950</td>\n",
       "      <td>150</td>\n",
       "      <td>1</td>\n",
       "      <td>1</td>\n",
       "    </tr>\n",
       "    <tr>\n",
       "      <th>4</th>\n",
       "      <td>1000</td>\n",
       "      <td>9</td>\n",
       "      <td>466.00</td>\n",
       "      <td>14,568.91</td>\n",
       "      <td>57.00</td>\n",
       "      <td>ultra</td>\n",
       "      <td>Краснодар</td>\n",
       "      <td>1000</td>\n",
       "      <td>30720</td>\n",
       "      <td>3000</td>\n",
       "      <td>1950</td>\n",
       "      <td>150</td>\n",
       "      <td>1</td>\n",
       "      <td>1</td>\n",
       "    </tr>\n",
       "  </tbody>\n",
       "</table>\n",
       "</div>"
      ],
      "text/plain": [
       "   user_id  month  duration_sum  mb_used_sum  message_date_count tariff_name  \\\n",
       "0     1000      5        159.00     2,253.49               22.00       ultra   \n",
       "1     1000      6        172.00    23,233.77               60.00       ultra   \n",
       "2     1000      7        340.00    14,003.64               75.00       ultra   \n",
       "3     1000      8        408.00    14,055.93               81.00       ultra   \n",
       "4     1000      9        466.00    14,568.91               57.00       ultra   \n",
       "\n",
       "        city  messages_included  mb_per_month_included  minutes_included  \\\n",
       "0  Краснодар               1000                  30720              3000   \n",
       "1  Краснодар               1000                  30720              3000   \n",
       "2  Краснодар               1000                  30720              3000   \n",
       "3  Краснодар               1000                  30720              3000   \n",
       "4  Краснодар               1000                  30720              3000   \n",
       "\n",
       "   rub_monthly_fee  rub_per_gb  rub_per_message  rub_per_minute  \n",
       "0             1950         150                1               1  \n",
       "1             1950         150                1               1  \n",
       "2             1950         150                1               1  \n",
       "3             1950         150                1               1  \n",
       "4             1950         150                1               1  "
      ]
     },
     "execution_count": 74,
     "metadata": {},
     "output_type": "execute_result"
    }
   ],
   "source": [
    "# изучим получившуюся таблицу\n",
    "summary_file.head()"
   ]
  },
  {
   "cell_type": "code",
   "execution_count": 75,
   "id": "a9071be0",
   "metadata": {},
   "outputs": [
    {
     "data": {
      "text/plain": [
       "user_id                    0\n",
       "month                      0\n",
       "duration_sum              40\n",
       "mb_used_sum               11\n",
       "message_date_count       497\n",
       "tariff_name                0\n",
       "city                       0\n",
       "messages_included          0\n",
       "mb_per_month_included      0\n",
       "minutes_included           0\n",
       "rub_monthly_fee            0\n",
       "rub_per_gb                 0\n",
       "rub_per_message            0\n",
       "rub_per_minute             0\n",
       "dtype: int64"
      ]
     },
     "execution_count": 75,
     "metadata": {},
     "output_type": "execute_result"
    }
   ],
   "source": [
    "# проверим summary_file на пропуски\n",
    "summary_file.isna().sum()"
   ]
  },
  {
   "cell_type": "code",
   "execution_count": 76,
   "id": "11284fe5",
   "metadata": {},
   "outputs": [],
   "source": [
    "# заполним пропущенные значения в столбцах duration_sum, mb_used_sum, message_date_count\n",
    "summary_file.fillna(0, inplace = True)"
   ]
  },
  {
   "cell_type": "code",
   "execution_count": 77,
   "id": "f15f29c4",
   "metadata": {},
   "outputs": [
    {
     "data": {
      "text/plain": [
       "user_id                  0\n",
       "month                    0\n",
       "duration_sum             0\n",
       "mb_used_sum              0\n",
       "message_date_count       0\n",
       "tariff_name              0\n",
       "city                     0\n",
       "messages_included        0\n",
       "mb_per_month_included    0\n",
       "minutes_included         0\n",
       "rub_monthly_fee          0\n",
       "rub_per_gb               0\n",
       "rub_per_message          0\n",
       "rub_per_minute           0\n",
       "dtype: int64"
      ]
     },
     "execution_count": 77,
     "metadata": {},
     "output_type": "execute_result"
    }
   ],
   "source": [
    "# проверим остались ли пропуски\n",
    "summary_file.isna().sum()"
   ]
  },
  {
   "cell_type": "markdown",
   "id": "f22d83f5",
   "metadata": {},
   "source": [
    "### Обработка дубликатов"
   ]
  },
  {
   "cell_type": "code",
   "execution_count": 78,
   "id": "b24d41c0",
   "metadata": {},
   "outputs": [
    {
     "data": {
      "text/plain": [
       "0"
      ]
     },
     "execution_count": 78,
     "metadata": {},
     "output_type": "execute_result"
    }
   ],
   "source": [
    "# посчитаем количество явных дубликатов во всем датафрейме\n",
    "summary_file.duplicated().sum()"
   ]
  },
  {
   "cell_type": "markdown",
   "id": "8cdc575a",
   "metadata": {},
   "source": [
    "### Расчет помесячной выручки с каждого пользователя"
   ]
  },
  {
   "cell_type": "markdown",
   "id": "e481a9e2",
   "metadata": {},
   "source": [
    "Для вычисления помесячной выручки с каждого пользователя необходимо:\n",
    "\n",
    "1. Вычесть бесплатный лимит из суммарного количества звонков, сообщений и интернет-трафика;\n",
    "2. Остаток умножить на значение из тарифного плана; \n",
    "3. Прибавить абонентскую плату, соответствующую тарифному плану."
   ]
  },
  {
   "cell_type": "markdown",
   "id": "12580cd8",
   "metadata": {},
   "source": [
    "Определим помесячную выручку написав функцию. Добавим ее в новый столбец `monthly_revenue` в `summary_file`. Переводить мегабайты в гигабайты, а потом их округлять будем в рамках функции."
   ]
  },
  {
   "cell_type": "code",
   "execution_count": 79,
   "id": "4ea5c3f0",
   "metadata": {},
   "outputs": [],
   "source": [
    "# создадим переменную с количеством мегабайт в одном гигабайте\n",
    "megabytes_per_gigabyte = 1024\n",
    "\n",
    "# напишем функцию для вычисления помесячной выручки с каждого пользователя\n",
    "def monthly_revenue(row): \n",
    "    revenue = 0\n",
    "\n",
    "    duration_not_limited = row['duration_sum'] - row['minutes_included']\n",
    "    if duration_not_limited < 0:\n",
    "        duration_not_limited = 0\n",
    "#  тут переведем мегабайты в гигабайты и только потом округлим их        \n",
    "    mb_used_not_unlimited = (np.ceil(row['mb_used_sum']/megabytes_per_gigabyte)) - (row['mb_per_month_included']/megabytes_per_gigabyte)\n",
    "    if mb_used_not_unlimited < 0:\n",
    "        mb_used_not_unlimited = 0\n",
    "            \n",
    "    message_not_unlimited = row['message_date_count'] - row['messages_included']\n",
    "    if message_not_unlimited < 0:\n",
    "        message_not_unlimited = 0\n",
    "\n",
    "    revenue = duration_not_limited * row['rub_per_minute'] + (mb_used_not_unlimited) * row['rub_per_gb'] + message_not_unlimited * row['rub_per_message'] + row['rub_monthly_fee']\n",
    "    return revenue\n",
    "    \n",
    "summary_file['monthly_revenue'] = summary_file.apply(monthly_revenue, axis=1)  "
   ]
  },
  {
   "cell_type": "code",
   "execution_count": 80,
   "id": "87c91d74",
   "metadata": {},
   "outputs": [
    {
     "data": {
      "text/html": [
       "<div>\n",
       "<style scoped>\n",
       "    .dataframe tbody tr th:only-of-type {\n",
       "        vertical-align: middle;\n",
       "    }\n",
       "\n",
       "    .dataframe tbody tr th {\n",
       "        vertical-align: top;\n",
       "    }\n",
       "\n",
       "    .dataframe thead th {\n",
       "        text-align: right;\n",
       "    }\n",
       "</style>\n",
       "<table border=\"1\" class=\"dataframe\">\n",
       "  <thead>\n",
       "    <tr style=\"text-align: right;\">\n",
       "      <th></th>\n",
       "      <th>user_id</th>\n",
       "      <th>month</th>\n",
       "      <th>duration_sum</th>\n",
       "      <th>mb_used_sum</th>\n",
       "      <th>message_date_count</th>\n",
       "      <th>tariff_name</th>\n",
       "      <th>city</th>\n",
       "      <th>messages_included</th>\n",
       "      <th>mb_per_month_included</th>\n",
       "      <th>minutes_included</th>\n",
       "      <th>rub_monthly_fee</th>\n",
       "      <th>rub_per_gb</th>\n",
       "      <th>rub_per_message</th>\n",
       "      <th>rub_per_minute</th>\n",
       "      <th>monthly_revenue</th>\n",
       "    </tr>\n",
       "  </thead>\n",
       "  <tbody>\n",
       "    <tr>\n",
       "      <th>506</th>\n",
       "      <td>1080</td>\n",
       "      <td>12</td>\n",
       "      <td>904.00</td>\n",
       "      <td>4,153.55</td>\n",
       "      <td>71.00</td>\n",
       "      <td>ultra</td>\n",
       "      <td>Москва</td>\n",
       "      <td>1000</td>\n",
       "      <td>30720</td>\n",
       "      <td>3000</td>\n",
       "      <td>1950</td>\n",
       "      <td>150</td>\n",
       "      <td>1</td>\n",
       "      <td>1</td>\n",
       "      <td>1,950.00</td>\n",
       "    </tr>\n",
       "    <tr>\n",
       "      <th>2513</th>\n",
       "      <td>1395</td>\n",
       "      <td>12</td>\n",
       "      <td>627.00</td>\n",
       "      <td>16,286.17</td>\n",
       "      <td>25.00</td>\n",
       "      <td>smart</td>\n",
       "      <td>Москва</td>\n",
       "      <td>50</td>\n",
       "      <td>15360</td>\n",
       "      <td>500</td>\n",
       "      <td>550</td>\n",
       "      <td>200</td>\n",
       "      <td>3</td>\n",
       "      <td>3</td>\n",
       "      <td>1,131.00</td>\n",
       "    </tr>\n",
       "    <tr>\n",
       "      <th>354</th>\n",
       "      <td>1056</td>\n",
       "      <td>5</td>\n",
       "      <td>462.00</td>\n",
       "      <td>17,435.95</td>\n",
       "      <td>49.00</td>\n",
       "      <td>smart</td>\n",
       "      <td>Иркутск</td>\n",
       "      <td>50</td>\n",
       "      <td>15360</td>\n",
       "      <td>500</td>\n",
       "      <td>550</td>\n",
       "      <td>200</td>\n",
       "      <td>3</td>\n",
       "      <td>3</td>\n",
       "      <td>1,150.00</td>\n",
       "    </tr>\n",
       "    <tr>\n",
       "      <th>1080</th>\n",
       "      <td>1173</td>\n",
       "      <td>10</td>\n",
       "      <td>841.00</td>\n",
       "      <td>20,728.29</td>\n",
       "      <td>14.00</td>\n",
       "      <td>smart</td>\n",
       "      <td>Красноярск</td>\n",
       "      <td>50</td>\n",
       "      <td>15360</td>\n",
       "      <td>500</td>\n",
       "      <td>550</td>\n",
       "      <td>200</td>\n",
       "      <td>3</td>\n",
       "      <td>3</td>\n",
       "      <td>2,773.00</td>\n",
       "    </tr>\n",
       "    <tr>\n",
       "      <th>2389</th>\n",
       "      <td>1380</td>\n",
       "      <td>8</td>\n",
       "      <td>629.00</td>\n",
       "      <td>33,044.80</td>\n",
       "      <td>26.00</td>\n",
       "      <td>ultra</td>\n",
       "      <td>Ростов-на-Дону</td>\n",
       "      <td>1000</td>\n",
       "      <td>30720</td>\n",
       "      <td>3000</td>\n",
       "      <td>1950</td>\n",
       "      <td>150</td>\n",
       "      <td>1</td>\n",
       "      <td>1</td>\n",
       "      <td>2,400.00</td>\n",
       "    </tr>\n",
       "  </tbody>\n",
       "</table>\n",
       "</div>"
      ],
      "text/plain": [
       "      user_id  month  duration_sum  mb_used_sum  message_date_count  \\\n",
       "506      1080     12        904.00     4,153.55               71.00   \n",
       "2513     1395     12        627.00    16,286.17               25.00   \n",
       "354      1056      5        462.00    17,435.95               49.00   \n",
       "1080     1173     10        841.00    20,728.29               14.00   \n",
       "2389     1380      8        629.00    33,044.80               26.00   \n",
       "\n",
       "     tariff_name            city  messages_included  mb_per_month_included  \\\n",
       "506        ultra          Москва               1000                  30720   \n",
       "2513       smart          Москва                 50                  15360   \n",
       "354        smart         Иркутск                 50                  15360   \n",
       "1080       smart      Красноярск                 50                  15360   \n",
       "2389       ultra  Ростов-на-Дону               1000                  30720   \n",
       "\n",
       "      minutes_included  rub_monthly_fee  rub_per_gb  rub_per_message  \\\n",
       "506               3000             1950         150                1   \n",
       "2513               500              550         200                3   \n",
       "354                500              550         200                3   \n",
       "1080               500              550         200                3   \n",
       "2389              3000             1950         150                1   \n",
       "\n",
       "      rub_per_minute  monthly_revenue  \n",
       "506                1         1,950.00  \n",
       "2513               3         1,131.00  \n",
       "354                3         1,150.00  \n",
       "1080               3         2,773.00  \n",
       "2389               1         2,400.00  "
      ]
     },
     "execution_count": 80,
     "metadata": {},
     "output_type": "execute_result"
    }
   ],
   "source": [
    "# проверим работу функции. Выведем 5 случайных строк таблицы.\n",
    "summary_file.sample(5, random_state = 42)"
   ]
  },
  {
   "cell_type": "markdown",
   "id": "237ea664",
   "metadata": {},
   "source": [
    "### Выводы"
   ]
  },
  {
   "cell_type": "markdown",
   "id": "35d49107",
   "metadata": {},
   "source": [
    "Данные были приведены к нужным типам. Рассчитана средняя выручкой за месяц в зависимости от тарифа. Вся информация объединена в таблицу summary_file. \n",
    "\n",
    "Приступим к анализу данных."
   ]
  },
  {
   "cell_type": "markdown",
   "id": "c6412212",
   "metadata": {},
   "source": [
    "## Анализ данных"
   ]
  },
  {
   "cell_type": "markdown",
   "id": "7f26ddb7",
   "metadata": {},
   "source": [
    "Задачи:\n",
    "* Опишем поведение клиентов оператора, исходя из выборки. \n",
    "* Узнаем сколько минут разговора, сколько сообщений и какой объём интернет-трафика требуется пользователям каждого тарифа в месяц. \n",
    "* Посчитаем среднее количество, дисперсию и стандартное отклонение. Построим гистограммы. Опишем распределения."
   ]
  },
  {
   "cell_type": "markdown",
   "id": "3b7f9b12",
   "metadata": {},
   "source": [
    "Перед началом анализа сделаем две выборки соответствующие каждому тарифу."
   ]
  },
  {
   "cell_type": "code",
   "execution_count": 81,
   "id": "83c6ca21",
   "metadata": {},
   "outputs": [],
   "source": [
    "# сохраним данные по тарифу smart в переменную smart_tariff\n",
    "smart_tariff = summary_file[summary_file['tariff_name'] == 'smart']"
   ]
  },
  {
   "cell_type": "code",
   "execution_count": 82,
   "id": "afbbe747",
   "metadata": {},
   "outputs": [
    {
     "data": {
      "text/html": [
       "<div>\n",
       "<style scoped>\n",
       "    .dataframe tbody tr th:only-of-type {\n",
       "        vertical-align: middle;\n",
       "    }\n",
       "\n",
       "    .dataframe tbody tr th {\n",
       "        vertical-align: top;\n",
       "    }\n",
       "\n",
       "    .dataframe thead th {\n",
       "        text-align: right;\n",
       "    }\n",
       "</style>\n",
       "<table border=\"1\" class=\"dataframe\">\n",
       "  <thead>\n",
       "    <tr style=\"text-align: right;\">\n",
       "      <th></th>\n",
       "      <th>user_id</th>\n",
       "      <th>month</th>\n",
       "      <th>duration_sum</th>\n",
       "      <th>mb_used_sum</th>\n",
       "      <th>message_date_count</th>\n",
       "      <th>tariff_name</th>\n",
       "      <th>monthly_revenue</th>\n",
       "    </tr>\n",
       "  </thead>\n",
       "  <tbody>\n",
       "    <tr>\n",
       "      <th>77</th>\n",
       "      <td>1010</td>\n",
       "      <td>12</td>\n",
       "      <td>336.00</td>\n",
       "      <td>19,207.37</td>\n",
       "      <td>0.00</td>\n",
       "      <td>smart</td>\n",
       "      <td>1,350.00</td>\n",
       "    </tr>\n",
       "    <tr>\n",
       "      <th>690</th>\n",
       "      <td>1111</td>\n",
       "      <td>11</td>\n",
       "      <td>347.00</td>\n",
       "      <td>11,397.37</td>\n",
       "      <td>2.00</td>\n",
       "      <td>smart</td>\n",
       "      <td>550.00</td>\n",
       "    </tr>\n",
       "    <tr>\n",
       "      <th>2356</th>\n",
       "      <td>1376</td>\n",
       "      <td>11</td>\n",
       "      <td>291.00</td>\n",
       "      <td>19,316.13</td>\n",
       "      <td>0.00</td>\n",
       "      <td>smart</td>\n",
       "      <td>1,350.00</td>\n",
       "    </tr>\n",
       "    <tr>\n",
       "      <th>280</th>\n",
       "      <td>1045</td>\n",
       "      <td>6</td>\n",
       "      <td>229.00</td>\n",
       "      <td>16,914.11</td>\n",
       "      <td>65.00</td>\n",
       "      <td>smart</td>\n",
       "      <td>995.00</td>\n",
       "    </tr>\n",
       "    <tr>\n",
       "      <th>1298</th>\n",
       "      <td>1204</td>\n",
       "      <td>11</td>\n",
       "      <td>239.00</td>\n",
       "      <td>20,479.99</td>\n",
       "      <td>0.00</td>\n",
       "      <td>smart</td>\n",
       "      <td>1,550.00</td>\n",
       "    </tr>\n",
       "  </tbody>\n",
       "</table>\n",
       "</div>"
      ],
      "text/plain": [
       "      user_id  month  duration_sum  mb_used_sum  message_date_count  \\\n",
       "77       1010     12        336.00    19,207.37                0.00   \n",
       "690      1111     11        347.00    11,397.37                2.00   \n",
       "2356     1376     11        291.00    19,316.13                0.00   \n",
       "280      1045      6        229.00    16,914.11               65.00   \n",
       "1298     1204     11        239.00    20,479.99                0.00   \n",
       "\n",
       "     tariff_name  monthly_revenue  \n",
       "77         smart         1,350.00  \n",
       "690        smart           550.00  \n",
       "2356       smart         1,350.00  \n",
       "280        smart           995.00  \n",
       "1298       smart         1,550.00  "
      ]
     },
     "execution_count": 82,
     "metadata": {},
     "output_type": "execute_result"
    }
   ],
   "source": [
    "# проверим выборку. Выведем на экран 5 случайных строк. Отфильтруем необходимые столбцы.\n",
    "smart_tariff[['user_id', 'month', 'duration_sum', 'mb_used_sum', 'message_date_count', 'tariff_name', 'monthly_revenue']].sample(5, random_state = 42)"
   ]
  },
  {
   "cell_type": "code",
   "execution_count": 83,
   "id": "1605e7e5",
   "metadata": {},
   "outputs": [],
   "source": [
    "# сохраним данные по тарифу ultra в переменную ultra_tariff\n",
    "ultra_tariff = summary_file[summary_file['tariff_name'] == 'ultra']"
   ]
  },
  {
   "cell_type": "code",
   "execution_count": 84,
   "id": "f22f2c06",
   "metadata": {},
   "outputs": [
    {
     "data": {
      "text/html": [
       "<div>\n",
       "<style scoped>\n",
       "    .dataframe tbody tr th:only-of-type {\n",
       "        vertical-align: middle;\n",
       "    }\n",
       "\n",
       "    .dataframe tbody tr th {\n",
       "        vertical-align: top;\n",
       "    }\n",
       "\n",
       "    .dataframe thead th {\n",
       "        text-align: right;\n",
       "    }\n",
       "</style>\n",
       "<table border=\"1\" class=\"dataframe\">\n",
       "  <thead>\n",
       "    <tr style=\"text-align: right;\">\n",
       "      <th></th>\n",
       "      <th>user_id</th>\n",
       "      <th>month</th>\n",
       "      <th>duration_sum</th>\n",
       "      <th>mb_used_sum</th>\n",
       "      <th>message_date_count</th>\n",
       "      <th>tariff_name</th>\n",
       "      <th>monthly_revenue</th>\n",
       "    </tr>\n",
       "  </thead>\n",
       "  <tbody>\n",
       "    <tr>\n",
       "      <th>2180</th>\n",
       "      <td>1350</td>\n",
       "      <td>8</td>\n",
       "      <td>35.00</td>\n",
       "      <td>1,619.61</td>\n",
       "      <td>2.00</td>\n",
       "      <td>ultra</td>\n",
       "      <td>1,950.00</td>\n",
       "    </tr>\n",
       "    <tr>\n",
       "      <th>1697</th>\n",
       "      <td>1273</td>\n",
       "      <td>5</td>\n",
       "      <td>220.00</td>\n",
       "      <td>0.00</td>\n",
       "      <td>21.00</td>\n",
       "      <td>ultra</td>\n",
       "      <td>1,950.00</td>\n",
       "    </tr>\n",
       "    <tr>\n",
       "      <th>2428</th>\n",
       "      <td>1385</td>\n",
       "      <td>1</td>\n",
       "      <td>270.00</td>\n",
       "      <td>19,280.10</td>\n",
       "      <td>72.00</td>\n",
       "      <td>ultra</td>\n",
       "      <td>1,950.00</td>\n",
       "    </tr>\n",
       "    <tr>\n",
       "      <th>1682</th>\n",
       "      <td>1270</td>\n",
       "      <td>8</td>\n",
       "      <td>376.00</td>\n",
       "      <td>11,584.46</td>\n",
       "      <td>47.00</td>\n",
       "      <td>ultra</td>\n",
       "      <td>1,950.00</td>\n",
       "    </tr>\n",
       "    <tr>\n",
       "      <th>1035</th>\n",
       "      <td>1167</td>\n",
       "      <td>10</td>\n",
       "      <td>727.00</td>\n",
       "      <td>15,778.63</td>\n",
       "      <td>190.00</td>\n",
       "      <td>ultra</td>\n",
       "      <td>1,950.00</td>\n",
       "    </tr>\n",
       "  </tbody>\n",
       "</table>\n",
       "</div>"
      ],
      "text/plain": [
       "      user_id  month  duration_sum  mb_used_sum  message_date_count  \\\n",
       "2180     1350      8         35.00     1,619.61                2.00   \n",
       "1697     1273      5        220.00         0.00               21.00   \n",
       "2428     1385      1        270.00    19,280.10               72.00   \n",
       "1682     1270      8        376.00    11,584.46               47.00   \n",
       "1035     1167     10        727.00    15,778.63              190.00   \n",
       "\n",
       "     tariff_name  monthly_revenue  \n",
       "2180       ultra         1,950.00  \n",
       "1697       ultra         1,950.00  \n",
       "2428       ultra         1,950.00  \n",
       "1682       ultra         1,950.00  \n",
       "1035       ultra         1,950.00  "
      ]
     },
     "execution_count": 84,
     "metadata": {},
     "output_type": "execute_result"
    }
   ],
   "source": [
    "# проверим выборку. Выведем на экран 5 случайных строк. Отфильтруем необходимые столбцы.\n",
    "ultra_tariff[['user_id', 'month', 'duration_sum', 'mb_used_sum', 'message_date_count', 'tariff_name', 'monthly_revenue']].sample(5, random_state = 42)"
   ]
  },
  {
   "cell_type": "markdown",
   "id": "723a4bab",
   "metadata": {},
   "source": [
    "### Расчет среднего значения, дисперсии и стандартного отклонения"
   ]
  },
  {
   "cell_type": "markdown",
   "id": "102785c2",
   "metadata": {},
   "source": [
    "Найдем среднее значение и стандартное отклонение с помощью метода `describe()`."
   ]
  },
  {
   "cell_type": "code",
   "execution_count": 85,
   "id": "c6d5bad1",
   "metadata": {},
   "outputs": [
    {
     "data": {
      "text/html": [
       "<div>\n",
       "<style scoped>\n",
       "    .dataframe tbody tr th:only-of-type {\n",
       "        vertical-align: middle;\n",
       "    }\n",
       "\n",
       "    .dataframe tbody tr th {\n",
       "        vertical-align: top;\n",
       "    }\n",
       "\n",
       "    .dataframe thead th {\n",
       "        text-align: right;\n",
       "    }\n",
       "</style>\n",
       "<table border=\"1\" class=\"dataframe\">\n",
       "  <thead>\n",
       "    <tr style=\"text-align: right;\">\n",
       "      <th></th>\n",
       "      <th>duration_sum</th>\n",
       "      <th>mb_used_sum</th>\n",
       "      <th>message_date_count</th>\n",
       "    </tr>\n",
       "  </thead>\n",
       "  <tbody>\n",
       "    <tr>\n",
       "      <th>count</th>\n",
       "      <td>2,229.00</td>\n",
       "      <td>2,229.00</td>\n",
       "      <td>2,229.00</td>\n",
       "    </tr>\n",
       "    <tr>\n",
       "      <th>mean</th>\n",
       "      <td>417.93</td>\n",
       "      <td>16,208.39</td>\n",
       "      <td>33.38</td>\n",
       "    </tr>\n",
       "    <tr>\n",
       "      <th>std</th>\n",
       "      <td>190.31</td>\n",
       "      <td>5,870.48</td>\n",
       "      <td>28.23</td>\n",
       "    </tr>\n",
       "    <tr>\n",
       "      <th>min</th>\n",
       "      <td>0.00</td>\n",
       "      <td>0.00</td>\n",
       "      <td>0.00</td>\n",
       "    </tr>\n",
       "    <tr>\n",
       "      <th>25%</th>\n",
       "      <td>282.00</td>\n",
       "      <td>12,643.01</td>\n",
       "      <td>10.00</td>\n",
       "    </tr>\n",
       "    <tr>\n",
       "      <th>50%</th>\n",
       "      <td>422.00</td>\n",
       "      <td>16,506.84</td>\n",
       "      <td>28.00</td>\n",
       "    </tr>\n",
       "    <tr>\n",
       "      <th>75%</th>\n",
       "      <td>545.00</td>\n",
       "      <td>20,042.93</td>\n",
       "      <td>51.00</td>\n",
       "    </tr>\n",
       "    <tr>\n",
       "      <th>max</th>\n",
       "      <td>1,435.00</td>\n",
       "      <td>38,552.45</td>\n",
       "      <td>143.00</td>\n",
       "    </tr>\n",
       "  </tbody>\n",
       "</table>\n",
       "</div>"
      ],
      "text/plain": [
       "       duration_sum  mb_used_sum  message_date_count\n",
       "count      2,229.00     2,229.00            2,229.00\n",
       "mean         417.93    16,208.39               33.38\n",
       "std          190.31     5,870.48               28.23\n",
       "min            0.00         0.00                0.00\n",
       "25%          282.00    12,643.01               10.00\n",
       "50%          422.00    16,506.84               28.00\n",
       "75%          545.00    20,042.93               51.00\n",
       "max        1,435.00    38,552.45              143.00"
      ]
     },
     "execution_count": 85,
     "metadata": {},
     "output_type": "execute_result"
    }
   ],
   "source": [
    "# изучим числовые характеристики данных в тарифе smart\n",
    "smart_tariff[['duration_sum', 'mb_used_sum', 'message_date_count']].describe()"
   ]
  },
  {
   "cell_type": "code",
   "execution_count": 86,
   "id": "0a2d3b5b",
   "metadata": {},
   "outputs": [
    {
     "data": {
      "text/html": [
       "<div>\n",
       "<style scoped>\n",
       "    .dataframe tbody tr th:only-of-type {\n",
       "        vertical-align: middle;\n",
       "    }\n",
       "\n",
       "    .dataframe tbody tr th {\n",
       "        vertical-align: top;\n",
       "    }\n",
       "\n",
       "    .dataframe thead th {\n",
       "        text-align: right;\n",
       "    }\n",
       "</style>\n",
       "<table border=\"1\" class=\"dataframe\">\n",
       "  <thead>\n",
       "    <tr style=\"text-align: right;\">\n",
       "      <th></th>\n",
       "      <th>duration_sum</th>\n",
       "      <th>mb_used_sum</th>\n",
       "      <th>message_date_count</th>\n",
       "    </tr>\n",
       "  </thead>\n",
       "  <tbody>\n",
       "    <tr>\n",
       "      <th>count</th>\n",
       "      <td>985.00</td>\n",
       "      <td>985.00</td>\n",
       "      <td>985.00</td>\n",
       "    </tr>\n",
       "    <tr>\n",
       "      <th>mean</th>\n",
       "      <td>526.62</td>\n",
       "      <td>19,468.81</td>\n",
       "      <td>49.36</td>\n",
       "    </tr>\n",
       "    <tr>\n",
       "      <th>std</th>\n",
       "      <td>317.61</td>\n",
       "      <td>10,087.17</td>\n",
       "      <td>47.80</td>\n",
       "    </tr>\n",
       "    <tr>\n",
       "      <th>min</th>\n",
       "      <td>0.00</td>\n",
       "      <td>0.00</td>\n",
       "      <td>0.00</td>\n",
       "    </tr>\n",
       "    <tr>\n",
       "      <th>25%</th>\n",
       "      <td>284.00</td>\n",
       "      <td>11,770.26</td>\n",
       "      <td>6.00</td>\n",
       "    </tr>\n",
       "    <tr>\n",
       "      <th>50%</th>\n",
       "      <td>518.00</td>\n",
       "      <td>19,308.01</td>\n",
       "      <td>38.00</td>\n",
       "    </tr>\n",
       "    <tr>\n",
       "      <th>75%</th>\n",
       "      <td>752.00</td>\n",
       "      <td>26,837.69</td>\n",
       "      <td>79.00</td>\n",
       "    </tr>\n",
       "    <tr>\n",
       "      <th>max</th>\n",
       "      <td>1,673.00</td>\n",
       "      <td>49,745.69</td>\n",
       "      <td>224.00</td>\n",
       "    </tr>\n",
       "  </tbody>\n",
       "</table>\n",
       "</div>"
      ],
      "text/plain": [
       "       duration_sum  mb_used_sum  message_date_count\n",
       "count        985.00       985.00              985.00\n",
       "mean         526.62    19,468.81               49.36\n",
       "std          317.61    10,087.17               47.80\n",
       "min            0.00         0.00                0.00\n",
       "25%          284.00    11,770.26                6.00\n",
       "50%          518.00    19,308.01               38.00\n",
       "75%          752.00    26,837.69               79.00\n",
       "max        1,673.00    49,745.69              224.00"
      ]
     },
     "execution_count": 86,
     "metadata": {},
     "output_type": "execute_result"
    }
   ],
   "source": [
    "# изучим числовые характеристики данных в тарифе ultra\n",
    "ultra_tariff[['duration_sum', 'mb_used_sum', 'message_date_count']].describe()"
   ]
  },
  {
   "cell_type": "markdown",
   "id": "9f08b4b7",
   "metadata": {},
   "source": [
    "Итоговые значения получились следующими:\n",
    "\n",
    "**Среднее значение (в таблице mean)**\n",
    "\n",
    "`Тариф Smart`\n",
    "* Звонки - 417.93 мин. (не превышает порогового значения по тарифу - 500 мин.)\t\n",
    "* Интернет - 16,208.39 ГБ (`превышает` пороговое значения по тарифу - 15 ГБ)\t\n",
    "* Сообщения - 33 шт. (не превышает порогового значения по тарифу - 50 шт.)\t\n",
    " \n",
    "`Тариф Ultra`\n",
    "* Звонки - 526.62 мин.(не превышает порогового значения по тарифу - 3000 мин.)\t\t\n",
    "* Интернет - 19,468.81 ГБ (не превышает порогового значения по тарифу - 30 ГБ)\n",
    "* Сообщения - 49 шт. (не превышает порогового значения по тарифу - 1000 шт.)\n",
    "\n",
    "\n",
    "**Стандартное отклонение (в таблице std)**\n",
    "\n",
    "`Тариф Smart`\n",
    "* звонки - 190.31 мин.\n",
    "* интернет - 5,870.48 ГБ\n",
    "* сообщения - 28 шт.\n",
    "\n",
    "`Тариф Ultra`\n",
    "* звонки - 317.61 мин.\n",
    "* интернет - 10,087.20 ГБ\n",
    "* сообщения - 47 шт."
   ]
  },
  {
   "cell_type": "markdown",
   "id": "676a169f",
   "metadata": {},
   "source": [
    "Вычислим дисперсию совокупности методом `var()`."
   ]
  },
  {
   "cell_type": "code",
   "execution_count": 87,
   "id": "e20bea30",
   "metadata": {},
   "outputs": [
    {
     "data": {
      "text/plain": [
       "duration_sum             36,219.32\n",
       "mb_used_sum          34,462,496.46\n",
       "message_date_count          796.81\n",
       "dtype: float64"
      ]
     },
     "execution_count": 87,
     "metadata": {},
     "output_type": "execute_result"
    }
   ],
   "source": [
    "# дисперсия значений тарифа smart\n",
    "np.var(smart_tariff[['duration_sum', 'mb_used_sum', 'message_date_count']], ddof=1)"
   ]
  },
  {
   "cell_type": "code",
   "execution_count": 88,
   "id": "d44a196f",
   "metadata": {},
   "outputs": [
    {
     "data": {
      "text/plain": [
       "duration_sum             100,873.63\n",
       "mb_used_sum          101,751,013.78\n",
       "message_date_count         2,285.27\n",
       "dtype: float64"
      ]
     },
     "execution_count": 88,
     "metadata": {},
     "output_type": "execute_result"
    }
   ],
   "source": [
    "# дисперсия значений тарифа ultra\n",
    "np.var(ultra_tariff[['duration_sum', 'mb_used_sum', 'message_date_count']], ddof=1)"
   ]
  },
  {
   "cell_type": "code",
   "execution_count": 89,
   "id": "d7466d27",
   "metadata": {},
   "outputs": [
    {
     "data": {
      "image/png": "[encoded data removed]",
      "text/plain": [
       "<Figure size 504x360 with 1 Axes>"
      ]
     },
     "metadata": {
      "needs_background": "light"
     },
     "output_type": "display_data"
    }
   ],
   "source": [
    "# построим две гистограммы по данным колонки 'duration_sum' из таблиц smart_tariff и ultra_tariff\n",
    "ax = smart_tariff.plot(y='duration_sum', kind='hist', figsize=(7, 5), linewidth=5, alpha=0.7, label='Smart')\n",
    "ultra_tariff.plot(y='duration_sum', kind='hist', figsize=(7, 5), linewidth=5, alpha=0.7, label='Ultra', ax = ax, grid=True, legend=True)\n",
    "plt.xlabel('Длительность звонков (мин./мес.)'), plt.ylabel('Количество')\n",
    "plt.show()"
   ]
  },
  {
   "cell_type": "code",
   "execution_count": 90,
   "id": "976ea608",
   "metadata": {},
   "outputs": [
    {
     "data": {
      "image/png": "[encoded data removed]",
      "text/plain": [
       "<Figure size 504x360 with 1 Axes>"
      ]
     },
     "metadata": {
      "needs_background": "light"
     },
     "output_type": "display_data"
    }
   ],
   "source": [
    "# построим две гистограммы по данным колонки 'mb_used_sum' из таблиц smart_tariff и ultra_tariff\n",
    "ax = smart_tariff.plot(y='mb_used_sum', kind='hist', figsize=(7, 5), linewidth=5, alpha=0.7, label='Smart')\n",
    "ultra_tariff.plot(y='mb_used_sum', kind='hist', figsize=(7, 5), linewidth=5, alpha=0.7, label='Ultra', ax = ax, grid=True, legend=True)\n",
    "plt.xlabel('Израсходованный интернет-трафик (МБ/мес.)'), plt.ylabel('Количество')\n",
    "plt.show()"
   ]
  },
  {
   "cell_type": "code",
   "execution_count": 91,
   "id": "b4285e09",
   "metadata": {},
   "outputs": [
    {
     "data": {
      "image/png": "[encoded data removed]",
      "text/plain": [
       "<Figure size 504x360 with 1 Axes>"
      ]
     },
     "metadata": {
      "needs_background": "light"
     },
     "output_type": "display_data"
    }
   ],
   "source": [
    "# построим две гистограммы по данным колонки 'message_date_count' из таблиц smart_tariff и ultra_tariff\n",
    "ax = smart_tariff.plot(y='message_date_count', kind='hist', figsize=(7, 5), linewidth=5, alpha=0.7, label='Smart')\n",
    "ultra_tariff.plot(y='message_date_count', kind='hist', figsize=(7, 5), linewidth=5, alpha=0.7, label='Ultra', ax = ax, grid=True, legend=True)\n",
    "plt.xlabel('Количество сообщений (шт./мес.)'), plt.ylabel('Количество')\n",
    "plt.show()"
   ]
  },
  {
   "cell_type": "markdown",
   "id": "19a4d1d8",
   "metadata": {},
   "source": [
    "**Распределения параметров тарифов**\n",
    "\n",
    "    \n",
    "`Тариф Smart`\n",
    "\n",
    "* график распределения звонков имеет скошенность влево (отрицательную)\n",
    "* график распределения потраченного интернет-трафика имеет скошенность влево (отрицательную)\n",
    "* график распределения количества сообщений имеет форму распределения Пуассона\n",
    "\n",
    "\n",
    "`Тариф Ultra`\n",
    "\n",
    "* график распределения звонков имеет скошенность влево (отрицательную)\n",
    "* график распределения потраченного интернет-трафика имеет скошенность влево (отрицательную)\n",
    "* график распределения количества сообщений имеет форму распределения Пуассона"
   ]
  },
  {
   "cell_type": "markdown",
   "id": "456011df",
   "metadata": {},
   "source": [
    "### Выводы"
   ]
  },
  {
   "cell_type": "markdown",
   "id": "af7f164e",
   "metadata": {},
   "source": [
    "* Пользователи тарифа Smart используют меньшее количество минут звонков и сообщений в месяц, чем пользователи Ultra. Видимо им приходится экономить в рамках выделеных лимитов в тарифе. Перелимит в средних значениях (mean) виден только за Интернет, но если посмотреть на выбросы, то можно заметить превышение значений лимитов за телефонные разговоры и смс. Судя по всему некоторым пользователям не хватает их тарифного плана и приходится доплачивать за свой тариф. "
   ]
  },
  {
   "cell_type": "code",
   "execution_count": 92,
   "id": "79a8d05a",
   "metadata": {},
   "outputs": [
    {
     "data": {
      "text/html": [
       "<div>\n",
       "<style scoped>\n",
       "    .dataframe tbody tr th:only-of-type {\n",
       "        vertical-align: middle;\n",
       "    }\n",
       "\n",
       "    .dataframe tbody tr th {\n",
       "        vertical-align: top;\n",
       "    }\n",
       "\n",
       "    .dataframe thead tr th {\n",
       "        text-align: left;\n",
       "    }\n",
       "\n",
       "    .dataframe thead tr:last-of-type th {\n",
       "        text-align: right;\n",
       "    }\n",
       "</style>\n",
       "<table border=\"1\" class=\"dataframe\">\n",
       "  <thead>\n",
       "    <tr>\n",
       "      <th></th>\n",
       "      <th colspan=\"3\" halign=\"left\">max</th>\n",
       "    </tr>\n",
       "    <tr>\n",
       "      <th></th>\n",
       "      <th>duration_sum</th>\n",
       "      <th>mb_used_sum</th>\n",
       "      <th>message_date_count</th>\n",
       "    </tr>\n",
       "    <tr>\n",
       "      <th>tariff_name</th>\n",
       "      <th></th>\n",
       "      <th></th>\n",
       "      <th></th>\n",
       "    </tr>\n",
       "  </thead>\n",
       "  <tbody>\n",
       "    <tr>\n",
       "      <th>smart</th>\n",
       "      <td>1,435.00</td>\n",
       "      <td>38,552.45</td>\n",
       "      <td>143.00</td>\n",
       "    </tr>\n",
       "    <tr>\n",
       "      <th>ultra</th>\n",
       "      <td>1,673.00</td>\n",
       "      <td>49,745.69</td>\n",
       "      <td>224.00</td>\n",
       "    </tr>\n",
       "  </tbody>\n",
       "</table>\n",
       "</div>"
      ],
      "text/plain": [
       "                     max                               \n",
       "            duration_sum mb_used_sum message_date_count\n",
       "tariff_name                                            \n",
       "smart           1,435.00   38,552.45             143.00\n",
       "ultra           1,673.00   49,745.69             224.00"
      ]
     },
     "execution_count": 92,
     "metadata": {},
     "output_type": "execute_result"
    }
   ],
   "source": [
    "summary_file.pivot_table(index='tariff_name', values= ['duration_sum', 'mb_used_sum', 'message_date_count'], aggfunc= ['max'])"
   ]
  },
  {
   "cell_type": "markdown",
   "id": "cfc08201",
   "metadata": {},
   "source": [
    "* Лимита на звонки и минуты в Ultra не достигает никто(см. среднее знач.). Интернетом пользователи Ultra пользуются гораздо активнее. Возможно они выбирают этот тариф из-за большего интернет-трафика."
   ]
  },
  {
   "cell_type": "markdown",
   "id": "e704f0ca",
   "metadata": {},
   "source": [
    "## Проверка гипотез"
   ]
  },
  {
   "cell_type": "markdown",
   "id": "251a8132",
   "metadata": {},
   "source": [
    "### Проверка гипотезы: средняя выручка пользователей тарифов \"Ультра\" и \"Смарт\" различаются."
   ]
  },
  {
   "cell_type": "markdown",
   "id": "bad93739",
   "metadata": {},
   "source": [
    "Сформулируем нулевую гипотезу (H0) так чтобы использовать знак равенства. \n",
    "\n",
    "**H0** - `cредняя выручка пользователей тарифов  \"Ультра\" и \"Смарт\" равна.` \n",
    "Тогда альтернативная гипотеза **H1** - `средняя выручка пользователей тарифов \"Ультра\" и \"Смарт\" различаются.`\n",
    "\n",
    "Альтернативная гипотеза двусторонняя, потому что есть возможное отклонение и в большую, и в меньшую стороны. Для того чтобы понять отклонить нулевую гипотезу в пользу альтернативной нужно посчитать вероятность получить наблюдаемое на выборке значение  при условии, что нулевая гипотеза верна.\n",
    "\n",
    "Так как нам необходимо проверить равенство средних двух независимых совокупностей, воспользуемся функцией stats.ttest_ind."
   ]
  },
  {
   "cell_type": "code",
   "execution_count": 93,
   "id": "efba03df",
   "metadata": {},
   "outputs": [
    {
     "name": "stdout",
     "output_type": "stream",
     "text": [
      "p-значение: 4.2606313931076085e-250\n",
      "Отвергаем нулевую гипотезу\n"
     ]
    }
   ],
   "source": [
    "# создадим две выборки с данными по выручке, которые потом передадим методу\n",
    "smart_revenue = smart_tariff['monthly_revenue']\n",
    "ultra_revenue = ultra_tariff['monthly_revenue']\n",
    "\n",
    "# критический уровень статистической значимости\n",
    "alpha = .05\n",
    "\n",
    "results = st.ttest_ind(smart_revenue, ultra_revenue, equal_var=False)\n",
    "\n",
    "print('p-значение:', results.pvalue)\n",
    "\n",
    "if (results.pvalue < alpha):\n",
    "    print('Отвергаем нулевую гипотезу')\n",
    "else:\n",
    "    print('Не получилось отвергнуть нулевую гипотезу')"
   ]
  },
  {
   "cell_type": "markdown",
   "id": "fde8f01c",
   "metadata": {},
   "source": [
    "Мы принимаем, что альтернативная гипотеза может быть правдой и что средняя выручка пользователей тарифов «Ультра» и «Смарт» различается."
   ]
  },
  {
   "cell_type": "markdown",
   "id": "26451b4e",
   "metadata": {},
   "source": [
    "### Проверка гипотезы: средняя выручка пользователей из Москвы отличается от выручки пользователей из других регионов."
   ]
  },
  {
   "cell_type": "markdown",
   "id": "464bb616",
   "metadata": {},
   "source": [
    "Отфильтруем данные по городам. Создадим отдельную таблицу с пользователями из Москвы и других регионов."
   ]
  },
  {
   "cell_type": "code",
   "execution_count": 94,
   "id": "ce050692",
   "metadata": {},
   "outputs": [],
   "source": [
    "# сохраним данные пользователей из Москвы в переменной moscow\n",
    "moscow = summary_file[summary_file['city'] == 'Москва']"
   ]
  },
  {
   "cell_type": "code",
   "execution_count": 95,
   "id": "f315412a",
   "metadata": {},
   "outputs": [
    {
     "data": {
      "text/html": [
       "<div>\n",
       "<style scoped>\n",
       "    .dataframe tbody tr th:only-of-type {\n",
       "        vertical-align: middle;\n",
       "    }\n",
       "\n",
       "    .dataframe tbody tr th {\n",
       "        vertical-align: top;\n",
       "    }\n",
       "\n",
       "    .dataframe thead th {\n",
       "        text-align: right;\n",
       "    }\n",
       "</style>\n",
       "<table border=\"1\" class=\"dataframe\">\n",
       "  <thead>\n",
       "    <tr style=\"text-align: right;\">\n",
       "      <th></th>\n",
       "      <th>user_id</th>\n",
       "      <th>month</th>\n",
       "      <th>duration_sum</th>\n",
       "      <th>mb_used_sum</th>\n",
       "      <th>message_date_count</th>\n",
       "      <th>tariff_name</th>\n",
       "      <th>monthly_revenue</th>\n",
       "      <th>city</th>\n",
       "    </tr>\n",
       "  </thead>\n",
       "  <tbody>\n",
       "    <tr>\n",
       "      <th>442</th>\n",
       "      <td>1068</td>\n",
       "      <td>12</td>\n",
       "      <td>516.00</td>\n",
       "      <td>15,418.44</td>\n",
       "      <td>29.00</td>\n",
       "      <td>smart</td>\n",
       "      <td>798.00</td>\n",
       "      <td>Москва</td>\n",
       "    </tr>\n",
       "    <tr>\n",
       "      <th>1301</th>\n",
       "      <td>1205</td>\n",
       "      <td>11</td>\n",
       "      <td>214.00</td>\n",
       "      <td>20,097.50</td>\n",
       "      <td>15.00</td>\n",
       "      <td>smart</td>\n",
       "      <td>1,550.00</td>\n",
       "      <td>Москва</td>\n",
       "    </tr>\n",
       "    <tr>\n",
       "      <th>390</th>\n",
       "      <td>1062</td>\n",
       "      <td>11</td>\n",
       "      <td>405.00</td>\n",
       "      <td>6,557.37</td>\n",
       "      <td>14.00</td>\n",
       "      <td>smart</td>\n",
       "      <td>550.00</td>\n",
       "      <td>Москва</td>\n",
       "    </tr>\n",
       "    <tr>\n",
       "      <th>3076</th>\n",
       "      <td>1481</td>\n",
       "      <td>11</td>\n",
       "      <td>297.00</td>\n",
       "      <td>19,925.12</td>\n",
       "      <td>19.00</td>\n",
       "      <td>smart</td>\n",
       "      <td>1,550.00</td>\n",
       "      <td>Москва</td>\n",
       "    </tr>\n",
       "    <tr>\n",
       "      <th>1589</th>\n",
       "      <td>1254</td>\n",
       "      <td>6</td>\n",
       "      <td>562.00</td>\n",
       "      <td>22,924.77</td>\n",
       "      <td>0.00</td>\n",
       "      <td>ultra</td>\n",
       "      <td>1,950.00</td>\n",
       "      <td>Москва</td>\n",
       "    </tr>\n",
       "  </tbody>\n",
       "</table>\n",
       "</div>"
      ],
      "text/plain": [
       "      user_id  month  duration_sum  mb_used_sum  message_date_count  \\\n",
       "442      1068     12        516.00    15,418.44               29.00   \n",
       "1301     1205     11        214.00    20,097.50               15.00   \n",
       "390      1062     11        405.00     6,557.37               14.00   \n",
       "3076     1481     11        297.00    19,925.12               19.00   \n",
       "1589     1254      6        562.00    22,924.77                0.00   \n",
       "\n",
       "     tariff_name  monthly_revenue    city  \n",
       "442        smart           798.00  Москва  \n",
       "1301       smart         1,550.00  Москва  \n",
       "390        smart           550.00  Москва  \n",
       "3076       smart         1,550.00  Москва  \n",
       "1589       ultra         1,950.00  Москва  "
      ]
     },
     "execution_count": 95,
     "metadata": {},
     "output_type": "execute_result"
    }
   ],
   "source": [
    "# проверим выборку moscow. Выведем на экран 5 случайных строк. Отфильтруем необходимые столбцы.\n",
    "moscow[['user_id', 'month', 'duration_sum', 'mb_used_sum', 'message_date_count', 'tariff_name', 'monthly_revenue', 'city']].sample(5, random_state=42)"
   ]
  },
  {
   "cell_type": "code",
   "execution_count": 96,
   "id": "0a1b510c",
   "metadata": {},
   "outputs": [],
   "source": [
    "# сохраним данные пользователей из других регионов в переменной other_cities\n",
    "other_cities = summary_file[summary_file['city'] != 'Москва']"
   ]
  },
  {
   "cell_type": "code",
   "execution_count": 97,
   "id": "39e9d0f6",
   "metadata": {},
   "outputs": [
    {
     "data": {
      "text/html": [
       "<div>\n",
       "<style scoped>\n",
       "    .dataframe tbody tr th:only-of-type {\n",
       "        vertical-align: middle;\n",
       "    }\n",
       "\n",
       "    .dataframe tbody tr th {\n",
       "        vertical-align: top;\n",
       "    }\n",
       "\n",
       "    .dataframe thead th {\n",
       "        text-align: right;\n",
       "    }\n",
       "</style>\n",
       "<table border=\"1\" class=\"dataframe\">\n",
       "  <thead>\n",
       "    <tr style=\"text-align: right;\">\n",
       "      <th></th>\n",
       "      <th>user_id</th>\n",
       "      <th>month</th>\n",
       "      <th>duration_sum</th>\n",
       "      <th>mb_used_sum</th>\n",
       "      <th>message_date_count</th>\n",
       "      <th>tariff_name</th>\n",
       "      <th>monthly_revenue</th>\n",
       "      <th>city</th>\n",
       "    </tr>\n",
       "  </thead>\n",
       "  <tbody>\n",
       "    <tr>\n",
       "      <th>912</th>\n",
       "      <td>1147</td>\n",
       "      <td>9</td>\n",
       "      <td>382.00</td>\n",
       "      <td>21,672.02</td>\n",
       "      <td>35.00</td>\n",
       "      <td>smart</td>\n",
       "      <td>1,950.00</td>\n",
       "      <td>Якутск</td>\n",
       "    </tr>\n",
       "    <tr>\n",
       "      <th>1132</th>\n",
       "      <td>1179</td>\n",
       "      <td>6</td>\n",
       "      <td>440.00</td>\n",
       "      <td>15,814.32</td>\n",
       "      <td>0.00</td>\n",
       "      <td>smart</td>\n",
       "      <td>750.00</td>\n",
       "      <td>Вологда</td>\n",
       "    </tr>\n",
       "    <tr>\n",
       "      <th>2259</th>\n",
       "      <td>1362</td>\n",
       "      <td>9</td>\n",
       "      <td>507.00</td>\n",
       "      <td>10,671.47</td>\n",
       "      <td>13.00</td>\n",
       "      <td>smart</td>\n",
       "      <td>571.00</td>\n",
       "      <td>Владимир</td>\n",
       "    </tr>\n",
       "    <tr>\n",
       "      <th>531</th>\n",
       "      <td>1085</td>\n",
       "      <td>7</td>\n",
       "      <td>195.00</td>\n",
       "      <td>8,376.99</td>\n",
       "      <td>0.00</td>\n",
       "      <td>ultra</td>\n",
       "      <td>1,950.00</td>\n",
       "      <td>Омск</td>\n",
       "    </tr>\n",
       "    <tr>\n",
       "      <th>2375</th>\n",
       "      <td>1378</td>\n",
       "      <td>7</td>\n",
       "      <td>517.00</td>\n",
       "      <td>11,859.11</td>\n",
       "      <td>12.00</td>\n",
       "      <td>smart</td>\n",
       "      <td>601.00</td>\n",
       "      <td>Иркутск</td>\n",
       "    </tr>\n",
       "  </tbody>\n",
       "</table>\n",
       "</div>"
      ],
      "text/plain": [
       "      user_id  month  duration_sum  mb_used_sum  message_date_count  \\\n",
       "912      1147      9        382.00    21,672.02               35.00   \n",
       "1132     1179      6        440.00    15,814.32                0.00   \n",
       "2259     1362      9        507.00    10,671.47               13.00   \n",
       "531      1085      7        195.00     8,376.99                0.00   \n",
       "2375     1378      7        517.00    11,859.11               12.00   \n",
       "\n",
       "     tariff_name  monthly_revenue      city  \n",
       "912        smart         1,950.00    Якутск  \n",
       "1132       smart           750.00   Вологда  \n",
       "2259       smart           571.00  Владимир  \n",
       "531        ultra         1,950.00      Омск  \n",
       "2375       smart           601.00   Иркутск  "
      ]
     },
     "execution_count": 97,
     "metadata": {},
     "output_type": "execute_result"
    }
   ],
   "source": [
    "# проверим выборку other_cities. Выведем на экран 5 случайных строк. Отфильтруем необходимые столбцы.\n",
    "other_cities[['user_id', 'month', 'duration_sum', 'mb_used_sum', 'message_date_count', 'tariff_name', 'monthly_revenue', 'city']].sample(5, random_state=42)"
   ]
  },
  {
   "cell_type": "markdown",
   "id": "949d103b",
   "metadata": {},
   "source": [
    "Нулевая гипотеза **H0** будет звучать так - `средняя выручка пользователей из Москвы равна выручке пользователей из других регионов.` Соответственно альтернативная гипотеза **Н1** - `средняя выручка пользователей из Москвы отличается от выручки пользователей из других регионов`. Используем метод stats.ttest_ind для проверки равенства средних двух независимых совокупностей."
   ]
  },
  {
   "cell_type": "code",
   "execution_count": 98,
   "id": "c90db7cd",
   "metadata": {},
   "outputs": [
    {
     "name": "stdout",
     "output_type": "stream",
     "text": [
      "p-значение: 0.5257376663729298\n",
      "Не получилось отвергнуть нулевую гипотезу\n"
     ]
    }
   ],
   "source": [
    "# создадим две выборки с данными по выручке, которые потом передадим методу\n",
    "smart_revenue_moscow = moscow['monthly_revenue']\n",
    "ultra_revenue_other_cities = other_cities['monthly_revenue']\n",
    "\n",
    "# критический уровень статистической значимости\n",
    "alpha = .05\n",
    "\n",
    "results = st.ttest_ind(smart_revenue_moscow, ultra_revenue_other_cities, equal_var=False)\n",
    "\n",
    "print('p-значение:', results.pvalue)\n",
    "\n",
    "if (results.pvalue < alpha):\n",
    "    print('Отвергаем нулевую гипотезу')\n",
    "else:\n",
    "    print('Не получилось отвергнуть нулевую гипотезу')"
   ]
  },
  {
   "cell_type": "markdown",
   "id": "d97b82f3",
   "metadata": {},
   "source": [
    "## Выводы"
   ]
  },
  {
   "cell_type": "markdown",
   "id": "0d0c4c38",
   "metadata": {},
   "source": [
    "**В процессе работы над проектом мы:**\n",
    "\n",
    "\n",
    "* Привели значения данных к нужным типам и исправили ошибки\n",
    "* Объединили несколько таблиц с данными по тарифам в одну рассчитав среднюю выручку за месяц  \n",
    "* Проверили две гипотезы:\n",
    "   1. Средняя выручка пользователей тарифов «Ультра» и «Смарт» равна - `отвергли`\n",
    "   2. Средняя выручка пользователей из Москвы равна выручке пользователей из других регионов - `отвергнуть не удалось`\n",
    "\n",
    "**Выяснили что:**\n",
    "   1. Абоненты двух тарифов различаются между собой по объёму потребляемых услуг. Пользователям в тарифе Smart не всегда хватает выделенных лимитов в рамках пакета и у них есть перелимит в пакете минут, мегабайт и сообщений. Абоненты тарифа Ultra потребляют больше услуг и единственной статьей доп. затрат, у них является Интернет.\n",
    "   2. Большую выручку приносит тариф Ultra. \n",
    "   3. Средняя выручка пользователей из Москвы и других регионов почти равнозначна.\n",
    "\n",
    "**Рекомендации для коммерческого департамента:**\n",
    "1. Необходимо сфокусироваться на продвижении тарифа Ultra по причине его прибыльности с точки зрения объема потраченного и использованного объема услуг.\n",
    "2. Для геотаргетинга необходимо провести доп. исследования с большей выборкой по городам, для однозначного вывода по выбору городов для фокуса продвижения.\n",
    "3. С учетом наличия перелимита в пакете услуг тарифа Smart стоит рассмотреть введение нового тарифа. Объем его услуг будет чем-то средним между Smart и Ultra. Возможно это может повысить лояльность потребителя и он не будет чувствовать что его деньги исчезают неоправданно быстро. "
   ]
  }
 ],
 "metadata": {
  "ExecuteTimeLog": [
   {
    "duration": 4,
    "start_time": "2022-03-15T17:11:02.742Z"
   },
   {
    "duration": 2049,
    "start_time": "2022-03-16T07:04:36.125Z"
   },
   {
    "duration": 356,
    "start_time": "2022-03-16T07:04:57.318Z"
   },
   {
    "duration": 381,
    "start_time": "2022-03-16T07:05:26.882Z"
   },
   {
    "duration": 384,
    "start_time": "2022-03-16T07:09:55.495Z"
   },
   {
    "duration": 476,
    "start_time": "2022-03-16T07:09:59.130Z"
   },
   {
    "duration": 191,
    "start_time": "2022-03-16T07:32:51.541Z"
   },
   {
    "duration": 981,
    "start_time": "2022-03-16T07:32:59.933Z"
   },
   {
    "duration": 347,
    "start_time": "2022-03-16T07:33:00.916Z"
   },
   {
    "duration": 13,
    "start_time": "2022-03-16T07:33:01.267Z"
   },
   {
    "duration": 20,
    "start_time": "2022-03-16T07:33:14.387Z"
   },
   {
    "duration": 9,
    "start_time": "2022-03-16T07:33:33.486Z"
   },
   {
    "duration": 957,
    "start_time": "2022-03-16T07:34:38.753Z"
   },
   {
    "duration": 350,
    "start_time": "2022-03-16T07:34:39.713Z"
   },
   {
    "duration": 21,
    "start_time": "2022-03-16T07:34:40.065Z"
   },
   {
    "duration": 12,
    "start_time": "2022-03-16T07:34:40.088Z"
   },
   {
    "duration": 20,
    "start_time": "2022-03-16T07:34:40.102Z"
   },
   {
    "duration": 14,
    "start_time": "2022-03-16T07:34:40.124Z"
   },
   {
    "duration": 17,
    "start_time": "2022-03-16T07:34:40.141Z"
   },
   {
    "duration": 7,
    "start_time": "2022-03-16T07:34:40.160Z"
   },
   {
    "duration": 14,
    "start_time": "2022-03-16T07:34:40.169Z"
   },
   {
    "duration": 10,
    "start_time": "2022-03-16T07:34:40.185Z"
   },
   {
    "duration": 11,
    "start_time": "2022-03-16T07:34:40.197Z"
   },
   {
    "duration": 33,
    "start_time": "2022-03-16T07:34:40.209Z"
   },
   {
    "duration": 10,
    "start_time": "2022-03-16T07:45:40.678Z"
   },
   {
    "duration": 8,
    "start_time": "2022-03-16T07:45:51.672Z"
   },
   {
    "duration": 8,
    "start_time": "2022-03-16T07:45:59.173Z"
   },
   {
    "duration": 7,
    "start_time": "2022-03-16T07:46:06.021Z"
   },
   {
    "duration": 2,
    "start_time": "2022-03-16T07:47:27.620Z"
   },
   {
    "duration": 3,
    "start_time": "2022-03-16T07:47:32.396Z"
   },
   {
    "duration": 9,
    "start_time": "2022-03-16T08:37:51.057Z"
   },
   {
    "duration": 7,
    "start_time": "2022-03-16T08:37:57.648Z"
   },
   {
    "duration": 8,
    "start_time": "2022-03-16T08:38:01.493Z"
   },
   {
    "duration": 8,
    "start_time": "2022-03-16T08:38:07.968Z"
   },
   {
    "duration": 2,
    "start_time": "2022-03-16T08:47:03.013Z"
   },
   {
    "duration": 9,
    "start_time": "2022-03-16T08:49:17.315Z"
   },
   {
    "duration": 1027,
    "start_time": "2022-03-16T08:49:37.047Z"
   },
   {
    "duration": 343,
    "start_time": "2022-03-16T08:49:38.077Z"
   },
   {
    "duration": 19,
    "start_time": "2022-03-16T08:49:38.424Z"
   },
   {
    "duration": 11,
    "start_time": "2022-03-16T08:49:38.445Z"
   },
   {
    "duration": 15,
    "start_time": "2022-03-16T08:49:38.458Z"
   },
   {
    "duration": 8,
    "start_time": "2022-03-16T08:49:38.475Z"
   },
   {
    "duration": 16,
    "start_time": "2022-03-16T08:49:38.484Z"
   },
   {
    "duration": 33,
    "start_time": "2022-03-16T08:49:38.503Z"
   },
   {
    "duration": 8,
    "start_time": "2022-03-16T08:49:38.539Z"
   },
   {
    "duration": 11,
    "start_time": "2022-03-16T08:49:38.549Z"
   },
   {
    "duration": 10,
    "start_time": "2022-03-16T08:49:38.562Z"
   },
   {
    "duration": 13,
    "start_time": "2022-03-16T08:49:38.573Z"
   },
   {
    "duration": 252,
    "start_time": "2022-03-16T08:49:38.588Z"
   },
   {
    "duration": 5,
    "start_time": "2022-03-16T14:15:21.866Z"
   },
   {
    "duration": 69,
    "start_time": "2022-03-16T14:16:39.707Z"
   },
   {
    "duration": 183,
    "start_time": "2022-03-16T14:16:49.296Z"
   },
   {
    "duration": 34,
    "start_time": "2022-03-16T14:19:09.119Z"
   },
   {
    "duration": 18,
    "start_time": "2022-03-16T14:19:09.638Z"
   },
   {
    "duration": 23,
    "start_time": "2022-03-16T14:19:10.150Z"
   },
   {
    "duration": 6,
    "start_time": "2022-03-16T14:19:10.646Z"
   },
   {
    "duration": 6,
    "start_time": "2022-03-16T14:19:11.494Z"
   },
   {
    "duration": 75,
    "start_time": "2022-03-17T10:21:40.967Z"
   },
   {
    "duration": 10,
    "start_time": "2022-03-17T10:21:56.237Z"
   },
   {
    "duration": 9,
    "start_time": "2022-03-17T10:24:00.631Z"
   },
   {
    "duration": 10,
    "start_time": "2022-03-17T10:24:04.431Z"
   },
   {
    "duration": 1937,
    "start_time": "2022-03-17T10:24:11.503Z"
   },
   {
    "duration": 497,
    "start_time": "2022-03-17T10:24:13.443Z"
   },
   {
    "duration": 41,
    "start_time": "2022-03-17T10:24:13.942Z"
   },
   {
    "duration": 19,
    "start_time": "2022-03-17T10:24:13.986Z"
   },
   {
    "duration": 29,
    "start_time": "2022-03-17T10:24:14.009Z"
   },
   {
    "duration": 48,
    "start_time": "2022-03-17T10:24:14.040Z"
   },
   {
    "duration": 28,
    "start_time": "2022-03-17T10:24:14.091Z"
   },
   {
    "duration": 14,
    "start_time": "2022-03-17T10:24:14.121Z"
   },
   {
    "duration": 45,
    "start_time": "2022-03-17T10:24:14.137Z"
   },
   {
    "duration": 13,
    "start_time": "2022-03-17T10:24:14.185Z"
   },
   {
    "duration": 19,
    "start_time": "2022-03-17T10:24:14.201Z"
   },
   {
    "duration": 16,
    "start_time": "2022-03-17T10:24:14.222Z"
   },
   {
    "duration": 64,
    "start_time": "2022-03-17T10:24:14.241Z"
   },
   {
    "duration": 36,
    "start_time": "2022-03-17T10:24:14.309Z"
   },
   {
    "duration": 51,
    "start_time": "2022-03-17T10:24:14.347Z"
   },
   {
    "duration": 11,
    "start_time": "2022-03-17T10:24:14.401Z"
   },
   {
    "duration": 12,
    "start_time": "2022-03-17T10:24:14.415Z"
   },
   {
    "duration": 20,
    "start_time": "2022-03-17T10:24:14.430Z"
   },
   {
    "duration": 174,
    "start_time": "2022-03-17T10:24:14.453Z"
   },
   {
    "duration": 0,
    "start_time": "2022-03-17T10:24:14.630Z"
   },
   {
    "duration": 28,
    "start_time": "2022-03-17T10:24:45.868Z"
   },
   {
    "duration": 31,
    "start_time": "2022-03-17T10:26:27.545Z"
   },
   {
    "duration": 12,
    "start_time": "2022-03-17T10:26:42.812Z"
   },
   {
    "duration": 9,
    "start_time": "2022-03-17T10:26:56.940Z"
   },
   {
    "duration": 292,
    "start_time": "2022-03-17T10:29:38.867Z"
   },
   {
    "duration": 28,
    "start_time": "2022-03-17T10:29:48.947Z"
   },
   {
    "duration": 3,
    "start_time": "2022-03-17T12:04:53.596Z"
   },
   {
    "duration": 31,
    "start_time": "2022-03-17T12:05:58.373Z"
   },
   {
    "duration": 12,
    "start_time": "2022-03-17T12:10:59.219Z"
   },
   {
    "duration": 1420,
    "start_time": "2022-03-17T12:11:14.902Z"
   },
   {
    "duration": 508,
    "start_time": "2022-03-17T12:11:16.325Z"
   },
   {
    "duration": 43,
    "start_time": "2022-03-17T12:11:16.836Z"
   },
   {
    "duration": 21,
    "start_time": "2022-03-17T12:11:16.881Z"
   },
   {
    "duration": 31,
    "start_time": "2022-03-17T12:11:16.905Z"
   },
   {
    "duration": 14,
    "start_time": "2022-03-17T12:11:16.939Z"
   },
   {
    "duration": 39,
    "start_time": "2022-03-17T12:11:16.984Z"
   },
   {
    "duration": 14,
    "start_time": "2022-03-17T12:11:17.025Z"
   },
   {
    "duration": 52,
    "start_time": "2022-03-17T12:11:17.042Z"
   },
   {
    "duration": 17,
    "start_time": "2022-03-17T12:11:17.096Z"
   },
   {
    "duration": 19,
    "start_time": "2022-03-17T12:11:17.115Z"
   },
   {
    "duration": 46,
    "start_time": "2022-03-17T12:11:17.136Z"
   },
   {
    "duration": 43,
    "start_time": "2022-03-17T12:11:17.185Z"
   },
   {
    "duration": 231,
    "start_time": "2022-03-17T12:11:17.232Z"
   },
   {
    "duration": 0,
    "start_time": "2022-03-17T12:11:17.466Z"
   },
   {
    "duration": 0,
    "start_time": "2022-03-17T12:11:17.468Z"
   },
   {
    "duration": 0,
    "start_time": "2022-03-17T12:11:17.482Z"
   },
   {
    "duration": 0,
    "start_time": "2022-03-17T12:11:17.484Z"
   },
   {
    "duration": 8,
    "start_time": "2022-03-17T12:12:06.749Z"
   },
   {
    "duration": 1513,
    "start_time": "2022-03-17T12:13:32.400Z"
   },
   {
    "duration": 518,
    "start_time": "2022-03-17T12:13:33.916Z"
   },
   {
    "duration": 37,
    "start_time": "2022-03-17T12:13:34.437Z"
   },
   {
    "duration": 25,
    "start_time": "2022-03-17T12:13:34.476Z"
   },
   {
    "duration": 41,
    "start_time": "2022-03-17T12:13:34.504Z"
   },
   {
    "duration": 14,
    "start_time": "2022-03-17T12:13:34.547Z"
   },
   {
    "duration": 39,
    "start_time": "2022-03-17T12:13:34.564Z"
   },
   {
    "duration": 11,
    "start_time": "2022-03-17T12:13:34.606Z"
   },
   {
    "duration": 34,
    "start_time": "2022-03-17T12:13:34.619Z"
   },
   {
    "duration": 28,
    "start_time": "2022-03-17T12:13:34.656Z"
   },
   {
    "duration": 28,
    "start_time": "2022-03-17T12:13:34.686Z"
   },
   {
    "duration": 29,
    "start_time": "2022-03-17T12:13:34.717Z"
   },
   {
    "duration": 46,
    "start_time": "2022-03-17T12:13:34.749Z"
   },
   {
    "duration": 7,
    "start_time": "2022-03-17T12:13:34.799Z"
   },
   {
    "duration": 50,
    "start_time": "2022-03-17T12:13:34.809Z"
   },
   {
    "duration": 28,
    "start_time": "2022-03-17T12:13:34.861Z"
   },
   {
    "duration": 45,
    "start_time": "2022-03-17T12:13:34.891Z"
   },
   {
    "duration": 28,
    "start_time": "2022-03-17T12:13:34.938Z"
   },
   {
    "duration": 18,
    "start_time": "2022-03-17T12:13:34.969Z"
   },
   {
    "duration": 14,
    "start_time": "2022-03-17T12:13:34.989Z"
   },
   {
    "duration": 14,
    "start_time": "2022-03-17T13:26:26.951Z"
   },
   {
    "duration": 164,
    "start_time": "2022-03-17T13:26:56.644Z"
   },
   {
    "duration": 8,
    "start_time": "2022-03-17T13:26:57.511Z"
   },
   {
    "duration": 1558,
    "start_time": "2022-03-17T13:27:10.547Z"
   },
   {
    "duration": 534,
    "start_time": "2022-03-17T13:27:12.109Z"
   },
   {
    "duration": 36,
    "start_time": "2022-03-17T13:27:12.650Z"
   },
   {
    "duration": 25,
    "start_time": "2022-03-17T13:27:12.689Z"
   },
   {
    "duration": 30,
    "start_time": "2022-03-17T13:27:12.717Z"
   },
   {
    "duration": 38,
    "start_time": "2022-03-17T13:27:12.749Z"
   },
   {
    "duration": 45,
    "start_time": "2022-03-17T13:27:12.789Z"
   },
   {
    "duration": 21,
    "start_time": "2022-03-17T13:27:12.836Z"
   },
   {
    "duration": 30,
    "start_time": "2022-03-17T13:27:12.862Z"
   },
   {
    "duration": 15,
    "start_time": "2022-03-17T13:27:12.894Z"
   },
   {
    "duration": 25,
    "start_time": "2022-03-17T13:27:12.911Z"
   },
   {
    "duration": 38,
    "start_time": "2022-03-17T13:27:12.938Z"
   },
   {
    "duration": 48,
    "start_time": "2022-03-17T13:27:12.978Z"
   },
   {
    "duration": 13,
    "start_time": "2022-03-17T13:27:13.029Z"
   },
   {
    "duration": 222,
    "start_time": "2022-03-17T13:27:13.044Z"
   },
   {
    "duration": 0,
    "start_time": "2022-03-17T13:27:13.270Z"
   },
   {
    "duration": 0,
    "start_time": "2022-03-17T13:27:13.272Z"
   },
   {
    "duration": 0,
    "start_time": "2022-03-17T13:27:13.274Z"
   },
   {
    "duration": 0,
    "start_time": "2022-03-17T13:27:13.277Z"
   },
   {
    "duration": 0,
    "start_time": "2022-03-17T13:27:13.279Z"
   },
   {
    "duration": 0,
    "start_time": "2022-03-17T13:27:13.281Z"
   },
   {
    "duration": 52,
    "start_time": "2022-03-17T13:35:05.922Z"
   },
   {
    "duration": 8,
    "start_time": "2022-03-17T13:35:07.058Z"
   },
   {
    "duration": 1547,
    "start_time": "2022-03-17T13:36:12.137Z"
   },
   {
    "duration": 506,
    "start_time": "2022-03-17T13:36:13.687Z"
   },
   {
    "duration": 36,
    "start_time": "2022-03-17T13:36:14.195Z"
   },
   {
    "duration": 17,
    "start_time": "2022-03-17T13:36:14.233Z"
   },
   {
    "duration": 52,
    "start_time": "2022-03-17T13:36:14.254Z"
   },
   {
    "duration": 15,
    "start_time": "2022-03-17T13:36:14.308Z"
   },
   {
    "duration": 41,
    "start_time": "2022-03-17T13:36:14.325Z"
   },
   {
    "duration": 25,
    "start_time": "2022-03-17T13:36:14.368Z"
   },
   {
    "duration": 26,
    "start_time": "2022-03-17T13:36:14.395Z"
   },
   {
    "duration": 29,
    "start_time": "2022-03-17T13:36:14.423Z"
   },
   {
    "duration": 30,
    "start_time": "2022-03-17T13:36:14.455Z"
   },
   {
    "duration": 31,
    "start_time": "2022-03-17T13:36:14.487Z"
   },
   {
    "duration": 41,
    "start_time": "2022-03-17T13:36:14.521Z"
   },
   {
    "duration": 48,
    "start_time": "2022-03-17T13:36:14.566Z"
   },
   {
    "duration": 8,
    "start_time": "2022-03-17T13:36:14.616Z"
   },
   {
    "duration": 10,
    "start_time": "2022-03-17T13:36:14.626Z"
   },
   {
    "duration": 14,
    "start_time": "2022-03-17T13:36:14.638Z"
   },
   {
    "duration": 25,
    "start_time": "2022-03-17T13:36:14.681Z"
   },
   {
    "duration": 20,
    "start_time": "2022-03-17T13:36:14.709Z"
   },
   {
    "duration": 11,
    "start_time": "2022-03-17T13:36:14.732Z"
   },
   {
    "duration": 43,
    "start_time": "2022-03-17T13:36:14.745Z"
   },
   {
    "duration": 6,
    "start_time": "2022-03-17T13:37:09.386Z"
   },
   {
    "duration": 22,
    "start_time": "2022-03-17T13:39:19.098Z"
   },
   {
    "duration": 4281,
    "start_time": "2022-03-17T13:39:19.855Z"
   },
   {
    "duration": 0,
    "start_time": "2022-03-17T13:39:24.139Z"
   },
   {
    "duration": 0,
    "start_time": "2022-03-17T13:39:24.140Z"
   },
   {
    "duration": 4352,
    "start_time": "2022-03-17T13:40:07.918Z"
   },
   {
    "duration": 0,
    "start_time": "2022-03-17T13:40:12.274Z"
   },
   {
    "duration": 0,
    "start_time": "2022-03-17T13:40:12.275Z"
   },
   {
    "duration": 24,
    "start_time": "2022-03-17T13:40:48.999Z"
   },
   {
    "duration": 8,
    "start_time": "2022-03-17T13:40:50.398Z"
   },
   {
    "duration": 7,
    "start_time": "2022-03-17T13:40:51.534Z"
   },
   {
    "duration": 36,
    "start_time": "2022-03-17T13:41:39.641Z"
   },
   {
    "duration": 20,
    "start_time": "2022-03-17T13:41:59.423Z"
   },
   {
    "duration": 8,
    "start_time": "2022-03-17T13:41:59.909Z"
   },
   {
    "duration": 10,
    "start_time": "2022-03-17T13:42:00.500Z"
   },
   {
    "duration": 7,
    "start_time": "2022-03-17T13:47:06.204Z"
   },
   {
    "duration": 6,
    "start_time": "2022-03-17T13:47:36.404Z"
   },
   {
    "duration": 6,
    "start_time": "2022-03-17T13:48:02.508Z"
   },
   {
    "duration": 8,
    "start_time": "2022-03-17T13:48:26.915Z"
   },
   {
    "duration": 6,
    "start_time": "2022-03-17T13:48:57.268Z"
   },
   {
    "duration": 4,
    "start_time": "2022-03-17T13:50:40.882Z"
   },
   {
    "duration": 1579,
    "start_time": "2022-03-17T13:55:24.187Z"
   },
   {
    "duration": 573,
    "start_time": "2022-03-17T13:55:25.768Z"
   },
   {
    "duration": 47,
    "start_time": "2022-03-17T13:55:26.345Z"
   },
   {
    "duration": 23,
    "start_time": "2022-03-17T13:55:26.395Z"
   },
   {
    "duration": 7,
    "start_time": "2022-03-17T13:55:26.422Z"
   },
   {
    "duration": 61,
    "start_time": "2022-03-17T13:55:26.432Z"
   },
   {
    "duration": 19,
    "start_time": "2022-03-17T13:55:26.496Z"
   },
   {
    "duration": 10,
    "start_time": "2022-03-17T13:55:26.520Z"
   },
   {
    "duration": 67,
    "start_time": "2022-03-17T13:55:26.534Z"
   },
   {
    "duration": 12,
    "start_time": "2022-03-17T13:55:26.603Z"
   },
   {
    "duration": 10,
    "start_time": "2022-03-17T13:55:26.618Z"
   },
   {
    "duration": 26,
    "start_time": "2022-03-17T13:55:26.630Z"
   },
   {
    "duration": 37,
    "start_time": "2022-03-17T13:55:26.658Z"
   },
   {
    "duration": 8,
    "start_time": "2022-03-17T13:55:26.698Z"
   },
   {
    "duration": 20,
    "start_time": "2022-03-17T13:55:26.710Z"
   },
   {
    "duration": 57,
    "start_time": "2022-03-17T13:55:26.733Z"
   },
   {
    "duration": 14,
    "start_time": "2022-03-17T13:55:26.797Z"
   },
   {
    "duration": 36,
    "start_time": "2022-03-17T13:55:26.814Z"
   },
   {
    "duration": 67,
    "start_time": "2022-03-17T13:55:26.854Z"
   },
   {
    "duration": 7,
    "start_time": "2022-03-17T13:55:26.924Z"
   },
   {
    "duration": 25,
    "start_time": "2022-03-17T13:55:26.933Z"
   },
   {
    "duration": 37,
    "start_time": "2022-03-17T13:55:26.961Z"
   },
   {
    "duration": 35,
    "start_time": "2022-03-17T13:55:27.003Z"
   },
   {
    "duration": 9,
    "start_time": "2022-03-17T13:55:27.040Z"
   },
   {
    "duration": 36,
    "start_time": "2022-03-17T13:55:27.052Z"
   },
   {
    "duration": 28,
    "start_time": "2022-03-17T13:55:27.091Z"
   },
   {
    "duration": 10,
    "start_time": "2022-03-17T13:55:27.121Z"
   },
   {
    "duration": 22,
    "start_time": "2022-03-17T13:55:27.134Z"
   },
   {
    "duration": 9,
    "start_time": "2022-03-17T14:03:11.744Z"
   },
   {
    "duration": 13,
    "start_time": "2022-03-17T14:03:12.887Z"
   },
   {
    "duration": 1560,
    "start_time": "2022-03-17T14:03:19.580Z"
   },
   {
    "duration": 506,
    "start_time": "2022-03-17T14:03:21.144Z"
   },
   {
    "duration": 36,
    "start_time": "2022-03-17T14:03:21.652Z"
   },
   {
    "duration": 20,
    "start_time": "2022-03-17T14:03:21.690Z"
   },
   {
    "duration": 7,
    "start_time": "2022-03-17T14:03:21.714Z"
   },
   {
    "duration": 58,
    "start_time": "2022-03-17T14:03:21.724Z"
   },
   {
    "duration": 14,
    "start_time": "2022-03-17T14:03:21.786Z"
   },
   {
    "duration": 11,
    "start_time": "2022-03-17T14:03:21.803Z"
   },
   {
    "duration": 37,
    "start_time": "2022-03-17T14:03:21.817Z"
   },
   {
    "duration": 40,
    "start_time": "2022-03-17T14:03:21.856Z"
   },
   {
    "duration": 15,
    "start_time": "2022-03-17T14:03:21.898Z"
   },
   {
    "duration": 20,
    "start_time": "2022-03-17T14:03:21.917Z"
   },
   {
    "duration": 54,
    "start_time": "2022-03-17T14:03:21.939Z"
   },
   {
    "duration": 28,
    "start_time": "2022-03-17T14:03:21.998Z"
   },
   {
    "duration": 29,
    "start_time": "2022-03-17T14:03:22.028Z"
   },
   {
    "duration": 40,
    "start_time": "2022-03-17T14:03:22.060Z"
   },
   {
    "duration": 34,
    "start_time": "2022-03-17T14:03:22.102Z"
   },
   {
    "duration": 30,
    "start_time": "2022-03-17T14:03:22.139Z"
   },
   {
    "duration": 50,
    "start_time": "2022-03-17T14:03:22.172Z"
   },
   {
    "duration": 7,
    "start_time": "2022-03-17T14:03:22.225Z"
   },
   {
    "duration": 49,
    "start_time": "2022-03-17T14:03:22.234Z"
   },
   {
    "duration": 49,
    "start_time": "2022-03-17T14:03:22.285Z"
   },
   {
    "duration": 7,
    "start_time": "2022-03-17T14:03:22.336Z"
   },
   {
    "duration": 46,
    "start_time": "2022-03-17T14:03:22.345Z"
   },
   {
    "duration": 37,
    "start_time": "2022-03-17T14:03:22.394Z"
   },
   {
    "duration": 37,
    "start_time": "2022-03-17T14:03:22.433Z"
   },
   {
    "duration": 31,
    "start_time": "2022-03-17T14:06:28.849Z"
   },
   {
    "duration": 3857,
    "start_time": "2022-03-17T14:06:29.466Z"
   },
   {
    "duration": 0,
    "start_time": "2022-03-17T14:06:33.325Z"
   },
   {
    "duration": 1545,
    "start_time": "2022-03-17T14:06:41.061Z"
   },
   {
    "duration": 523,
    "start_time": "2022-03-17T14:06:42.609Z"
   },
   {
    "duration": 36,
    "start_time": "2022-03-17T14:06:43.135Z"
   },
   {
    "duration": 21,
    "start_time": "2022-03-17T14:06:43.175Z"
   },
   {
    "duration": 7,
    "start_time": "2022-03-17T14:06:43.199Z"
   },
   {
    "duration": 32,
    "start_time": "2022-03-17T14:06:43.208Z"
   },
   {
    "duration": 43,
    "start_time": "2022-03-17T14:06:43.242Z"
   },
   {
    "duration": 10,
    "start_time": "2022-03-17T14:06:43.287Z"
   },
   {
    "duration": 30,
    "start_time": "2022-03-17T14:06:43.299Z"
   },
   {
    "duration": 12,
    "start_time": "2022-03-17T14:06:43.335Z"
   },
   {
    "duration": 7,
    "start_time": "2022-03-17T14:06:43.384Z"
   },
   {
    "duration": 19,
    "start_time": "2022-03-17T14:06:43.393Z"
   },
   {
    "duration": 16,
    "start_time": "2022-03-17T14:06:43.415Z"
   },
   {
    "duration": 19,
    "start_time": "2022-03-17T14:06:43.434Z"
   },
   {
    "duration": 24,
    "start_time": "2022-03-17T14:06:43.484Z"
   },
   {
    "duration": 19,
    "start_time": "2022-03-17T14:06:43.510Z"
   },
   {
    "duration": 7,
    "start_time": "2022-03-17T14:06:43.533Z"
   },
   {
    "duration": 63,
    "start_time": "2022-03-17T14:06:43.542Z"
   },
   {
    "duration": 48,
    "start_time": "2022-03-17T14:06:43.607Z"
   },
   {
    "duration": 26,
    "start_time": "2022-03-17T14:06:43.658Z"
   },
   {
    "duration": 26,
    "start_time": "2022-03-17T14:06:43.702Z"
   },
   {
    "duration": 34,
    "start_time": "2022-03-17T14:06:43.731Z"
   },
   {
    "duration": 7,
    "start_time": "2022-03-17T14:06:43.782Z"
   },
   {
    "duration": 34,
    "start_time": "2022-03-17T14:06:43.792Z"
   },
   {
    "duration": 4372,
    "start_time": "2022-03-17T14:06:43.829Z"
   },
   {
    "duration": 0,
    "start_time": "2022-03-17T14:06:48.203Z"
   },
   {
    "duration": 0,
    "start_time": "2022-03-17T14:06:48.205Z"
   },
   {
    "duration": 0,
    "start_time": "2022-03-17T14:06:48.207Z"
   },
   {
    "duration": 36,
    "start_time": "2022-03-17T14:15:20.450Z"
   },
   {
    "duration": 11,
    "start_time": "2022-03-17T14:15:26.721Z"
   },
   {
    "duration": 30,
    "start_time": "2022-03-17T14:15:41.361Z"
   },
   {
    "duration": 6,
    "start_time": "2022-03-17T14:15:44.818Z"
   },
   {
    "duration": 10,
    "start_time": "2022-03-17T14:16:15.865Z"
   },
   {
    "duration": 10,
    "start_time": "2022-03-17T14:16:21.890Z"
   },
   {
    "duration": 6,
    "start_time": "2022-03-17T14:18:11.130Z"
   },
   {
    "duration": 7,
    "start_time": "2022-03-17T14:18:11.785Z"
   },
   {
    "duration": 1474,
    "start_time": "2022-03-17T14:18:26.542Z"
   },
   {
    "duration": 497,
    "start_time": "2022-03-17T14:18:28.020Z"
   },
   {
    "duration": 35,
    "start_time": "2022-03-17T14:18:28.520Z"
   },
   {
    "duration": 25,
    "start_time": "2022-03-17T14:18:28.558Z"
   },
   {
    "duration": 6,
    "start_time": "2022-03-17T14:18:28.585Z"
   },
   {
    "duration": 29,
    "start_time": "2022-03-17T14:18:28.593Z"
   },
   {
    "duration": 14,
    "start_time": "2022-03-17T14:18:28.624Z"
   },
   {
    "duration": 43,
    "start_time": "2022-03-17T14:18:28.640Z"
   },
   {
    "duration": 26,
    "start_time": "2022-03-17T14:18:28.686Z"
   },
   {
    "duration": 11,
    "start_time": "2022-03-17T14:18:28.716Z"
   },
   {
    "duration": 8,
    "start_time": "2022-03-17T14:18:28.730Z"
   },
   {
    "duration": 52,
    "start_time": "2022-03-17T14:18:28.740Z"
   },
   {
    "duration": 17,
    "start_time": "2022-03-17T14:18:28.794Z"
   },
   {
    "duration": 10,
    "start_time": "2022-03-17T14:18:28.813Z"
   },
   {
    "duration": 18,
    "start_time": "2022-03-17T14:18:28.825Z"
   },
   {
    "duration": 49,
    "start_time": "2022-03-17T14:18:28.845Z"
   },
   {
    "duration": 8,
    "start_time": "2022-03-17T14:18:28.896Z"
   },
   {
    "duration": 33,
    "start_time": "2022-03-17T14:18:28.907Z"
   },
   {
    "duration": 69,
    "start_time": "2022-03-17T14:18:28.942Z"
   },
   {
    "duration": 9,
    "start_time": "2022-03-17T14:18:29.013Z"
   },
   {
    "duration": 27,
    "start_time": "2022-03-17T14:18:29.025Z"
   },
   {
    "duration": 33,
    "start_time": "2022-03-17T14:18:29.082Z"
   },
   {
    "duration": 8,
    "start_time": "2022-03-17T14:18:29.118Z"
   },
   {
    "duration": 55,
    "start_time": "2022-03-17T14:18:29.129Z"
   },
   {
    "duration": 29,
    "start_time": "2022-03-17T14:18:29.186Z"
   },
   {
    "duration": 6,
    "start_time": "2022-03-17T14:18:29.218Z"
   },
   {
    "duration": 11,
    "start_time": "2022-03-17T14:18:29.227Z"
   },
   {
    "duration": 40,
    "start_time": "2022-03-17T14:18:29.243Z"
   },
   {
    "duration": 5,
    "start_time": "2022-03-17T14:18:29.286Z"
   },
   {
    "duration": 12,
    "start_time": "2022-03-17T14:18:29.295Z"
   },
   {
    "duration": 161,
    "start_time": "2022-03-17T14:25:18.846Z"
   },
   {
    "duration": 1381,
    "start_time": "2022-03-17T14:25:42.924Z"
   },
   {
    "duration": 531,
    "start_time": "2022-03-17T14:25:44.308Z"
   },
   {
    "duration": 36,
    "start_time": "2022-03-17T14:25:44.841Z"
   },
   {
    "duration": 18,
    "start_time": "2022-03-17T14:25:44.880Z"
   },
   {
    "duration": 5,
    "start_time": "2022-03-17T14:25:44.902Z"
   },
   {
    "duration": 30,
    "start_time": "2022-03-17T14:25:44.909Z"
   },
   {
    "duration": 54,
    "start_time": "2022-03-17T14:25:44.942Z"
   },
   {
    "duration": 19,
    "start_time": "2022-03-17T14:25:44.999Z"
   },
   {
    "duration": 55,
    "start_time": "2022-03-17T14:25:45.020Z"
   },
   {
    "duration": 12,
    "start_time": "2022-03-17T14:25:45.083Z"
   },
   {
    "duration": 21,
    "start_time": "2022-03-17T14:25:45.098Z"
   },
   {
    "duration": 37,
    "start_time": "2022-03-17T14:25:45.122Z"
   },
   {
    "duration": 71,
    "start_time": "2022-03-17T14:25:45.161Z"
   },
   {
    "duration": 38,
    "start_time": "2022-03-17T14:25:45.236Z"
   },
   {
    "duration": 34,
    "start_time": "2022-03-17T14:25:45.276Z"
   },
   {
    "duration": 38,
    "start_time": "2022-03-17T14:25:45.313Z"
   },
   {
    "duration": 34,
    "start_time": "2022-03-17T14:25:45.355Z"
   },
   {
    "duration": 62,
    "start_time": "2022-03-17T14:25:45.392Z"
   },
   {
    "duration": 75,
    "start_time": "2022-03-17T14:25:45.457Z"
   },
   {
    "duration": 9,
    "start_time": "2022-03-17T14:25:45.536Z"
   },
   {
    "duration": 49,
    "start_time": "2022-03-17T14:25:45.548Z"
   },
   {
    "duration": 34,
    "start_time": "2022-03-17T14:25:45.600Z"
   },
   {
    "duration": 8,
    "start_time": "2022-03-17T14:25:45.637Z"
   },
   {
    "duration": 60,
    "start_time": "2022-03-17T14:25:45.647Z"
   },
   {
    "duration": 44,
    "start_time": "2022-03-17T14:25:45.710Z"
   },
   {
    "duration": 23,
    "start_time": "2022-03-17T14:25:45.757Z"
   },
   {
    "duration": 31,
    "start_time": "2022-03-17T14:25:45.783Z"
   },
   {
    "duration": 28,
    "start_time": "2022-03-17T14:25:45.818Z"
   },
   {
    "duration": 154,
    "start_time": "2022-03-17T14:25:45.849Z"
   },
   {
    "duration": 0,
    "start_time": "2022-03-17T14:25:46.005Z"
   },
   {
    "duration": 0,
    "start_time": "2022-03-17T14:25:46.007Z"
   },
   {
    "duration": 94,
    "start_time": "2022-03-17T15:03:04.052Z"
   },
   {
    "duration": 1592,
    "start_time": "2022-03-17T15:04:21.858Z"
   },
   {
    "duration": 562,
    "start_time": "2022-03-17T15:04:23.454Z"
   },
   {
    "duration": 36,
    "start_time": "2022-03-17T15:04:24.019Z"
   },
   {
    "duration": 27,
    "start_time": "2022-03-17T15:04:24.058Z"
   },
   {
    "duration": 6,
    "start_time": "2022-03-17T15:04:24.088Z"
   },
   {
    "duration": 29,
    "start_time": "2022-03-17T15:04:24.097Z"
   },
   {
    "duration": 18,
    "start_time": "2022-03-17T15:04:24.129Z"
   },
   {
    "duration": 8,
    "start_time": "2022-03-17T15:04:24.184Z"
   },
   {
    "duration": 29,
    "start_time": "2022-03-17T15:04:24.195Z"
   },
   {
    "duration": 10,
    "start_time": "2022-03-17T15:04:24.229Z"
   },
   {
    "duration": 44,
    "start_time": "2022-03-17T15:04:24.242Z"
   },
   {
    "duration": 21,
    "start_time": "2022-03-17T15:04:24.289Z"
   },
   {
    "duration": 17,
    "start_time": "2022-03-17T15:04:24.313Z"
   },
   {
    "duration": 9,
    "start_time": "2022-03-17T15:04:24.332Z"
   },
   {
    "duration": 21,
    "start_time": "2022-03-17T15:04:24.381Z"
   },
   {
    "duration": 20,
    "start_time": "2022-03-17T15:04:24.405Z"
   },
   {
    "duration": 7,
    "start_time": "2022-03-17T15:04:24.427Z"
   },
   {
    "duration": 78,
    "start_time": "2022-03-17T15:04:24.436Z"
   },
   {
    "duration": 72,
    "start_time": "2022-03-17T15:04:24.517Z"
   },
   {
    "duration": 8,
    "start_time": "2022-03-17T15:04:24.591Z"
   },
   {
    "duration": 24,
    "start_time": "2022-03-17T15:04:24.601Z"
   },
   {
    "duration": 64,
    "start_time": "2022-03-17T15:04:24.627Z"
   },
   {
    "duration": 7,
    "start_time": "2022-03-17T15:04:24.693Z"
   },
   {
    "duration": 35,
    "start_time": "2022-03-17T15:04:24.704Z"
   },
   {
    "duration": 50,
    "start_time": "2022-03-17T15:04:24.742Z"
   },
   {
    "duration": 8,
    "start_time": "2022-03-17T15:04:24.794Z"
   },
   {
    "duration": 13,
    "start_time": "2022-03-17T15:04:24.804Z"
   },
   {
    "duration": 10,
    "start_time": "2022-03-17T15:04:24.822Z"
   },
   {
    "duration": 50,
    "start_time": "2022-03-17T15:04:24.834Z"
   },
   {
    "duration": 8,
    "start_time": "2022-03-17T15:04:24.886Z"
   },
   {
    "duration": 14,
    "start_time": "2022-03-17T15:04:24.896Z"
   },
   {
    "duration": 25,
    "start_time": "2022-03-17T15:04:47.521Z"
   },
   {
    "duration": 21,
    "start_time": "2022-03-17T15:07:19.084Z"
   },
   {
    "duration": 9,
    "start_time": "2022-03-17T15:07:27.289Z"
   },
   {
    "duration": 14,
    "start_time": "2022-03-17T15:07:40.161Z"
   },
   {
    "duration": 140,
    "start_time": "2022-03-17T15:37:38.836Z"
   },
   {
    "duration": 14,
    "start_time": "2022-03-17T15:37:50.796Z"
   },
   {
    "duration": 12,
    "start_time": "2022-03-17T15:45:43.823Z"
   },
   {
    "duration": 323,
    "start_time": "2022-03-17T15:45:51.863Z"
   },
   {
    "duration": 5,
    "start_time": "2022-03-17T15:45:54.664Z"
   },
   {
    "duration": 6,
    "start_time": "2022-03-17T15:46:19.145Z"
   },
   {
    "duration": 1574,
    "start_time": "2022-03-17T15:46:28.266Z"
   },
   {
    "duration": 926,
    "start_time": "2022-03-17T15:46:29.842Z"
   },
   {
    "duration": 34,
    "start_time": "2022-03-17T15:46:30.771Z"
   },
   {
    "duration": 30,
    "start_time": "2022-03-17T15:46:30.808Z"
   },
   {
    "duration": 16,
    "start_time": "2022-03-17T15:46:30.841Z"
   },
   {
    "duration": 46,
    "start_time": "2022-03-17T15:46:30.859Z"
   },
   {
    "duration": 14,
    "start_time": "2022-03-17T15:46:30.908Z"
   },
   {
    "duration": 19,
    "start_time": "2022-03-17T15:46:30.924Z"
   },
   {
    "duration": 54,
    "start_time": "2022-03-17T15:46:30.946Z"
   },
   {
    "duration": 15,
    "start_time": "2022-03-17T15:46:31.004Z"
   },
   {
    "duration": 16,
    "start_time": "2022-03-17T15:46:31.021Z"
   },
   {
    "duration": 53,
    "start_time": "2022-03-17T15:46:31.039Z"
   },
   {
    "duration": 42,
    "start_time": "2022-03-17T15:46:31.095Z"
   },
   {
    "duration": 16,
    "start_time": "2022-03-17T15:46:31.142Z"
   },
   {
    "duration": 108,
    "start_time": "2022-03-17T15:46:31.161Z"
   },
   {
    "duration": 48,
    "start_time": "2022-03-17T15:46:31.271Z"
   },
   {
    "duration": 29,
    "start_time": "2022-03-17T15:46:31.322Z"
   },
   {
    "duration": 49,
    "start_time": "2022-03-17T15:46:31.353Z"
   },
   {
    "duration": 55,
    "start_time": "2022-03-17T15:46:31.405Z"
   },
   {
    "duration": 30,
    "start_time": "2022-03-17T15:46:31.463Z"
   },
   {
    "duration": 39,
    "start_time": "2022-03-17T15:46:31.500Z"
   },
   {
    "duration": 38,
    "start_time": "2022-03-17T15:46:31.542Z"
   },
   {
    "duration": 24,
    "start_time": "2022-03-17T15:46:31.584Z"
   },
   {
    "duration": 41,
    "start_time": "2022-03-17T15:46:31.611Z"
   },
   {
    "duration": 44,
    "start_time": "2022-03-17T15:46:31.657Z"
   },
   {
    "duration": 14,
    "start_time": "2022-03-17T15:46:31.704Z"
   },
   {
    "duration": 33,
    "start_time": "2022-03-17T15:46:31.720Z"
   },
   {
    "duration": 18,
    "start_time": "2022-03-17T15:46:31.756Z"
   },
   {
    "duration": 40,
    "start_time": "2022-03-17T15:46:31.781Z"
   },
   {
    "duration": 11,
    "start_time": "2022-03-17T15:46:31.825Z"
   },
   {
    "duration": 20,
    "start_time": "2022-03-17T15:46:31.839Z"
   },
   {
    "duration": 8,
    "start_time": "2022-03-17T15:46:31.862Z"
   },
   {
    "duration": 16,
    "start_time": "2022-03-17T15:46:31.874Z"
   },
   {
    "duration": 28,
    "start_time": "2022-03-17T15:46:31.893Z"
   },
   {
    "duration": 82,
    "start_time": "2022-03-17T15:52:26.416Z"
   },
   {
    "duration": 13,
    "start_time": "2022-03-17T15:52:41.400Z"
   },
   {
    "duration": 22,
    "start_time": "2022-03-17T15:53:33.293Z"
   },
   {
    "duration": 87,
    "start_time": "2022-03-17T16:11:36.786Z"
   },
   {
    "duration": 89,
    "start_time": "2022-03-17T16:12:35.984Z"
   },
   {
    "duration": 15,
    "start_time": "2022-03-17T16:12:46.729Z"
   },
   {
    "duration": 11,
    "start_time": "2022-03-17T16:13:09.889Z"
   },
   {
    "duration": 10,
    "start_time": "2022-03-17T16:13:17.881Z"
   },
   {
    "duration": 111,
    "start_time": "2022-03-17T16:14:17.897Z"
   },
   {
    "duration": 27,
    "start_time": "2022-03-17T16:14:52.642Z"
   },
   {
    "duration": 12,
    "start_time": "2022-03-17T16:14:58.802Z"
   },
   {
    "duration": 24,
    "start_time": "2022-03-17T16:19:30.080Z"
   },
   {
    "duration": 7,
    "start_time": "2022-03-17T16:19:30.671Z"
   },
   {
    "duration": 13,
    "start_time": "2022-03-17T16:19:31.381Z"
   },
   {
    "duration": 1561,
    "start_time": "2022-03-17T16:20:06.883Z"
   },
   {
    "duration": 530,
    "start_time": "2022-03-17T16:20:08.447Z"
   },
   {
    "duration": 38,
    "start_time": "2022-03-17T16:20:08.979Z"
   },
   {
    "duration": 43,
    "start_time": "2022-03-17T16:20:09.019Z"
   },
   {
    "duration": 11,
    "start_time": "2022-03-17T16:20:09.067Z"
   },
   {
    "duration": 50,
    "start_time": "2022-03-17T16:20:09.082Z"
   },
   {
    "duration": 27,
    "start_time": "2022-03-17T16:20:09.134Z"
   },
   {
    "duration": 25,
    "start_time": "2022-03-17T16:20:09.163Z"
   },
   {
    "duration": 59,
    "start_time": "2022-03-17T16:20:09.190Z"
   },
   {
    "duration": 23,
    "start_time": "2022-03-17T16:20:09.252Z"
   },
   {
    "duration": 34,
    "start_time": "2022-03-17T16:20:09.277Z"
   },
   {
    "duration": 33,
    "start_time": "2022-03-17T16:20:09.314Z"
   },
   {
    "duration": 35,
    "start_time": "2022-03-17T16:20:09.350Z"
   },
   {
    "duration": 28,
    "start_time": "2022-03-17T16:20:09.390Z"
   },
   {
    "duration": 33,
    "start_time": "2022-03-17T16:20:09.421Z"
   },
   {
    "duration": 44,
    "start_time": "2022-03-17T16:20:09.457Z"
   },
   {
    "duration": 19,
    "start_time": "2022-03-17T16:20:09.504Z"
   },
   {
    "duration": 60,
    "start_time": "2022-03-17T16:20:09.526Z"
   },
   {
    "duration": 72,
    "start_time": "2022-03-17T16:20:09.589Z"
   },
   {
    "duration": 20,
    "start_time": "2022-03-17T16:20:09.664Z"
   },
   {
    "duration": 22,
    "start_time": "2022-03-17T16:20:09.686Z"
   },
   {
    "duration": 39,
    "start_time": "2022-03-17T16:20:09.710Z"
   },
   {
    "duration": 99,
    "start_time": "2022-03-17T16:20:09.751Z"
   },
   {
    "duration": 303,
    "start_time": "2022-03-17T16:20:09.852Z"
   },
   {
    "duration": 0,
    "start_time": "2022-03-17T16:20:10.157Z"
   },
   {
    "duration": 0,
    "start_time": "2022-03-17T16:20:10.159Z"
   },
   {
    "duration": 0,
    "start_time": "2022-03-17T16:20:10.161Z"
   },
   {
    "duration": 0,
    "start_time": "2022-03-17T16:20:10.162Z"
   },
   {
    "duration": 0,
    "start_time": "2022-03-17T16:20:10.163Z"
   },
   {
    "duration": 0,
    "start_time": "2022-03-17T16:20:10.165Z"
   },
   {
    "duration": 0,
    "start_time": "2022-03-17T16:20:10.182Z"
   },
   {
    "duration": 0,
    "start_time": "2022-03-17T16:20:10.185Z"
   },
   {
    "duration": 0,
    "start_time": "2022-03-17T16:20:10.187Z"
   },
   {
    "duration": 0,
    "start_time": "2022-03-17T16:20:10.189Z"
   },
   {
    "duration": 0,
    "start_time": "2022-03-17T16:20:10.191Z"
   },
   {
    "duration": 0,
    "start_time": "2022-03-17T16:20:10.193Z"
   },
   {
    "duration": 0,
    "start_time": "2022-03-17T16:20:10.195Z"
   },
   {
    "duration": 40,
    "start_time": "2022-03-17T16:21:11.136Z"
   },
   {
    "duration": 23,
    "start_time": "2022-03-17T16:24:53.240Z"
   },
   {
    "duration": 36,
    "start_time": "2022-03-17T16:24:53.901Z"
   },
   {
    "duration": 8,
    "start_time": "2022-03-17T16:24:55.191Z"
   },
   {
    "duration": 49,
    "start_time": "2022-03-17T16:25:14.679Z"
   },
   {
    "duration": 6,
    "start_time": "2022-03-17T16:26:40.310Z"
   },
   {
    "duration": 19,
    "start_time": "2022-03-17T16:27:01.821Z"
   },
   {
    "duration": 7,
    "start_time": "2022-03-17T16:27:25.998Z"
   },
   {
    "duration": 19,
    "start_time": "2022-03-17T16:27:26.381Z"
   },
   {
    "duration": 1642,
    "start_time": "2022-03-17T16:27:48.268Z"
   },
   {
    "duration": 657,
    "start_time": "2022-03-17T16:27:49.913Z"
   },
   {
    "duration": 45,
    "start_time": "2022-03-17T16:27:50.573Z"
   },
   {
    "duration": 24,
    "start_time": "2022-03-17T16:27:50.623Z"
   },
   {
    "duration": 36,
    "start_time": "2022-03-17T16:27:50.650Z"
   },
   {
    "duration": 34,
    "start_time": "2022-03-17T16:27:50.689Z"
   },
   {
    "duration": 22,
    "start_time": "2022-03-17T16:27:50.726Z"
   },
   {
    "duration": 42,
    "start_time": "2022-03-17T16:27:50.751Z"
   },
   {
    "duration": 35,
    "start_time": "2022-03-17T16:27:50.796Z"
   },
   {
    "duration": 14,
    "start_time": "2022-03-17T16:27:50.838Z"
   },
   {
    "duration": 19,
    "start_time": "2022-03-17T16:27:50.856Z"
   },
   {
    "duration": 23,
    "start_time": "2022-03-17T16:27:50.887Z"
   },
   {
    "duration": 21,
    "start_time": "2022-03-17T16:27:50.915Z"
   },
   {
    "duration": 18,
    "start_time": "2022-03-17T16:27:50.938Z"
   },
   {
    "duration": 34,
    "start_time": "2022-03-17T16:27:50.960Z"
   },
   {
    "duration": 49,
    "start_time": "2022-03-17T16:27:50.997Z"
   },
   {
    "duration": 17,
    "start_time": "2022-03-17T16:27:51.050Z"
   },
   {
    "duration": 34,
    "start_time": "2022-03-17T16:27:51.070Z"
   },
   {
    "duration": 75,
    "start_time": "2022-03-17T16:27:51.107Z"
   },
   {
    "duration": 8,
    "start_time": "2022-03-17T16:27:51.185Z"
   },
   {
    "duration": 42,
    "start_time": "2022-03-17T16:27:51.195Z"
   },
   {
    "duration": 53,
    "start_time": "2022-03-17T16:27:51.239Z"
   },
   {
    "duration": 40,
    "start_time": "2022-03-17T16:27:51.295Z"
   },
   {
    "duration": 8,
    "start_time": "2022-03-17T16:27:51.338Z"
   },
   {
    "duration": 73,
    "start_time": "2022-03-17T16:27:51.349Z"
   },
   {
    "duration": 25,
    "start_time": "2022-03-17T16:27:51.425Z"
   },
   {
    "duration": 71,
    "start_time": "2022-03-17T16:27:51.452Z"
   },
   {
    "duration": 8,
    "start_time": "2022-03-17T16:27:51.531Z"
   },
   {
    "duration": 44,
    "start_time": "2022-03-17T16:27:51.542Z"
   },
   {
    "duration": 10,
    "start_time": "2022-03-17T16:27:51.589Z"
   },
   {
    "duration": 13,
    "start_time": "2022-03-17T16:27:51.602Z"
   },
   {
    "duration": 27,
    "start_time": "2022-03-17T16:27:51.618Z"
   },
   {
    "duration": 5,
    "start_time": "2022-03-17T16:27:51.648Z"
   },
   {
    "duration": 8,
    "start_time": "2022-03-17T16:27:51.683Z"
   },
   {
    "duration": 10,
    "start_time": "2022-03-17T16:27:51.693Z"
   },
   {
    "duration": 20,
    "start_time": "2022-03-17T16:27:51.706Z"
   },
   {
    "duration": 1686,
    "start_time": "2022-03-17T16:34:35.469Z"
   },
   {
    "duration": 515,
    "start_time": "2022-03-17T16:34:37.159Z"
   },
   {
    "duration": 39,
    "start_time": "2022-03-17T16:34:37.677Z"
   },
   {
    "duration": 19,
    "start_time": "2022-03-17T16:34:37.720Z"
   },
   {
    "duration": 6,
    "start_time": "2022-03-17T16:34:37.742Z"
   },
   {
    "duration": 35,
    "start_time": "2022-03-17T16:34:37.784Z"
   },
   {
    "duration": 14,
    "start_time": "2022-03-17T16:34:37.821Z"
   },
   {
    "duration": 11,
    "start_time": "2022-03-17T16:34:37.838Z"
   },
   {
    "duration": 29,
    "start_time": "2022-03-17T16:34:37.882Z"
   },
   {
    "duration": 12,
    "start_time": "2022-03-17T16:34:37.917Z"
   },
   {
    "duration": 11,
    "start_time": "2022-03-17T16:34:37.932Z"
   },
   {
    "duration": 53,
    "start_time": "2022-03-17T16:34:37.946Z"
   },
   {
    "duration": 23,
    "start_time": "2022-03-17T16:34:38.003Z"
   },
   {
    "duration": 7,
    "start_time": "2022-03-17T16:34:38.029Z"
   },
   {
    "duration": 49,
    "start_time": "2022-03-17T16:34:38.038Z"
   },
   {
    "duration": 25,
    "start_time": "2022-03-17T16:34:38.089Z"
   },
   {
    "duration": 8,
    "start_time": "2022-03-17T16:34:38.116Z"
   },
   {
    "duration": 68,
    "start_time": "2022-03-17T16:34:38.127Z"
   },
   {
    "duration": 51,
    "start_time": "2022-03-17T16:34:38.197Z"
   },
   {
    "duration": 9,
    "start_time": "2022-03-17T16:34:38.250Z"
   },
   {
    "duration": 38,
    "start_time": "2022-03-17T16:34:38.283Z"
   },
   {
    "duration": 23,
    "start_time": "2022-03-17T16:34:38.323Z"
   },
   {
    "duration": 65,
    "start_time": "2022-03-17T16:34:38.348Z"
   },
   {
    "duration": 9,
    "start_time": "2022-03-17T16:34:38.415Z"
   },
   {
    "duration": 69,
    "start_time": "2022-03-17T16:34:38.426Z"
   },
   {
    "duration": 21,
    "start_time": "2022-03-17T16:34:38.497Z"
   },
   {
    "duration": 27,
    "start_time": "2022-03-17T16:34:38.520Z"
   },
   {
    "duration": 7,
    "start_time": "2022-03-17T16:34:38.581Z"
   },
   {
    "duration": 23,
    "start_time": "2022-03-17T16:34:38.591Z"
   },
   {
    "duration": 10,
    "start_time": "2022-03-17T16:34:38.616Z"
   },
   {
    "duration": 9,
    "start_time": "2022-03-17T16:34:38.629Z"
   },
   {
    "duration": 186,
    "start_time": "2022-03-17T16:34:38.640Z"
   },
   {
    "duration": 4,
    "start_time": "2022-03-17T16:34:38.829Z"
   },
   {
    "duration": 13,
    "start_time": "2022-03-17T16:34:38.836Z"
   },
   {
    "duration": 11,
    "start_time": "2022-03-17T16:34:38.852Z"
   },
   {
    "duration": 9,
    "start_time": "2022-03-17T16:34:38.866Z"
   },
   {
    "duration": 33,
    "start_time": "2022-03-17T16:36:49.414Z"
   },
   {
    "duration": 35,
    "start_time": "2022-03-17T16:37:02.213Z"
   },
   {
    "duration": 113,
    "start_time": "2022-03-17T16:37:13.956Z"
   },
   {
    "duration": 134,
    "start_time": "2022-03-17T16:39:10.500Z"
   },
   {
    "duration": 42,
    "start_time": "2022-03-17T16:39:15.764Z"
   },
   {
    "duration": 21,
    "start_time": "2022-03-17T16:40:13.882Z"
   },
   {
    "duration": 12,
    "start_time": "2022-03-17T16:40:54.611Z"
   },
   {
    "duration": 14,
    "start_time": "2022-03-17T16:42:16.325Z"
   },
   {
    "duration": 1446,
    "start_time": "2022-03-17T16:42:39.941Z"
   },
   {
    "duration": 493,
    "start_time": "2022-03-17T16:42:41.391Z"
   },
   {
    "duration": 34,
    "start_time": "2022-03-17T16:42:41.887Z"
   },
   {
    "duration": 19,
    "start_time": "2022-03-17T16:42:41.923Z"
   },
   {
    "duration": 38,
    "start_time": "2022-03-17T16:42:41.945Z"
   },
   {
    "duration": 30,
    "start_time": "2022-03-17T16:42:41.986Z"
   },
   {
    "duration": 14,
    "start_time": "2022-03-17T16:42:42.018Z"
   },
   {
    "duration": 8,
    "start_time": "2022-03-17T16:42:42.034Z"
   },
   {
    "duration": 25,
    "start_time": "2022-03-17T16:42:42.083Z"
   },
   {
    "duration": 11,
    "start_time": "2022-03-17T16:42:42.110Z"
   },
   {
    "duration": 8,
    "start_time": "2022-03-17T16:42:42.124Z"
   },
   {
    "duration": 55,
    "start_time": "2022-03-17T16:42:42.135Z"
   },
   {
    "duration": 12,
    "start_time": "2022-03-17T16:42:42.193Z"
   },
   {
    "duration": 12,
    "start_time": "2022-03-17T16:42:42.209Z"
   },
   {
    "duration": 18,
    "start_time": "2022-03-17T16:42:42.223Z"
   },
   {
    "duration": 47,
    "start_time": "2022-03-17T16:42:42.243Z"
   },
   {
    "duration": 9,
    "start_time": "2022-03-17T16:42:42.292Z"
   },
   {
    "duration": 29,
    "start_time": "2022-03-17T16:42:42.304Z"
   },
   {
    "duration": 76,
    "start_time": "2022-03-17T16:42:42.336Z"
   },
   {
    "duration": 7,
    "start_time": "2022-03-17T16:42:42.415Z"
   },
   {
    "duration": 59,
    "start_time": "2022-03-17T16:42:42.424Z"
   },
   {
    "duration": 22,
    "start_time": "2022-03-17T16:42:42.485Z"
   },
   {
    "duration": 37,
    "start_time": "2022-03-17T16:42:42.510Z"
   },
   {
    "duration": 36,
    "start_time": "2022-03-17T16:42:42.549Z"
   },
   {
    "duration": 52,
    "start_time": "2022-03-17T16:42:42.587Z"
   },
   {
    "duration": 21,
    "start_time": "2022-03-17T16:42:42.642Z"
   },
   {
    "duration": 51,
    "start_time": "2022-03-17T16:42:42.666Z"
   },
   {
    "duration": 8,
    "start_time": "2022-03-17T16:42:42.720Z"
   },
   {
    "duration": 29,
    "start_time": "2022-03-17T16:42:42.730Z"
   },
   {
    "duration": 21,
    "start_time": "2022-03-17T16:42:42.761Z"
   },
   {
    "duration": 12,
    "start_time": "2022-03-17T16:42:42.785Z"
   },
   {
    "duration": 27,
    "start_time": "2022-03-17T16:42:42.799Z"
   },
   {
    "duration": 30,
    "start_time": "2022-03-17T16:42:42.829Z"
   },
   {
    "duration": 9,
    "start_time": "2022-03-17T16:42:42.861Z"
   },
   {
    "duration": 26,
    "start_time": "2022-03-17T16:42:42.872Z"
   },
   {
    "duration": 14,
    "start_time": "2022-03-17T16:42:42.901Z"
   },
   {
    "duration": 32,
    "start_time": "2022-03-17T16:42:42.918Z"
   },
   {
    "duration": 64,
    "start_time": "2022-03-17T16:42:42.953Z"
   },
   {
    "duration": 146,
    "start_time": "2022-03-17T18:40:29.368Z"
   },
   {
    "duration": 97,
    "start_time": "2022-03-17T18:40:55.953Z"
   },
   {
    "duration": 26,
    "start_time": "2022-03-17T20:08:00.270Z"
   },
   {
    "duration": 16,
    "start_time": "2022-03-17T20:15:10.918Z"
   },
   {
    "duration": 268,
    "start_time": "2022-03-17T20:19:27.290Z"
   },
   {
    "duration": 265,
    "start_time": "2022-03-17T20:19:44.738Z"
   },
   {
    "duration": 31,
    "start_time": "2022-03-17T20:20:06.642Z"
   },
   {
    "duration": 28,
    "start_time": "2022-03-17T20:20:29.194Z"
   },
   {
    "duration": 282,
    "start_time": "2022-03-17T20:20:35.306Z"
   },
   {
    "duration": 154,
    "start_time": "2022-03-18T13:47:40.336Z"
   },
   {
    "duration": 70,
    "start_time": "2022-03-18T13:47:45.305Z"
   },
   {
    "duration": 1927,
    "start_time": "2022-03-18T13:48:08.322Z"
   },
   {
    "duration": 548,
    "start_time": "2022-03-18T13:48:10.253Z"
   },
   {
    "duration": 38,
    "start_time": "2022-03-18T13:48:10.806Z"
   },
   {
    "duration": 43,
    "start_time": "2022-03-18T13:48:10.849Z"
   },
   {
    "duration": 20,
    "start_time": "2022-03-18T13:48:10.895Z"
   },
   {
    "duration": 63,
    "start_time": "2022-03-18T13:48:10.919Z"
   },
   {
    "duration": 21,
    "start_time": "2022-03-18T13:48:10.985Z"
   },
   {
    "duration": 18,
    "start_time": "2022-03-18T13:48:11.010Z"
   },
   {
    "duration": 63,
    "start_time": "2022-03-18T13:48:11.031Z"
   },
   {
    "duration": 17,
    "start_time": "2022-03-18T13:48:11.101Z"
   },
   {
    "duration": 8,
    "start_time": "2022-03-18T13:48:11.121Z"
   },
   {
    "duration": 62,
    "start_time": "2022-03-18T13:48:11.132Z"
   },
   {
    "duration": 20,
    "start_time": "2022-03-18T13:48:11.203Z"
   },
   {
    "duration": 18,
    "start_time": "2022-03-18T13:48:11.226Z"
   },
   {
    "duration": 32,
    "start_time": "2022-03-18T13:48:11.247Z"
   },
   {
    "duration": 22,
    "start_time": "2022-03-18T13:48:11.285Z"
   },
   {
    "duration": 9,
    "start_time": "2022-03-18T13:48:11.310Z"
   },
   {
    "duration": 79,
    "start_time": "2022-03-18T13:48:11.321Z"
   },
   {
    "duration": 87,
    "start_time": "2022-03-18T13:48:11.403Z"
   },
   {
    "duration": 9,
    "start_time": "2022-03-18T13:48:11.493Z"
   },
   {
    "duration": 60,
    "start_time": "2022-03-18T13:48:11.505Z"
   },
   {
    "duration": 38,
    "start_time": "2022-03-18T13:48:11.586Z"
   },
   {
    "duration": 61,
    "start_time": "2022-03-18T13:48:11.628Z"
   },
   {
    "duration": 9,
    "start_time": "2022-03-18T13:48:11.696Z"
   },
   {
    "duration": 45,
    "start_time": "2022-03-18T13:48:11.708Z"
   },
   {
    "duration": 54,
    "start_time": "2022-03-18T13:48:11.757Z"
   },
   {
    "duration": 33,
    "start_time": "2022-03-18T13:48:11.813Z"
   },
   {
    "duration": 34,
    "start_time": "2022-03-18T13:48:11.851Z"
   },
   {
    "duration": 28,
    "start_time": "2022-03-18T13:48:11.889Z"
   },
   {
    "duration": 11,
    "start_time": "2022-03-18T13:48:11.919Z"
   },
   {
    "duration": 51,
    "start_time": "2022-03-18T13:48:11.932Z"
   },
   {
    "duration": 10,
    "start_time": "2022-03-18T13:48:11.987Z"
   },
   {
    "duration": 24,
    "start_time": "2022-03-18T13:48:12.000Z"
   },
   {
    "duration": 13,
    "start_time": "2022-03-18T13:48:12.027Z"
   },
   {
    "duration": 12,
    "start_time": "2022-03-18T13:48:12.043Z"
   },
   {
    "duration": 29,
    "start_time": "2022-03-18T13:48:12.059Z"
   },
   {
    "duration": 22,
    "start_time": "2022-03-18T13:48:12.090Z"
   },
   {
    "duration": 23,
    "start_time": "2022-03-18T13:48:12.115Z"
   },
   {
    "duration": 617,
    "start_time": "2022-03-18T13:48:12.141Z"
   },
   {
    "duration": 1784,
    "start_time": "2022-03-18T13:49:13.455Z"
   },
   {
    "duration": 538,
    "start_time": "2022-03-18T13:49:15.242Z"
   },
   {
    "duration": 36,
    "start_time": "2022-03-18T13:49:15.783Z"
   },
   {
    "duration": 20,
    "start_time": "2022-03-18T13:49:15.823Z"
   },
   {
    "duration": 7,
    "start_time": "2022-03-18T13:49:15.845Z"
   },
   {
    "duration": 30,
    "start_time": "2022-03-18T13:49:15.885Z"
   },
   {
    "duration": 21,
    "start_time": "2022-03-18T13:49:15.918Z"
   },
   {
    "duration": 42,
    "start_time": "2022-03-18T13:49:15.942Z"
   },
   {
    "duration": 45,
    "start_time": "2022-03-18T13:49:15.987Z"
   },
   {
    "duration": 11,
    "start_time": "2022-03-18T13:49:16.037Z"
   },
   {
    "duration": 8,
    "start_time": "2022-03-18T13:49:16.051Z"
   },
   {
    "duration": 36,
    "start_time": "2022-03-18T13:49:16.062Z"
   },
   {
    "duration": 15,
    "start_time": "2022-03-18T13:49:16.101Z"
   },
   {
    "duration": 8,
    "start_time": "2022-03-18T13:49:16.118Z"
   },
   {
    "duration": 57,
    "start_time": "2022-03-18T13:49:16.129Z"
   },
   {
    "duration": 20,
    "start_time": "2022-03-18T13:49:16.189Z"
   },
   {
    "duration": 9,
    "start_time": "2022-03-18T13:49:16.212Z"
   },
   {
    "duration": 74,
    "start_time": "2022-03-18T13:49:16.224Z"
   },
   {
    "duration": 84,
    "start_time": "2022-03-18T13:49:16.302Z"
   },
   {
    "duration": 8,
    "start_time": "2022-03-18T13:49:16.388Z"
   },
   {
    "duration": 45,
    "start_time": "2022-03-18T13:49:16.399Z"
   },
   {
    "duration": 45,
    "start_time": "2022-03-18T13:49:16.446Z"
   },
   {
    "duration": 34,
    "start_time": "2022-03-18T13:49:16.493Z"
   },
   {
    "duration": 7,
    "start_time": "2022-03-18T13:49:16.529Z"
   },
   {
    "duration": 77,
    "start_time": "2022-03-18T13:49:16.539Z"
   },
   {
    "duration": 22,
    "start_time": "2022-03-18T13:49:16.618Z"
   },
   {
    "duration": 51,
    "start_time": "2022-03-18T13:49:16.643Z"
   },
   {
    "duration": 7,
    "start_time": "2022-03-18T13:49:16.702Z"
   },
   {
    "duration": 27,
    "start_time": "2022-03-18T13:49:16.713Z"
   },
   {
    "duration": 41,
    "start_time": "2022-03-18T13:49:16.743Z"
   },
   {
    "duration": 17,
    "start_time": "2022-03-18T13:49:16.787Z"
   },
   {
    "duration": 11,
    "start_time": "2022-03-18T13:49:16.807Z"
   },
   {
    "duration": 18,
    "start_time": "2022-03-18T13:49:16.821Z"
   },
   {
    "duration": 6,
    "start_time": "2022-03-18T13:49:16.841Z"
   },
   {
    "duration": 7,
    "start_time": "2022-03-18T13:49:16.885Z"
   },
   {
    "duration": 14,
    "start_time": "2022-03-18T13:49:16.895Z"
   },
   {
    "duration": 15,
    "start_time": "2022-03-18T13:49:16.912Z"
   },
   {
    "duration": 30,
    "start_time": "2022-03-18T13:49:16.929Z"
   },
   {
    "duration": 555,
    "start_time": "2022-03-18T13:49:16.983Z"
   },
   {
    "duration": 108,
    "start_time": "2022-03-18T14:01:04.876Z"
   },
   {
    "duration": 11,
    "start_time": "2022-03-18T14:01:28.477Z"
   },
   {
    "duration": 12,
    "start_time": "2022-03-18T14:01:52.077Z"
   },
   {
    "duration": 2,
    "start_time": "2022-03-18T14:12:52.641Z"
   },
   {
    "duration": 3,
    "start_time": "2022-03-18T14:13:03.920Z"
   },
   {
    "duration": 8,
    "start_time": "2022-03-18T14:13:22.456Z"
   },
   {
    "duration": 106,
    "start_time": "2022-03-18T14:14:48.007Z"
   },
   {
    "duration": 10,
    "start_time": "2022-03-18T14:15:07.835Z"
   },
   {
    "duration": 11,
    "start_time": "2022-03-18T14:15:29.626Z"
   },
   {
    "duration": 12,
    "start_time": "2022-03-18T14:15:30.778Z"
   },
   {
    "duration": 1514,
    "start_time": "2022-03-18T14:15:37.225Z"
   },
   {
    "duration": 630,
    "start_time": "2022-03-18T14:15:38.742Z"
   },
   {
    "duration": 47,
    "start_time": "2022-03-18T14:15:39.375Z"
   },
   {
    "duration": 20,
    "start_time": "2022-03-18T14:15:39.426Z"
   },
   {
    "duration": 37,
    "start_time": "2022-03-18T14:15:39.449Z"
   },
   {
    "duration": 37,
    "start_time": "2022-03-18T14:15:39.489Z"
   },
   {
    "duration": 16,
    "start_time": "2022-03-18T14:15:39.529Z"
   },
   {
    "duration": 10,
    "start_time": "2022-03-18T14:15:39.548Z"
   },
   {
    "duration": 40,
    "start_time": "2022-03-18T14:15:39.585Z"
   },
   {
    "duration": 15,
    "start_time": "2022-03-18T14:15:39.630Z"
   },
   {
    "duration": 10,
    "start_time": "2022-03-18T14:15:39.647Z"
   },
   {
    "duration": 39,
    "start_time": "2022-03-18T14:15:39.660Z"
   },
   {
    "duration": 23,
    "start_time": "2022-03-18T14:15:39.702Z"
   },
   {
    "duration": 11,
    "start_time": "2022-03-18T14:15:39.727Z"
   },
   {
    "duration": 48,
    "start_time": "2022-03-18T14:15:39.740Z"
   },
   {
    "duration": 22,
    "start_time": "2022-03-18T14:15:39.790Z"
   },
   {
    "duration": 9,
    "start_time": "2022-03-18T14:15:39.815Z"
   },
   {
    "duration": 56,
    "start_time": "2022-03-18T14:15:39.827Z"
   },
   {
    "duration": 56,
    "start_time": "2022-03-18T14:15:39.886Z"
   },
   {
    "duration": 6,
    "start_time": "2022-03-18T14:15:39.945Z"
   },
   {
    "duration": 72,
    "start_time": "2022-03-18T14:15:39.953Z"
   },
   {
    "duration": 36,
    "start_time": "2022-03-18T14:15:40.027Z"
   },
   {
    "duration": 51,
    "start_time": "2022-03-18T14:15:40.084Z"
   },
   {
    "duration": 9,
    "start_time": "2022-03-18T14:15:40.139Z"
   },
   {
    "duration": 63,
    "start_time": "2022-03-18T14:15:40.150Z"
   },
   {
    "duration": 23,
    "start_time": "2022-03-18T14:15:40.215Z"
   },
   {
    "duration": 52,
    "start_time": "2022-03-18T14:15:40.241Z"
   },
   {
    "duration": 7,
    "start_time": "2022-03-18T14:15:40.300Z"
   },
   {
    "duration": 26,
    "start_time": "2022-03-18T14:15:40.310Z"
   },
   {
    "duration": 10,
    "start_time": "2022-03-18T14:15:40.339Z"
   },
   {
    "duration": 12,
    "start_time": "2022-03-18T14:15:40.384Z"
   },
   {
    "duration": 17,
    "start_time": "2022-03-18T14:15:40.399Z"
   },
   {
    "duration": 21,
    "start_time": "2022-03-18T14:15:40.419Z"
   },
   {
    "duration": 6,
    "start_time": "2022-03-18T14:15:40.443Z"
   },
   {
    "duration": 13,
    "start_time": "2022-03-18T14:15:40.484Z"
   },
   {
    "duration": 11,
    "start_time": "2022-03-18T14:15:40.500Z"
   },
   {
    "duration": 14,
    "start_time": "2022-03-18T14:15:40.514Z"
   },
   {
    "duration": 26,
    "start_time": "2022-03-18T14:15:40.531Z"
   },
   {
    "duration": 47,
    "start_time": "2022-03-18T14:15:40.560Z"
   },
   {
    "duration": 6,
    "start_time": "2022-03-18T14:15:40.609Z"
   },
   {
    "duration": 29,
    "start_time": "2022-03-18T14:15:40.618Z"
   },
   {
    "duration": 3,
    "start_time": "2022-03-18T14:15:40.650Z"
   },
   {
    "duration": 30,
    "start_time": "2022-03-18T14:15:40.655Z"
   },
   {
    "duration": 12,
    "start_time": "2022-03-18T14:15:40.688Z"
   },
   {
    "duration": 12,
    "start_time": "2022-03-18T14:15:40.702Z"
   },
   {
    "duration": 10,
    "start_time": "2022-03-18T14:15:40.717Z"
   },
   {
    "duration": 16,
    "start_time": "2022-03-18T14:16:00.339Z"
   },
   {
    "duration": 1741,
    "start_time": "2022-03-18T14:16:26.676Z"
   },
   {
    "duration": 643,
    "start_time": "2022-03-18T14:16:28.420Z"
   },
   {
    "duration": 52,
    "start_time": "2022-03-18T14:16:29.066Z"
   },
   {
    "duration": 23,
    "start_time": "2022-03-18T14:16:29.122Z"
   },
   {
    "duration": 6,
    "start_time": "2022-03-18T14:16:29.150Z"
   },
   {
    "duration": 56,
    "start_time": "2022-03-18T14:16:29.159Z"
   },
   {
    "duration": 17,
    "start_time": "2022-03-18T14:16:29.218Z"
   },
   {
    "duration": 27,
    "start_time": "2022-03-18T14:16:29.238Z"
   },
   {
    "duration": 32,
    "start_time": "2022-03-18T14:16:29.284Z"
   },
   {
    "duration": 17,
    "start_time": "2022-03-18T14:16:29.319Z"
   },
   {
    "duration": 18,
    "start_time": "2022-03-18T14:16:29.338Z"
   },
   {
    "duration": 26,
    "start_time": "2022-03-18T14:16:29.383Z"
   },
   {
    "duration": 23,
    "start_time": "2022-03-18T14:16:29.412Z"
   },
   {
    "duration": 8,
    "start_time": "2022-03-18T14:16:29.443Z"
   },
   {
    "duration": 53,
    "start_time": "2022-03-18T14:16:29.454Z"
   },
   {
    "duration": 30,
    "start_time": "2022-03-18T14:16:29.509Z"
   },
   {
    "duration": 11,
    "start_time": "2022-03-18T14:16:29.542Z"
   },
   {
    "duration": 55,
    "start_time": "2022-03-18T14:16:29.556Z"
   },
   {
    "duration": 84,
    "start_time": "2022-03-18T14:16:29.614Z"
   },
   {
    "duration": 9,
    "start_time": "2022-03-18T14:16:29.700Z"
   },
   {
    "duration": 54,
    "start_time": "2022-03-18T14:16:29.712Z"
   },
   {
    "duration": 39,
    "start_time": "2022-03-18T14:16:29.785Z"
   },
   {
    "duration": 58,
    "start_time": "2022-03-18T14:16:29.827Z"
   },
   {
    "duration": 9,
    "start_time": "2022-03-18T14:16:29.888Z"
   },
   {
    "duration": 65,
    "start_time": "2022-03-18T14:16:29.900Z"
   },
   {
    "duration": 47,
    "start_time": "2022-03-18T14:16:29.968Z"
   },
   {
    "duration": 39,
    "start_time": "2022-03-18T14:16:30.018Z"
   },
   {
    "duration": 8,
    "start_time": "2022-03-18T14:16:30.083Z"
   },
   {
    "duration": 31,
    "start_time": "2022-03-18T14:16:30.094Z"
   },
   {
    "duration": 16,
    "start_time": "2022-03-18T14:16:30.129Z"
   },
   {
    "duration": 42,
    "start_time": "2022-03-18T14:16:30.151Z"
   },
   {
    "duration": 28,
    "start_time": "2022-03-18T14:16:30.196Z"
   },
   {
    "duration": 21,
    "start_time": "2022-03-18T14:16:30.228Z"
   },
   {
    "duration": 6,
    "start_time": "2022-03-18T14:16:30.252Z"
   },
   {
    "duration": 58,
    "start_time": "2022-03-18T14:16:30.260Z"
   },
   {
    "duration": 18,
    "start_time": "2022-03-18T14:16:30.321Z"
   },
   {
    "duration": 31,
    "start_time": "2022-03-18T14:16:30.342Z"
   },
   {
    "duration": 45,
    "start_time": "2022-03-18T14:16:30.376Z"
   },
   {
    "duration": 55,
    "start_time": "2022-03-18T14:16:30.424Z"
   },
   {
    "duration": 39,
    "start_time": "2022-03-18T14:16:30.482Z"
   },
   {
    "duration": 28,
    "start_time": "2022-03-18T14:16:30.528Z"
   },
   {
    "duration": 18,
    "start_time": "2022-03-18T14:16:30.559Z"
   },
   {
    "duration": 16,
    "start_time": "2022-03-18T14:16:30.582Z"
   },
   {
    "duration": 27,
    "start_time": "2022-03-18T14:16:30.601Z"
   },
   {
    "duration": 38,
    "start_time": "2022-03-18T14:16:30.631Z"
   },
   {
    "duration": 14,
    "start_time": "2022-03-18T14:16:30.672Z"
   },
   {
    "duration": 129,
    "start_time": "2022-03-18T14:22:35.688Z"
   },
   {
    "duration": 12,
    "start_time": "2022-03-18T14:22:42.195Z"
   },
   {
    "duration": 11,
    "start_time": "2022-03-18T14:22:50.755Z"
   },
   {
    "duration": 1612,
    "start_time": "2022-03-18T14:23:03.853Z"
   },
   {
    "duration": 650,
    "start_time": "2022-03-18T14:23:05.468Z"
   },
   {
    "duration": 35,
    "start_time": "2022-03-18T14:23:06.121Z"
   },
   {
    "duration": 19,
    "start_time": "2022-03-18T14:23:06.159Z"
   },
   {
    "duration": 6,
    "start_time": "2022-03-18T14:23:06.187Z"
   },
   {
    "duration": 52,
    "start_time": "2022-03-18T14:23:06.196Z"
   },
   {
    "duration": 33,
    "start_time": "2022-03-18T14:23:06.251Z"
   },
   {
    "duration": 8,
    "start_time": "2022-03-18T14:23:06.286Z"
   },
   {
    "duration": 37,
    "start_time": "2022-03-18T14:23:06.297Z"
   },
   {
    "duration": 18,
    "start_time": "2022-03-18T14:23:06.336Z"
   },
   {
    "duration": 32,
    "start_time": "2022-03-18T14:23:06.356Z"
   },
   {
    "duration": 25,
    "start_time": "2022-03-18T14:23:06.390Z"
   },
   {
    "duration": 29,
    "start_time": "2022-03-18T14:23:06.418Z"
   },
   {
    "duration": 12,
    "start_time": "2022-03-18T14:23:06.451Z"
   },
   {
    "duration": 54,
    "start_time": "2022-03-18T14:23:06.465Z"
   },
   {
    "duration": 28,
    "start_time": "2022-03-18T14:23:06.522Z"
   },
   {
    "duration": 18,
    "start_time": "2022-03-18T14:23:06.553Z"
   },
   {
    "duration": 62,
    "start_time": "2022-03-18T14:23:06.573Z"
   },
   {
    "duration": 71,
    "start_time": "2022-03-18T14:23:06.638Z"
   },
   {
    "duration": 9,
    "start_time": "2022-03-18T14:23:06.712Z"
   },
   {
    "duration": 52,
    "start_time": "2022-03-18T14:23:06.724Z"
   },
   {
    "duration": 30,
    "start_time": "2022-03-18T14:23:06.778Z"
   },
   {
    "duration": 43,
    "start_time": "2022-03-18T14:23:06.811Z"
   },
   {
    "duration": 28,
    "start_time": "2022-03-18T14:23:06.857Z"
   },
   {
    "duration": 45,
    "start_time": "2022-03-18T14:23:06.888Z"
   },
   {
    "duration": 19,
    "start_time": "2022-03-18T14:23:06.935Z"
   },
   {
    "duration": 62,
    "start_time": "2022-03-18T14:23:06.956Z"
   },
   {
    "duration": 12,
    "start_time": "2022-03-18T14:23:07.021Z"
   },
   {
    "duration": 21,
    "start_time": "2022-03-18T14:23:07.036Z"
   },
   {
    "duration": 9,
    "start_time": "2022-03-18T14:23:07.095Z"
   },
   {
    "duration": 18,
    "start_time": "2022-03-18T14:23:07.107Z"
   },
   {
    "duration": 13,
    "start_time": "2022-03-18T14:23:07.128Z"
   },
   {
    "duration": 15,
    "start_time": "2022-03-18T14:23:07.143Z"
   },
   {
    "duration": 27,
    "start_time": "2022-03-18T14:23:07.160Z"
   },
   {
    "duration": 13,
    "start_time": "2022-03-18T14:23:07.189Z"
   },
   {
    "duration": 18,
    "start_time": "2022-03-18T14:23:07.204Z"
   },
   {
    "duration": 18,
    "start_time": "2022-03-18T14:23:07.225Z"
   },
   {
    "duration": 39,
    "start_time": "2022-03-18T14:23:07.244Z"
   },
   {
    "duration": 14,
    "start_time": "2022-03-18T14:23:07.286Z"
   },
   {
    "duration": 20,
    "start_time": "2022-03-18T14:23:07.302Z"
   },
   {
    "duration": 18,
    "start_time": "2022-03-18T14:23:07.329Z"
   },
   {
    "duration": 7,
    "start_time": "2022-03-18T14:23:07.349Z"
   },
   {
    "duration": 13,
    "start_time": "2022-03-18T14:23:07.359Z"
   },
   {
    "duration": 3,
    "start_time": "2022-03-18T14:23:07.384Z"
   },
   {
    "duration": 12,
    "start_time": "2022-03-18T14:23:07.389Z"
   },
   {
    "duration": 18,
    "start_time": "2022-03-18T14:23:07.404Z"
   },
   {
    "duration": 12,
    "start_time": "2022-03-18T14:25:03.315Z"
   },
   {
    "duration": 7,
    "start_time": "2022-03-18T14:25:17.297Z"
   },
   {
    "duration": 12,
    "start_time": "2022-03-18T14:25:17.713Z"
   },
   {
    "duration": 1454,
    "start_time": "2022-03-18T14:32:39.248Z"
   },
   {
    "duration": 516,
    "start_time": "2022-03-18T14:32:40.705Z"
   },
   {
    "duration": 35,
    "start_time": "2022-03-18T14:32:41.226Z"
   },
   {
    "duration": 19,
    "start_time": "2022-03-18T14:32:41.264Z"
   },
   {
    "duration": 7,
    "start_time": "2022-03-18T14:32:41.306Z"
   },
   {
    "duration": 34,
    "start_time": "2022-03-18T14:32:41.315Z"
   },
   {
    "duration": 18,
    "start_time": "2022-03-18T14:32:41.352Z"
   },
   {
    "duration": 9,
    "start_time": "2022-03-18T14:32:41.384Z"
   },
   {
    "duration": 36,
    "start_time": "2022-03-18T14:32:41.395Z"
   },
   {
    "duration": 14,
    "start_time": "2022-03-18T14:32:41.434Z"
   },
   {
    "duration": 34,
    "start_time": "2022-03-18T14:32:41.452Z"
   },
   {
    "duration": 27,
    "start_time": "2022-03-18T14:32:41.489Z"
   },
   {
    "duration": 26,
    "start_time": "2022-03-18T14:32:41.519Z"
   },
   {
    "duration": 16,
    "start_time": "2022-03-18T14:32:41.551Z"
   },
   {
    "duration": 31,
    "start_time": "2022-03-18T14:32:41.570Z"
   },
   {
    "duration": 26,
    "start_time": "2022-03-18T14:32:41.604Z"
   },
   {
    "duration": 15,
    "start_time": "2022-03-18T14:32:41.632Z"
   },
   {
    "duration": 41,
    "start_time": "2022-03-18T14:32:41.650Z"
   },
   {
    "duration": 49,
    "start_time": "2022-03-18T14:32:41.693Z"
   },
   {
    "duration": 8,
    "start_time": "2022-03-18T14:32:41.745Z"
   },
   {
    "duration": 90,
    "start_time": "2022-03-18T14:32:41.755Z"
   },
   {
    "duration": 37,
    "start_time": "2022-03-18T14:32:41.847Z"
   },
   {
    "duration": 36,
    "start_time": "2022-03-18T14:32:41.887Z"
   },
   {
    "duration": 7,
    "start_time": "2022-03-18T14:32:41.926Z"
   },
   {
    "duration": 70,
    "start_time": "2022-03-18T14:32:41.935Z"
   },
   {
    "duration": 21,
    "start_time": "2022-03-18T14:32:42.007Z"
   },
   {
    "duration": 53,
    "start_time": "2022-03-18T14:32:42.031Z"
   },
   {
    "duration": 7,
    "start_time": "2022-03-18T14:32:42.087Z"
   },
   {
    "duration": 23,
    "start_time": "2022-03-18T14:32:42.097Z"
   },
   {
    "duration": 9,
    "start_time": "2022-03-18T14:32:42.123Z"
   },
   {
    "duration": 50,
    "start_time": "2022-03-18T14:32:42.135Z"
   },
   {
    "duration": 11,
    "start_time": "2022-03-18T14:32:42.188Z"
   },
   {
    "duration": 17,
    "start_time": "2022-03-18T14:32:42.202Z"
   },
   {
    "duration": 8,
    "start_time": "2022-03-18T14:32:42.221Z"
   },
   {
    "duration": 12,
    "start_time": "2022-03-18T14:32:42.231Z"
   },
   {
    "duration": 46,
    "start_time": "2022-03-18T14:32:42.245Z"
   },
   {
    "duration": 16,
    "start_time": "2022-03-18T14:32:42.293Z"
   },
   {
    "duration": 23,
    "start_time": "2022-03-18T14:32:42.312Z"
   },
   {
    "duration": 15,
    "start_time": "2022-03-18T14:32:42.338Z"
   },
   {
    "duration": 29,
    "start_time": "2022-03-18T14:32:42.355Z"
   },
   {
    "duration": 12,
    "start_time": "2022-03-18T14:32:42.390Z"
   },
   {
    "duration": 17,
    "start_time": "2022-03-18T14:32:42.404Z"
   },
   {
    "duration": 13,
    "start_time": "2022-03-18T14:32:42.423Z"
   },
   {
    "duration": 47,
    "start_time": "2022-03-18T14:32:42.438Z"
   },
   {
    "duration": 13,
    "start_time": "2022-03-18T14:32:42.488Z"
   },
   {
    "duration": 11,
    "start_time": "2022-03-18T14:32:42.503Z"
   },
   {
    "duration": 7,
    "start_time": "2022-03-18T14:32:42.517Z"
   },
   {
    "duration": 8,
    "start_time": "2022-03-18T14:32:42.526Z"
   },
   {
    "duration": 11,
    "start_time": "2022-03-18T14:32:42.536Z"
   },
   {
    "duration": 2062,
    "start_time": "2022-03-18T14:45:43.859Z"
   },
   {
    "duration": 839,
    "start_time": "2022-03-18T14:45:45.925Z"
   },
   {
    "duration": 63,
    "start_time": "2022-03-18T14:45:46.767Z"
   },
   {
    "duration": 19,
    "start_time": "2022-03-18T14:45:46.834Z"
   },
   {
    "duration": 31,
    "start_time": "2022-03-18T14:45:46.855Z"
   },
   {
    "duration": 55,
    "start_time": "2022-03-18T14:45:46.889Z"
   },
   {
    "duration": 14,
    "start_time": "2022-03-18T14:45:46.947Z"
   },
   {
    "duration": 7,
    "start_time": "2022-03-18T14:45:46.985Z"
   },
   {
    "duration": 35,
    "start_time": "2022-03-18T14:45:46.994Z"
   },
   {
    "duration": 50,
    "start_time": "2022-03-18T14:45:47.034Z"
   },
   {
    "duration": 7,
    "start_time": "2022-03-18T14:45:47.086Z"
   },
   {
    "duration": 18,
    "start_time": "2022-03-18T14:45:47.096Z"
   },
   {
    "duration": 21,
    "start_time": "2022-03-18T14:45:47.117Z"
   },
   {
    "duration": 42,
    "start_time": "2022-03-18T14:45:47.141Z"
   },
   {
    "duration": 17,
    "start_time": "2022-03-18T14:45:47.186Z"
   },
   {
    "duration": 27,
    "start_time": "2022-03-18T14:45:47.207Z"
   },
   {
    "duration": 10,
    "start_time": "2022-03-18T14:45:47.237Z"
   },
   {
    "duration": 29,
    "start_time": "2022-03-18T14:45:47.285Z"
   },
   {
    "duration": 77,
    "start_time": "2022-03-18T14:45:47.317Z"
   },
   {
    "duration": 8,
    "start_time": "2022-03-18T14:45:47.397Z"
   },
   {
    "duration": 81,
    "start_time": "2022-03-18T14:45:47.408Z"
   },
   {
    "duration": 36,
    "start_time": "2022-03-18T14:45:47.491Z"
   },
   {
    "duration": 77,
    "start_time": "2022-03-18T14:45:47.530Z"
   },
   {
    "duration": 9,
    "start_time": "2022-03-18T14:45:47.610Z"
   },
   {
    "duration": 70,
    "start_time": "2022-03-18T14:45:47.622Z"
   },
   {
    "duration": 30,
    "start_time": "2022-03-18T14:45:47.695Z"
   },
   {
    "duration": 72,
    "start_time": "2022-03-18T14:45:47.728Z"
   },
   {
    "duration": 10,
    "start_time": "2022-03-18T14:45:47.810Z"
   },
   {
    "duration": 32,
    "start_time": "2022-03-18T14:45:47.823Z"
   },
   {
    "duration": 32,
    "start_time": "2022-03-18T14:45:47.858Z"
   },
   {
    "duration": 18,
    "start_time": "2022-03-18T14:45:47.893Z"
   },
   {
    "duration": 11,
    "start_time": "2022-03-18T14:45:47.914Z"
   },
   {
    "duration": 21,
    "start_time": "2022-03-18T14:45:47.928Z"
   },
   {
    "duration": 7,
    "start_time": "2022-03-18T14:45:47.983Z"
   },
   {
    "duration": 13,
    "start_time": "2022-03-18T14:45:47.993Z"
   },
   {
    "duration": 8,
    "start_time": "2022-03-18T14:45:48.009Z"
   },
   {
    "duration": 13,
    "start_time": "2022-03-18T14:45:48.020Z"
   },
   {
    "duration": 60,
    "start_time": "2022-03-18T14:45:48.036Z"
   },
   {
    "duration": 11,
    "start_time": "2022-03-18T14:45:48.098Z"
   },
   {
    "duration": 17,
    "start_time": "2022-03-18T14:45:48.112Z"
   },
   {
    "duration": 14,
    "start_time": "2022-03-18T14:45:48.131Z"
   },
   {
    "duration": 43,
    "start_time": "2022-03-18T14:45:48.147Z"
   },
   {
    "duration": 9,
    "start_time": "2022-03-18T14:45:48.193Z"
   },
   {
    "duration": 12,
    "start_time": "2022-03-18T14:45:48.204Z"
   },
   {
    "duration": 7,
    "start_time": "2022-03-18T14:45:48.218Z"
   },
   {
    "duration": 5,
    "start_time": "2022-03-18T14:45:48.228Z"
   },
   {
    "duration": 48,
    "start_time": "2022-03-18T14:45:48.236Z"
   },
   {
    "duration": 4,
    "start_time": "2022-03-18T14:45:48.287Z"
   },
   {
    "duration": 13,
    "start_time": "2022-03-18T14:45:48.293Z"
   },
   {
    "duration": 42,
    "start_time": "2022-03-18T18:43:38.269Z"
   },
   {
    "duration": 1214,
    "start_time": "2022-03-18T18:43:46.000Z"
   },
   {
    "duration": 376,
    "start_time": "2022-03-18T18:43:47.216Z"
   },
   {
    "duration": 24,
    "start_time": "2022-03-18T18:43:47.593Z"
   },
   {
    "duration": 11,
    "start_time": "2022-03-18T18:43:47.619Z"
   },
   {
    "duration": 3,
    "start_time": "2022-03-18T18:43:47.632Z"
   },
   {
    "duration": 19,
    "start_time": "2022-03-18T18:43:47.637Z"
   },
   {
    "duration": 8,
    "start_time": "2022-03-18T18:43:47.657Z"
   },
   {
    "duration": 4,
    "start_time": "2022-03-18T18:43:47.666Z"
   },
   {
    "duration": 44,
    "start_time": "2022-03-18T18:43:47.671Z"
   },
   {
    "duration": 7,
    "start_time": "2022-03-18T18:43:47.717Z"
   },
   {
    "duration": 5,
    "start_time": "2022-03-18T18:43:47.725Z"
   },
   {
    "duration": 10,
    "start_time": "2022-03-18T18:43:47.731Z"
   },
   {
    "duration": 7,
    "start_time": "2022-03-18T18:43:47.743Z"
   },
   {
    "duration": 5,
    "start_time": "2022-03-18T18:43:47.752Z"
   },
   {
    "duration": 48,
    "start_time": "2022-03-18T18:43:47.758Z"
   },
   {
    "duration": 10,
    "start_time": "2022-03-18T18:43:47.808Z"
   },
   {
    "duration": 5,
    "start_time": "2022-03-18T18:43:47.819Z"
   },
   {
    "duration": 20,
    "start_time": "2022-03-18T18:43:47.825Z"
   },
   {
    "duration": 54,
    "start_time": "2022-03-18T18:43:47.847Z"
   },
   {
    "duration": 5,
    "start_time": "2022-03-18T18:43:47.902Z"
   },
   {
    "duration": 27,
    "start_time": "2022-03-18T18:43:47.908Z"
   },
   {
    "duration": 15,
    "start_time": "2022-03-18T18:43:47.937Z"
   },
   {
    "duration": 20,
    "start_time": "2022-03-18T18:43:47.954Z"
   },
   {
    "duration": 27,
    "start_time": "2022-03-18T18:43:47.975Z"
   },
   {
    "duration": 24,
    "start_time": "2022-03-18T18:43:48.003Z"
   },
   {
    "duration": 12,
    "start_time": "2022-03-18T18:43:48.029Z"
   },
   {
    "duration": 17,
    "start_time": "2022-03-18T18:43:48.042Z"
   },
   {
    "duration": 4,
    "start_time": "2022-03-18T18:43:48.063Z"
   },
   {
    "duration": 38,
    "start_time": "2022-03-18T18:43:48.069Z"
   },
   {
    "duration": 6,
    "start_time": "2022-03-18T18:43:48.109Z"
   },
   {
    "duration": 8,
    "start_time": "2022-03-18T18:43:48.116Z"
   },
   {
    "duration": 9,
    "start_time": "2022-03-18T18:43:48.125Z"
   },
   {
    "duration": 13,
    "start_time": "2022-03-18T18:43:48.135Z"
   },
   {
    "duration": 3,
    "start_time": "2022-03-18T18:43:48.150Z"
   },
   {
    "duration": 10,
    "start_time": "2022-03-18T18:43:48.154Z"
   },
   {
    "duration": 9,
    "start_time": "2022-03-18T18:43:48.166Z"
   },
   {
    "duration": 26,
    "start_time": "2022-03-18T18:43:48.176Z"
   },
   {
    "duration": 13,
    "start_time": "2022-03-18T18:43:48.204Z"
   },
   {
    "duration": 7,
    "start_time": "2022-03-18T18:43:48.219Z"
   },
   {
    "duration": 11,
    "start_time": "2022-03-18T18:43:48.228Z"
   },
   {
    "duration": 9,
    "start_time": "2022-03-18T18:43:48.240Z"
   },
   {
    "duration": 15,
    "start_time": "2022-03-18T18:43:48.250Z"
   },
   {
    "duration": 10,
    "start_time": "2022-03-18T18:43:48.266Z"
   },
   {
    "duration": 11,
    "start_time": "2022-03-18T18:43:48.277Z"
   },
   {
    "duration": 3,
    "start_time": "2022-03-18T18:43:48.301Z"
   },
   {
    "duration": 8,
    "start_time": "2022-03-18T18:43:48.306Z"
   },
   {
    "duration": 7,
    "start_time": "2022-03-18T18:43:48.316Z"
   },
   {
    "duration": 8,
    "start_time": "2022-03-18T18:43:48.324Z"
   },
   {
    "duration": 8,
    "start_time": "2022-03-18T18:43:48.334Z"
   },
   {
    "duration": 8,
    "start_time": "2022-03-18T18:44:01.289Z"
   },
   {
    "duration": 31,
    "start_time": "2022-03-18T20:07:33.374Z"
   },
   {
    "duration": 21,
    "start_time": "2022-03-18T20:24:15.700Z"
   },
   {
    "duration": 3637,
    "start_time": "2022-03-18T20:24:34.004Z"
   },
   {
    "duration": 4,
    "start_time": "2022-03-18T20:25:19.757Z"
   },
   {
    "duration": 14,
    "start_time": "2022-03-18T20:26:05.760Z"
   },
   {
    "duration": 17,
    "start_time": "2022-03-18T20:26:25.983Z"
   },
   {
    "duration": 35,
    "start_time": "2022-03-18T20:27:19.098Z"
   },
   {
    "duration": 23,
    "start_time": "2022-03-18T20:27:23.138Z"
   },
   {
    "duration": 15,
    "start_time": "2022-03-18T20:27:24.044Z"
   },
   {
    "duration": 20,
    "start_time": "2022-03-18T20:27:26.467Z"
   },
   {
    "duration": 28,
    "start_time": "2022-03-18T20:27:50.653Z"
   },
   {
    "duration": 22,
    "start_time": "2022-03-18T20:27:51.228Z"
   },
   {
    "duration": 16,
    "start_time": "2022-03-18T20:27:51.757Z"
   },
   {
    "duration": 19,
    "start_time": "2022-03-18T20:27:52.282Z"
   },
   {
    "duration": 1115,
    "start_time": "2022-03-18T20:28:01.692Z"
   },
   {
    "duration": 392,
    "start_time": "2022-03-18T20:28:02.809Z"
   },
   {
    "duration": 23,
    "start_time": "2022-03-18T20:28:03.203Z"
   },
   {
    "duration": 20,
    "start_time": "2022-03-18T20:28:03.228Z"
   },
   {
    "duration": 4,
    "start_time": "2022-03-18T20:28:03.249Z"
   },
   {
    "duration": 36,
    "start_time": "2022-03-18T20:28:03.254Z"
   },
   {
    "duration": 7,
    "start_time": "2022-03-18T20:28:03.291Z"
   },
   {
    "duration": 15,
    "start_time": "2022-03-18T20:28:03.300Z"
   },
   {
    "duration": 35,
    "start_time": "2022-03-18T20:28:03.316Z"
   },
   {
    "duration": 6,
    "start_time": "2022-03-18T20:28:03.354Z"
   },
   {
    "duration": 16,
    "start_time": "2022-03-18T20:28:03.362Z"
   },
   {
    "duration": 30,
    "start_time": "2022-03-18T20:28:03.380Z"
   },
   {
    "duration": 15,
    "start_time": "2022-03-18T20:28:03.411Z"
   },
   {
    "duration": 19,
    "start_time": "2022-03-18T20:28:03.427Z"
   },
   {
    "duration": 29,
    "start_time": "2022-03-18T20:28:03.447Z"
   },
   {
    "duration": 28,
    "start_time": "2022-03-18T20:28:03.478Z"
   },
   {
    "duration": 9,
    "start_time": "2022-03-18T20:28:03.508Z"
   },
   {
    "duration": 31,
    "start_time": "2022-03-18T20:28:03.519Z"
   },
   {
    "duration": 34,
    "start_time": "2022-03-18T20:28:03.552Z"
   },
   {
    "duration": 5,
    "start_time": "2022-03-18T20:28:03.587Z"
   },
   {
    "duration": 38,
    "start_time": "2022-03-18T20:28:03.594Z"
   },
   {
    "duration": 20,
    "start_time": "2022-03-18T20:28:03.633Z"
   },
   {
    "duration": 30,
    "start_time": "2022-03-18T20:28:03.655Z"
   },
   {
    "duration": 5,
    "start_time": "2022-03-18T20:28:03.686Z"
   },
   {
    "duration": 34,
    "start_time": "2022-03-18T20:28:03.692Z"
   },
   {
    "duration": 13,
    "start_time": "2022-03-18T20:28:03.727Z"
   },
   {
    "duration": 17,
    "start_time": "2022-03-18T20:28:03.742Z"
   },
   {
    "duration": 4,
    "start_time": "2022-03-18T20:28:03.762Z"
   },
   {
    "duration": 16,
    "start_time": "2022-03-18T20:28:03.767Z"
   },
   {
    "duration": 5,
    "start_time": "2022-03-18T20:28:03.800Z"
   },
   {
    "duration": 8,
    "start_time": "2022-03-18T20:28:03.806Z"
   },
   {
    "duration": 9,
    "start_time": "2022-03-18T20:28:03.816Z"
   },
   {
    "duration": 14,
    "start_time": "2022-03-18T20:28:03.827Z"
   },
   {
    "duration": 2,
    "start_time": "2022-03-18T20:28:03.843Z"
   },
   {
    "duration": 9,
    "start_time": "2022-03-18T20:28:03.847Z"
   },
   {
    "duration": 11,
    "start_time": "2022-03-18T20:28:03.857Z"
   },
   {
    "duration": 11,
    "start_time": "2022-03-18T20:28:03.869Z"
   },
   {
    "duration": 21,
    "start_time": "2022-03-18T20:28:03.882Z"
   },
   {
    "duration": 9,
    "start_time": "2022-03-18T20:28:03.904Z"
   },
   {
    "duration": 10,
    "start_time": "2022-03-18T20:28:03.914Z"
   },
   {
    "duration": 10,
    "start_time": "2022-03-18T20:28:03.925Z"
   },
   {
    "duration": 15,
    "start_time": "2022-03-18T20:28:03.937Z"
   },
   {
    "duration": 8,
    "start_time": "2022-03-18T20:28:03.954Z"
   },
   {
    "duration": 10,
    "start_time": "2022-03-18T20:28:03.963Z"
   },
   {
    "duration": 34,
    "start_time": "2022-03-18T20:28:03.975Z"
   },
   {
    "duration": 24,
    "start_time": "2022-03-18T20:28:04.011Z"
   },
   {
    "duration": 17,
    "start_time": "2022-03-18T20:28:04.037Z"
   },
   {
    "duration": 46,
    "start_time": "2022-03-18T20:28:04.056Z"
   },
   {
    "duration": 2,
    "start_time": "2022-03-18T20:28:04.103Z"
   },
   {
    "duration": 4,
    "start_time": "2022-03-18T20:28:04.107Z"
   },
   {
    "duration": 4,
    "start_time": "2022-03-18T20:28:04.113Z"
   },
   {
    "duration": 30,
    "start_time": "2022-03-18T20:28:34.656Z"
   },
   {
    "duration": 25,
    "start_time": "2022-03-18T20:28:35.241Z"
   },
   {
    "duration": 16,
    "start_time": "2022-03-18T20:28:35.800Z"
   },
   {
    "duration": 21,
    "start_time": "2022-03-18T20:28:36.347Z"
   },
   {
    "duration": 26,
    "start_time": "2022-03-18T20:29:14.189Z"
   },
   {
    "duration": 22,
    "start_time": "2022-03-18T20:29:23.832Z"
   },
   {
    "duration": 11,
    "start_time": "2022-03-18T20:29:27.200Z"
   },
   {
    "duration": 18,
    "start_time": "2022-03-18T20:29:31.393Z"
   },
   {
    "duration": 1063,
    "start_time": "2022-03-18T20:29:38.025Z"
   },
   {
    "duration": 403,
    "start_time": "2022-03-18T20:29:39.090Z"
   },
   {
    "duration": 25,
    "start_time": "2022-03-18T20:29:39.498Z"
   },
   {
    "duration": 11,
    "start_time": "2022-03-18T20:29:39.525Z"
   },
   {
    "duration": 4,
    "start_time": "2022-03-18T20:29:39.538Z"
   },
   {
    "duration": 21,
    "start_time": "2022-03-18T20:29:39.544Z"
   },
   {
    "duration": 37,
    "start_time": "2022-03-18T20:29:39.566Z"
   },
   {
    "duration": 4,
    "start_time": "2022-03-18T20:29:39.605Z"
   },
   {
    "duration": 18,
    "start_time": "2022-03-18T20:29:39.613Z"
   },
   {
    "duration": 7,
    "start_time": "2022-03-18T20:29:39.632Z"
   },
   {
    "duration": 3,
    "start_time": "2022-03-18T20:29:39.641Z"
   },
   {
    "duration": 10,
    "start_time": "2022-03-18T20:29:39.645Z"
   },
   {
    "duration": 9,
    "start_time": "2022-03-18T20:29:39.656Z"
   },
   {
    "duration": 37,
    "start_time": "2022-03-18T20:29:39.666Z"
   },
   {
    "duration": 10,
    "start_time": "2022-03-18T20:29:39.705Z"
   },
   {
    "duration": 14,
    "start_time": "2022-03-18T20:29:39.717Z"
   },
   {
    "duration": 7,
    "start_time": "2022-03-18T20:29:39.733Z"
   },
   {
    "duration": 32,
    "start_time": "2022-03-18T20:29:39.742Z"
   },
   {
    "duration": 53,
    "start_time": "2022-03-18T20:29:39.776Z"
   },
   {
    "duration": 5,
    "start_time": "2022-03-18T20:29:39.831Z"
   },
   {
    "duration": 27,
    "start_time": "2022-03-18T20:29:39.838Z"
   },
   {
    "duration": 41,
    "start_time": "2022-03-18T20:29:39.867Z"
   },
   {
    "duration": 20,
    "start_time": "2022-03-18T20:29:39.910Z"
   },
   {
    "duration": 4,
    "start_time": "2022-03-18T20:29:39.932Z"
   },
   {
    "duration": 26,
    "start_time": "2022-03-18T20:29:39.938Z"
   },
   {
    "duration": 43,
    "start_time": "2022-03-18T20:29:39.965Z"
   },
   {
    "duration": 19,
    "start_time": "2022-03-18T20:29:40.012Z"
   },
   {
    "duration": 4,
    "start_time": "2022-03-18T20:29:40.032Z"
   },
   {
    "duration": 14,
    "start_time": "2022-03-18T20:29:40.038Z"
   },
   {
    "duration": 5,
    "start_time": "2022-03-18T20:29:40.054Z"
   },
   {
    "duration": 12,
    "start_time": "2022-03-18T20:29:40.060Z"
   },
   {
    "duration": 7,
    "start_time": "2022-03-18T20:29:40.102Z"
   },
   {
    "duration": 11,
    "start_time": "2022-03-18T20:29:40.111Z"
   },
   {
    "duration": 3,
    "start_time": "2022-03-18T20:29:40.123Z"
   },
   {
    "duration": 10,
    "start_time": "2022-03-18T20:29:40.127Z"
   },
   {
    "duration": 9,
    "start_time": "2022-03-18T20:29:40.139Z"
   },
   {
    "duration": 12,
    "start_time": "2022-03-18T20:29:40.150Z"
   },
   {
    "duration": 20,
    "start_time": "2022-03-18T20:29:40.163Z"
   },
   {
    "duration": 11,
    "start_time": "2022-03-18T20:29:40.184Z"
   },
   {
    "duration": 6,
    "start_time": "2022-03-18T20:29:40.201Z"
   },
   {
    "duration": 9,
    "start_time": "2022-03-18T20:29:40.208Z"
   },
   {
    "duration": 10,
    "start_time": "2022-03-18T20:29:40.219Z"
   },
   {
    "duration": 9,
    "start_time": "2022-03-18T20:29:40.230Z"
   },
   {
    "duration": 10,
    "start_time": "2022-03-18T20:29:40.240Z"
   },
   {
    "duration": 29,
    "start_time": "2022-03-18T20:29:40.252Z"
   },
   {
    "duration": 34,
    "start_time": "2022-03-18T20:29:40.282Z"
   },
   {
    "duration": 10,
    "start_time": "2022-03-18T20:29:40.318Z"
   },
   {
    "duration": 17,
    "start_time": "2022-03-18T20:29:40.330Z"
   },
   {
    "duration": 3,
    "start_time": "2022-03-18T20:29:40.348Z"
   },
   {
    "duration": 7,
    "start_time": "2022-03-18T20:29:40.352Z"
   },
   {
    "duration": 9,
    "start_time": "2022-03-18T20:29:40.360Z"
   },
   {
    "duration": 1133,
    "start_time": "2022-03-18T20:51:06.212Z"
   },
   {
    "duration": 390,
    "start_time": "2022-03-18T20:51:07.346Z"
   },
   {
    "duration": 23,
    "start_time": "2022-03-18T20:51:07.739Z"
   },
   {
    "duration": 11,
    "start_time": "2022-03-18T20:51:07.765Z"
   },
   {
    "duration": 4,
    "start_time": "2022-03-18T20:51:07.777Z"
   },
   {
    "duration": 21,
    "start_time": "2022-03-18T20:51:07.783Z"
   },
   {
    "duration": 9,
    "start_time": "2022-03-18T20:51:07.805Z"
   },
   {
    "duration": 4,
    "start_time": "2022-03-18T20:51:07.816Z"
   },
   {
    "duration": 18,
    "start_time": "2022-03-18T20:51:07.822Z"
   },
   {
    "duration": 6,
    "start_time": "2022-03-18T20:51:07.843Z"
   },
   {
    "duration": 7,
    "start_time": "2022-03-18T20:51:07.851Z"
   },
   {
    "duration": 13,
    "start_time": "2022-03-18T20:51:07.860Z"
   },
   {
    "duration": 7,
    "start_time": "2022-03-18T20:51:07.901Z"
   },
   {
    "duration": 4,
    "start_time": "2022-03-18T20:51:07.910Z"
   },
   {
    "duration": 12,
    "start_time": "2022-03-18T20:51:07.916Z"
   },
   {
    "duration": 15,
    "start_time": "2022-03-18T20:51:07.929Z"
   },
   {
    "duration": 10,
    "start_time": "2022-03-18T20:51:07.945Z"
   },
   {
    "duration": 28,
    "start_time": "2022-03-18T20:51:07.956Z"
   },
   {
    "duration": 43,
    "start_time": "2022-03-18T20:51:07.985Z"
   },
   {
    "duration": 4,
    "start_time": "2022-03-18T20:51:08.030Z"
   },
   {
    "duration": 26,
    "start_time": "2022-03-18T20:51:08.035Z"
   },
   {
    "duration": 15,
    "start_time": "2022-03-18T20:51:08.062Z"
   },
   {
    "duration": 41,
    "start_time": "2022-03-18T20:51:08.079Z"
   },
   {
    "duration": 4,
    "start_time": "2022-03-18T20:51:08.122Z"
   },
   {
    "duration": 32,
    "start_time": "2022-03-18T20:51:08.128Z"
   },
   {
    "duration": 15,
    "start_time": "2022-03-18T20:51:08.162Z"
   },
   {
    "duration": 20,
    "start_time": "2022-03-18T20:51:08.200Z"
   },
   {
    "duration": 5,
    "start_time": "2022-03-18T20:51:08.224Z"
   },
   {
    "duration": 14,
    "start_time": "2022-03-18T20:51:08.230Z"
   },
   {
    "duration": 5,
    "start_time": "2022-03-18T20:51:08.245Z"
   },
   {
    "duration": 22,
    "start_time": "2022-03-18T20:51:08.252Z"
   },
   {
    "duration": 9,
    "start_time": "2022-03-18T20:51:08.275Z"
   },
   {
    "duration": 25,
    "start_time": "2022-03-18T20:51:08.285Z"
   },
   {
    "duration": 3,
    "start_time": "2022-03-18T20:51:08.311Z"
   },
   {
    "duration": 9,
    "start_time": "2022-03-18T20:51:08.315Z"
   },
   {
    "duration": 9,
    "start_time": "2022-03-18T20:51:08.325Z"
   },
   {
    "duration": 10,
    "start_time": "2022-03-18T20:51:08.335Z"
   },
   {
    "duration": 18,
    "start_time": "2022-03-18T20:51:08.346Z"
   },
   {
    "duration": 12,
    "start_time": "2022-03-18T20:51:08.365Z"
   },
   {
    "duration": 8,
    "start_time": "2022-03-18T20:51:08.379Z"
   },
   {
    "duration": 14,
    "start_time": "2022-03-18T20:51:08.389Z"
   },
   {
    "duration": 10,
    "start_time": "2022-03-18T20:51:08.404Z"
   },
   {
    "duration": 9,
    "start_time": "2022-03-18T20:51:08.415Z"
   },
   {
    "duration": 15,
    "start_time": "2022-03-18T20:51:08.426Z"
   },
   {
    "duration": 32,
    "start_time": "2022-03-18T20:51:08.442Z"
   },
   {
    "duration": 34,
    "start_time": "2022-03-18T20:51:08.475Z"
   },
   {
    "duration": 25,
    "start_time": "2022-03-18T20:51:08.511Z"
   },
   {
    "duration": 10,
    "start_time": "2022-03-18T20:51:08.538Z"
   },
   {
    "duration": 20,
    "start_time": "2022-03-18T20:51:08.549Z"
   },
   {
    "duration": 2,
    "start_time": "2022-03-18T20:51:08.570Z"
   },
   {
    "duration": 5,
    "start_time": "2022-03-18T20:51:08.574Z"
   },
   {
    "duration": 21,
    "start_time": "2022-03-18T20:51:08.581Z"
   },
   {
    "duration": 27,
    "start_time": "2022-03-18T20:52:30.749Z"
   },
   {
    "duration": 23,
    "start_time": "2022-03-18T20:52:52.668Z"
   },
   {
    "duration": 997,
    "start_time": "2022-03-18T20:53:47.816Z"
   },
   {
    "duration": 379,
    "start_time": "2022-03-18T20:53:48.815Z"
   },
   {
    "duration": 24,
    "start_time": "2022-03-18T20:53:49.198Z"
   },
   {
    "duration": 11,
    "start_time": "2022-03-18T20:53:49.224Z"
   },
   {
    "duration": 3,
    "start_time": "2022-03-18T20:53:49.236Z"
   },
   {
    "duration": 19,
    "start_time": "2022-03-18T20:53:49.241Z"
   },
   {
    "duration": 7,
    "start_time": "2022-03-18T20:53:49.262Z"
   },
   {
    "duration": 31,
    "start_time": "2022-03-18T20:53:49.270Z"
   },
   {
    "duration": 18,
    "start_time": "2022-03-18T20:53:49.304Z"
   },
   {
    "duration": 7,
    "start_time": "2022-03-18T20:53:49.324Z"
   },
   {
    "duration": 5,
    "start_time": "2022-03-18T20:53:49.332Z"
   },
   {
    "duration": 11,
    "start_time": "2022-03-18T20:53:49.338Z"
   },
   {
    "duration": 12,
    "start_time": "2022-03-18T20:53:49.350Z"
   },
   {
    "duration": 7,
    "start_time": "2022-03-18T20:53:49.363Z"
   },
   {
    "duration": 35,
    "start_time": "2022-03-18T20:53:49.372Z"
   },
   {
    "duration": 9,
    "start_time": "2022-03-18T20:53:49.409Z"
   },
   {
    "duration": 5,
    "start_time": "2022-03-18T20:53:49.419Z"
   },
   {
    "duration": 24,
    "start_time": "2022-03-18T20:53:49.425Z"
   },
   {
    "duration": 51,
    "start_time": "2022-03-18T20:53:49.451Z"
   },
   {
    "duration": 4,
    "start_time": "2022-03-18T20:53:49.503Z"
   },
   {
    "duration": 26,
    "start_time": "2022-03-18T20:53:49.508Z"
   },
   {
    "duration": 16,
    "start_time": "2022-03-18T20:53:49.535Z"
   },
   {
    "duration": 20,
    "start_time": "2022-03-18T20:53:49.553Z"
   },
   {
    "duration": 4,
    "start_time": "2022-03-18T20:53:49.574Z"
   },
   {
    "duration": 26,
    "start_time": "2022-03-18T20:53:49.601Z"
   },
   {
    "duration": 15,
    "start_time": "2022-03-18T20:53:49.629Z"
   },
   {
    "duration": 17,
    "start_time": "2022-03-18T20:53:49.647Z"
   },
   {
    "duration": 4,
    "start_time": "2022-03-18T20:53:49.665Z"
   },
   {
    "duration": 38,
    "start_time": "2022-03-18T20:53:49.671Z"
   },
   {
    "duration": 5,
    "start_time": "2022-03-18T20:53:49.710Z"
   },
   {
    "duration": 9,
    "start_time": "2022-03-18T20:53:49.716Z"
   },
   {
    "duration": 7,
    "start_time": "2022-03-18T20:53:49.727Z"
   },
   {
    "duration": 15,
    "start_time": "2022-03-18T20:53:49.735Z"
   },
   {
    "duration": 5,
    "start_time": "2022-03-18T20:53:49.751Z"
   },
   {
    "duration": 9,
    "start_time": "2022-03-18T20:53:49.757Z"
   },
   {
    "duration": 8,
    "start_time": "2022-03-18T20:53:49.768Z"
   },
   {
    "duration": 24,
    "start_time": "2022-03-18T20:53:49.778Z"
   },
   {
    "duration": 15,
    "start_time": "2022-03-18T20:53:49.803Z"
   },
   {
    "duration": 7,
    "start_time": "2022-03-18T20:53:49.819Z"
   },
   {
    "duration": 9,
    "start_time": "2022-03-18T20:53:49.827Z"
   },
   {
    "duration": 9,
    "start_time": "2022-03-18T20:53:49.838Z"
   },
   {
    "duration": 13,
    "start_time": "2022-03-18T20:53:49.849Z"
   },
   {
    "duration": 8,
    "start_time": "2022-03-18T20:53:49.863Z"
   },
   {
    "duration": 29,
    "start_time": "2022-03-18T20:53:49.872Z"
   },
   {
    "duration": 27,
    "start_time": "2022-03-18T20:53:49.902Z"
   },
   {
    "duration": 22,
    "start_time": "2022-03-18T20:53:49.930Z"
   },
   {
    "duration": 25,
    "start_time": "2022-03-18T20:53:49.953Z"
   },
   {
    "duration": 34,
    "start_time": "2022-03-18T20:53:49.980Z"
   },
   {
    "duration": 10,
    "start_time": "2022-03-18T20:53:50.016Z"
   },
   {
    "duration": 4,
    "start_time": "2022-03-18T20:53:50.028Z"
   },
   {
    "duration": 6,
    "start_time": "2022-03-18T20:53:50.033Z"
   },
   {
    "duration": 11,
    "start_time": "2022-03-18T20:53:50.040Z"
   },
   {
    "duration": 22,
    "start_time": "2022-03-18T20:56:25.534Z"
   },
   {
    "duration": 9,
    "start_time": "2022-03-18T20:56:39.337Z"
   },
   {
    "duration": 16,
    "start_time": "2022-03-18T20:56:50.511Z"
   },
   {
    "duration": 9,
    "start_time": "2022-03-18T20:56:51.597Z"
   },
   {
    "duration": 21,
    "start_time": "2022-03-18T20:56:52.454Z"
   },
   {
    "duration": 8,
    "start_time": "2022-03-18T20:56:53.318Z"
   },
   {
    "duration": 3,
    "start_time": "2022-03-18T21:01:01.869Z"
   },
   {
    "duration": 21,
    "start_time": "2022-03-18T21:03:04.485Z"
   },
   {
    "duration": 8,
    "start_time": "2022-03-18T21:03:05.940Z"
   },
   {
    "duration": 4,
    "start_time": "2022-03-18T21:04:04.405Z"
   },
   {
    "duration": 9,
    "start_time": "2022-03-18T21:04:14.751Z"
   },
   {
    "duration": 1063,
    "start_time": "2022-03-18T21:04:22.349Z"
   },
   {
    "duration": 377,
    "start_time": "2022-03-18T21:04:23.414Z"
   },
   {
    "duration": 25,
    "start_time": "2022-03-18T21:04:23.792Z"
   },
   {
    "duration": 11,
    "start_time": "2022-03-18T21:04:23.819Z"
   },
   {
    "duration": 6,
    "start_time": "2022-03-18T21:04:23.831Z"
   },
   {
    "duration": 21,
    "start_time": "2022-03-18T21:04:23.838Z"
   },
   {
    "duration": 8,
    "start_time": "2022-03-18T21:04:23.861Z"
   },
   {
    "duration": 30,
    "start_time": "2022-03-18T21:04:23.871Z"
   },
   {
    "duration": 19,
    "start_time": "2022-03-18T21:04:23.903Z"
   },
   {
    "duration": 6,
    "start_time": "2022-03-18T21:04:23.924Z"
   },
   {
    "duration": 4,
    "start_time": "2022-03-18T21:04:23.932Z"
   },
   {
    "duration": 10,
    "start_time": "2022-03-18T21:04:23.937Z"
   },
   {
    "duration": 11,
    "start_time": "2022-03-18T21:04:23.948Z"
   },
   {
    "duration": 8,
    "start_time": "2022-03-18T21:04:23.960Z"
   },
   {
    "duration": 34,
    "start_time": "2022-03-18T21:04:23.969Z"
   },
   {
    "duration": 12,
    "start_time": "2022-03-18T21:04:24.005Z"
   },
   {
    "duration": 6,
    "start_time": "2022-03-18T21:04:24.019Z"
   },
   {
    "duration": 24,
    "start_time": "2022-03-18T21:04:24.026Z"
   },
   {
    "duration": 30,
    "start_time": "2022-03-18T21:04:24.051Z"
   },
   {
    "duration": 19,
    "start_time": "2022-03-18T21:04:24.082Z"
   },
   {
    "duration": 25,
    "start_time": "2022-03-18T21:04:24.103Z"
   },
   {
    "duration": 16,
    "start_time": "2022-03-18T21:04:24.130Z"
   },
   {
    "duration": 21,
    "start_time": "2022-03-18T21:04:24.148Z"
   },
   {
    "duration": 33,
    "start_time": "2022-03-18T21:04:24.171Z"
   },
   {
    "duration": 25,
    "start_time": "2022-03-18T21:04:24.206Z"
   },
   {
    "duration": 14,
    "start_time": "2022-03-18T21:04:24.233Z"
   },
   {
    "duration": 18,
    "start_time": "2022-03-18T21:04:24.248Z"
   },
   {
    "duration": 4,
    "start_time": "2022-03-18T21:04:24.270Z"
   },
   {
    "duration": 34,
    "start_time": "2022-03-18T21:04:24.276Z"
   },
   {
    "duration": 5,
    "start_time": "2022-03-18T21:04:24.311Z"
   },
   {
    "duration": 9,
    "start_time": "2022-03-18T21:04:24.318Z"
   },
   {
    "duration": 9,
    "start_time": "2022-03-18T21:04:24.329Z"
   },
   {
    "duration": 13,
    "start_time": "2022-03-18T21:04:24.340Z"
   },
   {
    "duration": 3,
    "start_time": "2022-03-18T21:04:24.355Z"
   },
   {
    "duration": 11,
    "start_time": "2022-03-18T21:04:24.360Z"
   },
   {
    "duration": 31,
    "start_time": "2022-03-18T21:04:24.372Z"
   },
   {
    "duration": 6,
    "start_time": "2022-03-18T21:04:24.405Z"
   },
   {
    "duration": 16,
    "start_time": "2022-03-18T21:04:24.413Z"
   },
   {
    "duration": 7,
    "start_time": "2022-03-18T21:04:24.430Z"
   },
   {
    "duration": 10,
    "start_time": "2022-03-18T21:04:24.438Z"
   },
   {
    "duration": 12,
    "start_time": "2022-03-18T21:04:24.449Z"
   },
   {
    "duration": 39,
    "start_time": "2022-03-18T21:04:24.462Z"
   },
   {
    "duration": 4,
    "start_time": "2022-03-18T21:04:24.502Z"
   },
   {
    "duration": 8,
    "start_time": "2022-03-18T21:04:24.507Z"
   },
   {
    "duration": 31,
    "start_time": "2022-03-18T21:04:24.516Z"
   },
   {
    "duration": 16,
    "start_time": "2022-03-18T21:04:24.548Z"
   },
   {
    "duration": 9,
    "start_time": "2022-03-18T21:04:24.566Z"
   },
   {
    "duration": 48,
    "start_time": "2022-03-18T21:04:24.576Z"
   },
   {
    "duration": 90,
    "start_time": "2022-03-18T21:04:24.625Z"
   },
   {
    "duration": 0,
    "start_time": "2022-03-18T21:04:24.717Z"
   },
   {
    "duration": 0,
    "start_time": "2022-03-18T21:04:24.718Z"
   },
   {
    "duration": 0,
    "start_time": "2022-03-18T21:04:24.719Z"
   },
   {
    "duration": 0,
    "start_time": "2022-03-18T21:04:24.720Z"
   },
   {
    "duration": 0,
    "start_time": "2022-03-18T21:04:24.721Z"
   },
   {
    "duration": 0,
    "start_time": "2022-03-18T21:04:24.722Z"
   },
   {
    "duration": 0,
    "start_time": "2022-03-18T21:04:24.723Z"
   },
   {
    "duration": 8,
    "start_time": "2022-03-18T21:04:44.906Z"
   },
   {
    "duration": 6,
    "start_time": "2022-03-18T21:05:00.266Z"
   },
   {
    "duration": 8,
    "start_time": "2022-03-18T21:05:00.946Z"
   },
   {
    "duration": 8,
    "start_time": "2022-03-18T21:05:13.740Z"
   },
   {
    "duration": 1118,
    "start_time": "2022-03-18T21:05:22.891Z"
   },
   {
    "duration": 386,
    "start_time": "2022-03-18T21:05:24.011Z"
   },
   {
    "duration": 25,
    "start_time": "2022-03-18T21:05:24.399Z"
   },
   {
    "duration": 12,
    "start_time": "2022-03-18T21:05:24.426Z"
   },
   {
    "duration": 4,
    "start_time": "2022-03-18T21:05:24.439Z"
   },
   {
    "duration": 23,
    "start_time": "2022-03-18T21:05:24.445Z"
   },
   {
    "duration": 34,
    "start_time": "2022-03-18T21:05:24.469Z"
   },
   {
    "duration": 5,
    "start_time": "2022-03-18T21:05:24.504Z"
   },
   {
    "duration": 18,
    "start_time": "2022-03-18T21:05:24.510Z"
   },
   {
    "duration": 6,
    "start_time": "2022-03-18T21:05:24.531Z"
   },
   {
    "duration": 4,
    "start_time": "2022-03-18T21:05:24.539Z"
   },
   {
    "duration": 11,
    "start_time": "2022-03-18T21:05:24.544Z"
   },
   {
    "duration": 45,
    "start_time": "2022-03-18T21:05:24.557Z"
   },
   {
    "duration": 4,
    "start_time": "2022-03-18T21:05:24.604Z"
   },
   {
    "duration": 11,
    "start_time": "2022-03-18T21:05:24.610Z"
   },
   {
    "duration": 13,
    "start_time": "2022-03-18T21:05:24.623Z"
   },
   {
    "duration": 8,
    "start_time": "2022-03-18T21:05:24.638Z"
   },
   {
    "duration": 23,
    "start_time": "2022-03-18T21:05:24.648Z"
   },
   {
    "duration": 56,
    "start_time": "2022-03-18T21:05:24.672Z"
   },
   {
    "duration": 4,
    "start_time": "2022-03-18T21:05:24.730Z"
   },
   {
    "duration": 26,
    "start_time": "2022-03-18T21:05:24.736Z"
   },
   {
    "duration": 38,
    "start_time": "2022-03-18T21:05:24.764Z"
   },
   {
    "duration": 33,
    "start_time": "2022-03-18T21:05:24.803Z"
   },
   {
    "duration": 6,
    "start_time": "2022-03-18T21:05:24.845Z"
   },
   {
    "duration": 27,
    "start_time": "2022-03-18T21:05:24.853Z"
   },
   {
    "duration": 23,
    "start_time": "2022-03-18T21:05:24.881Z"
   },
   {
    "duration": 17,
    "start_time": "2022-03-18T21:05:24.906Z"
   },
   {
    "duration": 4,
    "start_time": "2022-03-18T21:05:24.926Z"
   },
   {
    "duration": 13,
    "start_time": "2022-03-18T21:05:24.931Z"
   },
   {
    "duration": 5,
    "start_time": "2022-03-18T21:05:24.945Z"
   },
   {
    "duration": 13,
    "start_time": "2022-03-18T21:05:24.951Z"
   },
   {
    "duration": 39,
    "start_time": "2022-03-18T21:05:24.965Z"
   },
   {
    "duration": 12,
    "start_time": "2022-03-18T21:05:25.005Z"
   },
   {
    "duration": 4,
    "start_time": "2022-03-18T21:05:25.018Z"
   },
   {
    "duration": 8,
    "start_time": "2022-03-18T21:05:25.023Z"
   },
   {
    "duration": 8,
    "start_time": "2022-03-18T21:05:25.033Z"
   },
   {
    "duration": 11,
    "start_time": "2022-03-18T21:05:25.042Z"
   },
   {
    "duration": 15,
    "start_time": "2022-03-18T21:05:25.054Z"
   },
   {
    "duration": 10,
    "start_time": "2022-03-18T21:05:25.071Z"
   },
   {
    "duration": 24,
    "start_time": "2022-03-18T21:05:25.082Z"
   },
   {
    "duration": 13,
    "start_time": "2022-03-18T21:05:25.108Z"
   },
   {
    "duration": 35,
    "start_time": "2022-03-18T21:05:25.122Z"
   },
   {
    "duration": 7,
    "start_time": "2022-03-18T21:05:25.159Z"
   },
   {
    "duration": 11,
    "start_time": "2022-03-18T21:05:25.168Z"
   },
   {
    "duration": 32,
    "start_time": "2022-03-18T21:05:25.181Z"
   },
   {
    "duration": 18,
    "start_time": "2022-03-18T21:05:25.215Z"
   },
   {
    "duration": 10,
    "start_time": "2022-03-18T21:05:25.235Z"
   },
   {
    "duration": 27,
    "start_time": "2022-03-18T21:05:25.247Z"
   },
   {
    "duration": 29,
    "start_time": "2022-03-18T21:05:25.276Z"
   },
   {
    "duration": 5,
    "start_time": "2022-03-18T21:05:25.307Z"
   },
   {
    "duration": 9,
    "start_time": "2022-03-18T21:05:25.314Z"
   },
   {
    "duration": 19,
    "start_time": "2022-03-18T21:05:25.325Z"
   },
   {
    "duration": 12,
    "start_time": "2022-03-18T21:05:25.345Z"
   },
   {
    "duration": 7,
    "start_time": "2022-03-18T21:05:25.358Z"
   },
   {
    "duration": 6,
    "start_time": "2022-03-18T21:05:25.366Z"
   },
   {
    "duration": 3,
    "start_time": "2022-03-18T21:05:25.400Z"
   },
   {
    "duration": 4,
    "start_time": "2022-03-18T21:06:12.111Z"
   },
   {
    "duration": 8,
    "start_time": "2022-03-18T21:06:12.495Z"
   },
   {
    "duration": 3,
    "start_time": "2022-03-18T21:07:35.518Z"
   },
   {
    "duration": 7,
    "start_time": "2022-03-18T21:07:36.263Z"
   },
   {
    "duration": 1279,
    "start_time": "2022-03-18T21:07:52.120Z"
   },
   {
    "duration": 0,
    "start_time": "2022-03-18T21:07:53.401Z"
   },
   {
    "duration": 3,
    "start_time": "2022-03-18T21:08:10.859Z"
   },
   {
    "duration": 7,
    "start_time": "2022-03-18T21:08:11.716Z"
   },
   {
    "duration": 9,
    "start_time": "2022-03-18T21:09:04.542Z"
   },
   {
    "duration": 28,
    "start_time": "2022-03-18T21:09:08.142Z"
   },
   {
    "duration": 12,
    "start_time": "2022-03-18T21:09:08.695Z"
   },
   {
    "duration": 28,
    "start_time": "2022-03-18T21:10:11.186Z"
   },
   {
    "duration": 8,
    "start_time": "2022-03-18T21:10:27.133Z"
   },
   {
    "duration": 33,
    "start_time": "2022-03-18T21:11:22.437Z"
   },
   {
    "duration": 8,
    "start_time": "2022-03-18T21:11:22.848Z"
   },
   {
    "duration": 3,
    "start_time": "2022-03-18T21:11:23.256Z"
   },
   {
    "duration": 6,
    "start_time": "2022-03-18T21:11:23.673Z"
   },
   {
    "duration": 3,
    "start_time": "2022-03-18T21:11:31.318Z"
   },
   {
    "duration": 8,
    "start_time": "2022-03-18T21:11:31.829Z"
   },
   {
    "duration": 1198,
    "start_time": "2022-03-18T21:11:42.504Z"
   },
   {
    "duration": 395,
    "start_time": "2022-03-18T21:11:43.704Z"
   },
   {
    "duration": 26,
    "start_time": "2022-03-18T21:11:44.104Z"
   },
   {
    "duration": 10,
    "start_time": "2022-03-18T21:11:44.132Z"
   },
   {
    "duration": 3,
    "start_time": "2022-03-18T21:11:44.144Z"
   },
   {
    "duration": 19,
    "start_time": "2022-03-18T21:11:44.148Z"
   },
   {
    "duration": 38,
    "start_time": "2022-03-18T21:11:44.169Z"
   },
   {
    "duration": 4,
    "start_time": "2022-03-18T21:11:44.209Z"
   },
   {
    "duration": 17,
    "start_time": "2022-03-18T21:11:44.215Z"
   },
   {
    "duration": 6,
    "start_time": "2022-03-18T21:11:44.234Z"
   },
   {
    "duration": 5,
    "start_time": "2022-03-18T21:11:44.241Z"
   },
   {
    "duration": 9,
    "start_time": "2022-03-18T21:11:44.247Z"
   },
   {
    "duration": 11,
    "start_time": "2022-03-18T21:11:44.257Z"
   },
   {
    "duration": 32,
    "start_time": "2022-03-18T21:11:44.270Z"
   },
   {
    "duration": 9,
    "start_time": "2022-03-18T21:11:44.304Z"
   },
   {
    "duration": 37,
    "start_time": "2022-03-18T21:11:44.314Z"
   },
   {
    "duration": 13,
    "start_time": "2022-03-18T21:11:44.352Z"
   },
   {
    "duration": 24,
    "start_time": "2022-03-18T21:11:44.366Z"
   },
   {
    "duration": 30,
    "start_time": "2022-03-18T21:11:44.392Z"
   },
   {
    "duration": 5,
    "start_time": "2022-03-18T21:11:44.424Z"
   },
   {
    "duration": 29,
    "start_time": "2022-03-18T21:11:44.431Z"
   },
   {
    "duration": 40,
    "start_time": "2022-03-18T21:11:44.462Z"
   },
   {
    "duration": 24,
    "start_time": "2022-03-18T21:11:44.503Z"
   },
   {
    "duration": 5,
    "start_time": "2022-03-18T21:11:44.528Z"
   },
   {
    "duration": 27,
    "start_time": "2022-03-18T21:11:44.534Z"
   },
   {
    "duration": 13,
    "start_time": "2022-03-18T21:11:44.563Z"
   },
   {
    "duration": 23,
    "start_time": "2022-03-18T21:11:44.604Z"
   },
   {
    "duration": 5,
    "start_time": "2022-03-18T21:11:44.628Z"
   },
   {
    "duration": 13,
    "start_time": "2022-03-18T21:11:44.635Z"
   },
   {
    "duration": 5,
    "start_time": "2022-03-18T21:11:44.649Z"
   },
   {
    "duration": 11,
    "start_time": "2022-03-18T21:11:44.655Z"
   },
   {
    "duration": 11,
    "start_time": "2022-03-18T21:11:44.668Z"
   },
   {
    "duration": 16,
    "start_time": "2022-03-18T21:11:44.701Z"
   },
   {
    "duration": 3,
    "start_time": "2022-03-18T21:11:44.718Z"
   },
   {
    "duration": 8,
    "start_time": "2022-03-18T21:11:44.723Z"
   },
   {
    "duration": 8,
    "start_time": "2022-03-18T21:11:44.733Z"
   },
   {
    "duration": 11,
    "start_time": "2022-03-18T21:11:44.743Z"
   },
   {
    "duration": 20,
    "start_time": "2022-03-18T21:11:44.755Z"
   },
   {
    "duration": 8,
    "start_time": "2022-03-18T21:11:44.776Z"
   },
   {
    "duration": 11,
    "start_time": "2022-03-18T21:11:44.785Z"
   },
   {
    "duration": 7,
    "start_time": "2022-03-18T21:11:44.801Z"
   },
   {
    "duration": 11,
    "start_time": "2022-03-18T21:11:44.809Z"
   },
   {
    "duration": 8,
    "start_time": "2022-03-18T21:11:44.822Z"
   },
   {
    "duration": 10,
    "start_time": "2022-03-18T21:11:44.832Z"
   },
   {
    "duration": 27,
    "start_time": "2022-03-18T21:11:44.844Z"
   },
   {
    "duration": 8,
    "start_time": "2022-03-18T21:11:44.873Z"
   },
   {
    "duration": 45,
    "start_time": "2022-03-18T21:11:44.882Z"
   },
   {
    "duration": 8,
    "start_time": "2022-03-18T21:11:44.929Z"
   },
   {
    "duration": 4,
    "start_time": "2022-03-18T21:11:44.938Z"
   },
   {
    "duration": 10,
    "start_time": "2022-03-18T21:11:44.943Z"
   },
   {
    "duration": 20,
    "start_time": "2022-03-18T21:11:44.955Z"
   },
   {
    "duration": 7,
    "start_time": "2022-03-18T21:11:44.976Z"
   },
   {
    "duration": 28,
    "start_time": "2022-03-18T21:11:45.001Z"
   },
   {
    "duration": 7,
    "start_time": "2022-03-18T21:11:45.031Z"
   },
   {
    "duration": 6,
    "start_time": "2022-03-18T21:11:45.040Z"
   },
   {
    "duration": 13,
    "start_time": "2022-03-18T21:11:45.048Z"
   },
   {
    "duration": 39,
    "start_time": "2022-03-18T21:11:45.062Z"
   },
   {
    "duration": 11,
    "start_time": "2022-03-18T21:11:45.102Z"
   },
   {
    "duration": 4,
    "start_time": "2022-03-18T21:11:45.114Z"
   },
   {
    "duration": 6,
    "start_time": "2022-03-18T21:11:45.120Z"
   },
   {
    "duration": 8,
    "start_time": "2022-03-18T21:11:45.127Z"
   },
   {
    "duration": 80,
    "start_time": "2022-03-19T13:30:40.254Z"
   },
   {
    "duration": 9,
    "start_time": "2022-03-19T13:30:48.159Z"
   },
   {
    "duration": 1843,
    "start_time": "2022-03-19T13:30:54.264Z"
   },
   {
    "duration": 540,
    "start_time": "2022-03-19T13:30:56.110Z"
   },
   {
    "duration": 46,
    "start_time": "2022-03-19T13:30:56.652Z"
   },
   {
    "duration": 18,
    "start_time": "2022-03-19T13:30:56.702Z"
   },
   {
    "duration": 10,
    "start_time": "2022-03-19T13:30:56.722Z"
   },
   {
    "duration": 66,
    "start_time": "2022-03-19T13:30:56.734Z"
   },
   {
    "duration": 13,
    "start_time": "2022-03-19T13:30:56.802Z"
   },
   {
    "duration": 7,
    "start_time": "2022-03-19T13:30:56.817Z"
   },
   {
    "duration": 61,
    "start_time": "2022-03-19T13:30:56.826Z"
   },
   {
    "duration": 12,
    "start_time": "2022-03-19T13:30:56.894Z"
   },
   {
    "duration": 9,
    "start_time": "2022-03-19T13:30:56.909Z"
   },
   {
    "duration": 15,
    "start_time": "2022-03-19T13:30:56.921Z"
   },
   {
    "duration": 55,
    "start_time": "2022-03-19T13:30:56.939Z"
   },
   {
    "duration": 9,
    "start_time": "2022-03-19T13:30:56.996Z"
   },
   {
    "duration": 18,
    "start_time": "2022-03-19T13:30:57.007Z"
   },
   {
    "duration": 48,
    "start_time": "2022-03-19T13:30:57.028Z"
   },
   {
    "duration": 21,
    "start_time": "2022-03-19T13:30:57.078Z"
   },
   {
    "duration": 35,
    "start_time": "2022-03-19T13:30:57.102Z"
   },
   {
    "duration": 74,
    "start_time": "2022-03-19T13:30:57.140Z"
   },
   {
    "duration": 7,
    "start_time": "2022-03-19T13:30:57.217Z"
   },
   {
    "duration": 55,
    "start_time": "2022-03-19T13:30:57.226Z"
   },
   {
    "duration": 31,
    "start_time": "2022-03-19T13:30:57.284Z"
   },
   {
    "duration": 60,
    "start_time": "2022-03-19T13:30:57.317Z"
   },
   {
    "duration": 9,
    "start_time": "2022-03-19T13:30:57.381Z"
   },
   {
    "duration": 42,
    "start_time": "2022-03-19T13:30:57.392Z"
   },
   {
    "duration": 45,
    "start_time": "2022-03-19T13:30:57.437Z"
   },
   {
    "duration": 32,
    "start_time": "2022-03-19T13:30:57.485Z"
   },
   {
    "duration": 8,
    "start_time": "2022-03-19T13:30:57.522Z"
   },
   {
    "duration": 60,
    "start_time": "2022-03-19T13:30:57.532Z"
   },
   {
    "duration": 9,
    "start_time": "2022-03-19T13:30:57.594Z"
   },
   {
    "duration": 16,
    "start_time": "2022-03-19T13:30:57.605Z"
   },
   {
    "duration": 10,
    "start_time": "2022-03-19T13:30:57.623Z"
   },
   {
    "duration": 56,
    "start_time": "2022-03-19T13:30:57.635Z"
   },
   {
    "duration": 7,
    "start_time": "2022-03-19T13:30:57.694Z"
   },
   {
    "duration": 11,
    "start_time": "2022-03-19T13:30:57.703Z"
   },
   {
    "duration": 13,
    "start_time": "2022-03-19T13:30:57.716Z"
   },
   {
    "duration": 18,
    "start_time": "2022-03-19T13:30:57.732Z"
   },
   {
    "duration": 31,
    "start_time": "2022-03-19T13:30:57.774Z"
   },
   {
    "duration": 20,
    "start_time": "2022-03-19T13:30:57.808Z"
   },
   {
    "duration": 14,
    "start_time": "2022-03-19T13:30:57.830Z"
   },
   {
    "duration": 33,
    "start_time": "2022-03-19T13:30:57.846Z"
   },
   {
    "duration": 22,
    "start_time": "2022-03-19T13:30:57.882Z"
   },
   {
    "duration": 17,
    "start_time": "2022-03-19T13:30:57.907Z"
   },
   {
    "duration": 11,
    "start_time": "2022-03-19T13:30:57.926Z"
   },
   {
    "duration": 74,
    "start_time": "2022-03-19T13:30:57.939Z"
   },
   {
    "duration": 12,
    "start_time": "2022-03-19T13:30:58.015Z"
   },
   {
    "duration": 81,
    "start_time": "2022-03-19T13:30:58.030Z"
   },
   {
    "duration": 22,
    "start_time": "2022-03-19T13:30:58.114Z"
   },
   {
    "duration": 5,
    "start_time": "2022-03-19T13:30:58.139Z"
   },
   {
    "duration": 32,
    "start_time": "2022-03-19T13:30:58.146Z"
   },
   {
    "duration": 39,
    "start_time": "2022-03-19T13:30:58.182Z"
   },
   {
    "duration": 14,
    "start_time": "2022-03-19T13:30:58.224Z"
   },
   {
    "duration": 75,
    "start_time": "2022-03-19T13:30:58.241Z"
   },
   {
    "duration": 13,
    "start_time": "2022-03-19T13:30:58.319Z"
   },
   {
    "duration": 8,
    "start_time": "2022-03-19T13:30:58.334Z"
   },
   {
    "duration": 17,
    "start_time": "2022-03-19T13:30:58.344Z"
   },
   {
    "duration": 37,
    "start_time": "2022-03-19T13:30:58.374Z"
   },
   {
    "duration": 17,
    "start_time": "2022-03-19T13:30:58.413Z"
   },
   {
    "duration": 4,
    "start_time": "2022-03-19T13:30:58.432Z"
   },
   {
    "duration": 36,
    "start_time": "2022-03-19T13:30:58.438Z"
   },
   {
    "duration": 7,
    "start_time": "2022-03-19T13:30:58.476Z"
   },
   {
    "duration": 22,
    "start_time": "2022-03-19T15:40:21.319Z"
   },
   {
    "duration": 14,
    "start_time": "2022-03-19T15:40:21.874Z"
   },
   {
    "duration": 154,
    "start_time": "2022-03-19T15:41:48.765Z"
   },
   {
    "duration": 84,
    "start_time": "2022-03-19T15:42:18.898Z"
   },
   {
    "duration": 1407,
    "start_time": "2022-03-19T15:42:32.795Z"
   },
   {
    "duration": 526,
    "start_time": "2022-03-19T15:42:34.205Z"
   },
   {
    "duration": 38,
    "start_time": "2022-03-19T15:42:34.734Z"
   },
   {
    "duration": 27,
    "start_time": "2022-03-19T15:42:34.775Z"
   },
   {
    "duration": 7,
    "start_time": "2022-03-19T15:42:34.806Z"
   },
   {
    "duration": 54,
    "start_time": "2022-03-19T15:42:34.815Z"
   },
   {
    "duration": 19,
    "start_time": "2022-03-19T15:42:34.873Z"
   },
   {
    "duration": 16,
    "start_time": "2022-03-19T15:42:34.895Z"
   },
   {
    "duration": 50,
    "start_time": "2022-03-19T15:42:34.913Z"
   },
   {
    "duration": 11,
    "start_time": "2022-03-19T15:42:34.966Z"
   },
   {
    "duration": 18,
    "start_time": "2022-03-19T15:42:34.982Z"
   },
   {
    "duration": 29,
    "start_time": "2022-03-19T15:42:35.002Z"
   },
   {
    "duration": 22,
    "start_time": "2022-03-19T15:42:35.033Z"
   },
   {
    "duration": 13,
    "start_time": "2022-03-19T15:42:35.060Z"
   },
   {
    "duration": 26,
    "start_time": "2022-03-19T15:42:35.076Z"
   },
   {
    "duration": 29,
    "start_time": "2022-03-19T15:42:35.105Z"
   },
   {
    "duration": 24,
    "start_time": "2022-03-19T15:42:35.136Z"
   },
   {
    "duration": 41,
    "start_time": "2022-03-19T15:42:35.162Z"
   },
   {
    "duration": 48,
    "start_time": "2022-03-19T15:42:35.206Z"
   },
   {
    "duration": 24,
    "start_time": "2022-03-19T15:42:35.256Z"
   },
   {
    "duration": 53,
    "start_time": "2022-03-19T15:42:35.282Z"
   },
   {
    "duration": 23,
    "start_time": "2022-03-19T15:42:35.338Z"
   },
   {
    "duration": 47,
    "start_time": "2022-03-19T15:42:35.373Z"
   },
   {
    "duration": 7,
    "start_time": "2022-03-19T15:42:35.422Z"
   },
   {
    "duration": 56,
    "start_time": "2022-03-19T15:42:35.431Z"
   },
   {
    "duration": 20,
    "start_time": "2022-03-19T15:42:35.490Z"
   },
   {
    "duration": 34,
    "start_time": "2022-03-19T15:42:35.512Z"
   },
   {
    "duration": 29,
    "start_time": "2022-03-19T15:42:35.549Z"
   },
   {
    "duration": 27,
    "start_time": "2022-03-19T15:42:35.581Z"
   },
   {
    "duration": 8,
    "start_time": "2022-03-19T15:42:35.610Z"
   },
   {
    "duration": 26,
    "start_time": "2022-03-19T15:42:35.620Z"
   },
   {
    "duration": 19,
    "start_time": "2022-03-19T15:42:35.648Z"
   },
   {
    "duration": 23,
    "start_time": "2022-03-19T15:42:35.678Z"
   },
   {
    "duration": 14,
    "start_time": "2022-03-19T15:42:35.703Z"
   },
   {
    "duration": 39,
    "start_time": "2022-03-19T15:42:35.720Z"
   },
   {
    "duration": 28,
    "start_time": "2022-03-19T15:42:35.761Z"
   },
   {
    "duration": 26,
    "start_time": "2022-03-19T15:42:35.792Z"
   },
   {
    "duration": 36,
    "start_time": "2022-03-19T15:42:35.820Z"
   },
   {
    "duration": 26,
    "start_time": "2022-03-19T15:42:35.858Z"
   },
   {
    "duration": 24,
    "start_time": "2022-03-19T15:42:35.887Z"
   },
   {
    "duration": 15,
    "start_time": "2022-03-19T15:42:35.923Z"
   },
   {
    "duration": 29,
    "start_time": "2022-03-19T15:42:35.940Z"
   },
   {
    "duration": 21,
    "start_time": "2022-03-19T15:42:35.974Z"
   },
   {
    "duration": 24,
    "start_time": "2022-03-19T15:42:35.997Z"
   },
   {
    "duration": 56,
    "start_time": "2022-03-19T15:42:36.023Z"
   },
   {
    "duration": 15,
    "start_time": "2022-03-19T15:42:36.081Z"
   },
   {
    "duration": 56,
    "start_time": "2022-03-19T15:42:36.099Z"
   },
   {
    "duration": 30,
    "start_time": "2022-03-19T15:42:36.157Z"
   },
   {
    "duration": 24,
    "start_time": "2022-03-19T15:42:36.189Z"
   },
   {
    "duration": 22,
    "start_time": "2022-03-19T15:42:36.216Z"
   },
   {
    "duration": 31,
    "start_time": "2022-03-19T15:42:36.240Z"
   },
   {
    "duration": 21,
    "start_time": "2022-03-19T15:42:36.273Z"
   },
   {
    "duration": 51,
    "start_time": "2022-03-19T15:42:36.297Z"
   },
   {
    "duration": 25,
    "start_time": "2022-03-19T15:42:36.350Z"
   },
   {
    "duration": 12,
    "start_time": "2022-03-19T15:42:36.382Z"
   },
   {
    "duration": 31,
    "start_time": "2022-03-19T15:42:36.397Z"
   },
   {
    "duration": 32,
    "start_time": "2022-03-19T15:42:36.430Z"
   },
   {
    "duration": 12,
    "start_time": "2022-03-19T15:42:36.464Z"
   },
   {
    "duration": 218,
    "start_time": "2022-03-19T15:42:36.488Z"
   },
   {
    "duration": 1,
    "start_time": "2022-03-19T15:42:36.708Z"
   },
   {
    "duration": 0,
    "start_time": "2022-03-19T15:42:36.711Z"
   },
   {
    "duration": 0,
    "start_time": "2022-03-19T15:42:36.713Z"
   },
   {
    "duration": 0,
    "start_time": "2022-03-19T15:42:36.715Z"
   },
   {
    "duration": 24,
    "start_time": "2022-03-19T15:44:05.488Z"
   },
   {
    "duration": 12,
    "start_time": "2022-03-19T16:03:34.768Z"
   },
   {
    "duration": 11,
    "start_time": "2022-03-19T16:05:09.904Z"
   },
   {
    "duration": 1411,
    "start_time": "2022-03-19T16:05:15.891Z"
   },
   {
    "duration": 502,
    "start_time": "2022-03-19T16:05:17.306Z"
   },
   {
    "duration": 35,
    "start_time": "2022-03-19T16:05:17.810Z"
   },
   {
    "duration": 18,
    "start_time": "2022-03-19T16:05:17.847Z"
   },
   {
    "duration": 10,
    "start_time": "2022-03-19T16:05:17.868Z"
   },
   {
    "duration": 30,
    "start_time": "2022-03-19T16:05:17.880Z"
   },
   {
    "duration": 14,
    "start_time": "2022-03-19T16:05:17.912Z"
   },
   {
    "duration": 8,
    "start_time": "2022-03-19T16:05:17.928Z"
   },
   {
    "duration": 60,
    "start_time": "2022-03-19T16:05:17.938Z"
   },
   {
    "duration": 10,
    "start_time": "2022-03-19T16:05:18.000Z"
   },
   {
    "duration": 10,
    "start_time": "2022-03-19T16:05:18.012Z"
   },
   {
    "duration": 19,
    "start_time": "2022-03-19T16:05:18.024Z"
   },
   {
    "duration": 12,
    "start_time": "2022-03-19T16:05:18.075Z"
   },
   {
    "duration": 6,
    "start_time": "2022-03-19T16:05:18.091Z"
   },
   {
    "duration": 20,
    "start_time": "2022-03-19T16:05:18.099Z"
   },
   {
    "duration": 53,
    "start_time": "2022-03-19T16:05:18.122Z"
   },
   {
    "duration": 6,
    "start_time": "2022-03-19T16:05:18.178Z"
   },
   {
    "duration": 30,
    "start_time": "2022-03-19T16:05:18.186Z"
   },
   {
    "duration": 77,
    "start_time": "2022-03-19T16:05:18.218Z"
   },
   {
    "duration": 7,
    "start_time": "2022-03-19T16:05:18.297Z"
   },
   {
    "duration": 43,
    "start_time": "2022-03-19T16:05:18.306Z"
   },
   {
    "duration": 39,
    "start_time": "2022-03-19T16:05:18.351Z"
   },
   {
    "duration": 35,
    "start_time": "2022-03-19T16:05:18.393Z"
   },
   {
    "duration": 6,
    "start_time": "2022-03-19T16:05:18.430Z"
   },
   {
    "duration": 66,
    "start_time": "2022-03-19T16:05:18.439Z"
   },
   {
    "duration": 19,
    "start_time": "2022-03-19T16:05:18.507Z"
   },
   {
    "duration": 52,
    "start_time": "2022-03-19T16:05:18.529Z"
   },
   {
    "duration": 7,
    "start_time": "2022-03-19T16:05:18.583Z"
   },
   {
    "duration": 21,
    "start_time": "2022-03-19T16:05:18.592Z"
   },
   {
    "duration": 9,
    "start_time": "2022-03-19T16:05:18.615Z"
   },
   {
    "duration": 15,
    "start_time": "2022-03-19T16:05:18.626Z"
   },
   {
    "duration": 37,
    "start_time": "2022-03-19T16:05:18.643Z"
   },
   {
    "duration": 13,
    "start_time": "2022-03-19T16:05:18.683Z"
   },
   {
    "duration": 4,
    "start_time": "2022-03-19T16:05:18.698Z"
   },
   {
    "duration": 9,
    "start_time": "2022-03-19T16:05:18.704Z"
   },
   {
    "duration": 5,
    "start_time": "2022-03-19T16:05:18.715Z"
   },
   {
    "duration": 52,
    "start_time": "2022-03-19T16:05:18.723Z"
   },
   {
    "duration": 20,
    "start_time": "2022-03-19T16:05:18.777Z"
   },
   {
    "duration": 10,
    "start_time": "2022-03-19T16:05:18.799Z"
   },
   {
    "duration": 8,
    "start_time": "2022-03-19T16:05:18.812Z"
   },
   {
    "duration": 11,
    "start_time": "2022-03-19T16:05:18.826Z"
   },
   {
    "duration": 12,
    "start_time": "2022-03-19T16:05:18.873Z"
   },
   {
    "duration": 7,
    "start_time": "2022-03-19T16:05:18.888Z"
   },
   {
    "duration": 11,
    "start_time": "2022-03-19T16:05:18.897Z"
   },
   {
    "duration": 64,
    "start_time": "2022-03-19T16:05:18.910Z"
   },
   {
    "duration": 12,
    "start_time": "2022-03-19T16:05:18.976Z"
   },
   {
    "duration": 46,
    "start_time": "2022-03-19T16:05:18.990Z"
   },
   {
    "duration": 12,
    "start_time": "2022-03-19T16:05:19.038Z"
   },
   {
    "duration": 4,
    "start_time": "2022-03-19T16:05:19.074Z"
   },
   {
    "duration": 13,
    "start_time": "2022-03-19T16:05:19.080Z"
   },
   {
    "duration": 27,
    "start_time": "2022-03-19T16:05:19.095Z"
   },
   {
    "duration": 49,
    "start_time": "2022-03-19T16:05:19.124Z"
   },
   {
    "duration": 39,
    "start_time": "2022-03-19T16:05:19.176Z"
   },
   {
    "duration": 13,
    "start_time": "2022-03-19T16:05:19.217Z"
   },
   {
    "duration": 4,
    "start_time": "2022-03-19T16:05:19.232Z"
   },
   {
    "duration": 40,
    "start_time": "2022-03-19T16:05:19.238Z"
   },
   {
    "duration": 32,
    "start_time": "2022-03-19T16:05:19.282Z"
   },
   {
    "duration": 13,
    "start_time": "2022-03-19T16:05:19.316Z"
   },
   {
    "duration": 51,
    "start_time": "2022-03-19T16:05:19.331Z"
   },
   {
    "duration": 13,
    "start_time": "2022-03-19T16:05:19.385Z"
   },
   {
    "duration": 7,
    "start_time": "2022-03-19T16:05:19.401Z"
   },
   {
    "duration": 12,
    "start_time": "2022-03-19T16:05:19.411Z"
   },
   {
    "duration": 36,
    "start_time": "2022-03-19T16:05:19.426Z"
   },
   {
    "duration": 5,
    "start_time": "2022-03-19T16:05:19.473Z"
   },
   {
    "duration": 13,
    "start_time": "2022-03-19T16:05:19.481Z"
   },
   {
    "duration": 28,
    "start_time": "2022-03-19T16:05:19.496Z"
   },
   {
    "duration": 12,
    "start_time": "2022-03-19T18:25:57.821Z"
   },
   {
    "duration": 20,
    "start_time": "2022-03-19T18:26:06.461Z"
   },
   {
    "duration": 2050,
    "start_time": "2022-03-19T18:49:31.491Z"
   },
   {
    "duration": 1541,
    "start_time": "2022-03-19T18:49:51.994Z"
   },
   {
    "duration": 563,
    "start_time": "2022-03-19T18:49:53.538Z"
   },
   {
    "duration": 36,
    "start_time": "2022-03-19T18:49:54.103Z"
   },
   {
    "duration": 18,
    "start_time": "2022-03-19T18:49:54.143Z"
   },
   {
    "duration": 9,
    "start_time": "2022-03-19T18:49:54.179Z"
   },
   {
    "duration": 36,
    "start_time": "2022-03-19T18:49:54.193Z"
   },
   {
    "duration": 14,
    "start_time": "2022-03-19T18:49:54.233Z"
   },
   {
    "duration": 30,
    "start_time": "2022-03-19T18:49:54.250Z"
   },
   {
    "duration": 45,
    "start_time": "2022-03-19T18:49:54.283Z"
   },
   {
    "duration": 22,
    "start_time": "2022-03-19T18:49:54.333Z"
   },
   {
    "duration": 19,
    "start_time": "2022-03-19T18:49:54.357Z"
   },
   {
    "duration": 27,
    "start_time": "2022-03-19T18:49:54.379Z"
   },
   {
    "duration": 23,
    "start_time": "2022-03-19T18:49:54.409Z"
   },
   {
    "duration": 14,
    "start_time": "2022-03-19T18:49:54.434Z"
   },
   {
    "duration": 29,
    "start_time": "2022-03-19T18:49:54.450Z"
   },
   {
    "duration": 24,
    "start_time": "2022-03-19T18:49:54.481Z"
   },
   {
    "duration": 15,
    "start_time": "2022-03-19T18:49:54.507Z"
   },
   {
    "duration": 36,
    "start_time": "2022-03-19T18:49:54.525Z"
   },
   {
    "duration": 57,
    "start_time": "2022-03-19T18:49:54.577Z"
   },
   {
    "duration": 7,
    "start_time": "2022-03-19T18:49:54.636Z"
   },
   {
    "duration": 73,
    "start_time": "2022-03-19T18:49:54.645Z"
   },
   {
    "duration": 40,
    "start_time": "2022-03-19T18:49:54.721Z"
   },
   {
    "duration": 38,
    "start_time": "2022-03-19T18:49:54.782Z"
   },
   {
    "duration": 6,
    "start_time": "2022-03-19T18:49:54.823Z"
   },
   {
    "duration": 63,
    "start_time": "2022-03-19T18:49:54.832Z"
   },
   {
    "duration": 21,
    "start_time": "2022-03-19T18:49:54.897Z"
   },
   {
    "duration": 57,
    "start_time": "2022-03-19T18:49:54.921Z"
   },
   {
    "duration": 8,
    "start_time": "2022-03-19T18:49:54.988Z"
   },
   {
    "duration": 30,
    "start_time": "2022-03-19T18:49:54.999Z"
   },
   {
    "duration": 10,
    "start_time": "2022-03-19T18:49:55.031Z"
   },
   {
    "duration": 43,
    "start_time": "2022-03-19T18:49:55.043Z"
   },
   {
    "duration": 10,
    "start_time": "2022-03-19T18:49:55.089Z"
   },
   {
    "duration": 16,
    "start_time": "2022-03-19T18:49:55.101Z"
   },
   {
    "duration": 12,
    "start_time": "2022-03-19T18:49:55.120Z"
   },
   {
    "duration": 11,
    "start_time": "2022-03-19T18:49:55.135Z"
   },
   {
    "duration": 29,
    "start_time": "2022-03-19T18:49:55.148Z"
   },
   {
    "duration": 30,
    "start_time": "2022-03-19T18:49:55.180Z"
   },
   {
    "duration": 21,
    "start_time": "2022-03-19T18:49:55.212Z"
   },
   {
    "duration": 11,
    "start_time": "2022-03-19T18:49:55.235Z"
   },
   {
    "duration": 29,
    "start_time": "2022-03-19T18:49:55.249Z"
   },
   {
    "duration": 17,
    "start_time": "2022-03-19T18:49:55.281Z"
   },
   {
    "duration": 22,
    "start_time": "2022-03-19T18:49:55.301Z"
   },
   {
    "duration": 16,
    "start_time": "2022-03-19T18:49:55.326Z"
   },
   {
    "duration": 38,
    "start_time": "2022-03-19T18:49:55.346Z"
   },
   {
    "duration": 41,
    "start_time": "2022-03-19T18:49:55.388Z"
   },
   {
    "duration": 13,
    "start_time": "2022-03-19T18:49:55.432Z"
   },
   {
    "duration": 84,
    "start_time": "2022-03-19T18:49:55.447Z"
   },
   {
    "duration": 14,
    "start_time": "2022-03-19T18:49:55.534Z"
   },
   {
    "duration": 23,
    "start_time": "2022-03-19T18:49:55.550Z"
   },
   {
    "duration": 24,
    "start_time": "2022-03-19T18:49:55.582Z"
   },
   {
    "duration": 26,
    "start_time": "2022-03-19T18:49:55.609Z"
   },
   {
    "duration": 14,
    "start_time": "2022-03-19T18:49:55.638Z"
   },
   {
    "duration": 60,
    "start_time": "2022-03-19T18:49:55.654Z"
   },
   {
    "duration": 12,
    "start_time": "2022-03-19T18:49:55.716Z"
   },
   {
    "duration": 10,
    "start_time": "2022-03-19T18:49:55.730Z"
   },
   {
    "duration": 17,
    "start_time": "2022-03-19T18:49:55.741Z"
   },
   {
    "duration": 21,
    "start_time": "2022-03-19T18:49:55.773Z"
   },
   {
    "duration": 23,
    "start_time": "2022-03-19T18:49:55.796Z"
   },
   {
    "duration": 56,
    "start_time": "2022-03-19T18:49:55.822Z"
   },
   {
    "duration": 14,
    "start_time": "2022-03-19T18:49:55.880Z"
   },
   {
    "duration": 7,
    "start_time": "2022-03-19T18:49:55.898Z"
   },
   {
    "duration": 12,
    "start_time": "2022-03-19T18:49:55.908Z"
   },
   {
    "duration": 24,
    "start_time": "2022-03-19T18:49:55.923Z"
   },
   {
    "duration": 1931,
    "start_time": "2022-03-19T18:49:55.949Z"
   },
   {
    "duration": 0,
    "start_time": "2022-03-19T18:49:57.883Z"
   },
   {
    "duration": 0,
    "start_time": "2022-03-19T18:49:57.885Z"
   },
   {
    "duration": 0,
    "start_time": "2022-03-19T18:49:57.888Z"
   },
   {
    "duration": 25,
    "start_time": "2022-03-19T18:50:18.470Z"
   },
   {
    "duration": 17,
    "start_time": "2022-03-19T18:53:23.400Z"
   },
   {
    "duration": 12,
    "start_time": "2022-03-19T18:54:34.093Z"
   },
   {
    "duration": 14,
    "start_time": "2022-03-19T18:54:34.667Z"
   },
   {
    "duration": 11,
    "start_time": "2022-03-19T19:13:55.904Z"
   },
   {
    "duration": 10,
    "start_time": "2022-03-19T19:14:04.136Z"
   },
   {
    "duration": 1691,
    "start_time": "2022-03-19T19:14:12.674Z"
   },
   {
    "duration": 775,
    "start_time": "2022-03-19T19:14:14.369Z"
   },
   {
    "duration": 58,
    "start_time": "2022-03-19T19:14:15.147Z"
   },
   {
    "duration": 21,
    "start_time": "2022-03-19T19:14:15.209Z"
   },
   {
    "duration": 27,
    "start_time": "2022-03-19T19:14:15.233Z"
   },
   {
    "duration": 60,
    "start_time": "2022-03-19T19:14:15.263Z"
   },
   {
    "duration": 18,
    "start_time": "2022-03-19T19:14:15.326Z"
   },
   {
    "duration": 29,
    "start_time": "2022-03-19T19:14:15.346Z"
   },
   {
    "duration": 48,
    "start_time": "2022-03-19T19:14:15.378Z"
   },
   {
    "duration": 30,
    "start_time": "2022-03-19T19:14:15.429Z"
   },
   {
    "duration": 23,
    "start_time": "2022-03-19T19:14:15.461Z"
   },
   {
    "duration": 38,
    "start_time": "2022-03-19T19:14:15.487Z"
   },
   {
    "duration": 33,
    "start_time": "2022-03-19T19:14:15.528Z"
   },
   {
    "duration": 26,
    "start_time": "2022-03-19T19:14:15.567Z"
   },
   {
    "duration": 30,
    "start_time": "2022-03-19T19:14:15.595Z"
   },
   {
    "duration": 34,
    "start_time": "2022-03-19T19:14:15.627Z"
   },
   {
    "duration": 28,
    "start_time": "2022-03-19T19:14:15.663Z"
   },
   {
    "duration": 39,
    "start_time": "2022-03-19T19:14:15.693Z"
   },
   {
    "duration": 49,
    "start_time": "2022-03-19T19:14:15.735Z"
   },
   {
    "duration": 7,
    "start_time": "2022-03-19T19:14:15.786Z"
   },
   {
    "duration": 53,
    "start_time": "2022-03-19T19:14:15.795Z"
   },
   {
    "duration": 37,
    "start_time": "2022-03-19T19:14:15.850Z"
   },
   {
    "duration": 45,
    "start_time": "2022-03-19T19:14:15.889Z"
   },
   {
    "duration": 7,
    "start_time": "2022-03-19T19:14:15.936Z"
   },
   {
    "duration": 60,
    "start_time": "2022-03-19T19:14:15.945Z"
   },
   {
    "duration": 20,
    "start_time": "2022-03-19T19:14:16.007Z"
   },
   {
    "duration": 51,
    "start_time": "2022-03-19T19:14:16.030Z"
   },
   {
    "duration": 8,
    "start_time": "2022-03-19T19:14:16.084Z"
   },
   {
    "duration": 38,
    "start_time": "2022-03-19T19:14:16.095Z"
   },
   {
    "duration": 11,
    "start_time": "2022-03-19T19:14:16.136Z"
   },
   {
    "duration": 33,
    "start_time": "2022-03-19T19:14:16.149Z"
   },
   {
    "duration": 39,
    "start_time": "2022-03-19T19:14:16.185Z"
   },
   {
    "duration": 41,
    "start_time": "2022-03-19T19:14:16.227Z"
   },
   {
    "duration": 8,
    "start_time": "2022-03-19T19:14:16.271Z"
   },
   {
    "duration": 39,
    "start_time": "2022-03-19T19:14:16.281Z"
   },
   {
    "duration": 29,
    "start_time": "2022-03-19T19:14:16.322Z"
   },
   {
    "duration": 33,
    "start_time": "2022-03-19T19:14:16.353Z"
   },
   {
    "duration": 24,
    "start_time": "2022-03-19T19:14:16.389Z"
   },
   {
    "duration": 10,
    "start_time": "2022-03-19T19:14:16.416Z"
   },
   {
    "duration": 15,
    "start_time": "2022-03-19T19:14:16.429Z"
   },
   {
    "duration": 29,
    "start_time": "2022-03-19T19:14:16.453Z"
   },
   {
    "duration": 17,
    "start_time": "2022-03-19T19:14:16.485Z"
   },
   {
    "duration": 8,
    "start_time": "2022-03-19T19:14:16.505Z"
   },
   {
    "duration": 15,
    "start_time": "2022-03-19T19:14:16.516Z"
   },
   {
    "duration": 72,
    "start_time": "2022-03-19T19:14:16.533Z"
   },
   {
    "duration": 13,
    "start_time": "2022-03-19T19:14:16.607Z"
   },
   {
    "duration": 71,
    "start_time": "2022-03-19T19:14:16.622Z"
   },
   {
    "duration": 14,
    "start_time": "2022-03-19T19:14:16.695Z"
   },
   {
    "duration": 8,
    "start_time": "2022-03-19T19:14:16.711Z"
   },
   {
    "duration": 14,
    "start_time": "2022-03-19T19:14:16.721Z"
   },
   {
    "duration": 51,
    "start_time": "2022-03-19T19:14:16.737Z"
   },
   {
    "duration": 14,
    "start_time": "2022-03-19T19:14:16.790Z"
   },
   {
    "duration": 68,
    "start_time": "2022-03-19T19:14:16.808Z"
   },
   {
    "duration": 12,
    "start_time": "2022-03-19T19:14:16.878Z"
   },
   {
    "duration": 6,
    "start_time": "2022-03-19T19:14:16.892Z"
   },
   {
    "duration": 13,
    "start_time": "2022-03-19T19:14:16.899Z"
   },
   {
    "duration": 59,
    "start_time": "2022-03-19T19:14:16.914Z"
   },
   {
    "duration": 12,
    "start_time": "2022-03-19T19:14:16.976Z"
   },
   {
    "duration": 35,
    "start_time": "2022-03-19T19:14:16.991Z"
   },
   {
    "duration": 11,
    "start_time": "2022-03-19T19:14:17.029Z"
   },
   {
    "duration": 31,
    "start_time": "2022-03-19T19:14:17.043Z"
   },
   {
    "duration": 12,
    "start_time": "2022-03-19T19:14:17.076Z"
   },
   {
    "duration": 12,
    "start_time": "2022-03-19T19:14:17.090Z"
   },
   {
    "duration": 9,
    "start_time": "2022-03-19T19:14:17.104Z"
   },
   {
    "duration": 10,
    "start_time": "2022-03-19T19:14:17.115Z"
   },
   {
    "duration": 48,
    "start_time": "2022-03-19T19:14:17.127Z"
   },
   {
    "duration": 3,
    "start_time": "2022-03-19T19:14:17.177Z"
   },
   {
    "duration": 5,
    "start_time": "2022-03-19T19:14:17.182Z"
   },
   {
    "duration": 7,
    "start_time": "2022-03-19T19:14:17.189Z"
   },
   {
    "duration": 13,
    "start_time": "2022-03-19T19:15:43.013Z"
   },
   {
    "duration": 102,
    "start_time": "2022-03-19T19:16:31.524Z"
   },
   {
    "duration": 1462,
    "start_time": "2022-03-19T19:17:05.446Z"
   },
   {
    "duration": 508,
    "start_time": "2022-03-19T19:17:06.911Z"
   },
   {
    "duration": 36,
    "start_time": "2022-03-19T19:17:07.422Z"
   },
   {
    "duration": 23,
    "start_time": "2022-03-19T19:17:07.460Z"
   },
   {
    "duration": 5,
    "start_time": "2022-03-19T19:17:07.487Z"
   },
   {
    "duration": 33,
    "start_time": "2022-03-19T19:17:07.494Z"
   },
   {
    "duration": 13,
    "start_time": "2022-03-19T19:17:07.529Z"
   },
   {
    "duration": 35,
    "start_time": "2022-03-19T19:17:07.544Z"
   },
   {
    "duration": 34,
    "start_time": "2022-03-19T19:17:07.581Z"
   },
   {
    "duration": 12,
    "start_time": "2022-03-19T19:17:07.617Z"
   },
   {
    "duration": 8,
    "start_time": "2022-03-19T19:17:07.631Z"
   },
   {
    "duration": 16,
    "start_time": "2022-03-19T19:17:07.675Z"
   },
   {
    "duration": 14,
    "start_time": "2022-03-19T19:17:07.693Z"
   },
   {
    "duration": 5,
    "start_time": "2022-03-19T19:17:07.712Z"
   },
   {
    "duration": 56,
    "start_time": "2022-03-19T19:17:07.719Z"
   },
   {
    "duration": 18,
    "start_time": "2022-03-19T19:17:07.777Z"
   },
   {
    "duration": 7,
    "start_time": "2022-03-19T19:17:07.797Z"
   },
   {
    "duration": 28,
    "start_time": "2022-03-19T19:17:07.807Z"
   },
   {
    "duration": 82,
    "start_time": "2022-03-19T19:17:07.838Z"
   },
   {
    "duration": 8,
    "start_time": "2022-03-19T19:17:07.923Z"
   },
   {
    "duration": 63,
    "start_time": "2022-03-19T19:17:07.933Z"
   },
   {
    "duration": 23,
    "start_time": "2022-03-19T19:17:08.000Z"
   },
   {
    "duration": 59,
    "start_time": "2022-03-19T19:17:08.025Z"
   },
   {
    "duration": 8,
    "start_time": "2022-03-19T19:17:08.086Z"
   },
   {
    "duration": 44,
    "start_time": "2022-03-19T19:17:08.096Z"
   },
   {
    "duration": 41,
    "start_time": "2022-03-19T19:17:08.142Z"
   },
   {
    "duration": 28,
    "start_time": "2022-03-19T19:17:08.185Z"
   },
   {
    "duration": 7,
    "start_time": "2022-03-19T19:17:08.215Z"
   },
   {
    "duration": 53,
    "start_time": "2022-03-19T19:17:08.225Z"
   },
   {
    "duration": 10,
    "start_time": "2022-03-19T19:17:08.280Z"
   },
   {
    "duration": 14,
    "start_time": "2022-03-19T19:17:08.293Z"
   },
   {
    "duration": 12,
    "start_time": "2022-03-19T19:17:08.310Z"
   },
   {
    "duration": 50,
    "start_time": "2022-03-19T19:17:08.325Z"
   },
   {
    "duration": 6,
    "start_time": "2022-03-19T19:17:08.377Z"
   },
   {
    "duration": 10,
    "start_time": "2022-03-19T19:17:08.385Z"
   },
   {
    "duration": 7,
    "start_time": "2022-03-19T19:17:08.398Z"
   },
   {
    "duration": 10,
    "start_time": "2022-03-19T19:17:08.408Z"
   },
   {
    "duration": 55,
    "start_time": "2022-03-19T19:17:08.420Z"
   },
   {
    "duration": 12,
    "start_time": "2022-03-19T19:17:08.477Z"
   },
   {
    "duration": 7,
    "start_time": "2022-03-19T19:17:08.491Z"
   },
   {
    "duration": 12,
    "start_time": "2022-03-19T19:17:08.506Z"
   },
   {
    "duration": 14,
    "start_time": "2022-03-19T19:17:08.521Z"
   },
   {
    "duration": 40,
    "start_time": "2022-03-19T19:17:08.538Z"
   },
   {
    "duration": 11,
    "start_time": "2022-03-19T19:17:08.580Z"
   },
   {
    "duration": 35,
    "start_time": "2022-03-19T19:17:08.594Z"
   },
   {
    "duration": 46,
    "start_time": "2022-03-19T19:17:08.631Z"
   },
   {
    "duration": 50,
    "start_time": "2022-03-19T19:17:08.679Z"
   },
   {
    "duration": 14,
    "start_time": "2022-03-19T19:17:08.731Z"
   },
   {
    "duration": 29,
    "start_time": "2022-03-19T19:17:08.748Z"
   },
   {
    "duration": 13,
    "start_time": "2022-03-19T19:17:08.779Z"
   },
   {
    "duration": 27,
    "start_time": "2022-03-19T19:17:08.795Z"
   },
   {
    "duration": 15,
    "start_time": "2022-03-19T19:17:08.825Z"
   },
   {
    "duration": 40,
    "start_time": "2022-03-19T19:17:08.875Z"
   },
   {
    "duration": 13,
    "start_time": "2022-03-19T19:17:08.918Z"
   },
   {
    "duration": 9,
    "start_time": "2022-03-19T19:17:08.934Z"
   },
   {
    "duration": 11,
    "start_time": "2022-03-19T19:17:08.974Z"
   },
   {
    "duration": 25,
    "start_time": "2022-03-19T19:17:08.987Z"
   },
   {
    "duration": 11,
    "start_time": "2022-03-19T19:17:09.014Z"
   },
   {
    "duration": 59,
    "start_time": "2022-03-19T19:17:09.028Z"
   },
   {
    "duration": 11,
    "start_time": "2022-03-19T19:17:09.090Z"
   },
   {
    "duration": 8,
    "start_time": "2022-03-19T19:17:09.103Z"
   },
   {
    "duration": 15,
    "start_time": "2022-03-19T19:17:09.113Z"
   },
   {
    "duration": 11,
    "start_time": "2022-03-19T19:17:09.130Z"
   },
   {
    "duration": 36,
    "start_time": "2022-03-19T19:17:09.144Z"
   },
   {
    "duration": 15,
    "start_time": "2022-03-19T19:17:09.182Z"
   },
   {
    "duration": 8,
    "start_time": "2022-03-19T19:17:09.199Z"
   },
   {
    "duration": 15,
    "start_time": "2022-03-19T19:17:09.210Z"
   },
   {
    "duration": 12,
    "start_time": "2022-03-19T19:17:09.227Z"
   },
   {
    "duration": 24,
    "start_time": "2022-03-19T19:21:19.579Z"
   },
   {
    "duration": 9,
    "start_time": "2022-03-19T19:21:25.889Z"
   },
   {
    "duration": 14,
    "start_time": "2022-03-19T19:35:33.907Z"
   },
   {
    "duration": 12,
    "start_time": "2022-03-19T19:35:34.373Z"
   },
   {
    "duration": 15,
    "start_time": "2022-03-19T19:35:34.870Z"
   },
   {
    "duration": 10,
    "start_time": "2022-03-19T19:35:40.481Z"
   },
   {
    "duration": 1456,
    "start_time": "2022-03-19T23:22:22.829Z"
   },
   {
    "duration": 519,
    "start_time": "2022-03-19T23:22:24.288Z"
   },
   {
    "duration": 36,
    "start_time": "2022-03-19T23:22:24.809Z"
   },
   {
    "duration": 27,
    "start_time": "2022-03-19T23:22:24.848Z"
   },
   {
    "duration": 6,
    "start_time": "2022-03-19T23:22:24.877Z"
   },
   {
    "duration": 34,
    "start_time": "2022-03-19T23:22:24.885Z"
   },
   {
    "duration": 14,
    "start_time": "2022-03-19T23:22:24.921Z"
   },
   {
    "duration": 40,
    "start_time": "2022-03-19T23:22:24.937Z"
   },
   {
    "duration": 29,
    "start_time": "2022-03-19T23:22:24.980Z"
   },
   {
    "duration": 10,
    "start_time": "2022-03-19T23:22:25.013Z"
   },
   {
    "duration": 50,
    "start_time": "2022-03-19T23:22:25.025Z"
   },
   {
    "duration": 18,
    "start_time": "2022-03-19T23:22:25.077Z"
   },
   {
    "duration": 15,
    "start_time": "2022-03-19T23:22:25.097Z"
   },
   {
    "duration": 7,
    "start_time": "2022-03-19T23:22:25.114Z"
   },
   {
    "duration": 52,
    "start_time": "2022-03-19T23:22:25.123Z"
   },
   {
    "duration": 17,
    "start_time": "2022-03-19T23:22:25.177Z"
   },
   {
    "duration": 7,
    "start_time": "2022-03-19T23:22:25.196Z"
   },
   {
    "duration": 34,
    "start_time": "2022-03-19T23:22:25.205Z"
   },
   {
    "duration": 81,
    "start_time": "2022-03-19T23:22:25.241Z"
   },
   {
    "duration": 6,
    "start_time": "2022-03-19T23:22:25.325Z"
   },
   {
    "duration": 61,
    "start_time": "2022-03-19T23:22:25.333Z"
   },
   {
    "duration": 33,
    "start_time": "2022-03-19T23:22:25.397Z"
   },
   {
    "duration": 56,
    "start_time": "2022-03-19T23:22:25.432Z"
   },
   {
    "duration": 7,
    "start_time": "2022-03-19T23:22:25.490Z"
   },
   {
    "duration": 55,
    "start_time": "2022-03-19T23:22:25.499Z"
   },
   {
    "duration": 33,
    "start_time": "2022-03-19T23:22:25.557Z"
   },
   {
    "duration": 31,
    "start_time": "2022-03-19T23:22:25.593Z"
   },
   {
    "duration": 7,
    "start_time": "2022-03-19T23:22:25.632Z"
   },
   {
    "duration": 52,
    "start_time": "2022-03-19T23:22:25.641Z"
   },
   {
    "duration": 8,
    "start_time": "2022-03-19T23:22:25.695Z"
   },
   {
    "duration": 20,
    "start_time": "2022-03-19T23:22:25.705Z"
   },
   {
    "duration": 13,
    "start_time": "2022-03-19T23:22:25.727Z"
   },
   {
    "duration": 14,
    "start_time": "2022-03-19T23:22:25.775Z"
   },
   {
    "duration": 4,
    "start_time": "2022-03-19T23:22:25.792Z"
   },
   {
    "duration": 9,
    "start_time": "2022-03-19T23:22:25.798Z"
   },
   {
    "duration": 6,
    "start_time": "2022-03-19T23:22:25.809Z"
   },
   {
    "duration": 11,
    "start_time": "2022-03-19T23:22:25.817Z"
   },
   {
    "duration": 59,
    "start_time": "2022-03-19T23:22:25.831Z"
   },
   {
    "duration": 13,
    "start_time": "2022-03-19T23:22:25.893Z"
   },
   {
    "duration": 10,
    "start_time": "2022-03-19T23:22:25.909Z"
   },
   {
    "duration": 14,
    "start_time": "2022-03-19T23:22:25.921Z"
   },
   {
    "duration": 13,
    "start_time": "2022-03-19T23:22:25.975Z"
   },
   {
    "duration": 8,
    "start_time": "2022-03-19T23:22:25.991Z"
   },
   {
    "duration": 11,
    "start_time": "2022-03-19T23:22:26.001Z"
   },
   {
    "duration": 73,
    "start_time": "2022-03-19T23:22:26.014Z"
   },
   {
    "duration": 13,
    "start_time": "2022-03-19T23:22:26.089Z"
   },
   {
    "duration": 50,
    "start_time": "2022-03-19T23:22:26.104Z"
   },
   {
    "duration": 13,
    "start_time": "2022-03-19T23:22:26.173Z"
   },
   {
    "duration": 8,
    "start_time": "2022-03-19T23:22:26.188Z"
   },
   {
    "duration": 14,
    "start_time": "2022-03-19T23:22:26.198Z"
   },
   {
    "duration": 28,
    "start_time": "2022-03-19T23:22:26.214Z"
   },
   {
    "duration": 40,
    "start_time": "2022-03-19T23:22:26.245Z"
   },
   {
    "duration": 41,
    "start_time": "2022-03-19T23:22:26.288Z"
   },
   {
    "duration": 43,
    "start_time": "2022-03-19T23:22:26.331Z"
   },
   {
    "duration": 3,
    "start_time": "2022-03-19T23:22:26.377Z"
   },
   {
    "duration": 15,
    "start_time": "2022-03-19T23:22:26.383Z"
   },
   {
    "duration": 23,
    "start_time": "2022-03-19T23:22:26.401Z"
   },
   {
    "duration": 12,
    "start_time": "2022-03-19T23:22:26.427Z"
   },
   {
    "duration": 33,
    "start_time": "2022-03-19T23:22:26.473Z"
   },
   {
    "duration": 13,
    "start_time": "2022-03-19T23:22:26.508Z"
   },
   {
    "duration": 6,
    "start_time": "2022-03-19T23:22:26.524Z"
   },
   {
    "duration": 47,
    "start_time": "2022-03-19T23:22:26.532Z"
   },
   {
    "duration": 13,
    "start_time": "2022-03-19T23:22:26.582Z"
   },
   {
    "duration": 11,
    "start_time": "2022-03-19T23:22:26.598Z"
   },
   {
    "duration": 15,
    "start_time": "2022-03-19T23:22:26.611Z"
   },
   {
    "duration": 48,
    "start_time": "2022-03-19T23:22:26.628Z"
   },
   {
    "duration": 3,
    "start_time": "2022-03-19T23:22:26.678Z"
   },
   {
    "duration": 7,
    "start_time": "2022-03-19T23:22:26.683Z"
   },
   {
    "duration": 6,
    "start_time": "2022-03-19T23:22:26.693Z"
   },
   {
    "duration": 5,
    "start_time": "2022-03-19T23:25:28.732Z"
   },
   {
    "duration": 20,
    "start_time": "2022-03-19T23:25:45.779Z"
   },
   {
    "duration": 9,
    "start_time": "2022-03-19T23:25:55.500Z"
   },
   {
    "duration": 1384,
    "start_time": "2022-03-19T23:26:05.420Z"
   },
   {
    "duration": 599,
    "start_time": "2022-03-19T23:26:06.807Z"
   },
   {
    "duration": 38,
    "start_time": "2022-03-19T23:26:07.408Z"
   },
   {
    "duration": 27,
    "start_time": "2022-03-19T23:26:07.450Z"
   },
   {
    "duration": 6,
    "start_time": "2022-03-19T23:26:07.479Z"
   },
   {
    "duration": 32,
    "start_time": "2022-03-19T23:26:07.487Z"
   },
   {
    "duration": 15,
    "start_time": "2022-03-19T23:26:07.522Z"
   },
   {
    "duration": 45,
    "start_time": "2022-03-19T23:26:07.539Z"
   },
   {
    "duration": 33,
    "start_time": "2022-03-19T23:26:07.586Z"
   },
   {
    "duration": 11,
    "start_time": "2022-03-19T23:26:07.623Z"
   },
   {
    "duration": 9,
    "start_time": "2022-03-19T23:26:07.636Z"
   },
   {
    "duration": 16,
    "start_time": "2022-03-19T23:26:07.674Z"
   },
   {
    "duration": 14,
    "start_time": "2022-03-19T23:26:07.693Z"
   },
   {
    "duration": 8,
    "start_time": "2022-03-19T23:26:07.710Z"
   },
   {
    "duration": 54,
    "start_time": "2022-03-19T23:26:07.720Z"
   },
   {
    "duration": 16,
    "start_time": "2022-03-19T23:26:07.776Z"
   },
   {
    "duration": 6,
    "start_time": "2022-03-19T23:26:07.794Z"
   },
   {
    "duration": 29,
    "start_time": "2022-03-19T23:26:07.802Z"
   },
   {
    "duration": 79,
    "start_time": "2022-03-19T23:26:07.833Z"
   },
   {
    "duration": 7,
    "start_time": "2022-03-19T23:26:07.914Z"
   },
   {
    "duration": 63,
    "start_time": "2022-03-19T23:26:07.923Z"
   },
   {
    "duration": 21,
    "start_time": "2022-03-19T23:26:07.988Z"
   },
   {
    "duration": 33,
    "start_time": "2022-03-19T23:26:08.011Z"
   },
   {
    "duration": 29,
    "start_time": "2022-03-19T23:26:08.047Z"
   },
   {
    "duration": 45,
    "start_time": "2022-03-19T23:26:08.078Z"
   },
   {
    "duration": 20,
    "start_time": "2022-03-19T23:26:08.125Z"
   },
   {
    "duration": 52,
    "start_time": "2022-03-19T23:26:08.148Z"
   },
   {
    "duration": 7,
    "start_time": "2022-03-19T23:26:08.206Z"
   },
   {
    "duration": 21,
    "start_time": "2022-03-19T23:26:08.215Z"
   },
   {
    "duration": 39,
    "start_time": "2022-03-19T23:26:08.238Z"
   },
   {
    "duration": 16,
    "start_time": "2022-03-19T23:26:08.279Z"
   },
   {
    "duration": 17,
    "start_time": "2022-03-19T23:26:08.297Z"
   },
   {
    "duration": 21,
    "start_time": "2022-03-19T23:26:08.316Z"
   },
   {
    "duration": 5,
    "start_time": "2022-03-19T23:26:08.339Z"
   },
   {
    "duration": 33,
    "start_time": "2022-03-19T23:26:08.346Z"
   },
   {
    "duration": 8,
    "start_time": "2022-03-19T23:26:08.382Z"
   },
   {
    "duration": 13,
    "start_time": "2022-03-19T23:26:08.391Z"
   },
   {
    "duration": 23,
    "start_time": "2022-03-19T23:26:08.406Z"
   },
   {
    "duration": 12,
    "start_time": "2022-03-19T23:26:08.431Z"
   },
   {
    "duration": 7,
    "start_time": "2022-03-19T23:26:08.473Z"
   },
   {
    "duration": 12,
    "start_time": "2022-03-19T23:26:08.482Z"
   },
   {
    "duration": 15,
    "start_time": "2022-03-19T23:26:08.496Z"
   },
   {
    "duration": 11,
    "start_time": "2022-03-19T23:26:08.514Z"
   },
   {
    "duration": 11,
    "start_time": "2022-03-19T23:26:08.528Z"
   },
   {
    "duration": 33,
    "start_time": "2022-03-19T23:26:08.573Z"
   },
   {
    "duration": 14,
    "start_time": "2022-03-19T23:26:08.608Z"
   },
   {
    "duration": 72,
    "start_time": "2022-03-19T23:26:08.624Z"
   },
   {
    "duration": 12,
    "start_time": "2022-03-19T23:26:08.698Z"
   },
   {
    "duration": 6,
    "start_time": "2022-03-19T23:26:08.712Z"
   },
   {
    "duration": 14,
    "start_time": "2022-03-19T23:26:08.720Z"
   },
   {
    "duration": 50,
    "start_time": "2022-03-19T23:26:08.736Z"
   },
   {
    "duration": 14,
    "start_time": "2022-03-19T23:26:08.789Z"
   },
   {
    "duration": 67,
    "start_time": "2022-03-19T23:26:08.806Z"
   },
   {
    "duration": 13,
    "start_time": "2022-03-19T23:26:08.876Z"
   },
   {
    "duration": 8,
    "start_time": "2022-03-19T23:26:08.892Z"
   },
   {
    "duration": 13,
    "start_time": "2022-03-19T23:26:08.902Z"
   },
   {
    "duration": 22,
    "start_time": "2022-03-19T23:26:08.917Z"
   },
   {
    "duration": 12,
    "start_time": "2022-03-19T23:26:08.974Z"
   },
   {
    "duration": 31,
    "start_time": "2022-03-19T23:26:08.989Z"
   },
   {
    "duration": 12,
    "start_time": "2022-03-19T23:26:09.023Z"
   },
   {
    "duration": 4,
    "start_time": "2022-03-19T23:26:09.073Z"
   },
   {
    "duration": 12,
    "start_time": "2022-03-19T23:26:09.080Z"
   },
   {
    "duration": 13,
    "start_time": "2022-03-19T23:26:09.094Z"
   },
   {
    "duration": 10,
    "start_time": "2022-03-19T23:26:09.109Z"
   },
   {
    "duration": 53,
    "start_time": "2022-03-19T23:26:09.121Z"
   },
   {
    "duration": 9,
    "start_time": "2022-03-19T23:26:09.176Z"
   },
   {
    "duration": 6,
    "start_time": "2022-03-19T23:26:09.188Z"
   },
   {
    "duration": 8,
    "start_time": "2022-03-19T23:26:09.197Z"
   },
   {
    "duration": 8,
    "start_time": "2022-03-19T23:26:09.207Z"
   },
   {
    "duration": 5,
    "start_time": "2022-03-19T23:26:09.217Z"
   },
   {
    "duration": 6,
    "start_time": "2022-03-19T23:26:09.224Z"
   },
   {
    "duration": 23,
    "start_time": "2022-03-19T23:31:58.454Z"
   },
   {
    "duration": 1400,
    "start_time": "2022-03-19T23:32:19.873Z"
   },
   {
    "duration": 508,
    "start_time": "2022-03-19T23:32:21.275Z"
   },
   {
    "duration": 36,
    "start_time": "2022-03-19T23:32:21.785Z"
   },
   {
    "duration": 18,
    "start_time": "2022-03-19T23:32:21.824Z"
   },
   {
    "duration": 30,
    "start_time": "2022-03-19T23:32:21.844Z"
   },
   {
    "duration": 32,
    "start_time": "2022-03-19T23:32:21.876Z"
   },
   {
    "duration": 13,
    "start_time": "2022-03-19T23:32:21.911Z"
   },
   {
    "duration": 11,
    "start_time": "2022-03-19T23:32:21.926Z"
   },
   {
    "duration": 54,
    "start_time": "2022-03-19T23:32:21.939Z"
   },
   {
    "duration": 29,
    "start_time": "2022-03-19T23:32:21.997Z"
   },
   {
    "duration": 22,
    "start_time": "2022-03-19T23:32:22.029Z"
   },
   {
    "duration": 43,
    "start_time": "2022-03-19T23:32:22.053Z"
   },
   {
    "duration": 34,
    "start_time": "2022-03-19T23:32:22.098Z"
   },
   {
    "duration": 10,
    "start_time": "2022-03-19T23:32:22.135Z"
   },
   {
    "duration": 31,
    "start_time": "2022-03-19T23:32:22.147Z"
   },
   {
    "duration": 27,
    "start_time": "2022-03-19T23:32:22.180Z"
   },
   {
    "duration": 20,
    "start_time": "2022-03-19T23:32:22.209Z"
   },
   {
    "duration": 43,
    "start_time": "2022-03-19T23:32:22.231Z"
   },
   {
    "duration": 50,
    "start_time": "2022-03-19T23:32:22.276Z"
   },
   {
    "duration": 6,
    "start_time": "2022-03-19T23:32:22.329Z"
   },
   {
    "duration": 62,
    "start_time": "2022-03-19T23:32:22.338Z"
   },
   {
    "duration": 23,
    "start_time": "2022-03-19T23:32:22.402Z"
   },
   {
    "duration": 58,
    "start_time": "2022-03-19T23:32:22.427Z"
   },
   {
    "duration": 8,
    "start_time": "2022-03-19T23:32:22.487Z"
   },
   {
    "duration": 45,
    "start_time": "2022-03-19T23:32:22.497Z"
   },
   {
    "duration": 36,
    "start_time": "2022-03-19T23:32:22.544Z"
   },
   {
    "duration": 29,
    "start_time": "2022-03-19T23:32:22.582Z"
   },
   {
    "duration": 7,
    "start_time": "2022-03-19T23:32:22.618Z"
   },
   {
    "duration": 55,
    "start_time": "2022-03-19T23:32:22.627Z"
   },
   {
    "duration": 8,
    "start_time": "2022-03-19T23:32:22.684Z"
   },
   {
    "duration": 22,
    "start_time": "2022-03-19T23:32:22.694Z"
   },
   {
    "duration": 15,
    "start_time": "2022-03-19T23:32:22.718Z"
   },
   {
    "duration": 32,
    "start_time": "2022-03-19T23:32:22.735Z"
   },
   {
    "duration": 4,
    "start_time": "2022-03-19T23:32:22.773Z"
   },
   {
    "duration": 14,
    "start_time": "2022-03-19T23:32:22.779Z"
   },
   {
    "duration": 27,
    "start_time": "2022-03-19T23:32:22.795Z"
   },
   {
    "duration": 24,
    "start_time": "2022-03-19T23:32:22.825Z"
   },
   {
    "duration": 41,
    "start_time": "2022-03-19T23:32:22.851Z"
   },
   {
    "duration": 17,
    "start_time": "2022-03-19T23:32:22.894Z"
   },
   {
    "duration": 15,
    "start_time": "2022-03-19T23:32:22.913Z"
   },
   {
    "duration": 22,
    "start_time": "2022-03-19T23:32:22.930Z"
   },
   {
    "duration": 32,
    "start_time": "2022-03-19T23:32:22.954Z"
   },
   {
    "duration": 17,
    "start_time": "2022-03-19T23:32:22.988Z"
   },
   {
    "duration": 37,
    "start_time": "2022-03-19T23:32:23.007Z"
   },
   {
    "duration": 48,
    "start_time": "2022-03-19T23:32:23.046Z"
   },
   {
    "duration": 13,
    "start_time": "2022-03-19T23:32:23.096Z"
   },
   {
    "duration": 68,
    "start_time": "2022-03-19T23:32:23.112Z"
   },
   {
    "duration": 13,
    "start_time": "2022-03-19T23:32:23.182Z"
   },
   {
    "duration": 27,
    "start_time": "2022-03-19T23:32:23.197Z"
   },
   {
    "duration": 24,
    "start_time": "2022-03-19T23:32:23.226Z"
   },
   {
    "duration": 33,
    "start_time": "2022-03-19T23:32:23.252Z"
   },
   {
    "duration": 13,
    "start_time": "2022-03-19T23:32:23.287Z"
   },
   {
    "duration": 52,
    "start_time": "2022-03-19T23:32:23.303Z"
   },
   {
    "duration": 21,
    "start_time": "2022-03-19T23:32:23.357Z"
   },
   {
    "duration": 8,
    "start_time": "2022-03-19T23:32:23.381Z"
   },
   {
    "duration": 30,
    "start_time": "2022-03-19T23:32:23.391Z"
   },
   {
    "duration": 37,
    "start_time": "2022-03-19T23:32:23.423Z"
   },
   {
    "duration": 16,
    "start_time": "2022-03-19T23:32:23.462Z"
   },
   {
    "duration": 49,
    "start_time": "2022-03-19T23:32:23.480Z"
   },
   {
    "duration": 12,
    "start_time": "2022-03-19T23:32:23.531Z"
   },
   {
    "duration": 8,
    "start_time": "2022-03-19T23:32:23.544Z"
   },
   {
    "duration": 31,
    "start_time": "2022-03-19T23:32:23.554Z"
   },
   {
    "duration": 27,
    "start_time": "2022-03-19T23:32:23.588Z"
   },
   {
    "duration": 17,
    "start_time": "2022-03-19T23:32:23.618Z"
   },
   {
    "duration": 14,
    "start_time": "2022-03-19T23:32:23.638Z"
   },
   {
    "duration": 19,
    "start_time": "2022-03-19T23:32:23.654Z"
   },
   {
    "duration": 32,
    "start_time": "2022-03-19T23:32:23.675Z"
   },
   {
    "duration": 12,
    "start_time": "2022-03-19T23:32:23.709Z"
   },
   {
    "duration": 42,
    "start_time": "2022-03-19T23:32:23.724Z"
   },
   {
    "duration": 11,
    "start_time": "2022-03-19T23:32:23.768Z"
   },
   {
    "duration": 21,
    "start_time": "2022-03-19T23:32:23.782Z"
   },
   {
    "duration": 26,
    "start_time": "2022-03-19T23:32:23.805Z"
   },
   {
    "duration": 11,
    "start_time": "2022-03-19T23:32:23.834Z"
   },
   {
    "duration": 13,
    "start_time": "2022-03-19T23:42:30.269Z"
   },
   {
    "duration": 10,
    "start_time": "2022-03-19T23:43:56.308Z"
   },
   {
    "duration": 17,
    "start_time": "2022-03-19T23:45:32.849Z"
   },
   {
    "duration": 11,
    "start_time": "2022-03-19T23:46:29.396Z"
   },
   {
    "duration": 1440,
    "start_time": "2022-03-19T23:46:42.653Z"
   },
   {
    "duration": 531,
    "start_time": "2022-03-19T23:46:44.096Z"
   },
   {
    "duration": 36,
    "start_time": "2022-03-19T23:46:44.629Z"
   },
   {
    "duration": 19,
    "start_time": "2022-03-19T23:46:44.669Z"
   },
   {
    "duration": 6,
    "start_time": "2022-03-19T23:46:44.691Z"
   },
   {
    "duration": 32,
    "start_time": "2022-03-19T23:46:44.700Z"
   },
   {
    "duration": 42,
    "start_time": "2022-03-19T23:46:44.734Z"
   },
   {
    "duration": 13,
    "start_time": "2022-03-19T23:46:44.779Z"
   },
   {
    "duration": 32,
    "start_time": "2022-03-19T23:46:44.794Z"
   },
   {
    "duration": 11,
    "start_time": "2022-03-19T23:46:44.830Z"
   },
   {
    "duration": 30,
    "start_time": "2022-03-19T23:46:44.843Z"
   },
   {
    "duration": 15,
    "start_time": "2022-03-19T23:46:44.875Z"
   },
   {
    "duration": 18,
    "start_time": "2022-03-19T23:46:44.892Z"
   },
   {
    "duration": 5,
    "start_time": "2022-03-19T23:46:44.912Z"
   },
   {
    "duration": 16,
    "start_time": "2022-03-19T23:46:44.920Z"
   },
   {
    "duration": 48,
    "start_time": "2022-03-19T23:46:44.938Z"
   },
   {
    "duration": 11,
    "start_time": "2022-03-19T23:46:44.988Z"
   },
   {
    "duration": 54,
    "start_time": "2022-03-19T23:46:45.002Z"
   },
   {
    "duration": 51,
    "start_time": "2022-03-19T23:46:45.058Z"
   },
   {
    "duration": 8,
    "start_time": "2022-03-19T23:46:45.111Z"
   },
   {
    "duration": 63,
    "start_time": "2022-03-19T23:46:45.121Z"
   },
   {
    "duration": 24,
    "start_time": "2022-03-19T23:46:45.187Z"
   },
   {
    "duration": 60,
    "start_time": "2022-03-19T23:46:45.214Z"
   },
   {
    "duration": 8,
    "start_time": "2022-03-19T23:46:45.276Z"
   },
   {
    "duration": 43,
    "start_time": "2022-03-19T23:46:45.287Z"
   },
   {
    "duration": 43,
    "start_time": "2022-03-19T23:46:45.333Z"
   },
   {
    "duration": 30,
    "start_time": "2022-03-19T23:46:45.379Z"
   },
   {
    "duration": 7,
    "start_time": "2022-03-19T23:46:45.416Z"
   },
   {
    "duration": 50,
    "start_time": "2022-03-19T23:46:45.425Z"
   },
   {
    "duration": 9,
    "start_time": "2022-03-19T23:46:45.477Z"
   },
   {
    "duration": 13,
    "start_time": "2022-03-19T23:46:45.488Z"
   },
   {
    "duration": 10,
    "start_time": "2022-03-19T23:46:45.503Z"
   },
   {
    "duration": 16,
    "start_time": "2022-03-19T23:46:45.515Z"
   },
   {
    "duration": 4,
    "start_time": "2022-03-19T23:46:45.533Z"
   },
   {
    "duration": 7,
    "start_time": "2022-03-19T23:46:45.574Z"
   },
   {
    "duration": 7,
    "start_time": "2022-03-19T23:46:45.583Z"
   },
   {
    "duration": 10,
    "start_time": "2022-03-19T23:46:45.592Z"
   },
   {
    "duration": 20,
    "start_time": "2022-03-19T23:46:45.604Z"
   },
   {
    "duration": 47,
    "start_time": "2022-03-19T23:46:45.627Z"
   },
   {
    "duration": 6,
    "start_time": "2022-03-19T23:46:45.677Z"
   },
   {
    "duration": 14,
    "start_time": "2022-03-19T23:46:45.685Z"
   },
   {
    "duration": 14,
    "start_time": "2022-03-19T23:46:45.701Z"
   },
   {
    "duration": 11,
    "start_time": "2022-03-19T23:46:45.717Z"
   },
   {
    "duration": 45,
    "start_time": "2022-03-19T23:46:45.730Z"
   },
   {
    "duration": 33,
    "start_time": "2022-03-19T23:46:45.777Z"
   },
   {
    "duration": 13,
    "start_time": "2022-03-19T23:46:45.812Z"
   },
   {
    "duration": 72,
    "start_time": "2022-03-19T23:46:45.827Z"
   },
   {
    "duration": 12,
    "start_time": "2022-03-19T23:46:45.902Z"
   },
   {
    "duration": 6,
    "start_time": "2022-03-19T23:46:45.916Z"
   },
   {
    "duration": 13,
    "start_time": "2022-03-19T23:46:45.924Z"
   },
   {
    "duration": 52,
    "start_time": "2022-03-19T23:46:45.939Z"
   },
   {
    "duration": 13,
    "start_time": "2022-03-19T23:46:45.994Z"
   },
   {
    "duration": 42,
    "start_time": "2022-03-19T23:46:46.009Z"
   },
   {
    "duration": 29,
    "start_time": "2022-03-19T23:46:46.053Z"
   },
   {
    "duration": 9,
    "start_time": "2022-03-19T23:46:46.084Z"
   },
   {
    "duration": 12,
    "start_time": "2022-03-19T23:46:46.095Z"
   },
   {
    "duration": 24,
    "start_time": "2022-03-19T23:46:46.109Z"
   },
   {
    "duration": 11,
    "start_time": "2022-03-19T23:46:46.135Z"
   },
   {
    "duration": 29,
    "start_time": "2022-03-19T23:46:46.174Z"
   },
   {
    "duration": 12,
    "start_time": "2022-03-19T23:46:46.205Z"
   },
   {
    "duration": 6,
    "start_time": "2022-03-19T23:46:46.219Z"
   },
   {
    "duration": 11,
    "start_time": "2022-03-19T23:46:46.227Z"
   },
   {
    "duration": 13,
    "start_time": "2022-03-19T23:46:46.274Z"
   },
   {
    "duration": 10,
    "start_time": "2022-03-19T23:46:46.289Z"
   },
   {
    "duration": 13,
    "start_time": "2022-03-19T23:46:46.301Z"
   },
   {
    "duration": 15,
    "start_time": "2022-03-19T23:46:46.315Z"
   },
   {
    "duration": 43,
    "start_time": "2022-03-19T23:46:46.332Z"
   },
   {
    "duration": 4,
    "start_time": "2022-03-19T23:46:46.377Z"
   },
   {
    "duration": 15,
    "start_time": "2022-03-19T23:46:46.383Z"
   },
   {
    "duration": 10,
    "start_time": "2022-03-19T23:46:46.400Z"
   },
   {
    "duration": 16,
    "start_time": "2022-03-19T23:46:46.412Z"
   },
   {
    "duration": 5,
    "start_time": "2022-03-20T00:15:20.301Z"
   },
   {
    "duration": 6,
    "start_time": "2022-03-20T00:16:11.506Z"
   },
   {
    "duration": 8,
    "start_time": "2022-03-20T00:16:12.123Z"
   },
   {
    "duration": 27,
    "start_time": "2022-03-20T00:16:34.762Z"
   },
   {
    "duration": 1353,
    "start_time": "2022-03-20T00:17:03.543Z"
   },
   {
    "duration": 491,
    "start_time": "2022-03-20T00:17:04.898Z"
   },
   {
    "duration": 36,
    "start_time": "2022-03-20T00:17:05.391Z"
   },
   {
    "duration": 17,
    "start_time": "2022-03-20T00:17:05.429Z"
   },
   {
    "duration": 24,
    "start_time": "2022-03-20T00:17:05.449Z"
   },
   {
    "duration": 30,
    "start_time": "2022-03-20T00:17:05.476Z"
   },
   {
    "duration": 13,
    "start_time": "2022-03-20T00:17:05.508Z"
   },
   {
    "duration": 6,
    "start_time": "2022-03-20T00:17:05.523Z"
   },
   {
    "duration": 64,
    "start_time": "2022-03-20T00:17:05.531Z"
   },
   {
    "duration": 11,
    "start_time": "2022-03-20T00:17:05.597Z"
   },
   {
    "duration": 7,
    "start_time": "2022-03-20T00:17:05.610Z"
   },
   {
    "duration": 22,
    "start_time": "2022-03-20T00:17:05.619Z"
   },
   {
    "duration": 42,
    "start_time": "2022-03-20T00:17:05.643Z"
   },
   {
    "duration": 7,
    "start_time": "2022-03-20T00:17:05.689Z"
   },
   {
    "duration": 17,
    "start_time": "2022-03-20T00:17:05.698Z"
   },
   {
    "duration": 19,
    "start_time": "2022-03-20T00:17:05.717Z"
   },
   {
    "duration": 36,
    "start_time": "2022-03-20T00:17:05.739Z"
   },
   {
    "duration": 28,
    "start_time": "2022-03-20T00:17:05.778Z"
   },
   {
    "duration": 74,
    "start_time": "2022-03-20T00:17:05.808Z"
   },
   {
    "duration": 7,
    "start_time": "2022-03-20T00:17:05.884Z"
   },
   {
    "duration": 43,
    "start_time": "2022-03-20T00:17:05.893Z"
   },
   {
    "duration": 38,
    "start_time": "2022-03-20T00:17:05.938Z"
   },
   {
    "duration": 36,
    "start_time": "2022-03-20T00:17:05.978Z"
   },
   {
    "duration": 7,
    "start_time": "2022-03-20T00:17:06.015Z"
   },
   {
    "duration": 70,
    "start_time": "2022-03-20T00:17:06.024Z"
   },
   {
    "duration": 19,
    "start_time": "2022-03-20T00:17:06.096Z"
   },
   {
    "duration": 30,
    "start_time": "2022-03-20T00:17:06.117Z"
   },
   {
    "duration": 27,
    "start_time": "2022-03-20T00:17:06.149Z"
   },
   {
    "duration": 24,
    "start_time": "2022-03-20T00:17:06.178Z"
   },
   {
    "duration": 8,
    "start_time": "2022-03-20T00:17:06.204Z"
   },
   {
    "duration": 18,
    "start_time": "2022-03-20T00:17:06.214Z"
   },
   {
    "duration": 24,
    "start_time": "2022-03-20T00:17:06.234Z"
   },
   {
    "duration": 15,
    "start_time": "2022-03-20T00:17:06.273Z"
   },
   {
    "duration": 4,
    "start_time": "2022-03-20T00:17:06.290Z"
   },
   {
    "duration": 9,
    "start_time": "2022-03-20T00:17:06.296Z"
   },
   {
    "duration": 8,
    "start_time": "2022-03-20T00:17:06.307Z"
   },
   {
    "duration": 10,
    "start_time": "2022-03-20T00:17:06.317Z"
   },
   {
    "duration": 58,
    "start_time": "2022-03-20T00:17:06.329Z"
   },
   {
    "duration": 10,
    "start_time": "2022-03-20T00:17:06.390Z"
   },
   {
    "duration": 8,
    "start_time": "2022-03-20T00:17:06.402Z"
   },
   {
    "duration": 11,
    "start_time": "2022-03-20T00:17:06.416Z"
   },
   {
    "duration": 21,
    "start_time": "2022-03-20T00:17:06.429Z"
   },
   {
    "duration": 29,
    "start_time": "2022-03-20T00:17:06.452Z"
   },
   {
    "duration": 42,
    "start_time": "2022-03-20T00:17:06.483Z"
   },
   {
    "duration": 40,
    "start_time": "2022-03-20T00:17:06.527Z"
   },
   {
    "duration": 14,
    "start_time": "2022-03-20T00:17:06.569Z"
   },
   {
    "duration": 61,
    "start_time": "2022-03-20T00:17:06.584Z"
   },
   {
    "duration": 13,
    "start_time": "2022-03-20T00:17:06.647Z"
   },
   {
    "duration": 32,
    "start_time": "2022-03-20T00:17:06.661Z"
   },
   {
    "duration": 34,
    "start_time": "2022-03-20T00:17:06.695Z"
   },
   {
    "duration": 41,
    "start_time": "2022-03-20T00:17:06.731Z"
   },
   {
    "duration": 13,
    "start_time": "2022-03-20T00:17:06.775Z"
   },
   {
    "duration": 59,
    "start_time": "2022-03-20T00:17:06.790Z"
   },
   {
    "duration": 12,
    "start_time": "2022-03-20T00:17:06.851Z"
   },
   {
    "duration": 10,
    "start_time": "2022-03-20T00:17:06.865Z"
   },
   {
    "duration": 14,
    "start_time": "2022-03-20T00:17:06.877Z"
   },
   {
    "duration": 22,
    "start_time": "2022-03-20T00:17:06.893Z"
   },
   {
    "duration": 13,
    "start_time": "2022-03-20T00:17:06.918Z"
   },
   {
    "duration": 64,
    "start_time": "2022-03-20T00:17:06.933Z"
   },
   {
    "duration": 12,
    "start_time": "2022-03-20T00:17:06.999Z"
   },
   {
    "duration": 19,
    "start_time": "2022-03-20T00:17:07.013Z"
   },
   {
    "duration": 14,
    "start_time": "2022-03-20T00:17:07.035Z"
   },
   {
    "duration": 29,
    "start_time": "2022-03-20T00:17:07.051Z"
   },
   {
    "duration": 10,
    "start_time": "2022-03-20T00:17:07.083Z"
   },
   {
    "duration": 14,
    "start_time": "2022-03-20T00:17:07.095Z"
   },
   {
    "duration": 12,
    "start_time": "2022-03-20T00:17:07.111Z"
   },
   {
    "duration": 6,
    "start_time": "2022-03-20T00:17:07.125Z"
   },
   {
    "duration": 42,
    "start_time": "2022-03-20T00:17:07.133Z"
   },
   {
    "duration": 11,
    "start_time": "2022-03-20T00:17:07.178Z"
   },
   {
    "duration": 10,
    "start_time": "2022-03-20T00:17:07.191Z"
   },
   {
    "duration": 28,
    "start_time": "2022-03-20T00:17:07.203Z"
   },
   {
    "duration": 162,
    "start_time": "2022-03-20T00:17:07.233Z"
   },
   {
    "duration": 74,
    "start_time": "2022-03-20T16:59:44.142Z"
   },
   {
    "duration": 1689,
    "start_time": "2022-03-20T16:59:53.069Z"
   },
   {
    "duration": 548,
    "start_time": "2022-03-20T16:59:54.761Z"
   },
   {
    "duration": 34,
    "start_time": "2022-03-20T16:59:55.312Z"
   },
   {
    "duration": 19,
    "start_time": "2022-03-20T16:59:55.348Z"
   },
   {
    "duration": 5,
    "start_time": "2022-03-20T16:59:55.372Z"
   },
   {
    "duration": 32,
    "start_time": "2022-03-20T16:59:55.380Z"
   },
   {
    "duration": 38,
    "start_time": "2022-03-20T16:59:55.415Z"
   },
   {
    "duration": 8,
    "start_time": "2022-03-20T16:59:55.456Z"
   },
   {
    "duration": 29,
    "start_time": "2022-03-20T16:59:55.467Z"
   },
   {
    "duration": 44,
    "start_time": "2022-03-20T16:59:55.499Z"
   },
   {
    "duration": 5,
    "start_time": "2022-03-20T16:59:55.546Z"
   },
   {
    "duration": 26,
    "start_time": "2022-03-20T16:59:55.553Z"
   },
   {
    "duration": 17,
    "start_time": "2022-03-20T16:59:55.582Z"
   },
   {
    "duration": 9,
    "start_time": "2022-03-20T16:59:55.604Z"
   },
   {
    "duration": 55,
    "start_time": "2022-03-20T16:59:55.616Z"
   },
   {
    "duration": 20,
    "start_time": "2022-03-20T16:59:55.673Z"
   },
   {
    "duration": 8,
    "start_time": "2022-03-20T16:59:55.695Z"
   },
   {
    "duration": 50,
    "start_time": "2022-03-20T16:59:55.705Z"
   },
   {
    "duration": 51,
    "start_time": "2022-03-20T16:59:55.757Z"
   },
   {
    "duration": 8,
    "start_time": "2022-03-20T16:59:55.811Z"
   },
   {
    "duration": 38,
    "start_time": "2022-03-20T16:59:55.843Z"
   },
   {
    "duration": 22,
    "start_time": "2022-03-20T16:59:55.884Z"
   },
   {
    "duration": 58,
    "start_time": "2022-03-20T16:59:55.909Z"
   },
   {
    "duration": 7,
    "start_time": "2022-03-20T16:59:55.969Z"
   },
   {
    "duration": 68,
    "start_time": "2022-03-20T16:59:55.979Z"
   },
   {
    "duration": 21,
    "start_time": "2022-03-20T16:59:56.049Z"
   },
   {
    "duration": 28,
    "start_time": "2022-03-20T16:59:56.072Z"
   },
   {
    "duration": 7,
    "start_time": "2022-03-20T16:59:56.102Z"
   },
   {
    "duration": 19,
    "start_time": "2022-03-20T16:59:56.143Z"
   },
   {
    "duration": 8,
    "start_time": "2022-03-20T16:59:56.164Z"
   },
   {
    "duration": 12,
    "start_time": "2022-03-20T16:59:56.174Z"
   },
   {
    "duration": 9,
    "start_time": "2022-03-20T16:59:56.188Z"
   },
   {
    "duration": 16,
    "start_time": "2022-03-20T16:59:56.243Z"
   },
   {
    "duration": 4,
    "start_time": "2022-03-20T16:59:56.261Z"
   },
   {
    "duration": 11,
    "start_time": "2022-03-20T16:59:56.267Z"
   },
   {
    "duration": 6,
    "start_time": "2022-03-20T16:59:56.280Z"
   },
   {
    "duration": 9,
    "start_time": "2022-03-20T16:59:56.288Z"
   },
   {
    "duration": 57,
    "start_time": "2022-03-20T16:59:56.299Z"
   },
   {
    "duration": 14,
    "start_time": "2022-03-20T16:59:56.358Z"
   },
   {
    "duration": 12,
    "start_time": "2022-03-20T16:59:56.374Z"
   },
   {
    "duration": 11,
    "start_time": "2022-03-20T16:59:56.393Z"
   },
   {
    "duration": 45,
    "start_time": "2022-03-20T16:59:56.407Z"
   },
   {
    "duration": 9,
    "start_time": "2022-03-20T16:59:56.454Z"
   },
   {
    "duration": 11,
    "start_time": "2022-03-20T16:59:56.465Z"
   },
   {
    "duration": 65,
    "start_time": "2022-03-20T16:59:56.478Z"
   },
   {
    "duration": 14,
    "start_time": "2022-03-20T16:59:56.545Z"
   },
   {
    "duration": 46,
    "start_time": "2022-03-20T16:59:56.562Z"
   },
   {
    "duration": 33,
    "start_time": "2022-03-20T16:59:56.611Z"
   },
   {
    "duration": 6,
    "start_time": "2022-03-20T16:59:56.647Z"
   },
   {
    "duration": 14,
    "start_time": "2022-03-20T16:59:56.655Z"
   },
   {
    "duration": 26,
    "start_time": "2022-03-20T16:59:56.672Z"
   },
   {
    "duration": 47,
    "start_time": "2022-03-20T16:59:56.700Z"
   },
   {
    "duration": 39,
    "start_time": "2022-03-20T16:59:56.749Z"
   },
   {
    "duration": 13,
    "start_time": "2022-03-20T16:59:56.790Z"
   },
   {
    "duration": 4,
    "start_time": "2022-03-20T16:59:56.805Z"
   },
   {
    "duration": 10,
    "start_time": "2022-03-20T16:59:56.842Z"
   },
   {
    "duration": 21,
    "start_time": "2022-03-20T16:59:56.855Z"
   },
   {
    "duration": 12,
    "start_time": "2022-03-20T16:59:56.878Z"
   },
   {
    "duration": 62,
    "start_time": "2022-03-20T16:59:56.892Z"
   },
   {
    "duration": 11,
    "start_time": "2022-03-20T16:59:56.957Z"
   },
   {
    "duration": 5,
    "start_time": "2022-03-20T16:59:56.970Z"
   },
   {
    "duration": 11,
    "start_time": "2022-03-20T16:59:56.977Z"
   },
   {
    "duration": 11,
    "start_time": "2022-03-20T16:59:56.991Z"
   },
   {
    "duration": 45,
    "start_time": "2022-03-20T16:59:57.005Z"
   },
   {
    "duration": 14,
    "start_time": "2022-03-20T16:59:57.052Z"
   },
   {
    "duration": 11,
    "start_time": "2022-03-20T16:59:57.069Z"
   },
   {
    "duration": 6,
    "start_time": "2022-03-20T16:59:57.082Z"
   },
   {
    "duration": 53,
    "start_time": "2022-03-20T16:59:57.091Z"
   },
   {
    "duration": 11,
    "start_time": "2022-03-20T16:59:57.148Z"
   },
   {
    "duration": 6,
    "start_time": "2022-03-20T16:59:57.161Z"
   },
   {
    "duration": 22,
    "start_time": "2022-03-20T16:59:57.170Z"
   },
   {
    "duration": 51,
    "start_time": "2022-03-20T16:59:57.194Z"
   },
   {
    "duration": 152,
    "start_time": "2022-03-20T17:02:00.163Z"
   },
   {
    "duration": 1432,
    "start_time": "2022-03-20T17:02:07.527Z"
   },
   {
    "duration": 577,
    "start_time": "2022-03-20T17:02:08.961Z"
   },
   {
    "duration": 37,
    "start_time": "2022-03-20T17:02:09.540Z"
   },
   {
    "duration": 25,
    "start_time": "2022-03-20T17:02:09.580Z"
   },
   {
    "duration": 7,
    "start_time": "2022-03-20T17:02:09.607Z"
   },
   {
    "duration": 74,
    "start_time": "2022-03-20T17:02:09.617Z"
   },
   {
    "duration": 16,
    "start_time": "2022-03-20T17:02:09.693Z"
   },
   {
    "duration": 9,
    "start_time": "2022-03-20T17:02:09.712Z"
   },
   {
    "duration": 42,
    "start_time": "2022-03-20T17:02:09.723Z"
   },
   {
    "duration": 11,
    "start_time": "2022-03-20T17:02:09.771Z"
   },
   {
    "duration": 31,
    "start_time": "2022-03-20T17:02:09.785Z"
   },
   {
    "duration": 23,
    "start_time": "2022-03-20T17:02:09.818Z"
   },
   {
    "duration": 16,
    "start_time": "2022-03-20T17:02:09.844Z"
   },
   {
    "duration": 13,
    "start_time": "2022-03-20T17:02:09.862Z"
   },
   {
    "duration": 20,
    "start_time": "2022-03-20T17:02:09.878Z"
   },
   {
    "duration": 44,
    "start_time": "2022-03-20T17:02:09.900Z"
   },
   {
    "duration": 10,
    "start_time": "2022-03-20T17:02:09.946Z"
   },
   {
    "duration": 32,
    "start_time": "2022-03-20T17:02:09.959Z"
   },
   {
    "duration": 74,
    "start_time": "2022-03-20T17:02:09.993Z"
   },
   {
    "duration": 7,
    "start_time": "2022-03-20T17:02:10.070Z"
   },
   {
    "duration": 44,
    "start_time": "2022-03-20T17:02:10.078Z"
   },
   {
    "duration": 41,
    "start_time": "2022-03-20T17:02:10.124Z"
   },
   {
    "duration": 36,
    "start_time": "2022-03-20T17:02:10.167Z"
   },
   {
    "duration": 7,
    "start_time": "2022-03-20T17:02:10.205Z"
   },
   {
    "duration": 38,
    "start_time": "2022-03-20T17:02:10.242Z"
   },
   {
    "duration": 21,
    "start_time": "2022-03-20T17:02:10.282Z"
   },
   {
    "duration": 60,
    "start_time": "2022-03-20T17:02:10.305Z"
   },
   {
    "duration": 7,
    "start_time": "2022-03-20T17:02:10.371Z"
   },
   {
    "duration": 23,
    "start_time": "2022-03-20T17:02:10.380Z"
   },
   {
    "duration": 9,
    "start_time": "2022-03-20T17:02:10.405Z"
   },
   {
    "duration": 12,
    "start_time": "2022-03-20T17:02:10.443Z"
   },
   {
    "duration": 14,
    "start_time": "2022-03-20T17:02:10.457Z"
   },
   {
    "duration": 14,
    "start_time": "2022-03-20T17:02:10.473Z"
   },
   {
    "duration": 5,
    "start_time": "2022-03-20T17:02:10.489Z"
   },
   {
    "duration": 14,
    "start_time": "2022-03-20T17:02:10.496Z"
   },
   {
    "duration": 35,
    "start_time": "2022-03-20T17:02:10.511Z"
   },
   {
    "duration": 15,
    "start_time": "2022-03-20T17:02:10.548Z"
   },
   {
    "duration": 28,
    "start_time": "2022-03-20T17:02:10.565Z"
   },
   {
    "duration": 17,
    "start_time": "2022-03-20T17:02:10.596Z"
   },
   {
    "duration": 30,
    "start_time": "2022-03-20T17:02:10.615Z"
   },
   {
    "duration": 11,
    "start_time": "2022-03-20T17:02:10.647Z"
   },
   {
    "duration": 12,
    "start_time": "2022-03-20T17:02:10.660Z"
   },
   {
    "duration": 9,
    "start_time": "2022-03-20T17:02:10.674Z"
   },
   {
    "duration": 14,
    "start_time": "2022-03-20T17:02:10.685Z"
   },
   {
    "duration": 68,
    "start_time": "2022-03-20T17:02:10.701Z"
   },
   {
    "duration": 14,
    "start_time": "2022-03-20T17:02:10.771Z"
   },
   {
    "duration": 63,
    "start_time": "2022-03-20T17:02:10.788Z"
   },
   {
    "duration": 15,
    "start_time": "2022-03-20T17:02:10.853Z"
   },
   {
    "duration": 9,
    "start_time": "2022-03-20T17:02:10.871Z"
   },
   {
    "duration": 13,
    "start_time": "2022-03-20T17:02:10.882Z"
   },
   {
    "duration": 49,
    "start_time": "2022-03-20T17:02:10.897Z"
   },
   {
    "duration": 13,
    "start_time": "2022-03-20T17:02:10.949Z"
   },
   {
    "duration": 42,
    "start_time": "2022-03-20T17:02:10.964Z"
   },
   {
    "duration": 36,
    "start_time": "2022-03-20T17:02:11.008Z"
   },
   {
    "duration": 5,
    "start_time": "2022-03-20T17:02:11.046Z"
   },
   {
    "duration": 20,
    "start_time": "2022-03-20T17:02:11.053Z"
   },
   {
    "duration": 28,
    "start_time": "2022-03-20T17:02:11.075Z"
   },
   {
    "duration": 12,
    "start_time": "2022-03-20T17:02:11.105Z"
   },
   {
    "duration": 29,
    "start_time": "2022-03-20T17:02:11.142Z"
   },
   {
    "duration": 12,
    "start_time": "2022-03-20T17:02:11.173Z"
   },
   {
    "duration": 11,
    "start_time": "2022-03-20T17:02:11.187Z"
   },
   {
    "duration": 18,
    "start_time": "2022-03-20T17:02:11.200Z"
   },
   {
    "duration": 32,
    "start_time": "2022-03-20T17:02:11.220Z"
   },
   {
    "duration": 11,
    "start_time": "2022-03-20T17:02:11.254Z"
   },
   {
    "duration": 16,
    "start_time": "2022-03-20T17:02:11.267Z"
   },
   {
    "duration": 15,
    "start_time": "2022-03-20T17:02:11.285Z"
   },
   {
    "duration": 7,
    "start_time": "2022-03-20T17:02:11.302Z"
   },
   {
    "duration": 43,
    "start_time": "2022-03-20T17:02:11.311Z"
   },
   {
    "duration": 16,
    "start_time": "2022-03-20T17:02:11.356Z"
   },
   {
    "duration": 8,
    "start_time": "2022-03-20T17:02:11.374Z"
   },
   {
    "duration": 33,
    "start_time": "2022-03-20T17:02:11.384Z"
   },
   {
    "duration": 29,
    "start_time": "2022-03-20T17:02:11.420Z"
   },
   {
    "duration": 171,
    "start_time": "2022-03-20T17:02:11.452Z"
   },
   {
    "duration": 21,
    "start_time": "2022-03-20T18:09:03.640Z"
   },
   {
    "duration": 12,
    "start_time": "2022-03-20T18:09:44.737Z"
   },
   {
    "duration": 32,
    "start_time": "2022-03-20T18:09:46.247Z"
   },
   {
    "duration": 53,
    "start_time": "2022-03-21T11:49:28.811Z"
   },
   {
    "duration": 1248,
    "start_time": "2022-03-21T11:49:37.008Z"
   },
   {
    "duration": 391,
    "start_time": "2022-03-21T11:49:38.258Z"
   },
   {
    "duration": 27,
    "start_time": "2022-03-21T11:49:38.650Z"
   },
   {
    "duration": 13,
    "start_time": "2022-03-21T11:49:38.679Z"
   },
   {
    "duration": 4,
    "start_time": "2022-03-21T11:49:38.694Z"
   },
   {
    "duration": 37,
    "start_time": "2022-03-21T11:49:38.700Z"
   },
   {
    "duration": 9,
    "start_time": "2022-03-21T11:49:38.739Z"
   },
   {
    "duration": 8,
    "start_time": "2022-03-21T11:49:38.749Z"
   },
   {
    "duration": 19,
    "start_time": "2022-03-21T11:49:38.758Z"
   },
   {
    "duration": 7,
    "start_time": "2022-03-21T11:49:38.780Z"
   },
   {
    "duration": 5,
    "start_time": "2022-03-21T11:49:38.808Z"
   },
   {
    "duration": 12,
    "start_time": "2022-03-21T11:49:38.814Z"
   },
   {
    "duration": 9,
    "start_time": "2022-03-21T11:49:38.828Z"
   },
   {
    "duration": 5,
    "start_time": "2022-03-21T11:49:38.838Z"
   },
   {
    "duration": 11,
    "start_time": "2022-03-21T11:49:38.845Z"
   },
   {
    "duration": 10,
    "start_time": "2022-03-21T11:49:38.857Z"
   },
   {
    "duration": 40,
    "start_time": "2022-03-21T11:49:38.869Z"
   },
   {
    "duration": 22,
    "start_time": "2022-03-21T11:49:38.911Z"
   },
   {
    "duration": 34,
    "start_time": "2022-03-21T11:49:38.934Z"
   },
   {
    "duration": 5,
    "start_time": "2022-03-21T11:49:38.969Z"
   },
   {
    "duration": 51,
    "start_time": "2022-03-21T11:49:38.975Z"
   },
   {
    "duration": 17,
    "start_time": "2022-03-21T11:49:39.028Z"
   },
   {
    "duration": 23,
    "start_time": "2022-03-21T11:49:39.047Z"
   },
   {
    "duration": 5,
    "start_time": "2022-03-21T11:49:39.071Z"
   },
   {
    "duration": 54,
    "start_time": "2022-03-21T11:49:39.078Z"
   },
   {
    "duration": 14,
    "start_time": "2022-03-21T11:49:39.134Z"
   },
   {
    "duration": 19,
    "start_time": "2022-03-21T11:49:39.150Z"
   },
   {
    "duration": 4,
    "start_time": "2022-03-21T11:49:39.173Z"
   },
   {
    "duration": 35,
    "start_time": "2022-03-21T11:49:39.179Z"
   },
   {
    "duration": 5,
    "start_time": "2022-03-21T11:49:39.216Z"
   },
   {
    "duration": 9,
    "start_time": "2022-03-21T11:49:39.223Z"
   },
   {
    "duration": 6,
    "start_time": "2022-03-21T11:49:39.234Z"
   },
   {
    "duration": 9,
    "start_time": "2022-03-21T11:49:39.241Z"
   },
   {
    "duration": 3,
    "start_time": "2022-03-21T11:49:39.251Z"
   },
   {
    "duration": 5,
    "start_time": "2022-03-21T11:49:39.256Z"
   },
   {
    "duration": 4,
    "start_time": "2022-03-21T11:49:39.263Z"
   },
   {
    "duration": 41,
    "start_time": "2022-03-21T11:49:39.269Z"
   },
   {
    "duration": 13,
    "start_time": "2022-03-21T11:49:39.311Z"
   },
   {
    "duration": 7,
    "start_time": "2022-03-21T11:49:39.326Z"
   },
   {
    "duration": 7,
    "start_time": "2022-03-21T11:49:39.334Z"
   },
   {
    "duration": 6,
    "start_time": "2022-03-21T11:49:39.343Z"
   },
   {
    "duration": 10,
    "start_time": "2022-03-21T11:49:39.351Z"
   },
   {
    "duration": 5,
    "start_time": "2022-03-21T11:49:39.363Z"
   },
   {
    "duration": 41,
    "start_time": "2022-03-21T11:49:39.369Z"
   },
   {
    "duration": 24,
    "start_time": "2022-03-21T11:49:39.411Z"
   },
   {
    "duration": 9,
    "start_time": "2022-03-21T11:49:39.437Z"
   },
   {
    "duration": 34,
    "start_time": "2022-03-21T11:49:39.447Z"
   },
   {
    "duration": 29,
    "start_time": "2022-03-21T11:49:39.482Z"
   },
   {
    "duration": 4,
    "start_time": "2022-03-21T11:49:39.513Z"
   },
   {
    "duration": 8,
    "start_time": "2022-03-21T11:49:39.519Z"
   },
   {
    "duration": 22,
    "start_time": "2022-03-21T11:49:39.529Z"
   },
   {
    "duration": 9,
    "start_time": "2022-03-21T11:49:39.552Z"
   },
   {
    "duration": 55,
    "start_time": "2022-03-21T11:49:39.563Z"
   },
   {
    "duration": 8,
    "start_time": "2022-03-21T11:49:39.619Z"
   },
   {
    "duration": 4,
    "start_time": "2022-03-21T11:49:39.629Z"
   },
   {
    "duration": 9,
    "start_time": "2022-03-21T11:49:39.635Z"
   },
   {
    "duration": 16,
    "start_time": "2022-03-21T11:49:39.646Z"
   },
   {
    "duration": 9,
    "start_time": "2022-03-21T11:49:39.663Z"
   },
   {
    "duration": 53,
    "start_time": "2022-03-21T11:49:39.674Z"
   },
   {
    "duration": 8,
    "start_time": "2022-03-21T11:49:39.729Z"
   },
   {
    "duration": 8,
    "start_time": "2022-03-21T11:49:39.738Z"
   },
   {
    "duration": 21,
    "start_time": "2022-03-21T11:49:39.747Z"
   },
   {
    "duration": 18,
    "start_time": "2022-03-21T11:49:39.769Z"
   },
   {
    "duration": 24,
    "start_time": "2022-03-21T11:49:39.789Z"
   },
   {
    "duration": 10,
    "start_time": "2022-03-21T11:49:39.814Z"
   },
   {
    "duration": 8,
    "start_time": "2022-03-21T11:49:39.826Z"
   },
   {
    "duration": 5,
    "start_time": "2022-03-21T11:49:39.836Z"
   },
   {
    "duration": 16,
    "start_time": "2022-03-21T11:49:39.842Z"
   },
   {
    "duration": 12,
    "start_time": "2022-03-21T11:49:39.860Z"
   },
   {
    "duration": 3,
    "start_time": "2022-03-21T11:49:39.874Z"
   },
   {
    "duration": 35,
    "start_time": "2022-03-21T11:49:39.878Z"
   },
   {
    "duration": 12,
    "start_time": "2022-03-21T11:49:39.914Z"
   },
   {
    "duration": 22,
    "start_time": "2022-03-21T11:49:39.928Z"
   },
   {
    "duration": 1251,
    "start_time": "2022-03-21T11:49:39.951Z"
   },
   {
    "duration": 0,
    "start_time": "2022-03-21T11:49:41.205Z"
   },
   {
    "duration": 1352,
    "start_time": "2022-03-21T11:52:41.401Z"
   },
   {
    "duration": 0,
    "start_time": "2022-03-21T11:52:42.755Z"
   },
   {
    "duration": 109,
    "start_time": "2022-03-21T11:53:59.782Z"
   },
   {
    "duration": 16,
    "start_time": "2022-03-21T11:54:00.546Z"
   },
   {
    "duration": 15,
    "start_time": "2022-03-21T11:54:42.129Z"
   },
   {
    "duration": 104,
    "start_time": "2022-03-21T11:56:39.216Z"
   },
   {
    "duration": 14,
    "start_time": "2022-03-21T11:56:39.902Z"
   },
   {
    "duration": 1174,
    "start_time": "2022-03-21T11:57:16.482Z"
   },
   {
    "duration": 385,
    "start_time": "2022-03-21T11:57:17.658Z"
   },
   {
    "duration": 27,
    "start_time": "2022-03-21T11:57:18.045Z"
   },
   {
    "duration": 13,
    "start_time": "2022-03-21T11:57:18.074Z"
   },
   {
    "duration": 4,
    "start_time": "2022-03-21T11:57:18.089Z"
   },
   {
    "duration": 25,
    "start_time": "2022-03-21T11:57:18.094Z"
   },
   {
    "duration": 9,
    "start_time": "2022-03-21T11:57:18.121Z"
   },
   {
    "duration": 7,
    "start_time": "2022-03-21T11:57:18.131Z"
   },
   {
    "duration": 21,
    "start_time": "2022-03-21T11:57:18.139Z"
   },
   {
    "duration": 7,
    "start_time": "2022-03-21T11:57:18.164Z"
   },
   {
    "duration": 5,
    "start_time": "2022-03-21T11:57:18.174Z"
   },
   {
    "duration": 12,
    "start_time": "2022-03-21T11:57:18.208Z"
   },
   {
    "duration": 11,
    "start_time": "2022-03-21T11:57:18.222Z"
   },
   {
    "duration": 6,
    "start_time": "2022-03-21T11:57:18.234Z"
   },
   {
    "duration": 13,
    "start_time": "2022-03-21T11:57:18.242Z"
   },
   {
    "duration": 15,
    "start_time": "2022-03-21T11:57:18.256Z"
   },
   {
    "duration": 6,
    "start_time": "2022-03-21T11:57:18.272Z"
   },
   {
    "duration": 48,
    "start_time": "2022-03-21T11:57:18.280Z"
   },
   {
    "duration": 35,
    "start_time": "2022-03-21T11:57:18.330Z"
   },
   {
    "duration": 5,
    "start_time": "2022-03-21T11:57:18.367Z"
   },
   {
    "duration": 56,
    "start_time": "2022-03-21T11:57:18.374Z"
   },
   {
    "duration": 18,
    "start_time": "2022-03-21T11:57:18.432Z"
   },
   {
    "duration": 24,
    "start_time": "2022-03-21T11:57:18.452Z"
   },
   {
    "duration": 5,
    "start_time": "2022-03-21T11:57:18.478Z"
   },
   {
    "duration": 30,
    "start_time": "2022-03-21T11:57:18.509Z"
   },
   {
    "duration": 15,
    "start_time": "2022-03-21T11:57:18.541Z"
   },
   {
    "duration": 19,
    "start_time": "2022-03-21T11:57:18.558Z"
   },
   {
    "duration": 29,
    "start_time": "2022-03-21T11:57:18.581Z"
   },
   {
    "duration": 16,
    "start_time": "2022-03-21T11:57:18.611Z"
   },
   {
    "duration": 6,
    "start_time": "2022-03-21T11:57:18.628Z"
   },
   {
    "duration": 8,
    "start_time": "2022-03-21T11:57:18.636Z"
   },
   {
    "duration": 6,
    "start_time": "2022-03-21T11:57:18.646Z"
   },
   {
    "duration": 10,
    "start_time": "2022-03-21T11:57:18.654Z"
   },
   {
    "duration": 3,
    "start_time": "2022-03-21T11:57:18.665Z"
   },
   {
    "duration": 42,
    "start_time": "2022-03-21T11:57:18.670Z"
   },
   {
    "duration": 26,
    "start_time": "2022-03-21T11:57:18.714Z"
   },
   {
    "duration": 7,
    "start_time": "2022-03-21T11:57:18.742Z"
   },
   {
    "duration": 16,
    "start_time": "2022-03-21T11:57:18.750Z"
   },
   {
    "duration": 9,
    "start_time": "2022-03-21T11:57:18.767Z"
   },
   {
    "duration": 6,
    "start_time": "2022-03-21T11:57:18.778Z"
   },
   {
    "duration": 13,
    "start_time": "2022-03-21T11:57:18.786Z"
   },
   {
    "duration": 13,
    "start_time": "2022-03-21T11:57:18.801Z"
   },
   {
    "duration": 5,
    "start_time": "2022-03-21T11:57:18.816Z"
   },
   {
    "duration": 7,
    "start_time": "2022-03-21T11:57:18.823Z"
   },
   {
    "duration": 26,
    "start_time": "2022-03-21T11:57:18.832Z"
   },
   {
    "duration": 9,
    "start_time": "2022-03-21T11:57:18.860Z"
   },
   {
    "duration": 65,
    "start_time": "2022-03-21T11:57:18.870Z"
   },
   {
    "duration": 8,
    "start_time": "2022-03-21T11:57:18.937Z"
   },
   {
    "duration": 5,
    "start_time": "2022-03-21T11:57:18.947Z"
   },
   {
    "duration": 8,
    "start_time": "2022-03-21T11:57:18.953Z"
   },
   {
    "duration": 19,
    "start_time": "2022-03-21T11:57:18.963Z"
   },
   {
    "duration": 32,
    "start_time": "2022-03-21T11:57:18.984Z"
   },
   {
    "duration": 30,
    "start_time": "2022-03-21T11:57:19.018Z"
   },
   {
    "duration": 9,
    "start_time": "2022-03-21T11:57:19.049Z"
   },
   {
    "duration": 6,
    "start_time": "2022-03-21T11:57:19.059Z"
   },
   {
    "duration": 10,
    "start_time": "2022-03-21T11:57:19.067Z"
   },
   {
    "duration": 38,
    "start_time": "2022-03-21T11:57:19.079Z"
   },
   {
    "duration": 8,
    "start_time": "2022-03-21T11:57:19.119Z"
   },
   {
    "duration": 24,
    "start_time": "2022-03-21T11:57:19.128Z"
   },
   {
    "duration": 7,
    "start_time": "2022-03-21T11:57:19.154Z"
   },
   {
    "duration": 4,
    "start_time": "2022-03-21T11:57:19.163Z"
   },
   {
    "duration": 8,
    "start_time": "2022-03-21T11:57:19.169Z"
   },
   {
    "duration": 39,
    "start_time": "2022-03-21T11:57:19.178Z"
   },
   {
    "duration": 7,
    "start_time": "2022-03-21T11:57:19.219Z"
   },
   {
    "duration": 9,
    "start_time": "2022-03-21T11:57:19.228Z"
   },
   {
    "duration": 7,
    "start_time": "2022-03-21T11:57:19.239Z"
   },
   {
    "duration": 4,
    "start_time": "2022-03-21T11:57:19.247Z"
   },
   {
    "duration": 6,
    "start_time": "2022-03-21T11:57:19.253Z"
   },
   {
    "duration": 5,
    "start_time": "2022-03-21T11:57:19.261Z"
   },
   {
    "duration": 42,
    "start_time": "2022-03-21T11:57:19.268Z"
   },
   {
    "duration": 18,
    "start_time": "2022-03-21T11:57:19.311Z"
   },
   {
    "duration": 14,
    "start_time": "2022-03-21T11:57:19.331Z"
   },
   {
    "duration": 22,
    "start_time": "2022-03-21T11:57:19.346Z"
   },
   {
    "duration": 138,
    "start_time": "2022-03-21T11:57:19.370Z"
   },
   {
    "duration": 15,
    "start_time": "2022-03-21T11:57:19.510Z"
   },
   {
    "duration": 106,
    "start_time": "2022-03-21T12:01:18.209Z"
   },
   {
    "duration": 14,
    "start_time": "2022-03-21T12:01:18.613Z"
   },
   {
    "duration": 101,
    "start_time": "2022-03-21T12:05:08.177Z"
   },
   {
    "duration": 14,
    "start_time": "2022-03-21T12:05:08.723Z"
   },
   {
    "duration": 106,
    "start_time": "2022-03-21T12:05:17.171Z"
   },
   {
    "duration": 15,
    "start_time": "2022-03-21T12:05:17.706Z"
   },
   {
    "duration": 116,
    "start_time": "2022-03-21T12:05:33.991Z"
   },
   {
    "duration": 16,
    "start_time": "2022-03-21T12:05:48.826Z"
   },
   {
    "duration": 15,
    "start_time": "2022-03-21T12:10:52.386Z"
   },
   {
    "duration": 14,
    "start_time": "2022-03-21T12:11:44.341Z"
   },
   {
    "duration": 1119,
    "start_time": "2022-03-21T12:11:54.805Z"
   },
   {
    "duration": 389,
    "start_time": "2022-03-21T12:11:55.926Z"
   },
   {
    "duration": 29,
    "start_time": "2022-03-21T12:11:56.316Z"
   },
   {
    "duration": 12,
    "start_time": "2022-03-21T12:11:56.347Z"
   },
   {
    "duration": 4,
    "start_time": "2022-03-21T12:11:56.361Z"
   },
   {
    "duration": 44,
    "start_time": "2022-03-21T12:11:56.366Z"
   },
   {
    "duration": 10,
    "start_time": "2022-03-21T12:11:56.412Z"
   },
   {
    "duration": 6,
    "start_time": "2022-03-21T12:11:56.423Z"
   },
   {
    "duration": 26,
    "start_time": "2022-03-21T12:11:56.431Z"
   },
   {
    "duration": 8,
    "start_time": "2022-03-21T12:11:56.460Z"
   },
   {
    "duration": 5,
    "start_time": "2022-03-21T12:11:56.470Z"
   },
   {
    "duration": 38,
    "start_time": "2022-03-21T12:11:56.476Z"
   },
   {
    "duration": 10,
    "start_time": "2022-03-21T12:11:56.515Z"
   },
   {
    "duration": 8,
    "start_time": "2022-03-21T12:11:56.527Z"
   },
   {
    "duration": 14,
    "start_time": "2022-03-21T12:11:56.537Z"
   },
   {
    "duration": 15,
    "start_time": "2022-03-21T12:11:56.553Z"
   },
   {
    "duration": 7,
    "start_time": "2022-03-21T12:11:56.569Z"
   },
   {
    "duration": 50,
    "start_time": "2022-03-21T12:11:56.577Z"
   },
   {
    "duration": 35,
    "start_time": "2022-03-21T12:11:56.628Z"
   },
   {
    "duration": 5,
    "start_time": "2022-03-21T12:11:56.665Z"
   },
   {
    "duration": 56,
    "start_time": "2022-03-21T12:11:56.671Z"
   },
   {
    "duration": 18,
    "start_time": "2022-03-21T12:11:56.729Z"
   },
   {
    "duration": 23,
    "start_time": "2022-03-21T12:11:56.749Z"
   },
   {
    "duration": 5,
    "start_time": "2022-03-21T12:11:56.773Z"
   },
   {
    "duration": 53,
    "start_time": "2022-03-21T12:11:56.779Z"
   },
   {
    "duration": 16,
    "start_time": "2022-03-21T12:11:56.833Z"
   },
   {
    "duration": 21,
    "start_time": "2022-03-21T12:11:56.851Z"
   },
   {
    "duration": 5,
    "start_time": "2022-03-21T12:11:56.876Z"
   },
   {
    "duration": 40,
    "start_time": "2022-03-21T12:11:56.883Z"
   },
   {
    "duration": 7,
    "start_time": "2022-03-21T12:11:56.925Z"
   },
   {
    "duration": 10,
    "start_time": "2022-03-21T12:11:56.933Z"
   },
   {
    "duration": 9,
    "start_time": "2022-03-21T12:11:56.944Z"
   },
   {
    "duration": 8,
    "start_time": "2022-03-21T12:11:56.954Z"
   },
   {
    "duration": 3,
    "start_time": "2022-03-21T12:11:56.964Z"
   },
   {
    "duration": 5,
    "start_time": "2022-03-21T12:11:57.010Z"
   },
   {
    "duration": 5,
    "start_time": "2022-03-21T12:11:57.016Z"
   },
   {
    "duration": 8,
    "start_time": "2022-03-21T12:11:57.023Z"
   },
   {
    "duration": 15,
    "start_time": "2022-03-21T12:11:57.032Z"
   },
   {
    "duration": 7,
    "start_time": "2022-03-21T12:11:57.048Z"
   },
   {
    "duration": 11,
    "start_time": "2022-03-21T12:11:57.057Z"
   },
   {
    "duration": 11,
    "start_time": "2022-03-21T12:11:57.070Z"
   },
   {
    "duration": 10,
    "start_time": "2022-03-21T12:11:57.109Z"
   },
   {
    "duration": 6,
    "start_time": "2022-03-21T12:11:57.121Z"
   },
   {
    "duration": 7,
    "start_time": "2022-03-21T12:11:57.129Z"
   },
   {
    "duration": 25,
    "start_time": "2022-03-21T12:11:57.138Z"
   },
   {
    "duration": 9,
    "start_time": "2022-03-21T12:11:57.164Z"
   },
   {
    "duration": 64,
    "start_time": "2022-03-21T12:11:57.175Z"
   },
   {
    "duration": 8,
    "start_time": "2022-03-21T12:11:57.241Z"
   },
   {
    "duration": 5,
    "start_time": "2022-03-21T12:11:57.250Z"
   },
   {
    "duration": 8,
    "start_time": "2022-03-21T12:11:57.257Z"
   },
   {
    "duration": 18,
    "start_time": "2022-03-21T12:11:57.267Z"
   },
   {
    "duration": 30,
    "start_time": "2022-03-21T12:11:57.286Z"
   },
   {
    "duration": 34,
    "start_time": "2022-03-21T12:11:57.318Z"
   },
   {
    "duration": 8,
    "start_time": "2022-03-21T12:11:57.354Z"
   },
   {
    "duration": 5,
    "start_time": "2022-03-21T12:11:57.364Z"
   },
   {
    "duration": 8,
    "start_time": "2022-03-21T12:11:57.371Z"
   },
   {
    "duration": 42,
    "start_time": "2022-03-21T12:11:57.380Z"
   },
   {
    "duration": 8,
    "start_time": "2022-03-21T12:11:57.424Z"
   },
   {
    "duration": 24,
    "start_time": "2022-03-21T12:11:57.434Z"
   },
   {
    "duration": 9,
    "start_time": "2022-03-21T12:11:57.459Z"
   },
   {
    "duration": 6,
    "start_time": "2022-03-21T12:11:57.470Z"
   },
   {
    "duration": 34,
    "start_time": "2022-03-21T12:11:57.477Z"
   },
   {
    "duration": 9,
    "start_time": "2022-03-21T12:11:57.513Z"
   },
   {
    "duration": 8,
    "start_time": "2022-03-21T12:11:57.524Z"
   },
   {
    "duration": 10,
    "start_time": "2022-03-21T12:11:57.533Z"
   },
   {
    "duration": 6,
    "start_time": "2022-03-21T12:11:57.545Z"
   },
   {
    "duration": 4,
    "start_time": "2022-03-21T12:11:57.553Z"
   },
   {
    "duration": 8,
    "start_time": "2022-03-21T12:11:57.558Z"
   },
   {
    "duration": 46,
    "start_time": "2022-03-21T12:11:57.567Z"
   },
   {
    "duration": 5,
    "start_time": "2022-03-21T12:11:57.614Z"
   },
   {
    "duration": 16,
    "start_time": "2022-03-21T12:11:57.621Z"
   },
   {
    "duration": 14,
    "start_time": "2022-03-21T12:11:57.638Z"
   },
   {
    "duration": 20,
    "start_time": "2022-03-21T12:11:57.654Z"
   },
   {
    "duration": 106,
    "start_time": "2022-03-21T12:11:57.708Z"
   },
   {
    "duration": 12,
    "start_time": "2022-03-21T12:11:57.816Z"
   },
   {
    "duration": 69,
    "start_time": "2022-03-21T12:56:23.297Z"
   },
   {
    "duration": 64,
    "start_time": "2022-03-21T12:59:22.227Z"
   },
   {
    "duration": 97,
    "start_time": "2022-03-21T12:59:36.212Z"
   },
   {
    "duration": 1387,
    "start_time": "2022-03-21T12:59:45.868Z"
   },
   {
    "duration": 0,
    "start_time": "2022-03-21T12:59:47.257Z"
   },
   {
    "duration": 1131,
    "start_time": "2022-03-21T13:00:08.480Z"
   },
   {
    "duration": 397,
    "start_time": "2022-03-21T13:00:09.614Z"
   },
   {
    "duration": 28,
    "start_time": "2022-03-21T13:00:10.013Z"
   },
   {
    "duration": 12,
    "start_time": "2022-03-21T13:00:10.043Z"
   },
   {
    "duration": 4,
    "start_time": "2022-03-21T13:00:10.058Z"
   },
   {
    "duration": 46,
    "start_time": "2022-03-21T13:00:10.064Z"
   },
   {
    "duration": 11,
    "start_time": "2022-03-21T13:00:10.111Z"
   },
   {
    "duration": 7,
    "start_time": "2022-03-21T13:00:10.124Z"
   },
   {
    "duration": 25,
    "start_time": "2022-03-21T13:00:10.132Z"
   },
   {
    "duration": 8,
    "start_time": "2022-03-21T13:00:10.159Z"
   },
   {
    "duration": 8,
    "start_time": "2022-03-21T13:00:10.169Z"
   },
   {
    "duration": 12,
    "start_time": "2022-03-21T13:00:10.209Z"
   },
   {
    "duration": 16,
    "start_time": "2022-03-21T13:00:10.223Z"
   },
   {
    "duration": 6,
    "start_time": "2022-03-21T13:00:10.243Z"
   },
   {
    "duration": 12,
    "start_time": "2022-03-21T13:00:10.251Z"
   },
   {
    "duration": 17,
    "start_time": "2022-03-21T13:00:10.264Z"
   },
   {
    "duration": 27,
    "start_time": "2022-03-21T13:00:10.283Z"
   },
   {
    "duration": 42,
    "start_time": "2022-03-21T13:00:10.312Z"
   },
   {
    "duration": 37,
    "start_time": "2022-03-21T13:00:10.356Z"
   },
   {
    "duration": 6,
    "start_time": "2022-03-21T13:00:10.395Z"
   },
   {
    "duration": 29,
    "start_time": "2022-03-21T13:00:10.409Z"
   },
   {
    "duration": 21,
    "start_time": "2022-03-21T13:00:10.440Z"
   },
   {
    "duration": 63,
    "start_time": "2022-03-21T13:00:10.463Z"
   },
   {
    "duration": 6,
    "start_time": "2022-03-21T13:00:10.529Z"
   },
   {
    "duration": 37,
    "start_time": "2022-03-21T13:00:10.537Z"
   },
   {
    "duration": 37,
    "start_time": "2022-03-21T13:00:10.577Z"
   },
   {
    "duration": 21,
    "start_time": "2022-03-21T13:00:10.616Z"
   },
   {
    "duration": 5,
    "start_time": "2022-03-21T13:00:10.639Z"
   },
   {
    "duration": 22,
    "start_time": "2022-03-21T13:00:10.645Z"
   },
   {
    "duration": 7,
    "start_time": "2022-03-21T13:00:10.669Z"
   },
   {
    "duration": 36,
    "start_time": "2022-03-21T13:00:10.678Z"
   },
   {
    "duration": 9,
    "start_time": "2022-03-21T13:00:10.716Z"
   },
   {
    "duration": 11,
    "start_time": "2022-03-21T13:00:10.727Z"
   },
   {
    "duration": 4,
    "start_time": "2022-03-21T13:00:10.740Z"
   },
   {
    "duration": 7,
    "start_time": "2022-03-21T13:00:10.746Z"
   },
   {
    "duration": 6,
    "start_time": "2022-03-21T13:00:10.755Z"
   },
   {
    "duration": 8,
    "start_time": "2022-03-21T13:00:10.763Z"
   },
   {
    "duration": 49,
    "start_time": "2022-03-21T13:00:10.773Z"
   },
   {
    "duration": 11,
    "start_time": "2022-03-21T13:00:10.824Z"
   },
   {
    "duration": 10,
    "start_time": "2022-03-21T13:00:10.837Z"
   },
   {
    "duration": 8,
    "start_time": "2022-03-21T13:00:10.852Z"
   },
   {
    "duration": 11,
    "start_time": "2022-03-21T13:00:10.862Z"
   },
   {
    "duration": 38,
    "start_time": "2022-03-21T13:00:10.874Z"
   },
   {
    "duration": 8,
    "start_time": "2022-03-21T13:00:10.914Z"
   },
   {
    "duration": 25,
    "start_time": "2022-03-21T13:00:10.924Z"
   },
   {
    "duration": 9,
    "start_time": "2022-03-21T13:00:10.951Z"
   },
   {
    "duration": 63,
    "start_time": "2022-03-21T13:00:10.962Z"
   },
   {
    "duration": 8,
    "start_time": "2022-03-21T13:00:11.027Z"
   },
   {
    "duration": 4,
    "start_time": "2022-03-21T13:00:11.037Z"
   },
   {
    "duration": 13,
    "start_time": "2022-03-21T13:00:11.043Z"
   },
   {
    "duration": 27,
    "start_time": "2022-03-21T13:00:11.058Z"
   },
   {
    "duration": 29,
    "start_time": "2022-03-21T13:00:11.087Z"
   },
   {
    "duration": 32,
    "start_time": "2022-03-21T13:00:11.118Z"
   },
   {
    "duration": 10,
    "start_time": "2022-03-21T13:00:11.151Z"
   },
   {
    "duration": 4,
    "start_time": "2022-03-21T13:00:11.163Z"
   },
   {
    "duration": 41,
    "start_time": "2022-03-21T13:00:11.169Z"
   },
   {
    "duration": 20,
    "start_time": "2022-03-21T13:00:11.211Z"
   },
   {
    "duration": 8,
    "start_time": "2022-03-21T13:00:11.233Z"
   },
   {
    "duration": 23,
    "start_time": "2022-03-21T13:00:11.242Z"
   },
   {
    "duration": 8,
    "start_time": "2022-03-21T13:00:11.267Z"
   },
   {
    "duration": 31,
    "start_time": "2022-03-21T13:00:11.277Z"
   },
   {
    "duration": 9,
    "start_time": "2022-03-21T13:00:11.310Z"
   },
   {
    "duration": 9,
    "start_time": "2022-03-21T13:00:11.321Z"
   },
   {
    "duration": 7,
    "start_time": "2022-03-21T13:00:11.332Z"
   },
   {
    "duration": 10,
    "start_time": "2022-03-21T13:00:11.341Z"
   },
   {
    "duration": 9,
    "start_time": "2022-03-21T13:00:11.352Z"
   },
   {
    "duration": 4,
    "start_time": "2022-03-21T13:00:11.362Z"
   },
   {
    "duration": 6,
    "start_time": "2022-03-21T13:00:11.409Z"
   },
   {
    "duration": 7,
    "start_time": "2022-03-21T13:00:11.417Z"
   },
   {
    "duration": 4,
    "start_time": "2022-03-21T13:00:11.426Z"
   },
   {
    "duration": 17,
    "start_time": "2022-03-21T13:00:11.431Z"
   },
   {
    "duration": 14,
    "start_time": "2022-03-21T13:00:11.450Z"
   },
   {
    "duration": 58,
    "start_time": "2022-03-21T13:00:11.466Z"
   },
   {
    "duration": 121,
    "start_time": "2022-03-21T13:00:11.526Z"
   },
   {
    "duration": 15,
    "start_time": "2022-03-21T13:00:11.648Z"
   },
   {
    "duration": 1488,
    "start_time": "2022-03-21T13:00:11.664Z"
   },
   {
    "duration": 0,
    "start_time": "2022-03-21T13:00:13.153Z"
   },
   {
    "duration": 0,
    "start_time": "2022-03-21T13:00:13.155Z"
   },
   {
    "duration": 0,
    "start_time": "2022-03-21T13:00:13.156Z"
   },
   {
    "duration": 5,
    "start_time": "2022-03-21T13:03:48.095Z"
   },
   {
    "duration": 13,
    "start_time": "2022-03-21T13:03:50.222Z"
   },
   {
    "duration": 4,
    "start_time": "2022-03-21T13:03:56.542Z"
   },
   {
    "duration": 13,
    "start_time": "2022-03-21T13:03:57.603Z"
   },
   {
    "duration": 13,
    "start_time": "2022-03-21T13:06:01.943Z"
   },
   {
    "duration": 4,
    "start_time": "2022-03-21T13:06:19.552Z"
   },
   {
    "duration": 12,
    "start_time": "2022-03-21T13:06:19.960Z"
   },
   {
    "duration": 5,
    "start_time": "2022-03-21T13:06:20.438Z"
   },
   {
    "duration": 13,
    "start_time": "2022-03-21T13:06:20.845Z"
   },
   {
    "duration": 1008,
    "start_time": "2022-03-21T13:08:32.131Z"
   },
   {
    "duration": 367,
    "start_time": "2022-03-21T13:08:33.141Z"
   },
   {
    "duration": 26,
    "start_time": "2022-03-21T13:08:33.510Z"
   },
   {
    "duration": 11,
    "start_time": "2022-03-21T13:08:33.538Z"
   },
   {
    "duration": 5,
    "start_time": "2022-03-21T13:08:33.551Z"
   },
   {
    "duration": 22,
    "start_time": "2022-03-21T13:08:33.557Z"
   },
   {
    "duration": 30,
    "start_time": "2022-03-21T13:08:33.580Z"
   },
   {
    "duration": 4,
    "start_time": "2022-03-21T13:08:33.612Z"
   },
   {
    "duration": 20,
    "start_time": "2022-03-21T13:08:33.618Z"
   },
   {
    "duration": 7,
    "start_time": "2022-03-21T13:08:33.640Z"
   },
   {
    "duration": 5,
    "start_time": "2022-03-21T13:08:33.648Z"
   },
   {
    "duration": 11,
    "start_time": "2022-03-21T13:08:33.655Z"
   },
   {
    "duration": 48,
    "start_time": "2022-03-21T13:08:33.667Z"
   },
   {
    "duration": 4,
    "start_time": "2022-03-21T13:08:33.718Z"
   },
   {
    "duration": 11,
    "start_time": "2022-03-21T13:08:33.724Z"
   },
   {
    "duration": 10,
    "start_time": "2022-03-21T13:08:33.737Z"
   },
   {
    "duration": 5,
    "start_time": "2022-03-21T13:08:33.749Z"
   },
   {
    "duration": 22,
    "start_time": "2022-03-21T13:08:33.755Z"
   },
   {
    "duration": 63,
    "start_time": "2022-03-21T13:08:33.778Z"
   },
   {
    "duration": 5,
    "start_time": "2022-03-21T13:08:33.843Z"
   },
   {
    "duration": 27,
    "start_time": "2022-03-21T13:08:33.850Z"
   },
   {
    "duration": 37,
    "start_time": "2022-03-21T13:08:33.879Z"
   },
   {
    "duration": 23,
    "start_time": "2022-03-21T13:08:33.918Z"
   },
   {
    "duration": 4,
    "start_time": "2022-03-21T13:08:33.942Z"
   },
   {
    "duration": 30,
    "start_time": "2022-03-21T13:08:33.948Z"
   },
   {
    "duration": 32,
    "start_time": "2022-03-21T13:08:33.980Z"
   },
   {
    "duration": 18,
    "start_time": "2022-03-21T13:08:34.014Z"
   },
   {
    "duration": 4,
    "start_time": "2022-03-21T13:08:34.034Z"
   },
   {
    "duration": 22,
    "start_time": "2022-03-21T13:08:34.040Z"
   },
   {
    "duration": 5,
    "start_time": "2022-03-21T13:08:34.063Z"
   },
   {
    "duration": 8,
    "start_time": "2022-03-21T13:08:34.070Z"
   },
   {
    "duration": 30,
    "start_time": "2022-03-21T13:08:34.080Z"
   },
   {
    "duration": 10,
    "start_time": "2022-03-21T13:08:34.111Z"
   },
   {
    "duration": 4,
    "start_time": "2022-03-21T13:08:34.123Z"
   },
   {
    "duration": 6,
    "start_time": "2022-03-21T13:08:34.128Z"
   },
   {
    "duration": 6,
    "start_time": "2022-03-21T13:08:34.135Z"
   },
   {
    "duration": 8,
    "start_time": "2022-03-21T13:08:34.142Z"
   },
   {
    "duration": 14,
    "start_time": "2022-03-21T13:08:34.152Z"
   },
   {
    "duration": 11,
    "start_time": "2022-03-21T13:08:34.167Z"
   },
   {
    "duration": 5,
    "start_time": "2022-03-21T13:08:34.210Z"
   },
   {
    "duration": 8,
    "start_time": "2022-03-21T13:08:34.220Z"
   },
   {
    "duration": 14,
    "start_time": "2022-03-21T13:08:34.230Z"
   },
   {
    "duration": 6,
    "start_time": "2022-03-21T13:08:34.246Z"
   },
   {
    "duration": 7,
    "start_time": "2022-03-21T13:08:34.254Z"
   },
   {
    "duration": 49,
    "start_time": "2022-03-21T13:08:34.262Z"
   },
   {
    "duration": 8,
    "start_time": "2022-03-21T13:08:34.313Z"
   },
   {
    "duration": 33,
    "start_time": "2022-03-21T13:08:34.323Z"
   },
   {
    "duration": 8,
    "start_time": "2022-03-21T13:08:34.358Z"
   },
   {
    "duration": 3,
    "start_time": "2022-03-21T13:08:34.368Z"
   },
   {
    "duration": 35,
    "start_time": "2022-03-21T13:08:34.373Z"
   },
   {
    "duration": 17,
    "start_time": "2022-03-21T13:08:34.410Z"
   },
   {
    "duration": 9,
    "start_time": "2022-03-21T13:08:34.428Z"
   },
   {
    "duration": 30,
    "start_time": "2022-03-21T13:08:34.438Z"
   },
   {
    "duration": 8,
    "start_time": "2022-03-21T13:08:34.469Z"
   },
   {
    "duration": 9,
    "start_time": "2022-03-21T13:08:34.478Z"
   },
   {
    "duration": 9,
    "start_time": "2022-03-21T13:08:34.508Z"
   },
   {
    "duration": 15,
    "start_time": "2022-03-21T13:08:34.519Z"
   },
   {
    "duration": 8,
    "start_time": "2022-03-21T13:08:34.535Z"
   },
   {
    "duration": 22,
    "start_time": "2022-03-21T13:08:34.545Z"
   },
   {
    "duration": 41,
    "start_time": "2022-03-21T13:08:34.569Z"
   },
   {
    "duration": 3,
    "start_time": "2022-03-21T13:08:34.612Z"
   },
   {
    "duration": 11,
    "start_time": "2022-03-21T13:08:34.617Z"
   },
   {
    "duration": 9,
    "start_time": "2022-03-21T13:08:34.629Z"
   },
   {
    "duration": 5,
    "start_time": "2022-03-21T13:08:34.640Z"
   },
   {
    "duration": 9,
    "start_time": "2022-03-21T13:08:34.647Z"
   },
   {
    "duration": 7,
    "start_time": "2022-03-21T13:08:34.657Z"
   },
   {
    "duration": 5,
    "start_time": "2022-03-21T13:08:34.666Z"
   },
   {
    "duration": 37,
    "start_time": "2022-03-21T13:08:34.673Z"
   },
   {
    "duration": 8,
    "start_time": "2022-03-21T13:08:34.711Z"
   },
   {
    "duration": 3,
    "start_time": "2022-03-21T13:08:34.721Z"
   },
   {
    "duration": 17,
    "start_time": "2022-03-21T13:08:34.726Z"
   },
   {
    "duration": 12,
    "start_time": "2022-03-21T13:08:34.745Z"
   },
   {
    "duration": 17,
    "start_time": "2022-03-21T13:08:34.759Z"
   },
   {
    "duration": 137,
    "start_time": "2022-03-21T13:08:34.778Z"
   },
   {
    "duration": 13,
    "start_time": "2022-03-21T13:08:34.917Z"
   },
   {
    "duration": 3,
    "start_time": "2022-03-21T13:08:34.932Z"
   },
   {
    "duration": 15,
    "start_time": "2022-03-21T13:08:34.937Z"
   },
   {
    "duration": 4,
    "start_time": "2022-03-21T13:08:34.953Z"
   },
   {
    "duration": 13,
    "start_time": "2022-03-21T13:08:34.958Z"
   },
   {
    "duration": 81,
    "start_time": "2022-03-21T13:46:32.937Z"
   },
   {
    "duration": 121,
    "start_time": "2022-03-21T13:48:38.521Z"
   },
   {
    "duration": 8,
    "start_time": "2022-03-21T13:48:39.321Z"
   },
   {
    "duration": 22,
    "start_time": "2022-03-21T13:50:40.529Z"
   },
   {
    "duration": 19,
    "start_time": "2022-03-21T13:50:51.236Z"
   },
   {
    "duration": 62,
    "start_time": "2022-03-21T13:52:59.616Z"
   },
   {
    "duration": 19,
    "start_time": "2022-03-21T13:53:54.776Z"
   },
   {
    "duration": 21,
    "start_time": "2022-03-21T13:54:31.599Z"
   },
   {
    "duration": 17,
    "start_time": "2022-03-21T13:56:13.351Z"
   },
   {
    "duration": 16,
    "start_time": "2022-03-21T13:56:14.063Z"
   },
   {
    "duration": 18,
    "start_time": "2022-03-21T13:58:33.910Z"
   },
   {
    "duration": 62,
    "start_time": "2022-03-21T13:59:25.230Z"
   },
   {
    "duration": 68,
    "start_time": "2022-03-21T13:59:33.652Z"
   },
   {
    "duration": 6,
    "start_time": "2022-03-21T14:01:49.629Z"
   },
   {
    "duration": 9,
    "start_time": "2022-03-21T14:01:53.804Z"
   },
   {
    "duration": 1053,
    "start_time": "2022-03-21T14:01:58.885Z"
   },
   {
    "duration": 2,
    "start_time": "2022-03-21T14:01:59.939Z"
   },
   {
    "duration": 368,
    "start_time": "2022-03-21T14:01:59.943Z"
   },
   {
    "duration": 28,
    "start_time": "2022-03-21T14:02:00.314Z"
   },
   {
    "duration": 13,
    "start_time": "2022-03-21T14:02:00.344Z"
   },
   {
    "duration": 4,
    "start_time": "2022-03-21T14:02:00.359Z"
   },
   {
    "duration": 48,
    "start_time": "2022-03-21T14:02:00.365Z"
   },
   {
    "duration": 10,
    "start_time": "2022-03-21T14:02:00.415Z"
   },
   {
    "duration": 11,
    "start_time": "2022-03-21T14:02:00.427Z"
   },
   {
    "duration": 21,
    "start_time": "2022-03-21T14:02:00.441Z"
   },
   {
    "duration": 8,
    "start_time": "2022-03-21T14:02:00.464Z"
   },
   {
    "duration": 13,
    "start_time": "2022-03-21T14:02:00.474Z"
   },
   {
    "duration": 22,
    "start_time": "2022-03-21T14:02:00.509Z"
   },
   {
    "duration": 14,
    "start_time": "2022-03-21T14:02:00.533Z"
   },
   {
    "duration": 21,
    "start_time": "2022-03-21T14:02:00.549Z"
   },
   {
    "duration": 17,
    "start_time": "2022-03-21T14:02:00.571Z"
   },
   {
    "duration": 16,
    "start_time": "2022-03-21T14:02:00.589Z"
   },
   {
    "duration": 20,
    "start_time": "2022-03-21T14:02:00.606Z"
   },
   {
    "duration": 33,
    "start_time": "2022-03-21T14:02:00.628Z"
   },
   {
    "duration": 35,
    "start_time": "2022-03-21T14:02:00.663Z"
   },
   {
    "duration": 5,
    "start_time": "2022-03-21T14:02:00.700Z"
   },
   {
    "duration": 30,
    "start_time": "2022-03-21T14:02:00.707Z"
   },
   {
    "duration": 21,
    "start_time": "2022-03-21T14:02:00.739Z"
   },
   {
    "duration": 30,
    "start_time": "2022-03-21T14:02:00.762Z"
   },
   {
    "duration": 17,
    "start_time": "2022-03-21T14:02:00.794Z"
   },
   {
    "duration": 43,
    "start_time": "2022-03-21T14:02:00.813Z"
   },
   {
    "duration": 15,
    "start_time": "2022-03-21T14:02:00.858Z"
   },
   {
    "duration": 32,
    "start_time": "2022-03-21T14:02:00.877Z"
   },
   {
    "duration": 5,
    "start_time": "2022-03-21T14:02:00.910Z"
   },
   {
    "duration": 28,
    "start_time": "2022-03-21T14:02:00.917Z"
   },
   {
    "duration": 7,
    "start_time": "2022-03-21T14:02:00.946Z"
   },
   {
    "duration": 16,
    "start_time": "2022-03-21T14:02:00.954Z"
   },
   {
    "duration": 11,
    "start_time": "2022-03-21T14:02:00.972Z"
   },
   {
    "duration": 19,
    "start_time": "2022-03-21T14:02:00.985Z"
   },
   {
    "duration": 18,
    "start_time": "2022-03-21T14:02:01.005Z"
   },
   {
    "duration": 13,
    "start_time": "2022-03-21T14:02:01.025Z"
   },
   {
    "duration": 26,
    "start_time": "2022-03-21T14:02:01.039Z"
   },
   {
    "duration": 16,
    "start_time": "2022-03-21T14:02:01.067Z"
   },
   {
    "duration": 28,
    "start_time": "2022-03-21T14:02:01.084Z"
   },
   {
    "duration": 18,
    "start_time": "2022-03-21T14:02:01.114Z"
   },
   {
    "duration": 15,
    "start_time": "2022-03-21T14:02:01.133Z"
   },
   {
    "duration": 15,
    "start_time": "2022-03-21T14:02:01.150Z"
   },
   {
    "duration": 14,
    "start_time": "2022-03-21T14:02:01.166Z"
   },
   {
    "duration": 17,
    "start_time": "2022-03-21T14:02:01.182Z"
   },
   {
    "duration": 25,
    "start_time": "2022-03-21T14:02:01.201Z"
   },
   {
    "duration": 36,
    "start_time": "2022-03-21T14:02:01.228Z"
   },
   {
    "duration": 10,
    "start_time": "2022-03-21T14:02:01.266Z"
   },
   {
    "duration": 38,
    "start_time": "2022-03-21T14:02:01.277Z"
   },
   {
    "duration": 8,
    "start_time": "2022-03-21T14:02:01.317Z"
   },
   {
    "duration": 16,
    "start_time": "2022-03-21T14:02:01.326Z"
   },
   {
    "duration": 16,
    "start_time": "2022-03-21T14:02:01.343Z"
   },
   {
    "duration": 27,
    "start_time": "2022-03-21T14:02:01.361Z"
   },
   {
    "duration": 9,
    "start_time": "2022-03-21T14:02:01.390Z"
   },
   {
    "duration": 36,
    "start_time": "2022-03-21T14:02:01.401Z"
   },
   {
    "duration": 9,
    "start_time": "2022-03-21T14:02:01.438Z"
   },
   {
    "duration": 12,
    "start_time": "2022-03-21T14:02:01.448Z"
   },
   {
    "duration": 16,
    "start_time": "2022-03-21T14:02:01.461Z"
   },
   {
    "duration": 31,
    "start_time": "2022-03-21T14:02:01.479Z"
   },
   {
    "duration": 8,
    "start_time": "2022-03-21T14:02:01.512Z"
   },
   {
    "duration": 39,
    "start_time": "2022-03-21T14:02:01.521Z"
   },
   {
    "duration": 8,
    "start_time": "2022-03-21T14:02:01.562Z"
   },
   {
    "duration": 11,
    "start_time": "2022-03-21T14:02:01.572Z"
   },
   {
    "duration": 30,
    "start_time": "2022-03-21T14:02:01.585Z"
   },
   {
    "duration": 28,
    "start_time": "2022-03-21T14:02:01.617Z"
   },
   {
    "duration": 13,
    "start_time": "2022-03-21T14:02:01.648Z"
   },
   {
    "duration": 13,
    "start_time": "2022-03-21T14:02:01.663Z"
   },
   {
    "duration": 17,
    "start_time": "2022-03-21T14:02:01.678Z"
   },
   {
    "duration": 28,
    "start_time": "2022-03-21T14:02:01.697Z"
   },
   {
    "duration": 22,
    "start_time": "2022-03-21T14:02:01.727Z"
   },
   {
    "duration": 34,
    "start_time": "2022-03-21T14:02:01.751Z"
   },
   {
    "duration": 20,
    "start_time": "2022-03-21T14:02:01.787Z"
   },
   {
    "duration": 27,
    "start_time": "2022-03-21T14:02:01.808Z"
   },
   {
    "duration": 13,
    "start_time": "2022-03-21T14:02:01.837Z"
   },
   {
    "duration": 19,
    "start_time": "2022-03-21T14:02:01.852Z"
   },
   {
    "duration": 109,
    "start_time": "2022-03-21T14:02:01.873Z"
   },
   {
    "duration": 14,
    "start_time": "2022-03-21T14:02:01.984Z"
   },
   {
    "duration": 4,
    "start_time": "2022-03-21T14:02:02.008Z"
   },
   {
    "duration": 20,
    "start_time": "2022-03-21T14:02:02.013Z"
   },
   {
    "duration": 10,
    "start_time": "2022-03-21T14:02:02.035Z"
   },
   {
    "duration": 13,
    "start_time": "2022-03-21T14:02:02.047Z"
   },
   {
    "duration": 25,
    "start_time": "2022-03-21T14:02:02.061Z"
   },
   {
    "duration": 21,
    "start_time": "2022-03-21T14:02:02.090Z"
   },
   {
    "duration": 5,
    "start_time": "2022-03-21T14:02:02.113Z"
   },
   {
    "duration": 8,
    "start_time": "2022-03-21T14:02:02.120Z"
   },
   {
    "duration": 1065,
    "start_time": "2022-03-21T14:02:28.754Z"
   },
   {
    "duration": 3,
    "start_time": "2022-03-21T14:02:29.821Z"
   },
   {
    "duration": 379,
    "start_time": "2022-03-21T14:02:29.826Z"
   },
   {
    "duration": 27,
    "start_time": "2022-03-21T14:02:30.207Z"
   },
   {
    "duration": 12,
    "start_time": "2022-03-21T14:02:30.235Z"
   },
   {
    "duration": 5,
    "start_time": "2022-03-21T14:02:30.248Z"
   },
   {
    "duration": 33,
    "start_time": "2022-03-21T14:02:30.254Z"
   },
   {
    "duration": 25,
    "start_time": "2022-03-21T14:02:30.289Z"
   },
   {
    "duration": 19,
    "start_time": "2022-03-21T14:02:30.316Z"
   },
   {
    "duration": 27,
    "start_time": "2022-03-21T14:02:30.338Z"
   },
   {
    "duration": 17,
    "start_time": "2022-03-21T14:02:30.367Z"
   },
   {
    "duration": 14,
    "start_time": "2022-03-21T14:02:30.386Z"
   },
   {
    "duration": 22,
    "start_time": "2022-03-21T14:02:30.402Z"
   },
   {
    "duration": 19,
    "start_time": "2022-03-21T14:02:30.425Z"
   },
   {
    "duration": 23,
    "start_time": "2022-03-21T14:02:30.445Z"
   },
   {
    "duration": 11,
    "start_time": "2022-03-21T14:02:30.470Z"
   },
   {
    "duration": 11,
    "start_time": "2022-03-21T14:02:30.483Z"
   },
   {
    "duration": 24,
    "start_time": "2022-03-21T14:02:30.496Z"
   },
   {
    "duration": 36,
    "start_time": "2022-03-21T14:02:30.521Z"
   },
   {
    "duration": 37,
    "start_time": "2022-03-21T14:02:30.559Z"
   },
   {
    "duration": 6,
    "start_time": "2022-03-21T14:02:30.597Z"
   },
   {
    "duration": 29,
    "start_time": "2022-03-21T14:02:30.608Z"
   },
   {
    "duration": 20,
    "start_time": "2022-03-21T14:02:30.639Z"
   },
   {
    "duration": 48,
    "start_time": "2022-03-21T14:02:30.661Z"
   },
   {
    "duration": 5,
    "start_time": "2022-03-21T14:02:30.710Z"
   },
   {
    "duration": 33,
    "start_time": "2022-03-21T14:02:30.717Z"
   },
   {
    "duration": 15,
    "start_time": "2022-03-21T14:02:30.752Z"
   },
   {
    "duration": 40,
    "start_time": "2022-03-21T14:02:30.771Z"
   },
   {
    "duration": 6,
    "start_time": "2022-03-21T14:02:30.813Z"
   },
   {
    "duration": 28,
    "start_time": "2022-03-21T14:02:30.820Z"
   },
   {
    "duration": 8,
    "start_time": "2022-03-21T14:02:30.850Z"
   },
   {
    "duration": 27,
    "start_time": "2022-03-21T14:02:30.860Z"
   },
   {
    "duration": 11,
    "start_time": "2022-03-21T14:02:30.889Z"
   },
   {
    "duration": 26,
    "start_time": "2022-03-21T14:02:30.902Z"
   },
   {
    "duration": 5,
    "start_time": "2022-03-21T14:02:30.929Z"
   },
   {
    "duration": 40,
    "start_time": "2022-03-21T14:02:30.936Z"
   },
   {
    "duration": 20,
    "start_time": "2022-03-21T14:02:30.977Z"
   },
   {
    "duration": 14,
    "start_time": "2022-03-21T14:02:30.999Z"
   },
   {
    "duration": 25,
    "start_time": "2022-03-21T14:02:31.015Z"
   },
   {
    "duration": 10,
    "start_time": "2022-03-21T14:02:31.042Z"
   },
   {
    "duration": 7,
    "start_time": "2022-03-21T14:02:31.054Z"
   },
   {
    "duration": 8,
    "start_time": "2022-03-21T14:02:31.063Z"
   },
   {
    "duration": 29,
    "start_time": "2022-03-21T14:02:31.072Z"
   },
   {
    "duration": 30,
    "start_time": "2022-03-21T14:02:31.103Z"
   },
   {
    "duration": 14,
    "start_time": "2022-03-21T14:02:31.135Z"
   },
   {
    "duration": 30,
    "start_time": "2022-03-21T14:02:31.150Z"
   },
   {
    "duration": 9,
    "start_time": "2022-03-21T14:02:31.182Z"
   },
   {
    "duration": 41,
    "start_time": "2022-03-21T14:02:31.193Z"
   },
   {
    "duration": 7,
    "start_time": "2022-03-21T14:02:31.236Z"
   },
   {
    "duration": 31,
    "start_time": "2022-03-21T14:02:31.245Z"
   },
   {
    "duration": 16,
    "start_time": "2022-03-21T14:02:31.278Z"
   },
   {
    "duration": 28,
    "start_time": "2022-03-21T14:02:31.295Z"
   },
   {
    "duration": 9,
    "start_time": "2022-03-21T14:02:31.325Z"
   },
   {
    "duration": 34,
    "start_time": "2022-03-21T14:02:31.336Z"
   },
   {
    "duration": 8,
    "start_time": "2022-03-21T14:02:31.372Z"
   },
   {
    "duration": 16,
    "start_time": "2022-03-21T14:02:31.382Z"
   },
   {
    "duration": 14,
    "start_time": "2022-03-21T14:02:31.399Z"
   },
   {
    "duration": 20,
    "start_time": "2022-03-21T14:02:31.414Z"
   },
   {
    "duration": 12,
    "start_time": "2022-03-21T14:02:31.435Z"
   },
   {
    "duration": 30,
    "start_time": "2022-03-21T14:02:31.449Z"
   },
   {
    "duration": 8,
    "start_time": "2022-03-21T14:02:31.481Z"
   },
   {
    "duration": 10,
    "start_time": "2022-03-21T14:02:31.490Z"
   },
   {
    "duration": 15,
    "start_time": "2022-03-21T14:02:31.508Z"
   },
   {
    "duration": 16,
    "start_time": "2022-03-21T14:02:31.524Z"
   },
   {
    "duration": 7,
    "start_time": "2022-03-21T14:02:31.542Z"
   },
   {
    "duration": 11,
    "start_time": "2022-03-21T14:02:31.550Z"
   },
   {
    "duration": 23,
    "start_time": "2022-03-21T14:02:31.563Z"
   },
   {
    "duration": 8,
    "start_time": "2022-03-21T14:02:31.588Z"
   },
   {
    "duration": 13,
    "start_time": "2022-03-21T14:02:31.597Z"
   },
   {
    "duration": 8,
    "start_time": "2022-03-21T14:02:31.611Z"
   },
   {
    "duration": 5,
    "start_time": "2022-03-21T14:02:31.621Z"
   },
   {
    "duration": 22,
    "start_time": "2022-03-21T14:02:31.627Z"
   },
   {
    "duration": 12,
    "start_time": "2022-03-21T14:02:31.651Z"
   },
   {
    "duration": 19,
    "start_time": "2022-03-21T14:02:31.665Z"
   },
   {
    "duration": 124,
    "start_time": "2022-03-21T14:02:31.685Z"
   },
   {
    "duration": 12,
    "start_time": "2022-03-21T14:02:31.810Z"
   },
   {
    "duration": 11,
    "start_time": "2022-03-21T14:02:31.824Z"
   },
   {
    "duration": 16,
    "start_time": "2022-03-21T14:02:31.837Z"
   },
   {
    "duration": 20,
    "start_time": "2022-03-21T14:02:31.855Z"
   },
   {
    "duration": 16,
    "start_time": "2022-03-21T14:02:31.877Z"
   },
   {
    "duration": 19,
    "start_time": "2022-03-21T14:02:31.895Z"
   },
   {
    "duration": 16,
    "start_time": "2022-03-21T14:02:31.919Z"
   },
   {
    "duration": 6,
    "start_time": "2022-03-21T14:02:31.936Z"
   },
   {
    "duration": 20,
    "start_time": "2022-03-21T14:02:31.944Z"
   },
   {
    "duration": 7,
    "start_time": "2022-03-21T14:03:15.948Z"
   },
   {
    "duration": 6,
    "start_time": "2022-03-21T14:03:32.860Z"
   },
   {
    "duration": 18,
    "start_time": "2022-03-21T14:04:04.230Z"
   },
   {
    "duration": 20,
    "start_time": "2022-03-21T14:04:11.932Z"
   },
   {
    "duration": 6,
    "start_time": "2022-03-21T14:04:17.792Z"
   },
   {
    "duration": 7,
    "start_time": "2022-03-21T14:04:19.748Z"
   },
   {
    "duration": 7,
    "start_time": "2022-03-21T14:04:20.269Z"
   },
   {
    "duration": 1150,
    "start_time": "2022-03-21T14:04:27.389Z"
   },
   {
    "duration": 5,
    "start_time": "2022-03-21T14:04:28.540Z"
   },
   {
    "duration": 407,
    "start_time": "2022-03-21T14:04:28.546Z"
   },
   {
    "duration": 28,
    "start_time": "2022-03-21T14:04:28.955Z"
   },
   {
    "duration": 11,
    "start_time": "2022-03-21T14:04:28.985Z"
   },
   {
    "duration": 4,
    "start_time": "2022-03-21T14:04:28.998Z"
   },
   {
    "duration": 26,
    "start_time": "2022-03-21T14:04:29.003Z"
   },
   {
    "duration": 8,
    "start_time": "2022-03-21T14:04:29.031Z"
   },
   {
    "duration": 12,
    "start_time": "2022-03-21T14:04:29.040Z"
   },
   {
    "duration": 23,
    "start_time": "2022-03-21T14:04:29.053Z"
   },
   {
    "duration": 8,
    "start_time": "2022-03-21T14:04:29.077Z"
   },
   {
    "duration": 22,
    "start_time": "2022-03-21T14:04:29.086Z"
   },
   {
    "duration": 10,
    "start_time": "2022-03-21T14:04:29.110Z"
   },
   {
    "duration": 9,
    "start_time": "2022-03-21T14:04:29.123Z"
   },
   {
    "duration": 7,
    "start_time": "2022-03-21T14:04:29.133Z"
   },
   {
    "duration": 14,
    "start_time": "2022-03-21T14:04:29.141Z"
   },
   {
    "duration": 12,
    "start_time": "2022-03-21T14:04:29.157Z"
   },
   {
    "duration": 6,
    "start_time": "2022-03-21T14:04:29.170Z"
   },
   {
    "duration": 49,
    "start_time": "2022-03-21T14:04:29.178Z"
   },
   {
    "duration": 33,
    "start_time": "2022-03-21T14:04:29.228Z"
   },
   {
    "duration": 4,
    "start_time": "2022-03-21T14:04:29.263Z"
   },
   {
    "duration": 47,
    "start_time": "2022-03-21T14:04:29.269Z"
   },
   {
    "duration": 17,
    "start_time": "2022-03-21T14:04:29.318Z"
   },
   {
    "duration": 30,
    "start_time": "2022-03-21T14:04:29.336Z"
   },
   {
    "duration": 4,
    "start_time": "2022-03-21T14:04:29.368Z"
   },
   {
    "duration": 51,
    "start_time": "2022-03-21T14:04:29.374Z"
   },
   {
    "duration": 14,
    "start_time": "2022-03-21T14:04:29.427Z"
   },
   {
    "duration": 18,
    "start_time": "2022-03-21T14:04:29.443Z"
   },
   {
    "duration": 4,
    "start_time": "2022-03-21T14:04:29.463Z"
   },
   {
    "duration": 40,
    "start_time": "2022-03-21T14:04:29.469Z"
   },
   {
    "duration": 7,
    "start_time": "2022-03-21T14:04:29.511Z"
   },
   {
    "duration": 9,
    "start_time": "2022-03-21T14:04:29.519Z"
   },
   {
    "duration": 9,
    "start_time": "2022-03-21T14:04:29.530Z"
   },
   {
    "duration": 10,
    "start_time": "2022-03-21T14:04:29.540Z"
   },
   {
    "duration": 4,
    "start_time": "2022-03-21T14:04:29.551Z"
   },
   {
    "duration": 7,
    "start_time": "2022-03-21T14:04:29.556Z"
   },
   {
    "duration": 11,
    "start_time": "2022-03-21T14:04:29.565Z"
   },
   {
    "duration": 33,
    "start_time": "2022-03-21T14:04:29.577Z"
   },
   {
    "duration": 16,
    "start_time": "2022-03-21T14:04:29.611Z"
   },
   {
    "duration": 7,
    "start_time": "2022-03-21T14:04:29.628Z"
   },
   {
    "duration": 9,
    "start_time": "2022-03-21T14:04:29.640Z"
   },
   {
    "duration": 10,
    "start_time": "2022-03-21T14:04:29.651Z"
   },
   {
    "duration": 9,
    "start_time": "2022-03-21T14:04:29.662Z"
   },
   {
    "duration": 8,
    "start_time": "2022-03-21T14:04:29.673Z"
   },
   {
    "duration": 29,
    "start_time": "2022-03-21T14:04:29.683Z"
   },
   {
    "duration": 30,
    "start_time": "2022-03-21T14:04:29.714Z"
   },
   {
    "duration": 7,
    "start_time": "2022-03-21T14:04:29.746Z"
   },
   {
    "duration": 33,
    "start_time": "2022-03-21T14:04:29.755Z"
   },
   {
    "duration": 25,
    "start_time": "2022-03-21T14:04:29.790Z"
   },
   {
    "duration": 5,
    "start_time": "2022-03-21T14:04:29.817Z"
   },
   {
    "duration": 9,
    "start_time": "2022-03-21T14:04:29.824Z"
   },
   {
    "duration": 20,
    "start_time": "2022-03-21T14:04:29.834Z"
   },
   {
    "duration": 9,
    "start_time": "2022-03-21T14:04:29.856Z"
   },
   {
    "duration": 53,
    "start_time": "2022-03-21T14:04:29.867Z"
   },
   {
    "duration": 7,
    "start_time": "2022-03-21T14:04:29.922Z"
   },
   {
    "duration": 5,
    "start_time": "2022-03-21T14:04:29.931Z"
   },
   {
    "duration": 9,
    "start_time": "2022-03-21T14:04:29.937Z"
   },
   {
    "duration": 17,
    "start_time": "2022-03-21T14:04:29.947Z"
   },
   {
    "duration": 7,
    "start_time": "2022-03-21T14:04:29.966Z"
   },
   {
    "duration": 49,
    "start_time": "2022-03-21T14:04:29.975Z"
   },
   {
    "duration": 8,
    "start_time": "2022-03-21T14:04:30.026Z"
   },
   {
    "duration": 16,
    "start_time": "2022-03-21T14:04:30.035Z"
   },
   {
    "duration": 10,
    "start_time": "2022-03-21T14:04:30.053Z"
   },
   {
    "duration": 11,
    "start_time": "2022-03-21T14:04:30.065Z"
   },
   {
    "duration": 7,
    "start_time": "2022-03-21T14:04:30.078Z"
   },
   {
    "duration": 23,
    "start_time": "2022-03-21T14:04:30.087Z"
   },
   {
    "duration": 12,
    "start_time": "2022-03-21T14:04:30.112Z"
   },
   {
    "duration": 4,
    "start_time": "2022-03-21T14:04:30.126Z"
   },
   {
    "duration": 8,
    "start_time": "2022-03-21T14:04:30.132Z"
   },
   {
    "duration": 9,
    "start_time": "2022-03-21T14:04:30.142Z"
   },
   {
    "duration": 7,
    "start_time": "2022-03-21T14:04:30.152Z"
   },
   {
    "duration": 18,
    "start_time": "2022-03-21T14:04:30.161Z"
   },
   {
    "duration": 33,
    "start_time": "2022-03-21T14:04:30.181Z"
   },
   {
    "duration": 21,
    "start_time": "2022-03-21T14:04:30.216Z"
   },
   {
    "duration": 121,
    "start_time": "2022-03-21T14:04:30.238Z"
   },
   {
    "duration": 12,
    "start_time": "2022-03-21T14:04:30.361Z"
   },
   {
    "duration": 8,
    "start_time": "2022-03-21T14:04:30.375Z"
   },
   {
    "duration": 33,
    "start_time": "2022-03-21T14:04:30.384Z"
   },
   {
    "duration": 10,
    "start_time": "2022-03-21T14:04:30.419Z"
   },
   {
    "duration": 22,
    "start_time": "2022-03-21T14:04:30.430Z"
   },
   {
    "duration": 29,
    "start_time": "2022-03-21T14:04:30.454Z"
   },
   {
    "duration": 18,
    "start_time": "2022-03-21T14:04:30.485Z"
   },
   {
    "duration": 7,
    "start_time": "2022-03-21T14:04:30.509Z"
   },
   {
    "duration": 20,
    "start_time": "2022-03-21T14:04:30.517Z"
   },
   {
    "duration": 1100,
    "start_time": "2022-03-21T14:24:32.730Z"
   },
   {
    "duration": 3,
    "start_time": "2022-03-21T14:24:33.832Z"
   },
   {
    "duration": 385,
    "start_time": "2022-03-21T14:24:33.837Z"
   },
   {
    "duration": 26,
    "start_time": "2022-03-21T14:24:34.224Z"
   },
   {
    "duration": 11,
    "start_time": "2022-03-21T14:24:34.251Z"
   },
   {
    "duration": 4,
    "start_time": "2022-03-21T14:24:34.264Z"
   },
   {
    "duration": 23,
    "start_time": "2022-03-21T14:24:34.270Z"
   },
   {
    "duration": 9,
    "start_time": "2022-03-21T14:24:34.309Z"
   },
   {
    "duration": 4,
    "start_time": "2022-03-21T14:24:34.320Z"
   },
   {
    "duration": 20,
    "start_time": "2022-03-21T14:24:34.327Z"
   },
   {
    "duration": 7,
    "start_time": "2022-03-21T14:24:34.349Z"
   },
   {
    "duration": 6,
    "start_time": "2022-03-21T14:24:34.357Z"
   },
   {
    "duration": 44,
    "start_time": "2022-03-21T14:24:34.365Z"
   },
   {
    "duration": 9,
    "start_time": "2022-03-21T14:24:34.410Z"
   },
   {
    "duration": 7,
    "start_time": "2022-03-21T14:24:34.420Z"
   },
   {
    "duration": 18,
    "start_time": "2022-03-21T14:24:34.428Z"
   },
   {
    "duration": 10,
    "start_time": "2022-03-21T14:24:34.448Z"
   },
   {
    "duration": 5,
    "start_time": "2022-03-21T14:24:34.460Z"
   },
   {
    "duration": 47,
    "start_time": "2022-03-21T14:24:34.467Z"
   },
   {
    "duration": 35,
    "start_time": "2022-03-21T14:24:34.516Z"
   },
   {
    "duration": 4,
    "start_time": "2022-03-21T14:24:34.553Z"
   },
   {
    "duration": 31,
    "start_time": "2022-03-21T14:24:34.559Z"
   },
   {
    "duration": 18,
    "start_time": "2022-03-21T14:24:34.609Z"
   },
   {
    "duration": 25,
    "start_time": "2022-03-21T14:24:34.629Z"
   },
   {
    "duration": 5,
    "start_time": "2022-03-21T14:24:34.656Z"
   },
   {
    "duration": 54,
    "start_time": "2022-03-21T14:24:34.663Z"
   },
   {
    "duration": 16,
    "start_time": "2022-03-21T14:24:34.719Z"
   },
   {
    "duration": 21,
    "start_time": "2022-03-21T14:24:34.739Z"
   },
   {
    "duration": 5,
    "start_time": "2022-03-21T14:24:34.762Z"
   },
   {
    "duration": 14,
    "start_time": "2022-03-21T14:24:34.769Z"
   },
   {
    "duration": 5,
    "start_time": "2022-03-21T14:24:34.810Z"
   },
   {
    "duration": 18,
    "start_time": "2022-03-21T14:24:34.817Z"
   },
   {
    "duration": 9,
    "start_time": "2022-03-21T14:24:34.837Z"
   },
   {
    "duration": 9,
    "start_time": "2022-03-21T14:24:34.848Z"
   },
   {
    "duration": 3,
    "start_time": "2022-03-21T14:24:34.858Z"
   },
   {
    "duration": 16,
    "start_time": "2022-03-21T14:24:34.863Z"
   },
   {
    "duration": 5,
    "start_time": "2022-03-21T14:24:34.881Z"
   },
   {
    "duration": 25,
    "start_time": "2022-03-21T14:24:34.887Z"
   },
   {
    "duration": 14,
    "start_time": "2022-03-21T14:24:34.913Z"
   },
   {
    "duration": 10,
    "start_time": "2022-03-21T14:24:34.929Z"
   },
   {
    "duration": 6,
    "start_time": "2022-03-21T14:24:34.941Z"
   },
   {
    "duration": 8,
    "start_time": "2022-03-21T14:24:34.949Z"
   },
   {
    "duration": 9,
    "start_time": "2022-03-21T14:24:34.959Z"
   },
   {
    "duration": 7,
    "start_time": "2022-03-21T14:24:34.970Z"
   },
   {
    "duration": 8,
    "start_time": "2022-03-21T14:24:35.009Z"
   },
   {
    "duration": 26,
    "start_time": "2022-03-21T14:24:35.018Z"
   },
   {
    "duration": 9,
    "start_time": "2022-03-21T14:24:35.045Z"
   },
   {
    "duration": 34,
    "start_time": "2022-03-21T14:24:35.055Z"
   },
   {
    "duration": 8,
    "start_time": "2022-03-21T14:24:35.109Z"
   },
   {
    "duration": 6,
    "start_time": "2022-03-21T14:24:35.118Z"
   },
   {
    "duration": 12,
    "start_time": "2022-03-21T14:24:35.126Z"
   },
   {
    "duration": 19,
    "start_time": "2022-03-21T14:24:35.140Z"
   },
   {
    "duration": 9,
    "start_time": "2022-03-21T14:24:35.161Z"
   },
   {
    "duration": 58,
    "start_time": "2022-03-21T14:24:35.172Z"
   },
   {
    "duration": 9,
    "start_time": "2022-03-21T14:24:35.232Z"
   },
   {
    "duration": 28,
    "start_time": "2022-03-21T14:24:35.243Z"
   },
   {
    "duration": 13,
    "start_time": "2022-03-21T14:24:35.273Z"
   },
   {
    "duration": 22,
    "start_time": "2022-03-21T14:24:35.289Z"
   },
   {
    "duration": 9,
    "start_time": "2022-03-21T14:24:35.313Z"
   },
   {
    "duration": 38,
    "start_time": "2022-03-21T14:24:35.324Z"
   },
   {
    "duration": 9,
    "start_time": "2022-03-21T14:24:35.364Z"
   },
   {
    "duration": 19,
    "start_time": "2022-03-21T14:24:35.375Z"
   },
   {
    "duration": 14,
    "start_time": "2022-03-21T14:24:35.396Z"
   },
   {
    "duration": 10,
    "start_time": "2022-03-21T14:24:35.412Z"
   },
   {
    "duration": 8,
    "start_time": "2022-03-21T14:24:35.423Z"
   },
   {
    "duration": 8,
    "start_time": "2022-03-21T14:24:35.433Z"
   },
   {
    "duration": 9,
    "start_time": "2022-03-21T14:24:35.443Z"
   },
   {
    "duration": 4,
    "start_time": "2022-03-21T14:24:35.453Z"
   },
   {
    "duration": 9,
    "start_time": "2022-03-21T14:24:35.459Z"
   },
   {
    "duration": 16,
    "start_time": "2022-03-21T14:24:35.470Z"
   },
   {
    "duration": 22,
    "start_time": "2022-03-21T14:24:35.487Z"
   },
   {
    "duration": 16,
    "start_time": "2022-03-21T14:24:35.511Z"
   },
   {
    "duration": 11,
    "start_time": "2022-03-21T14:24:35.529Z"
   },
   {
    "duration": 22,
    "start_time": "2022-03-21T14:24:35.542Z"
   },
   {
    "duration": 127,
    "start_time": "2022-03-21T14:24:35.566Z"
   },
   {
    "duration": 14,
    "start_time": "2022-03-21T14:24:35.695Z"
   },
   {
    "duration": 5,
    "start_time": "2022-03-21T14:24:35.711Z"
   },
   {
    "duration": 16,
    "start_time": "2022-03-21T14:24:35.718Z"
   },
   {
    "duration": 6,
    "start_time": "2022-03-21T14:24:35.736Z"
   },
   {
    "duration": 14,
    "start_time": "2022-03-21T14:24:35.744Z"
   },
   {
    "duration": 18,
    "start_time": "2022-03-21T14:24:35.760Z"
   },
   {
    "duration": 20,
    "start_time": "2022-03-21T14:24:35.808Z"
   },
   {
    "duration": 7,
    "start_time": "2022-03-21T14:24:35.830Z"
   },
   {
    "duration": 11,
    "start_time": "2022-03-21T14:24:35.838Z"
   },
   {
    "duration": 7,
    "start_time": "2022-03-21T14:39:33.169Z"
   },
   {
    "duration": 7,
    "start_time": "2022-03-21T14:39:33.984Z"
   },
   {
    "duration": 122,
    "start_time": "2022-03-21T15:06:40.067Z"
   },
   {
    "duration": 102,
    "start_time": "2022-03-21T15:06:49.147Z"
   },
   {
    "duration": 106,
    "start_time": "2022-03-21T15:06:55.602Z"
   },
   {
    "duration": 109,
    "start_time": "2022-03-21T15:06:59.572Z"
   },
   {
    "duration": 118,
    "start_time": "2022-03-21T15:07:09.602Z"
   },
   {
    "duration": 109,
    "start_time": "2022-03-21T15:07:13.388Z"
   },
   {
    "duration": 105,
    "start_time": "2022-03-21T15:07:22.882Z"
   },
   {
    "duration": 111,
    "start_time": "2022-03-21T15:07:29.282Z"
   },
   {
    "duration": 1106,
    "start_time": "2022-03-21T15:08:16.332Z"
   },
   {
    "duration": 3,
    "start_time": "2022-03-21T15:08:17.440Z"
   },
   {
    "duration": 398,
    "start_time": "2022-03-21T15:08:17.448Z"
   },
   {
    "duration": 27,
    "start_time": "2022-03-21T15:08:17.849Z"
   },
   {
    "duration": 16,
    "start_time": "2022-03-21T15:08:17.878Z"
   },
   {
    "duration": 5,
    "start_time": "2022-03-21T15:08:17.896Z"
   },
   {
    "duration": 25,
    "start_time": "2022-03-21T15:08:17.908Z"
   },
   {
    "duration": 8,
    "start_time": "2022-03-21T15:08:17.935Z"
   },
   {
    "duration": 4,
    "start_time": "2022-03-21T15:08:17.947Z"
   },
   {
    "duration": 21,
    "start_time": "2022-03-21T15:08:17.953Z"
   },
   {
    "duration": 37,
    "start_time": "2022-03-21T15:08:17.976Z"
   },
   {
    "duration": 4,
    "start_time": "2022-03-21T15:08:18.015Z"
   },
   {
    "duration": 12,
    "start_time": "2022-03-21T15:08:18.021Z"
   },
   {
    "duration": 9,
    "start_time": "2022-03-21T15:08:18.035Z"
   },
   {
    "duration": 6,
    "start_time": "2022-03-21T15:08:18.046Z"
   },
   {
    "duration": 12,
    "start_time": "2022-03-21T15:08:18.054Z"
   },
   {
    "duration": 49,
    "start_time": "2022-03-21T15:08:18.068Z"
   },
   {
    "duration": 6,
    "start_time": "2022-03-21T15:08:18.119Z"
   },
   {
    "duration": 24,
    "start_time": "2022-03-21T15:08:18.126Z"
   },
   {
    "duration": 62,
    "start_time": "2022-03-21T15:08:18.151Z"
   },
   {
    "duration": 5,
    "start_time": "2022-03-21T15:08:18.215Z"
   },
   {
    "duration": 29,
    "start_time": "2022-03-21T15:08:18.222Z"
   },
   {
    "duration": 20,
    "start_time": "2022-03-21T15:08:18.252Z"
   },
   {
    "duration": 50,
    "start_time": "2022-03-21T15:08:18.273Z"
   },
   {
    "duration": 5,
    "start_time": "2022-03-21T15:08:18.325Z"
   },
   {
    "duration": 30,
    "start_time": "2022-03-21T15:08:18.331Z"
   },
   {
    "duration": 16,
    "start_time": "2022-03-21T15:08:18.367Z"
   },
   {
    "duration": 19,
    "start_time": "2022-03-21T15:08:18.410Z"
   },
   {
    "duration": 6,
    "start_time": "2022-03-21T15:08:18.430Z"
   },
   {
    "duration": 18,
    "start_time": "2022-03-21T15:08:18.438Z"
   },
   {
    "duration": 8,
    "start_time": "2022-03-21T15:08:18.458Z"
   },
   {
    "duration": 42,
    "start_time": "2022-03-21T15:08:18.468Z"
   },
   {
    "duration": 9,
    "start_time": "2022-03-21T15:08:18.512Z"
   },
   {
    "duration": 11,
    "start_time": "2022-03-21T15:08:18.523Z"
   },
   {
    "duration": 4,
    "start_time": "2022-03-21T15:08:18.536Z"
   },
   {
    "duration": 6,
    "start_time": "2022-03-21T15:08:18.542Z"
   },
   {
    "duration": 6,
    "start_time": "2022-03-21T15:08:18.550Z"
   },
   {
    "duration": 9,
    "start_time": "2022-03-21T15:08:18.558Z"
   },
   {
    "duration": 50,
    "start_time": "2022-03-21T15:08:18.568Z"
   },
   {
    "duration": 10,
    "start_time": "2022-03-21T15:08:18.620Z"
   },
   {
    "duration": 7,
    "start_time": "2022-03-21T15:08:18.632Z"
   },
   {
    "duration": 7,
    "start_time": "2022-03-21T15:08:18.641Z"
   },
   {
    "duration": 7,
    "start_time": "2022-03-21T15:08:18.650Z"
   },
   {
    "duration": 10,
    "start_time": "2022-03-21T15:08:18.658Z"
   },
   {
    "duration": 12,
    "start_time": "2022-03-21T15:08:18.670Z"
   },
   {
    "duration": 24,
    "start_time": "2022-03-21T15:08:18.709Z"
   },
   {
    "duration": 11,
    "start_time": "2022-03-21T15:08:18.735Z"
   },
   {
    "duration": 34,
    "start_time": "2022-03-21T15:08:18.748Z"
   },
   {
    "duration": 29,
    "start_time": "2022-03-21T15:08:18.784Z"
   },
   {
    "duration": 5,
    "start_time": "2022-03-21T15:08:18.814Z"
   },
   {
    "duration": 8,
    "start_time": "2022-03-21T15:08:18.821Z"
   },
   {
    "duration": 19,
    "start_time": "2022-03-21T15:08:18.830Z"
   },
   {
    "duration": 9,
    "start_time": "2022-03-21T15:08:18.851Z"
   },
   {
    "duration": 65,
    "start_time": "2022-03-21T15:08:18.862Z"
   },
   {
    "duration": 9,
    "start_time": "2022-03-21T15:08:18.929Z"
   },
   {
    "duration": 6,
    "start_time": "2022-03-21T15:08:18.939Z"
   },
   {
    "duration": 10,
    "start_time": "2022-03-21T15:08:18.946Z"
   },
   {
    "duration": 17,
    "start_time": "2022-03-21T15:08:18.957Z"
   },
   {
    "duration": 8,
    "start_time": "2022-03-21T15:08:18.975Z"
   },
   {
    "duration": 23,
    "start_time": "2022-03-21T15:08:19.009Z"
   },
   {
    "duration": 8,
    "start_time": "2022-03-21T15:08:19.034Z"
   },
   {
    "duration": 3,
    "start_time": "2022-03-21T15:08:19.044Z"
   },
   {
    "duration": 8,
    "start_time": "2022-03-21T15:08:19.049Z"
   },
   {
    "duration": 9,
    "start_time": "2022-03-21T15:08:19.059Z"
   },
   {
    "duration": 40,
    "start_time": "2022-03-21T15:08:19.070Z"
   },
   {
    "duration": 9,
    "start_time": "2022-03-21T15:08:19.112Z"
   },
   {
    "duration": 7,
    "start_time": "2022-03-21T15:08:19.123Z"
   },
   {
    "duration": 4,
    "start_time": "2022-03-21T15:08:19.132Z"
   },
   {
    "duration": 6,
    "start_time": "2022-03-21T15:08:19.138Z"
   },
   {
    "duration": 6,
    "start_time": "2022-03-21T15:08:19.146Z"
   },
   {
    "duration": 4,
    "start_time": "2022-03-21T15:08:19.154Z"
   },
   {
    "duration": 57,
    "start_time": "2022-03-21T15:08:19.160Z"
   },
   {
    "duration": 13,
    "start_time": "2022-03-21T15:08:19.219Z"
   },
   {
    "duration": 18,
    "start_time": "2022-03-21T15:08:19.234Z"
   },
   {
    "duration": 128,
    "start_time": "2022-03-21T15:08:19.253Z"
   },
   {
    "duration": 12,
    "start_time": "2022-03-21T15:08:19.383Z"
   },
   {
    "duration": 6,
    "start_time": "2022-03-21T15:08:19.409Z"
   },
   {
    "duration": 26,
    "start_time": "2022-03-21T15:08:19.417Z"
   },
   {
    "duration": 5,
    "start_time": "2022-03-21T15:08:19.445Z"
   },
   {
    "duration": 13,
    "start_time": "2022-03-21T15:08:19.452Z"
   },
   {
    "duration": 148,
    "start_time": "2022-03-21T15:08:19.471Z"
   },
   {
    "duration": 18,
    "start_time": "2022-03-21T15:08:19.622Z"
   },
   {
    "duration": 19,
    "start_time": "2022-03-21T15:08:19.642Z"
   },
   {
    "duration": 8,
    "start_time": "2022-03-21T15:08:19.663Z"
   },
   {
    "duration": 9,
    "start_time": "2022-03-21T15:08:19.710Z"
   },
   {
    "duration": 1526,
    "start_time": "2022-03-22T12:38:53.334Z"
   },
   {
    "duration": 3,
    "start_time": "2022-03-22T12:38:54.862Z"
   },
   {
    "duration": 429,
    "start_time": "2022-03-22T12:38:54.867Z"
   },
   {
    "duration": 32,
    "start_time": "2022-03-22T12:38:55.299Z"
   },
   {
    "duration": 14,
    "start_time": "2022-03-22T12:38:55.333Z"
   },
   {
    "duration": 6,
    "start_time": "2022-03-22T12:38:55.349Z"
   },
   {
    "duration": 46,
    "start_time": "2022-03-22T12:38:55.357Z"
   },
   {
    "duration": 10,
    "start_time": "2022-03-22T12:38:55.405Z"
   },
   {
    "duration": 17,
    "start_time": "2022-03-22T12:38:55.417Z"
   },
   {
    "duration": 26,
    "start_time": "2022-03-22T12:38:55.437Z"
   },
   {
    "duration": 15,
    "start_time": "2022-03-22T12:38:55.464Z"
   },
   {
    "duration": 21,
    "start_time": "2022-03-22T12:38:55.481Z"
   },
   {
    "duration": 22,
    "start_time": "2022-03-22T12:38:55.504Z"
   },
   {
    "duration": 20,
    "start_time": "2022-03-22T12:38:55.528Z"
   },
   {
    "duration": 11,
    "start_time": "2022-03-22T12:38:55.550Z"
   },
   {
    "duration": 18,
    "start_time": "2022-03-22T12:38:55.563Z"
   },
   {
    "duration": 18,
    "start_time": "2022-03-22T12:38:55.583Z"
   },
   {
    "duration": 15,
    "start_time": "2022-03-22T12:38:55.603Z"
   },
   {
    "duration": 28,
    "start_time": "2022-03-22T12:38:55.619Z"
   },
   {
    "duration": 37,
    "start_time": "2022-03-22T12:38:55.650Z"
   },
   {
    "duration": 15,
    "start_time": "2022-03-22T12:38:55.689Z"
   },
   {
    "duration": 48,
    "start_time": "2022-03-22T12:38:55.705Z"
   },
   {
    "duration": 19,
    "start_time": "2022-03-22T12:38:55.755Z"
   },
   {
    "duration": 40,
    "start_time": "2022-03-22T12:38:55.776Z"
   },
   {
    "duration": 6,
    "start_time": "2022-03-22T12:38:55.818Z"
   },
   {
    "duration": 42,
    "start_time": "2022-03-22T12:38:55.825Z"
   },
   {
    "duration": 17,
    "start_time": "2022-03-22T12:38:55.869Z"
   },
   {
    "duration": 24,
    "start_time": "2022-03-22T12:38:55.900Z"
   },
   {
    "duration": 5,
    "start_time": "2022-03-22T12:38:55.926Z"
   },
   {
    "duration": 24,
    "start_time": "2022-03-22T12:38:55.933Z"
   },
   {
    "duration": 10,
    "start_time": "2022-03-22T12:38:55.959Z"
   },
   {
    "duration": 17,
    "start_time": "2022-03-22T12:38:55.971Z"
   },
   {
    "duration": 7,
    "start_time": "2022-03-22T12:38:56.001Z"
   },
   {
    "duration": 22,
    "start_time": "2022-03-22T12:38:56.010Z"
   },
   {
    "duration": 5,
    "start_time": "2022-03-22T12:38:56.033Z"
   },
   {
    "duration": 14,
    "start_time": "2022-03-22T12:38:56.040Z"
   },
   {
    "duration": 13,
    "start_time": "2022-03-22T12:38:56.055Z"
   },
   {
    "duration": 12,
    "start_time": "2022-03-22T12:38:56.070Z"
   },
   {
    "duration": 34,
    "start_time": "2022-03-22T12:38:56.083Z"
   },
   {
    "duration": 16,
    "start_time": "2022-03-22T12:38:56.119Z"
   },
   {
    "duration": 17,
    "start_time": "2022-03-22T12:38:56.136Z"
   },
   {
    "duration": 25,
    "start_time": "2022-03-22T12:38:56.155Z"
   },
   {
    "duration": 17,
    "start_time": "2022-03-22T12:38:56.182Z"
   },
   {
    "duration": 18,
    "start_time": "2022-03-22T12:38:56.201Z"
   },
   {
    "duration": 21,
    "start_time": "2022-03-22T12:38:56.221Z"
   },
   {
    "duration": 37,
    "start_time": "2022-03-22T12:38:56.244Z"
   },
   {
    "duration": 12,
    "start_time": "2022-03-22T12:38:56.282Z"
   },
   {
    "duration": 46,
    "start_time": "2022-03-22T12:38:56.295Z"
   },
   {
    "duration": 11,
    "start_time": "2022-03-22T12:38:56.343Z"
   },
   {
    "duration": 17,
    "start_time": "2022-03-22T12:38:56.356Z"
   },
   {
    "duration": 17,
    "start_time": "2022-03-22T12:38:56.375Z"
   },
   {
    "duration": 27,
    "start_time": "2022-03-22T12:38:56.394Z"
   },
   {
    "duration": 9,
    "start_time": "2022-03-22T12:38:56.423Z"
   },
   {
    "duration": 40,
    "start_time": "2022-03-22T12:38:56.434Z"
   },
   {
    "duration": 9,
    "start_time": "2022-03-22T12:38:56.475Z"
   },
   {
    "duration": 25,
    "start_time": "2022-03-22T12:38:56.486Z"
   },
   {
    "duration": 17,
    "start_time": "2022-03-22T12:38:56.513Z"
   },
   {
    "duration": 24,
    "start_time": "2022-03-22T12:38:56.532Z"
   },
   {
    "duration": 9,
    "start_time": "2022-03-22T12:38:56.558Z"
   },
   {
    "duration": 33,
    "start_time": "2022-03-22T12:38:56.568Z"
   },
   {
    "duration": 7,
    "start_time": "2022-03-22T12:38:56.603Z"
   },
   {
    "duration": 13,
    "start_time": "2022-03-22T12:38:56.612Z"
   },
   {
    "duration": 26,
    "start_time": "2022-03-22T12:38:56.627Z"
   },
   {
    "duration": 17,
    "start_time": "2022-03-22T12:38:56.655Z"
   },
   {
    "duration": 14,
    "start_time": "2022-03-22T12:38:56.674Z"
   },
   {
    "duration": 16,
    "start_time": "2022-03-22T12:38:56.690Z"
   },
   {
    "duration": 11,
    "start_time": "2022-03-22T12:38:56.708Z"
   },
   {
    "duration": 11,
    "start_time": "2022-03-22T12:38:56.721Z"
   },
   {
    "duration": 12,
    "start_time": "2022-03-22T12:38:56.734Z"
   },
   {
    "duration": 21,
    "start_time": "2022-03-22T12:38:56.747Z"
   },
   {
    "duration": 10,
    "start_time": "2022-03-22T12:38:56.770Z"
   },
   {
    "duration": 24,
    "start_time": "2022-03-22T12:38:56.782Z"
   },
   {
    "duration": 16,
    "start_time": "2022-03-22T12:38:56.808Z"
   },
   {
    "duration": 31,
    "start_time": "2022-03-22T12:38:56.826Z"
   },
   {
    "duration": 125,
    "start_time": "2022-03-22T12:38:56.859Z"
   },
   {
    "duration": 23,
    "start_time": "2022-03-22T12:38:56.986Z"
   },
   {
    "duration": 19,
    "start_time": "2022-03-22T12:38:57.011Z"
   },
   {
    "duration": 16,
    "start_time": "2022-03-22T12:38:57.031Z"
   },
   {
    "duration": 14,
    "start_time": "2022-03-22T12:38:57.049Z"
   },
   {
    "duration": 17,
    "start_time": "2022-03-22T12:38:57.065Z"
   },
   {
    "duration": 123,
    "start_time": "2022-03-22T12:38:57.084Z"
   },
   {
    "duration": 19,
    "start_time": "2022-03-22T12:38:57.213Z"
   },
   {
    "duration": 17,
    "start_time": "2022-03-22T12:38:57.234Z"
   },
   {
    "duration": 7,
    "start_time": "2022-03-22T12:38:57.253Z"
   },
   {
    "duration": 40,
    "start_time": "2022-03-22T12:38:57.262Z"
   },
   {
    "duration": 13,
    "start_time": "2022-03-22T12:38:57.304Z"
   },
   {
    "duration": 1297,
    "start_time": "2022-03-22T12:39:33.863Z"
   },
   {
    "duration": 3,
    "start_time": "2022-03-22T12:39:35.162Z"
   },
   {
    "duration": 449,
    "start_time": "2022-03-22T12:39:35.167Z"
   },
   {
    "duration": 49,
    "start_time": "2022-03-22T12:39:35.619Z"
   },
   {
    "duration": 22,
    "start_time": "2022-03-22T12:39:35.670Z"
   },
   {
    "duration": 8,
    "start_time": "2022-03-22T12:39:35.694Z"
   },
   {
    "duration": 32,
    "start_time": "2022-03-22T12:39:35.704Z"
   },
   {
    "duration": 10,
    "start_time": "2022-03-22T12:39:35.738Z"
   },
   {
    "duration": 16,
    "start_time": "2022-03-22T12:39:35.751Z"
   },
   {
    "duration": 33,
    "start_time": "2022-03-22T12:39:35.772Z"
   },
   {
    "duration": 9,
    "start_time": "2022-03-22T12:39:35.807Z"
   },
   {
    "duration": 12,
    "start_time": "2022-03-22T12:39:35.818Z"
   },
   {
    "duration": 20,
    "start_time": "2022-03-22T12:39:35.832Z"
   },
   {
    "duration": 18,
    "start_time": "2022-03-22T12:39:35.854Z"
   },
   {
    "duration": 17,
    "start_time": "2022-03-22T12:39:35.874Z"
   },
   {
    "duration": 13,
    "start_time": "2022-03-22T12:39:35.900Z"
   },
   {
    "duration": 19,
    "start_time": "2022-03-22T12:39:35.915Z"
   },
   {
    "duration": 12,
    "start_time": "2022-03-22T12:39:35.936Z"
   },
   {
    "duration": 29,
    "start_time": "2022-03-22T12:39:35.950Z"
   },
   {
    "duration": 52,
    "start_time": "2022-03-22T12:39:35.981Z"
   },
   {
    "duration": 6,
    "start_time": "2022-03-22T12:39:36.035Z"
   },
   {
    "duration": 38,
    "start_time": "2022-03-22T12:39:36.043Z"
   },
   {
    "duration": 36,
    "start_time": "2022-03-22T12:39:36.083Z"
   },
   {
    "duration": 32,
    "start_time": "2022-03-22T12:39:36.121Z"
   },
   {
    "duration": 5,
    "start_time": "2022-03-22T12:39:36.154Z"
   },
   {
    "duration": 50,
    "start_time": "2022-03-22T12:39:36.161Z"
   },
   {
    "duration": 17,
    "start_time": "2022-03-22T12:39:36.213Z"
   },
   {
    "duration": 20,
    "start_time": "2022-03-22T12:39:36.235Z"
   },
   {
    "duration": 6,
    "start_time": "2022-03-22T12:39:36.257Z"
   },
   {
    "duration": 42,
    "start_time": "2022-03-22T12:39:36.265Z"
   },
   {
    "duration": 7,
    "start_time": "2022-03-22T12:39:36.308Z"
   },
   {
    "duration": 42,
    "start_time": "2022-03-22T12:39:36.316Z"
   },
   {
    "duration": 11,
    "start_time": "2022-03-22T12:39:36.359Z"
   },
   {
    "duration": 16,
    "start_time": "2022-03-22T12:39:36.371Z"
   },
   {
    "duration": 4,
    "start_time": "2022-03-22T12:39:36.389Z"
   },
   {
    "duration": 17,
    "start_time": "2022-03-22T12:39:36.395Z"
   },
   {
    "duration": 11,
    "start_time": "2022-03-22T12:39:36.414Z"
   },
   {
    "duration": 13,
    "start_time": "2022-03-22T12:39:36.427Z"
   },
   {
    "duration": 17,
    "start_time": "2022-03-22T12:39:36.442Z"
   },
   {
    "duration": 10,
    "start_time": "2022-03-22T12:39:36.462Z"
   },
   {
    "duration": 15,
    "start_time": "2022-03-22T12:39:36.475Z"
   },
   {
    "duration": 15,
    "start_time": "2022-03-22T12:39:36.492Z"
   },
   {
    "duration": 13,
    "start_time": "2022-03-22T12:39:36.509Z"
   },
   {
    "duration": 11,
    "start_time": "2022-03-22T12:39:36.524Z"
   },
   {
    "duration": 15,
    "start_time": "2022-03-22T12:39:36.538Z"
   },
   {
    "duration": 45,
    "start_time": "2022-03-22T12:39:36.556Z"
   },
   {
    "duration": 11,
    "start_time": "2022-03-22T12:39:36.603Z"
   },
   {
    "duration": 40,
    "start_time": "2022-03-22T12:39:36.616Z"
   },
   {
    "duration": 10,
    "start_time": "2022-03-22T12:39:36.657Z"
   },
   {
    "duration": 13,
    "start_time": "2022-03-22T12:39:36.669Z"
   },
   {
    "duration": 23,
    "start_time": "2022-03-22T12:39:36.684Z"
   },
   {
    "duration": 21,
    "start_time": "2022-03-22T12:39:36.709Z"
   },
   {
    "duration": 10,
    "start_time": "2022-03-22T12:39:36.732Z"
   },
   {
    "duration": 38,
    "start_time": "2022-03-22T12:39:36.744Z"
   },
   {
    "duration": 26,
    "start_time": "2022-03-22T12:39:36.783Z"
   },
   {
    "duration": 5,
    "start_time": "2022-03-22T12:39:36.811Z"
   },
   {
    "duration": 11,
    "start_time": "2022-03-22T12:39:36.818Z"
   },
   {
    "duration": 21,
    "start_time": "2022-03-22T12:39:36.831Z"
   },
   {
    "duration": 9,
    "start_time": "2022-03-22T12:39:36.854Z"
   },
   {
    "duration": 54,
    "start_time": "2022-03-22T12:39:36.865Z"
   },
   {
    "duration": 10,
    "start_time": "2022-03-22T12:39:36.920Z"
   },
   {
    "duration": 6,
    "start_time": "2022-03-22T12:39:36.932Z"
   },
   {
    "duration": 16,
    "start_time": "2022-03-22T12:39:36.940Z"
   },
   {
    "duration": 17,
    "start_time": "2022-03-22T12:39:36.958Z"
   },
   {
    "duration": 28,
    "start_time": "2022-03-22T12:39:36.977Z"
   },
   {
    "duration": 10,
    "start_time": "2022-03-22T12:39:37.007Z"
   },
   {
    "duration": 10,
    "start_time": "2022-03-22T12:39:37.019Z"
   },
   {
    "duration": 14,
    "start_time": "2022-03-22T12:39:37.030Z"
   },
   {
    "duration": 12,
    "start_time": "2022-03-22T12:39:37.046Z"
   },
   {
    "duration": 24,
    "start_time": "2022-03-22T12:39:37.061Z"
   },
   {
    "duration": 14,
    "start_time": "2022-03-22T12:39:37.087Z"
   },
   {
    "duration": 27,
    "start_time": "2022-03-22T12:39:37.103Z"
   },
   {
    "duration": 21,
    "start_time": "2022-03-22T12:39:37.133Z"
   },
   {
    "duration": 25,
    "start_time": "2022-03-22T12:39:37.156Z"
   },
   {
    "duration": 118,
    "start_time": "2022-03-22T12:39:37.183Z"
   },
   {
    "duration": 15,
    "start_time": "2022-03-22T12:39:37.303Z"
   },
   {
    "duration": 21,
    "start_time": "2022-03-22T12:39:37.320Z"
   },
   {
    "duration": 24,
    "start_time": "2022-03-22T12:39:37.343Z"
   },
   {
    "duration": 30,
    "start_time": "2022-03-22T12:39:37.369Z"
   },
   {
    "duration": 26,
    "start_time": "2022-03-22T12:39:37.401Z"
   },
   {
    "duration": 132,
    "start_time": "2022-03-22T12:39:37.429Z"
   },
   {
    "duration": 25,
    "start_time": "2022-03-22T12:39:37.567Z"
   },
   {
    "duration": 23,
    "start_time": "2022-03-22T12:39:37.602Z"
   },
   {
    "duration": 16,
    "start_time": "2022-03-22T12:39:37.627Z"
   },
   {
    "duration": 13,
    "start_time": "2022-03-22T12:39:37.644Z"
   },
   {
    "duration": 14,
    "start_time": "2022-03-22T12:39:37.659Z"
   },
   {
    "duration": 8,
    "start_time": "2022-03-22T12:40:05.021Z"
   },
   {
    "duration": 7,
    "start_time": "2022-03-22T12:40:10.802Z"
   },
   {
    "duration": 1385,
    "start_time": "2022-03-22T12:40:44.774Z"
   },
   {
    "duration": 3,
    "start_time": "2022-03-22T12:40:46.162Z"
   },
   {
    "duration": 422,
    "start_time": "2022-03-22T12:40:46.167Z"
   },
   {
    "duration": 32,
    "start_time": "2022-03-22T12:40:46.592Z"
   },
   {
    "duration": 13,
    "start_time": "2022-03-22T12:40:46.626Z"
   },
   {
    "duration": 5,
    "start_time": "2022-03-22T12:40:46.641Z"
   },
   {
    "duration": 56,
    "start_time": "2022-03-22T12:40:46.648Z"
   },
   {
    "duration": 10,
    "start_time": "2022-03-22T12:40:46.706Z"
   },
   {
    "duration": 13,
    "start_time": "2022-03-22T12:40:46.718Z"
   },
   {
    "duration": 22,
    "start_time": "2022-03-22T12:40:46.735Z"
   },
   {
    "duration": 8,
    "start_time": "2022-03-22T12:40:46.760Z"
   },
   {
    "duration": 5,
    "start_time": "2022-03-22T12:40:46.801Z"
   },
   {
    "duration": 15,
    "start_time": "2022-03-22T12:40:46.808Z"
   },
   {
    "duration": 14,
    "start_time": "2022-03-22T12:40:46.825Z"
   },
   {
    "duration": 6,
    "start_time": "2022-03-22T12:40:46.841Z"
   },
   {
    "duration": 14,
    "start_time": "2022-03-22T12:40:46.849Z"
   },
   {
    "duration": 42,
    "start_time": "2022-03-22T12:40:46.865Z"
   },
   {
    "duration": 8,
    "start_time": "2022-03-22T12:40:46.909Z"
   },
   {
    "duration": 23,
    "start_time": "2022-03-22T12:40:46.919Z"
   },
   {
    "duration": 35,
    "start_time": "2022-03-22T12:40:46.944Z"
   },
   {
    "duration": 22,
    "start_time": "2022-03-22T12:40:46.981Z"
   },
   {
    "duration": 36,
    "start_time": "2022-03-22T12:40:47.005Z"
   },
   {
    "duration": 20,
    "start_time": "2022-03-22T12:40:47.042Z"
   },
   {
    "duration": 52,
    "start_time": "2022-03-22T12:40:47.063Z"
   },
   {
    "duration": 6,
    "start_time": "2022-03-22T12:40:47.117Z"
   },
   {
    "duration": 40,
    "start_time": "2022-03-22T12:40:47.124Z"
   },
   {
    "duration": 17,
    "start_time": "2022-03-22T12:40:47.166Z"
   },
   {
    "duration": 21,
    "start_time": "2022-03-22T12:40:47.203Z"
   },
   {
    "duration": 5,
    "start_time": "2022-03-22T12:40:47.226Z"
   },
   {
    "duration": 16,
    "start_time": "2022-03-22T12:40:47.233Z"
   },
   {
    "duration": 7,
    "start_time": "2022-03-22T12:40:47.251Z"
   },
   {
    "duration": 12,
    "start_time": "2022-03-22T12:40:47.259Z"
   },
   {
    "duration": 34,
    "start_time": "2022-03-22T12:40:47.273Z"
   },
   {
    "duration": 13,
    "start_time": "2022-03-22T12:40:47.309Z"
   },
   {
    "duration": 4,
    "start_time": "2022-03-22T12:40:47.324Z"
   },
   {
    "duration": 10,
    "start_time": "2022-03-22T12:40:47.329Z"
   },
   {
    "duration": 12,
    "start_time": "2022-03-22T12:40:47.340Z"
   },
   {
    "duration": 13,
    "start_time": "2022-03-22T12:40:47.354Z"
   },
   {
    "duration": 40,
    "start_time": "2022-03-22T12:40:47.369Z"
   },
   {
    "duration": 8,
    "start_time": "2022-03-22T12:40:47.411Z"
   },
   {
    "duration": 9,
    "start_time": "2022-03-22T12:40:47.421Z"
   },
   {
    "duration": 10,
    "start_time": "2022-03-22T12:40:47.432Z"
   },
   {
    "duration": 14,
    "start_time": "2022-03-22T12:40:47.443Z"
   },
   {
    "duration": 9,
    "start_time": "2022-03-22T12:40:47.459Z"
   },
   {
    "duration": 35,
    "start_time": "2022-03-22T12:40:47.470Z"
   },
   {
    "duration": 31,
    "start_time": "2022-03-22T12:40:47.506Z"
   },
   {
    "duration": 10,
    "start_time": "2022-03-22T12:40:47.539Z"
   },
   {
    "duration": 51,
    "start_time": "2022-03-22T12:40:47.551Z"
   },
   {
    "duration": 8,
    "start_time": "2022-03-22T12:40:47.604Z"
   },
   {
    "duration": 7,
    "start_time": "2022-03-22T12:40:47.614Z"
   },
   {
    "duration": 10,
    "start_time": "2022-03-22T12:40:47.623Z"
   },
   {
    "duration": 25,
    "start_time": "2022-03-22T12:40:47.634Z"
   },
   {
    "duration": 9,
    "start_time": "2022-03-22T12:40:47.661Z"
   },
   {
    "duration": 55,
    "start_time": "2022-03-22T12:40:47.672Z"
   },
   {
    "duration": 9,
    "start_time": "2022-03-22T12:40:47.729Z"
   },
   {
    "duration": 5,
    "start_time": "2022-03-22T12:40:47.740Z"
   },
   {
    "duration": 10,
    "start_time": "2022-03-22T12:40:47.747Z"
   },
   {
    "duration": 22,
    "start_time": "2022-03-22T12:40:47.758Z"
   },
   {
    "duration": 9,
    "start_time": "2022-03-22T12:40:47.801Z"
   },
   {
    "duration": 31,
    "start_time": "2022-03-22T12:40:47.811Z"
   },
   {
    "duration": 9,
    "start_time": "2022-03-22T12:40:47.845Z"
   },
   {
    "duration": 9,
    "start_time": "2022-03-22T12:40:47.856Z"
   },
   {
    "duration": 10,
    "start_time": "2022-03-22T12:40:47.867Z"
   },
   {
    "duration": 26,
    "start_time": "2022-03-22T12:40:47.879Z"
   },
   {
    "duration": 16,
    "start_time": "2022-03-22T12:40:47.907Z"
   },
   {
    "duration": 10,
    "start_time": "2022-03-22T12:40:47.925Z"
   },
   {
    "duration": 14,
    "start_time": "2022-03-22T12:40:47.937Z"
   },
   {
    "duration": 6,
    "start_time": "2022-03-22T12:40:47.953Z"
   },
   {
    "duration": 12,
    "start_time": "2022-03-22T12:40:47.961Z"
   },
   {
    "duration": 26,
    "start_time": "2022-03-22T12:40:47.975Z"
   },
   {
    "duration": 4,
    "start_time": "2022-03-22T12:40:48.003Z"
   },
   {
    "duration": 23,
    "start_time": "2022-03-22T12:40:48.009Z"
   },
   {
    "duration": 14,
    "start_time": "2022-03-22T12:40:48.034Z"
   },
   {
    "duration": 23,
    "start_time": "2022-03-22T12:40:48.050Z"
   },
   {
    "duration": 134,
    "start_time": "2022-03-22T12:40:48.075Z"
   },
   {
    "duration": 12,
    "start_time": "2022-03-22T12:40:48.211Z"
   },
   {
    "duration": 7,
    "start_time": "2022-03-22T12:40:48.225Z"
   },
   {
    "duration": 14,
    "start_time": "2022-03-22T12:40:48.234Z"
   },
   {
    "duration": 9,
    "start_time": "2022-03-22T12:40:48.250Z"
   },
   {
    "duration": 15,
    "start_time": "2022-03-22T12:40:48.260Z"
   },
   {
    "duration": 145,
    "start_time": "2022-03-22T12:40:48.277Z"
   },
   {
    "duration": 17,
    "start_time": "2022-03-22T12:40:48.427Z"
   },
   {
    "duration": 16,
    "start_time": "2022-03-22T12:40:48.446Z"
   },
   {
    "duration": 8,
    "start_time": "2022-03-22T12:40:48.464Z"
   },
   {
    "duration": 34,
    "start_time": "2022-03-22T12:40:48.474Z"
   },
   {
    "duration": 12,
    "start_time": "2022-03-22T12:40:48.510Z"
   },
   {
    "duration": 118,
    "start_time": "2022-03-22T12:57:11.496Z"
   },
   {
    "duration": 120,
    "start_time": "2022-03-22T12:57:26.906Z"
   },
   {
    "duration": 128,
    "start_time": "2022-03-22T12:57:30.097Z"
   },
   {
    "duration": 107,
    "start_time": "2022-03-22T12:57:36.465Z"
   },
   {
    "duration": 292,
    "start_time": "2022-03-22T12:58:55.422Z"
   },
   {
    "duration": 24,
    "start_time": "2022-03-22T18:24:21.445Z"
   },
   {
    "duration": 5,
    "start_time": "2022-03-22T18:24:29.927Z"
   },
   {
    "duration": 6,
    "start_time": "2022-03-22T18:24:38.747Z"
   },
   {
    "duration": 5,
    "start_time": "2022-03-22T18:24:45.448Z"
   },
   {
    "duration": 5,
    "start_time": "2022-03-22T18:25:08.426Z"
   },
   {
    "duration": 70,
    "start_time": "2022-03-22T18:41:14.043Z"
   },
   {
    "duration": 12,
    "start_time": "2022-03-22T18:54:06.073Z"
   },
   {
    "duration": 11,
    "start_time": "2022-03-22T18:55:54.637Z"
   },
   {
    "duration": 1767,
    "start_time": "2022-03-22T18:56:17.891Z"
   },
   {
    "duration": 4,
    "start_time": "2022-03-22T18:56:19.661Z"
   },
   {
    "duration": 600,
    "start_time": "2022-03-22T18:56:19.667Z"
   },
   {
    "duration": 40,
    "start_time": "2022-03-22T18:56:20.269Z"
   },
   {
    "duration": 18,
    "start_time": "2022-03-22T18:56:20.312Z"
   },
   {
    "duration": 11,
    "start_time": "2022-03-22T18:56:20.332Z"
   },
   {
    "duration": 60,
    "start_time": "2022-03-22T18:56:20.346Z"
   },
   {
    "duration": 14,
    "start_time": "2022-03-22T18:56:20.409Z"
   },
   {
    "duration": 8,
    "start_time": "2022-03-22T18:56:20.426Z"
   },
   {
    "duration": 59,
    "start_time": "2022-03-22T18:56:20.437Z"
   },
   {
    "duration": 11,
    "start_time": "2022-03-22T18:56:20.498Z"
   },
   {
    "duration": 12,
    "start_time": "2022-03-22T18:56:20.511Z"
   },
   {
    "duration": 18,
    "start_time": "2022-03-22T18:56:20.525Z"
   },
   {
    "duration": 44,
    "start_time": "2022-03-22T18:56:20.548Z"
   },
   {
    "duration": 22,
    "start_time": "2022-03-22T18:56:20.594Z"
   },
   {
    "duration": 27,
    "start_time": "2022-03-22T18:56:20.618Z"
   },
   {
    "duration": 25,
    "start_time": "2022-03-22T18:56:20.648Z"
   },
   {
    "duration": 12,
    "start_time": "2022-03-22T18:56:20.675Z"
   },
   {
    "duration": 32,
    "start_time": "2022-03-22T18:56:20.689Z"
   },
   {
    "duration": 75,
    "start_time": "2022-03-22T18:56:20.724Z"
   },
   {
    "duration": 7,
    "start_time": "2022-03-22T18:56:20.802Z"
   },
   {
    "duration": 49,
    "start_time": "2022-03-22T18:56:20.811Z"
   },
   {
    "duration": 52,
    "start_time": "2022-03-22T18:56:20.862Z"
   },
   {
    "duration": 48,
    "start_time": "2022-03-22T18:56:20.916Z"
   },
   {
    "duration": 22,
    "start_time": "2022-03-22T18:56:20.966Z"
   },
   {
    "duration": 101,
    "start_time": "2022-03-22T18:56:20.991Z"
   },
   {
    "duration": 20,
    "start_time": "2022-03-22T18:56:21.095Z"
   },
   {
    "duration": 32,
    "start_time": "2022-03-22T18:56:21.118Z"
   },
   {
    "duration": 31,
    "start_time": "2022-03-22T18:56:21.152Z"
   },
   {
    "duration": 20,
    "start_time": "2022-03-22T18:56:21.186Z"
   },
   {
    "duration": 11,
    "start_time": "2022-03-22T18:56:21.208Z"
   },
   {
    "duration": 14,
    "start_time": "2022-03-22T18:56:21.221Z"
   },
   {
    "duration": 50,
    "start_time": "2022-03-22T18:56:21.238Z"
   },
   {
    "duration": 14,
    "start_time": "2022-03-22T18:56:21.291Z"
   },
   {
    "duration": 5,
    "start_time": "2022-03-22T18:56:21.307Z"
   },
   {
    "duration": 8,
    "start_time": "2022-03-22T18:56:21.314Z"
   },
   {
    "duration": 8,
    "start_time": "2022-03-22T18:56:21.324Z"
   },
   {
    "duration": 11,
    "start_time": "2022-03-22T18:56:21.334Z"
   },
   {
    "duration": 21,
    "start_time": "2022-03-22T18:56:21.384Z"
   },
   {
    "duration": 13,
    "start_time": "2022-03-22T18:56:21.408Z"
   },
   {
    "duration": 7,
    "start_time": "2022-03-22T18:56:21.430Z"
   },
   {
    "duration": 50,
    "start_time": "2022-03-22T18:56:21.440Z"
   },
   {
    "duration": 13,
    "start_time": "2022-03-22T18:56:21.492Z"
   },
   {
    "duration": 10,
    "start_time": "2022-03-22T18:56:21.507Z"
   },
   {
    "duration": 12,
    "start_time": "2022-03-22T18:56:21.519Z"
   },
   {
    "duration": 74,
    "start_time": "2022-03-22T18:56:21.534Z"
   },
   {
    "duration": 12,
    "start_time": "2022-03-22T18:56:21.610Z"
   },
   {
    "duration": 60,
    "start_time": "2022-03-22T18:56:21.624Z"
   },
   {
    "duration": 12,
    "start_time": "2022-03-22T18:56:21.686Z"
   },
   {
    "duration": 6,
    "start_time": "2022-03-22T18:56:21.700Z"
   },
   {
    "duration": 17,
    "start_time": "2022-03-22T18:56:21.708Z"
   },
   {
    "duration": 26,
    "start_time": "2022-03-22T18:56:21.727Z"
   },
   {
    "duration": 15,
    "start_time": "2022-03-22T18:56:21.784Z"
   },
   {
    "duration": 40,
    "start_time": "2022-03-22T18:56:21.802Z"
   },
   {
    "duration": 39,
    "start_time": "2022-03-22T18:56:21.844Z"
   },
   {
    "duration": 4,
    "start_time": "2022-03-22T18:56:21.886Z"
   },
   {
    "duration": 14,
    "start_time": "2022-03-22T18:56:21.892Z"
   },
   {
    "duration": 24,
    "start_time": "2022-03-22T18:56:21.908Z"
   },
   {
    "duration": 12,
    "start_time": "2022-03-22T18:56:21.935Z"
   },
   {
    "duration": 32,
    "start_time": "2022-03-22T18:56:21.984Z"
   },
   {
    "duration": 13,
    "start_time": "2022-03-22T18:56:22.018Z"
   },
   {
    "duration": 6,
    "start_time": "2022-03-22T18:56:22.033Z"
   },
   {
    "duration": 43,
    "start_time": "2022-03-22T18:56:22.042Z"
   },
   {
    "duration": 13,
    "start_time": "2022-03-22T18:56:22.087Z"
   },
   {
    "duration": 11,
    "start_time": "2022-03-22T18:56:22.103Z"
   },
   {
    "duration": 12,
    "start_time": "2022-03-22T18:56:22.116Z"
   },
   {
    "duration": 55,
    "start_time": "2022-03-22T18:56:22.130Z"
   },
   {
    "duration": 15,
    "start_time": "2022-03-22T18:56:22.187Z"
   },
   {
    "duration": 12,
    "start_time": "2022-03-22T18:56:22.205Z"
   },
   {
    "duration": 11,
    "start_time": "2022-03-22T18:56:22.219Z"
   },
   {
    "duration": 5,
    "start_time": "2022-03-22T18:56:22.232Z"
   },
   {
    "duration": 52,
    "start_time": "2022-03-22T18:56:22.239Z"
   },
   {
    "duration": 17,
    "start_time": "2022-03-22T18:56:22.293Z"
   },
   {
    "duration": 31,
    "start_time": "2022-03-22T18:56:22.313Z"
   },
   {
    "duration": 210,
    "start_time": "2022-03-22T18:56:22.347Z"
   },
   {
    "duration": 31,
    "start_time": "2022-03-22T18:56:22.559Z"
   },
   {
    "duration": 5,
    "start_time": "2022-03-22T18:56:22.593Z"
   },
   {
    "duration": 19,
    "start_time": "2022-03-22T18:56:22.600Z"
   },
   {
    "duration": 12,
    "start_time": "2022-03-22T18:56:22.622Z"
   },
   {
    "duration": 21,
    "start_time": "2022-03-22T18:56:22.636Z"
   },
   {
    "duration": 234,
    "start_time": "2022-03-22T18:56:22.660Z"
   },
   {
    "duration": 172,
    "start_time": "2022-03-22T18:56:22.896Z"
   },
   {
    "duration": 34,
    "start_time": "2022-03-22T18:56:23.070Z"
   },
   {
    "duration": 27,
    "start_time": "2022-03-22T18:56:23.107Z"
   },
   {
    "duration": 11,
    "start_time": "2022-03-22T18:56:23.137Z"
   },
   {
    "duration": 10,
    "start_time": "2022-03-22T18:56:23.185Z"
   },
   {
    "duration": 415,
    "start_time": "2022-03-22T18:56:23.198Z"
   },
   {
    "duration": 512,
    "start_time": "2022-03-22T18:56:30.923Z"
   },
   {
    "duration": 1567,
    "start_time": "2022-03-22T18:56:55.767Z"
   },
   {
    "duration": 4,
    "start_time": "2022-03-22T18:56:57.336Z"
   },
   {
    "duration": 547,
    "start_time": "2022-03-22T18:56:57.342Z"
   },
   {
    "duration": 58,
    "start_time": "2022-03-22T18:56:57.892Z"
   },
   {
    "duration": 41,
    "start_time": "2022-03-22T18:56:57.955Z"
   },
   {
    "duration": 8,
    "start_time": "2022-03-22T18:56:57.999Z"
   },
   {
    "duration": 55,
    "start_time": "2022-03-22T18:56:58.009Z"
   },
   {
    "duration": 31,
    "start_time": "2022-03-22T18:56:58.067Z"
   },
   {
    "duration": 24,
    "start_time": "2022-03-22T18:56:58.101Z"
   },
   {
    "duration": 53,
    "start_time": "2022-03-22T18:56:58.131Z"
   },
   {
    "duration": 15,
    "start_time": "2022-03-22T18:56:58.187Z"
   },
   {
    "duration": 27,
    "start_time": "2022-03-22T18:56:58.206Z"
   },
   {
    "duration": 25,
    "start_time": "2022-03-22T18:56:58.235Z"
   },
   {
    "duration": 27,
    "start_time": "2022-03-22T18:56:58.262Z"
   },
   {
    "duration": 21,
    "start_time": "2022-03-22T18:56:58.291Z"
   },
   {
    "duration": 26,
    "start_time": "2022-03-22T18:56:58.314Z"
   },
   {
    "duration": 27,
    "start_time": "2022-03-22T18:56:58.342Z"
   },
   {
    "duration": 15,
    "start_time": "2022-03-22T18:56:58.371Z"
   },
   {
    "duration": 44,
    "start_time": "2022-03-22T18:56:58.388Z"
   },
   {
    "duration": 60,
    "start_time": "2022-03-22T18:56:58.434Z"
   },
   {
    "duration": 6,
    "start_time": "2022-03-22T18:56:58.496Z"
   },
   {
    "duration": 50,
    "start_time": "2022-03-22T18:56:58.504Z"
   },
   {
    "duration": 35,
    "start_time": "2022-03-22T18:56:58.556Z"
   },
   {
    "duration": 34,
    "start_time": "2022-03-22T18:56:58.594Z"
   },
   {
    "duration": 7,
    "start_time": "2022-03-22T18:56:58.630Z"
   },
   {
    "duration": 71,
    "start_time": "2022-03-22T18:56:58.640Z"
   },
   {
    "duration": 20,
    "start_time": "2022-03-22T18:56:58.713Z"
   },
   {
    "duration": 50,
    "start_time": "2022-03-22T18:56:58.739Z"
   },
   {
    "duration": 8,
    "start_time": "2022-03-22T18:56:58.791Z"
   },
   {
    "duration": 27,
    "start_time": "2022-03-22T18:56:58.801Z"
   },
   {
    "duration": 15,
    "start_time": "2022-03-22T18:56:58.831Z"
   },
   {
    "duration": 37,
    "start_time": "2022-03-22T18:56:58.848Z"
   },
   {
    "duration": 13,
    "start_time": "2022-03-22T18:56:58.887Z"
   },
   {
    "duration": 27,
    "start_time": "2022-03-22T18:56:58.903Z"
   },
   {
    "duration": 5,
    "start_time": "2022-03-22T18:56:58.932Z"
   },
   {
    "duration": 25,
    "start_time": "2022-03-22T18:56:58.939Z"
   },
   {
    "duration": 18,
    "start_time": "2022-03-22T18:56:58.966Z"
   },
   {
    "duration": 23,
    "start_time": "2022-03-22T18:56:58.987Z"
   },
   {
    "duration": 35,
    "start_time": "2022-03-22T18:56:59.013Z"
   },
   {
    "duration": 14,
    "start_time": "2022-03-22T18:56:59.051Z"
   },
   {
    "duration": 37,
    "start_time": "2022-03-22T18:56:59.067Z"
   },
   {
    "duration": 20,
    "start_time": "2022-03-22T18:56:59.106Z"
   },
   {
    "duration": 42,
    "start_time": "2022-03-22T18:56:59.128Z"
   },
   {
    "duration": 23,
    "start_time": "2022-03-22T18:56:59.172Z"
   },
   {
    "duration": 36,
    "start_time": "2022-03-22T18:56:59.197Z"
   },
   {
    "duration": 52,
    "start_time": "2022-03-22T18:56:59.235Z"
   },
   {
    "duration": 14,
    "start_time": "2022-03-22T18:56:59.289Z"
   },
   {
    "duration": 53,
    "start_time": "2022-03-22T18:56:59.305Z"
   },
   {
    "duration": 25,
    "start_time": "2022-03-22T18:56:59.361Z"
   },
   {
    "duration": 13,
    "start_time": "2022-03-22T18:56:59.388Z"
   },
   {
    "duration": 18,
    "start_time": "2022-03-22T18:56:59.403Z"
   },
   {
    "duration": 39,
    "start_time": "2022-03-22T18:56:59.423Z"
   },
   {
    "duration": 12,
    "start_time": "2022-03-22T18:56:59.464Z"
   },
   {
    "duration": 53,
    "start_time": "2022-03-22T18:56:59.478Z"
   },
   {
    "duration": 12,
    "start_time": "2022-03-22T18:56:59.533Z"
   },
   {
    "duration": 19,
    "start_time": "2022-03-22T18:56:59.547Z"
   },
   {
    "duration": 43,
    "start_time": "2022-03-22T18:56:59.568Z"
   },
   {
    "duration": 38,
    "start_time": "2022-03-22T18:56:59.614Z"
   },
   {
    "duration": 11,
    "start_time": "2022-03-22T18:56:59.654Z"
   },
   {
    "duration": 51,
    "start_time": "2022-03-22T18:56:59.667Z"
   },
   {
    "duration": 11,
    "start_time": "2022-03-22T18:56:59.720Z"
   },
   {
    "duration": 21,
    "start_time": "2022-03-22T18:56:59.733Z"
   },
   {
    "duration": 17,
    "start_time": "2022-03-22T18:56:59.756Z"
   },
   {
    "duration": 20,
    "start_time": "2022-03-22T18:56:59.776Z"
   },
   {
    "duration": 21,
    "start_time": "2022-03-22T18:56:59.798Z"
   },
   {
    "duration": 19,
    "start_time": "2022-03-22T18:56:59.821Z"
   },
   {
    "duration": 23,
    "start_time": "2022-03-22T18:56:59.843Z"
   },
   {
    "duration": 19,
    "start_time": "2022-03-22T18:56:59.868Z"
   },
   {
    "duration": 16,
    "start_time": "2022-03-22T18:56:59.890Z"
   },
   {
    "duration": 35,
    "start_time": "2022-03-22T18:56:59.908Z"
   },
   {
    "duration": 7,
    "start_time": "2022-03-22T18:56:59.945Z"
   },
   {
    "duration": 28,
    "start_time": "2022-03-22T18:56:59.954Z"
   },
   {
    "duration": 18,
    "start_time": "2022-03-22T18:56:59.984Z"
   },
   {
    "duration": 42,
    "start_time": "2022-03-22T18:57:00.006Z"
   },
   {
    "duration": 188,
    "start_time": "2022-03-22T18:57:00.050Z"
   },
   {
    "duration": 21,
    "start_time": "2022-03-22T18:57:00.240Z"
   },
   {
    "duration": 23,
    "start_time": "2022-03-22T18:57:00.263Z"
   },
   {
    "duration": 25,
    "start_time": "2022-03-22T18:57:00.289Z"
   },
   {
    "duration": 9,
    "start_time": "2022-03-22T18:57:00.317Z"
   },
   {
    "duration": 23,
    "start_time": "2022-03-22T18:57:00.329Z"
   },
   {
    "duration": 229,
    "start_time": "2022-03-22T18:57:00.354Z"
   },
   {
    "duration": 185,
    "start_time": "2022-03-22T18:57:00.590Z"
   },
   {
    "duration": 32,
    "start_time": "2022-03-22T18:57:00.777Z"
   },
   {
    "duration": 25,
    "start_time": "2022-03-22T18:57:00.811Z"
   },
   {
    "duration": 9,
    "start_time": "2022-03-22T18:57:00.838Z"
   },
   {
    "duration": 12,
    "start_time": "2022-03-22T18:57:00.884Z"
   },
   {
    "duration": 546,
    "start_time": "2022-03-22T18:57:00.898Z"
   },
   {
    "duration": 328,
    "start_time": "2022-03-22T19:03:59.655Z"
   },
   {
    "duration": 307,
    "start_time": "2022-03-22T19:04:43.694Z"
   },
   {
    "duration": 344,
    "start_time": "2022-03-22T19:05:45.248Z"
   },
   {
    "duration": 532,
    "start_time": "2022-03-22T19:07:08.277Z"
   },
   {
    "duration": 330,
    "start_time": "2022-03-22T19:11:12.651Z"
   },
   {
    "duration": 1796,
    "start_time": "2022-03-22T19:11:22.456Z"
   },
   {
    "duration": 3,
    "start_time": "2022-03-22T19:11:24.255Z"
   },
   {
    "duration": 550,
    "start_time": "2022-03-22T19:11:24.265Z"
   },
   {
    "duration": 35,
    "start_time": "2022-03-22T19:11:24.818Z"
   },
   {
    "duration": 27,
    "start_time": "2022-03-22T19:11:24.856Z"
   },
   {
    "duration": 7,
    "start_time": "2022-03-22T19:11:24.886Z"
   },
   {
    "duration": 48,
    "start_time": "2022-03-22T19:11:24.896Z"
   },
   {
    "duration": 13,
    "start_time": "2022-03-22T19:11:24.946Z"
   },
   {
    "duration": 25,
    "start_time": "2022-03-22T19:11:24.965Z"
   },
   {
    "duration": 45,
    "start_time": "2022-03-22T19:11:24.993Z"
   },
   {
    "duration": 21,
    "start_time": "2022-03-22T19:11:25.041Z"
   },
   {
    "duration": 24,
    "start_time": "2022-03-22T19:11:25.065Z"
   },
   {
    "duration": 31,
    "start_time": "2022-03-22T19:11:25.092Z"
   },
   {
    "duration": 28,
    "start_time": "2022-03-22T19:11:25.126Z"
   },
   {
    "duration": 17,
    "start_time": "2022-03-22T19:11:25.157Z"
   },
   {
    "duration": 30,
    "start_time": "2022-03-22T19:11:25.176Z"
   },
   {
    "duration": 53,
    "start_time": "2022-03-22T19:11:25.209Z"
   },
   {
    "duration": 20,
    "start_time": "2022-03-22T19:11:25.265Z"
   },
   {
    "duration": 54,
    "start_time": "2022-03-22T19:11:25.287Z"
   },
   {
    "duration": 53,
    "start_time": "2022-03-22T19:11:25.344Z"
   },
   {
    "duration": 9,
    "start_time": "2022-03-22T19:11:25.400Z"
   },
   {
    "duration": 38,
    "start_time": "2022-03-22T19:11:25.412Z"
   },
   {
    "duration": 64,
    "start_time": "2022-03-22T19:11:25.453Z"
   },
   {
    "duration": 37,
    "start_time": "2022-03-22T19:11:25.520Z"
   },
   {
    "duration": 29,
    "start_time": "2022-03-22T19:11:25.559Z"
   },
   {
    "duration": 39,
    "start_time": "2022-03-22T19:11:25.590Z"
   },
   {
    "duration": 20,
    "start_time": "2022-03-22T19:11:25.636Z"
   },
   {
    "duration": 35,
    "start_time": "2022-03-22T19:11:25.684Z"
   },
   {
    "duration": 7,
    "start_time": "2022-03-22T19:11:25.721Z"
   },
   {
    "duration": 22,
    "start_time": "2022-03-22T19:11:25.730Z"
   },
   {
    "duration": 36,
    "start_time": "2022-03-22T19:11:25.755Z"
   },
   {
    "duration": 15,
    "start_time": "2022-03-22T19:11:25.794Z"
   },
   {
    "duration": 12,
    "start_time": "2022-03-22T19:11:25.811Z"
   },
   {
    "duration": 19,
    "start_time": "2022-03-22T19:11:25.825Z"
   },
   {
    "duration": 6,
    "start_time": "2022-03-22T19:11:25.847Z"
   },
   {
    "duration": 7,
    "start_time": "2022-03-22T19:11:25.883Z"
   },
   {
    "duration": 8,
    "start_time": "2022-03-22T19:11:25.892Z"
   },
   {
    "duration": 10,
    "start_time": "2022-03-22T19:11:25.902Z"
   },
   {
    "duration": 23,
    "start_time": "2022-03-22T19:11:25.914Z"
   },
   {
    "duration": 10,
    "start_time": "2022-03-22T19:11:25.939Z"
   },
   {
    "duration": 6,
    "start_time": "2022-03-22T19:11:25.985Z"
   },
   {
    "duration": 12,
    "start_time": "2022-03-22T19:11:25.993Z"
   },
   {
    "duration": 12,
    "start_time": "2022-03-22T19:11:26.008Z"
   },
   {
    "duration": 11,
    "start_time": "2022-03-22T19:11:26.023Z"
   },
   {
    "duration": 54,
    "start_time": "2022-03-22T19:11:26.036Z"
   },
   {
    "duration": 36,
    "start_time": "2022-03-22T19:11:26.093Z"
   },
   {
    "duration": 13,
    "start_time": "2022-03-22T19:11:26.132Z"
   },
   {
    "duration": 67,
    "start_time": "2022-03-22T19:11:26.147Z"
   },
   {
    "duration": 11,
    "start_time": "2022-03-22T19:11:26.217Z"
   },
   {
    "duration": 5,
    "start_time": "2022-03-22T19:11:26.231Z"
   },
   {
    "duration": 17,
    "start_time": "2022-03-22T19:11:26.237Z"
   },
   {
    "duration": 48,
    "start_time": "2022-03-22T19:11:26.256Z"
   },
   {
    "duration": 13,
    "start_time": "2022-03-22T19:11:26.306Z"
   },
   {
    "duration": 70,
    "start_time": "2022-03-22T19:11:26.322Z"
   },
   {
    "duration": 13,
    "start_time": "2022-03-22T19:11:26.395Z"
   },
   {
    "duration": 5,
    "start_time": "2022-03-22T19:11:26.410Z"
   },
   {
    "duration": 13,
    "start_time": "2022-03-22T19:11:26.417Z"
   },
   {
    "duration": 52,
    "start_time": "2022-03-22T19:11:26.432Z"
   },
   {
    "duration": 11,
    "start_time": "2022-03-22T19:11:26.486Z"
   },
   {
    "duration": 31,
    "start_time": "2022-03-22T19:11:26.499Z"
   },
   {
    "duration": 12,
    "start_time": "2022-03-22T19:11:26.532Z"
   },
   {
    "duration": 38,
    "start_time": "2022-03-22T19:11:26.546Z"
   },
   {
    "duration": 10,
    "start_time": "2022-03-22T19:11:26.586Z"
   },
   {
    "duration": 14,
    "start_time": "2022-03-22T19:11:26.598Z"
   },
   {
    "duration": 10,
    "start_time": "2022-03-22T19:11:26.614Z"
   },
   {
    "duration": 17,
    "start_time": "2022-03-22T19:11:26.626Z"
   },
   {
    "duration": 40,
    "start_time": "2022-03-22T19:11:26.645Z"
   },
   {
    "duration": 6,
    "start_time": "2022-03-22T19:11:26.687Z"
   },
   {
    "duration": 12,
    "start_time": "2022-03-22T19:11:26.695Z"
   },
   {
    "duration": 12,
    "start_time": "2022-03-22T19:11:26.709Z"
   },
   {
    "duration": 6,
    "start_time": "2022-03-22T19:11:26.723Z"
   },
   {
    "duration": 62,
    "start_time": "2022-03-22T19:11:26.731Z"
   },
   {
    "duration": 19,
    "start_time": "2022-03-22T19:11:26.796Z"
   },
   {
    "duration": 35,
    "start_time": "2022-03-22T19:11:26.817Z"
   },
   {
    "duration": 185,
    "start_time": "2022-03-22T19:11:26.883Z"
   },
   {
    "duration": 25,
    "start_time": "2022-03-22T19:11:27.070Z"
   },
   {
    "duration": 8,
    "start_time": "2022-03-22T19:11:27.098Z"
   },
   {
    "duration": 19,
    "start_time": "2022-03-22T19:11:27.109Z"
   },
   {
    "duration": 9,
    "start_time": "2022-03-22T19:11:27.130Z"
   },
   {
    "duration": 57,
    "start_time": "2022-03-22T19:11:27.142Z"
   },
   {
    "duration": 219,
    "start_time": "2022-03-22T19:11:27.209Z"
   },
   {
    "duration": 172,
    "start_time": "2022-03-22T19:11:27.430Z"
   },
   {
    "duration": 29,
    "start_time": "2022-03-22T19:11:27.605Z"
   },
   {
    "duration": 57,
    "start_time": "2022-03-22T19:11:27.636Z"
   },
   {
    "duration": 10,
    "start_time": "2022-03-22T19:11:27.696Z"
   },
   {
    "duration": 11,
    "start_time": "2022-03-22T19:11:27.709Z"
   },
   {
    "duration": 353,
    "start_time": "2022-03-22T19:11:27.723Z"
   },
   {
    "duration": 311,
    "start_time": "2022-03-22T19:13:09.620Z"
   },
   {
    "duration": 360,
    "start_time": "2022-03-22T19:13:27.211Z"
   },
   {
    "duration": 1491,
    "start_time": "2022-03-22T19:13:57.833Z"
   },
   {
    "duration": 3,
    "start_time": "2022-03-22T19:13:59.327Z"
   },
   {
    "duration": 516,
    "start_time": "2022-03-22T19:13:59.332Z"
   },
   {
    "duration": 37,
    "start_time": "2022-03-22T19:13:59.851Z"
   },
   {
    "duration": 17,
    "start_time": "2022-03-22T19:13:59.890Z"
   },
   {
    "duration": 5,
    "start_time": "2022-03-22T19:13:59.909Z"
   },
   {
    "duration": 32,
    "start_time": "2022-03-22T19:13:59.917Z"
   },
   {
    "duration": 46,
    "start_time": "2022-03-22T19:13:59.952Z"
   },
   {
    "duration": 19,
    "start_time": "2022-03-22T19:14:00.002Z"
   },
   {
    "duration": 31,
    "start_time": "2022-03-22T19:14:00.027Z"
   },
   {
    "duration": 26,
    "start_time": "2022-03-22T19:14:00.061Z"
   },
   {
    "duration": 10,
    "start_time": "2022-03-22T19:14:00.089Z"
   },
   {
    "duration": 20,
    "start_time": "2022-03-22T19:14:00.101Z"
   },
   {
    "duration": 15,
    "start_time": "2022-03-22T19:14:00.124Z"
   },
   {
    "duration": 42,
    "start_time": "2022-03-22T19:14:00.142Z"
   },
   {
    "duration": 16,
    "start_time": "2022-03-22T19:14:00.187Z"
   },
   {
    "duration": 24,
    "start_time": "2022-03-22T19:14:00.206Z"
   },
   {
    "duration": 11,
    "start_time": "2022-03-22T19:14:00.233Z"
   },
   {
    "duration": 62,
    "start_time": "2022-03-22T19:14:00.247Z"
   },
   {
    "duration": 51,
    "start_time": "2022-03-22T19:14:00.311Z"
   },
   {
    "duration": 23,
    "start_time": "2022-03-22T19:14:00.364Z"
   },
   {
    "duration": 45,
    "start_time": "2022-03-22T19:14:00.389Z"
   },
   {
    "duration": 23,
    "start_time": "2022-03-22T19:14:00.436Z"
   },
   {
    "duration": 55,
    "start_time": "2022-03-22T19:14:00.461Z"
   },
   {
    "duration": 7,
    "start_time": "2022-03-22T19:14:00.518Z"
   },
   {
    "duration": 65,
    "start_time": "2022-03-22T19:14:00.527Z"
   },
   {
    "duration": 20,
    "start_time": "2022-03-22T19:14:00.594Z"
   },
   {
    "duration": 31,
    "start_time": "2022-03-22T19:14:00.623Z"
   },
   {
    "duration": 33,
    "start_time": "2022-03-22T19:14:00.656Z"
   },
   {
    "duration": 29,
    "start_time": "2022-03-22T19:14:00.691Z"
   },
   {
    "duration": 9,
    "start_time": "2022-03-22T19:14:00.723Z"
   },
   {
    "duration": 18,
    "start_time": "2022-03-22T19:14:00.735Z"
   },
   {
    "duration": 36,
    "start_time": "2022-03-22T19:14:00.756Z"
   },
   {
    "duration": 15,
    "start_time": "2022-03-22T19:14:00.795Z"
   },
   {
    "duration": 5,
    "start_time": "2022-03-22T19:14:00.812Z"
   },
   {
    "duration": 16,
    "start_time": "2022-03-22T19:14:00.819Z"
   },
   {
    "duration": 7,
    "start_time": "2022-03-22T19:14:00.837Z"
   },
   {
    "duration": 39,
    "start_time": "2022-03-22T19:14:00.847Z"
   },
   {
    "duration": 32,
    "start_time": "2022-03-22T19:14:00.889Z"
   },
   {
    "duration": 14,
    "start_time": "2022-03-22T19:14:00.924Z"
   },
   {
    "duration": 18,
    "start_time": "2022-03-22T19:14:00.941Z"
   },
   {
    "duration": 11,
    "start_time": "2022-03-22T19:14:00.983Z"
   },
   {
    "duration": 37,
    "start_time": "2022-03-22T19:14:00.996Z"
   },
   {
    "duration": 11,
    "start_time": "2022-03-22T19:14:01.035Z"
   },
   {
    "duration": 17,
    "start_time": "2022-03-22T19:14:01.048Z"
   },
   {
    "duration": 42,
    "start_time": "2022-03-22T19:14:01.068Z"
   },
   {
    "duration": 16,
    "start_time": "2022-03-22T19:14:01.112Z"
   },
   {
    "duration": 73,
    "start_time": "2022-03-22T19:14:01.132Z"
   },
   {
    "duration": 14,
    "start_time": "2022-03-22T19:14:01.208Z"
   },
   {
    "duration": 13,
    "start_time": "2022-03-22T19:14:01.225Z"
   },
   {
    "duration": 25,
    "start_time": "2022-03-22T19:14:01.241Z"
   },
   {
    "duration": 36,
    "start_time": "2022-03-22T19:14:01.268Z"
   },
   {
    "duration": 14,
    "start_time": "2022-03-22T19:14:01.307Z"
   },
   {
    "duration": 65,
    "start_time": "2022-03-22T19:14:01.324Z"
   },
   {
    "duration": 15,
    "start_time": "2022-03-22T19:14:01.392Z"
   },
   {
    "duration": 10,
    "start_time": "2022-03-22T19:14:01.410Z"
   },
   {
    "duration": 38,
    "start_time": "2022-03-22T19:14:01.422Z"
   },
   {
    "duration": 38,
    "start_time": "2022-03-22T19:14:01.462Z"
   },
   {
    "duration": 16,
    "start_time": "2022-03-22T19:14:01.502Z"
   },
   {
    "duration": 49,
    "start_time": "2022-03-22T19:14:01.521Z"
   },
   {
    "duration": 13,
    "start_time": "2022-03-22T19:14:01.573Z"
   },
   {
    "duration": 11,
    "start_time": "2022-03-22T19:14:01.588Z"
   },
   {
    "duration": 18,
    "start_time": "2022-03-22T19:14:01.602Z"
   },
   {
    "duration": 41,
    "start_time": "2022-03-22T19:14:01.623Z"
   },
   {
    "duration": 33,
    "start_time": "2022-03-22T19:14:01.668Z"
   },
   {
    "duration": 16,
    "start_time": "2022-03-22T19:14:01.705Z"
   },
   {
    "duration": 25,
    "start_time": "2022-03-22T19:14:01.724Z"
   },
   {
    "duration": 27,
    "start_time": "2022-03-22T19:14:01.751Z"
   },
   {
    "duration": 12,
    "start_time": "2022-03-22T19:14:01.781Z"
   },
   {
    "duration": 34,
    "start_time": "2022-03-22T19:14:01.795Z"
   },
   {
    "duration": 25,
    "start_time": "2022-03-22T19:14:01.831Z"
   },
   {
    "duration": 24,
    "start_time": "2022-03-22T19:14:01.859Z"
   },
   {
    "duration": 20,
    "start_time": "2022-03-22T19:14:01.886Z"
   },
   {
    "duration": 36,
    "start_time": "2022-03-22T19:14:01.909Z"
   },
   {
    "duration": 205,
    "start_time": "2022-03-22T19:14:01.948Z"
   },
   {
    "duration": 32,
    "start_time": "2022-03-22T19:14:02.155Z"
   },
   {
    "duration": 21,
    "start_time": "2022-03-22T19:14:02.189Z"
   },
   {
    "duration": 34,
    "start_time": "2022-03-22T19:14:02.213Z"
   },
   {
    "duration": 26,
    "start_time": "2022-03-22T19:14:02.250Z"
   },
   {
    "duration": 22,
    "start_time": "2022-03-22T19:14:02.280Z"
   },
   {
    "duration": 214,
    "start_time": "2022-03-22T19:14:02.304Z"
   },
   {
    "duration": 177,
    "start_time": "2022-03-22T19:14:02.528Z"
   },
   {
    "duration": 32,
    "start_time": "2022-03-22T19:14:02.708Z"
   },
   {
    "duration": 54,
    "start_time": "2022-03-22T19:14:02.742Z"
   },
   {
    "duration": 12,
    "start_time": "2022-03-22T19:14:02.799Z"
   },
   {
    "duration": 22,
    "start_time": "2022-03-22T19:14:02.814Z"
   },
   {
    "duration": 540,
    "start_time": "2022-03-22T19:14:02.838Z"
   },
   {
    "duration": 488,
    "start_time": "2022-03-22T19:14:03.385Z"
   },
   {
    "duration": 315,
    "start_time": "2022-03-22T19:15:22.046Z"
   },
   {
    "duration": 1400,
    "start_time": "2022-03-22T19:15:38.121Z"
   },
   {
    "duration": 3,
    "start_time": "2022-03-22T19:15:39.524Z"
   },
   {
    "duration": 527,
    "start_time": "2022-03-22T19:15:39.530Z"
   },
   {
    "duration": 36,
    "start_time": "2022-03-22T19:15:40.060Z"
   },
   {
    "duration": 38,
    "start_time": "2022-03-22T19:15:40.099Z"
   },
   {
    "duration": 18,
    "start_time": "2022-03-22T19:15:40.140Z"
   },
   {
    "duration": 65,
    "start_time": "2022-03-22T19:15:40.161Z"
   },
   {
    "duration": 24,
    "start_time": "2022-03-22T19:15:40.229Z"
   },
   {
    "duration": 49,
    "start_time": "2022-03-22T19:15:40.256Z"
   },
   {
    "duration": 46,
    "start_time": "2022-03-22T19:15:40.307Z"
   },
   {
    "duration": 19,
    "start_time": "2022-03-22T19:15:40.355Z"
   },
   {
    "duration": 21,
    "start_time": "2022-03-22T19:15:40.376Z"
   },
   {
    "duration": 41,
    "start_time": "2022-03-22T19:15:40.400Z"
   },
   {
    "duration": 41,
    "start_time": "2022-03-22T19:15:40.445Z"
   },
   {
    "duration": 26,
    "start_time": "2022-03-22T19:15:40.488Z"
   },
   {
    "duration": 33,
    "start_time": "2022-03-22T19:15:40.516Z"
   },
   {
    "duration": 47,
    "start_time": "2022-03-22T19:15:40.551Z"
   },
   {
    "duration": 37,
    "start_time": "2022-03-22T19:15:40.601Z"
   },
   {
    "duration": 63,
    "start_time": "2022-03-22T19:15:40.640Z"
   },
   {
    "duration": 86,
    "start_time": "2022-03-22T19:15:40.706Z"
   },
   {
    "duration": 7,
    "start_time": "2022-03-22T19:15:40.794Z"
   },
   {
    "duration": 56,
    "start_time": "2022-03-22T19:15:40.803Z"
   },
   {
    "duration": 33,
    "start_time": "2022-03-22T19:15:40.861Z"
   },
   {
    "duration": 38,
    "start_time": "2022-03-22T19:15:40.896Z"
   },
   {
    "duration": 8,
    "start_time": "2022-03-22T19:15:40.937Z"
   },
   {
    "duration": 41,
    "start_time": "2022-03-22T19:15:40.983Z"
   },
   {
    "duration": 22,
    "start_time": "2022-03-22T19:15:41.026Z"
   },
   {
    "duration": 55,
    "start_time": "2022-03-22T19:15:41.051Z"
   },
   {
    "duration": 8,
    "start_time": "2022-03-22T19:15:41.109Z"
   },
   {
    "duration": 21,
    "start_time": "2022-03-22T19:15:41.120Z"
   },
   {
    "duration": 45,
    "start_time": "2022-03-22T19:15:41.144Z"
   },
   {
    "duration": 16,
    "start_time": "2022-03-22T19:15:41.192Z"
   },
   {
    "duration": 21,
    "start_time": "2022-03-22T19:15:41.210Z"
   },
   {
    "duration": 39,
    "start_time": "2022-03-22T19:15:41.233Z"
   },
   {
    "duration": 17,
    "start_time": "2022-03-22T19:15:41.275Z"
   },
   {
    "duration": 25,
    "start_time": "2022-03-22T19:15:41.295Z"
   },
   {
    "duration": 39,
    "start_time": "2022-03-22T19:15:41.322Z"
   },
   {
    "duration": 33,
    "start_time": "2022-03-22T19:15:41.363Z"
   },
   {
    "duration": 37,
    "start_time": "2022-03-22T19:15:41.398Z"
   },
   {
    "duration": 30,
    "start_time": "2022-03-22T19:15:41.437Z"
   },
   {
    "duration": 27,
    "start_time": "2022-03-22T19:15:41.475Z"
   },
   {
    "duration": 21,
    "start_time": "2022-03-22T19:15:41.504Z"
   },
   {
    "duration": 29,
    "start_time": "2022-03-22T19:15:41.527Z"
   },
   {
    "duration": 22,
    "start_time": "2022-03-22T19:15:41.558Z"
   },
   {
    "duration": 28,
    "start_time": "2022-03-22T19:15:41.583Z"
   },
   {
    "duration": 42,
    "start_time": "2022-03-22T19:15:41.613Z"
   },
   {
    "duration": 13,
    "start_time": "2022-03-22T19:15:41.657Z"
   },
   {
    "duration": 51,
    "start_time": "2022-03-22T19:15:41.673Z"
   },
   {
    "duration": 12,
    "start_time": "2022-03-22T19:15:41.727Z"
   },
   {
    "duration": 19,
    "start_time": "2022-03-22T19:15:41.741Z"
   },
   {
    "duration": 24,
    "start_time": "2022-03-22T19:15:41.762Z"
   },
   {
    "duration": 33,
    "start_time": "2022-03-22T19:15:41.788Z"
   },
   {
    "duration": 13,
    "start_time": "2022-03-22T19:15:41.823Z"
   },
   {
    "duration": 57,
    "start_time": "2022-03-22T19:15:41.839Z"
   },
   {
    "duration": 13,
    "start_time": "2022-03-22T19:15:41.898Z"
   },
   {
    "duration": 7,
    "start_time": "2022-03-22T19:15:41.913Z"
   },
   {
    "duration": 13,
    "start_time": "2022-03-22T19:15:41.922Z"
   },
   {
    "duration": 56,
    "start_time": "2022-03-22T19:15:41.937Z"
   },
   {
    "duration": 13,
    "start_time": "2022-03-22T19:15:41.995Z"
   },
   {
    "duration": 29,
    "start_time": "2022-03-22T19:15:42.011Z"
   },
   {
    "duration": 11,
    "start_time": "2022-03-22T19:15:42.042Z"
   },
   {
    "duration": 4,
    "start_time": "2022-03-22T19:15:42.084Z"
   },
   {
    "duration": 13,
    "start_time": "2022-03-22T19:15:42.091Z"
   },
   {
    "duration": 14,
    "start_time": "2022-03-22T19:15:42.106Z"
   },
   {
    "duration": 15,
    "start_time": "2022-03-22T19:15:42.122Z"
   },
   {
    "duration": 12,
    "start_time": "2022-03-22T19:15:42.139Z"
   },
   {
    "duration": 9,
    "start_time": "2022-03-22T19:15:42.184Z"
   },
   {
    "duration": 9,
    "start_time": "2022-03-22T19:15:42.196Z"
   },
   {
    "duration": 17,
    "start_time": "2022-03-22T19:15:42.208Z"
   },
   {
    "duration": 14,
    "start_time": "2022-03-22T19:15:42.227Z"
   },
   {
    "duration": 5,
    "start_time": "2022-03-22T19:15:42.243Z"
   },
   {
    "duration": 55,
    "start_time": "2022-03-22T19:15:42.250Z"
   },
   {
    "duration": 18,
    "start_time": "2022-03-22T19:15:42.307Z"
   },
   {
    "duration": 57,
    "start_time": "2022-03-22T19:15:42.328Z"
   },
   {
    "duration": 195,
    "start_time": "2022-03-22T19:15:42.388Z"
   },
   {
    "duration": 19,
    "start_time": "2022-03-22T19:15:42.586Z"
   },
   {
    "duration": 6,
    "start_time": "2022-03-22T19:15:42.607Z"
   },
   {
    "duration": 19,
    "start_time": "2022-03-22T19:15:42.616Z"
   },
   {
    "duration": 6,
    "start_time": "2022-03-22T19:15:42.638Z"
   },
   {
    "duration": 53,
    "start_time": "2022-03-22T19:15:42.646Z"
   },
   {
    "duration": 207,
    "start_time": "2022-03-22T19:15:42.702Z"
   },
   {
    "duration": 177,
    "start_time": "2022-03-22T19:15:42.911Z"
   },
   {
    "duration": 26,
    "start_time": "2022-03-22T19:15:43.090Z"
   },
   {
    "duration": 27,
    "start_time": "2022-03-22T19:15:43.118Z"
   },
   {
    "duration": 43,
    "start_time": "2022-03-22T19:15:43.147Z"
   },
   {
    "duration": 14,
    "start_time": "2022-03-22T19:15:43.192Z"
   },
   {
    "duration": 337,
    "start_time": "2022-03-22T19:15:43.208Z"
   },
   {
    "duration": 323,
    "start_time": "2022-03-22T19:15:43.547Z"
   },
   {
    "duration": 316,
    "start_time": "2022-03-22T19:15:43.873Z"
   },
   {
    "duration": 98,
    "start_time": "2022-03-23T10:49:54.060Z"
   },
   {
    "duration": 159,
    "start_time": "2022-03-23T10:54:19.889Z"
   },
   {
    "duration": 1690,
    "start_time": "2022-03-23T11:47:54.696Z"
   },
   {
    "duration": 4,
    "start_time": "2022-03-23T11:47:56.390Z"
   },
   {
    "duration": 479,
    "start_time": "2022-03-23T11:47:56.397Z"
   },
   {
    "duration": 34,
    "start_time": "2022-03-23T11:47:56.879Z"
   },
   {
    "duration": 18,
    "start_time": "2022-03-23T11:47:56.915Z"
   },
   {
    "duration": 4,
    "start_time": "2022-03-23T11:47:56.935Z"
   },
   {
    "duration": 29,
    "start_time": "2022-03-23T11:47:56.966Z"
   },
   {
    "duration": 12,
    "start_time": "2022-03-23T11:47:56.997Z"
   },
   {
    "duration": 7,
    "start_time": "2022-03-23T11:47:57.011Z"
   },
   {
    "duration": 66,
    "start_time": "2022-03-23T11:47:57.022Z"
   },
   {
    "duration": 11,
    "start_time": "2022-03-23T11:47:57.091Z"
   },
   {
    "duration": 7,
    "start_time": "2022-03-23T11:47:57.104Z"
   },
   {
    "duration": 15,
    "start_time": "2022-03-23T11:47:57.113Z"
   },
   {
    "duration": 47,
    "start_time": "2022-03-23T11:47:57.130Z"
   },
   {
    "duration": 6,
    "start_time": "2022-03-23T11:47:57.179Z"
   },
   {
    "duration": 16,
    "start_time": "2022-03-23T11:47:57.187Z"
   },
   {
    "duration": 17,
    "start_time": "2022-03-23T11:47:57.205Z"
   },
   {
    "duration": 6,
    "start_time": "2022-03-23T11:47:57.267Z"
   },
   {
    "duration": 29,
    "start_time": "2022-03-23T11:47:57.275Z"
   },
   {
    "duration": 79,
    "start_time": "2022-03-23T11:47:57.306Z"
   },
   {
    "duration": 6,
    "start_time": "2022-03-23T11:47:57.387Z"
   },
   {
    "duration": 35,
    "start_time": "2022-03-23T11:47:57.396Z"
   },
   {
    "duration": 45,
    "start_time": "2022-03-23T11:47:57.433Z"
   },
   {
    "duration": 32,
    "start_time": "2022-03-23T11:47:57.481Z"
   },
   {
    "duration": 7,
    "start_time": "2022-03-23T11:47:57.515Z"
   },
   {
    "duration": 78,
    "start_time": "2022-03-23T11:47:57.524Z"
   },
   {
    "duration": 27,
    "start_time": "2022-03-23T11:47:57.605Z"
   },
   {
    "duration": 57,
    "start_time": "2022-03-23T11:47:57.642Z"
   },
   {
    "duration": 8,
    "start_time": "2022-03-23T11:47:57.702Z"
   },
   {
    "duration": 27,
    "start_time": "2022-03-23T11:47:57.712Z"
   },
   {
    "duration": 34,
    "start_time": "2022-03-23T11:47:57.741Z"
   },
   {
    "duration": 12,
    "start_time": "2022-03-23T11:47:57.777Z"
   },
   {
    "duration": 8,
    "start_time": "2022-03-23T11:47:57.791Z"
   },
   {
    "duration": 15,
    "start_time": "2022-03-23T11:47:57.801Z"
   },
   {
    "duration": 6,
    "start_time": "2022-03-23T11:47:57.818Z"
   },
   {
    "duration": 48,
    "start_time": "2022-03-23T11:47:57.826Z"
   },
   {
    "duration": 6,
    "start_time": "2022-03-23T11:47:57.877Z"
   },
   {
    "duration": 8,
    "start_time": "2022-03-23T11:47:57.886Z"
   },
   {
    "duration": 19,
    "start_time": "2022-03-23T11:47:57.897Z"
   },
   {
    "duration": 55,
    "start_time": "2022-03-23T11:47:57.919Z"
   },
   {
    "duration": 8,
    "start_time": "2022-03-23T11:47:57.976Z"
   },
   {
    "duration": 10,
    "start_time": "2022-03-23T11:47:57.986Z"
   },
   {
    "duration": 11,
    "start_time": "2022-03-23T11:47:57.999Z"
   },
   {
    "duration": 7,
    "start_time": "2022-03-23T11:47:58.012Z"
   },
   {
    "duration": 56,
    "start_time": "2022-03-23T11:47:58.021Z"
   },
   {
    "duration": 42,
    "start_time": "2022-03-23T11:47:58.080Z"
   },
   {
    "duration": 12,
    "start_time": "2022-03-23T11:47:58.124Z"
   },
   {
    "duration": 67,
    "start_time": "2022-03-23T11:47:58.138Z"
   },
   {
    "duration": 12,
    "start_time": "2022-03-23T11:47:58.207Z"
   },
   {
    "duration": 5,
    "start_time": "2022-03-23T11:47:58.221Z"
   },
   {
    "duration": 43,
    "start_time": "2022-03-23T11:47:58.228Z"
   },
   {
    "duration": 26,
    "start_time": "2022-03-23T11:47:58.273Z"
   },
   {
    "duration": 12,
    "start_time": "2022-03-23T11:47:58.302Z"
   },
   {
    "duration": 65,
    "start_time": "2022-03-23T11:47:58.316Z"
   },
   {
    "duration": 12,
    "start_time": "2022-03-23T11:47:58.384Z"
   },
   {
    "duration": 5,
    "start_time": "2022-03-23T11:47:58.399Z"
   },
   {
    "duration": 12,
    "start_time": "2022-03-23T11:47:58.406Z"
   },
   {
    "duration": 53,
    "start_time": "2022-03-23T11:47:58.421Z"
   },
   {
    "duration": 11,
    "start_time": "2022-03-23T11:47:58.477Z"
   },
   {
    "duration": 28,
    "start_time": "2022-03-23T11:47:58.491Z"
   },
   {
    "duration": 11,
    "start_time": "2022-03-23T11:47:58.521Z"
   },
   {
    "duration": 35,
    "start_time": "2022-03-23T11:47:58.534Z"
   },
   {
    "duration": 11,
    "start_time": "2022-03-23T11:47:58.571Z"
   },
   {
    "duration": 13,
    "start_time": "2022-03-23T11:47:58.585Z"
   },
   {
    "duration": 11,
    "start_time": "2022-03-23T11:47:58.601Z"
   },
   {
    "duration": 13,
    "start_time": "2022-03-23T11:47:58.615Z"
   },
   {
    "duration": 46,
    "start_time": "2022-03-23T11:47:58.630Z"
   },
   {
    "duration": 5,
    "start_time": "2022-03-23T11:47:58.678Z"
   },
   {
    "duration": 9,
    "start_time": "2022-03-23T11:47:58.686Z"
   },
   {
    "duration": 9,
    "start_time": "2022-03-23T11:47:58.697Z"
   },
   {
    "duration": 5,
    "start_time": "2022-03-23T11:47:58.708Z"
   },
   {
    "duration": 65,
    "start_time": "2022-03-23T11:47:58.715Z"
   },
   {
    "duration": 15,
    "start_time": "2022-03-23T11:47:58.782Z"
   },
   {
    "duration": 27,
    "start_time": "2022-03-23T11:47:58.800Z"
   },
   {
    "duration": 199,
    "start_time": "2022-03-23T11:47:58.830Z"
   },
   {
    "duration": 17,
    "start_time": "2022-03-23T11:47:59.032Z"
   },
   {
    "duration": 5,
    "start_time": "2022-03-23T11:47:59.067Z"
   },
   {
    "duration": 16,
    "start_time": "2022-03-23T11:47:59.074Z"
   },
   {
    "duration": 5,
    "start_time": "2022-03-23T11:47:59.092Z"
   },
   {
    "duration": 25,
    "start_time": "2022-03-23T11:47:59.099Z"
   },
   {
    "duration": 48,
    "start_time": "2022-03-23T11:47:59.127Z"
   },
   {
    "duration": 25,
    "start_time": "2022-03-23T11:47:59.182Z"
   },
   {
    "duration": 8,
    "start_time": "2022-03-23T11:47:59.209Z"
   },
   {
    "duration": 15,
    "start_time": "2022-03-23T11:47:59.219Z"
   },
   {
    "duration": 348,
    "start_time": "2022-03-23T11:47:59.236Z"
   },
   {
    "duration": 384,
    "start_time": "2022-03-23T11:47:59.586Z"
   },
   {
    "duration": 298,
    "start_time": "2022-03-23T11:47:59.972Z"
   },
   {
    "duration": 1367,
    "start_time": "2022-03-23T11:55:28.609Z"
   },
   {
    "duration": 4,
    "start_time": "2022-03-23T11:55:29.981Z"
   },
   {
    "duration": 688,
    "start_time": "2022-03-23T11:55:29.988Z"
   },
   {
    "duration": 48,
    "start_time": "2022-03-23T11:55:30.679Z"
   },
   {
    "duration": 38,
    "start_time": "2022-03-23T11:55:30.731Z"
   },
   {
    "duration": 6,
    "start_time": "2022-03-23T11:55:30.771Z"
   },
   {
    "duration": 35,
    "start_time": "2022-03-23T11:55:30.780Z"
   },
   {
    "duration": 16,
    "start_time": "2022-03-23T11:55:30.818Z"
   },
   {
    "duration": 42,
    "start_time": "2022-03-23T11:55:30.836Z"
   },
   {
    "duration": 46,
    "start_time": "2022-03-23T11:55:30.881Z"
   },
   {
    "duration": 13,
    "start_time": "2022-03-23T11:55:30.930Z"
   },
   {
    "duration": 22,
    "start_time": "2022-03-23T11:55:30.947Z"
   },
   {
    "duration": 24,
    "start_time": "2022-03-23T11:55:30.972Z"
   },
   {
    "duration": 30,
    "start_time": "2022-03-23T11:55:31.001Z"
   },
   {
    "duration": 19,
    "start_time": "2022-03-23T11:55:31.034Z"
   },
   {
    "duration": 26,
    "start_time": "2022-03-23T11:55:31.056Z"
   },
   {
    "duration": 37,
    "start_time": "2022-03-23T11:55:31.085Z"
   },
   {
    "duration": 15,
    "start_time": "2022-03-23T11:55:31.124Z"
   },
   {
    "duration": 49,
    "start_time": "2022-03-23T11:55:31.141Z"
   },
   {
    "duration": 50,
    "start_time": "2022-03-23T11:55:31.192Z"
   },
   {
    "duration": 23,
    "start_time": "2022-03-23T11:55:31.244Z"
   },
   {
    "duration": 37,
    "start_time": "2022-03-23T11:55:31.270Z"
   },
   {
    "duration": 25,
    "start_time": "2022-03-23T11:55:31.309Z"
   },
   {
    "duration": 64,
    "start_time": "2022-03-23T11:55:31.336Z"
   },
   {
    "duration": 9,
    "start_time": "2022-03-23T11:55:31.402Z"
   },
   {
    "duration": 56,
    "start_time": "2022-03-23T11:55:31.413Z"
   },
   {
    "duration": 20,
    "start_time": "2022-03-23T11:55:31.471Z"
   },
   {
    "duration": 42,
    "start_time": "2022-03-23T11:55:31.493Z"
   },
   {
    "duration": 31,
    "start_time": "2022-03-23T11:55:31.538Z"
   },
   {
    "duration": 21,
    "start_time": "2022-03-23T11:55:31.571Z"
   },
   {
    "duration": 9,
    "start_time": "2022-03-23T11:55:31.595Z"
   },
   {
    "duration": 14,
    "start_time": "2022-03-23T11:55:31.606Z"
   },
   {
    "duration": 48,
    "start_time": "2022-03-23T11:55:31.622Z"
   },
   {
    "duration": 25,
    "start_time": "2022-03-23T11:55:31.672Z"
   },
   {
    "duration": 4,
    "start_time": "2022-03-23T11:55:31.699Z"
   },
   {
    "duration": 9,
    "start_time": "2022-03-23T11:55:31.705Z"
   },
   {
    "duration": 9,
    "start_time": "2022-03-23T11:55:31.716Z"
   },
   {
    "duration": 15,
    "start_time": "2022-03-23T11:55:31.727Z"
   },
   {
    "duration": 42,
    "start_time": "2022-03-23T11:55:31.744Z"
   },
   {
    "duration": 11,
    "start_time": "2022-03-23T11:55:31.788Z"
   },
   {
    "duration": 5,
    "start_time": "2022-03-23T11:55:31.807Z"
   },
   {
    "duration": 12,
    "start_time": "2022-03-23T11:55:31.815Z"
   },
   {
    "duration": 51,
    "start_time": "2022-03-23T11:55:31.830Z"
   },
   {
    "duration": 12,
    "start_time": "2022-03-23T11:55:31.884Z"
   },
   {
    "duration": 11,
    "start_time": "2022-03-23T11:55:31.899Z"
   },
   {
    "duration": 66,
    "start_time": "2022-03-23T11:55:31.912Z"
   },
   {
    "duration": 14,
    "start_time": "2022-03-23T11:55:31.981Z"
   },
   {
    "duration": 43,
    "start_time": "2022-03-23T11:55:31.998Z"
   },
   {
    "duration": 30,
    "start_time": "2022-03-23T11:55:32.043Z"
   },
   {
    "duration": 8,
    "start_time": "2022-03-23T11:55:32.075Z"
   },
   {
    "duration": 19,
    "start_time": "2022-03-23T11:55:32.085Z"
   },
   {
    "duration": 31,
    "start_time": "2022-03-23T11:55:32.107Z"
   },
   {
    "duration": 37,
    "start_time": "2022-03-23T11:55:32.140Z"
   },
   {
    "duration": 38,
    "start_time": "2022-03-23T11:55:32.180Z"
   },
   {
    "duration": 15,
    "start_time": "2022-03-23T11:55:32.220Z"
   },
   {
    "duration": 5,
    "start_time": "2022-03-23T11:55:32.266Z"
   },
   {
    "duration": 13,
    "start_time": "2022-03-23T11:55:32.274Z"
   },
   {
    "duration": 22,
    "start_time": "2022-03-23T11:55:32.290Z"
   },
   {
    "duration": 13,
    "start_time": "2022-03-23T11:55:32.315Z"
   },
   {
    "duration": 70,
    "start_time": "2022-03-23T11:55:32.331Z"
   },
   {
    "duration": 15,
    "start_time": "2022-03-23T11:55:32.404Z"
   },
   {
    "duration": 9,
    "start_time": "2022-03-23T11:55:32.422Z"
   },
   {
    "duration": 35,
    "start_time": "2022-03-23T11:55:32.434Z"
   },
   {
    "duration": 14,
    "start_time": "2022-03-23T11:55:32.471Z"
   },
   {
    "duration": 12,
    "start_time": "2022-03-23T11:55:32.487Z"
   },
   {
    "duration": 13,
    "start_time": "2022-03-23T11:55:32.501Z"
   },
   {
    "duration": 53,
    "start_time": "2022-03-23T11:55:32.517Z"
   },
   {
    "duration": 5,
    "start_time": "2022-03-23T11:55:32.572Z"
   },
   {
    "duration": 9,
    "start_time": "2022-03-23T11:55:32.580Z"
   },
   {
    "duration": 10,
    "start_time": "2022-03-23T11:55:32.592Z"
   },
   {
    "duration": 6,
    "start_time": "2022-03-23T11:55:32.604Z"
   },
   {
    "duration": 62,
    "start_time": "2022-03-23T11:55:32.612Z"
   },
   {
    "duration": 16,
    "start_time": "2022-03-23T11:55:32.676Z"
   },
   {
    "duration": 30,
    "start_time": "2022-03-23T11:55:32.694Z"
   },
   {
    "duration": 215,
    "start_time": "2022-03-23T11:55:32.726Z"
   },
   {
    "duration": 33,
    "start_time": "2022-03-23T11:55:32.944Z"
   },
   {
    "duration": 7,
    "start_time": "2022-03-23T11:55:32.979Z"
   },
   {
    "duration": 16,
    "start_time": "2022-03-23T11:55:32.988Z"
   },
   {
    "duration": 7,
    "start_time": "2022-03-23T11:55:33.006Z"
   },
   {
    "duration": 21,
    "start_time": "2022-03-23T11:55:33.016Z"
   },
   {
    "duration": 25,
    "start_time": "2022-03-23T11:55:33.067Z"
   },
   {
    "duration": 24,
    "start_time": "2022-03-23T11:55:33.094Z"
   },
   {
    "duration": 8,
    "start_time": "2022-03-23T11:55:33.120Z"
   },
   {
    "duration": 46,
    "start_time": "2022-03-23T11:55:33.131Z"
   },
   {
    "duration": 341,
    "start_time": "2022-03-23T11:55:33.179Z"
   },
   {
    "duration": 406,
    "start_time": "2022-03-23T11:55:33.523Z"
   },
   {
    "duration": 299,
    "start_time": "2022-03-23T11:55:33.931Z"
   },
   {
    "duration": 1497,
    "start_time": "2022-03-23T12:07:49.470Z"
   },
   {
    "duration": 4,
    "start_time": "2022-03-23T12:07:50.973Z"
   },
   {
    "duration": 506,
    "start_time": "2022-03-23T12:07:50.979Z"
   },
   {
    "duration": 37,
    "start_time": "2022-03-23T12:07:51.487Z"
   },
   {
    "duration": 18,
    "start_time": "2022-03-23T12:07:51.528Z"
   },
   {
    "duration": 22,
    "start_time": "2022-03-23T12:07:51.549Z"
   },
   {
    "duration": 30,
    "start_time": "2022-03-23T12:07:51.575Z"
   },
   {
    "duration": 12,
    "start_time": "2022-03-23T12:07:51.608Z"
   },
   {
    "duration": 45,
    "start_time": "2022-03-23T12:07:51.623Z"
   },
   {
    "duration": 26,
    "start_time": "2022-03-23T12:07:51.671Z"
   },
   {
    "duration": 11,
    "start_time": "2022-03-23T12:07:51.700Z"
   },
   {
    "duration": 6,
    "start_time": "2022-03-23T12:07:51.713Z"
   },
   {
    "duration": 49,
    "start_time": "2022-03-23T12:07:51.721Z"
   },
   {
    "duration": 14,
    "start_time": "2022-03-23T12:07:51.775Z"
   },
   {
    "duration": 6,
    "start_time": "2022-03-23T12:07:51.792Z"
   },
   {
    "duration": 16,
    "start_time": "2022-03-23T12:07:51.800Z"
   },
   {
    "duration": 61,
    "start_time": "2022-03-23T12:07:51.818Z"
   },
   {
    "duration": 10,
    "start_time": "2022-03-23T12:07:51.881Z"
   },
   {
    "duration": 29,
    "start_time": "2022-03-23T12:07:51.893Z"
   },
   {
    "duration": 97,
    "start_time": "2022-03-23T12:07:51.926Z"
   },
   {
    "duration": 9,
    "start_time": "2022-03-23T12:07:52.026Z"
   },
   {
    "duration": 64,
    "start_time": "2022-03-23T12:07:52.038Z"
   },
   {
    "duration": 35,
    "start_time": "2022-03-23T12:07:52.104Z"
   },
   {
    "duration": 51,
    "start_time": "2022-03-23T12:07:52.141Z"
   },
   {
    "duration": 7,
    "start_time": "2022-03-23T12:07:52.194Z"
   },
   {
    "duration": 65,
    "start_time": "2022-03-23T12:07:52.204Z"
   },
   {
    "duration": 19,
    "start_time": "2022-03-23T12:07:52.272Z"
   },
   {
    "duration": 27,
    "start_time": "2022-03-23T12:07:52.294Z"
   },
   {
    "duration": 8,
    "start_time": "2022-03-23T12:07:52.324Z"
   },
   {
    "duration": 20,
    "start_time": "2022-03-23T12:07:52.367Z"
   },
   {
    "duration": 8,
    "start_time": "2022-03-23T12:07:52.390Z"
   },
   {
    "duration": 17,
    "start_time": "2022-03-23T12:07:52.401Z"
   },
   {
    "duration": 11,
    "start_time": "2022-03-23T12:07:52.420Z"
   },
   {
    "duration": 16,
    "start_time": "2022-03-23T12:07:52.469Z"
   },
   {
    "duration": 5,
    "start_time": "2022-03-23T12:07:52.487Z"
   },
   {
    "duration": 9,
    "start_time": "2022-03-23T12:07:52.495Z"
   },
   {
    "duration": 7,
    "start_time": "2022-03-23T12:07:52.507Z"
   },
   {
    "duration": 52,
    "start_time": "2022-03-23T12:07:52.516Z"
   },
   {
    "duration": 18,
    "start_time": "2022-03-23T12:07:52.571Z"
   },
   {
    "duration": 11,
    "start_time": "2022-03-23T12:07:52.592Z"
   },
   {
    "duration": 7,
    "start_time": "2022-03-23T12:07:52.610Z"
   },
   {
    "duration": 14,
    "start_time": "2022-03-23T12:07:52.619Z"
   },
   {
    "duration": 12,
    "start_time": "2022-03-23T12:07:52.668Z"
   },
   {
    "duration": 9,
    "start_time": "2022-03-23T12:07:52.683Z"
   },
   {
    "duration": 10,
    "start_time": "2022-03-23T12:07:52.695Z"
   },
   {
    "duration": 77,
    "start_time": "2022-03-23T12:07:52.707Z"
   },
   {
    "duration": 17,
    "start_time": "2022-03-23T12:07:52.788Z"
   },
   {
    "duration": 48,
    "start_time": "2022-03-23T12:07:52.808Z"
   },
   {
    "duration": 18,
    "start_time": "2022-03-23T12:07:52.859Z"
   },
   {
    "duration": 5,
    "start_time": "2022-03-23T12:07:52.879Z"
   },
   {
    "duration": 11,
    "start_time": "2022-03-23T12:07:52.886Z"
   },
   {
    "duration": 68,
    "start_time": "2022-03-23T12:07:52.899Z"
   },
   {
    "duration": 18,
    "start_time": "2022-03-23T12:07:52.971Z"
   },
   {
    "duration": 49,
    "start_time": "2022-03-23T12:07:52.992Z"
   },
   {
    "duration": 27,
    "start_time": "2022-03-23T12:07:53.043Z"
   },
   {
    "duration": 5,
    "start_time": "2022-03-23T12:07:53.073Z"
   },
   {
    "duration": 11,
    "start_time": "2022-03-23T12:07:53.080Z"
   },
   {
    "duration": 22,
    "start_time": "2022-03-23T12:07:53.094Z"
   },
   {
    "duration": 12,
    "start_time": "2022-03-23T12:07:53.118Z"
   },
   {
    "duration": 37,
    "start_time": "2022-03-23T12:07:53.168Z"
   },
   {
    "duration": 15,
    "start_time": "2022-03-23T12:07:53.208Z"
   },
   {
    "duration": 5,
    "start_time": "2022-03-23T12:07:53.226Z"
   },
   {
    "duration": 16,
    "start_time": "2022-03-23T12:07:53.269Z"
   },
   {
    "duration": 14,
    "start_time": "2022-03-23T12:07:53.288Z"
   },
   {
    "duration": 11,
    "start_time": "2022-03-23T12:07:53.305Z"
   },
   {
    "duration": 11,
    "start_time": "2022-03-23T12:07:53.318Z"
   },
   {
    "duration": 42,
    "start_time": "2022-03-23T12:07:53.331Z"
   },
   {
    "duration": 4,
    "start_time": "2022-03-23T12:07:53.375Z"
   },
   {
    "duration": 15,
    "start_time": "2022-03-23T12:07:53.382Z"
   },
   {
    "duration": 10,
    "start_time": "2022-03-23T12:07:53.399Z"
   },
   {
    "duration": 5,
    "start_time": "2022-03-23T12:07:53.411Z"
   },
   {
    "duration": 69,
    "start_time": "2022-03-23T12:07:53.419Z"
   },
   {
    "duration": 19,
    "start_time": "2022-03-23T12:07:53.490Z"
   },
   {
    "duration": 28,
    "start_time": "2022-03-23T12:07:53.512Z"
   },
   {
    "duration": 186,
    "start_time": "2022-03-23T12:07:53.568Z"
   },
   {
    "duration": 24,
    "start_time": "2022-03-23T12:07:53.757Z"
   },
   {
    "duration": 9,
    "start_time": "2022-03-23T12:07:53.783Z"
   },
   {
    "duration": 17,
    "start_time": "2022-03-23T12:07:53.794Z"
   },
   {
    "duration": 8,
    "start_time": "2022-03-23T12:07:53.813Z"
   },
   {
    "duration": 56,
    "start_time": "2022-03-23T12:07:53.823Z"
   },
   {
    "duration": 25,
    "start_time": "2022-03-23T12:07:53.882Z"
   },
   {
    "duration": 23,
    "start_time": "2022-03-23T12:07:53.910Z"
   },
   {
    "duration": 37,
    "start_time": "2022-03-23T12:07:53.936Z"
   },
   {
    "duration": 8,
    "start_time": "2022-03-23T12:07:53.976Z"
   },
   {
    "duration": 482,
    "start_time": "2022-03-23T12:07:53.987Z"
   },
   {
    "duration": 411,
    "start_time": "2022-03-23T12:07:54.472Z"
   },
   {
    "duration": 408,
    "start_time": "2022-03-23T12:07:54.885Z"
   },
   {
    "duration": 90,
    "start_time": "2022-03-23T13:31:32.558Z"
   },
   {
    "duration": 4,
    "start_time": "2022-03-23T13:34:18.549Z"
   },
   {
    "duration": 3,
    "start_time": "2022-03-23T13:34:22.142Z"
   },
   {
    "duration": 1898,
    "start_time": "2022-03-23T13:37:28.696Z"
   },
   {
    "duration": 1578,
    "start_time": "2022-03-23T13:37:38.232Z"
   },
   {
    "duration": 7,
    "start_time": "2022-03-23T13:38:30.702Z"
   },
   {
    "duration": 7,
    "start_time": "2022-03-23T13:39:33.881Z"
   },
   {
    "duration": 7,
    "start_time": "2022-03-23T13:44:53.333Z"
   },
   {
    "duration": 1414,
    "start_time": "2022-03-23T13:45:12.683Z"
   },
   {
    "duration": 3,
    "start_time": "2022-03-23T13:45:14.100Z"
   },
   {
    "duration": 479,
    "start_time": "2022-03-23T13:45:14.106Z"
   },
   {
    "duration": 35,
    "start_time": "2022-03-23T13:45:14.588Z"
   },
   {
    "duration": 17,
    "start_time": "2022-03-23T13:45:14.625Z"
   },
   {
    "duration": 5,
    "start_time": "2022-03-23T13:45:14.644Z"
   },
   {
    "duration": 41,
    "start_time": "2022-03-23T13:45:14.668Z"
   },
   {
    "duration": 13,
    "start_time": "2022-03-23T13:45:14.711Z"
   },
   {
    "duration": 7,
    "start_time": "2022-03-23T13:45:14.726Z"
   },
   {
    "duration": 34,
    "start_time": "2022-03-23T13:45:14.767Z"
   },
   {
    "duration": 11,
    "start_time": "2022-03-23T13:45:14.804Z"
   },
   {
    "duration": 6,
    "start_time": "2022-03-23T13:45:14.817Z"
   },
   {
    "duration": 47,
    "start_time": "2022-03-23T13:45:14.826Z"
   },
   {
    "duration": 15,
    "start_time": "2022-03-23T13:45:14.875Z"
   },
   {
    "duration": 18,
    "start_time": "2022-03-23T13:45:14.892Z"
   },
   {
    "duration": 16,
    "start_time": "2022-03-23T13:45:14.924Z"
   },
   {
    "duration": 34,
    "start_time": "2022-03-23T13:45:14.942Z"
   },
   {
    "duration": 11,
    "start_time": "2022-03-23T13:45:14.978Z"
   },
   {
    "duration": 31,
    "start_time": "2022-03-23T13:45:14.991Z"
   },
   {
    "duration": 74,
    "start_time": "2022-03-23T13:45:15.024Z"
   },
   {
    "duration": 7,
    "start_time": "2022-03-23T13:45:15.101Z"
   },
   {
    "duration": 57,
    "start_time": "2022-03-23T13:45:15.110Z"
   },
   {
    "duration": 22,
    "start_time": "2022-03-23T13:45:15.169Z"
   },
   {
    "duration": 33,
    "start_time": "2022-03-23T13:45:15.194Z"
   },
   {
    "duration": 6,
    "start_time": "2022-03-23T13:45:15.229Z"
   },
   {
    "duration": 37,
    "start_time": "2022-03-23T13:45:15.266Z"
   },
   {
    "duration": 19,
    "start_time": "2022-03-23T13:45:15.305Z"
   },
   {
    "duration": 51,
    "start_time": "2022-03-23T13:45:15.331Z"
   },
   {
    "duration": 7,
    "start_time": "2022-03-23T13:45:15.384Z"
   },
   {
    "duration": 18,
    "start_time": "2022-03-23T13:45:15.393Z"
   },
   {
    "duration": 8,
    "start_time": "2022-03-23T13:45:15.413Z"
   },
   {
    "duration": 49,
    "start_time": "2022-03-23T13:45:15.423Z"
   },
   {
    "duration": 11,
    "start_time": "2022-03-23T13:45:15.474Z"
   },
   {
    "duration": 12,
    "start_time": "2022-03-23T13:45:15.487Z"
   },
   {
    "duration": 5,
    "start_time": "2022-03-23T13:45:15.501Z"
   },
   {
    "duration": 8,
    "start_time": "2022-03-23T13:45:15.508Z"
   },
   {
    "duration": 8,
    "start_time": "2022-03-23T13:45:15.518Z"
   },
   {
    "duration": 9,
    "start_time": "2022-03-23T13:45:15.568Z"
   },
   {
    "duration": 19,
    "start_time": "2022-03-23T13:45:15.579Z"
   },
   {
    "duration": 10,
    "start_time": "2022-03-23T13:45:15.600Z"
   },
   {
    "duration": 7,
    "start_time": "2022-03-23T13:45:15.613Z"
   },
   {
    "duration": 51,
    "start_time": "2022-03-23T13:45:15.623Z"
   },
   {
    "duration": 12,
    "start_time": "2022-03-23T13:45:15.678Z"
   },
   {
    "duration": 9,
    "start_time": "2022-03-23T13:45:15.692Z"
   },
   {
    "duration": 12,
    "start_time": "2022-03-23T13:45:15.703Z"
   },
   {
    "duration": 74,
    "start_time": "2022-03-23T13:45:15.717Z"
   },
   {
    "duration": 15,
    "start_time": "2022-03-23T13:45:15.794Z"
   },
   {
    "duration": 81,
    "start_time": "2022-03-23T13:45:15.812Z"
   },
   {
    "duration": 18,
    "start_time": "2022-03-23T13:45:15.895Z"
   },
   {
    "duration": 9,
    "start_time": "2022-03-23T13:45:15.916Z"
   },
   {
    "duration": 10,
    "start_time": "2022-03-23T13:45:15.929Z"
   },
   {
    "duration": 49,
    "start_time": "2022-03-23T13:45:15.941Z"
   },
   {
    "duration": 14,
    "start_time": "2022-03-23T13:45:15.992Z"
   },
   {
    "duration": 72,
    "start_time": "2022-03-23T13:45:16.008Z"
   },
   {
    "duration": 11,
    "start_time": "2022-03-23T13:45:16.083Z"
   },
   {
    "duration": 5,
    "start_time": "2022-03-23T13:45:16.097Z"
   },
   {
    "duration": 10,
    "start_time": "2022-03-23T13:45:16.104Z"
   },
   {
    "duration": 54,
    "start_time": "2022-03-23T13:45:16.116Z"
   },
   {
    "duration": 12,
    "start_time": "2022-03-23T13:45:16.173Z"
   },
   {
    "duration": 31,
    "start_time": "2022-03-23T13:45:16.189Z"
   },
   {
    "duration": 12,
    "start_time": "2022-03-23T13:45:16.223Z"
   },
   {
    "duration": 4,
    "start_time": "2022-03-23T13:45:16.268Z"
   },
   {
    "duration": 14,
    "start_time": "2022-03-23T13:45:16.274Z"
   },
   {
    "duration": 13,
    "start_time": "2022-03-23T13:45:16.290Z"
   },
   {
    "duration": 12,
    "start_time": "2022-03-23T13:45:16.306Z"
   },
   {
    "duration": 49,
    "start_time": "2022-03-23T13:45:16.321Z"
   },
   {
    "duration": 17,
    "start_time": "2022-03-23T13:45:16.373Z"
   },
   {
    "duration": 8,
    "start_time": "2022-03-23T13:45:16.393Z"
   },
   {
    "duration": 12,
    "start_time": "2022-03-23T13:45:16.404Z"
   },
   {
    "duration": 10,
    "start_time": "2022-03-23T13:45:16.419Z"
   },
   {
    "duration": 39,
    "start_time": "2022-03-23T13:45:16.431Z"
   },
   {
    "duration": 21,
    "start_time": "2022-03-23T13:45:16.472Z"
   },
   {
    "duration": 17,
    "start_time": "2022-03-23T13:45:16.495Z"
   },
   {
    "duration": 63,
    "start_time": "2022-03-23T13:45:16.515Z"
   },
   {
    "duration": 178,
    "start_time": "2022-03-23T13:45:16.580Z"
   },
   {
    "duration": 22,
    "start_time": "2022-03-23T13:45:16.761Z"
   },
   {
    "duration": 5,
    "start_time": "2022-03-23T13:45:16.786Z"
   },
   {
    "duration": 19,
    "start_time": "2022-03-23T13:45:16.793Z"
   },
   {
    "duration": 7,
    "start_time": "2022-03-23T13:45:16.814Z"
   },
   {
    "duration": 46,
    "start_time": "2022-03-23T13:45:16.823Z"
   },
   {
    "duration": 23,
    "start_time": "2022-03-23T13:45:16.872Z"
   },
   {
    "duration": 25,
    "start_time": "2022-03-23T13:45:16.905Z"
   },
   {
    "duration": 12,
    "start_time": "2022-03-23T13:45:16.968Z"
   },
   {
    "duration": 11,
    "start_time": "2022-03-23T13:45:16.982Z"
   },
   {
    "duration": 338,
    "start_time": "2022-03-23T13:45:16.995Z"
   },
   {
    "duration": 295,
    "start_time": "2022-03-23T13:45:17.335Z"
   },
   {
    "duration": 298,
    "start_time": "2022-03-23T13:45:17.632Z"
   },
   {
    "duration": 7,
    "start_time": "2022-03-23T13:45:17.933Z"
   },
   {
    "duration": 7,
    "start_time": "2022-03-23T13:45:33.851Z"
   },
   {
    "duration": 7,
    "start_time": "2022-03-23T13:49:47.518Z"
   },
   {
    "duration": 6,
    "start_time": "2022-03-23T13:51:59.001Z"
   },
   {
    "duration": 24,
    "start_time": "2022-03-23T14:00:27.591Z"
   },
   {
    "duration": 35,
    "start_time": "2022-03-23T14:00:37.822Z"
   },
   {
    "duration": 1365,
    "start_time": "2022-03-23T14:00:54.992Z"
   },
   {
    "duration": 7,
    "start_time": "2022-03-23T14:00:56.360Z"
   },
   {
    "duration": 504,
    "start_time": "2022-03-23T14:00:56.370Z"
   },
   {
    "duration": 42,
    "start_time": "2022-03-23T14:00:56.878Z"
   },
   {
    "duration": 18,
    "start_time": "2022-03-23T14:00:56.922Z"
   },
   {
    "duration": 28,
    "start_time": "2022-03-23T14:00:56.942Z"
   },
   {
    "duration": 30,
    "start_time": "2022-03-23T14:00:56.972Z"
   },
   {
    "duration": 12,
    "start_time": "2022-03-23T14:00:57.004Z"
   },
   {
    "duration": 6,
    "start_time": "2022-03-23T14:00:57.018Z"
   },
   {
    "duration": 25,
    "start_time": "2022-03-23T14:00:57.067Z"
   },
   {
    "duration": 11,
    "start_time": "2022-03-23T14:00:57.094Z"
   },
   {
    "duration": 8,
    "start_time": "2022-03-23T14:00:57.107Z"
   },
   {
    "duration": 52,
    "start_time": "2022-03-23T14:00:57.117Z"
   },
   {
    "duration": 16,
    "start_time": "2022-03-23T14:00:57.171Z"
   },
   {
    "duration": 5,
    "start_time": "2022-03-23T14:00:57.190Z"
   },
   {
    "duration": 16,
    "start_time": "2022-03-23T14:00:57.197Z"
   },
   {
    "duration": 51,
    "start_time": "2022-03-23T14:00:57.216Z"
   },
   {
    "duration": 5,
    "start_time": "2022-03-23T14:00:57.270Z"
   },
   {
    "duration": 27,
    "start_time": "2022-03-23T14:00:57.277Z"
   },
   {
    "duration": 74,
    "start_time": "2022-03-23T14:00:57.306Z"
   },
   {
    "duration": 6,
    "start_time": "2022-03-23T14:00:57.383Z"
   },
   {
    "duration": 37,
    "start_time": "2022-03-23T14:00:57.392Z"
   },
   {
    "duration": 42,
    "start_time": "2022-03-23T14:00:57.431Z"
   },
   {
    "duration": 35,
    "start_time": "2022-03-23T14:00:57.475Z"
   },
   {
    "duration": 7,
    "start_time": "2022-03-23T14:00:57.512Z"
   },
   {
    "duration": 69,
    "start_time": "2022-03-23T14:00:57.521Z"
   },
   {
    "duration": 20,
    "start_time": "2022-03-23T14:00:57.592Z"
   },
   {
    "duration": 27,
    "start_time": "2022-03-23T14:00:57.619Z"
   },
   {
    "duration": 7,
    "start_time": "2022-03-23T14:00:57.668Z"
   },
   {
    "duration": 18,
    "start_time": "2022-03-23T14:00:57.677Z"
   },
   {
    "duration": 8,
    "start_time": "2022-03-23T14:00:57.697Z"
   },
   {
    "duration": 13,
    "start_time": "2022-03-23T14:00:57.708Z"
   },
   {
    "duration": 48,
    "start_time": "2022-03-23T14:00:57.723Z"
   },
   {
    "duration": 13,
    "start_time": "2022-03-23T14:00:57.773Z"
   },
   {
    "duration": 5,
    "start_time": "2022-03-23T14:00:57.788Z"
   },
   {
    "duration": 8,
    "start_time": "2022-03-23T14:00:57.796Z"
   },
   {
    "duration": 6,
    "start_time": "2022-03-23T14:00:57.806Z"
   },
   {
    "duration": 17,
    "start_time": "2022-03-23T14:00:57.814Z"
   },
   {
    "duration": 51,
    "start_time": "2022-03-23T14:00:57.834Z"
   },
   {
    "duration": 14,
    "start_time": "2022-03-23T14:00:57.888Z"
   },
   {
    "duration": 7,
    "start_time": "2022-03-23T14:00:57.905Z"
   },
   {
    "duration": 12,
    "start_time": "2022-03-23T14:00:57.914Z"
   },
   {
    "duration": 55,
    "start_time": "2022-03-23T14:00:57.928Z"
   },
   {
    "duration": 14,
    "start_time": "2022-03-23T14:00:57.986Z"
   },
   {
    "duration": 9,
    "start_time": "2022-03-23T14:00:58.002Z"
   },
   {
    "duration": 31,
    "start_time": "2022-03-23T14:00:58.014Z"
   },
   {
    "duration": 29,
    "start_time": "2022-03-23T14:00:58.047Z"
   },
   {
    "duration": 42,
    "start_time": "2022-03-23T14:00:58.079Z"
   },
   {
    "duration": 11,
    "start_time": "2022-03-23T14:00:58.123Z"
   },
   {
    "duration": 34,
    "start_time": "2022-03-23T14:00:58.136Z"
   },
   {
    "duration": 11,
    "start_time": "2022-03-23T14:00:58.173Z"
   },
   {
    "duration": 25,
    "start_time": "2022-03-23T14:00:58.186Z"
   },
   {
    "duration": 12,
    "start_time": "2022-03-23T14:00:58.213Z"
   },
   {
    "duration": 65,
    "start_time": "2022-03-23T14:00:58.227Z"
   },
   {
    "duration": 12,
    "start_time": "2022-03-23T14:00:58.294Z"
   },
   {
    "duration": 7,
    "start_time": "2022-03-23T14:00:58.308Z"
   },
   {
    "duration": 14,
    "start_time": "2022-03-23T14:00:58.318Z"
   },
   {
    "duration": 45,
    "start_time": "2022-03-23T14:00:58.334Z"
   },
   {
    "duration": 12,
    "start_time": "2022-03-23T14:00:58.381Z"
   },
   {
    "duration": 34,
    "start_time": "2022-03-23T14:00:58.395Z"
   },
   {
    "duration": 37,
    "start_time": "2022-03-23T14:00:58.432Z"
   },
   {
    "duration": 5,
    "start_time": "2022-03-23T14:00:58.472Z"
   },
   {
    "duration": 13,
    "start_time": "2022-03-23T14:00:58.479Z"
   },
   {
    "duration": 13,
    "start_time": "2022-03-23T14:00:58.494Z"
   },
   {
    "duration": 9,
    "start_time": "2022-03-23T14:00:58.510Z"
   },
   {
    "duration": 49,
    "start_time": "2022-03-23T14:00:58.520Z"
   },
   {
    "duration": 13,
    "start_time": "2022-03-23T14:00:58.571Z"
   },
   {
    "duration": 5,
    "start_time": "2022-03-23T14:00:58.586Z"
   },
   {
    "duration": 12,
    "start_time": "2022-03-23T14:00:58.593Z"
   },
   {
    "duration": 12,
    "start_time": "2022-03-23T14:00:58.607Z"
   },
   {
    "duration": 4,
    "start_time": "2022-03-23T14:00:58.621Z"
   },
   {
    "duration": 58,
    "start_time": "2022-03-23T14:00:58.627Z"
   },
   {
    "duration": 16,
    "start_time": "2022-03-23T14:00:58.687Z"
   },
   {
    "duration": 30,
    "start_time": "2022-03-23T14:00:58.705Z"
   },
   {
    "duration": 195,
    "start_time": "2022-03-23T14:00:58.737Z"
   },
   {
    "duration": 18,
    "start_time": "2022-03-23T14:00:58.934Z"
   },
   {
    "duration": 6,
    "start_time": "2022-03-23T14:00:58.967Z"
   },
   {
    "duration": 33,
    "start_time": "2022-03-23T14:00:58.975Z"
   },
   {
    "duration": 18,
    "start_time": "2022-03-23T14:00:59.010Z"
   },
   {
    "duration": 37,
    "start_time": "2022-03-23T14:00:59.030Z"
   },
   {
    "duration": 22,
    "start_time": "2022-03-23T14:00:59.069Z"
   },
   {
    "duration": 23,
    "start_time": "2022-03-23T14:00:59.098Z"
   },
   {
    "duration": 17,
    "start_time": "2022-03-23T14:00:59.123Z"
   },
   {
    "duration": 27,
    "start_time": "2022-03-23T14:00:59.142Z"
   },
   {
    "duration": 333,
    "start_time": "2022-03-23T14:00:59.172Z"
   },
   {
    "duration": 348,
    "start_time": "2022-03-23T14:00:59.507Z"
   },
   {
    "duration": 305,
    "start_time": "2022-03-23T14:00:59.857Z"
   },
   {
    "duration": 9,
    "start_time": "2022-03-23T14:01:00.165Z"
   },
   {
    "duration": 6,
    "start_time": "2022-03-23T14:04:04.741Z"
   },
   {
    "duration": 103,
    "start_time": "2022-03-23T14:05:12.664Z"
   },
   {
    "duration": 6,
    "start_time": "2022-03-23T14:37:26.107Z"
   },
   {
    "duration": 11,
    "start_time": "2022-03-23T14:37:54.423Z"
   },
   {
    "duration": 10,
    "start_time": "2022-03-23T14:45:33.597Z"
   },
   {
    "duration": 12,
    "start_time": "2022-03-23T14:58:50.168Z"
   },
   {
    "duration": 20,
    "start_time": "2022-03-23T14:58:50.783Z"
   },
   {
    "duration": 1515,
    "start_time": "2022-03-23T14:58:58.937Z"
   },
   {
    "duration": 4,
    "start_time": "2022-03-23T14:59:00.455Z"
   },
   {
    "duration": 495,
    "start_time": "2022-03-23T14:59:00.461Z"
   },
   {
    "duration": 35,
    "start_time": "2022-03-23T14:59:00.958Z"
   },
   {
    "duration": 16,
    "start_time": "2022-03-23T14:59:00.996Z"
   },
   {
    "duration": 13,
    "start_time": "2022-03-23T14:59:01.015Z"
   },
   {
    "duration": 60,
    "start_time": "2022-03-23T14:59:01.031Z"
   },
   {
    "duration": 14,
    "start_time": "2022-03-23T14:59:01.093Z"
   },
   {
    "duration": 7,
    "start_time": "2022-03-23T14:59:01.109Z"
   },
   {
    "duration": 49,
    "start_time": "2022-03-23T14:59:01.119Z"
   },
   {
    "duration": 11,
    "start_time": "2022-03-23T14:59:01.171Z"
   },
   {
    "duration": 7,
    "start_time": "2022-03-23T14:59:01.185Z"
   },
   {
    "duration": 19,
    "start_time": "2022-03-23T14:59:01.194Z"
   },
   {
    "duration": 19,
    "start_time": "2022-03-23T14:59:01.218Z"
   },
   {
    "duration": 6,
    "start_time": "2022-03-23T14:59:01.269Z"
   },
   {
    "duration": 30,
    "start_time": "2022-03-23T14:59:01.277Z"
   },
   {
    "duration": 18,
    "start_time": "2022-03-23T14:59:01.310Z"
   },
   {
    "duration": 16,
    "start_time": "2022-03-23T14:59:01.330Z"
   },
   {
    "duration": 43,
    "start_time": "2022-03-23T14:59:01.348Z"
   },
   {
    "duration": 74,
    "start_time": "2022-03-23T14:59:01.393Z"
   },
   {
    "duration": 7,
    "start_time": "2022-03-23T14:59:01.470Z"
   },
   {
    "duration": 50,
    "start_time": "2022-03-23T14:59:01.480Z"
   },
   {
    "duration": 36,
    "start_time": "2022-03-23T14:59:01.533Z"
   },
   {
    "duration": 36,
    "start_time": "2022-03-23T14:59:01.572Z"
   },
   {
    "duration": 9,
    "start_time": "2022-03-23T14:59:01.611Z"
   },
   {
    "duration": 77,
    "start_time": "2022-03-23T14:59:01.622Z"
   },
   {
    "duration": 21,
    "start_time": "2022-03-23T14:59:01.702Z"
   },
   {
    "duration": 55,
    "start_time": "2022-03-23T14:59:01.726Z"
   },
   {
    "duration": 8,
    "start_time": "2022-03-23T14:59:01.784Z"
   },
   {
    "duration": 22,
    "start_time": "2022-03-23T14:59:01.795Z"
   },
   {
    "duration": 9,
    "start_time": "2022-03-23T14:59:01.819Z"
   },
   {
    "duration": 45,
    "start_time": "2022-03-23T14:59:01.831Z"
   },
   {
    "duration": 12,
    "start_time": "2022-03-23T14:59:01.879Z"
   },
   {
    "duration": 15,
    "start_time": "2022-03-23T14:59:01.893Z"
   },
   {
    "duration": 4,
    "start_time": "2022-03-23T14:59:01.910Z"
   },
   {
    "duration": 53,
    "start_time": "2022-03-23T14:59:01.916Z"
   },
   {
    "duration": 8,
    "start_time": "2022-03-23T14:59:01.971Z"
   },
   {
    "duration": 14,
    "start_time": "2022-03-23T14:59:01.981Z"
   },
   {
    "duration": 18,
    "start_time": "2022-03-23T14:59:01.997Z"
   },
   {
    "duration": 10,
    "start_time": "2022-03-23T14:59:02.017Z"
   },
   {
    "duration": 5,
    "start_time": "2022-03-23T14:59:02.069Z"
   },
   {
    "duration": 10,
    "start_time": "2022-03-23T14:59:02.077Z"
   },
   {
    "duration": 11,
    "start_time": "2022-03-23T14:59:02.089Z"
   },
   {
    "duration": 8,
    "start_time": "2022-03-23T14:59:02.103Z"
   },
   {
    "duration": 12,
    "start_time": "2022-03-23T14:59:02.113Z"
   },
   {
    "duration": 70,
    "start_time": "2022-03-23T14:59:02.127Z"
   },
   {
    "duration": 11,
    "start_time": "2022-03-23T14:59:02.200Z"
   },
   {
    "duration": 65,
    "start_time": "2022-03-23T14:59:02.213Z"
   },
   {
    "duration": 12,
    "start_time": "2022-03-23T14:59:02.280Z"
   },
   {
    "duration": 7,
    "start_time": "2022-03-23T14:59:02.295Z"
   },
   {
    "duration": 11,
    "start_time": "2022-03-23T14:59:02.305Z"
   },
   {
    "duration": 53,
    "start_time": "2022-03-23T14:59:02.318Z"
   },
   {
    "duration": 12,
    "start_time": "2022-03-23T14:59:02.373Z"
   },
   {
    "duration": 41,
    "start_time": "2022-03-23T14:59:02.387Z"
   },
   {
    "duration": 11,
    "start_time": "2022-03-23T14:59:02.431Z"
   },
   {
    "duration": 4,
    "start_time": "2022-03-23T14:59:02.468Z"
   },
   {
    "duration": 12,
    "start_time": "2022-03-23T14:59:02.474Z"
   },
   {
    "duration": 23,
    "start_time": "2022-03-23T14:59:02.488Z"
   },
   {
    "duration": 11,
    "start_time": "2022-03-23T14:59:02.513Z"
   },
   {
    "duration": 67,
    "start_time": "2022-03-23T14:59:02.526Z"
   },
   {
    "duration": 11,
    "start_time": "2022-03-23T14:59:02.595Z"
   },
   {
    "duration": 5,
    "start_time": "2022-03-23T14:59:02.608Z"
   },
   {
    "duration": 14,
    "start_time": "2022-03-23T14:59:02.614Z"
   },
   {
    "duration": 37,
    "start_time": "2022-03-23T14:59:02.630Z"
   },
   {
    "duration": 10,
    "start_time": "2022-03-23T14:59:02.670Z"
   },
   {
    "duration": 11,
    "start_time": "2022-03-23T14:59:02.683Z"
   },
   {
    "duration": 9,
    "start_time": "2022-03-23T14:59:02.696Z"
   },
   {
    "duration": 5,
    "start_time": "2022-03-23T14:59:02.707Z"
   },
   {
    "duration": 13,
    "start_time": "2022-03-23T14:59:02.714Z"
   },
   {
    "duration": 9,
    "start_time": "2022-03-23T14:59:02.768Z"
   },
   {
    "duration": 5,
    "start_time": "2022-03-23T14:59:02.780Z"
   },
   {
    "duration": 21,
    "start_time": "2022-03-23T14:59:02.787Z"
   },
   {
    "duration": 16,
    "start_time": "2022-03-23T14:59:02.810Z"
   },
   {
    "duration": 58,
    "start_time": "2022-03-23T14:59:02.828Z"
   },
   {
    "duration": 184,
    "start_time": "2022-03-23T14:59:02.888Z"
   },
   {
    "duration": 17,
    "start_time": "2022-03-23T14:59:03.074Z"
   },
   {
    "duration": 14,
    "start_time": "2022-03-23T14:59:03.093Z"
   },
   {
    "duration": 23,
    "start_time": "2022-03-23T14:59:03.109Z"
   },
   {
    "duration": 7,
    "start_time": "2022-03-23T14:59:03.135Z"
   },
   {
    "duration": 36,
    "start_time": "2022-03-23T14:59:03.144Z"
   },
   {
    "duration": 28,
    "start_time": "2022-03-23T14:59:03.182Z"
   },
   {
    "duration": 23,
    "start_time": "2022-03-23T14:59:03.212Z"
   },
   {
    "duration": 39,
    "start_time": "2022-03-23T14:59:03.238Z"
   },
   {
    "duration": 11,
    "start_time": "2022-03-23T14:59:03.279Z"
   },
   {
    "duration": 341,
    "start_time": "2022-03-23T14:59:03.293Z"
   },
   {
    "duration": 288,
    "start_time": "2022-03-23T14:59:03.637Z"
   },
   {
    "duration": 293,
    "start_time": "2022-03-23T14:59:03.927Z"
   },
   {
    "duration": 7,
    "start_time": "2022-03-23T14:59:04.222Z"
   },
   {
    "duration": 12,
    "start_time": "2022-03-23T14:59:04.231Z"
   },
   {
    "duration": 32,
    "start_time": "2022-03-23T14:59:04.245Z"
   },
   {
    "duration": 17,
    "start_time": "2022-03-23T14:59:04.279Z"
   },
   {
    "duration": 16,
    "start_time": "2022-03-23T15:01:57.048Z"
   },
   {
    "duration": 19,
    "start_time": "2022-03-23T15:03:38.759Z"
   },
   {
    "duration": 5,
    "start_time": "2022-03-23T15:13:38.850Z"
   },
   {
    "duration": 36,
    "start_time": "2022-03-23T15:13:39.681Z"
   },
   {
    "duration": 1431,
    "start_time": "2022-03-23T15:14:00.294Z"
   },
   {
    "duration": 4,
    "start_time": "2022-03-23T15:14:01.728Z"
   },
   {
    "duration": 520,
    "start_time": "2022-03-23T15:14:01.734Z"
   },
   {
    "duration": 35,
    "start_time": "2022-03-23T15:14:02.258Z"
   },
   {
    "duration": 17,
    "start_time": "2022-03-23T15:14:02.295Z"
   },
   {
    "duration": 5,
    "start_time": "2022-03-23T15:14:02.314Z"
   },
   {
    "duration": 64,
    "start_time": "2022-03-23T15:14:02.321Z"
   },
   {
    "duration": 13,
    "start_time": "2022-03-23T15:14:02.387Z"
   },
   {
    "duration": 7,
    "start_time": "2022-03-23T15:14:02.402Z"
   },
   {
    "duration": 56,
    "start_time": "2022-03-23T15:14:02.413Z"
   },
   {
    "duration": 12,
    "start_time": "2022-03-23T15:14:02.471Z"
   },
   {
    "duration": 10,
    "start_time": "2022-03-23T15:14:02.485Z"
   },
   {
    "duration": 18,
    "start_time": "2022-03-23T15:14:02.497Z"
   },
   {
    "duration": 12,
    "start_time": "2022-03-23T15:14:02.517Z"
   },
   {
    "duration": 42,
    "start_time": "2022-03-23T15:14:02.532Z"
   },
   {
    "duration": 24,
    "start_time": "2022-03-23T15:14:02.577Z"
   },
   {
    "duration": 17,
    "start_time": "2022-03-23T15:14:02.603Z"
   },
   {
    "duration": 7,
    "start_time": "2022-03-23T15:14:02.623Z"
   },
   {
    "duration": 28,
    "start_time": "2022-03-23T15:14:02.669Z"
   },
   {
    "duration": 70,
    "start_time": "2022-03-23T15:14:02.699Z"
   },
   {
    "duration": 9,
    "start_time": "2022-03-23T15:14:02.771Z"
   },
   {
    "duration": 41,
    "start_time": "2022-03-23T15:14:02.783Z"
   },
   {
    "duration": 48,
    "start_time": "2022-03-23T15:14:02.826Z"
   },
   {
    "duration": 43,
    "start_time": "2022-03-23T15:14:02.876Z"
   },
   {
    "duration": 8,
    "start_time": "2022-03-23T15:14:02.921Z"
   },
   {
    "duration": 60,
    "start_time": "2022-03-23T15:14:02.931Z"
   },
   {
    "duration": 18,
    "start_time": "2022-03-23T15:14:02.994Z"
   },
   {
    "duration": 50,
    "start_time": "2022-03-23T15:14:03.019Z"
   },
   {
    "duration": 6,
    "start_time": "2022-03-23T15:14:03.072Z"
   },
   {
    "duration": 21,
    "start_time": "2022-03-23T15:14:03.081Z"
   },
   {
    "duration": 8,
    "start_time": "2022-03-23T15:14:03.104Z"
   },
   {
    "duration": 19,
    "start_time": "2022-03-23T15:14:03.115Z"
   },
   {
    "duration": 9,
    "start_time": "2022-03-23T15:14:03.167Z"
   },
   {
    "duration": 14,
    "start_time": "2022-03-23T15:14:03.179Z"
   },
   {
    "duration": 5,
    "start_time": "2022-03-23T15:14:03.195Z"
   },
   {
    "duration": 9,
    "start_time": "2022-03-23T15:14:03.202Z"
   },
   {
    "duration": 6,
    "start_time": "2022-03-23T15:14:03.213Z"
   },
   {
    "duration": 48,
    "start_time": "2022-03-23T15:14:03.221Z"
   },
   {
    "duration": 25,
    "start_time": "2022-03-23T15:14:03.271Z"
   },
   {
    "duration": 11,
    "start_time": "2022-03-23T15:14:03.298Z"
   },
   {
    "duration": 13,
    "start_time": "2022-03-23T15:14:03.311Z"
   },
   {
    "duration": 16,
    "start_time": "2022-03-23T15:14:03.326Z"
   },
   {
    "duration": 32,
    "start_time": "2022-03-23T15:14:03.344Z"
   },
   {
    "duration": 7,
    "start_time": "2022-03-23T15:14:03.379Z"
   },
   {
    "duration": 11,
    "start_time": "2022-03-23T15:14:03.388Z"
   },
   {
    "duration": 67,
    "start_time": "2022-03-23T15:14:03.401Z"
   },
   {
    "duration": 14,
    "start_time": "2022-03-23T15:14:03.470Z"
   },
   {
    "duration": 47,
    "start_time": "2022-03-23T15:14:03.486Z"
   },
   {
    "duration": 34,
    "start_time": "2022-03-23T15:14:03.535Z"
   },
   {
    "duration": 8,
    "start_time": "2022-03-23T15:14:03.572Z"
   },
   {
    "duration": 13,
    "start_time": "2022-03-23T15:14:03.583Z"
   },
   {
    "duration": 27,
    "start_time": "2022-03-23T15:14:03.598Z"
   },
   {
    "duration": 13,
    "start_time": "2022-03-23T15:14:03.627Z"
   },
   {
    "duration": 63,
    "start_time": "2022-03-23T15:14:03.641Z"
   },
   {
    "duration": 11,
    "start_time": "2022-03-23T15:14:03.706Z"
   },
   {
    "duration": 8,
    "start_time": "2022-03-23T15:14:03.720Z"
   },
   {
    "duration": 40,
    "start_time": "2022-03-23T15:14:03.730Z"
   },
   {
    "duration": 23,
    "start_time": "2022-03-23T15:14:03.773Z"
   },
   {
    "duration": 11,
    "start_time": "2022-03-23T15:14:03.798Z"
   },
   {
    "duration": 61,
    "start_time": "2022-03-23T15:14:03.812Z"
   },
   {
    "duration": 12,
    "start_time": "2022-03-23T15:14:03.876Z"
   },
   {
    "duration": 6,
    "start_time": "2022-03-23T15:14:03.890Z"
   },
   {
    "duration": 14,
    "start_time": "2022-03-23T15:14:03.898Z"
   },
   {
    "duration": 10,
    "start_time": "2022-03-23T15:14:03.915Z"
   },
   {
    "duration": 42,
    "start_time": "2022-03-23T15:14:03.928Z"
   },
   {
    "duration": 11,
    "start_time": "2022-03-23T15:14:03.972Z"
   },
   {
    "duration": 9,
    "start_time": "2022-03-23T15:14:03.985Z"
   },
   {
    "duration": 6,
    "start_time": "2022-03-23T15:14:03.996Z"
   },
   {
    "duration": 9,
    "start_time": "2022-03-23T15:14:04.004Z"
   },
   {
    "duration": 57,
    "start_time": "2022-03-23T15:14:04.016Z"
   },
   {
    "duration": 5,
    "start_time": "2022-03-23T15:14:04.075Z"
   },
   {
    "duration": 21,
    "start_time": "2022-03-23T15:14:04.082Z"
   },
   {
    "duration": 550,
    "start_time": "2022-03-23T15:14:04.106Z"
   },
   {
    "duration": 0,
    "start_time": "2022-03-23T15:14:04.659Z"
   },
   {
    "duration": 0,
    "start_time": "2022-03-23T15:14:04.661Z"
   },
   {
    "duration": 0,
    "start_time": "2022-03-23T15:14:04.662Z"
   },
   {
    "duration": 0,
    "start_time": "2022-03-23T15:14:04.663Z"
   },
   {
    "duration": 0,
    "start_time": "2022-03-23T15:14:04.665Z"
   },
   {
    "duration": 0,
    "start_time": "2022-03-23T15:14:04.666Z"
   },
   {
    "duration": 0,
    "start_time": "2022-03-23T15:14:04.668Z"
   },
   {
    "duration": 0,
    "start_time": "2022-03-23T15:14:04.670Z"
   },
   {
    "duration": 0,
    "start_time": "2022-03-23T15:14:04.671Z"
   },
   {
    "duration": 0,
    "start_time": "2022-03-23T15:14:04.672Z"
   },
   {
    "duration": 1,
    "start_time": "2022-03-23T15:14:04.673Z"
   },
   {
    "duration": 0,
    "start_time": "2022-03-23T15:14:04.675Z"
   },
   {
    "duration": 0,
    "start_time": "2022-03-23T15:14:04.677Z"
   },
   {
    "duration": 0,
    "start_time": "2022-03-23T15:14:04.679Z"
   },
   {
    "duration": 0,
    "start_time": "2022-03-23T15:14:04.680Z"
   },
   {
    "duration": 0,
    "start_time": "2022-03-23T15:14:04.682Z"
   },
   {
    "duration": 0,
    "start_time": "2022-03-23T15:14:04.683Z"
   },
   {
    "duration": 0,
    "start_time": "2022-03-23T15:14:04.685Z"
   },
   {
    "duration": 0,
    "start_time": "2022-03-23T15:14:04.686Z"
   },
   {
    "duration": 19,
    "start_time": "2022-03-23T15:14:46.067Z"
   },
   {
    "duration": 1550,
    "start_time": "2022-03-23T15:14:59.153Z"
   },
   {
    "duration": 4,
    "start_time": "2022-03-23T15:15:00.705Z"
   },
   {
    "duration": 509,
    "start_time": "2022-03-23T15:15:00.712Z"
   },
   {
    "duration": 33,
    "start_time": "2022-03-23T15:15:01.224Z"
   },
   {
    "duration": 27,
    "start_time": "2022-03-23T15:15:01.260Z"
   },
   {
    "duration": 34,
    "start_time": "2022-03-23T15:15:01.290Z"
   },
   {
    "duration": 55,
    "start_time": "2022-03-23T15:15:01.326Z"
   },
   {
    "duration": 37,
    "start_time": "2022-03-23T15:15:01.385Z"
   },
   {
    "duration": 22,
    "start_time": "2022-03-23T15:15:01.424Z"
   },
   {
    "duration": 37,
    "start_time": "2022-03-23T15:15:01.448Z"
   },
   {
    "duration": 25,
    "start_time": "2022-03-23T15:15:01.488Z"
   },
   {
    "duration": 60,
    "start_time": "2022-03-23T15:15:01.515Z"
   },
   {
    "duration": 47,
    "start_time": "2022-03-23T15:15:01.578Z"
   },
   {
    "duration": 40,
    "start_time": "2022-03-23T15:15:01.628Z"
   },
   {
    "duration": 16,
    "start_time": "2022-03-23T15:15:01.672Z"
   },
   {
    "duration": 32,
    "start_time": "2022-03-23T15:15:01.691Z"
   },
   {
    "duration": 56,
    "start_time": "2022-03-23T15:15:01.726Z"
   },
   {
    "duration": 21,
    "start_time": "2022-03-23T15:15:01.785Z"
   },
   {
    "duration": 59,
    "start_time": "2022-03-23T15:15:01.809Z"
   },
   {
    "duration": 51,
    "start_time": "2022-03-23T15:15:01.871Z"
   },
   {
    "duration": 14,
    "start_time": "2022-03-23T15:15:01.924Z"
   },
   {
    "duration": 62,
    "start_time": "2022-03-23T15:15:01.940Z"
   },
   {
    "duration": 23,
    "start_time": "2022-03-23T15:15:02.009Z"
   },
   {
    "duration": 54,
    "start_time": "2022-03-23T15:15:02.035Z"
   },
   {
    "duration": 6,
    "start_time": "2022-03-23T15:15:02.092Z"
   },
   {
    "duration": 63,
    "start_time": "2022-03-23T15:15:02.100Z"
   },
   {
    "duration": 20,
    "start_time": "2022-03-23T15:15:02.164Z"
   },
   {
    "duration": 39,
    "start_time": "2022-03-23T15:15:02.187Z"
   },
   {
    "duration": 25,
    "start_time": "2022-03-23T15:15:02.228Z"
   },
   {
    "duration": 31,
    "start_time": "2022-03-23T15:15:02.256Z"
   },
   {
    "duration": 22,
    "start_time": "2022-03-23T15:15:02.289Z"
   },
   {
    "duration": 54,
    "start_time": "2022-03-23T15:15:02.313Z"
   },
   {
    "duration": 20,
    "start_time": "2022-03-23T15:15:02.369Z"
   },
   {
    "duration": 27,
    "start_time": "2022-03-23T15:15:02.392Z"
   },
   {
    "duration": 22,
    "start_time": "2022-03-23T15:15:02.422Z"
   },
   {
    "duration": 33,
    "start_time": "2022-03-23T15:15:02.446Z"
   },
   {
    "duration": 17,
    "start_time": "2022-03-23T15:15:02.481Z"
   },
   {
    "duration": 24,
    "start_time": "2022-03-23T15:15:02.500Z"
   },
   {
    "duration": 38,
    "start_time": "2022-03-23T15:15:02.526Z"
   },
   {
    "duration": 25,
    "start_time": "2022-03-23T15:15:02.566Z"
   },
   {
    "duration": 24,
    "start_time": "2022-03-23T15:15:02.593Z"
   },
   {
    "duration": 40,
    "start_time": "2022-03-23T15:15:02.619Z"
   },
   {
    "duration": 36,
    "start_time": "2022-03-23T15:15:02.662Z"
   },
   {
    "duration": 25,
    "start_time": "2022-03-23T15:15:02.700Z"
   },
   {
    "duration": 39,
    "start_time": "2022-03-23T15:15:02.728Z"
   },
   {
    "duration": 38,
    "start_time": "2022-03-23T15:15:02.770Z"
   },
   {
    "duration": 12,
    "start_time": "2022-03-23T15:15:02.810Z"
   },
   {
    "duration": 71,
    "start_time": "2022-03-23T15:15:02.824Z"
   },
   {
    "duration": 11,
    "start_time": "2022-03-23T15:15:02.897Z"
   },
   {
    "duration": 36,
    "start_time": "2022-03-23T15:15:02.910Z"
   },
   {
    "duration": 24,
    "start_time": "2022-03-23T15:15:02.948Z"
   },
   {
    "duration": 33,
    "start_time": "2022-03-23T15:15:02.974Z"
   },
   {
    "duration": 20,
    "start_time": "2022-03-23T15:15:03.009Z"
   },
   {
    "duration": 48,
    "start_time": "2022-03-23T15:15:03.031Z"
   },
   {
    "duration": 12,
    "start_time": "2022-03-23T15:15:03.082Z"
   },
   {
    "duration": 22,
    "start_time": "2022-03-23T15:15:03.096Z"
   },
   {
    "duration": 20,
    "start_time": "2022-03-23T15:15:03.121Z"
   },
   {
    "duration": 33,
    "start_time": "2022-03-23T15:15:03.143Z"
   },
   {
    "duration": 20,
    "start_time": "2022-03-23T15:15:03.178Z"
   },
   {
    "duration": 51,
    "start_time": "2022-03-23T15:15:03.201Z"
   },
   {
    "duration": 11,
    "start_time": "2022-03-23T15:15:03.254Z"
   },
   {
    "duration": 17,
    "start_time": "2022-03-23T15:15:03.267Z"
   },
   {
    "duration": 28,
    "start_time": "2022-03-23T15:15:03.286Z"
   },
   {
    "duration": 29,
    "start_time": "2022-03-23T15:15:03.316Z"
   },
   {
    "duration": 16,
    "start_time": "2022-03-23T15:15:03.348Z"
   },
   {
    "duration": 29,
    "start_time": "2022-03-23T15:15:03.367Z"
   },
   {
    "duration": 43,
    "start_time": "2022-03-23T15:15:03.399Z"
   },
   {
    "duration": 7,
    "start_time": "2022-03-23T15:15:03.452Z"
   },
   {
    "duration": 24,
    "start_time": "2022-03-23T15:15:03.461Z"
   },
   {
    "duration": 38,
    "start_time": "2022-03-23T15:15:03.488Z"
   },
   {
    "duration": 7,
    "start_time": "2022-03-23T15:15:03.529Z"
   },
   {
    "duration": 33,
    "start_time": "2022-03-23T15:15:03.538Z"
   },
   {
    "duration": 19,
    "start_time": "2022-03-23T15:15:03.573Z"
   },
   {
    "duration": 53,
    "start_time": "2022-03-23T15:15:03.594Z"
   },
   {
    "duration": 186,
    "start_time": "2022-03-23T15:15:03.649Z"
   },
   {
    "duration": 18,
    "start_time": "2022-03-23T15:15:03.838Z"
   },
   {
    "duration": 37,
    "start_time": "2022-03-23T15:15:03.867Z"
   },
   {
    "duration": 23,
    "start_time": "2022-03-23T15:15:03.907Z"
   },
   {
    "duration": 20,
    "start_time": "2022-03-23T15:15:03.933Z"
   },
   {
    "duration": 45,
    "start_time": "2022-03-23T15:15:03.956Z"
   },
   {
    "duration": 45,
    "start_time": "2022-03-23T15:15:04.003Z"
   },
   {
    "duration": 26,
    "start_time": "2022-03-23T15:15:04.050Z"
   },
   {
    "duration": 10,
    "start_time": "2022-03-23T15:15:04.078Z"
   },
   {
    "duration": 24,
    "start_time": "2022-03-23T15:15:04.091Z"
   },
   {
    "duration": 363,
    "start_time": "2022-03-23T15:15:04.118Z"
   },
   {
    "duration": 371,
    "start_time": "2022-03-23T15:15:04.484Z"
   },
   {
    "duration": 315,
    "start_time": "2022-03-23T15:15:04.857Z"
   },
   {
    "duration": 9,
    "start_time": "2022-03-23T15:15:05.174Z"
   },
   {
    "duration": 23,
    "start_time": "2022-03-23T15:15:05.185Z"
   },
   {
    "duration": 25,
    "start_time": "2022-03-23T15:15:05.211Z"
   },
   {
    "duration": 164,
    "start_time": "2022-03-23T15:15:05.238Z"
   },
   {
    "duration": 0,
    "start_time": "2022-03-23T15:15:05.405Z"
   },
   {
    "duration": 1397,
    "start_time": "2022-03-23T15:34:04.006Z"
   },
   {
    "duration": 4,
    "start_time": "2022-03-23T15:34:05.406Z"
   },
   {
    "duration": 481,
    "start_time": "2022-03-23T15:34:05.412Z"
   },
   {
    "duration": 34,
    "start_time": "2022-03-23T15:34:05.896Z"
   },
   {
    "duration": 16,
    "start_time": "2022-03-23T15:34:05.932Z"
   },
   {
    "duration": 5,
    "start_time": "2022-03-23T15:34:05.950Z"
   },
   {
    "duration": 29,
    "start_time": "2022-03-23T15:34:05.968Z"
   },
   {
    "duration": 13,
    "start_time": "2022-03-23T15:34:05.999Z"
   },
   {
    "duration": 6,
    "start_time": "2022-03-23T15:34:06.014Z"
   },
   {
    "duration": 62,
    "start_time": "2022-03-23T15:34:06.024Z"
   },
   {
    "duration": 11,
    "start_time": "2022-03-23T15:34:06.088Z"
   },
   {
    "duration": 6,
    "start_time": "2022-03-23T15:34:06.101Z"
   },
   {
    "duration": 15,
    "start_time": "2022-03-23T15:34:06.110Z"
   },
   {
    "duration": 46,
    "start_time": "2022-03-23T15:34:06.127Z"
   },
   {
    "duration": 7,
    "start_time": "2022-03-23T15:34:06.175Z"
   },
   {
    "duration": 17,
    "start_time": "2022-03-23T15:34:06.185Z"
   },
   {
    "duration": 16,
    "start_time": "2022-03-23T15:34:06.204Z"
   },
   {
    "duration": 46,
    "start_time": "2022-03-23T15:34:06.223Z"
   },
   {
    "duration": 27,
    "start_time": "2022-03-23T15:34:06.271Z"
   },
   {
    "duration": 71,
    "start_time": "2022-03-23T15:34:06.300Z"
   },
   {
    "duration": 6,
    "start_time": "2022-03-23T15:34:06.373Z"
   },
   {
    "duration": 77,
    "start_time": "2022-03-23T15:34:06.382Z"
   },
   {
    "duration": 23,
    "start_time": "2022-03-23T15:34:06.461Z"
   },
   {
    "duration": 46,
    "start_time": "2022-03-23T15:34:06.486Z"
   },
   {
    "duration": 6,
    "start_time": "2022-03-23T15:34:06.535Z"
   },
   {
    "duration": 58,
    "start_time": "2022-03-23T15:34:06.543Z"
   },
   {
    "duration": 20,
    "start_time": "2022-03-23T15:34:06.603Z"
   },
   {
    "duration": 48,
    "start_time": "2022-03-23T15:34:06.629Z"
   },
   {
    "duration": 32,
    "start_time": "2022-03-23T15:34:06.679Z"
   },
   {
    "duration": 32,
    "start_time": "2022-03-23T15:34:06.713Z"
   },
   {
    "duration": 22,
    "start_time": "2022-03-23T15:34:06.747Z"
   },
   {
    "duration": 25,
    "start_time": "2022-03-23T15:34:06.772Z"
   },
   {
    "duration": 18,
    "start_time": "2022-03-23T15:34:06.799Z"
   },
   {
    "duration": 26,
    "start_time": "2022-03-23T15:34:06.819Z"
   },
   {
    "duration": 18,
    "start_time": "2022-03-23T15:34:06.847Z"
   },
   {
    "duration": 26,
    "start_time": "2022-03-23T15:34:06.867Z"
   },
   {
    "duration": 42,
    "start_time": "2022-03-23T15:34:06.895Z"
   },
   {
    "duration": 31,
    "start_time": "2022-03-23T15:34:06.939Z"
   },
   {
    "duration": 42,
    "start_time": "2022-03-23T15:34:06.972Z"
   },
   {
    "duration": 27,
    "start_time": "2022-03-23T15:34:07.016Z"
   },
   {
    "duration": 19,
    "start_time": "2022-03-23T15:34:07.045Z"
   },
   {
    "duration": 32,
    "start_time": "2022-03-23T15:34:07.066Z"
   },
   {
    "duration": 32,
    "start_time": "2022-03-23T15:34:07.100Z"
   },
   {
    "duration": 19,
    "start_time": "2022-03-23T15:34:07.134Z"
   },
   {
    "duration": 32,
    "start_time": "2022-03-23T15:34:07.155Z"
   },
   {
    "duration": 38,
    "start_time": "2022-03-23T15:34:07.189Z"
   },
   {
    "duration": 20,
    "start_time": "2022-03-23T15:34:07.230Z"
   },
   {
    "duration": 76,
    "start_time": "2022-03-23T15:34:07.252Z"
   },
   {
    "duration": 11,
    "start_time": "2022-03-23T15:34:07.330Z"
   },
   {
    "duration": 20,
    "start_time": "2022-03-23T15:34:07.343Z"
   },
   {
    "duration": 14,
    "start_time": "2022-03-23T15:34:07.365Z"
   },
   {
    "duration": 32,
    "start_time": "2022-03-23T15:34:07.382Z"
   },
   {
    "duration": 24,
    "start_time": "2022-03-23T15:34:07.416Z"
   },
   {
    "duration": 40,
    "start_time": "2022-03-23T15:34:07.468Z"
   },
   {
    "duration": 13,
    "start_time": "2022-03-23T15:34:07.511Z"
   },
   {
    "duration": 44,
    "start_time": "2022-03-23T15:34:07.526Z"
   },
   {
    "duration": 24,
    "start_time": "2022-03-23T15:34:07.573Z"
   },
   {
    "duration": 51,
    "start_time": "2022-03-23T15:34:07.599Z"
   },
   {
    "duration": 23,
    "start_time": "2022-03-23T15:34:07.652Z"
   },
   {
    "duration": 59,
    "start_time": "2022-03-23T15:34:07.677Z"
   },
   {
    "duration": 14,
    "start_time": "2022-03-23T15:34:07.738Z"
   },
   {
    "duration": 29,
    "start_time": "2022-03-23T15:34:07.755Z"
   },
   {
    "duration": 18,
    "start_time": "2022-03-23T15:34:07.786Z"
   },
   {
    "duration": 21,
    "start_time": "2022-03-23T15:34:07.806Z"
   },
   {
    "duration": 20,
    "start_time": "2022-03-23T15:34:07.829Z"
   },
   {
    "duration": 22,
    "start_time": "2022-03-23T15:34:07.851Z"
   },
   {
    "duration": 20,
    "start_time": "2022-03-23T15:34:07.875Z"
   },
   {
    "duration": 19,
    "start_time": "2022-03-23T15:34:07.897Z"
   },
   {
    "duration": 21,
    "start_time": "2022-03-23T15:34:07.918Z"
   },
   {
    "duration": 18,
    "start_time": "2022-03-23T15:34:07.941Z"
   },
   {
    "duration": 10,
    "start_time": "2022-03-23T15:34:07.961Z"
   },
   {
    "duration": 31,
    "start_time": "2022-03-23T15:34:07.973Z"
   },
   {
    "duration": 23,
    "start_time": "2022-03-23T15:34:08.006Z"
   },
   {
    "duration": 39,
    "start_time": "2022-03-23T15:34:08.031Z"
   },
   {
    "duration": 174,
    "start_time": "2022-03-23T15:34:08.072Z"
   },
   {
    "duration": 24,
    "start_time": "2022-03-23T15:34:08.248Z"
   },
   {
    "duration": 15,
    "start_time": "2022-03-23T15:34:08.274Z"
   },
   {
    "duration": 26,
    "start_time": "2022-03-23T15:34:08.291Z"
   },
   {
    "duration": 48,
    "start_time": "2022-03-23T15:34:08.319Z"
   },
   {
    "duration": 33,
    "start_time": "2022-03-23T15:34:08.370Z"
   },
   {
    "duration": 80,
    "start_time": "2022-03-23T15:34:08.406Z"
   },
   {
    "duration": 75,
    "start_time": "2022-03-23T15:34:08.494Z"
   },
   {
    "duration": 11,
    "start_time": "2022-03-23T15:34:08.572Z"
   },
   {
    "duration": 13,
    "start_time": "2022-03-23T15:34:08.586Z"
   },
   {
    "duration": 566,
    "start_time": "2022-03-23T15:34:08.601Z"
   },
   {
    "duration": 386,
    "start_time": "2022-03-23T15:34:09.170Z"
   },
   {
    "duration": 311,
    "start_time": "2022-03-23T15:34:09.559Z"
   },
   {
    "duration": 8,
    "start_time": "2022-03-23T15:34:09.872Z"
   },
   {
    "duration": 14,
    "start_time": "2022-03-23T15:34:09.883Z"
   },
   {
    "duration": 13,
    "start_time": "2022-03-23T15:34:09.899Z"
   },
   {
    "duration": 171,
    "start_time": "2022-03-23T15:34:09.914Z"
   },
   {
    "duration": 0,
    "start_time": "2022-03-23T15:34:10.087Z"
   },
   {
    "duration": 18,
    "start_time": "2022-03-23T15:35:28.243Z"
   },
   {
    "duration": 397,
    "start_time": "2022-03-23T15:35:43.973Z"
   },
   {
    "duration": 6,
    "start_time": "2022-03-23T15:36:01.433Z"
   },
   {
    "duration": 35,
    "start_time": "2022-03-23T15:36:02.000Z"
   },
   {
    "duration": 469,
    "start_time": "2022-03-23T15:36:02.752Z"
   },
   {
    "duration": 1377,
    "start_time": "2022-03-23T15:36:13.823Z"
   },
   {
    "duration": 3,
    "start_time": "2022-03-23T15:36:15.203Z"
   },
   {
    "duration": 495,
    "start_time": "2022-03-23T15:36:15.208Z"
   },
   {
    "duration": 34,
    "start_time": "2022-03-23T15:36:15.707Z"
   },
   {
    "duration": 16,
    "start_time": "2022-03-23T15:36:15.744Z"
   },
   {
    "duration": 7,
    "start_time": "2022-03-23T15:36:15.762Z"
   },
   {
    "duration": 29,
    "start_time": "2022-03-23T15:36:15.771Z"
   },
   {
    "duration": 13,
    "start_time": "2022-03-23T15:36:15.802Z"
   },
   {
    "duration": 7,
    "start_time": "2022-03-23T15:36:15.817Z"
   },
   {
    "duration": 26,
    "start_time": "2022-03-23T15:36:15.868Z"
   },
   {
    "duration": 11,
    "start_time": "2022-03-23T15:36:15.897Z"
   },
   {
    "duration": 6,
    "start_time": "2022-03-23T15:36:15.911Z"
   },
   {
    "duration": 49,
    "start_time": "2022-03-23T15:36:15.919Z"
   },
   {
    "duration": 17,
    "start_time": "2022-03-23T15:36:15.970Z"
   },
   {
    "duration": 6,
    "start_time": "2022-03-23T15:36:15.989Z"
   },
   {
    "duration": 21,
    "start_time": "2022-03-23T15:36:15.997Z"
   },
   {
    "duration": 17,
    "start_time": "2022-03-23T15:36:16.020Z"
   },
   {
    "duration": 6,
    "start_time": "2022-03-23T15:36:16.068Z"
   },
   {
    "duration": 29,
    "start_time": "2022-03-23T15:36:16.076Z"
   },
   {
    "duration": 67,
    "start_time": "2022-03-23T15:36:16.107Z"
   },
   {
    "duration": 7,
    "start_time": "2022-03-23T15:36:16.177Z"
   },
   {
    "duration": 36,
    "start_time": "2022-03-23T15:36:16.186Z"
   },
   {
    "duration": 51,
    "start_time": "2022-03-23T15:36:16.224Z"
   },
   {
    "duration": 35,
    "start_time": "2022-03-23T15:36:16.278Z"
   },
   {
    "duration": 7,
    "start_time": "2022-03-23T15:36:16.315Z"
   },
   {
    "duration": 66,
    "start_time": "2022-03-23T15:36:16.325Z"
   },
   {
    "duration": 19,
    "start_time": "2022-03-23T15:36:16.393Z"
   },
   {
    "duration": 55,
    "start_time": "2022-03-23T15:36:16.420Z"
   },
   {
    "duration": 7,
    "start_time": "2022-03-23T15:36:16.477Z"
   },
   {
    "duration": 17,
    "start_time": "2022-03-23T15:36:16.486Z"
   },
   {
    "duration": 8,
    "start_time": "2022-03-23T15:36:16.505Z"
   },
   {
    "duration": 12,
    "start_time": "2022-03-23T15:36:16.515Z"
   },
   {
    "duration": 46,
    "start_time": "2022-03-23T15:36:16.529Z"
   },
   {
    "duration": 12,
    "start_time": "2022-03-23T15:36:16.577Z"
   },
   {
    "duration": 5,
    "start_time": "2022-03-23T15:36:16.591Z"
   },
   {
    "duration": 7,
    "start_time": "2022-03-23T15:36:16.599Z"
   },
   {
    "duration": 5,
    "start_time": "2022-03-23T15:36:16.608Z"
   },
   {
    "duration": 54,
    "start_time": "2022-03-23T15:36:16.615Z"
   },
   {
    "duration": 20,
    "start_time": "2022-03-23T15:36:16.672Z"
   },
   {
    "duration": 11,
    "start_time": "2022-03-23T15:36:16.694Z"
   },
   {
    "duration": 6,
    "start_time": "2022-03-23T15:36:16.708Z"
   },
   {
    "duration": 10,
    "start_time": "2022-03-23T15:36:16.716Z"
   },
   {
    "duration": 10,
    "start_time": "2022-03-23T15:36:16.768Z"
   },
   {
    "duration": 6,
    "start_time": "2022-03-23T15:36:16.781Z"
   },
   {
    "duration": 9,
    "start_time": "2022-03-23T15:36:16.789Z"
   },
   {
    "duration": 32,
    "start_time": "2022-03-23T15:36:16.801Z"
   },
   {
    "duration": 40,
    "start_time": "2022-03-23T15:36:16.835Z"
   },
   {
    "duration": 41,
    "start_time": "2022-03-23T15:36:16.877Z"
   },
   {
    "duration": 12,
    "start_time": "2022-03-23T15:36:16.920Z"
   },
   {
    "duration": 4,
    "start_time": "2022-03-23T15:36:16.934Z"
   },
   {
    "duration": 10,
    "start_time": "2022-03-23T15:36:16.968Z"
   },
   {
    "duration": 25,
    "start_time": "2022-03-23T15:36:16.981Z"
   },
   {
    "duration": 11,
    "start_time": "2022-03-23T15:36:17.009Z"
   },
   {
    "duration": 74,
    "start_time": "2022-03-23T15:36:17.022Z"
   },
   {
    "duration": 12,
    "start_time": "2022-03-23T15:36:17.098Z"
   },
   {
    "duration": 8,
    "start_time": "2022-03-23T15:36:17.112Z"
   },
   {
    "duration": 13,
    "start_time": "2022-03-23T15:36:17.122Z"
   },
   {
    "duration": 45,
    "start_time": "2022-03-23T15:36:17.137Z"
   },
   {
    "duration": 11,
    "start_time": "2022-03-23T15:36:17.184Z"
   },
   {
    "duration": 29,
    "start_time": "2022-03-23T15:36:17.197Z"
   },
   {
    "duration": 39,
    "start_time": "2022-03-23T15:36:17.228Z"
   },
   {
    "duration": 4,
    "start_time": "2022-03-23T15:36:17.269Z"
   },
   {
    "duration": 10,
    "start_time": "2022-03-23T15:36:17.276Z"
   },
   {
    "duration": 11,
    "start_time": "2022-03-23T15:36:17.288Z"
   },
   {
    "duration": 10,
    "start_time": "2022-03-23T15:36:17.301Z"
   },
   {
    "duration": 10,
    "start_time": "2022-03-23T15:36:17.313Z"
   },
   {
    "duration": 48,
    "start_time": "2022-03-23T15:36:17.325Z"
   },
   {
    "duration": 5,
    "start_time": "2022-03-23T15:36:17.376Z"
   },
   {
    "duration": 8,
    "start_time": "2022-03-23T15:36:17.383Z"
   },
   {
    "duration": 8,
    "start_time": "2022-03-23T15:36:17.393Z"
   },
   {
    "duration": 5,
    "start_time": "2022-03-23T15:36:17.403Z"
   },
   {
    "duration": 67,
    "start_time": "2022-03-23T15:36:17.410Z"
   },
   {
    "duration": 17,
    "start_time": "2022-03-23T15:36:17.479Z"
   },
   {
    "duration": 35,
    "start_time": "2022-03-23T15:36:17.498Z"
   },
   {
    "duration": 187,
    "start_time": "2022-03-23T15:36:17.535Z"
   },
   {
    "duration": 19,
    "start_time": "2022-03-23T15:36:17.724Z"
   },
   {
    "duration": 25,
    "start_time": "2022-03-23T15:36:17.745Z"
   },
   {
    "duration": 39,
    "start_time": "2022-03-23T15:36:17.772Z"
   },
   {
    "duration": 8,
    "start_time": "2022-03-23T15:36:17.813Z"
   },
   {
    "duration": 34,
    "start_time": "2022-03-23T15:36:17.823Z"
   },
   {
    "duration": 38,
    "start_time": "2022-03-23T15:36:17.860Z"
   },
   {
    "duration": 25,
    "start_time": "2022-03-23T15:36:17.908Z"
   },
   {
    "duration": 11,
    "start_time": "2022-03-23T15:36:17.935Z"
   },
   {
    "duration": 24,
    "start_time": "2022-03-23T15:36:17.948Z"
   },
   {
    "duration": 337,
    "start_time": "2022-03-23T15:36:17.974Z"
   },
   {
    "duration": 298,
    "start_time": "2022-03-23T15:36:18.313Z"
   },
   {
    "duration": 302,
    "start_time": "2022-03-23T15:36:18.613Z"
   },
   {
    "duration": 7,
    "start_time": "2022-03-23T15:36:18.918Z"
   },
   {
    "duration": 1393,
    "start_time": "2022-03-23T15:36:40.700Z"
   },
   {
    "duration": 4,
    "start_time": "2022-03-23T15:36:42.096Z"
   },
   {
    "duration": 501,
    "start_time": "2022-03-23T15:36:42.102Z"
   },
   {
    "duration": 34,
    "start_time": "2022-03-23T15:36:42.606Z"
   },
   {
    "duration": 18,
    "start_time": "2022-03-23T15:36:42.642Z"
   },
   {
    "duration": 7,
    "start_time": "2022-03-23T15:36:42.662Z"
   },
   {
    "duration": 31,
    "start_time": "2022-03-23T15:36:42.671Z"
   },
   {
    "duration": 12,
    "start_time": "2022-03-23T15:36:42.705Z"
   },
   {
    "duration": 8,
    "start_time": "2022-03-23T15:36:42.719Z"
   },
   {
    "duration": 25,
    "start_time": "2022-03-23T15:36:42.767Z"
   },
   {
    "duration": 11,
    "start_time": "2022-03-23T15:36:42.795Z"
   },
   {
    "duration": 6,
    "start_time": "2022-03-23T15:36:42.809Z"
   },
   {
    "duration": 51,
    "start_time": "2022-03-23T15:36:42.817Z"
   },
   {
    "duration": 12,
    "start_time": "2022-03-23T15:36:42.870Z"
   },
   {
    "duration": 6,
    "start_time": "2022-03-23T15:36:42.884Z"
   },
   {
    "duration": 19,
    "start_time": "2022-03-23T15:36:42.892Z"
   },
   {
    "duration": 15,
    "start_time": "2022-03-23T15:36:42.914Z"
   },
   {
    "duration": 6,
    "start_time": "2022-03-23T15:36:42.968Z"
   },
   {
    "duration": 27,
    "start_time": "2022-03-23T15:36:42.977Z"
   },
   {
    "duration": 82,
    "start_time": "2022-03-23T15:36:43.006Z"
   },
   {
    "duration": 6,
    "start_time": "2022-03-23T15:36:43.090Z"
   },
   {
    "duration": 37,
    "start_time": "2022-03-23T15:36:43.098Z"
   },
   {
    "duration": 39,
    "start_time": "2022-03-23T15:36:43.137Z"
   },
   {
    "duration": 34,
    "start_time": "2022-03-23T15:36:43.178Z"
   },
   {
    "duration": 7,
    "start_time": "2022-03-23T15:36:43.214Z"
   },
   {
    "duration": 72,
    "start_time": "2022-03-23T15:36:43.223Z"
   },
   {
    "duration": 19,
    "start_time": "2022-03-23T15:36:43.297Z"
   },
   {
    "duration": 52,
    "start_time": "2022-03-23T15:36:43.324Z"
   },
   {
    "duration": 8,
    "start_time": "2022-03-23T15:36:43.378Z"
   },
   {
    "duration": 19,
    "start_time": "2022-03-23T15:36:43.389Z"
   },
   {
    "duration": 8,
    "start_time": "2022-03-23T15:36:43.411Z"
   },
   {
    "duration": 53,
    "start_time": "2022-03-23T15:36:43.422Z"
   },
   {
    "duration": 11,
    "start_time": "2022-03-23T15:36:43.478Z"
   },
   {
    "duration": 13,
    "start_time": "2022-03-23T15:36:43.491Z"
   },
   {
    "duration": 5,
    "start_time": "2022-03-23T15:36:43.507Z"
   },
   {
    "duration": 17,
    "start_time": "2022-03-23T15:36:43.514Z"
   },
   {
    "duration": 38,
    "start_time": "2022-03-23T15:36:43.533Z"
   },
   {
    "duration": 9,
    "start_time": "2022-03-23T15:36:43.574Z"
   },
   {
    "duration": 17,
    "start_time": "2022-03-23T15:36:43.586Z"
   },
   {
    "duration": 9,
    "start_time": "2022-03-23T15:36:43.606Z"
   },
   {
    "duration": 6,
    "start_time": "2022-03-23T15:36:43.618Z"
   },
   {
    "duration": 51,
    "start_time": "2022-03-23T15:36:43.626Z"
   },
   {
    "duration": 20,
    "start_time": "2022-03-23T15:36:43.679Z"
   },
   {
    "duration": 12,
    "start_time": "2022-03-23T15:36:43.701Z"
   },
   {
    "duration": 18,
    "start_time": "2022-03-23T15:36:43.715Z"
   },
   {
    "duration": 56,
    "start_time": "2022-03-23T15:36:43.735Z"
   },
   {
    "duration": 11,
    "start_time": "2022-03-23T15:36:43.793Z"
   },
   {
    "duration": 61,
    "start_time": "2022-03-23T15:36:43.806Z"
   },
   {
    "duration": 12,
    "start_time": "2022-03-23T15:36:43.869Z"
   },
   {
    "duration": 4,
    "start_time": "2022-03-23T15:36:43.883Z"
   },
   {
    "duration": 11,
    "start_time": "2022-03-23T15:36:43.889Z"
   },
   {
    "duration": 26,
    "start_time": "2022-03-23T15:36:43.902Z"
   },
   {
    "duration": 45,
    "start_time": "2022-03-23T15:36:43.930Z"
   },
   {
    "duration": 40,
    "start_time": "2022-03-23T15:36:43.977Z"
   },
   {
    "duration": 12,
    "start_time": "2022-03-23T15:36:44.019Z"
   },
   {
    "duration": 34,
    "start_time": "2022-03-23T15:36:44.034Z"
   },
   {
    "duration": 13,
    "start_time": "2022-03-23T15:36:44.070Z"
   },
   {
    "duration": 22,
    "start_time": "2022-03-23T15:36:44.086Z"
   },
   {
    "duration": 11,
    "start_time": "2022-03-23T15:36:44.110Z"
   },
   {
    "duration": 64,
    "start_time": "2022-03-23T15:36:44.123Z"
   },
   {
    "duration": 13,
    "start_time": "2022-03-23T15:36:44.189Z"
   },
   {
    "duration": 5,
    "start_time": "2022-03-23T15:36:44.204Z"
   },
   {
    "duration": 15,
    "start_time": "2022-03-23T15:36:44.211Z"
   },
   {
    "duration": 41,
    "start_time": "2022-03-23T15:36:44.228Z"
   },
   {
    "duration": 10,
    "start_time": "2022-03-23T15:36:44.271Z"
   },
   {
    "duration": 12,
    "start_time": "2022-03-23T15:36:44.283Z"
   },
   {
    "duration": 8,
    "start_time": "2022-03-23T15:36:44.297Z"
   },
   {
    "duration": 4,
    "start_time": "2022-03-23T15:36:44.308Z"
   },
   {
    "duration": 8,
    "start_time": "2022-03-23T15:36:44.314Z"
   },
   {
    "duration": 50,
    "start_time": "2022-03-23T15:36:44.324Z"
   },
   {
    "duration": 5,
    "start_time": "2022-03-23T15:36:44.377Z"
   },
   {
    "duration": 26,
    "start_time": "2022-03-23T15:36:44.385Z"
   },
   {
    "duration": 18,
    "start_time": "2022-03-23T15:36:44.414Z"
   },
   {
    "duration": 59,
    "start_time": "2022-03-23T15:36:44.434Z"
   },
   {
    "duration": 216,
    "start_time": "2022-03-23T15:36:44.496Z"
   },
   {
    "duration": 21,
    "start_time": "2022-03-23T15:36:44.714Z"
   },
   {
    "duration": 6,
    "start_time": "2022-03-23T15:36:44.738Z"
   },
   {
    "duration": 26,
    "start_time": "2022-03-23T15:36:44.768Z"
   },
   {
    "duration": 10,
    "start_time": "2022-03-23T15:36:44.797Z"
   },
   {
    "duration": 18,
    "start_time": "2022-03-23T15:36:44.810Z"
   },
   {
    "duration": 53,
    "start_time": "2022-03-23T15:36:44.831Z"
   },
   {
    "duration": 31,
    "start_time": "2022-03-23T15:36:44.897Z"
   },
   {
    "duration": 40,
    "start_time": "2022-03-23T15:36:44.931Z"
   },
   {
    "duration": 12,
    "start_time": "2022-03-23T15:36:44.973Z"
   },
   {
    "duration": 358,
    "start_time": "2022-03-23T15:36:44.987Z"
   },
   {
    "duration": 311,
    "start_time": "2022-03-23T15:36:45.347Z"
   },
   {
    "duration": 311,
    "start_time": "2022-03-23T15:36:45.660Z"
   },
   {
    "duration": 8,
    "start_time": "2022-03-23T15:36:45.974Z"
   },
   {
    "duration": 11,
    "start_time": "2022-03-23T15:51:47.281Z"
   },
   {
    "duration": 13,
    "start_time": "2022-03-23T15:55:35.732Z"
   },
   {
    "duration": 27,
    "start_time": "2022-03-23T15:55:40.468Z"
   },
   {
    "duration": 1474,
    "start_time": "2022-03-23T15:55:56.838Z"
   },
   {
    "duration": 4,
    "start_time": "2022-03-23T15:55:58.315Z"
   },
   {
    "duration": 510,
    "start_time": "2022-03-23T15:55:58.322Z"
   },
   {
    "duration": 37,
    "start_time": "2022-03-23T15:55:58.836Z"
   },
   {
    "duration": 16,
    "start_time": "2022-03-23T15:55:58.876Z"
   },
   {
    "duration": 6,
    "start_time": "2022-03-23T15:55:58.894Z"
   },
   {
    "duration": 29,
    "start_time": "2022-03-23T15:55:58.902Z"
   },
   {
    "duration": 45,
    "start_time": "2022-03-23T15:55:58.933Z"
   },
   {
    "duration": 6,
    "start_time": "2022-03-23T15:55:58.981Z"
   },
   {
    "duration": 25,
    "start_time": "2022-03-23T15:55:58.990Z"
   },
   {
    "duration": 10,
    "start_time": "2022-03-23T15:55:59.017Z"
   },
   {
    "duration": 41,
    "start_time": "2022-03-23T15:55:59.029Z"
   },
   {
    "duration": 15,
    "start_time": "2022-03-23T15:55:59.072Z"
   },
   {
    "duration": 13,
    "start_time": "2022-03-23T15:55:59.089Z"
   },
   {
    "duration": 6,
    "start_time": "2022-03-23T15:55:59.105Z"
   },
   {
    "duration": 57,
    "start_time": "2022-03-23T15:55:59.113Z"
   },
   {
    "duration": 28,
    "start_time": "2022-03-23T15:55:59.172Z"
   },
   {
    "duration": 12,
    "start_time": "2022-03-23T15:55:59.204Z"
   },
   {
    "duration": 29,
    "start_time": "2022-03-23T15:55:59.218Z"
   },
   {
    "duration": 52,
    "start_time": "2022-03-23T15:55:59.267Z"
   },
   {
    "duration": 7,
    "start_time": "2022-03-23T15:55:59.322Z"
   },
   {
    "duration": 61,
    "start_time": "2022-03-23T15:55:59.331Z"
   },
   {
    "duration": 22,
    "start_time": "2022-03-23T15:55:59.394Z"
   },
   {
    "duration": 60,
    "start_time": "2022-03-23T15:55:59.419Z"
   },
   {
    "duration": 7,
    "start_time": "2022-03-23T15:55:59.481Z"
   },
   {
    "duration": 38,
    "start_time": "2022-03-23T15:55:59.491Z"
   },
   {
    "duration": 40,
    "start_time": "2022-03-23T15:55:59.532Z"
   },
   {
    "duration": 28,
    "start_time": "2022-03-23T15:55:59.579Z"
   },
   {
    "duration": 7,
    "start_time": "2022-03-23T15:55:59.610Z"
   },
   {
    "duration": 52,
    "start_time": "2022-03-23T15:55:59.619Z"
   },
   {
    "duration": 10,
    "start_time": "2022-03-23T15:55:59.673Z"
   },
   {
    "duration": 16,
    "start_time": "2022-03-23T15:55:59.685Z"
   },
   {
    "duration": 13,
    "start_time": "2022-03-23T15:55:59.703Z"
   },
   {
    "duration": 50,
    "start_time": "2022-03-23T15:55:59.718Z"
   },
   {
    "duration": 6,
    "start_time": "2022-03-23T15:55:59.771Z"
   },
   {
    "duration": 13,
    "start_time": "2022-03-23T15:55:59.779Z"
   },
   {
    "duration": 14,
    "start_time": "2022-03-23T15:55:59.794Z"
   },
   {
    "duration": 14,
    "start_time": "2022-03-23T15:55:59.815Z"
   },
   {
    "duration": 40,
    "start_time": "2022-03-23T15:55:59.832Z"
   },
   {
    "duration": 10,
    "start_time": "2022-03-23T15:55:59.875Z"
   },
   {
    "duration": 12,
    "start_time": "2022-03-23T15:55:59.887Z"
   },
   {
    "duration": 12,
    "start_time": "2022-03-23T15:55:59.901Z"
   },
   {
    "duration": 14,
    "start_time": "2022-03-23T15:55:59.915Z"
   },
   {
    "duration": 39,
    "start_time": "2022-03-23T15:55:59.931Z"
   },
   {
    "duration": 17,
    "start_time": "2022-03-23T15:55:59.972Z"
   },
   {
    "duration": 35,
    "start_time": "2022-03-23T15:55:59.991Z"
   },
   {
    "duration": 11,
    "start_time": "2022-03-23T15:56:00.029Z"
   },
   {
    "duration": 67,
    "start_time": "2022-03-23T15:56:00.042Z"
   },
   {
    "duration": 11,
    "start_time": "2022-03-23T15:56:00.111Z"
   },
   {
    "duration": 7,
    "start_time": "2022-03-23T15:56:00.124Z"
   },
   {
    "duration": 11,
    "start_time": "2022-03-23T15:56:00.133Z"
   },
   {
    "duration": 25,
    "start_time": "2022-03-23T15:56:00.166Z"
   },
   {
    "duration": 14,
    "start_time": "2022-03-23T15:56:00.193Z"
   },
   {
    "duration": 65,
    "start_time": "2022-03-23T15:56:00.209Z"
   },
   {
    "duration": 12,
    "start_time": "2022-03-23T15:56:00.276Z"
   },
   {
    "duration": 8,
    "start_time": "2022-03-23T15:56:00.290Z"
   },
   {
    "duration": 12,
    "start_time": "2022-03-23T15:56:00.300Z"
   },
   {
    "duration": 52,
    "start_time": "2022-03-23T15:56:00.315Z"
   },
   {
    "duration": 13,
    "start_time": "2022-03-23T15:56:00.370Z"
   },
   {
    "duration": 32,
    "start_time": "2022-03-23T15:56:00.386Z"
   },
   {
    "duration": 14,
    "start_time": "2022-03-23T15:56:00.420Z"
   },
   {
    "duration": 4,
    "start_time": "2022-03-23T15:56:00.469Z"
   },
   {
    "duration": 26,
    "start_time": "2022-03-23T15:56:00.475Z"
   },
   {
    "duration": 21,
    "start_time": "2022-03-23T15:56:00.504Z"
   },
   {
    "duration": 25,
    "start_time": "2022-03-23T15:56:00.528Z"
   },
   {
    "duration": 12,
    "start_time": "2022-03-23T15:56:00.555Z"
   },
   {
    "duration": 16,
    "start_time": "2022-03-23T15:56:00.570Z"
   },
   {
    "duration": 17,
    "start_time": "2022-03-23T15:56:00.589Z"
   },
   {
    "duration": 12,
    "start_time": "2022-03-23T15:56:00.608Z"
   },
   {
    "duration": 13,
    "start_time": "2022-03-23T15:56:00.622Z"
   },
   {
    "duration": 39,
    "start_time": "2022-03-23T15:56:00.637Z"
   },
   {
    "duration": 18,
    "start_time": "2022-03-23T15:56:00.678Z"
   },
   {
    "duration": 7,
    "start_time": "2022-03-23T15:56:00.699Z"
   },
   {
    "duration": 32,
    "start_time": "2022-03-23T15:56:00.708Z"
   },
   {
    "duration": 577,
    "start_time": "2022-03-23T15:56:00.742Z"
   },
   {
    "duration": 0,
    "start_time": "2022-03-23T15:56:01.322Z"
   },
   {
    "duration": 0,
    "start_time": "2022-03-23T15:56:01.323Z"
   },
   {
    "duration": 0,
    "start_time": "2022-03-23T15:56:01.325Z"
   },
   {
    "duration": 0,
    "start_time": "2022-03-23T15:56:01.327Z"
   },
   {
    "duration": 0,
    "start_time": "2022-03-23T15:56:01.329Z"
   },
   {
    "duration": 0,
    "start_time": "2022-03-23T15:56:01.330Z"
   },
   {
    "duration": 0,
    "start_time": "2022-03-23T15:56:01.332Z"
   },
   {
    "duration": 0,
    "start_time": "2022-03-23T15:56:01.334Z"
   },
   {
    "duration": 0,
    "start_time": "2022-03-23T15:56:01.336Z"
   },
   {
    "duration": 0,
    "start_time": "2022-03-23T15:56:01.337Z"
   },
   {
    "duration": 0,
    "start_time": "2022-03-23T15:56:01.339Z"
   },
   {
    "duration": 0,
    "start_time": "2022-03-23T15:56:01.341Z"
   },
   {
    "duration": 0,
    "start_time": "2022-03-23T15:56:01.342Z"
   },
   {
    "duration": 0,
    "start_time": "2022-03-23T15:56:01.344Z"
   },
   {
    "duration": 0,
    "start_time": "2022-03-23T15:56:01.346Z"
   },
   {
    "duration": 1453,
    "start_time": "2022-03-23T15:57:08.758Z"
   },
   {
    "duration": 4,
    "start_time": "2022-03-23T15:57:10.213Z"
   },
   {
    "duration": 476,
    "start_time": "2022-03-23T15:57:10.219Z"
   },
   {
    "duration": 43,
    "start_time": "2022-03-23T15:57:10.698Z"
   },
   {
    "duration": 16,
    "start_time": "2022-03-23T15:57:10.743Z"
   },
   {
    "duration": 7,
    "start_time": "2022-03-23T15:57:10.761Z"
   },
   {
    "duration": 33,
    "start_time": "2022-03-23T15:57:10.771Z"
   },
   {
    "duration": 12,
    "start_time": "2022-03-23T15:57:10.806Z"
   },
   {
    "duration": 6,
    "start_time": "2022-03-23T15:57:10.820Z"
   },
   {
    "duration": 31,
    "start_time": "2022-03-23T15:57:10.868Z"
   },
   {
    "duration": 11,
    "start_time": "2022-03-23T15:57:10.901Z"
   },
   {
    "duration": 6,
    "start_time": "2022-03-23T15:57:10.914Z"
   },
   {
    "duration": 50,
    "start_time": "2022-03-23T15:57:10.922Z"
   },
   {
    "duration": 13,
    "start_time": "2022-03-23T15:57:10.974Z"
   },
   {
    "duration": 7,
    "start_time": "2022-03-23T15:57:10.989Z"
   },
   {
    "duration": 18,
    "start_time": "2022-03-23T15:57:10.998Z"
   },
   {
    "duration": 50,
    "start_time": "2022-03-23T15:57:11.019Z"
   },
   {
    "duration": 6,
    "start_time": "2022-03-23T15:57:11.071Z"
   },
   {
    "duration": 35,
    "start_time": "2022-03-23T15:57:11.079Z"
   },
   {
    "duration": 73,
    "start_time": "2022-03-23T15:57:11.116Z"
   },
   {
    "duration": 8,
    "start_time": "2022-03-23T15:57:11.191Z"
   },
   {
    "duration": 36,
    "start_time": "2022-03-23T15:57:11.201Z"
   },
   {
    "duration": 54,
    "start_time": "2022-03-23T15:57:11.239Z"
   },
   {
    "duration": 32,
    "start_time": "2022-03-23T15:57:11.295Z"
   },
   {
    "duration": 7,
    "start_time": "2022-03-23T15:57:11.329Z"
   },
   {
    "duration": 36,
    "start_time": "2022-03-23T15:57:11.368Z"
   },
   {
    "duration": 25,
    "start_time": "2022-03-23T15:57:11.406Z"
   },
   {
    "duration": 50,
    "start_time": "2022-03-23T15:57:11.438Z"
   },
   {
    "duration": 7,
    "start_time": "2022-03-23T15:57:11.491Z"
   },
   {
    "duration": 18,
    "start_time": "2022-03-23T15:57:11.500Z"
   },
   {
    "duration": 8,
    "start_time": "2022-03-23T15:57:11.521Z"
   },
   {
    "duration": 11,
    "start_time": "2022-03-23T15:57:11.567Z"
   },
   {
    "duration": 10,
    "start_time": "2022-03-23T15:57:11.580Z"
   },
   {
    "duration": 12,
    "start_time": "2022-03-23T15:57:11.592Z"
   },
   {
    "duration": 6,
    "start_time": "2022-03-23T15:57:11.605Z"
   },
   {
    "duration": 15,
    "start_time": "2022-03-23T15:57:11.613Z"
   },
   {
    "duration": 39,
    "start_time": "2022-03-23T15:57:11.630Z"
   },
   {
    "duration": 10,
    "start_time": "2022-03-23T15:57:11.671Z"
   },
   {
    "duration": 18,
    "start_time": "2022-03-23T15:57:11.683Z"
   },
   {
    "duration": 9,
    "start_time": "2022-03-23T15:57:11.704Z"
   },
   {
    "duration": 9,
    "start_time": "2022-03-23T15:57:11.716Z"
   },
   {
    "duration": 45,
    "start_time": "2022-03-23T15:57:11.727Z"
   },
   {
    "duration": 11,
    "start_time": "2022-03-23T15:57:11.774Z"
   },
   {
    "duration": 8,
    "start_time": "2022-03-23T15:57:11.788Z"
   },
   {
    "duration": 10,
    "start_time": "2022-03-23T15:57:11.798Z"
   },
   {
    "duration": 68,
    "start_time": "2022-03-23T15:57:11.810Z"
   },
   {
    "duration": 13,
    "start_time": "2022-03-23T15:57:11.880Z"
   },
   {
    "duration": 41,
    "start_time": "2022-03-23T15:57:11.895Z"
   },
   {
    "duration": 36,
    "start_time": "2022-03-23T15:57:11.939Z"
   },
   {
    "duration": 3,
    "start_time": "2022-03-23T15:57:11.979Z"
   },
   {
    "duration": 10,
    "start_time": "2022-03-23T15:57:11.984Z"
   },
   {
    "duration": 22,
    "start_time": "2022-03-23T15:57:11.997Z"
   },
   {
    "duration": 48,
    "start_time": "2022-03-23T15:57:12.021Z"
   },
   {
    "duration": 37,
    "start_time": "2022-03-23T15:57:12.071Z"
   },
   {
    "duration": 11,
    "start_time": "2022-03-23T15:57:12.110Z"
   },
   {
    "duration": 4,
    "start_time": "2022-03-23T15:57:12.123Z"
   },
   {
    "duration": 44,
    "start_time": "2022-03-23T15:57:12.129Z"
   },
   {
    "duration": 20,
    "start_time": "2022-03-23T15:57:12.175Z"
   },
   {
    "duration": 11,
    "start_time": "2022-03-23T15:57:12.197Z"
   },
   {
    "duration": 57,
    "start_time": "2022-03-23T15:57:12.211Z"
   },
   {
    "duration": 15,
    "start_time": "2022-03-23T15:57:12.271Z"
   },
   {
    "duration": 8,
    "start_time": "2022-03-23T15:57:12.289Z"
   },
   {
    "duration": 26,
    "start_time": "2022-03-23T15:57:12.299Z"
   },
   {
    "duration": 17,
    "start_time": "2022-03-23T15:57:12.327Z"
   },
   {
    "duration": 28,
    "start_time": "2022-03-23T15:57:12.347Z"
   },
   {
    "duration": 6,
    "start_time": "2022-03-23T15:57:12.377Z"
   },
   {
    "duration": 14,
    "start_time": "2022-03-23T15:57:12.385Z"
   },
   {
    "duration": 12,
    "start_time": "2022-03-23T15:57:12.401Z"
   },
   {
    "duration": 9,
    "start_time": "2022-03-23T15:57:12.416Z"
   },
   {
    "duration": 40,
    "start_time": "2022-03-23T15:57:12.427Z"
   },
   {
    "duration": 9,
    "start_time": "2022-03-23T15:57:12.469Z"
   },
   {
    "duration": 11,
    "start_time": "2022-03-23T15:57:12.480Z"
   },
   {
    "duration": 580,
    "start_time": "2022-03-23T15:57:12.493Z"
   },
   {
    "duration": 0,
    "start_time": "2022-03-23T15:57:13.076Z"
   },
   {
    "duration": 1,
    "start_time": "2022-03-23T15:57:13.078Z"
   },
   {
    "duration": 0,
    "start_time": "2022-03-23T15:57:13.080Z"
   },
   {
    "duration": 0,
    "start_time": "2022-03-23T15:57:13.082Z"
   },
   {
    "duration": 1,
    "start_time": "2022-03-23T15:57:13.083Z"
   },
   {
    "duration": 0,
    "start_time": "2022-03-23T15:57:13.085Z"
   },
   {
    "duration": 0,
    "start_time": "2022-03-23T15:57:13.086Z"
   },
   {
    "duration": 0,
    "start_time": "2022-03-23T15:57:13.088Z"
   },
   {
    "duration": 0,
    "start_time": "2022-03-23T15:57:13.089Z"
   },
   {
    "duration": 0,
    "start_time": "2022-03-23T15:57:13.091Z"
   },
   {
    "duration": 0,
    "start_time": "2022-03-23T15:57:13.093Z"
   },
   {
    "duration": 0,
    "start_time": "2022-03-23T15:57:13.094Z"
   },
   {
    "duration": 0,
    "start_time": "2022-03-23T15:57:13.096Z"
   },
   {
    "duration": 0,
    "start_time": "2022-03-23T15:57:13.099Z"
   },
   {
    "duration": 0,
    "start_time": "2022-03-23T15:57:13.100Z"
   },
   {
    "duration": 5,
    "start_time": "2022-03-23T15:57:40.769Z"
   },
   {
    "duration": 9,
    "start_time": "2022-03-23T15:57:41.289Z"
   },
   {
    "duration": 15,
    "start_time": "2022-03-23T15:57:41.857Z"
   },
   {
    "duration": 1471,
    "start_time": "2022-03-23T16:02:29.450Z"
   },
   {
    "duration": 4,
    "start_time": "2022-03-23T16:02:30.924Z"
   },
   {
    "duration": 510,
    "start_time": "2022-03-23T16:02:30.930Z"
   },
   {
    "duration": 34,
    "start_time": "2022-03-23T16:02:31.443Z"
   },
   {
    "duration": 17,
    "start_time": "2022-03-23T16:02:31.479Z"
   },
   {
    "duration": 5,
    "start_time": "2022-03-23T16:02:31.498Z"
   },
   {
    "duration": 38,
    "start_time": "2022-03-23T16:02:31.505Z"
   },
   {
    "duration": 34,
    "start_time": "2022-03-23T16:02:31.545Z"
   },
   {
    "duration": 7,
    "start_time": "2022-03-23T16:02:31.582Z"
   },
   {
    "duration": 30,
    "start_time": "2022-03-23T16:02:31.593Z"
   },
   {
    "duration": 42,
    "start_time": "2022-03-23T16:02:31.625Z"
   },
   {
    "duration": 5,
    "start_time": "2022-03-23T16:02:31.670Z"
   },
   {
    "duration": 19,
    "start_time": "2022-03-23T16:02:31.678Z"
   },
   {
    "duration": 16,
    "start_time": "2022-03-23T16:02:31.699Z"
   },
   {
    "duration": 10,
    "start_time": "2022-03-23T16:02:31.717Z"
   },
   {
    "duration": 51,
    "start_time": "2022-03-23T16:02:31.729Z"
   },
   {
    "duration": 23,
    "start_time": "2022-03-23T16:02:31.782Z"
   },
   {
    "duration": 19,
    "start_time": "2022-03-23T16:02:31.807Z"
   },
   {
    "duration": 44,
    "start_time": "2022-03-23T16:02:31.828Z"
   },
   {
    "duration": 50,
    "start_time": "2022-03-23T16:02:31.875Z"
   },
   {
    "duration": 8,
    "start_time": "2022-03-23T16:02:31.928Z"
   },
   {
    "duration": 64,
    "start_time": "2022-03-23T16:02:31.938Z"
   },
   {
    "duration": 22,
    "start_time": "2022-03-23T16:02:32.004Z"
   },
   {
    "duration": 60,
    "start_time": "2022-03-23T16:02:32.028Z"
   },
   {
    "duration": 7,
    "start_time": "2022-03-23T16:02:32.090Z"
   },
   {
    "duration": 43,
    "start_time": "2022-03-23T16:02:32.099Z"
   },
   {
    "duration": 42,
    "start_time": "2022-03-23T16:02:32.144Z"
   },
   {
    "duration": 27,
    "start_time": "2022-03-23T16:02:32.193Z"
   },
   {
    "duration": 8,
    "start_time": "2022-03-23T16:02:32.223Z"
   },
   {
    "duration": 48,
    "start_time": "2022-03-23T16:02:32.233Z"
   },
   {
    "duration": 8,
    "start_time": "2022-03-23T16:02:32.283Z"
   },
   {
    "duration": 11,
    "start_time": "2022-03-23T16:02:32.294Z"
   },
   {
    "duration": 8,
    "start_time": "2022-03-23T16:02:32.308Z"
   },
   {
    "duration": 53,
    "start_time": "2022-03-23T16:02:32.318Z"
   },
   {
    "duration": 5,
    "start_time": "2022-03-23T16:02:32.373Z"
   },
   {
    "duration": 8,
    "start_time": "2022-03-23T16:02:32.381Z"
   },
   {
    "duration": 7,
    "start_time": "2022-03-23T16:02:32.391Z"
   },
   {
    "duration": 12,
    "start_time": "2022-03-23T16:02:32.400Z"
   },
   {
    "duration": 58,
    "start_time": "2022-03-23T16:02:32.414Z"
   },
   {
    "duration": 10,
    "start_time": "2022-03-23T16:02:32.474Z"
   },
   {
    "duration": 8,
    "start_time": "2022-03-23T16:02:32.486Z"
   },
   {
    "duration": 10,
    "start_time": "2022-03-23T16:02:32.496Z"
   },
   {
    "duration": 14,
    "start_time": "2022-03-23T16:02:32.508Z"
   },
   {
    "duration": 46,
    "start_time": "2022-03-23T16:02:32.524Z"
   },
   {
    "duration": 10,
    "start_time": "2022-03-23T16:02:32.572Z"
   },
   {
    "duration": 36,
    "start_time": "2022-03-23T16:02:32.585Z"
   },
   {
    "duration": 12,
    "start_time": "2022-03-23T16:02:32.623Z"
   },
   {
    "duration": 69,
    "start_time": "2022-03-23T16:02:32.638Z"
   },
   {
    "duration": 12,
    "start_time": "2022-03-23T16:02:32.709Z"
   },
   {
    "duration": 6,
    "start_time": "2022-03-23T16:02:32.723Z"
   },
   {
    "duration": 38,
    "start_time": "2022-03-23T16:02:32.731Z"
   },
   {
    "duration": 24,
    "start_time": "2022-03-23T16:02:32.771Z"
   },
   {
    "duration": 12,
    "start_time": "2022-03-23T16:02:32.797Z"
   },
   {
    "duration": 67,
    "start_time": "2022-03-23T16:02:32.811Z"
   },
   {
    "duration": 15,
    "start_time": "2022-03-23T16:02:32.880Z"
   },
   {
    "duration": 5,
    "start_time": "2022-03-23T16:02:32.897Z"
   },
   {
    "duration": 16,
    "start_time": "2022-03-23T16:02:32.904Z"
   },
   {
    "duration": 46,
    "start_time": "2022-03-23T16:02:32.922Z"
   },
   {
    "duration": 11,
    "start_time": "2022-03-23T16:02:32.971Z"
   },
   {
    "duration": 33,
    "start_time": "2022-03-23T16:02:32.984Z"
   },
   {
    "duration": 11,
    "start_time": "2022-03-23T16:02:33.020Z"
   },
   {
    "duration": 35,
    "start_time": "2022-03-23T16:02:33.033Z"
   },
   {
    "duration": 14,
    "start_time": "2022-03-23T16:02:33.070Z"
   },
   {
    "duration": 14,
    "start_time": "2022-03-23T16:02:33.086Z"
   },
   {
    "duration": 10,
    "start_time": "2022-03-23T16:02:33.102Z"
   },
   {
    "duration": 5,
    "start_time": "2022-03-23T16:02:33.115Z"
   },
   {
    "duration": 47,
    "start_time": "2022-03-23T16:02:33.122Z"
   },
   {
    "duration": 13,
    "start_time": "2022-03-23T16:02:33.171Z"
   },
   {
    "duration": 11,
    "start_time": "2022-03-23T16:02:33.187Z"
   },
   {
    "duration": 6,
    "start_time": "2022-03-23T16:02:33.200Z"
   },
   {
    "duration": 11,
    "start_time": "2022-03-23T16:02:33.208Z"
   },
   {
    "duration": 48,
    "start_time": "2022-03-23T16:02:33.221Z"
   },
   {
    "duration": 500,
    "start_time": "2022-03-23T16:02:33.271Z"
   },
   {
    "duration": 0,
    "start_time": "2022-03-23T16:02:33.774Z"
   },
   {
    "duration": 0,
    "start_time": "2022-03-23T16:02:33.776Z"
   },
   {
    "duration": 0,
    "start_time": "2022-03-23T16:02:33.777Z"
   },
   {
    "duration": 0,
    "start_time": "2022-03-23T16:02:33.779Z"
   },
   {
    "duration": 0,
    "start_time": "2022-03-23T16:02:33.781Z"
   },
   {
    "duration": 0,
    "start_time": "2022-03-23T16:02:33.782Z"
   },
   {
    "duration": 0,
    "start_time": "2022-03-23T16:02:33.784Z"
   },
   {
    "duration": 0,
    "start_time": "2022-03-23T16:02:33.785Z"
   },
   {
    "duration": 0,
    "start_time": "2022-03-23T16:02:33.787Z"
   },
   {
    "duration": 0,
    "start_time": "2022-03-23T16:02:33.788Z"
   },
   {
    "duration": 0,
    "start_time": "2022-03-23T16:02:33.789Z"
   },
   {
    "duration": 0,
    "start_time": "2022-03-23T16:02:33.792Z"
   },
   {
    "duration": 0,
    "start_time": "2022-03-23T16:02:33.793Z"
   },
   {
    "duration": 0,
    "start_time": "2022-03-23T16:02:33.795Z"
   },
   {
    "duration": 0,
    "start_time": "2022-03-23T16:02:33.796Z"
   },
   {
    "duration": 1471,
    "start_time": "2022-03-23T16:05:26.096Z"
   },
   {
    "duration": 3,
    "start_time": "2022-03-23T16:05:27.570Z"
   },
   {
    "duration": 500,
    "start_time": "2022-03-23T16:05:27.576Z"
   },
   {
    "duration": 35,
    "start_time": "2022-03-23T16:05:28.078Z"
   },
   {
    "duration": 17,
    "start_time": "2022-03-23T16:05:28.116Z"
   },
   {
    "duration": 5,
    "start_time": "2022-03-23T16:05:28.135Z"
   },
   {
    "duration": 55,
    "start_time": "2022-03-23T16:05:28.142Z"
   },
   {
    "duration": 12,
    "start_time": "2022-03-23T16:05:28.199Z"
   },
   {
    "duration": 7,
    "start_time": "2022-03-23T16:05:28.214Z"
   },
   {
    "duration": 64,
    "start_time": "2022-03-23T16:05:28.224Z"
   },
   {
    "duration": 11,
    "start_time": "2022-03-23T16:05:28.291Z"
   },
   {
    "duration": 6,
    "start_time": "2022-03-23T16:05:28.305Z"
   },
   {
    "duration": 16,
    "start_time": "2022-03-23T16:05:28.314Z"
   },
   {
    "duration": 12,
    "start_time": "2022-03-23T16:05:28.371Z"
   },
   {
    "duration": 7,
    "start_time": "2022-03-23T16:05:28.386Z"
   },
   {
    "duration": 16,
    "start_time": "2022-03-23T16:05:28.395Z"
   },
   {
    "duration": 56,
    "start_time": "2022-03-23T16:05:28.413Z"
   },
   {
    "duration": 6,
    "start_time": "2022-03-23T16:05:28.471Z"
   },
   {
    "duration": 38,
    "start_time": "2022-03-23T16:05:28.480Z"
   },
   {
    "duration": 75,
    "start_time": "2022-03-23T16:05:28.520Z"
   },
   {
    "duration": 7,
    "start_time": "2022-03-23T16:05:28.597Z"
   },
   {
    "duration": 61,
    "start_time": "2022-03-23T16:05:28.606Z"
   },
   {
    "duration": 22,
    "start_time": "2022-03-23T16:05:28.670Z"
   },
   {
    "duration": 36,
    "start_time": "2022-03-23T16:05:28.694Z"
   },
   {
    "duration": 7,
    "start_time": "2022-03-23T16:05:28.732Z"
   },
   {
    "duration": 37,
    "start_time": "2022-03-23T16:05:28.768Z"
   },
   {
    "duration": 18,
    "start_time": "2022-03-23T16:05:28.808Z"
   },
   {
    "duration": 55,
    "start_time": "2022-03-23T16:05:28.828Z"
   },
   {
    "duration": 7,
    "start_time": "2022-03-23T16:05:28.885Z"
   },
   {
    "duration": 20,
    "start_time": "2022-03-23T16:05:28.894Z"
   },
   {
    "duration": 8,
    "start_time": "2022-03-23T16:05:28.916Z"
   },
   {
    "duration": 48,
    "start_time": "2022-03-23T16:05:28.926Z"
   },
   {
    "duration": 9,
    "start_time": "2022-03-23T16:05:28.976Z"
   },
   {
    "duration": 12,
    "start_time": "2022-03-23T16:05:28.987Z"
   },
   {
    "duration": 4,
    "start_time": "2022-03-23T16:05:29.001Z"
   },
   {
    "duration": 7,
    "start_time": "2022-03-23T16:05:29.008Z"
   },
   {
    "duration": 6,
    "start_time": "2022-03-23T16:05:29.017Z"
   },
   {
    "duration": 49,
    "start_time": "2022-03-23T16:05:29.025Z"
   },
   {
    "duration": 24,
    "start_time": "2022-03-23T16:05:29.076Z"
   },
   {
    "duration": 10,
    "start_time": "2022-03-23T16:05:29.102Z"
   },
   {
    "duration": 6,
    "start_time": "2022-03-23T16:05:29.120Z"
   },
   {
    "duration": 43,
    "start_time": "2022-03-23T16:05:29.129Z"
   },
   {
    "duration": 10,
    "start_time": "2022-03-23T16:05:29.174Z"
   },
   {
    "duration": 9,
    "start_time": "2022-03-23T16:05:29.186Z"
   },
   {
    "duration": 12,
    "start_time": "2022-03-23T16:05:29.197Z"
   },
   {
    "duration": 76,
    "start_time": "2022-03-23T16:05:29.212Z"
   },
   {
    "duration": 11,
    "start_time": "2022-03-23T16:05:29.290Z"
   },
   {
    "duration": 43,
    "start_time": "2022-03-23T16:05:29.303Z"
   },
   {
    "duration": 29,
    "start_time": "2022-03-23T16:05:29.348Z"
   },
   {
    "duration": 5,
    "start_time": "2022-03-23T16:05:29.379Z"
   },
   {
    "duration": 12,
    "start_time": "2022-03-23T16:05:29.386Z"
   },
   {
    "duration": 24,
    "start_time": "2022-03-23T16:05:29.400Z"
   },
   {
    "duration": 45,
    "start_time": "2022-03-23T16:05:29.427Z"
   },
   {
    "duration": 43,
    "start_time": "2022-03-23T16:05:29.474Z"
   },
   {
    "duration": 11,
    "start_time": "2022-03-23T16:05:29.519Z"
   },
   {
    "duration": 36,
    "start_time": "2022-03-23T16:05:29.532Z"
   },
   {
    "duration": 16,
    "start_time": "2022-03-23T16:05:29.570Z"
   },
   {
    "duration": 28,
    "start_time": "2022-03-23T16:05:29.588Z"
   },
   {
    "duration": 12,
    "start_time": "2022-03-23T16:05:29.618Z"
   },
   {
    "duration": 62,
    "start_time": "2022-03-23T16:05:29.633Z"
   },
   {
    "duration": 17,
    "start_time": "2022-03-23T16:05:29.697Z"
   },
   {
    "duration": 4,
    "start_time": "2022-03-23T16:05:29.717Z"
   },
   {
    "duration": 12,
    "start_time": "2022-03-23T16:05:29.724Z"
   },
   {
    "duration": 37,
    "start_time": "2022-03-23T16:05:29.738Z"
   },
   {
    "duration": 12,
    "start_time": "2022-03-23T16:05:29.777Z"
   },
   {
    "duration": 6,
    "start_time": "2022-03-23T16:05:29.792Z"
   },
   {
    "duration": 26,
    "start_time": "2022-03-23T16:05:29.800Z"
   },
   {
    "duration": 13,
    "start_time": "2022-03-23T16:05:29.829Z"
   },
   {
    "duration": 9,
    "start_time": "2022-03-23T16:05:29.869Z"
   },
   {
    "duration": 8,
    "start_time": "2022-03-23T16:05:29.880Z"
   },
   {
    "duration": 8,
    "start_time": "2022-03-23T16:05:29.890Z"
   },
   {
    "duration": 13,
    "start_time": "2022-03-23T16:05:29.900Z"
   },
   {
    "duration": 1847,
    "start_time": "2022-03-23T16:05:29.915Z"
   },
   {
    "duration": 0,
    "start_time": "2022-03-23T16:05:31.765Z"
   },
   {
    "duration": 0,
    "start_time": "2022-03-23T16:05:31.766Z"
   },
   {
    "duration": 0,
    "start_time": "2022-03-23T16:05:31.768Z"
   },
   {
    "duration": 0,
    "start_time": "2022-03-23T16:05:31.769Z"
   },
   {
    "duration": 0,
    "start_time": "2022-03-23T16:05:31.771Z"
   },
   {
    "duration": 0,
    "start_time": "2022-03-23T16:05:31.772Z"
   },
   {
    "duration": 0,
    "start_time": "2022-03-23T16:05:31.774Z"
   },
   {
    "duration": 0,
    "start_time": "2022-03-23T16:05:31.775Z"
   },
   {
    "duration": 0,
    "start_time": "2022-03-23T16:05:31.776Z"
   },
   {
    "duration": 0,
    "start_time": "2022-03-23T16:05:31.778Z"
   },
   {
    "duration": 0,
    "start_time": "2022-03-23T16:05:31.779Z"
   },
   {
    "duration": 0,
    "start_time": "2022-03-23T16:05:31.781Z"
   },
   {
    "duration": 0,
    "start_time": "2022-03-23T16:05:31.782Z"
   },
   {
    "duration": 13,
    "start_time": "2022-03-23T16:11:29.548Z"
   },
   {
    "duration": 5,
    "start_time": "2022-03-23T16:14:32.251Z"
   },
   {
    "duration": 13,
    "start_time": "2022-03-23T16:14:38.123Z"
   },
   {
    "duration": 8,
    "start_time": "2022-03-23T16:14:49.633Z"
   },
   {
    "duration": 17,
    "start_time": "2022-03-23T16:15:03.778Z"
   },
   {
    "duration": 11,
    "start_time": "2022-03-23T16:15:10.065Z"
   },
   {
    "duration": 1389,
    "start_time": "2022-03-23T16:15:18.617Z"
   },
   {
    "duration": 4,
    "start_time": "2022-03-23T16:15:20.008Z"
   },
   {
    "duration": 492,
    "start_time": "2022-03-23T16:15:20.014Z"
   },
   {
    "duration": 35,
    "start_time": "2022-03-23T16:15:20.509Z"
   },
   {
    "duration": 23,
    "start_time": "2022-03-23T16:15:20.546Z"
   },
   {
    "duration": 5,
    "start_time": "2022-03-23T16:15:20.572Z"
   },
   {
    "duration": 30,
    "start_time": "2022-03-23T16:15:20.580Z"
   },
   {
    "duration": 12,
    "start_time": "2022-03-23T16:15:20.612Z"
   },
   {
    "duration": 43,
    "start_time": "2022-03-23T16:15:20.626Z"
   },
   {
    "duration": 25,
    "start_time": "2022-03-23T16:15:20.674Z"
   },
   {
    "duration": 11,
    "start_time": "2022-03-23T16:15:20.701Z"
   },
   {
    "duration": 5,
    "start_time": "2022-03-23T16:15:20.715Z"
   },
   {
    "duration": 47,
    "start_time": "2022-03-23T16:15:20.723Z"
   },
   {
    "duration": 15,
    "start_time": "2022-03-23T16:15:20.772Z"
   },
   {
    "duration": 5,
    "start_time": "2022-03-23T16:15:20.790Z"
   },
   {
    "duration": 18,
    "start_time": "2022-03-23T16:15:20.797Z"
   },
   {
    "duration": 53,
    "start_time": "2022-03-23T16:15:20.817Z"
   },
   {
    "duration": 5,
    "start_time": "2022-03-23T16:15:20.873Z"
   },
   {
    "duration": 27,
    "start_time": "2022-03-23T16:15:20.881Z"
   },
   {
    "duration": 77,
    "start_time": "2022-03-23T16:15:20.911Z"
   },
   {
    "duration": 7,
    "start_time": "2022-03-23T16:15:20.990Z"
   },
   {
    "duration": 34,
    "start_time": "2022-03-23T16:15:21.000Z"
   },
   {
    "duration": 46,
    "start_time": "2022-03-23T16:15:21.037Z"
   },
   {
    "duration": 32,
    "start_time": "2022-03-23T16:15:21.085Z"
   },
   {
    "duration": 6,
    "start_time": "2022-03-23T16:15:21.120Z"
   },
   {
    "duration": 69,
    "start_time": "2022-03-23T16:15:21.128Z"
   },
   {
    "duration": 19,
    "start_time": "2022-03-23T16:15:21.199Z"
   },
   {
    "duration": 49,
    "start_time": "2022-03-23T16:15:21.224Z"
   },
   {
    "duration": 7,
    "start_time": "2022-03-23T16:15:21.275Z"
   },
   {
    "duration": 20,
    "start_time": "2022-03-23T16:15:21.284Z"
   },
   {
    "duration": 7,
    "start_time": "2022-03-23T16:15:21.307Z"
   },
   {
    "duration": 14,
    "start_time": "2022-03-23T16:15:21.316Z"
   },
   {
    "duration": 41,
    "start_time": "2022-03-23T16:15:21.332Z"
   },
   {
    "duration": 13,
    "start_time": "2022-03-23T16:15:21.376Z"
   },
   {
    "duration": 5,
    "start_time": "2022-03-23T16:15:21.392Z"
   },
   {
    "duration": 8,
    "start_time": "2022-03-23T16:15:21.400Z"
   },
   {
    "duration": 58,
    "start_time": "2022-03-23T16:15:21.411Z"
   },
   {
    "duration": 11,
    "start_time": "2022-03-23T16:15:21.471Z"
   },
   {
    "duration": 21,
    "start_time": "2022-03-23T16:15:21.485Z"
   },
   {
    "duration": 10,
    "start_time": "2022-03-23T16:15:21.508Z"
   },
   {
    "duration": 46,
    "start_time": "2022-03-23T16:15:21.521Z"
   },
   {
    "duration": 11,
    "start_time": "2022-03-23T16:15:21.569Z"
   },
   {
    "duration": 11,
    "start_time": "2022-03-23T16:15:21.583Z"
   },
   {
    "duration": 7,
    "start_time": "2022-03-23T16:15:21.597Z"
   },
   {
    "duration": 12,
    "start_time": "2022-03-23T16:15:21.606Z"
   },
   {
    "duration": 73,
    "start_time": "2022-03-23T16:15:21.620Z"
   },
   {
    "duration": 13,
    "start_time": "2022-03-23T16:15:21.695Z"
   },
   {
    "duration": 76,
    "start_time": "2022-03-23T16:15:21.710Z"
   },
   {
    "duration": 13,
    "start_time": "2022-03-23T16:15:21.788Z"
   },
   {
    "duration": 4,
    "start_time": "2022-03-23T16:15:21.803Z"
   },
   {
    "duration": 11,
    "start_time": "2022-03-23T16:15:21.809Z"
   },
   {
    "duration": 57,
    "start_time": "2022-03-23T16:15:21.822Z"
   },
   {
    "duration": 13,
    "start_time": "2022-03-23T16:15:21.881Z"
   },
   {
    "duration": 42,
    "start_time": "2022-03-23T16:15:21.896Z"
   },
   {
    "duration": 29,
    "start_time": "2022-03-23T16:15:21.940Z"
   },
   {
    "duration": 5,
    "start_time": "2022-03-23T16:15:21.972Z"
   },
   {
    "duration": 12,
    "start_time": "2022-03-23T16:15:21.980Z"
   },
   {
    "duration": 24,
    "start_time": "2022-03-23T16:15:21.994Z"
   },
   {
    "duration": 48,
    "start_time": "2022-03-23T16:15:22.020Z"
   },
   {
    "duration": 28,
    "start_time": "2022-03-23T16:15:22.070Z"
   },
   {
    "duration": 11,
    "start_time": "2022-03-23T16:15:22.100Z"
   },
   {
    "duration": 4,
    "start_time": "2022-03-23T16:15:22.113Z"
   },
   {
    "duration": 10,
    "start_time": "2022-03-23T16:15:22.119Z"
   },
   {
    "duration": 42,
    "start_time": "2022-03-23T16:15:22.131Z"
   },
   {
    "duration": 10,
    "start_time": "2022-03-23T16:15:22.175Z"
   },
   {
    "duration": 4,
    "start_time": "2022-03-23T16:15:22.187Z"
   },
   {
    "duration": 8,
    "start_time": "2022-03-23T16:15:22.194Z"
   },
   {
    "duration": 12,
    "start_time": "2022-03-23T16:15:22.205Z"
   },
   {
    "duration": 48,
    "start_time": "2022-03-23T16:15:22.219Z"
   },
   {
    "duration": 12,
    "start_time": "2022-03-23T16:15:22.269Z"
   },
   {
    "duration": 9,
    "start_time": "2022-03-23T16:15:22.284Z"
   },
   {
    "duration": 15,
    "start_time": "2022-03-23T16:15:22.296Z"
   },
   {
    "duration": 9,
    "start_time": "2022-03-23T16:15:22.313Z"
   },
   {
    "duration": 46,
    "start_time": "2022-03-23T16:15:22.324Z"
   },
   {
    "duration": 11,
    "start_time": "2022-03-23T16:15:22.373Z"
   },
   {
    "duration": 12,
    "start_time": "2022-03-23T16:15:22.386Z"
   },
   {
    "duration": 205,
    "start_time": "2022-03-23T16:15:22.400Z"
   },
   {
    "duration": 20,
    "start_time": "2022-03-23T16:15:22.608Z"
   },
   {
    "duration": 6,
    "start_time": "2022-03-23T16:15:22.631Z"
   },
   {
    "duration": 41,
    "start_time": "2022-03-23T16:15:22.640Z"
   },
   {
    "duration": 5,
    "start_time": "2022-03-23T16:15:22.684Z"
   },
   {
    "duration": 15,
    "start_time": "2022-03-23T16:15:22.698Z"
   },
   {
    "duration": 55,
    "start_time": "2022-03-23T16:15:22.715Z"
   },
   {
    "duration": 25,
    "start_time": "2022-03-23T16:15:22.772Z"
   },
   {
    "duration": 9,
    "start_time": "2022-03-23T16:15:22.799Z"
   },
   {
    "duration": 8,
    "start_time": "2022-03-23T16:15:22.811Z"
   },
   {
    "duration": 358,
    "start_time": "2022-03-23T16:15:22.821Z"
   },
   {
    "duration": 313,
    "start_time": "2022-03-23T16:15:23.181Z"
   },
   {
    "duration": 409,
    "start_time": "2022-03-23T16:15:23.497Z"
   },
   {
    "duration": 8,
    "start_time": "2022-03-23T16:15:23.909Z"
   },
   {
    "duration": 8,
    "start_time": "2022-03-23T16:32:14.669Z"
   },
   {
    "duration": 6,
    "start_time": "2022-03-23T16:32:15.229Z"
   },
   {
    "duration": 30,
    "start_time": "2022-03-23T16:32:15.768Z"
   },
   {
    "duration": 18,
    "start_time": "2022-03-23T16:32:19.924Z"
   },
   {
    "duration": 140,
    "start_time": "2022-03-23T16:34:55.763Z"
   },
   {
    "duration": 17,
    "start_time": "2022-03-23T16:35:43.012Z"
   },
   {
    "duration": 17,
    "start_time": "2022-03-23T16:35:55.452Z"
   },
   {
    "duration": 1524,
    "start_time": "2022-03-23T16:36:59.743Z"
   },
   {
    "duration": 3,
    "start_time": "2022-03-23T16:37:01.270Z"
   },
   {
    "duration": 718,
    "start_time": "2022-03-23T16:37:01.276Z"
   },
   {
    "duration": 34,
    "start_time": "2022-03-23T16:37:01.997Z"
   },
   {
    "duration": 16,
    "start_time": "2022-03-23T16:37:02.035Z"
   },
   {
    "duration": 14,
    "start_time": "2022-03-23T16:37:02.054Z"
   },
   {
    "duration": 28,
    "start_time": "2022-03-23T16:37:02.071Z"
   },
   {
    "duration": 12,
    "start_time": "2022-03-23T16:37:02.102Z"
   },
   {
    "duration": 7,
    "start_time": "2022-03-23T16:37:02.116Z"
   },
   {
    "duration": 28,
    "start_time": "2022-03-23T16:37:02.167Z"
   },
   {
    "duration": 11,
    "start_time": "2022-03-23T16:37:02.197Z"
   },
   {
    "duration": 6,
    "start_time": "2022-03-23T16:37:02.211Z"
   },
   {
    "duration": 57,
    "start_time": "2022-03-23T16:37:02.220Z"
   },
   {
    "duration": 13,
    "start_time": "2022-03-23T16:37:02.284Z"
   },
   {
    "duration": 7,
    "start_time": "2022-03-23T16:37:02.299Z"
   },
   {
    "duration": 17,
    "start_time": "2022-03-23T16:37:02.308Z"
   },
   {
    "duration": 54,
    "start_time": "2022-03-23T16:37:02.328Z"
   },
   {
    "duration": 7,
    "start_time": "2022-03-23T16:37:02.385Z"
   },
   {
    "duration": 33,
    "start_time": "2022-03-23T16:37:02.394Z"
   },
   {
    "duration": 81,
    "start_time": "2022-03-23T16:37:02.429Z"
   },
   {
    "duration": 9,
    "start_time": "2022-03-23T16:37:02.512Z"
   },
   {
    "duration": 65,
    "start_time": "2022-03-23T16:37:02.523Z"
   },
   {
    "duration": 23,
    "start_time": "2022-03-23T16:37:02.590Z"
   },
   {
    "duration": 58,
    "start_time": "2022-03-23T16:37:02.615Z"
   },
   {
    "duration": 7,
    "start_time": "2022-03-23T16:37:02.675Z"
   },
   {
    "duration": 38,
    "start_time": "2022-03-23T16:37:02.684Z"
   },
   {
    "duration": 50,
    "start_time": "2022-03-23T16:37:02.724Z"
   },
   {
    "duration": 28,
    "start_time": "2022-03-23T16:37:02.776Z"
   },
   {
    "duration": 6,
    "start_time": "2022-03-23T16:37:02.807Z"
   },
   {
    "duration": 19,
    "start_time": "2022-03-23T16:37:02.815Z"
   },
   {
    "duration": 38,
    "start_time": "2022-03-23T16:37:02.836Z"
   },
   {
    "duration": 15,
    "start_time": "2022-03-23T16:37:02.876Z"
   },
   {
    "duration": 9,
    "start_time": "2022-03-23T16:37:02.895Z"
   },
   {
    "duration": 13,
    "start_time": "2022-03-23T16:37:02.906Z"
   },
   {
    "duration": 50,
    "start_time": "2022-03-23T16:37:02.921Z"
   },
   {
    "duration": 12,
    "start_time": "2022-03-23T16:37:02.973Z"
   },
   {
    "duration": 12,
    "start_time": "2022-03-23T16:37:02.988Z"
   },
   {
    "duration": 20,
    "start_time": "2022-03-23T16:37:03.002Z"
   },
   {
    "duration": 29,
    "start_time": "2022-03-23T16:37:03.025Z"
   },
   {
    "duration": 12,
    "start_time": "2022-03-23T16:37:03.067Z"
   },
   {
    "duration": 8,
    "start_time": "2022-03-23T16:37:03.086Z"
   },
   {
    "duration": 16,
    "start_time": "2022-03-23T16:37:03.096Z"
   },
   {
    "duration": 16,
    "start_time": "2022-03-23T16:37:03.115Z"
   },
   {
    "duration": 36,
    "start_time": "2022-03-23T16:37:03.133Z"
   },
   {
    "duration": 11,
    "start_time": "2022-03-23T16:37:03.171Z"
   },
   {
    "duration": 35,
    "start_time": "2022-03-23T16:37:03.184Z"
   },
   {
    "duration": 11,
    "start_time": "2022-03-23T16:37:03.221Z"
   },
   {
    "duration": 69,
    "start_time": "2022-03-23T16:37:03.234Z"
   },
   {
    "duration": 11,
    "start_time": "2022-03-23T16:37:03.306Z"
   },
   {
    "duration": 9,
    "start_time": "2022-03-23T16:37:03.319Z"
   },
   {
    "duration": 15,
    "start_time": "2022-03-23T16:37:03.330Z"
   },
   {
    "duration": 25,
    "start_time": "2022-03-23T16:37:03.368Z"
   },
   {
    "duration": 13,
    "start_time": "2022-03-23T16:37:03.395Z"
   },
   {
    "duration": 63,
    "start_time": "2022-03-23T16:37:03.410Z"
   },
   {
    "duration": 12,
    "start_time": "2022-03-23T16:37:03.476Z"
   },
   {
    "duration": 6,
    "start_time": "2022-03-23T16:37:03.491Z"
   },
   {
    "duration": 14,
    "start_time": "2022-03-23T16:37:03.499Z"
   },
   {
    "duration": 57,
    "start_time": "2022-03-23T16:37:03.515Z"
   },
   {
    "duration": 12,
    "start_time": "2022-03-23T16:37:03.574Z"
   },
   {
    "duration": 30,
    "start_time": "2022-03-23T16:37:03.588Z"
   },
   {
    "duration": 12,
    "start_time": "2022-03-23T16:37:03.620Z"
   },
   {
    "duration": 33,
    "start_time": "2022-03-23T16:37:03.634Z"
   },
   {
    "duration": 20,
    "start_time": "2022-03-23T16:37:03.670Z"
   },
   {
    "duration": 14,
    "start_time": "2022-03-23T16:37:03.693Z"
   },
   {
    "duration": 10,
    "start_time": "2022-03-23T16:37:03.709Z"
   },
   {
    "duration": 12,
    "start_time": "2022-03-23T16:37:03.721Z"
   },
   {
    "duration": 31,
    "start_time": "2022-03-23T16:37:03.736Z"
   },
   {
    "duration": 13,
    "start_time": "2022-03-23T16:37:03.769Z"
   },
   {
    "duration": 10,
    "start_time": "2022-03-23T16:37:03.785Z"
   },
   {
    "duration": 16,
    "start_time": "2022-03-23T16:37:03.797Z"
   },
   {
    "duration": 10,
    "start_time": "2022-03-23T16:37:03.816Z"
   },
   {
    "duration": 45,
    "start_time": "2022-03-23T16:37:03.829Z"
   },
   {
    "duration": 14,
    "start_time": "2022-03-23T16:37:03.876Z"
   },
   {
    "duration": 7,
    "start_time": "2022-03-23T16:37:03.893Z"
   },
   {
    "duration": 14,
    "start_time": "2022-03-23T16:37:03.903Z"
   },
   {
    "duration": 54,
    "start_time": "2022-03-23T16:37:03.920Z"
   },
   {
    "duration": 213,
    "start_time": "2022-03-23T16:37:03.977Z"
   },
   {
    "duration": 20,
    "start_time": "2022-03-23T16:37:04.192Z"
   },
   {
    "duration": 10,
    "start_time": "2022-03-23T16:37:04.215Z"
   },
   {
    "duration": 39,
    "start_time": "2022-03-23T16:37:04.228Z"
   },
   {
    "duration": 5,
    "start_time": "2022-03-23T16:37:04.270Z"
   },
   {
    "duration": 18,
    "start_time": "2022-03-23T16:37:04.278Z"
   },
   {
    "duration": 33,
    "start_time": "2022-03-23T16:37:04.299Z"
   },
   {
    "duration": 49,
    "start_time": "2022-03-23T16:37:04.335Z"
   },
   {
    "duration": 16,
    "start_time": "2022-03-23T16:37:04.386Z"
   },
   {
    "duration": 9,
    "start_time": "2022-03-23T16:37:04.404Z"
   },
   {
    "duration": 352,
    "start_time": "2022-03-23T16:37:04.415Z"
   },
   {
    "duration": 300,
    "start_time": "2022-03-23T16:37:04.770Z"
   },
   {
    "duration": 311,
    "start_time": "2022-03-23T16:37:05.073Z"
   },
   {
    "duration": 8,
    "start_time": "2022-03-23T16:37:05.387Z"
   },
   {
    "duration": 11,
    "start_time": "2022-03-23T16:37:05.397Z"
   },
   {
    "duration": 14,
    "start_time": "2022-03-23T16:37:05.410Z"
   },
   {
    "duration": 49,
    "start_time": "2022-03-23T16:37:05.426Z"
   },
   {
    "duration": 17,
    "start_time": "2022-03-23T16:37:05.477Z"
   },
   {
    "duration": 1451,
    "start_time": "2022-03-23T16:39:45.955Z"
   },
   {
    "duration": 3,
    "start_time": "2022-03-23T16:39:47.409Z"
   },
   {
    "duration": 499,
    "start_time": "2022-03-23T16:39:47.415Z"
   },
   {
    "duration": 34,
    "start_time": "2022-03-23T16:39:47.916Z"
   },
   {
    "duration": 16,
    "start_time": "2022-03-23T16:39:47.953Z"
   },
   {
    "duration": 5,
    "start_time": "2022-03-23T16:39:47.971Z"
   },
   {
    "duration": 32,
    "start_time": "2022-03-23T16:39:47.978Z"
   },
   {
    "duration": 12,
    "start_time": "2022-03-23T16:39:48.012Z"
   },
   {
    "duration": 7,
    "start_time": "2022-03-23T16:39:48.027Z"
   },
   {
    "duration": 24,
    "start_time": "2022-03-23T16:39:48.068Z"
   },
   {
    "duration": 11,
    "start_time": "2022-03-23T16:39:48.094Z"
   },
   {
    "duration": 6,
    "start_time": "2022-03-23T16:39:48.107Z"
   },
   {
    "duration": 52,
    "start_time": "2022-03-23T16:39:48.116Z"
   },
   {
    "duration": 13,
    "start_time": "2022-03-23T16:39:48.172Z"
   },
   {
    "duration": 7,
    "start_time": "2022-03-23T16:39:48.188Z"
   },
   {
    "duration": 17,
    "start_time": "2022-03-23T16:39:48.197Z"
   },
   {
    "duration": 54,
    "start_time": "2022-03-23T16:39:48.216Z"
   },
   {
    "duration": 6,
    "start_time": "2022-03-23T16:39:48.272Z"
   },
   {
    "duration": 28,
    "start_time": "2022-03-23T16:39:48.280Z"
   },
   {
    "duration": 78,
    "start_time": "2022-03-23T16:39:48.310Z"
   },
   {
    "duration": 6,
    "start_time": "2022-03-23T16:39:48.391Z"
   },
   {
    "duration": 36,
    "start_time": "2022-03-23T16:39:48.399Z"
   },
   {
    "duration": 49,
    "start_time": "2022-03-23T16:39:48.437Z"
   },
   {
    "duration": 36,
    "start_time": "2022-03-23T16:39:48.489Z"
   },
   {
    "duration": 7,
    "start_time": "2022-03-23T16:39:48.528Z"
   },
   {
    "duration": 37,
    "start_time": "2022-03-23T16:39:48.567Z"
   },
   {
    "duration": 19,
    "start_time": "2022-03-23T16:39:48.606Z"
   },
   {
    "duration": 53,
    "start_time": "2022-03-23T16:39:48.628Z"
   },
   {
    "duration": 7,
    "start_time": "2022-03-23T16:39:48.684Z"
   },
   {
    "duration": 19,
    "start_time": "2022-03-23T16:39:48.693Z"
   },
   {
    "duration": 11,
    "start_time": "2022-03-23T16:39:48.715Z"
   },
   {
    "duration": 44,
    "start_time": "2022-03-23T16:39:48.728Z"
   },
   {
    "duration": 12,
    "start_time": "2022-03-23T16:39:48.774Z"
   },
   {
    "duration": 20,
    "start_time": "2022-03-23T16:39:48.788Z"
   },
   {
    "duration": 4,
    "start_time": "2022-03-23T16:39:48.811Z"
   },
   {
    "duration": 6,
    "start_time": "2022-03-23T16:39:48.818Z"
   },
   {
    "duration": 45,
    "start_time": "2022-03-23T16:39:48.826Z"
   },
   {
    "duration": 11,
    "start_time": "2022-03-23T16:39:48.873Z"
   },
   {
    "duration": 20,
    "start_time": "2022-03-23T16:39:48.886Z"
   },
   {
    "duration": 12,
    "start_time": "2022-03-23T16:39:48.909Z"
   },
   {
    "duration": 40,
    "start_time": "2022-03-23T16:39:48.931Z"
   },
   {
    "duration": 21,
    "start_time": "2022-03-23T16:39:48.973Z"
   },
   {
    "duration": 12,
    "start_time": "2022-03-23T16:39:48.997Z"
   },
   {
    "duration": 8,
    "start_time": "2022-03-23T16:39:49.011Z"
   },
   {
    "duration": 11,
    "start_time": "2022-03-23T16:39:49.021Z"
   },
   {
    "duration": 33,
    "start_time": "2022-03-23T16:39:49.067Z"
   },
   {
    "duration": 12,
    "start_time": "2022-03-23T16:39:49.102Z"
   },
   {
    "duration": 71,
    "start_time": "2022-03-23T16:39:49.116Z"
   },
   {
    "duration": 10,
    "start_time": "2022-03-23T16:39:49.190Z"
   },
   {
    "duration": 7,
    "start_time": "2022-03-23T16:39:49.203Z"
   },
   {
    "duration": 11,
    "start_time": "2022-03-23T16:39:49.213Z"
   },
   {
    "duration": 57,
    "start_time": "2022-03-23T16:39:49.226Z"
   },
   {
    "duration": 17,
    "start_time": "2022-03-23T16:39:49.286Z"
   },
   {
    "duration": 39,
    "start_time": "2022-03-23T16:39:49.305Z"
   },
   {
    "duration": 11,
    "start_time": "2022-03-23T16:39:49.367Z"
   },
   {
    "duration": 6,
    "start_time": "2022-03-23T16:39:49.380Z"
   },
   {
    "duration": 14,
    "start_time": "2022-03-23T16:39:49.388Z"
   },
   {
    "duration": 20,
    "start_time": "2022-03-23T16:39:49.405Z"
   },
   {
    "duration": 11,
    "start_time": "2022-03-23T16:39:49.427Z"
   },
   {
    "duration": 28,
    "start_time": "2022-03-23T16:39:49.468Z"
   },
   {
    "duration": 12,
    "start_time": "2022-03-23T16:39:49.498Z"
   },
   {
    "duration": 6,
    "start_time": "2022-03-23T16:39:49.512Z"
   },
   {
    "duration": 13,
    "start_time": "2022-03-23T16:39:49.520Z"
   },
   {
    "duration": 41,
    "start_time": "2022-03-23T16:39:49.536Z"
   },
   {
    "duration": 17,
    "start_time": "2022-03-23T16:39:49.580Z"
   },
   {
    "duration": 5,
    "start_time": "2022-03-23T16:39:49.599Z"
   },
   {
    "duration": 9,
    "start_time": "2022-03-23T16:39:49.606Z"
   },
   {
    "duration": 13,
    "start_time": "2022-03-23T16:39:49.618Z"
   },
   {
    "duration": 5,
    "start_time": "2022-03-23T16:39:49.668Z"
   },
   {
    "duration": 15,
    "start_time": "2022-03-23T16:39:49.675Z"
   },
   {
    "duration": 11,
    "start_time": "2022-03-23T16:39:49.693Z"
   },
   {
    "duration": 16,
    "start_time": "2022-03-23T16:39:49.707Z"
   },
   {
    "duration": 10,
    "start_time": "2022-03-23T16:39:49.768Z"
   },
   {
    "duration": 5,
    "start_time": "2022-03-23T16:39:49.780Z"
   },
   {
    "duration": 8,
    "start_time": "2022-03-23T16:39:49.787Z"
   },
   {
    "duration": 12,
    "start_time": "2022-03-23T16:39:49.797Z"
   },
   {
    "duration": 204,
    "start_time": "2022-03-23T16:39:49.811Z"
   },
   {
    "duration": 19,
    "start_time": "2022-03-23T16:39:50.018Z"
   },
   {
    "duration": 6,
    "start_time": "2022-03-23T16:39:50.039Z"
   },
   {
    "duration": 15,
    "start_time": "2022-03-23T16:39:50.067Z"
   },
   {
    "duration": 5,
    "start_time": "2022-03-23T16:39:50.085Z"
   },
   {
    "duration": 17,
    "start_time": "2022-03-23T16:39:50.092Z"
   },
   {
    "duration": 69,
    "start_time": "2022-03-23T16:39:50.112Z"
   },
   {
    "duration": 26,
    "start_time": "2022-03-23T16:39:50.183Z"
   },
   {
    "duration": 9,
    "start_time": "2022-03-23T16:39:50.211Z"
   },
   {
    "duration": 10,
    "start_time": "2022-03-23T16:39:50.222Z"
   },
   {
    "duration": 339,
    "start_time": "2022-03-23T16:39:50.269Z"
   },
   {
    "duration": 310,
    "start_time": "2022-03-23T16:39:50.610Z"
   },
   {
    "duration": 303,
    "start_time": "2022-03-23T16:39:50.922Z"
   },
   {
    "duration": 9,
    "start_time": "2022-03-23T16:39:51.228Z"
   },
   {
    "duration": 29,
    "start_time": "2022-03-23T16:39:51.239Z"
   },
   {
    "duration": 19,
    "start_time": "2022-03-23T16:39:51.270Z"
   },
   {
    "duration": 10,
    "start_time": "2022-03-23T16:39:51.291Z"
   },
   {
    "duration": 19,
    "start_time": "2022-03-23T16:39:51.303Z"
   },
   {
    "duration": 6,
    "start_time": "2022-03-23T16:40:12.512Z"
   },
   {
    "duration": 24,
    "start_time": "2022-03-23T16:40:12.850Z"
   },
   {
    "duration": 10,
    "start_time": "2022-03-23T16:59:22.699Z"
   },
   {
    "duration": 133,
    "start_time": "2022-03-23T17:12:37.119Z"
   },
   {
    "duration": 1439,
    "start_time": "2022-03-23T18:18:50.303Z"
   },
   {
    "duration": 4,
    "start_time": "2022-03-23T18:18:51.745Z"
   },
   {
    "duration": 521,
    "start_time": "2022-03-23T18:18:51.752Z"
   },
   {
    "duration": 37,
    "start_time": "2022-03-23T18:18:52.276Z"
   },
   {
    "duration": 16,
    "start_time": "2022-03-23T18:18:52.316Z"
   },
   {
    "duration": 34,
    "start_time": "2022-03-23T18:18:52.335Z"
   },
   {
    "duration": 31,
    "start_time": "2022-03-23T18:18:52.372Z"
   },
   {
    "duration": 12,
    "start_time": "2022-03-23T18:18:52.405Z"
   },
   {
    "duration": 9,
    "start_time": "2022-03-23T18:18:52.419Z"
   },
   {
    "duration": 39,
    "start_time": "2022-03-23T18:18:52.467Z"
   },
   {
    "duration": 12,
    "start_time": "2022-03-23T18:18:52.509Z"
   },
   {
    "duration": 6,
    "start_time": "2022-03-23T18:18:52.524Z"
   },
   {
    "duration": 47,
    "start_time": "2022-03-23T18:18:52.532Z"
   },
   {
    "duration": 13,
    "start_time": "2022-03-23T18:18:52.581Z"
   },
   {
    "duration": 10,
    "start_time": "2022-03-23T18:18:52.597Z"
   },
   {
    "duration": 21,
    "start_time": "2022-03-23T18:18:52.610Z"
   },
   {
    "duration": 51,
    "start_time": "2022-03-23T18:18:52.633Z"
   },
   {
    "duration": 7,
    "start_time": "2022-03-23T18:18:52.686Z"
   },
   {
    "duration": 30,
    "start_time": "2022-03-23T18:18:52.696Z"
   },
   {
    "duration": 83,
    "start_time": "2022-03-23T18:18:52.728Z"
   },
   {
    "duration": 7,
    "start_time": "2022-03-23T18:18:52.814Z"
   },
   {
    "duration": 69,
    "start_time": "2022-03-23T18:18:52.825Z"
   },
   {
    "duration": 23,
    "start_time": "2022-03-23T18:18:52.897Z"
   },
   {
    "duration": 62,
    "start_time": "2022-03-23T18:18:52.922Z"
   },
   {
    "duration": 7,
    "start_time": "2022-03-23T18:18:52.987Z"
   },
   {
    "duration": 41,
    "start_time": "2022-03-23T18:18:52.996Z"
   },
   {
    "duration": 43,
    "start_time": "2022-03-23T18:18:53.039Z"
   },
   {
    "duration": 29,
    "start_time": "2022-03-23T18:18:53.090Z"
   },
   {
    "duration": 8,
    "start_time": "2022-03-23T18:18:53.121Z"
   },
   {
    "duration": 49,
    "start_time": "2022-03-23T18:18:53.132Z"
   },
   {
    "duration": 9,
    "start_time": "2022-03-23T18:18:53.184Z"
   },
   {
    "duration": 14,
    "start_time": "2022-03-23T18:18:53.195Z"
   },
   {
    "duration": 10,
    "start_time": "2022-03-23T18:18:53.211Z"
   },
   {
    "duration": 15,
    "start_time": "2022-03-23T18:18:53.269Z"
   },
   {
    "duration": 5,
    "start_time": "2022-03-23T18:18:53.286Z"
   },
   {
    "duration": 9,
    "start_time": "2022-03-23T18:18:53.293Z"
   },
   {
    "duration": 8,
    "start_time": "2022-03-23T18:18:53.304Z"
   },
   {
    "duration": 12,
    "start_time": "2022-03-23T18:18:53.314Z"
   },
   {
    "duration": 19,
    "start_time": "2022-03-23T18:18:53.368Z"
   },
   {
    "duration": 11,
    "start_time": "2022-03-23T18:18:53.390Z"
   },
   {
    "duration": 8,
    "start_time": "2022-03-23T18:18:53.403Z"
   },
   {
    "duration": 11,
    "start_time": "2022-03-23T18:18:53.414Z"
   },
   {
    "duration": 12,
    "start_time": "2022-03-23T18:18:53.466Z"
   },
   {
    "duration": 9,
    "start_time": "2022-03-23T18:18:53.480Z"
   },
   {
    "duration": 23,
    "start_time": "2022-03-23T18:18:53.491Z"
   },
   {
    "duration": 60,
    "start_time": "2022-03-23T18:18:53.516Z"
   },
   {
    "duration": 13,
    "start_time": "2022-03-23T18:18:53.578Z"
   },
   {
    "duration": 42,
    "start_time": "2022-03-23T18:18:53.593Z"
   },
   {
    "duration": 34,
    "start_time": "2022-03-23T18:18:53.638Z"
   },
   {
    "duration": 4,
    "start_time": "2022-03-23T18:18:53.675Z"
   },
   {
    "duration": 13,
    "start_time": "2022-03-23T18:18:53.681Z"
   },
   {
    "duration": 26,
    "start_time": "2022-03-23T18:18:53.697Z"
   },
   {
    "duration": 54,
    "start_time": "2022-03-23T18:18:53.725Z"
   },
   {
    "duration": 41,
    "start_time": "2022-03-23T18:18:53.781Z"
   },
   {
    "duration": 17,
    "start_time": "2022-03-23T18:18:53.825Z"
   },
   {
    "duration": 5,
    "start_time": "2022-03-23T18:18:53.869Z"
   },
   {
    "duration": 14,
    "start_time": "2022-03-23T18:18:53.877Z"
   },
   {
    "duration": 25,
    "start_time": "2022-03-23T18:18:53.894Z"
   },
   {
    "duration": 50,
    "start_time": "2022-03-23T18:18:53.922Z"
   },
   {
    "duration": 41,
    "start_time": "2022-03-23T18:18:53.975Z"
   },
   {
    "duration": 16,
    "start_time": "2022-03-23T18:18:54.020Z"
   },
   {
    "duration": 30,
    "start_time": "2022-03-23T18:18:54.039Z"
   },
   {
    "duration": 18,
    "start_time": "2022-03-23T18:18:54.072Z"
   },
   {
    "duration": 14,
    "start_time": "2022-03-23T18:18:54.093Z"
   },
   {
    "duration": 13,
    "start_time": "2022-03-23T18:18:54.109Z"
   },
   {
    "duration": 43,
    "start_time": "2022-03-23T18:18:54.124Z"
   },
   {
    "duration": 11,
    "start_time": "2022-03-23T18:18:54.171Z"
   },
   {
    "duration": 15,
    "start_time": "2022-03-23T18:18:54.185Z"
   },
   {
    "duration": 5,
    "start_time": "2022-03-23T18:18:54.202Z"
   },
   {
    "duration": 15,
    "start_time": "2022-03-23T18:18:54.209Z"
   },
   {
    "duration": 12,
    "start_time": "2022-03-23T18:18:54.267Z"
   },
   {
    "duration": 17,
    "start_time": "2022-03-23T18:18:54.281Z"
   },
   {
    "duration": 11,
    "start_time": "2022-03-23T18:18:54.301Z"
   },
   {
    "duration": 7,
    "start_time": "2022-03-23T18:18:54.314Z"
   },
   {
    "duration": 53,
    "start_time": "2022-03-23T18:18:54.323Z"
   },
   {
    "duration": 14,
    "start_time": "2022-03-23T18:18:54.378Z"
   },
   {
    "duration": 214,
    "start_time": "2022-03-23T18:18:54.395Z"
   },
   {
    "duration": 22,
    "start_time": "2022-03-23T18:18:54.612Z"
   },
   {
    "duration": 6,
    "start_time": "2022-03-23T18:18:54.636Z"
   },
   {
    "duration": 38,
    "start_time": "2022-03-23T18:18:54.644Z"
   },
   {
    "duration": 5,
    "start_time": "2022-03-23T18:18:54.685Z"
   },
   {
    "duration": 16,
    "start_time": "2022-03-23T18:18:54.700Z"
   },
   {
    "duration": 62,
    "start_time": "2022-03-23T18:18:54.718Z"
   },
   {
    "duration": 25,
    "start_time": "2022-03-23T18:18:54.782Z"
   },
   {
    "duration": 10,
    "start_time": "2022-03-23T18:18:54.809Z"
   },
   {
    "duration": 51,
    "start_time": "2022-03-23T18:18:54.821Z"
   },
   {
    "duration": 347,
    "start_time": "2022-03-23T18:18:54.874Z"
   },
   {
    "duration": 332,
    "start_time": "2022-03-23T18:18:55.224Z"
   },
   {
    "duration": 327,
    "start_time": "2022-03-23T18:18:55.559Z"
   },
   {
    "duration": 8,
    "start_time": "2022-03-23T18:18:55.889Z"
   },
   {
    "duration": 8,
    "start_time": "2022-03-23T18:18:55.899Z"
   },
   {
    "duration": 21,
    "start_time": "2022-03-23T18:18:55.909Z"
   },
   {
    "duration": 38,
    "start_time": "2022-03-23T18:18:55.933Z"
   },
   {
    "duration": 24,
    "start_time": "2022-03-23T18:18:55.973Z"
   },
   {
    "duration": 16,
    "start_time": "2022-03-23T18:18:56.000Z"
   },
   {
    "duration": 143,
    "start_time": "2022-03-23T18:27:38.272Z"
   },
   {
    "duration": 11,
    "start_time": "2022-03-23T18:27:45.927Z"
   },
   {
    "duration": 11,
    "start_time": "2022-03-23T18:28:18.256Z"
   },
   {
    "duration": 97,
    "start_time": "2022-03-23T18:30:23.598Z"
   },
   {
    "duration": 13,
    "start_time": "2022-03-23T18:30:44.647Z"
   },
   {
    "duration": 10,
    "start_time": "2022-03-23T18:31:09.990Z"
   },
   {
    "duration": 10,
    "start_time": "2022-03-23T18:31:21.413Z"
   },
   {
    "duration": 110,
    "start_time": "2022-03-23T18:31:35.447Z"
   },
   {
    "duration": 11,
    "start_time": "2022-03-23T18:31:42.101Z"
   },
   {
    "duration": 1380,
    "start_time": "2022-03-23T18:31:47.417Z"
   },
   {
    "duration": 3,
    "start_time": "2022-03-23T18:31:48.800Z"
   },
   {
    "duration": 488,
    "start_time": "2022-03-23T18:31:48.805Z"
   },
   {
    "duration": 35,
    "start_time": "2022-03-23T18:31:49.296Z"
   },
   {
    "duration": 17,
    "start_time": "2022-03-23T18:31:49.333Z"
   },
   {
    "duration": 5,
    "start_time": "2022-03-23T18:31:49.352Z"
   },
   {
    "duration": 34,
    "start_time": "2022-03-23T18:31:49.360Z"
   },
   {
    "duration": 13,
    "start_time": "2022-03-23T18:31:49.396Z"
   },
   {
    "duration": 6,
    "start_time": "2022-03-23T18:31:49.411Z"
   },
   {
    "duration": 62,
    "start_time": "2022-03-23T18:31:49.421Z"
   },
   {
    "duration": 11,
    "start_time": "2022-03-23T18:31:49.485Z"
   },
   {
    "duration": 6,
    "start_time": "2022-03-23T18:31:49.499Z"
   },
   {
    "duration": 15,
    "start_time": "2022-03-23T18:31:49.508Z"
   },
   {
    "duration": 50,
    "start_time": "2022-03-23T18:31:49.525Z"
   },
   {
    "duration": 6,
    "start_time": "2022-03-23T18:31:49.577Z"
   },
   {
    "duration": 17,
    "start_time": "2022-03-23T18:31:49.585Z"
   },
   {
    "duration": 16,
    "start_time": "2022-03-23T18:31:49.604Z"
   },
   {
    "duration": 49,
    "start_time": "2022-03-23T18:31:49.622Z"
   },
   {
    "duration": 30,
    "start_time": "2022-03-23T18:31:49.674Z"
   },
   {
    "duration": 70,
    "start_time": "2022-03-23T18:31:49.706Z"
   },
   {
    "duration": 7,
    "start_time": "2022-03-23T18:31:49.778Z"
   },
   {
    "duration": 36,
    "start_time": "2022-03-23T18:31:49.787Z"
   },
   {
    "duration": 45,
    "start_time": "2022-03-23T18:31:49.826Z"
   },
   {
    "duration": 33,
    "start_time": "2022-03-23T18:31:49.873Z"
   },
   {
    "duration": 7,
    "start_time": "2022-03-23T18:31:49.908Z"
   },
   {
    "duration": 68,
    "start_time": "2022-03-23T18:31:49.917Z"
   },
   {
    "duration": 18,
    "start_time": "2022-03-23T18:31:49.987Z"
   },
   {
    "duration": 27,
    "start_time": "2022-03-23T18:31:50.012Z"
   },
   {
    "duration": 31,
    "start_time": "2022-03-23T18:31:50.040Z"
   },
   {
    "duration": 19,
    "start_time": "2022-03-23T18:31:50.073Z"
   },
   {
    "duration": 8,
    "start_time": "2022-03-23T18:31:50.095Z"
   },
   {
    "duration": 11,
    "start_time": "2022-03-23T18:31:50.104Z"
   },
   {
    "duration": 9,
    "start_time": "2022-03-23T18:31:50.117Z"
   },
   {
    "duration": 14,
    "start_time": "2022-03-23T18:31:50.168Z"
   },
   {
    "duration": 4,
    "start_time": "2022-03-23T18:31:50.184Z"
   },
   {
    "duration": 7,
    "start_time": "2022-03-23T18:31:50.190Z"
   },
   {
    "duration": 6,
    "start_time": "2022-03-23T18:31:50.199Z"
   },
   {
    "duration": 10,
    "start_time": "2022-03-23T18:31:50.207Z"
   },
   {
    "duration": 55,
    "start_time": "2022-03-23T18:31:50.219Z"
   },
   {
    "duration": 15,
    "start_time": "2022-03-23T18:31:50.276Z"
   },
   {
    "duration": 8,
    "start_time": "2022-03-23T18:31:50.293Z"
   },
   {
    "duration": 11,
    "start_time": "2022-03-23T18:31:50.303Z"
   },
   {
    "duration": 53,
    "start_time": "2022-03-23T18:31:50.316Z"
   },
   {
    "duration": 8,
    "start_time": "2022-03-23T18:31:50.371Z"
   },
   {
    "duration": 13,
    "start_time": "2022-03-23T18:31:50.381Z"
   },
   {
    "duration": 33,
    "start_time": "2022-03-23T18:31:50.396Z"
   },
   {
    "duration": 41,
    "start_time": "2022-03-23T18:31:50.431Z"
   },
   {
    "duration": 44,
    "start_time": "2022-03-23T18:31:50.475Z"
   },
   {
    "duration": 11,
    "start_time": "2022-03-23T18:31:50.521Z"
   },
   {
    "duration": 34,
    "start_time": "2022-03-23T18:31:50.535Z"
   },
   {
    "duration": 12,
    "start_time": "2022-03-23T18:31:50.571Z"
   },
   {
    "duration": 27,
    "start_time": "2022-03-23T18:31:50.585Z"
   },
   {
    "duration": 12,
    "start_time": "2022-03-23T18:31:50.614Z"
   },
   {
    "duration": 69,
    "start_time": "2022-03-23T18:31:50.628Z"
   },
   {
    "duration": 12,
    "start_time": "2022-03-23T18:31:50.699Z"
   },
   {
    "duration": 4,
    "start_time": "2022-03-23T18:31:50.713Z"
   },
   {
    "duration": 11,
    "start_time": "2022-03-23T18:31:50.719Z"
   },
   {
    "duration": 51,
    "start_time": "2022-03-23T18:31:50.732Z"
   },
   {
    "duration": 10,
    "start_time": "2022-03-23T18:31:50.786Z"
   },
   {
    "duration": 27,
    "start_time": "2022-03-23T18:31:50.799Z"
   },
   {
    "duration": 39,
    "start_time": "2022-03-23T18:31:50.828Z"
   },
   {
    "duration": 3,
    "start_time": "2022-03-23T18:31:50.870Z"
   },
   {
    "duration": 10,
    "start_time": "2022-03-23T18:31:50.875Z"
   },
   {
    "duration": 12,
    "start_time": "2022-03-23T18:31:50.887Z"
   },
   {
    "duration": 10,
    "start_time": "2022-03-23T18:31:50.901Z"
   },
   {
    "duration": 5,
    "start_time": "2022-03-23T18:31:50.913Z"
   },
   {
    "duration": 47,
    "start_time": "2022-03-23T18:31:50.920Z"
   },
   {
    "duration": 12,
    "start_time": "2022-03-23T18:31:50.970Z"
   },
   {
    "duration": 7,
    "start_time": "2022-03-23T18:31:50.985Z"
   },
   {
    "duration": 15,
    "start_time": "2022-03-23T18:31:50.994Z"
   },
   {
    "duration": 9,
    "start_time": "2022-03-23T18:31:51.011Z"
   },
   {
    "duration": 53,
    "start_time": "2022-03-23T18:31:51.022Z"
   },
   {
    "duration": 10,
    "start_time": "2022-03-23T18:31:51.077Z"
   },
   {
    "duration": 6,
    "start_time": "2022-03-23T18:31:51.089Z"
   },
   {
    "duration": 10,
    "start_time": "2022-03-23T18:31:51.096Z"
   },
   {
    "duration": 11,
    "start_time": "2022-03-23T18:31:51.108Z"
   },
   {
    "duration": 224,
    "start_time": "2022-03-23T18:31:51.121Z"
   },
   {
    "duration": 23,
    "start_time": "2022-03-23T18:31:51.347Z"
   },
   {
    "duration": 7,
    "start_time": "2022-03-23T18:31:51.372Z"
   },
   {
    "duration": 24,
    "start_time": "2022-03-23T18:31:51.381Z"
   },
   {
    "duration": 6,
    "start_time": "2022-03-23T18:31:51.408Z"
   },
   {
    "duration": 14,
    "start_time": "2022-03-23T18:31:51.422Z"
   },
   {
    "duration": 50,
    "start_time": "2022-03-23T18:31:51.438Z"
   },
   {
    "duration": 25,
    "start_time": "2022-03-23T18:31:51.490Z"
   },
   {
    "duration": 8,
    "start_time": "2022-03-23T18:31:51.517Z"
   },
   {
    "duration": 43,
    "start_time": "2022-03-23T18:31:51.528Z"
   },
   {
    "duration": 331,
    "start_time": "2022-03-23T18:31:51.574Z"
   },
   {
    "duration": 303,
    "start_time": "2022-03-23T18:31:51.907Z"
   },
   {
    "duration": 303,
    "start_time": "2022-03-23T18:31:52.213Z"
   },
   {
    "duration": 10,
    "start_time": "2022-03-23T18:31:52.518Z"
   },
   {
    "duration": 7,
    "start_time": "2022-03-23T18:31:52.530Z"
   },
   {
    "duration": 30,
    "start_time": "2022-03-23T18:31:52.540Z"
   },
   {
    "duration": 17,
    "start_time": "2022-03-23T18:31:52.572Z"
   },
   {
    "duration": 7,
    "start_time": "2022-03-23T18:31:52.592Z"
   },
   {
    "duration": 18,
    "start_time": "2022-03-23T18:31:52.601Z"
   },
   {
    "duration": 8,
    "start_time": "2022-03-23T18:31:52.622Z"
   },
   {
    "duration": 9,
    "start_time": "2022-03-23T18:32:06.207Z"
   },
   {
    "duration": 1411,
    "start_time": "2022-03-23T18:32:12.325Z"
   },
   {
    "duration": 4,
    "start_time": "2022-03-23T18:32:13.739Z"
   },
   {
    "duration": 476,
    "start_time": "2022-03-23T18:32:13.746Z"
   },
   {
    "duration": 33,
    "start_time": "2022-03-23T18:32:14.225Z"
   },
   {
    "duration": 16,
    "start_time": "2022-03-23T18:32:14.260Z"
   },
   {
    "duration": 23,
    "start_time": "2022-03-23T18:32:14.278Z"
   },
   {
    "duration": 49,
    "start_time": "2022-03-23T18:32:14.304Z"
   },
   {
    "duration": 13,
    "start_time": "2022-03-23T18:32:14.356Z"
   },
   {
    "duration": 29,
    "start_time": "2022-03-23T18:32:14.371Z"
   },
   {
    "duration": 25,
    "start_time": "2022-03-23T18:32:14.404Z"
   },
   {
    "duration": 11,
    "start_time": "2022-03-23T18:32:14.431Z"
   },
   {
    "duration": 23,
    "start_time": "2022-03-23T18:32:14.444Z"
   },
   {
    "duration": 15,
    "start_time": "2022-03-23T18:32:14.469Z"
   },
   {
    "duration": 12,
    "start_time": "2022-03-23T18:32:14.486Z"
   },
   {
    "duration": 7,
    "start_time": "2022-03-23T18:32:14.500Z"
   },
   {
    "duration": 18,
    "start_time": "2022-03-23T18:32:14.509Z"
   },
   {
    "duration": 17,
    "start_time": "2022-03-23T18:32:14.568Z"
   },
   {
    "duration": 7,
    "start_time": "2022-03-23T18:32:14.588Z"
   },
   {
    "duration": 29,
    "start_time": "2022-03-23T18:32:14.597Z"
   },
   {
    "duration": 54,
    "start_time": "2022-03-23T18:32:14.668Z"
   },
   {
    "duration": 7,
    "start_time": "2022-03-23T18:32:14.725Z"
   },
   {
    "duration": 68,
    "start_time": "2022-03-23T18:32:14.736Z"
   },
   {
    "duration": 22,
    "start_time": "2022-03-23T18:32:14.807Z"
   },
   {
    "duration": 58,
    "start_time": "2022-03-23T18:32:14.832Z"
   },
   {
    "duration": 7,
    "start_time": "2022-03-23T18:32:14.892Z"
   },
   {
    "duration": 65,
    "start_time": "2022-03-23T18:32:14.902Z"
   },
   {
    "duration": 19,
    "start_time": "2022-03-23T18:32:14.969Z"
   },
   {
    "duration": 36,
    "start_time": "2022-03-23T18:32:14.995Z"
   },
   {
    "duration": 37,
    "start_time": "2022-03-23T18:32:15.033Z"
   },
   {
    "duration": 19,
    "start_time": "2022-03-23T18:32:15.072Z"
   },
   {
    "duration": 9,
    "start_time": "2022-03-23T18:32:15.093Z"
   },
   {
    "duration": 20,
    "start_time": "2022-03-23T18:32:15.104Z"
   },
   {
    "duration": 42,
    "start_time": "2022-03-23T18:32:15.126Z"
   },
   {
    "duration": 14,
    "start_time": "2022-03-23T18:32:15.170Z"
   },
   {
    "duration": 4,
    "start_time": "2022-03-23T18:32:15.187Z"
   },
   {
    "duration": 7,
    "start_time": "2022-03-23T18:32:15.194Z"
   },
   {
    "duration": 7,
    "start_time": "2022-03-23T18:32:15.203Z"
   },
   {
    "duration": 9,
    "start_time": "2022-03-23T18:32:15.212Z"
   },
   {
    "duration": 57,
    "start_time": "2022-03-23T18:32:15.223Z"
   },
   {
    "duration": 10,
    "start_time": "2022-03-23T18:32:15.282Z"
   },
   {
    "duration": 11,
    "start_time": "2022-03-23T18:32:15.294Z"
   },
   {
    "duration": 11,
    "start_time": "2022-03-23T18:32:15.307Z"
   },
   {
    "duration": 49,
    "start_time": "2022-03-23T18:32:15.321Z"
   },
   {
    "duration": 8,
    "start_time": "2022-03-23T18:32:15.372Z"
   },
   {
    "duration": 10,
    "start_time": "2022-03-23T18:32:15.382Z"
   },
   {
    "duration": 34,
    "start_time": "2022-03-23T18:32:15.394Z"
   },
   {
    "duration": 45,
    "start_time": "2022-03-23T18:32:15.431Z"
   },
   {
    "duration": 40,
    "start_time": "2022-03-23T18:32:15.478Z"
   },
   {
    "duration": 11,
    "start_time": "2022-03-23T18:32:15.520Z"
   },
   {
    "duration": 34,
    "start_time": "2022-03-23T18:32:15.533Z"
   },
   {
    "duration": 10,
    "start_time": "2022-03-23T18:32:15.569Z"
   },
   {
    "duration": 24,
    "start_time": "2022-03-23T18:32:15.581Z"
   },
   {
    "duration": 14,
    "start_time": "2022-03-23T18:32:15.607Z"
   },
   {
    "duration": 70,
    "start_time": "2022-03-23T18:32:15.623Z"
   },
   {
    "duration": 12,
    "start_time": "2022-03-23T18:32:15.696Z"
   },
   {
    "duration": 4,
    "start_time": "2022-03-23T18:32:15.710Z"
   },
   {
    "duration": 13,
    "start_time": "2022-03-23T18:32:15.716Z"
   },
   {
    "duration": 46,
    "start_time": "2022-03-23T18:32:15.731Z"
   },
   {
    "duration": 11,
    "start_time": "2022-03-23T18:32:15.779Z"
   },
   {
    "duration": 28,
    "start_time": "2022-03-23T18:32:15.793Z"
   },
   {
    "duration": 45,
    "start_time": "2022-03-23T18:32:15.824Z"
   },
   {
    "duration": 4,
    "start_time": "2022-03-23T18:32:15.873Z"
   },
   {
    "duration": 10,
    "start_time": "2022-03-23T18:32:15.879Z"
   },
   {
    "duration": 12,
    "start_time": "2022-03-23T18:32:15.891Z"
   },
   {
    "duration": 9,
    "start_time": "2022-03-23T18:32:15.905Z"
   },
   {
    "duration": 5,
    "start_time": "2022-03-23T18:32:15.916Z"
   },
   {
    "duration": 10,
    "start_time": "2022-03-23T18:32:15.967Z"
   },
   {
    "duration": 13,
    "start_time": "2022-03-23T18:32:15.979Z"
   },
   {
    "duration": 5,
    "start_time": "2022-03-23T18:32:15.994Z"
   },
   {
    "duration": 17,
    "start_time": "2022-03-23T18:32:16.001Z"
   },
   {
    "duration": 10,
    "start_time": "2022-03-23T18:32:16.020Z"
   },
   {
    "duration": 17,
    "start_time": "2022-03-23T18:32:16.068Z"
   },
   {
    "duration": 10,
    "start_time": "2022-03-23T18:32:16.087Z"
   },
   {
    "duration": 6,
    "start_time": "2022-03-23T18:32:16.099Z"
   },
   {
    "duration": 9,
    "start_time": "2022-03-23T18:32:16.107Z"
   },
   {
    "duration": 52,
    "start_time": "2022-03-23T18:32:16.118Z"
   },
   {
    "duration": 180,
    "start_time": "2022-03-23T18:32:16.173Z"
   },
   {
    "duration": 22,
    "start_time": "2022-03-23T18:32:16.356Z"
   },
   {
    "duration": 6,
    "start_time": "2022-03-23T18:32:16.380Z"
   },
   {
    "duration": 17,
    "start_time": "2022-03-23T18:32:16.388Z"
   },
   {
    "duration": 6,
    "start_time": "2022-03-23T18:32:16.407Z"
   },
   {
    "duration": 14,
    "start_time": "2022-03-23T18:32:16.422Z"
   },
   {
    "duration": 25,
    "start_time": "2022-03-23T18:32:16.468Z"
   },
   {
    "duration": 24,
    "start_time": "2022-03-23T18:32:16.495Z"
   },
   {
    "duration": 8,
    "start_time": "2022-03-23T18:32:16.521Z"
   },
   {
    "duration": 47,
    "start_time": "2022-03-23T18:32:16.531Z"
   },
   {
    "duration": 328,
    "start_time": "2022-03-23T18:32:16.580Z"
   },
   {
    "duration": 310,
    "start_time": "2022-03-23T18:32:16.911Z"
   },
   {
    "duration": 299,
    "start_time": "2022-03-23T18:32:17.223Z"
   },
   {
    "duration": 10,
    "start_time": "2022-03-23T18:32:17.524Z"
   },
   {
    "duration": 9,
    "start_time": "2022-03-23T18:32:17.536Z"
   },
   {
    "duration": 6,
    "start_time": "2022-03-23T18:32:17.567Z"
   },
   {
    "duration": 18,
    "start_time": "2022-03-23T18:32:17.575Z"
   },
   {
    "duration": 6,
    "start_time": "2022-03-23T18:32:17.595Z"
   },
   {
    "duration": 20,
    "start_time": "2022-03-23T18:32:17.603Z"
   },
   {
    "duration": 42,
    "start_time": "2022-03-23T18:32:17.625Z"
   },
   {
    "duration": 13,
    "start_time": "2022-03-23T18:32:24.637Z"
   },
   {
    "duration": 1416,
    "start_time": "2022-03-23T18:32:32.895Z"
   },
   {
    "duration": 5,
    "start_time": "2022-03-23T18:32:34.314Z"
   },
   {
    "duration": 478,
    "start_time": "2022-03-23T18:32:34.322Z"
   },
   {
    "duration": 36,
    "start_time": "2022-03-23T18:32:34.803Z"
   },
   {
    "duration": 18,
    "start_time": "2022-03-23T18:32:34.841Z"
   },
   {
    "duration": 7,
    "start_time": "2022-03-23T18:32:34.868Z"
   },
   {
    "duration": 34,
    "start_time": "2022-03-23T18:32:34.878Z"
   },
   {
    "duration": 13,
    "start_time": "2022-03-23T18:32:34.914Z"
   },
   {
    "duration": 44,
    "start_time": "2022-03-23T18:32:34.929Z"
   },
   {
    "duration": 36,
    "start_time": "2022-03-23T18:32:34.979Z"
   },
   {
    "duration": 11,
    "start_time": "2022-03-23T18:32:35.017Z"
   },
   {
    "duration": 7,
    "start_time": "2022-03-23T18:32:35.030Z"
   },
   {
    "duration": 42,
    "start_time": "2022-03-23T18:32:35.039Z"
   },
   {
    "duration": 14,
    "start_time": "2022-03-23T18:32:35.084Z"
   },
   {
    "duration": 10,
    "start_time": "2022-03-23T18:32:35.100Z"
   },
   {
    "duration": 18,
    "start_time": "2022-03-23T18:32:35.112Z"
   },
   {
    "duration": 16,
    "start_time": "2022-03-23T18:32:35.168Z"
   },
   {
    "duration": 9,
    "start_time": "2022-03-23T18:32:35.186Z"
   },
   {
    "duration": 31,
    "start_time": "2022-03-23T18:32:35.197Z"
   },
   {
    "duration": 73,
    "start_time": "2022-03-23T18:32:35.231Z"
   },
   {
    "duration": 7,
    "start_time": "2022-03-23T18:32:35.306Z"
   },
   {
    "duration": 59,
    "start_time": "2022-03-23T18:32:35.315Z"
   },
   {
    "duration": 22,
    "start_time": "2022-03-23T18:32:35.376Z"
   },
   {
    "duration": 34,
    "start_time": "2022-03-23T18:32:35.400Z"
   },
   {
    "duration": 7,
    "start_time": "2022-03-23T18:32:35.436Z"
   },
   {
    "duration": 51,
    "start_time": "2022-03-23T18:32:35.469Z"
   },
   {
    "duration": 54,
    "start_time": "2022-03-23T18:32:35.522Z"
   },
   {
    "duration": 28,
    "start_time": "2022-03-23T18:32:35.584Z"
   },
   {
    "duration": 7,
    "start_time": "2022-03-23T18:32:35.614Z"
   },
   {
    "duration": 57,
    "start_time": "2022-03-23T18:32:35.624Z"
   },
   {
    "duration": 9,
    "start_time": "2022-03-23T18:32:35.684Z"
   },
   {
    "duration": 14,
    "start_time": "2022-03-23T18:32:35.696Z"
   },
   {
    "duration": 10,
    "start_time": "2022-03-23T18:32:35.712Z"
   },
   {
    "duration": 48,
    "start_time": "2022-03-23T18:32:35.724Z"
   },
   {
    "duration": 5,
    "start_time": "2022-03-23T18:32:35.774Z"
   },
   {
    "duration": 8,
    "start_time": "2022-03-23T18:32:35.781Z"
   },
   {
    "duration": 10,
    "start_time": "2022-03-23T18:32:35.791Z"
   },
   {
    "duration": 9,
    "start_time": "2022-03-23T18:32:35.803Z"
   },
   {
    "duration": 60,
    "start_time": "2022-03-23T18:32:35.814Z"
   },
   {
    "duration": 11,
    "start_time": "2022-03-23T18:32:35.876Z"
   },
   {
    "duration": 7,
    "start_time": "2022-03-23T18:32:35.889Z"
   },
   {
    "duration": 10,
    "start_time": "2022-03-23T18:32:35.898Z"
   },
   {
    "duration": 11,
    "start_time": "2022-03-23T18:32:35.910Z"
   },
   {
    "duration": 48,
    "start_time": "2022-03-23T18:32:35.923Z"
   },
   {
    "duration": 12,
    "start_time": "2022-03-23T18:32:35.974Z"
   },
   {
    "duration": 33,
    "start_time": "2022-03-23T18:32:35.988Z"
   },
   {
    "duration": 14,
    "start_time": "2022-03-23T18:32:36.023Z"
   },
   {
    "duration": 41,
    "start_time": "2022-03-23T18:32:36.067Z"
   },
   {
    "duration": 11,
    "start_time": "2022-03-23T18:32:36.111Z"
   },
   {
    "duration": 8,
    "start_time": "2022-03-23T18:32:36.124Z"
   },
   {
    "duration": 32,
    "start_time": "2022-03-23T18:32:36.134Z"
   },
   {
    "duration": 24,
    "start_time": "2022-03-23T18:32:36.168Z"
   },
   {
    "duration": 12,
    "start_time": "2022-03-23T18:32:36.194Z"
   },
   {
    "duration": 64,
    "start_time": "2022-03-23T18:32:36.208Z"
   },
   {
    "duration": 14,
    "start_time": "2022-03-23T18:32:36.275Z"
   },
   {
    "duration": 5,
    "start_time": "2022-03-23T18:32:36.291Z"
   },
   {
    "duration": 13,
    "start_time": "2022-03-23T18:32:36.298Z"
   },
   {
    "duration": 54,
    "start_time": "2022-03-23T18:32:36.313Z"
   },
   {
    "duration": 14,
    "start_time": "2022-03-23T18:32:36.371Z"
   },
   {
    "duration": 28,
    "start_time": "2022-03-23T18:32:36.388Z"
   },
   {
    "duration": 11,
    "start_time": "2022-03-23T18:32:36.418Z"
   },
   {
    "duration": 36,
    "start_time": "2022-03-23T18:32:36.432Z"
   },
   {
    "duration": 13,
    "start_time": "2022-03-23T18:32:36.471Z"
   },
   {
    "duration": 14,
    "start_time": "2022-03-23T18:32:36.486Z"
   },
   {
    "duration": 11,
    "start_time": "2022-03-23T18:32:36.503Z"
   },
   {
    "duration": 5,
    "start_time": "2022-03-23T18:32:36.516Z"
   },
   {
    "duration": 51,
    "start_time": "2022-03-23T18:32:36.524Z"
   },
   {
    "duration": 18,
    "start_time": "2022-03-23T18:32:36.578Z"
   },
   {
    "duration": 6,
    "start_time": "2022-03-23T18:32:36.599Z"
   },
   {
    "duration": 18,
    "start_time": "2022-03-23T18:32:36.607Z"
   },
   {
    "duration": 39,
    "start_time": "2022-03-23T18:32:36.628Z"
   },
   {
    "duration": 16,
    "start_time": "2022-03-23T18:32:36.670Z"
   },
   {
    "duration": 10,
    "start_time": "2022-03-23T18:32:36.688Z"
   },
   {
    "duration": 4,
    "start_time": "2022-03-23T18:32:36.701Z"
   },
   {
    "duration": 9,
    "start_time": "2022-03-23T18:32:36.707Z"
   },
   {
    "duration": 50,
    "start_time": "2022-03-23T18:32:36.719Z"
   },
   {
    "duration": 210,
    "start_time": "2022-03-23T18:32:36.772Z"
   },
   {
    "duration": 20,
    "start_time": "2022-03-23T18:32:36.984Z"
   },
   {
    "duration": 9,
    "start_time": "2022-03-23T18:32:37.006Z"
   },
   {
    "duration": 19,
    "start_time": "2022-03-23T18:32:37.017Z"
   },
   {
    "duration": 32,
    "start_time": "2022-03-23T18:32:37.039Z"
   },
   {
    "duration": 17,
    "start_time": "2022-03-23T18:32:37.079Z"
   },
   {
    "duration": 25,
    "start_time": "2022-03-23T18:32:37.099Z"
   },
   {
    "duration": 62,
    "start_time": "2022-03-23T18:32:37.127Z"
   },
   {
    "duration": 15,
    "start_time": "2022-03-23T18:32:37.192Z"
   },
   {
    "duration": 12,
    "start_time": "2022-03-23T18:32:37.210Z"
   },
   {
    "duration": 420,
    "start_time": "2022-03-23T18:32:37.224Z"
   },
   {
    "duration": 340,
    "start_time": "2022-03-23T18:32:37.646Z"
   },
   {
    "duration": 347,
    "start_time": "2022-03-23T18:32:37.989Z"
   },
   {
    "duration": 14,
    "start_time": "2022-03-23T18:32:38.339Z"
   },
   {
    "duration": 9,
    "start_time": "2022-03-23T18:32:38.368Z"
   },
   {
    "duration": 18,
    "start_time": "2022-03-23T18:32:38.380Z"
   },
   {
    "duration": 19,
    "start_time": "2022-03-23T18:32:38.400Z"
   },
   {
    "duration": 14,
    "start_time": "2022-03-23T18:32:38.421Z"
   },
   {
    "duration": 58,
    "start_time": "2022-03-23T18:32:38.437Z"
   },
   {
    "duration": 11,
    "start_time": "2022-03-23T18:32:38.497Z"
   },
   {
    "duration": 4,
    "start_time": "2022-03-23T18:32:59.287Z"
   },
   {
    "duration": 6,
    "start_time": "2022-03-23T18:33:02.417Z"
   },
   {
    "duration": 5,
    "start_time": "2022-03-23T18:33:17.450Z"
   },
   {
    "duration": 6,
    "start_time": "2022-03-23T18:33:47.870Z"
   },
   {
    "duration": 9,
    "start_time": "2022-03-23T18:55:42.477Z"
   },
   {
    "duration": 9,
    "start_time": "2022-03-23T18:56:59.517Z"
   },
   {
    "duration": 12,
    "start_time": "2022-03-23T18:57:14.668Z"
   },
   {
    "duration": 9,
    "start_time": "2022-03-23T18:58:09.874Z"
   },
   {
    "duration": 1440,
    "start_time": "2022-03-23T18:58:25.587Z"
   },
   {
    "duration": 4,
    "start_time": "2022-03-23T18:58:27.031Z"
   },
   {
    "duration": 493,
    "start_time": "2022-03-23T18:58:27.038Z"
   },
   {
    "duration": 33,
    "start_time": "2022-03-23T18:58:27.535Z"
   },
   {
    "duration": 19,
    "start_time": "2022-03-23T18:58:27.571Z"
   },
   {
    "duration": 5,
    "start_time": "2022-03-23T18:58:27.592Z"
   },
   {
    "duration": 29,
    "start_time": "2022-03-23T18:58:27.599Z"
   },
   {
    "duration": 47,
    "start_time": "2022-03-23T18:58:27.630Z"
   },
   {
    "duration": 6,
    "start_time": "2022-03-23T18:58:27.680Z"
   },
   {
    "duration": 24,
    "start_time": "2022-03-23T18:58:27.690Z"
   },
   {
    "duration": 11,
    "start_time": "2022-03-23T18:58:27.716Z"
   },
   {
    "duration": 6,
    "start_time": "2022-03-23T18:58:27.767Z"
   },
   {
    "duration": 14,
    "start_time": "2022-03-23T18:58:27.775Z"
   },
   {
    "duration": 13,
    "start_time": "2022-03-23T18:58:27.791Z"
   },
   {
    "duration": 6,
    "start_time": "2022-03-23T18:58:27.806Z"
   },
   {
    "duration": 56,
    "start_time": "2022-03-23T18:58:27.814Z"
   },
   {
    "duration": 20,
    "start_time": "2022-03-23T18:58:27.872Z"
   },
   {
    "duration": 8,
    "start_time": "2022-03-23T18:58:27.894Z"
   },
   {
    "duration": 33,
    "start_time": "2022-03-23T18:58:27.905Z"
   },
   {
    "duration": 63,
    "start_time": "2022-03-23T18:58:27.940Z"
   },
   {
    "duration": 8,
    "start_time": "2022-03-23T18:58:28.005Z"
   },
   {
    "duration": 65,
    "start_time": "2022-03-23T18:58:28.015Z"
   },
   {
    "duration": 22,
    "start_time": "2022-03-23T18:58:28.082Z"
   },
   {
    "duration": 33,
    "start_time": "2022-03-23T18:58:28.107Z"
   },
   {
    "duration": 31,
    "start_time": "2022-03-23T18:58:28.142Z"
   },
   {
    "duration": 35,
    "start_time": "2022-03-23T18:58:28.175Z"
   },
   {
    "duration": 20,
    "start_time": "2022-03-23T18:58:28.212Z"
   },
   {
    "duration": 27,
    "start_time": "2022-03-23T18:58:28.271Z"
   },
   {
    "duration": 6,
    "start_time": "2022-03-23T18:58:28.300Z"
   },
   {
    "duration": 17,
    "start_time": "2022-03-23T18:58:28.309Z"
   },
   {
    "duration": 8,
    "start_time": "2022-03-23T18:58:28.328Z"
   },
   {
    "duration": 11,
    "start_time": "2022-03-23T18:58:28.367Z"
   },
   {
    "duration": 11,
    "start_time": "2022-03-23T18:58:28.381Z"
   },
   {
    "duration": 13,
    "start_time": "2022-03-23T18:58:28.395Z"
   },
   {
    "duration": 4,
    "start_time": "2022-03-23T18:58:28.411Z"
   },
   {
    "duration": 52,
    "start_time": "2022-03-23T18:58:28.417Z"
   },
   {
    "duration": 8,
    "start_time": "2022-03-23T18:58:28.471Z"
   },
   {
    "duration": 11,
    "start_time": "2022-03-23T18:58:28.482Z"
   },
   {
    "duration": 19,
    "start_time": "2022-03-23T18:58:28.495Z"
   },
   {
    "duration": 10,
    "start_time": "2022-03-23T18:58:28.516Z"
   },
   {
    "duration": 44,
    "start_time": "2022-03-23T18:58:28.528Z"
   },
   {
    "duration": 11,
    "start_time": "2022-03-23T18:58:28.574Z"
   },
   {
    "duration": 12,
    "start_time": "2022-03-23T18:58:28.587Z"
   },
   {
    "duration": 6,
    "start_time": "2022-03-23T18:58:28.601Z"
   },
   {
    "duration": 10,
    "start_time": "2022-03-23T18:58:28.609Z"
   },
   {
    "duration": 72,
    "start_time": "2022-03-23T18:58:28.621Z"
   },
   {
    "duration": 12,
    "start_time": "2022-03-23T18:58:28.695Z"
   },
   {
    "duration": 69,
    "start_time": "2022-03-23T18:58:28.709Z"
   },
   {
    "duration": 11,
    "start_time": "2022-03-23T18:58:28.780Z"
   },
   {
    "duration": 5,
    "start_time": "2022-03-23T18:58:28.794Z"
   },
   {
    "duration": 10,
    "start_time": "2022-03-23T18:58:28.801Z"
   },
   {
    "duration": 55,
    "start_time": "2022-03-23T18:58:28.813Z"
   },
   {
    "duration": 13,
    "start_time": "2022-03-23T18:58:28.870Z"
   },
   {
    "duration": 38,
    "start_time": "2022-03-23T18:58:28.885Z"
   },
   {
    "duration": 11,
    "start_time": "2022-03-23T18:58:28.925Z"
   },
   {
    "duration": 31,
    "start_time": "2022-03-23T18:58:28.938Z"
   },
   {
    "duration": 12,
    "start_time": "2022-03-23T18:58:28.971Z"
   },
   {
    "duration": 25,
    "start_time": "2022-03-23T18:58:28.985Z"
   },
   {
    "duration": 11,
    "start_time": "2022-03-23T18:58:29.012Z"
   },
   {
    "duration": 59,
    "start_time": "2022-03-23T18:58:29.025Z"
   },
   {
    "duration": 11,
    "start_time": "2022-03-23T18:58:29.086Z"
   },
   {
    "duration": 5,
    "start_time": "2022-03-23T18:58:29.099Z"
   },
   {
    "duration": 10,
    "start_time": "2022-03-23T18:58:29.106Z"
   },
   {
    "duration": 12,
    "start_time": "2022-03-23T18:58:29.118Z"
   },
   {
    "duration": 41,
    "start_time": "2022-03-23T18:58:29.132Z"
   },
   {
    "duration": 5,
    "start_time": "2022-03-23T18:58:29.175Z"
   },
   {
    "duration": 9,
    "start_time": "2022-03-23T18:58:29.183Z"
   },
   {
    "duration": 14,
    "start_time": "2022-03-23T18:58:29.194Z"
   },
   {
    "duration": 5,
    "start_time": "2022-03-23T18:58:29.211Z"
   },
   {
    "duration": 54,
    "start_time": "2022-03-23T18:58:29.219Z"
   },
   {
    "duration": 10,
    "start_time": "2022-03-23T18:58:29.276Z"
   },
   {
    "duration": 17,
    "start_time": "2022-03-23T18:58:29.289Z"
   },
   {
    "duration": 9,
    "start_time": "2022-03-23T18:58:29.308Z"
   },
   {
    "duration": 48,
    "start_time": "2022-03-23T18:58:29.319Z"
   },
   {
    "duration": 9,
    "start_time": "2022-03-23T18:58:29.369Z"
   },
   {
    "duration": 13,
    "start_time": "2022-03-23T18:58:29.380Z"
   },
   {
    "duration": 186,
    "start_time": "2022-03-23T18:58:29.395Z"
   },
   {
    "duration": 18,
    "start_time": "2022-03-23T18:58:29.584Z"
   },
   {
    "duration": 6,
    "start_time": "2022-03-23T18:58:29.605Z"
   },
   {
    "duration": 16,
    "start_time": "2022-03-23T18:58:29.613Z"
   },
   {
    "duration": 38,
    "start_time": "2022-03-23T18:58:29.631Z"
   },
   {
    "duration": 17,
    "start_time": "2022-03-23T18:58:29.679Z"
   },
   {
    "duration": 26,
    "start_time": "2022-03-23T18:58:29.699Z"
   },
   {
    "duration": 69,
    "start_time": "2022-03-23T18:58:29.728Z"
   },
   {
    "duration": 10,
    "start_time": "2022-03-23T18:58:29.800Z"
   },
   {
    "duration": 10,
    "start_time": "2022-03-23T18:58:29.813Z"
   },
   {
    "duration": 340,
    "start_time": "2022-03-23T18:58:29.825Z"
   },
   {
    "duration": 317,
    "start_time": "2022-03-23T18:58:30.168Z"
   },
   {
    "duration": 311,
    "start_time": "2022-03-23T18:58:30.487Z"
   },
   {
    "duration": 9,
    "start_time": "2022-03-23T18:58:30.801Z"
   },
   {
    "duration": 11,
    "start_time": "2022-03-23T18:58:30.812Z"
   },
   {
    "duration": 13,
    "start_time": "2022-03-23T18:58:30.825Z"
   },
   {
    "duration": 43,
    "start_time": "2022-03-23T18:58:30.840Z"
   },
   {
    "duration": 11,
    "start_time": "2022-03-23T18:58:30.885Z"
   },
   {
    "duration": 30,
    "start_time": "2022-03-23T18:58:30.898Z"
   },
   {
    "duration": 8,
    "start_time": "2022-03-23T18:58:30.931Z"
   },
   {
    "duration": 10,
    "start_time": "2022-03-23T19:01:51.486Z"
   },
   {
    "duration": 13,
    "start_time": "2022-03-23T19:04:56.393Z"
   },
   {
    "duration": 93,
    "start_time": "2022-03-23T19:05:08.669Z"
   },
   {
    "duration": 14,
    "start_time": "2022-03-23T19:05:46.349Z"
   },
   {
    "duration": 14,
    "start_time": "2022-03-23T19:06:19.840Z"
   },
   {
    "duration": 12,
    "start_time": "2022-03-23T19:06:35.796Z"
   },
   {
    "duration": 12,
    "start_time": "2022-03-23T19:06:51.429Z"
   },
   {
    "duration": 12,
    "start_time": "2022-03-23T19:07:24.203Z"
   },
   {
    "duration": 156,
    "start_time": "2022-03-23T19:12:50.369Z"
   },
   {
    "duration": 12,
    "start_time": "2022-03-23T19:13:12.074Z"
   },
   {
    "duration": 18,
    "start_time": "2022-03-23T19:13:41.253Z"
   },
   {
    "duration": 13,
    "start_time": "2022-03-23T19:13:49.934Z"
   },
   {
    "duration": 14,
    "start_time": "2022-03-23T19:14:17.232Z"
   },
   {
    "duration": 14,
    "start_time": "2022-03-23T19:15:23.692Z"
   },
   {
    "duration": 14,
    "start_time": "2022-03-23T19:16:40.135Z"
   },
   {
    "duration": 15,
    "start_time": "2022-03-23T19:17:43.335Z"
   },
   {
    "duration": 20,
    "start_time": "2022-03-23T19:18:39.756Z"
   },
   {
    "duration": 15,
    "start_time": "2022-03-23T19:19:49.326Z"
   },
   {
    "duration": 17,
    "start_time": "2022-03-23T19:22:47.187Z"
   },
   {
    "duration": 17,
    "start_time": "2022-03-23T19:23:00.617Z"
   },
   {
    "duration": 16,
    "start_time": "2022-03-23T19:24:22.194Z"
   },
   {
    "duration": 15,
    "start_time": "2022-03-23T19:24:41.680Z"
   },
   {
    "duration": 16,
    "start_time": "2022-03-23T19:25:10.392Z"
   },
   {
    "duration": 20,
    "start_time": "2022-03-23T19:25:41.797Z"
   },
   {
    "duration": 1991,
    "start_time": "2022-03-23T19:40:07.199Z"
   },
   {
    "duration": 3,
    "start_time": "2022-03-23T19:40:09.194Z"
   },
   {
    "duration": 648,
    "start_time": "2022-03-23T19:40:09.199Z"
   },
   {
    "duration": 33,
    "start_time": "2022-03-23T19:40:09.850Z"
   },
   {
    "duration": 16,
    "start_time": "2022-03-23T19:40:09.887Z"
   },
   {
    "duration": 11,
    "start_time": "2022-03-23T19:40:09.906Z"
   },
   {
    "duration": 53,
    "start_time": "2022-03-23T19:40:09.919Z"
   },
   {
    "duration": 13,
    "start_time": "2022-03-23T19:40:09.974Z"
   },
   {
    "duration": 5,
    "start_time": "2022-03-23T19:40:09.992Z"
   },
   {
    "duration": 30,
    "start_time": "2022-03-23T19:40:10.000Z"
   },
   {
    "duration": 11,
    "start_time": "2022-03-23T19:40:10.069Z"
   },
   {
    "duration": 9,
    "start_time": "2022-03-23T19:40:10.083Z"
   },
   {
    "duration": 17,
    "start_time": "2022-03-23T19:40:10.094Z"
   },
   {
    "duration": 11,
    "start_time": "2022-03-23T19:40:10.116Z"
   },
   {
    "duration": 6,
    "start_time": "2022-03-23T19:40:10.168Z"
   },
   {
    "duration": 16,
    "start_time": "2022-03-23T19:40:10.176Z"
   },
   {
    "duration": 23,
    "start_time": "2022-03-23T19:40:10.194Z"
   },
   {
    "duration": 49,
    "start_time": "2022-03-23T19:40:10.221Z"
   },
   {
    "duration": 34,
    "start_time": "2022-03-23T19:40:10.272Z"
   },
   {
    "duration": 75,
    "start_time": "2022-03-23T19:40:10.309Z"
   },
   {
    "duration": 8,
    "start_time": "2022-03-23T19:40:10.387Z"
   },
   {
    "duration": 42,
    "start_time": "2022-03-23T19:40:10.397Z"
   },
   {
    "duration": 46,
    "start_time": "2022-03-23T19:40:10.441Z"
   },
   {
    "duration": 36,
    "start_time": "2022-03-23T19:40:10.490Z"
   },
   {
    "duration": 7,
    "start_time": "2022-03-23T19:40:10.529Z"
   },
   {
    "duration": 38,
    "start_time": "2022-03-23T19:40:10.567Z"
   },
   {
    "duration": 21,
    "start_time": "2022-03-23T19:40:10.607Z"
   },
   {
    "duration": 55,
    "start_time": "2022-03-23T19:40:10.630Z"
   },
   {
    "duration": 7,
    "start_time": "2022-03-23T19:40:10.687Z"
   },
   {
    "duration": 23,
    "start_time": "2022-03-23T19:40:10.696Z"
   },
   {
    "duration": 8,
    "start_time": "2022-03-23T19:40:10.721Z"
   },
   {
    "duration": 43,
    "start_time": "2022-03-23T19:40:10.731Z"
   },
   {
    "duration": 10,
    "start_time": "2022-03-23T19:40:10.777Z"
   },
   {
    "duration": 13,
    "start_time": "2022-03-23T19:40:10.789Z"
   },
   {
    "duration": 6,
    "start_time": "2022-03-23T19:40:10.805Z"
   },
   {
    "duration": 9,
    "start_time": "2022-03-23T19:40:10.814Z"
   },
   {
    "duration": 48,
    "start_time": "2022-03-23T19:40:10.825Z"
   },
   {
    "duration": 14,
    "start_time": "2022-03-23T19:40:10.875Z"
   },
   {
    "duration": 19,
    "start_time": "2022-03-23T19:40:10.892Z"
   },
   {
    "duration": 9,
    "start_time": "2022-03-23T19:40:10.913Z"
   },
   {
    "duration": 42,
    "start_time": "2022-03-23T19:40:10.930Z"
   },
   {
    "duration": 10,
    "start_time": "2022-03-23T19:40:10.975Z"
   },
   {
    "duration": 20,
    "start_time": "2022-03-23T19:40:10.987Z"
   },
   {
    "duration": 21,
    "start_time": "2022-03-23T19:40:11.010Z"
   },
   {
    "duration": 33,
    "start_time": "2022-03-23T19:40:11.034Z"
   },
   {
    "duration": 32,
    "start_time": "2022-03-23T19:40:11.070Z"
   },
   {
    "duration": 12,
    "start_time": "2022-03-23T19:40:11.105Z"
   },
   {
    "duration": 79,
    "start_time": "2022-03-23T19:40:11.119Z"
   },
   {
    "duration": 18,
    "start_time": "2022-03-23T19:40:11.201Z"
   },
   {
    "duration": 5,
    "start_time": "2022-03-23T19:40:11.221Z"
   },
   {
    "duration": 12,
    "start_time": "2022-03-23T19:40:11.229Z"
   },
   {
    "duration": 23,
    "start_time": "2022-03-23T19:40:11.269Z"
   },
   {
    "duration": 12,
    "start_time": "2022-03-23T19:40:11.295Z"
   },
   {
    "duration": 78,
    "start_time": "2022-03-23T19:40:11.310Z"
   },
   {
    "duration": 17,
    "start_time": "2022-03-23T19:40:11.391Z"
   },
   {
    "duration": 6,
    "start_time": "2022-03-23T19:40:11.411Z"
   },
   {
    "duration": 14,
    "start_time": "2022-03-23T19:40:11.420Z"
   },
   {
    "duration": 50,
    "start_time": "2022-03-23T19:40:11.436Z"
   },
   {
    "duration": 11,
    "start_time": "2022-03-23T19:40:11.489Z"
   },
   {
    "duration": 30,
    "start_time": "2022-03-23T19:40:11.503Z"
   },
   {
    "duration": 41,
    "start_time": "2022-03-23T19:40:11.536Z"
   },
   {
    "duration": 5,
    "start_time": "2022-03-23T19:40:11.579Z"
   },
   {
    "duration": 10,
    "start_time": "2022-03-23T19:40:11.587Z"
   },
   {
    "duration": 14,
    "start_time": "2022-03-23T19:40:11.600Z"
   },
   {
    "duration": 54,
    "start_time": "2022-03-23T19:40:11.616Z"
   },
   {
    "duration": 4,
    "start_time": "2022-03-23T19:40:11.673Z"
   },
   {
    "duration": 21,
    "start_time": "2022-03-23T19:40:11.680Z"
   },
   {
    "duration": 13,
    "start_time": "2022-03-23T19:40:11.704Z"
   },
   {
    "duration": 7,
    "start_time": "2022-03-23T19:40:11.720Z"
   },
   {
    "duration": 54,
    "start_time": "2022-03-23T19:40:11.729Z"
   },
   {
    "duration": 12,
    "start_time": "2022-03-23T19:40:11.786Z"
   },
   {
    "duration": 17,
    "start_time": "2022-03-23T19:40:11.800Z"
   },
   {
    "duration": 12,
    "start_time": "2022-03-23T19:40:11.819Z"
   },
   {
    "duration": 8,
    "start_time": "2022-03-23T19:40:11.868Z"
   },
   {
    "duration": 12,
    "start_time": "2022-03-23T19:40:11.879Z"
   },
   {
    "duration": 17,
    "start_time": "2022-03-23T19:40:11.894Z"
   },
   {
    "duration": 353,
    "start_time": "2022-03-23T19:40:11.914Z"
   },
   {
    "duration": 29,
    "start_time": "2022-03-23T19:40:12.270Z"
   },
   {
    "duration": 6,
    "start_time": "2022-03-23T19:40:12.302Z"
   },
   {
    "duration": 25,
    "start_time": "2022-03-23T19:40:12.310Z"
   },
   {
    "duration": 30,
    "start_time": "2022-03-23T19:40:12.338Z"
   },
   {
    "duration": 16,
    "start_time": "2022-03-23T19:40:12.371Z"
   },
   {
    "duration": 24,
    "start_time": "2022-03-23T19:40:12.389Z"
   },
   {
    "duration": 57,
    "start_time": "2022-03-23T19:40:12.415Z"
   },
   {
    "duration": 10,
    "start_time": "2022-03-23T19:40:12.475Z"
   },
   {
    "duration": 12,
    "start_time": "2022-03-23T19:40:12.488Z"
   },
   {
    "duration": 375,
    "start_time": "2022-03-23T19:40:12.502Z"
   },
   {
    "duration": 344,
    "start_time": "2022-03-23T19:40:12.880Z"
   },
   {
    "duration": 336,
    "start_time": "2022-03-23T19:40:13.226Z"
   },
   {
    "duration": 8,
    "start_time": "2022-03-23T19:40:13.567Z"
   },
   {
    "duration": 8,
    "start_time": "2022-03-23T19:40:13.577Z"
   },
   {
    "duration": 18,
    "start_time": "2022-03-23T19:40:13.587Z"
   },
   {
    "duration": 7,
    "start_time": "2022-03-23T19:40:13.608Z"
   },
   {
    "duration": 66,
    "start_time": "2022-03-23T19:40:13.617Z"
   },
   {
    "duration": 13,
    "start_time": "2022-03-23T19:40:13.686Z"
   },
   {
    "duration": 42,
    "start_time": "2022-04-03T21:24:23.713Z"
   },
   {
    "duration": 1128,
    "start_time": "2022-04-03T21:24:29.912Z"
   },
   {
    "duration": 2,
    "start_time": "2022-04-03T21:24:31.042Z"
   },
   {
    "duration": 461,
    "start_time": "2022-04-03T21:24:31.046Z"
   },
   {
    "duration": 24,
    "start_time": "2022-04-03T21:24:31.509Z"
   },
   {
    "duration": 10,
    "start_time": "2022-04-03T21:24:31.534Z"
   },
   {
    "duration": 5,
    "start_time": "2022-04-03T21:24:31.545Z"
   },
   {
    "duration": 21,
    "start_time": "2022-04-03T21:24:31.551Z"
   },
   {
    "duration": 7,
    "start_time": "2022-04-03T21:24:31.574Z"
   },
   {
    "duration": 20,
    "start_time": "2022-04-03T21:24:31.582Z"
   },
   {
    "duration": 19,
    "start_time": "2022-04-03T21:24:31.604Z"
   },
   {
    "duration": 6,
    "start_time": "2022-04-03T21:24:31.625Z"
   },
   {
    "duration": 6,
    "start_time": "2022-04-03T21:24:31.633Z"
   },
   {
    "duration": 10,
    "start_time": "2022-04-03T21:24:31.640Z"
   },
   {
    "duration": 22,
    "start_time": "2022-04-03T21:24:31.651Z"
   },
   {
    "duration": 8,
    "start_time": "2022-04-03T21:24:31.674Z"
   },
   {
    "duration": 21,
    "start_time": "2022-04-03T21:24:31.685Z"
   },
   {
    "duration": 12,
    "start_time": "2022-04-03T21:24:31.708Z"
   },
   {
    "duration": 9,
    "start_time": "2022-04-03T21:24:31.722Z"
   },
   {
    "duration": 22,
    "start_time": "2022-04-03T21:24:31.732Z"
   },
   {
    "duration": 36,
    "start_time": "2022-04-03T21:24:31.755Z"
   },
   {
    "duration": 5,
    "start_time": "2022-04-03T21:24:31.793Z"
   },
   {
    "duration": 36,
    "start_time": "2022-04-03T21:24:31.800Z"
   },
   {
    "duration": 17,
    "start_time": "2022-04-03T21:24:31.837Z"
   },
   {
    "duration": 40,
    "start_time": "2022-04-03T21:24:31.855Z"
   },
   {
    "duration": 6,
    "start_time": "2022-04-03T21:24:31.896Z"
   },
   {
    "duration": 34,
    "start_time": "2022-04-03T21:24:31.904Z"
   },
   {
    "duration": 13,
    "start_time": "2022-04-03T21:24:31.939Z"
   },
   {
    "duration": 33,
    "start_time": "2022-04-03T21:24:31.956Z"
   },
   {
    "duration": 6,
    "start_time": "2022-04-03T21:24:31.991Z"
   },
   {
    "duration": 13,
    "start_time": "2022-04-03T21:24:31.999Z"
   },
   {
    "duration": 5,
    "start_time": "2022-04-03T21:24:32.013Z"
   },
   {
    "duration": 8,
    "start_time": "2022-04-03T21:24:32.019Z"
   },
   {
    "duration": 8,
    "start_time": "2022-04-03T21:24:32.029Z"
   },
   {
    "duration": 10,
    "start_time": "2022-04-03T21:24:32.038Z"
   },
   {
    "duration": 33,
    "start_time": "2022-04-03T21:24:32.049Z"
   },
   {
    "duration": 20,
    "start_time": "2022-04-03T21:24:32.085Z"
   },
   {
    "duration": 11,
    "start_time": "2022-04-03T21:24:32.106Z"
   },
   {
    "duration": 9,
    "start_time": "2022-04-03T21:24:32.118Z"
   },
   {
    "duration": 14,
    "start_time": "2022-04-03T21:24:32.129Z"
   },
   {
    "duration": 17,
    "start_time": "2022-04-03T21:24:32.144Z"
   },
   {
    "duration": 9,
    "start_time": "2022-04-03T21:24:32.163Z"
   },
   {
    "duration": 7,
    "start_time": "2022-04-03T21:24:32.174Z"
   },
   {
    "duration": 14,
    "start_time": "2022-04-03T21:24:32.183Z"
   },
   {
    "duration": 11,
    "start_time": "2022-04-03T21:24:32.199Z"
   },
   {
    "duration": 9,
    "start_time": "2022-04-03T21:24:32.212Z"
   },
   {
    "duration": 7,
    "start_time": "2022-04-03T21:24:32.223Z"
   },
   {
    "duration": 23,
    "start_time": "2022-04-03T21:24:32.232Z"
   },
   {
    "duration": 35,
    "start_time": "2022-04-03T21:24:32.256Z"
   },
   {
    "duration": 36,
    "start_time": "2022-04-03T21:24:32.296Z"
   },
   {
    "duration": 7,
    "start_time": "2022-04-03T21:24:32.333Z"
   },
   {
    "duration": 5,
    "start_time": "2022-04-03T21:24:32.342Z"
   },
   {
    "duration": 9,
    "start_time": "2022-04-03T21:24:32.348Z"
   },
   {
    "duration": 36,
    "start_time": "2022-04-03T21:24:32.358Z"
   },
   {
    "duration": 9,
    "start_time": "2022-04-03T21:24:32.395Z"
   },
   {
    "duration": 26,
    "start_time": "2022-04-03T21:24:32.406Z"
   },
   {
    "duration": 7,
    "start_time": "2022-04-03T21:24:32.434Z"
   },
   {
    "duration": 4,
    "start_time": "2022-04-03T21:24:32.443Z"
   },
   {
    "duration": 34,
    "start_time": "2022-04-03T21:24:32.448Z"
   },
   {
    "duration": 14,
    "start_time": "2022-04-03T21:24:32.483Z"
   },
   {
    "duration": 7,
    "start_time": "2022-04-03T21:24:32.498Z"
   },
   {
    "duration": 22,
    "start_time": "2022-04-03T21:24:32.507Z"
   },
   {
    "duration": 8,
    "start_time": "2022-04-03T21:24:32.531Z"
   },
   {
    "duration": 3,
    "start_time": "2022-04-03T21:24:32.541Z"
   },
   {
    "duration": 42,
    "start_time": "2022-04-03T21:24:32.546Z"
   },
   {
    "duration": 16,
    "start_time": "2022-04-03T21:24:32.590Z"
   },
   {
    "duration": 5,
    "start_time": "2022-04-03T21:24:32.608Z"
   },
   {
    "duration": 4,
    "start_time": "2022-04-03T21:24:32.615Z"
   },
   {
    "duration": 7,
    "start_time": "2022-04-03T21:24:32.620Z"
   },
   {
    "duration": 12,
    "start_time": "2022-04-03T21:24:32.629Z"
   },
   {
    "duration": 4,
    "start_time": "2022-04-03T21:24:32.642Z"
   },
   {
    "duration": 9,
    "start_time": "2022-04-03T21:24:32.647Z"
   },
   {
    "duration": 29,
    "start_time": "2022-04-03T21:24:32.658Z"
   },
   {
    "duration": 15,
    "start_time": "2022-04-03T21:24:32.690Z"
   },
   {
    "duration": 7,
    "start_time": "2022-04-03T21:24:32.706Z"
   },
   {
    "duration": 4,
    "start_time": "2022-04-03T21:24:32.715Z"
   },
   {
    "duration": 8,
    "start_time": "2022-04-03T21:24:32.720Z"
   },
   {
    "duration": 9,
    "start_time": "2022-04-03T21:24:32.729Z"
   },
   {
    "duration": 127,
    "start_time": "2022-04-03T21:24:32.739Z"
   },
   {
    "duration": 17,
    "start_time": "2022-04-03T21:24:32.867Z"
   },
   {
    "duration": 15,
    "start_time": "2022-04-03T21:24:32.888Z"
   },
   {
    "duration": 11,
    "start_time": "2022-04-03T21:24:32.905Z"
   },
   {
    "duration": 4,
    "start_time": "2022-04-03T21:24:32.921Z"
   },
   {
    "duration": 11,
    "start_time": "2022-04-03T21:24:32.926Z"
   },
   {
    "duration": 16,
    "start_time": "2022-04-03T21:24:32.938Z"
   },
   {
    "duration": 28,
    "start_time": "2022-04-03T21:24:32.956Z"
   },
   {
    "duration": 6,
    "start_time": "2022-04-03T21:24:32.986Z"
   },
   {
    "duration": 11,
    "start_time": "2022-04-03T21:24:32.994Z"
   },
   {
    "duration": 197,
    "start_time": "2022-04-03T21:24:33.006Z"
   },
   {
    "duration": 172,
    "start_time": "2022-04-03T21:24:33.205Z"
   },
   {
    "duration": 166,
    "start_time": "2022-04-03T21:24:33.380Z"
   },
   {
    "duration": 4,
    "start_time": "2022-04-03T21:24:33.548Z"
   },
   {
    "duration": 9,
    "start_time": "2022-04-03T21:24:33.554Z"
   },
   {
    "duration": 21,
    "start_time": "2022-04-03T21:24:33.564Z"
   },
   {
    "duration": 4,
    "start_time": "2022-04-03T21:24:33.587Z"
   },
   {
    "duration": 15,
    "start_time": "2022-04-03T21:24:33.594Z"
   },
   {
    "duration": 5,
    "start_time": "2022-04-03T21:24:33.610Z"
   },
   {
    "duration": 188,
    "start_time": "2022-04-03T21:38:47.693Z"
   },
   {
    "duration": 1076,
    "start_time": "2022-04-03T21:53:31.335Z"
   },
   {
    "duration": 3,
    "start_time": "2022-04-03T21:53:32.412Z"
   },
   {
    "duration": 399,
    "start_time": "2022-04-03T21:53:32.416Z"
   },
   {
    "duration": 23,
    "start_time": "2022-04-03T21:53:32.816Z"
   },
   {
    "duration": 10,
    "start_time": "2022-04-03T21:53:32.841Z"
   },
   {
    "duration": 4,
    "start_time": "2022-04-03T21:53:32.852Z"
   },
   {
    "duration": 19,
    "start_time": "2022-04-03T21:53:32.857Z"
   },
   {
    "duration": 7,
    "start_time": "2022-04-03T21:53:32.878Z"
   },
   {
    "duration": 5,
    "start_time": "2022-04-03T21:53:32.886Z"
   },
   {
    "duration": 16,
    "start_time": "2022-04-03T21:53:32.894Z"
   },
   {
    "duration": 6,
    "start_time": "2022-04-03T21:53:32.912Z"
   },
   {
    "duration": 5,
    "start_time": "2022-04-03T21:53:32.919Z"
   },
   {
    "duration": 13,
    "start_time": "2022-04-03T21:53:32.925Z"
   },
   {
    "duration": 8,
    "start_time": "2022-04-03T21:53:32.939Z"
   },
   {
    "duration": 5,
    "start_time": "2022-04-03T21:53:32.949Z"
   },
   {
    "duration": 34,
    "start_time": "2022-04-03T21:53:32.955Z"
   },
   {
    "duration": 11,
    "start_time": "2022-04-03T21:53:32.990Z"
   },
   {
    "duration": 6,
    "start_time": "2022-04-03T21:53:33.002Z"
   },
   {
    "duration": 22,
    "start_time": "2022-04-03T21:53:33.009Z"
   },
   {
    "duration": 49,
    "start_time": "2022-04-03T21:53:33.032Z"
   },
   {
    "duration": 4,
    "start_time": "2022-04-03T21:53:33.082Z"
   },
   {
    "duration": 27,
    "start_time": "2022-04-03T21:53:33.087Z"
   },
   {
    "duration": 15,
    "start_time": "2022-04-03T21:53:33.115Z"
   },
   {
    "duration": 32,
    "start_time": "2022-04-03T21:53:33.132Z"
   },
   {
    "duration": 4,
    "start_time": "2022-04-03T21:53:33.165Z"
   },
   {
    "duration": 34,
    "start_time": "2022-04-03T21:53:33.171Z"
   },
   {
    "duration": 13,
    "start_time": "2022-04-03T21:53:33.207Z"
   },
   {
    "duration": 19,
    "start_time": "2022-04-03T21:53:33.224Z"
   },
   {
    "duration": 5,
    "start_time": "2022-04-03T21:53:33.244Z"
   },
   {
    "duration": 39,
    "start_time": "2022-04-03T21:53:33.251Z"
   },
   {
    "duration": 5,
    "start_time": "2022-04-03T21:53:33.292Z"
   },
   {
    "duration": 9,
    "start_time": "2022-04-03T21:53:33.298Z"
   },
   {
    "duration": 6,
    "start_time": "2022-04-03T21:53:33.309Z"
   },
   {
    "duration": 9,
    "start_time": "2022-04-03T21:53:33.317Z"
   },
   {
    "duration": 3,
    "start_time": "2022-04-03T21:53:33.328Z"
   },
   {
    "duration": 8,
    "start_time": "2022-04-03T21:53:33.332Z"
   },
   {
    "duration": 10,
    "start_time": "2022-04-03T21:53:33.341Z"
   },
   {
    "duration": 31,
    "start_time": "2022-04-03T21:53:33.353Z"
   },
   {
    "duration": 16,
    "start_time": "2022-04-03T21:53:33.385Z"
   },
   {
    "duration": 6,
    "start_time": "2022-04-03T21:53:33.402Z"
   },
   {
    "duration": 5,
    "start_time": "2022-04-03T21:53:33.410Z"
   },
   {
    "duration": 8,
    "start_time": "2022-04-03T21:53:33.416Z"
   },
   {
    "duration": 8,
    "start_time": "2022-04-03T21:53:33.425Z"
   },
   {
    "duration": 6,
    "start_time": "2022-04-03T21:53:33.434Z"
   },
   {
    "duration": 7,
    "start_time": "2022-04-03T21:53:33.441Z"
   },
   {
    "duration": 47,
    "start_time": "2022-04-03T21:53:33.449Z"
   },
   {
    "duration": 7,
    "start_time": "2022-04-03T21:53:33.498Z"
   },
   {
    "duration": 29,
    "start_time": "2022-04-03T21:53:33.506Z"
   },
   {
    "duration": 8,
    "start_time": "2022-04-03T21:53:33.537Z"
   },
   {
    "duration": 7,
    "start_time": "2022-04-03T21:53:33.546Z"
   },
   {
    "duration": 30,
    "start_time": "2022-04-03T21:53:33.554Z"
   },
   {
    "duration": 17,
    "start_time": "2022-04-03T21:53:33.585Z"
   },
   {
    "duration": 8,
    "start_time": "2022-04-03T21:53:33.603Z"
   },
   {
    "duration": 25,
    "start_time": "2022-04-03T21:53:33.613Z"
   },
   {
    "duration": 7,
    "start_time": "2022-04-03T21:53:33.640Z"
   },
   {
    "duration": 2,
    "start_time": "2022-04-03T21:53:33.655Z"
   },
   {
    "duration": 8,
    "start_time": "2022-04-03T21:53:33.680Z"
   },
   {
    "duration": 16,
    "start_time": "2022-04-03T21:53:33.690Z"
   },
   {
    "duration": 7,
    "start_time": "2022-04-03T21:53:33.707Z"
   },
   {
    "duration": 21,
    "start_time": "2022-04-03T21:53:33.716Z"
   },
   {
    "duration": 7,
    "start_time": "2022-04-03T21:53:33.739Z"
   },
   {
    "duration": 4,
    "start_time": "2022-04-03T21:53:33.780Z"
   },
   {
    "duration": 10,
    "start_time": "2022-04-03T21:53:33.785Z"
   },
   {
    "duration": 8,
    "start_time": "2022-04-03T21:53:33.797Z"
   },
   {
    "duration": 7,
    "start_time": "2022-04-03T21:53:33.806Z"
   },
   {
    "duration": 3,
    "start_time": "2022-04-03T21:53:33.815Z"
   },
   {
    "duration": 9,
    "start_time": "2022-04-03T21:53:33.820Z"
   },
   {
    "duration": 9,
    "start_time": "2022-04-03T21:53:33.831Z"
   },
   {
    "duration": 40,
    "start_time": "2022-04-03T21:53:33.841Z"
   },
   {
    "duration": 10,
    "start_time": "2022-04-03T21:53:33.882Z"
   },
   {
    "duration": 7,
    "start_time": "2022-04-03T21:53:33.894Z"
   },
   {
    "duration": 9,
    "start_time": "2022-04-03T21:53:33.903Z"
   },
   {
    "duration": 7,
    "start_time": "2022-04-03T21:53:33.913Z"
   },
   {
    "duration": 4,
    "start_time": "2022-04-03T21:53:33.921Z"
   },
   {
    "duration": 6,
    "start_time": "2022-04-03T21:53:33.926Z"
   },
   {
    "duration": 7,
    "start_time": "2022-04-03T21:53:33.933Z"
   },
   {
    "duration": 119,
    "start_time": "2022-04-03T21:53:33.941Z"
   },
   {
    "duration": 11,
    "start_time": "2022-04-03T21:53:34.061Z"
   },
   {
    "duration": 3,
    "start_time": "2022-04-03T21:53:34.080Z"
   },
   {
    "duration": 10,
    "start_time": "2022-04-03T21:53:34.085Z"
   },
   {
    "duration": 5,
    "start_time": "2022-04-03T21:53:34.097Z"
   },
   {
    "duration": 9,
    "start_time": "2022-04-03T21:53:34.106Z"
   },
   {
    "duration": 15,
    "start_time": "2022-04-03T21:53:34.116Z"
   },
   {
    "duration": 14,
    "start_time": "2022-04-03T21:53:34.132Z"
   },
   {
    "duration": 34,
    "start_time": "2022-04-03T21:53:34.147Z"
   },
   {
    "duration": 5,
    "start_time": "2022-04-03T21:53:34.183Z"
   },
   {
    "duration": 181,
    "start_time": "2022-04-03T21:53:34.190Z"
   },
   {
    "duration": 167,
    "start_time": "2022-04-03T21:53:34.373Z"
   },
   {
    "duration": 160,
    "start_time": "2022-04-03T21:53:34.542Z"
   },
   {
    "duration": 6,
    "start_time": "2022-04-03T21:53:34.704Z"
   },
   {
    "duration": 5,
    "start_time": "2022-04-03T21:53:34.711Z"
   },
   {
    "duration": 10,
    "start_time": "2022-04-03T21:53:34.718Z"
   },
   {
    "duration": 4,
    "start_time": "2022-04-03T21:53:34.730Z"
   },
   {
    "duration": 10,
    "start_time": "2022-04-03T21:53:34.736Z"
   },
   {
    "duration": 5,
    "start_time": "2022-04-03T21:53:34.747Z"
   },
   {
    "duration": 47,
    "start_time": "2022-04-04T08:04:30.309Z"
   },
   {
    "duration": 1263,
    "start_time": "2022-04-04T08:04:42.028Z"
   },
   {
    "duration": 3,
    "start_time": "2022-04-04T08:04:43.293Z"
   },
   {
    "duration": 383,
    "start_time": "2022-04-04T08:04:43.300Z"
   },
   {
    "duration": 25,
    "start_time": "2022-04-04T08:04:43.685Z"
   },
   {
    "duration": 23,
    "start_time": "2022-04-04T08:04:43.712Z"
   },
   {
    "duration": 4,
    "start_time": "2022-04-04T08:04:43.737Z"
   },
   {
    "duration": 27,
    "start_time": "2022-04-04T08:04:43.742Z"
   },
   {
    "duration": 107,
    "start_time": "2022-04-04T08:04:43.771Z"
   },
   {
    "duration": 0,
    "start_time": "2022-04-04T08:04:43.883Z"
   },
   {
    "duration": 0,
    "start_time": "2022-04-04T08:04:43.884Z"
   },
   {
    "duration": 0,
    "start_time": "2022-04-04T08:04:43.885Z"
   },
   {
    "duration": 0,
    "start_time": "2022-04-04T08:04:43.886Z"
   },
   {
    "duration": 0,
    "start_time": "2022-04-04T08:04:43.887Z"
   },
   {
    "duration": 0,
    "start_time": "2022-04-04T08:04:43.888Z"
   },
   {
    "duration": 0,
    "start_time": "2022-04-04T08:04:43.890Z"
   },
   {
    "duration": 1,
    "start_time": "2022-04-04T08:04:43.890Z"
   },
   {
    "duration": 0,
    "start_time": "2022-04-04T08:04:43.892Z"
   },
   {
    "duration": 0,
    "start_time": "2022-04-04T08:04:43.893Z"
   },
   {
    "duration": 0,
    "start_time": "2022-04-04T08:04:43.894Z"
   },
   {
    "duration": 0,
    "start_time": "2022-04-04T08:04:43.895Z"
   },
   {
    "duration": 0,
    "start_time": "2022-04-04T08:04:43.896Z"
   },
   {
    "duration": 0,
    "start_time": "2022-04-04T08:04:43.897Z"
   },
   {
    "duration": 0,
    "start_time": "2022-04-04T08:04:43.898Z"
   },
   {
    "duration": 0,
    "start_time": "2022-04-04T08:04:43.899Z"
   },
   {
    "duration": 0,
    "start_time": "2022-04-04T08:04:43.900Z"
   },
   {
    "duration": 0,
    "start_time": "2022-04-04T08:04:43.901Z"
   },
   {
    "duration": 0,
    "start_time": "2022-04-04T08:04:43.902Z"
   },
   {
    "duration": 0,
    "start_time": "2022-04-04T08:04:43.903Z"
   },
   {
    "duration": 0,
    "start_time": "2022-04-04T08:04:43.904Z"
   },
   {
    "duration": 0,
    "start_time": "2022-04-04T08:04:43.905Z"
   },
   {
    "duration": 0,
    "start_time": "2022-04-04T08:04:43.906Z"
   },
   {
    "duration": 0,
    "start_time": "2022-04-04T08:04:43.907Z"
   },
   {
    "duration": 0,
    "start_time": "2022-04-04T08:04:43.908Z"
   },
   {
    "duration": 0,
    "start_time": "2022-04-04T08:04:43.909Z"
   },
   {
    "duration": 0,
    "start_time": "2022-04-04T08:04:43.910Z"
   },
   {
    "duration": 0,
    "start_time": "2022-04-04T08:04:43.911Z"
   },
   {
    "duration": 0,
    "start_time": "2022-04-04T08:04:43.912Z"
   },
   {
    "duration": 0,
    "start_time": "2022-04-04T08:04:43.913Z"
   },
   {
    "duration": 0,
    "start_time": "2022-04-04T08:04:43.915Z"
   },
   {
    "duration": 0,
    "start_time": "2022-04-04T08:04:43.916Z"
   },
   {
    "duration": 0,
    "start_time": "2022-04-04T08:04:43.917Z"
   },
   {
    "duration": 0,
    "start_time": "2022-04-04T08:04:43.918Z"
   },
   {
    "duration": 0,
    "start_time": "2022-04-04T08:04:43.919Z"
   },
   {
    "duration": 0,
    "start_time": "2022-04-04T08:04:43.920Z"
   },
   {
    "duration": 0,
    "start_time": "2022-04-04T08:04:43.933Z"
   },
   {
    "duration": 0,
    "start_time": "2022-04-04T08:04:43.934Z"
   },
   {
    "duration": 0,
    "start_time": "2022-04-04T08:04:43.935Z"
   },
   {
    "duration": 0,
    "start_time": "2022-04-04T08:04:43.936Z"
   },
   {
    "duration": 0,
    "start_time": "2022-04-04T08:04:43.937Z"
   },
   {
    "duration": 1,
    "start_time": "2022-04-04T08:04:43.937Z"
   },
   {
    "duration": 1,
    "start_time": "2022-04-04T08:04:43.938Z"
   },
   {
    "duration": 0,
    "start_time": "2022-04-04T08:04:43.939Z"
   },
   {
    "duration": 0,
    "start_time": "2022-04-04T08:04:43.940Z"
   },
   {
    "duration": 0,
    "start_time": "2022-04-04T08:04:43.942Z"
   },
   {
    "duration": 0,
    "start_time": "2022-04-04T08:04:43.942Z"
   },
   {
    "duration": 0,
    "start_time": "2022-04-04T08:04:43.943Z"
   },
   {
    "duration": 0,
    "start_time": "2022-04-04T08:04:43.944Z"
   },
   {
    "duration": 0,
    "start_time": "2022-04-04T08:04:43.945Z"
   },
   {
    "duration": 0,
    "start_time": "2022-04-04T08:04:43.946Z"
   },
   {
    "duration": 0,
    "start_time": "2022-04-04T08:04:43.947Z"
   },
   {
    "duration": 0,
    "start_time": "2022-04-04T08:04:43.948Z"
   },
   {
    "duration": 0,
    "start_time": "2022-04-04T08:04:43.949Z"
   },
   {
    "duration": 0,
    "start_time": "2022-04-04T08:04:43.951Z"
   },
   {
    "duration": 0,
    "start_time": "2022-04-04T08:04:43.952Z"
   },
   {
    "duration": 0,
    "start_time": "2022-04-04T08:04:43.953Z"
   },
   {
    "duration": 0,
    "start_time": "2022-04-04T08:04:43.954Z"
   },
   {
    "duration": 0,
    "start_time": "2022-04-04T08:04:43.956Z"
   },
   {
    "duration": 0,
    "start_time": "2022-04-04T08:04:43.957Z"
   },
   {
    "duration": 0,
    "start_time": "2022-04-04T08:04:43.958Z"
   },
   {
    "duration": 0,
    "start_time": "2022-04-04T08:04:43.959Z"
   },
   {
    "duration": 0,
    "start_time": "2022-04-04T08:04:43.960Z"
   },
   {
    "duration": 0,
    "start_time": "2022-04-04T08:04:43.961Z"
   },
   {
    "duration": 0,
    "start_time": "2022-04-04T08:04:43.961Z"
   },
   {
    "duration": 0,
    "start_time": "2022-04-04T08:04:43.962Z"
   },
   {
    "duration": 0,
    "start_time": "2022-04-04T08:04:43.963Z"
   },
   {
    "duration": 0,
    "start_time": "2022-04-04T08:04:43.964Z"
   },
   {
    "duration": 0,
    "start_time": "2022-04-04T08:04:43.965Z"
   },
   {
    "duration": 0,
    "start_time": "2022-04-04T08:04:43.966Z"
   },
   {
    "duration": 0,
    "start_time": "2022-04-04T08:04:43.967Z"
   },
   {
    "duration": 0,
    "start_time": "2022-04-04T08:04:43.968Z"
   },
   {
    "duration": 0,
    "start_time": "2022-04-04T08:04:43.969Z"
   },
   {
    "duration": 0,
    "start_time": "2022-04-04T08:04:44.035Z"
   },
   {
    "duration": 0,
    "start_time": "2022-04-04T08:04:44.036Z"
   },
   {
    "duration": 0,
    "start_time": "2022-04-04T08:04:44.037Z"
   },
   {
    "duration": 0,
    "start_time": "2022-04-04T08:04:44.038Z"
   },
   {
    "duration": 0,
    "start_time": "2022-04-04T08:04:44.039Z"
   },
   {
    "duration": 0,
    "start_time": "2022-04-04T08:04:44.040Z"
   },
   {
    "duration": 0,
    "start_time": "2022-04-04T08:04:44.041Z"
   },
   {
    "duration": 0,
    "start_time": "2022-04-04T08:04:44.042Z"
   },
   {
    "duration": 0,
    "start_time": "2022-04-04T08:04:44.043Z"
   },
   {
    "duration": 0,
    "start_time": "2022-04-04T08:04:44.044Z"
   },
   {
    "duration": 0,
    "start_time": "2022-04-04T08:04:44.045Z"
   },
   {
    "duration": 0,
    "start_time": "2022-04-04T08:04:44.046Z"
   },
   {
    "duration": 0,
    "start_time": "2022-04-04T08:04:44.047Z"
   },
   {
    "duration": 0,
    "start_time": "2022-04-04T08:04:44.048Z"
   },
   {
    "duration": 0,
    "start_time": "2022-04-04T08:04:44.049Z"
   },
   {
    "duration": 1126,
    "start_time": "2022-04-04T08:05:22.950Z"
   },
   {
    "duration": 3,
    "start_time": "2022-04-04T08:05:24.078Z"
   },
   {
    "duration": 390,
    "start_time": "2022-04-04T08:05:24.082Z"
   },
   {
    "duration": 25,
    "start_time": "2022-04-04T08:05:24.474Z"
   },
   {
    "duration": 11,
    "start_time": "2022-04-04T08:05:24.501Z"
   },
   {
    "duration": 4,
    "start_time": "2022-04-04T08:05:24.513Z"
   },
   {
    "duration": 31,
    "start_time": "2022-04-04T08:05:24.518Z"
   },
   {
    "duration": 8,
    "start_time": "2022-04-04T08:05:24.550Z"
   },
   {
    "duration": 5,
    "start_time": "2022-04-04T08:05:24.560Z"
   },
   {
    "duration": 18,
    "start_time": "2022-04-04T08:05:24.568Z"
   },
   {
    "duration": 7,
    "start_time": "2022-04-04T08:05:24.588Z"
   },
   {
    "duration": 38,
    "start_time": "2022-04-04T08:05:24.596Z"
   },
   {
    "duration": 11,
    "start_time": "2022-04-04T08:05:24.635Z"
   },
   {
    "duration": 14,
    "start_time": "2022-04-04T08:05:24.647Z"
   },
   {
    "duration": 6,
    "start_time": "2022-04-04T08:05:24.663Z"
   },
   {
    "duration": 14,
    "start_time": "2022-04-04T08:05:24.671Z"
   },
   {
    "duration": 13,
    "start_time": "2022-04-04T08:05:24.687Z"
   },
   {
    "duration": 5,
    "start_time": "2022-04-04T08:05:24.701Z"
   },
   {
    "duration": 21,
    "start_time": "2022-04-04T08:05:24.733Z"
   },
   {
    "duration": 33,
    "start_time": "2022-04-04T08:05:24.756Z"
   },
   {
    "duration": 4,
    "start_time": "2022-04-04T08:05:24.791Z"
   },
   {
    "duration": 51,
    "start_time": "2022-04-04T08:05:24.796Z"
   },
   {
    "duration": 17,
    "start_time": "2022-04-04T08:05:24.848Z"
   },
   {
    "duration": 23,
    "start_time": "2022-04-04T08:05:24.867Z"
   },
   {
    "duration": 6,
    "start_time": "2022-04-04T08:05:24.892Z"
   },
   {
    "duration": 52,
    "start_time": "2022-04-04T08:05:24.900Z"
   },
   {
    "duration": 16,
    "start_time": "2022-04-04T08:05:24.954Z"
   },
   {
    "duration": 20,
    "start_time": "2022-04-04T08:05:24.975Z"
   },
   {
    "duration": 6,
    "start_time": "2022-04-04T08:05:24.997Z"
   },
   {
    "duration": 14,
    "start_time": "2022-04-04T08:05:25.032Z"
   },
   {
    "duration": 6,
    "start_time": "2022-04-04T08:05:25.048Z"
   },
   {
    "duration": 12,
    "start_time": "2022-04-04T08:05:25.056Z"
   },
   {
    "duration": 10,
    "start_time": "2022-04-04T08:05:25.070Z"
   },
   {
    "duration": 11,
    "start_time": "2022-04-04T08:05:25.082Z"
   },
   {
    "duration": 3,
    "start_time": "2022-04-04T08:05:25.095Z"
   },
   {
    "duration": 5,
    "start_time": "2022-04-04T08:05:25.132Z"
   },
   {
    "duration": 6,
    "start_time": "2022-04-04T08:05:25.138Z"
   },
   {
    "duration": 7,
    "start_time": "2022-04-04T08:05:25.146Z"
   },
   {
    "duration": 14,
    "start_time": "2022-04-04T08:05:25.155Z"
   },
   {
    "duration": 8,
    "start_time": "2022-04-04T08:05:25.171Z"
   },
   {
    "duration": 8,
    "start_time": "2022-04-04T08:05:25.180Z"
   },
   {
    "duration": 7,
    "start_time": "2022-04-04T08:05:25.190Z"
   },
   {
    "duration": 38,
    "start_time": "2022-04-04T08:05:25.199Z"
   },
   {
    "duration": 6,
    "start_time": "2022-04-04T08:05:25.239Z"
   },
   {
    "duration": 10,
    "start_time": "2022-04-04T08:05:25.247Z"
   },
   {
    "duration": 28,
    "start_time": "2022-04-04T08:05:25.258Z"
   },
   {
    "duration": 8,
    "start_time": "2022-04-04T08:05:25.287Z"
   },
   {
    "duration": 56,
    "start_time": "2022-04-04T08:05:25.297Z"
   },
   {
    "duration": 7,
    "start_time": "2022-04-04T08:05:25.355Z"
   },
   {
    "duration": 4,
    "start_time": "2022-04-04T08:05:25.364Z"
   },
   {
    "duration": 9,
    "start_time": "2022-04-04T08:05:25.369Z"
   },
   {
    "duration": 18,
    "start_time": "2022-04-04T08:05:25.379Z"
   },
   {
    "duration": 8,
    "start_time": "2022-04-04T08:05:25.399Z"
   },
   {
    "duration": 29,
    "start_time": "2022-04-04T08:05:25.434Z"
   },
   {
    "duration": 8,
    "start_time": "2022-04-04T08:05:25.464Z"
   },
   {
    "duration": 5,
    "start_time": "2022-04-04T08:05:25.473Z"
   },
   {
    "duration": 10,
    "start_time": "2022-04-04T08:05:25.480Z"
   },
   {
    "duration": 41,
    "start_time": "2022-04-04T08:05:25.492Z"
   },
   {
    "duration": 8,
    "start_time": "2022-04-04T08:05:25.535Z"
   },
   {
    "duration": 22,
    "start_time": "2022-04-04T08:05:25.545Z"
   },
   {
    "duration": 9,
    "start_time": "2022-04-04T08:05:25.568Z"
   },
   {
    "duration": 7,
    "start_time": "2022-04-04T08:05:25.579Z"
   },
   {
    "duration": 9,
    "start_time": "2022-04-04T08:05:25.587Z"
   },
   {
    "duration": 41,
    "start_time": "2022-04-04T08:05:25.598Z"
   },
   {
    "duration": 9,
    "start_time": "2022-04-04T08:05:25.640Z"
   },
   {
    "duration": 4,
    "start_time": "2022-04-04T08:05:25.651Z"
   },
   {
    "duration": 8,
    "start_time": "2022-04-04T08:05:25.657Z"
   },
   {
    "duration": 11,
    "start_time": "2022-04-04T08:05:25.667Z"
   },
   {
    "duration": 4,
    "start_time": "2022-04-04T08:05:25.680Z"
   },
   {
    "duration": 52,
    "start_time": "2022-04-04T08:05:25.686Z"
   },
   {
    "duration": 7,
    "start_time": "2022-04-04T08:05:25.741Z"
   },
   {
    "duration": 13,
    "start_time": "2022-04-04T08:05:25.750Z"
   },
   {
    "duration": 8,
    "start_time": "2022-04-04T08:05:25.765Z"
   },
   {
    "duration": 5,
    "start_time": "2022-04-04T08:05:25.775Z"
   },
   {
    "duration": 7,
    "start_time": "2022-04-04T08:05:25.782Z"
   },
   {
    "duration": 48,
    "start_time": "2022-04-04T08:05:25.791Z"
   },
   {
    "duration": 107,
    "start_time": "2022-04-04T08:05:25.841Z"
   },
   {
    "duration": 14,
    "start_time": "2022-04-04T08:05:25.949Z"
   },
   {
    "duration": 4,
    "start_time": "2022-04-04T08:05:25.965Z"
   },
   {
    "duration": 12,
    "start_time": "2022-04-04T08:05:25.971Z"
   },
   {
    "duration": 5,
    "start_time": "2022-04-04T08:05:25.985Z"
   },
   {
    "duration": 44,
    "start_time": "2022-04-04T08:05:25.996Z"
   },
   {
    "duration": 17,
    "start_time": "2022-04-04T08:05:26.042Z"
   },
   {
    "duration": 17,
    "start_time": "2022-04-04T08:05:26.061Z"
   },
   {
    "duration": 7,
    "start_time": "2022-04-04T08:05:26.080Z"
   },
   {
    "duration": 8,
    "start_time": "2022-04-04T08:05:26.090Z"
   },
   {
    "duration": 197,
    "start_time": "2022-04-04T08:05:26.133Z"
   },
   {
    "duration": 182,
    "start_time": "2022-04-04T08:05:26.333Z"
   },
   {
    "duration": 181,
    "start_time": "2022-04-04T08:05:26.517Z"
   },
   {
    "duration": 6,
    "start_time": "2022-04-04T08:05:26.700Z"
   },
   {
    "duration": 6,
    "start_time": "2022-04-04T08:05:26.708Z"
   },
   {
    "duration": 26,
    "start_time": "2022-04-04T08:05:26.716Z"
   },
   {
    "duration": 5,
    "start_time": "2022-04-04T08:05:26.743Z"
   },
   {
    "duration": 12,
    "start_time": "2022-04-04T08:05:26.750Z"
   },
   {
    "duration": 5,
    "start_time": "2022-04-04T08:05:26.763Z"
   },
   {
    "duration": 1102,
    "start_time": "2022-04-04T08:08:29.274Z"
   },
   {
    "duration": 3,
    "start_time": "2022-04-04T08:08:30.379Z"
   },
   {
    "duration": 477,
    "start_time": "2022-04-04T08:08:30.384Z"
   },
   {
    "duration": 21,
    "start_time": "2022-04-04T08:08:30.863Z"
   },
   {
    "duration": 12,
    "start_time": "2022-04-04T08:08:30.886Z"
   },
   {
    "duration": 6,
    "start_time": "2022-04-04T08:08:30.900Z"
   },
   {
    "duration": 33,
    "start_time": "2022-04-04T08:08:30.908Z"
   },
   {
    "duration": 9,
    "start_time": "2022-04-04T08:08:30.943Z"
   },
   {
    "duration": 9,
    "start_time": "2022-04-04T08:08:30.954Z"
   },
   {
    "duration": 20,
    "start_time": "2022-04-04T08:08:30.966Z"
   },
   {
    "duration": 8,
    "start_time": "2022-04-04T08:08:30.988Z"
   },
   {
    "duration": 9,
    "start_time": "2022-04-04T08:08:30.998Z"
   },
   {
    "duration": 11,
    "start_time": "2022-04-04T08:08:31.034Z"
   },
   {
    "duration": 16,
    "start_time": "2022-04-04T08:08:31.047Z"
   },
   {
    "duration": 13,
    "start_time": "2022-04-04T08:08:31.065Z"
   },
   {
    "duration": 26,
    "start_time": "2022-04-04T08:08:31.080Z"
   },
   {
    "duration": 25,
    "start_time": "2022-04-04T08:08:31.108Z"
   },
   {
    "duration": 7,
    "start_time": "2022-04-04T08:08:31.134Z"
   },
   {
    "duration": 20,
    "start_time": "2022-04-04T08:08:31.142Z"
   },
   {
    "duration": 29,
    "start_time": "2022-04-04T08:08:31.164Z"
   },
   {
    "duration": 5,
    "start_time": "2022-04-04T08:08:31.195Z"
   },
   {
    "duration": 49,
    "start_time": "2022-04-04T08:08:31.201Z"
   },
   {
    "duration": 18,
    "start_time": "2022-04-04T08:08:31.252Z"
   },
   {
    "duration": 24,
    "start_time": "2022-04-04T08:08:31.271Z"
   },
   {
    "duration": 5,
    "start_time": "2022-04-04T08:08:31.296Z"
   },
   {
    "duration": 48,
    "start_time": "2022-04-04T08:08:31.303Z"
   },
   {
    "duration": 11,
    "start_time": "2022-04-04T08:08:31.353Z"
   },
   {
    "duration": 18,
    "start_time": "2022-04-04T08:08:31.368Z"
   },
   {
    "duration": 4,
    "start_time": "2022-04-04T08:08:31.388Z"
   },
   {
    "duration": 40,
    "start_time": "2022-04-04T08:08:31.394Z"
   },
   {
    "duration": 6,
    "start_time": "2022-04-04T08:08:31.435Z"
   },
   {
    "duration": 20,
    "start_time": "2022-04-04T08:08:31.443Z"
   },
   {
    "duration": 10,
    "start_time": "2022-04-04T08:08:31.464Z"
   },
   {
    "duration": 13,
    "start_time": "2022-04-04T08:08:31.476Z"
   },
   {
    "duration": 16,
    "start_time": "2022-04-04T08:08:31.491Z"
   },
   {
    "duration": 8,
    "start_time": "2022-04-04T08:08:31.509Z"
   },
   {
    "duration": 5,
    "start_time": "2022-04-04T08:08:31.519Z"
   },
   {
    "duration": 8,
    "start_time": "2022-04-04T08:08:31.526Z"
   },
   {
    "duration": 11,
    "start_time": "2022-04-04T08:08:31.536Z"
   },
   {
    "duration": 10,
    "start_time": "2022-04-04T08:08:31.549Z"
   },
   {
    "duration": 12,
    "start_time": "2022-04-04T08:08:31.561Z"
   },
   {
    "duration": 20,
    "start_time": "2022-04-04T08:08:31.575Z"
   },
   {
    "duration": 22,
    "start_time": "2022-04-04T08:08:31.597Z"
   },
   {
    "duration": 12,
    "start_time": "2022-04-04T08:08:31.621Z"
   },
   {
    "duration": 15,
    "start_time": "2022-04-04T08:08:31.634Z"
   },
   {
    "duration": 27,
    "start_time": "2022-04-04T08:08:31.651Z"
   },
   {
    "duration": 9,
    "start_time": "2022-04-04T08:08:31.680Z"
   },
   {
    "duration": 111,
    "start_time": "2022-04-04T08:08:31.691Z"
   },
   {
    "duration": 7,
    "start_time": "2022-04-04T08:08:31.804Z"
   },
   {
    "duration": 9,
    "start_time": "2022-04-04T08:08:31.813Z"
   },
   {
    "duration": 7,
    "start_time": "2022-04-04T08:08:31.832Z"
   },
   {
    "duration": 19,
    "start_time": "2022-04-04T08:08:31.840Z"
   },
   {
    "duration": 8,
    "start_time": "2022-04-04T08:08:31.861Z"
   },
   {
    "duration": 24,
    "start_time": "2022-04-04T08:08:31.871Z"
   },
   {
    "duration": 8,
    "start_time": "2022-04-04T08:08:31.897Z"
   },
   {
    "duration": 28,
    "start_time": "2022-04-04T08:08:31.906Z"
   },
   {
    "duration": 9,
    "start_time": "2022-04-04T08:08:31.936Z"
   },
   {
    "duration": 19,
    "start_time": "2022-04-04T08:08:31.947Z"
   },
   {
    "duration": 8,
    "start_time": "2022-04-04T08:08:31.967Z"
   },
   {
    "duration": 63,
    "start_time": "2022-04-04T08:08:31.977Z"
   },
   {
    "duration": 8,
    "start_time": "2022-04-04T08:08:32.042Z"
   },
   {
    "duration": 4,
    "start_time": "2022-04-04T08:08:32.052Z"
   },
   {
    "duration": 9,
    "start_time": "2022-04-04T08:08:32.057Z"
   },
   {
    "duration": 10,
    "start_time": "2022-04-04T08:08:32.067Z"
   },
   {
    "duration": 9,
    "start_time": "2022-04-04T08:08:32.078Z"
   },
   {
    "duration": 116,
    "start_time": "2022-04-04T08:08:32.089Z"
   },
   {
    "duration": 0,
    "start_time": "2022-04-04T08:08:32.207Z"
   },
   {
    "duration": 0,
    "start_time": "2022-04-04T08:08:32.208Z"
   },
   {
    "duration": 0,
    "start_time": "2022-04-04T08:08:32.209Z"
   },
   {
    "duration": 0,
    "start_time": "2022-04-04T08:08:32.210Z"
   },
   {
    "duration": 0,
    "start_time": "2022-04-04T08:08:32.211Z"
   },
   {
    "duration": 0,
    "start_time": "2022-04-04T08:08:32.212Z"
   },
   {
    "duration": 0,
    "start_time": "2022-04-04T08:08:32.212Z"
   },
   {
    "duration": 0,
    "start_time": "2022-04-04T08:08:32.214Z"
   },
   {
    "duration": 0,
    "start_time": "2022-04-04T08:08:32.215Z"
   },
   {
    "duration": 0,
    "start_time": "2022-04-04T08:08:32.215Z"
   },
   {
    "duration": 0,
    "start_time": "2022-04-04T08:08:32.233Z"
   },
   {
    "duration": 0,
    "start_time": "2022-04-04T08:08:32.234Z"
   },
   {
    "duration": 0,
    "start_time": "2022-04-04T08:08:32.235Z"
   },
   {
    "duration": 0,
    "start_time": "2022-04-04T08:08:32.236Z"
   },
   {
    "duration": 0,
    "start_time": "2022-04-04T08:08:32.237Z"
   },
   {
    "duration": 0,
    "start_time": "2022-04-04T08:08:32.238Z"
   },
   {
    "duration": 0,
    "start_time": "2022-04-04T08:08:32.239Z"
   },
   {
    "duration": 0,
    "start_time": "2022-04-04T08:08:32.240Z"
   },
   {
    "duration": 0,
    "start_time": "2022-04-04T08:08:32.241Z"
   },
   {
    "duration": 0,
    "start_time": "2022-04-04T08:08:32.242Z"
   },
   {
    "duration": 0,
    "start_time": "2022-04-04T08:08:32.243Z"
   },
   {
    "duration": 0,
    "start_time": "2022-04-04T08:08:32.244Z"
   },
   {
    "duration": 0,
    "start_time": "2022-04-04T08:08:32.245Z"
   },
   {
    "duration": 1,
    "start_time": "2022-04-04T08:08:32.245Z"
   },
   {
    "duration": 0,
    "start_time": "2022-04-04T08:08:32.246Z"
   },
   {
    "duration": 0,
    "start_time": "2022-04-04T08:08:32.247Z"
   },
   {
    "duration": 0,
    "start_time": "2022-04-04T08:08:32.248Z"
   },
   {
    "duration": 0,
    "start_time": "2022-04-04T08:08:32.249Z"
   },
   {
    "duration": 0,
    "start_time": "2022-04-04T08:08:32.250Z"
   },
   {
    "duration": 1117,
    "start_time": "2022-04-04T08:09:52.878Z"
   },
   {
    "duration": 3,
    "start_time": "2022-04-04T08:09:53.997Z"
   },
   {
    "duration": 417,
    "start_time": "2022-04-04T08:09:54.001Z"
   },
   {
    "duration": 25,
    "start_time": "2022-04-04T08:09:54.420Z"
   },
   {
    "duration": 11,
    "start_time": "2022-04-04T08:09:54.447Z"
   },
   {
    "duration": 3,
    "start_time": "2022-04-04T08:09:54.460Z"
   },
   {
    "duration": 22,
    "start_time": "2022-04-04T08:09:54.465Z"
   },
   {
    "duration": 8,
    "start_time": "2022-04-04T08:09:54.488Z"
   },
   {
    "duration": 36,
    "start_time": "2022-04-04T08:09:54.498Z"
   },
   {
    "duration": 15,
    "start_time": "2022-04-04T08:09:54.537Z"
   },
   {
    "duration": 6,
    "start_time": "2022-04-04T08:09:54.554Z"
   },
   {
    "duration": 5,
    "start_time": "2022-04-04T08:09:54.562Z"
   },
   {
    "duration": 9,
    "start_time": "2022-04-04T08:09:54.569Z"
   },
   {
    "duration": 8,
    "start_time": "2022-04-04T08:09:54.580Z"
   },
   {
    "duration": 5,
    "start_time": "2022-04-04T08:09:54.589Z"
   },
   {
    "duration": 44,
    "start_time": "2022-04-04T08:09:54.595Z"
   },
   {
    "duration": 10,
    "start_time": "2022-04-04T08:09:54.641Z"
   },
   {
    "duration": 5,
    "start_time": "2022-04-04T08:09:54.653Z"
   },
   {
    "duration": 21,
    "start_time": "2022-04-04T08:09:54.660Z"
   },
   {
    "duration": 60,
    "start_time": "2022-04-04T08:09:54.682Z"
   },
   {
    "duration": 5,
    "start_time": "2022-04-04T08:09:54.743Z"
   },
   {
    "duration": 30,
    "start_time": "2022-04-04T08:09:54.749Z"
   },
   {
    "duration": 17,
    "start_time": "2022-04-04T08:09:54.781Z"
   },
   {
    "duration": 42,
    "start_time": "2022-04-04T08:09:54.800Z"
   },
   {
    "duration": 6,
    "start_time": "2022-04-04T08:09:54.843Z"
   },
   {
    "duration": 25,
    "start_time": "2022-04-04T08:09:54.850Z"
   },
   {
    "duration": 10,
    "start_time": "2022-04-04T08:09:54.877Z"
   },
   {
    "duration": 47,
    "start_time": "2022-04-04T08:09:54.891Z"
   },
   {
    "duration": 5,
    "start_time": "2022-04-04T08:09:54.940Z"
   },
   {
    "duration": 14,
    "start_time": "2022-04-04T08:09:54.946Z"
   },
   {
    "duration": 6,
    "start_time": "2022-04-04T08:09:54.961Z"
   },
   {
    "duration": 12,
    "start_time": "2022-04-04T08:09:54.968Z"
   },
   {
    "duration": 8,
    "start_time": "2022-04-04T08:09:54.982Z"
   },
   {
    "duration": 7,
    "start_time": "2022-04-04T08:09:54.991Z"
   },
   {
    "duration": 33,
    "start_time": "2022-04-04T08:09:55.000Z"
   },
   {
    "duration": 4,
    "start_time": "2022-04-04T08:09:55.035Z"
   },
   {
    "duration": 6,
    "start_time": "2022-04-04T08:09:55.040Z"
   },
   {
    "duration": 8,
    "start_time": "2022-04-04T08:09:55.048Z"
   },
   {
    "duration": 14,
    "start_time": "2022-04-04T08:09:55.058Z"
   },
   {
    "duration": 9,
    "start_time": "2022-04-04T08:09:55.074Z"
   },
   {
    "duration": 8,
    "start_time": "2022-04-04T08:09:55.085Z"
   },
   {
    "duration": 8,
    "start_time": "2022-04-04T08:09:55.095Z"
   },
   {
    "duration": 8,
    "start_time": "2022-04-04T08:09:55.134Z"
   },
   {
    "duration": 7,
    "start_time": "2022-04-04T08:09:55.144Z"
   },
   {
    "duration": 10,
    "start_time": "2022-04-04T08:09:55.153Z"
   },
   {
    "duration": 25,
    "start_time": "2022-04-04T08:09:55.164Z"
   },
   {
    "duration": 9,
    "start_time": "2022-04-04T08:09:55.190Z"
   },
   {
    "duration": 54,
    "start_time": "2022-04-04T08:09:55.201Z"
   },
   {
    "duration": 8,
    "start_time": "2022-04-04T08:09:55.256Z"
   },
   {
    "duration": 6,
    "start_time": "2022-04-04T08:09:55.265Z"
   },
   {
    "duration": 14,
    "start_time": "2022-04-04T08:09:55.273Z"
   },
   {
    "duration": 18,
    "start_time": "2022-04-04T08:09:55.289Z"
   },
   {
    "duration": 25,
    "start_time": "2022-04-04T08:09:55.309Z"
   },
   {
    "duration": 29,
    "start_time": "2022-04-04T08:09:55.335Z"
   },
   {
    "duration": 8,
    "start_time": "2022-04-04T08:09:55.365Z"
   },
   {
    "duration": 9,
    "start_time": "2022-04-04T08:09:55.374Z"
   },
   {
    "duration": 10,
    "start_time": "2022-04-04T08:09:55.384Z"
   },
   {
    "duration": 38,
    "start_time": "2022-04-04T08:09:55.395Z"
   },
   {
    "duration": 8,
    "start_time": "2022-04-04T08:09:55.435Z"
   },
   {
    "duration": 48,
    "start_time": "2022-04-04T08:09:55.445Z"
   },
   {
    "duration": 9,
    "start_time": "2022-04-04T08:09:55.496Z"
   },
   {
    "duration": 27,
    "start_time": "2022-04-04T08:09:55.507Z"
   },
   {
    "duration": 9,
    "start_time": "2022-04-04T08:09:55.536Z"
   },
   {
    "duration": 10,
    "start_time": "2022-04-04T08:09:55.547Z"
   },
   {
    "duration": 7,
    "start_time": "2022-04-04T08:09:55.559Z"
   },
   {
    "duration": 106,
    "start_time": "2022-04-04T08:09:55.567Z"
   },
   {
    "duration": 0,
    "start_time": "2022-04-04T08:09:55.675Z"
   },
   {
    "duration": 0,
    "start_time": "2022-04-04T08:09:55.676Z"
   },
   {
    "duration": 0,
    "start_time": "2022-04-04T08:09:55.677Z"
   },
   {
    "duration": 0,
    "start_time": "2022-04-04T08:09:55.678Z"
   },
   {
    "duration": 0,
    "start_time": "2022-04-04T08:09:55.679Z"
   },
   {
    "duration": 0,
    "start_time": "2022-04-04T08:09:55.680Z"
   },
   {
    "duration": 0,
    "start_time": "2022-04-04T08:09:55.681Z"
   },
   {
    "duration": 0,
    "start_time": "2022-04-04T08:09:55.682Z"
   },
   {
    "duration": 0,
    "start_time": "2022-04-04T08:09:55.683Z"
   },
   {
    "duration": 0,
    "start_time": "2022-04-04T08:09:55.684Z"
   },
   {
    "duration": 0,
    "start_time": "2022-04-04T08:09:55.685Z"
   },
   {
    "duration": 0,
    "start_time": "2022-04-04T08:09:55.686Z"
   },
   {
    "duration": 0,
    "start_time": "2022-04-04T08:09:55.687Z"
   },
   {
    "duration": 0,
    "start_time": "2022-04-04T08:09:55.688Z"
   },
   {
    "duration": 0,
    "start_time": "2022-04-04T08:09:55.689Z"
   },
   {
    "duration": 0,
    "start_time": "2022-04-04T08:09:55.690Z"
   },
   {
    "duration": 0,
    "start_time": "2022-04-04T08:09:55.691Z"
   },
   {
    "duration": 0,
    "start_time": "2022-04-04T08:09:55.692Z"
   },
   {
    "duration": 0,
    "start_time": "2022-04-04T08:09:55.693Z"
   },
   {
    "duration": 0,
    "start_time": "2022-04-04T08:09:55.694Z"
   },
   {
    "duration": 0,
    "start_time": "2022-04-04T08:09:55.695Z"
   },
   {
    "duration": 0,
    "start_time": "2022-04-04T08:09:55.733Z"
   },
   {
    "duration": 0,
    "start_time": "2022-04-04T08:09:55.734Z"
   },
   {
    "duration": 0,
    "start_time": "2022-04-04T08:09:55.735Z"
   },
   {
    "duration": 0,
    "start_time": "2022-04-04T08:09:55.736Z"
   },
   {
    "duration": 0,
    "start_time": "2022-04-04T08:09:55.737Z"
   },
   {
    "duration": 0,
    "start_time": "2022-04-04T08:09:55.738Z"
   },
   {
    "duration": 0,
    "start_time": "2022-04-04T08:09:55.739Z"
   },
   {
    "duration": 0,
    "start_time": "2022-04-04T08:09:55.740Z"
   },
   {
    "duration": 1130,
    "start_time": "2022-04-04T08:10:43.005Z"
   },
   {
    "duration": 3,
    "start_time": "2022-04-04T08:10:44.137Z"
   },
   {
    "duration": 395,
    "start_time": "2022-04-04T08:10:44.142Z"
   },
   {
    "duration": 26,
    "start_time": "2022-04-04T08:10:44.539Z"
   },
   {
    "duration": 11,
    "start_time": "2022-04-04T08:10:44.567Z"
   },
   {
    "duration": 5,
    "start_time": "2022-04-04T08:10:44.580Z"
   },
   {
    "duration": 23,
    "start_time": "2022-04-04T08:10:44.586Z"
   },
   {
    "duration": 8,
    "start_time": "2022-04-04T08:10:44.633Z"
   },
   {
    "duration": 5,
    "start_time": "2022-04-04T08:10:44.643Z"
   },
   {
    "duration": 19,
    "start_time": "2022-04-04T08:10:44.650Z"
   },
   {
    "duration": 7,
    "start_time": "2022-04-04T08:10:44.671Z"
   },
   {
    "duration": 5,
    "start_time": "2022-04-04T08:10:44.680Z"
   },
   {
    "duration": 12,
    "start_time": "2022-04-04T08:10:44.687Z"
   },
   {
    "duration": 39,
    "start_time": "2022-04-04T08:10:44.700Z"
   },
   {
    "duration": 4,
    "start_time": "2022-04-04T08:10:44.741Z"
   },
   {
    "duration": 12,
    "start_time": "2022-04-04T08:10:44.747Z"
   },
   {
    "duration": 11,
    "start_time": "2022-04-04T08:10:44.761Z"
   },
   {
    "duration": 5,
    "start_time": "2022-04-04T08:10:44.774Z"
   },
   {
    "duration": 54,
    "start_time": "2022-04-04T08:10:44.781Z"
   },
   {
    "duration": 34,
    "start_time": "2022-04-04T08:10:44.838Z"
   },
   {
    "duration": 5,
    "start_time": "2022-04-04T08:10:44.874Z"
   },
   {
    "duration": 30,
    "start_time": "2022-04-04T08:10:44.881Z"
   },
   {
    "duration": 37,
    "start_time": "2022-04-04T08:10:44.912Z"
   },
   {
    "duration": 22,
    "start_time": "2022-04-04T08:10:44.951Z"
   },
   {
    "duration": 5,
    "start_time": "2022-04-04T08:10:44.975Z"
   },
   {
    "duration": 52,
    "start_time": "2022-04-04T08:10:44.982Z"
   },
   {
    "duration": 15,
    "start_time": "2022-04-04T08:10:45.036Z"
   },
   {
    "duration": 19,
    "start_time": "2022-04-04T08:10:45.055Z"
   },
   {
    "duration": 5,
    "start_time": "2022-04-04T08:10:45.076Z"
   },
   {
    "duration": 21,
    "start_time": "2022-04-04T08:10:45.083Z"
   },
   {
    "duration": 30,
    "start_time": "2022-04-04T08:10:45.105Z"
   },
   {
    "duration": 9,
    "start_time": "2022-04-04T08:10:45.136Z"
   },
   {
    "duration": 6,
    "start_time": "2022-04-04T08:10:45.147Z"
   },
   {
    "duration": 9,
    "start_time": "2022-04-04T08:10:45.155Z"
   },
   {
    "duration": 4,
    "start_time": "2022-04-04T08:10:45.165Z"
   },
   {
    "duration": 6,
    "start_time": "2022-04-04T08:10:45.170Z"
   },
   {
    "duration": 5,
    "start_time": "2022-04-04T08:10:45.178Z"
   },
   {
    "duration": 8,
    "start_time": "2022-04-04T08:10:45.185Z"
   },
   {
    "duration": 47,
    "start_time": "2022-04-04T08:10:45.194Z"
   },
   {
    "duration": 8,
    "start_time": "2022-04-04T08:10:45.243Z"
   },
   {
    "duration": 7,
    "start_time": "2022-04-04T08:10:45.252Z"
   },
   {
    "duration": 8,
    "start_time": "2022-04-04T08:10:45.260Z"
   },
   {
    "duration": 7,
    "start_time": "2022-04-04T08:10:45.270Z"
   },
   {
    "duration": 6,
    "start_time": "2022-04-04T08:10:45.279Z"
   },
   {
    "duration": 8,
    "start_time": "2022-04-04T08:10:45.286Z"
   },
   {
    "duration": 23,
    "start_time": "2022-04-04T08:10:45.333Z"
   },
   {
    "duration": 8,
    "start_time": "2022-04-04T08:10:45.358Z"
   },
   {
    "duration": 33,
    "start_time": "2022-04-04T08:10:45.368Z"
   },
   {
    "duration": 8,
    "start_time": "2022-04-04T08:10:45.403Z"
   },
   {
    "duration": 3,
    "start_time": "2022-04-04T08:10:45.433Z"
   },
   {
    "duration": 10,
    "start_time": "2022-04-04T08:10:45.438Z"
   },
   {
    "duration": 22,
    "start_time": "2022-04-04T08:10:45.449Z"
   },
   {
    "duration": 9,
    "start_time": "2022-04-04T08:10:45.473Z"
   },
   {
    "duration": 52,
    "start_time": "2022-04-04T08:10:45.483Z"
   },
   {
    "duration": 8,
    "start_time": "2022-04-04T08:10:45.537Z"
   },
   {
    "duration": 5,
    "start_time": "2022-04-04T08:10:45.547Z"
   },
   {
    "duration": 9,
    "start_time": "2022-04-04T08:10:45.554Z"
   },
   {
    "duration": 18,
    "start_time": "2022-04-04T08:10:45.565Z"
   },
   {
    "duration": 9,
    "start_time": "2022-04-04T08:10:45.584Z"
   },
   {
    "duration": 52,
    "start_time": "2022-04-04T08:10:45.594Z"
   },
   {
    "duration": 8,
    "start_time": "2022-04-04T08:10:45.648Z"
   },
   {
    "duration": 4,
    "start_time": "2022-04-04T08:10:45.657Z"
   },
   {
    "duration": 9,
    "start_time": "2022-04-04T08:10:45.663Z"
   },
   {
    "duration": 9,
    "start_time": "2022-04-04T08:10:45.673Z"
   },
   {
    "duration": 7,
    "start_time": "2022-04-04T08:10:45.683Z"
   },
   {
    "duration": 3,
    "start_time": "2022-04-04T08:10:45.692Z"
   },
   {
    "duration": 39,
    "start_time": "2022-04-04T08:10:45.697Z"
   },
   {
    "duration": 9,
    "start_time": "2022-04-04T08:10:45.738Z"
   },
   {
    "duration": 5,
    "start_time": "2022-04-04T08:10:45.749Z"
   },
   {
    "duration": 10,
    "start_time": "2022-04-04T08:10:45.756Z"
   },
   {
    "duration": 7,
    "start_time": "2022-04-04T08:10:45.767Z"
   },
   {
    "duration": 10,
    "start_time": "2022-04-04T08:10:45.776Z"
   },
   {
    "duration": 9,
    "start_time": "2022-04-04T08:10:45.787Z"
   },
   {
    "duration": 37,
    "start_time": "2022-04-04T08:10:45.797Z"
   },
   {
    "duration": 7,
    "start_time": "2022-04-04T08:10:45.835Z"
   },
   {
    "duration": 10,
    "start_time": "2022-04-04T08:10:45.844Z"
   },
   {
    "duration": 111,
    "start_time": "2022-04-04T08:10:45.855Z"
   },
   {
    "duration": 12,
    "start_time": "2022-04-04T08:10:45.967Z"
   },
   {
    "duration": 5,
    "start_time": "2022-04-04T08:10:45.980Z"
   },
   {
    "duration": 11,
    "start_time": "2022-04-04T08:10:45.987Z"
   },
   {
    "duration": 5,
    "start_time": "2022-04-04T08:10:45.999Z"
   },
   {
    "duration": 31,
    "start_time": "2022-04-04T08:10:46.010Z"
   },
   {
    "duration": 19,
    "start_time": "2022-04-04T08:10:46.043Z"
   },
   {
    "duration": 18,
    "start_time": "2022-04-04T08:10:46.064Z"
   },
   {
    "duration": 7,
    "start_time": "2022-04-04T08:10:46.084Z"
   },
   {
    "duration": 13,
    "start_time": "2022-04-04T08:10:46.093Z"
   },
   {
    "duration": 193,
    "start_time": "2022-04-04T08:10:46.132Z"
   },
   {
    "duration": 191,
    "start_time": "2022-04-04T08:10:46.326Z"
   },
   {
    "duration": 179,
    "start_time": "2022-04-04T08:10:46.519Z"
   },
   {
    "duration": 6,
    "start_time": "2022-04-04T08:10:46.699Z"
   },
   {
    "duration": 6,
    "start_time": "2022-04-04T08:10:46.706Z"
   },
   {
    "duration": 24,
    "start_time": "2022-04-04T08:10:46.714Z"
   },
   {
    "duration": 5,
    "start_time": "2022-04-04T08:10:46.739Z"
   },
   {
    "duration": 16,
    "start_time": "2022-04-04T08:10:46.745Z"
   },
   {
    "duration": 10,
    "start_time": "2022-04-04T08:10:46.762Z"
   },
   {
    "duration": 1086,
    "start_time": "2022-04-04T08:12:57.590Z"
   },
   {
    "duration": 2,
    "start_time": "2022-04-04T08:12:58.678Z"
   },
   {
    "duration": 395,
    "start_time": "2022-04-04T08:12:58.681Z"
   },
   {
    "duration": 25,
    "start_time": "2022-04-04T08:12:59.078Z"
   },
   {
    "duration": 11,
    "start_time": "2022-04-04T08:12:59.106Z"
   },
   {
    "duration": 4,
    "start_time": "2022-04-04T08:12:59.118Z"
   },
   {
    "duration": 28,
    "start_time": "2022-04-04T08:12:59.124Z"
   },
   {
    "duration": 9,
    "start_time": "2022-04-04T08:12:59.153Z"
   },
   {
    "duration": 5,
    "start_time": "2022-04-04T08:12:59.164Z"
   },
   {
    "duration": 19,
    "start_time": "2022-04-04T08:12:59.171Z"
   },
   {
    "duration": 7,
    "start_time": "2022-04-04T08:12:59.192Z"
   },
   {
    "duration": 3,
    "start_time": "2022-04-04T08:12:59.234Z"
   },
   {
    "duration": 12,
    "start_time": "2022-04-04T08:12:59.239Z"
   },
   {
    "duration": 10,
    "start_time": "2022-04-04T08:12:59.253Z"
   },
   {
    "duration": 5,
    "start_time": "2022-04-04T08:12:59.265Z"
   },
   {
    "duration": 13,
    "start_time": "2022-04-04T08:12:59.272Z"
   },
   {
    "duration": 10,
    "start_time": "2022-04-04T08:12:59.286Z"
   },
   {
    "duration": 36,
    "start_time": "2022-04-04T08:12:59.298Z"
   },
   {
    "duration": 21,
    "start_time": "2022-04-04T08:12:59.336Z"
   },
   {
    "duration": 34,
    "start_time": "2022-04-04T08:12:59.359Z"
   },
   {
    "duration": 5,
    "start_time": "2022-04-04T08:12:59.395Z"
   },
   {
    "duration": 56,
    "start_time": "2022-04-04T08:12:59.401Z"
   },
   {
    "duration": 17,
    "start_time": "2022-04-04T08:12:59.459Z"
   },
   {
    "duration": 26,
    "start_time": "2022-04-04T08:12:59.478Z"
   },
   {
    "duration": 5,
    "start_time": "2022-04-04T08:12:59.506Z"
   },
   {
    "duration": 24,
    "start_time": "2022-04-04T08:12:59.534Z"
   },
   {
    "duration": 14,
    "start_time": "2022-04-04T08:12:59.559Z"
   },
   {
    "duration": 19,
    "start_time": "2022-04-04T08:12:59.578Z"
   },
   {
    "duration": 36,
    "start_time": "2022-04-04T08:12:59.598Z"
   },
   {
    "duration": 13,
    "start_time": "2022-04-04T08:12:59.635Z"
   },
   {
    "duration": 18,
    "start_time": "2022-04-04T08:12:59.649Z"
   },
   {
    "duration": 11,
    "start_time": "2022-04-04T08:12:59.668Z"
   },
   {
    "duration": 8,
    "start_time": "2022-04-04T08:12:59.681Z"
   },
   {
    "duration": 12,
    "start_time": "2022-04-04T08:12:59.690Z"
   },
   {
    "duration": 4,
    "start_time": "2022-04-04T08:12:59.704Z"
   },
   {
    "duration": 25,
    "start_time": "2022-04-04T08:12:59.709Z"
   },
   {
    "duration": 8,
    "start_time": "2022-04-04T08:12:59.736Z"
   },
   {
    "duration": 12,
    "start_time": "2022-04-04T08:12:59.746Z"
   },
   {
    "duration": 15,
    "start_time": "2022-04-04T08:12:59.760Z"
   },
   {
    "duration": 11,
    "start_time": "2022-04-04T08:12:59.777Z"
   },
   {
    "duration": 9,
    "start_time": "2022-04-04T08:12:59.789Z"
   },
   {
    "duration": 9,
    "start_time": "2022-04-04T08:12:59.800Z"
   },
   {
    "duration": 24,
    "start_time": "2022-04-04T08:12:59.811Z"
   },
   {
    "duration": 9,
    "start_time": "2022-04-04T08:12:59.837Z"
   },
   {
    "duration": 8,
    "start_time": "2022-04-04T08:12:59.848Z"
   },
   {
    "duration": 27,
    "start_time": "2022-04-04T08:12:59.858Z"
   },
   {
    "duration": 9,
    "start_time": "2022-04-04T08:12:59.886Z"
   },
   {
    "duration": 53,
    "start_time": "2022-04-04T08:12:59.897Z"
   },
   {
    "duration": 8,
    "start_time": "2022-04-04T08:12:59.952Z"
   },
   {
    "duration": 6,
    "start_time": "2022-04-04T08:12:59.961Z"
   },
   {
    "duration": 8,
    "start_time": "2022-04-04T08:12:59.969Z"
   },
   {
    "duration": 18,
    "start_time": "2022-04-04T08:12:59.979Z"
   },
   {
    "duration": 9,
    "start_time": "2022-04-04T08:12:59.998Z"
   },
   {
    "duration": 33,
    "start_time": "2022-04-04T08:13:00.032Z"
   },
   {
    "duration": 8,
    "start_time": "2022-04-04T08:13:00.067Z"
   },
   {
    "duration": 9,
    "start_time": "2022-04-04T08:13:00.077Z"
   },
   {
    "duration": 12,
    "start_time": "2022-04-04T08:13:00.088Z"
   },
   {
    "duration": 35,
    "start_time": "2022-04-04T08:13:00.102Z"
   },
   {
    "duration": 8,
    "start_time": "2022-04-04T08:13:00.139Z"
   },
   {
    "duration": 34,
    "start_time": "2022-04-04T08:13:00.149Z"
   },
   {
    "duration": 8,
    "start_time": "2022-04-04T08:13:00.185Z"
   },
   {
    "duration": 12,
    "start_time": "2022-04-04T08:13:00.194Z"
   },
   {
    "duration": 13,
    "start_time": "2022-04-04T08:13:00.208Z"
   },
   {
    "duration": 16,
    "start_time": "2022-04-04T08:13:00.223Z"
   },
   {
    "duration": 14,
    "start_time": "2022-04-04T08:13:00.240Z"
   },
   {
    "duration": 19,
    "start_time": "2022-04-04T08:13:00.256Z"
   },
   {
    "duration": 20,
    "start_time": "2022-04-04T08:13:00.277Z"
   },
   {
    "duration": 14,
    "start_time": "2022-04-04T08:13:00.299Z"
   },
   {
    "duration": 12,
    "start_time": "2022-04-04T08:13:00.315Z"
   },
   {
    "duration": 18,
    "start_time": "2022-04-04T08:13:00.328Z"
   },
   {
    "duration": 21,
    "start_time": "2022-04-04T08:13:00.348Z"
   },
   {
    "duration": 12,
    "start_time": "2022-04-04T08:13:00.370Z"
   },
   {
    "duration": 21,
    "start_time": "2022-04-04T08:13:00.384Z"
   },
   {
    "duration": 18,
    "start_time": "2022-04-04T08:13:00.406Z"
   },
   {
    "duration": 11,
    "start_time": "2022-04-04T08:13:00.425Z"
   },
   {
    "duration": 18,
    "start_time": "2022-04-04T08:13:00.437Z"
   },
   {
    "duration": 100,
    "start_time": "2022-04-04T08:13:00.456Z"
   },
   {
    "duration": 13,
    "start_time": "2022-04-04T08:13:00.558Z"
   },
   {
    "duration": 17,
    "start_time": "2022-04-04T08:13:00.572Z"
   },
   {
    "duration": 25,
    "start_time": "2022-04-04T08:13:00.590Z"
   },
   {
    "duration": 21,
    "start_time": "2022-04-04T08:13:00.617Z"
   },
   {
    "duration": 16,
    "start_time": "2022-04-04T08:13:00.643Z"
   },
   {
    "duration": 21,
    "start_time": "2022-04-04T08:13:00.661Z"
   },
   {
    "duration": 26,
    "start_time": "2022-04-04T08:13:00.684Z"
   },
   {
    "duration": 6,
    "start_time": "2022-04-04T08:13:00.712Z"
   },
   {
    "duration": 14,
    "start_time": "2022-04-04T08:13:00.719Z"
   },
   {
    "duration": 195,
    "start_time": "2022-04-04T08:13:00.735Z"
   },
   {
    "duration": 184,
    "start_time": "2022-04-04T08:13:00.931Z"
   },
   {
    "duration": 179,
    "start_time": "2022-04-04T08:13:01.117Z"
   },
   {
    "duration": 5,
    "start_time": "2022-04-04T08:13:01.298Z"
   },
   {
    "duration": 11,
    "start_time": "2022-04-04T08:13:01.305Z"
   },
   {
    "duration": 22,
    "start_time": "2022-04-04T08:13:01.318Z"
   },
   {
    "duration": 3,
    "start_time": "2022-04-04T08:13:01.342Z"
   },
   {
    "duration": 16,
    "start_time": "2022-04-04T08:13:01.347Z"
   },
   {
    "duration": 14,
    "start_time": "2022-04-04T08:13:01.365Z"
   },
   {
    "duration": 4,
    "start_time": "2022-04-04T08:27:23.087Z"
   },
   {
    "duration": 1116,
    "start_time": "2022-04-04T08:27:34.851Z"
   },
   {
    "duration": 3,
    "start_time": "2022-04-04T08:27:35.969Z"
   },
   {
    "duration": 400,
    "start_time": "2022-04-04T08:27:35.973Z"
   },
   {
    "duration": 25,
    "start_time": "2022-04-04T08:27:36.376Z"
   },
   {
    "duration": 11,
    "start_time": "2022-04-04T08:27:36.403Z"
   },
   {
    "duration": 4,
    "start_time": "2022-04-04T08:27:36.415Z"
   },
   {
    "duration": 27,
    "start_time": "2022-04-04T08:27:36.420Z"
   },
   {
    "duration": 8,
    "start_time": "2022-04-04T08:27:36.449Z"
   },
   {
    "duration": 6,
    "start_time": "2022-04-04T08:27:36.458Z"
   },
   {
    "duration": 18,
    "start_time": "2022-04-04T08:27:36.468Z"
   },
   {
    "duration": 7,
    "start_time": "2022-04-04T08:27:36.488Z"
   },
   {
    "duration": 38,
    "start_time": "2022-04-04T08:27:36.497Z"
   },
   {
    "duration": 12,
    "start_time": "2022-04-04T08:27:36.537Z"
   },
   {
    "duration": 8,
    "start_time": "2022-04-04T08:27:36.551Z"
   },
   {
    "duration": 5,
    "start_time": "2022-04-04T08:27:36.561Z"
   },
   {
    "duration": 12,
    "start_time": "2022-04-04T08:27:36.567Z"
   },
   {
    "duration": 11,
    "start_time": "2022-04-04T08:27:36.581Z"
   },
   {
    "duration": 41,
    "start_time": "2022-04-04T08:27:36.593Z"
   },
   {
    "duration": 21,
    "start_time": "2022-04-04T08:27:36.635Z"
   },
   {
    "duration": 32,
    "start_time": "2022-04-04T08:27:36.658Z"
   },
   {
    "duration": 5,
    "start_time": "2022-04-04T08:27:36.692Z"
   },
   {
    "duration": 52,
    "start_time": "2022-04-04T08:27:36.698Z"
   },
   {
    "duration": 17,
    "start_time": "2022-04-04T08:27:36.752Z"
   },
   {
    "duration": 25,
    "start_time": "2022-04-04T08:27:36.770Z"
   },
   {
    "duration": 4,
    "start_time": "2022-04-04T08:27:36.797Z"
   },
   {
    "duration": 44,
    "start_time": "2022-04-04T08:27:36.803Z"
   },
   {
    "duration": 15,
    "start_time": "2022-04-04T08:27:36.848Z"
   },
   {
    "duration": 19,
    "start_time": "2022-04-04T08:27:36.867Z"
   },
   {
    "duration": 4,
    "start_time": "2022-04-04T08:27:36.888Z"
   },
   {
    "duration": 43,
    "start_time": "2022-04-04T08:27:36.894Z"
   },
   {
    "duration": 5,
    "start_time": "2022-04-04T08:27:36.939Z"
   },
   {
    "duration": 11,
    "start_time": "2022-04-04T08:27:36.946Z"
   },
   {
    "duration": 8,
    "start_time": "2022-04-04T08:27:36.958Z"
   },
   {
    "duration": 10,
    "start_time": "2022-04-04T08:27:36.967Z"
   },
   {
    "duration": 9,
    "start_time": "2022-04-04T08:27:36.978Z"
   },
   {
    "duration": 6,
    "start_time": "2022-04-04T08:27:36.988Z"
   },
   {
    "duration": 9,
    "start_time": "2022-04-04T08:27:36.996Z"
   },
   {
    "duration": 26,
    "start_time": "2022-04-04T08:27:37.007Z"
   },
   {
    "duration": 11,
    "start_time": "2022-04-04T08:27:37.035Z"
   },
   {
    "duration": 14,
    "start_time": "2022-04-04T08:27:37.048Z"
   },
   {
    "duration": 8,
    "start_time": "2022-04-04T08:27:37.063Z"
   },
   {
    "duration": 9,
    "start_time": "2022-04-04T08:27:37.072Z"
   },
   {
    "duration": 7,
    "start_time": "2022-04-04T08:27:37.083Z"
   },
   {
    "duration": 11,
    "start_time": "2022-04-04T08:27:37.092Z"
   },
   {
    "duration": 5,
    "start_time": "2022-04-04T08:27:37.132Z"
   },
   {
    "duration": 10,
    "start_time": "2022-04-04T08:27:37.138Z"
   },
   {
    "duration": 26,
    "start_time": "2022-04-04T08:27:37.150Z"
   },
   {
    "duration": 9,
    "start_time": "2022-04-04T08:27:37.178Z"
   },
   {
    "duration": 60,
    "start_time": "2022-04-04T08:27:37.189Z"
   },
   {
    "duration": 8,
    "start_time": "2022-04-04T08:27:37.251Z"
   },
   {
    "duration": 4,
    "start_time": "2022-04-04T08:27:37.261Z"
   },
   {
    "duration": 9,
    "start_time": "2022-04-04T08:27:37.266Z"
   },
   {
    "duration": 19,
    "start_time": "2022-04-04T08:27:37.276Z"
   },
   {
    "duration": 8,
    "start_time": "2022-04-04T08:27:37.296Z"
   },
   {
    "duration": 52,
    "start_time": "2022-04-04T08:27:37.306Z"
   },
   {
    "duration": 8,
    "start_time": "2022-04-04T08:27:37.360Z"
   },
   {
    "duration": 4,
    "start_time": "2022-04-04T08:27:37.370Z"
   },
   {
    "duration": 9,
    "start_time": "2022-04-04T08:27:37.375Z"
   },
   {
    "duration": 16,
    "start_time": "2022-04-04T08:27:37.385Z"
   },
   {
    "duration": 35,
    "start_time": "2022-04-04T08:27:37.403Z"
   },
   {
    "duration": 22,
    "start_time": "2022-04-04T08:27:37.440Z"
   },
   {
    "duration": 7,
    "start_time": "2022-04-04T08:27:37.464Z"
   },
   {
    "duration": 5,
    "start_time": "2022-04-04T08:27:37.472Z"
   },
   {
    "duration": 8,
    "start_time": "2022-04-04T08:27:37.479Z"
   },
   {
    "duration": 10,
    "start_time": "2022-04-04T08:27:37.488Z"
   },
   {
    "duration": 36,
    "start_time": "2022-04-04T08:27:37.500Z"
   },
   {
    "duration": 4,
    "start_time": "2022-04-04T08:27:37.538Z"
   },
   {
    "duration": 10,
    "start_time": "2022-04-04T08:27:37.543Z"
   },
   {
    "duration": 8,
    "start_time": "2022-04-04T08:27:37.555Z"
   },
   {
    "duration": 4,
    "start_time": "2022-04-04T08:27:37.565Z"
   },
   {
    "duration": 11,
    "start_time": "2022-04-04T08:27:37.571Z"
   },
   {
    "duration": 7,
    "start_time": "2022-04-04T08:27:37.584Z"
   },
   {
    "duration": 11,
    "start_time": "2022-04-04T08:27:37.592Z"
   },
   {
    "duration": 6,
    "start_time": "2022-04-04T08:27:37.634Z"
   },
   {
    "duration": 4,
    "start_time": "2022-04-04T08:27:37.642Z"
   },
   {
    "duration": 6,
    "start_time": "2022-04-04T08:27:37.648Z"
   },
   {
    "duration": 8,
    "start_time": "2022-04-04T08:27:37.656Z"
   },
   {
    "duration": 122,
    "start_time": "2022-04-04T08:27:37.665Z"
   },
   {
    "duration": 11,
    "start_time": "2022-04-04T08:27:37.789Z"
   },
   {
    "duration": 5,
    "start_time": "2022-04-04T08:27:37.802Z"
   },
   {
    "duration": 25,
    "start_time": "2022-04-04T08:27:37.809Z"
   },
   {
    "duration": 4,
    "start_time": "2022-04-04T08:27:37.839Z"
   },
   {
    "duration": 14,
    "start_time": "2022-04-04T08:27:37.844Z"
   },
   {
    "duration": 17,
    "start_time": "2022-04-04T08:27:37.860Z"
   },
   {
    "duration": 16,
    "start_time": "2022-04-04T08:27:37.879Z"
   },
   {
    "duration": 7,
    "start_time": "2022-04-04T08:27:37.897Z"
   },
   {
    "duration": 8,
    "start_time": "2022-04-04T08:27:37.933Z"
   },
   {
    "duration": 200,
    "start_time": "2022-04-04T08:27:37.943Z"
   },
   {
    "duration": 190,
    "start_time": "2022-04-04T08:27:38.145Z"
   },
   {
    "duration": 196,
    "start_time": "2022-04-04T08:27:38.337Z"
   },
   {
    "duration": 7,
    "start_time": "2022-04-04T08:27:38.535Z"
   },
   {
    "duration": 8,
    "start_time": "2022-04-04T08:27:38.544Z"
   },
   {
    "duration": 17,
    "start_time": "2022-04-04T08:27:38.554Z"
   },
   {
    "duration": 5,
    "start_time": "2022-04-04T08:27:38.574Z"
   },
   {
    "duration": 66,
    "start_time": "2022-04-04T08:27:38.581Z"
   },
   {
    "duration": 8,
    "start_time": "2022-04-04T08:27:38.649Z"
   },
   {
    "duration": 4,
    "start_time": "2022-04-04T08:28:09.759Z"
   },
   {
    "duration": 1113,
    "start_time": "2022-04-04T09:01:26.567Z"
   },
   {
    "duration": 3,
    "start_time": "2022-04-04T09:01:27.683Z"
   },
   {
    "duration": 408,
    "start_time": "2022-04-04T09:01:27.687Z"
   },
   {
    "duration": 27,
    "start_time": "2022-04-04T09:01:28.098Z"
   },
   {
    "duration": 12,
    "start_time": "2022-04-04T09:01:28.127Z"
   },
   {
    "duration": 4,
    "start_time": "2022-04-04T09:01:28.141Z"
   },
   {
    "duration": 27,
    "start_time": "2022-04-04T09:01:28.147Z"
   },
   {
    "duration": 8,
    "start_time": "2022-04-04T09:01:28.176Z"
   },
   {
    "duration": 10,
    "start_time": "2022-04-04T09:01:28.185Z"
   },
   {
    "duration": 43,
    "start_time": "2022-04-04T09:01:28.198Z"
   },
   {
    "duration": 8,
    "start_time": "2022-04-04T09:01:28.242Z"
   },
   {
    "duration": 6,
    "start_time": "2022-04-04T09:01:28.251Z"
   },
   {
    "duration": 14,
    "start_time": "2022-04-04T09:01:28.259Z"
   },
   {
    "duration": 10,
    "start_time": "2022-04-04T09:01:28.275Z"
   },
   {
    "duration": 6,
    "start_time": "2022-04-04T09:01:28.286Z"
   },
   {
    "duration": 41,
    "start_time": "2022-04-04T09:01:28.293Z"
   },
   {
    "duration": 13,
    "start_time": "2022-04-04T09:01:28.335Z"
   },
   {
    "duration": 6,
    "start_time": "2022-04-04T09:01:28.350Z"
   },
   {
    "duration": 24,
    "start_time": "2022-04-04T09:01:28.358Z"
   },
   {
    "duration": 53,
    "start_time": "2022-04-04T09:01:28.383Z"
   },
   {
    "duration": 5,
    "start_time": "2022-04-04T09:01:28.437Z"
   },
   {
    "duration": 30,
    "start_time": "2022-04-04T09:01:28.443Z"
   },
   {
    "duration": 16,
    "start_time": "2022-04-04T09:01:28.475Z"
   },
   {
    "duration": 46,
    "start_time": "2022-04-04T09:01:28.493Z"
   },
   {
    "duration": 5,
    "start_time": "2022-04-04T09:01:28.541Z"
   },
   {
    "duration": 25,
    "start_time": "2022-04-04T09:01:28.547Z"
   },
   {
    "duration": 14,
    "start_time": "2022-04-04T09:01:28.574Z"
   },
   {
    "duration": 43,
    "start_time": "2022-04-04T09:01:28.592Z"
   },
   {
    "duration": 5,
    "start_time": "2022-04-04T09:01:28.637Z"
   },
   {
    "duration": 14,
    "start_time": "2022-04-04T09:01:28.643Z"
   },
   {
    "duration": 6,
    "start_time": "2022-04-04T09:01:28.658Z"
   },
   {
    "duration": 10,
    "start_time": "2022-04-04T09:01:28.666Z"
   },
   {
    "duration": 8,
    "start_time": "2022-04-04T09:01:28.678Z"
   },
   {
    "duration": 10,
    "start_time": "2022-04-04T09:01:28.687Z"
   },
   {
    "duration": 4,
    "start_time": "2022-04-04T09:01:28.698Z"
   },
   {
    "duration": 4,
    "start_time": "2022-04-04T09:01:28.733Z"
   },
   {
    "duration": 5,
    "start_time": "2022-04-04T09:01:28.739Z"
   },
   {
    "duration": 10,
    "start_time": "2022-04-04T09:01:28.746Z"
   },
   {
    "duration": 17,
    "start_time": "2022-04-04T09:01:28.757Z"
   },
   {
    "duration": 8,
    "start_time": "2022-04-04T09:01:28.775Z"
   },
   {
    "duration": 12,
    "start_time": "2022-04-04T09:01:28.784Z"
   },
   {
    "duration": 7,
    "start_time": "2022-04-04T09:01:28.798Z"
   },
   {
    "duration": 8,
    "start_time": "2022-04-04T09:01:28.833Z"
   },
   {
    "duration": 6,
    "start_time": "2022-04-04T09:01:28.842Z"
   },
   {
    "duration": 8,
    "start_time": "2022-04-04T09:01:28.850Z"
   },
   {
    "duration": 26,
    "start_time": "2022-04-04T09:01:28.859Z"
   },
   {
    "duration": 9,
    "start_time": "2022-04-04T09:01:28.886Z"
   },
   {
    "duration": 61,
    "start_time": "2022-04-04T09:01:28.897Z"
   },
   {
    "duration": 8,
    "start_time": "2022-04-04T09:01:28.960Z"
   },
   {
    "duration": 5,
    "start_time": "2022-04-04T09:01:28.969Z"
   },
   {
    "duration": 9,
    "start_time": "2022-04-04T09:01:28.976Z"
   },
   {
    "duration": 18,
    "start_time": "2022-04-04T09:01:28.987Z"
   },
   {
    "duration": 33,
    "start_time": "2022-04-04T09:01:29.007Z"
   },
   {
    "duration": 32,
    "start_time": "2022-04-04T09:01:29.041Z"
   },
   {
    "duration": 8,
    "start_time": "2022-04-04T09:01:29.075Z"
   },
   {
    "duration": 8,
    "start_time": "2022-04-04T09:01:29.085Z"
   },
   {
    "duration": 9,
    "start_time": "2022-04-04T09:01:29.095Z"
   },
   {
    "duration": 36,
    "start_time": "2022-04-04T09:01:29.106Z"
   },
   {
    "duration": 9,
    "start_time": "2022-04-04T09:01:29.144Z"
   },
   {
    "duration": 23,
    "start_time": "2022-04-04T09:01:29.155Z"
   },
   {
    "duration": 9,
    "start_time": "2022-04-04T09:01:29.180Z"
   },
   {
    "duration": 4,
    "start_time": "2022-04-04T09:01:29.191Z"
   },
   {
    "duration": 38,
    "start_time": "2022-04-04T09:01:29.197Z"
   },
   {
    "duration": 10,
    "start_time": "2022-04-04T09:01:29.237Z"
   },
   {
    "duration": 9,
    "start_time": "2022-04-04T09:01:29.248Z"
   },
   {
    "duration": 4,
    "start_time": "2022-04-04T09:01:29.258Z"
   },
   {
    "duration": 11,
    "start_time": "2022-04-04T09:01:29.264Z"
   },
   {
    "duration": 11,
    "start_time": "2022-04-04T09:01:29.277Z"
   },
   {
    "duration": 44,
    "start_time": "2022-04-04T09:01:29.289Z"
   },
   {
    "duration": 11,
    "start_time": "2022-04-04T09:01:29.335Z"
   },
   {
    "duration": 11,
    "start_time": "2022-04-04T09:01:29.348Z"
   },
   {
    "duration": 12,
    "start_time": "2022-04-04T09:01:29.361Z"
   },
   {
    "duration": 9,
    "start_time": "2022-04-04T09:01:29.375Z"
   },
   {
    "duration": 4,
    "start_time": "2022-04-04T09:01:29.386Z"
   },
   {
    "duration": 6,
    "start_time": "2022-04-04T09:01:29.392Z"
   },
   {
    "duration": 34,
    "start_time": "2022-04-04T09:01:29.400Z"
   },
   {
    "duration": 106,
    "start_time": "2022-04-04T09:01:29.435Z"
   },
   {
    "duration": 13,
    "start_time": "2022-04-04T09:01:29.543Z"
   },
   {
    "duration": 5,
    "start_time": "2022-04-04T09:01:29.557Z"
   },
   {
    "duration": 13,
    "start_time": "2022-04-04T09:01:29.563Z"
   },
   {
    "duration": 5,
    "start_time": "2022-04-04T09:01:29.577Z"
   },
   {
    "duration": 10,
    "start_time": "2022-04-04T09:01:29.588Z"
   },
   {
    "duration": 17,
    "start_time": "2022-04-04T09:01:29.632Z"
   },
   {
    "duration": 15,
    "start_time": "2022-04-04T09:01:29.651Z"
   },
   {
    "duration": 6,
    "start_time": "2022-04-04T09:01:29.668Z"
   },
   {
    "duration": 6,
    "start_time": "2022-04-04T09:01:29.676Z"
   },
   {
    "duration": 219,
    "start_time": "2022-04-04T09:01:29.684Z"
   },
   {
    "duration": 187,
    "start_time": "2022-04-04T09:01:29.904Z"
   },
   {
    "duration": 186,
    "start_time": "2022-04-04T09:01:30.093Z"
   },
   {
    "duration": 6,
    "start_time": "2022-04-04T09:01:30.281Z"
   },
   {
    "duration": 18,
    "start_time": "2022-04-04T09:01:30.288Z"
   },
   {
    "duration": 30,
    "start_time": "2022-04-04T09:01:30.308Z"
   },
   {
    "duration": 13,
    "start_time": "2022-04-04T09:01:30.340Z"
   },
   {
    "duration": 25,
    "start_time": "2022-04-04T09:01:30.355Z"
   },
   {
    "duration": 23,
    "start_time": "2022-04-04T09:01:30.382Z"
   },
   {
    "duration": 10,
    "start_time": "2022-04-04T09:21:19.728Z"
   },
   {
    "duration": 14,
    "start_time": "2022-04-04T09:21:21.523Z"
   },
   {
    "duration": 1185,
    "start_time": "2022-04-04T09:21:40.211Z"
   },
   {
    "duration": 3,
    "start_time": "2022-04-04T09:21:41.399Z"
   },
   {
    "duration": 432,
    "start_time": "2022-04-04T09:21:41.404Z"
   },
   {
    "duration": 31,
    "start_time": "2022-04-04T09:21:41.839Z"
   },
   {
    "duration": 12,
    "start_time": "2022-04-04T09:21:41.872Z"
   },
   {
    "duration": 4,
    "start_time": "2022-04-04T09:21:41.886Z"
   },
   {
    "duration": 53,
    "start_time": "2022-04-04T09:21:41.891Z"
   },
   {
    "duration": 11,
    "start_time": "2022-04-04T09:21:41.947Z"
   },
   {
    "duration": 5,
    "start_time": "2022-04-04T09:21:41.960Z"
   },
   {
    "duration": 19,
    "start_time": "2022-04-04T09:21:41.968Z"
   },
   {
    "duration": 8,
    "start_time": "2022-04-04T09:21:41.988Z"
   },
   {
    "duration": 5,
    "start_time": "2022-04-04T09:21:41.998Z"
   },
   {
    "duration": 30,
    "start_time": "2022-04-04T09:21:42.034Z"
   },
   {
    "duration": 10,
    "start_time": "2022-04-04T09:21:42.066Z"
   },
   {
    "duration": 5,
    "start_time": "2022-04-04T09:21:42.077Z"
   },
   {
    "duration": 12,
    "start_time": "2022-04-04T09:21:42.084Z"
   },
   {
    "duration": 17,
    "start_time": "2022-04-04T09:21:42.098Z"
   },
   {
    "duration": 18,
    "start_time": "2022-04-04T09:21:42.117Z"
   },
   {
    "duration": 28,
    "start_time": "2022-04-04T09:21:42.138Z"
   },
   {
    "duration": 36,
    "start_time": "2022-04-04T09:21:42.168Z"
   },
   {
    "duration": 32,
    "start_time": "2022-04-04T09:21:42.205Z"
   },
   {
    "duration": 36,
    "start_time": "2022-04-04T09:21:42.239Z"
   },
   {
    "duration": 17,
    "start_time": "2022-04-04T09:21:42.277Z"
   },
   {
    "duration": 48,
    "start_time": "2022-04-04T09:21:42.295Z"
   },
   {
    "duration": 6,
    "start_time": "2022-04-04T09:21:42.345Z"
   },
   {
    "duration": 24,
    "start_time": "2022-04-04T09:21:42.353Z"
   },
   {
    "duration": 15,
    "start_time": "2022-04-04T09:21:42.379Z"
   },
   {
    "duration": 50,
    "start_time": "2022-04-04T09:21:42.399Z"
   },
   {
    "duration": 5,
    "start_time": "2022-04-04T09:21:42.451Z"
   },
   {
    "duration": 15,
    "start_time": "2022-04-04T09:21:42.458Z"
   },
   {
    "duration": 5,
    "start_time": "2022-04-04T09:21:42.475Z"
   },
   {
    "duration": 9,
    "start_time": "2022-04-04T09:21:42.482Z"
   },
   {
    "duration": 7,
    "start_time": "2022-04-04T09:21:42.492Z"
   },
   {
    "duration": 38,
    "start_time": "2022-04-04T09:21:42.501Z"
   },
   {
    "duration": 6,
    "start_time": "2022-04-04T09:21:42.541Z"
   },
   {
    "duration": 10,
    "start_time": "2022-04-04T09:21:42.549Z"
   },
   {
    "duration": 5,
    "start_time": "2022-04-04T09:21:42.561Z"
   },
   {
    "duration": 8,
    "start_time": "2022-04-04T09:21:42.568Z"
   },
   {
    "duration": 15,
    "start_time": "2022-04-04T09:21:42.577Z"
   },
   {
    "duration": 8,
    "start_time": "2022-04-04T09:21:42.594Z"
   },
   {
    "duration": 36,
    "start_time": "2022-04-04T09:21:42.604Z"
   },
   {
    "duration": 13,
    "start_time": "2022-04-04T09:21:42.642Z"
   },
   {
    "duration": 11,
    "start_time": "2022-04-04T09:21:42.657Z"
   },
   {
    "duration": 8,
    "start_time": "2022-04-04T09:21:42.670Z"
   },
   {
    "duration": 10,
    "start_time": "2022-04-04T09:21:42.680Z"
   },
   {
    "duration": 49,
    "start_time": "2022-04-04T09:21:42.692Z"
   },
   {
    "duration": 10,
    "start_time": "2022-04-04T09:21:42.743Z"
   },
   {
    "duration": 35,
    "start_time": "2022-04-04T09:21:42.755Z"
   },
   {
    "duration": 8,
    "start_time": "2022-04-04T09:21:42.791Z"
   },
   {
    "duration": 4,
    "start_time": "2022-04-04T09:21:42.801Z"
   },
   {
    "duration": 34,
    "start_time": "2022-04-04T09:21:42.807Z"
   },
   {
    "duration": 20,
    "start_time": "2022-04-04T09:21:42.846Z"
   },
   {
    "duration": 9,
    "start_time": "2022-04-04T09:21:42.868Z"
   },
   {
    "duration": 54,
    "start_time": "2022-04-04T09:21:42.879Z"
   },
   {
    "duration": 12,
    "start_time": "2022-04-04T09:21:42.936Z"
   },
   {
    "duration": 6,
    "start_time": "2022-04-04T09:21:42.950Z"
   },
   {
    "duration": 9,
    "start_time": "2022-04-04T09:21:42.957Z"
   },
   {
    "duration": 16,
    "start_time": "2022-04-04T09:21:42.968Z"
   },
   {
    "duration": 8,
    "start_time": "2022-04-04T09:21:42.986Z"
   },
   {
    "duration": 46,
    "start_time": "2022-04-04T09:21:42.995Z"
   },
   {
    "duration": 10,
    "start_time": "2022-04-04T09:21:43.043Z"
   },
   {
    "duration": 5,
    "start_time": "2022-04-04T09:21:43.055Z"
   },
   {
    "duration": 11,
    "start_time": "2022-04-04T09:21:43.062Z"
   },
   {
    "duration": 13,
    "start_time": "2022-04-04T09:21:43.075Z"
   },
   {
    "duration": 8,
    "start_time": "2022-04-04T09:21:43.090Z"
   },
   {
    "duration": 3,
    "start_time": "2022-04-04T09:21:43.100Z"
   },
   {
    "duration": 11,
    "start_time": "2022-04-04T09:21:43.133Z"
   },
   {
    "duration": 15,
    "start_time": "2022-04-04T09:21:43.146Z"
   },
   {
    "duration": 4,
    "start_time": "2022-04-04T09:21:43.163Z"
   },
   {
    "duration": 13,
    "start_time": "2022-04-04T09:21:43.168Z"
   },
   {
    "duration": 9,
    "start_time": "2022-04-04T09:21:43.182Z"
   },
   {
    "duration": 12,
    "start_time": "2022-04-04T09:21:43.193Z"
   },
   {
    "duration": 35,
    "start_time": "2022-04-04T09:21:43.206Z"
   },
   {
    "duration": 9,
    "start_time": "2022-04-04T09:21:43.244Z"
   },
   {
    "duration": 8,
    "start_time": "2022-04-04T09:21:43.254Z"
   },
   {
    "duration": 9,
    "start_time": "2022-04-04T09:21:43.264Z"
   },
   {
    "duration": 121,
    "start_time": "2022-04-04T09:21:43.275Z"
   },
   {
    "duration": 13,
    "start_time": "2022-04-04T09:21:43.398Z"
   },
   {
    "duration": 22,
    "start_time": "2022-04-04T09:21:43.413Z"
   },
   {
    "duration": 16,
    "start_time": "2022-04-04T09:21:43.438Z"
   },
   {
    "duration": 6,
    "start_time": "2022-04-04T09:21:43.456Z"
   },
   {
    "duration": 12,
    "start_time": "2022-04-04T09:21:43.467Z"
   },
   {
    "duration": 19,
    "start_time": "2022-04-04T09:21:43.481Z"
   },
   {
    "duration": 47,
    "start_time": "2022-04-04T09:21:43.501Z"
   },
   {
    "duration": 8,
    "start_time": "2022-04-04T09:21:43.550Z"
   },
   {
    "duration": 8,
    "start_time": "2022-04-04T09:21:43.560Z"
   },
   {
    "duration": 223,
    "start_time": "2022-04-04T09:21:43.570Z"
   },
   {
    "duration": 198,
    "start_time": "2022-04-04T09:21:43.795Z"
   },
   {
    "duration": 192,
    "start_time": "2022-04-04T09:21:43.995Z"
   },
   {
    "duration": 5,
    "start_time": "2022-04-04T09:21:44.189Z"
   },
   {
    "duration": 6,
    "start_time": "2022-04-04T09:21:44.195Z"
   },
   {
    "duration": 12,
    "start_time": "2022-04-04T09:21:44.203Z"
   },
   {
    "duration": 5,
    "start_time": "2022-04-04T09:21:44.234Z"
   },
   {
    "duration": 20,
    "start_time": "2022-04-04T09:21:44.241Z"
   },
   {
    "duration": 11,
    "start_time": "2022-04-04T09:21:44.262Z"
   },
   {
    "duration": 7,
    "start_time": "2022-04-04T09:22:20.654Z"
   },
   {
    "duration": 12,
    "start_time": "2022-04-04T09:22:21.779Z"
   },
   {
    "duration": 1141,
    "start_time": "2022-04-04T09:22:30.066Z"
   },
   {
    "duration": 3,
    "start_time": "2022-04-04T09:22:31.209Z"
   },
   {
    "duration": 428,
    "start_time": "2022-04-04T09:22:31.213Z"
   },
   {
    "duration": 27,
    "start_time": "2022-04-04T09:22:31.644Z"
   },
   {
    "duration": 11,
    "start_time": "2022-04-04T09:22:31.673Z"
   },
   {
    "duration": 21,
    "start_time": "2022-04-04T09:22:31.686Z"
   },
   {
    "duration": 26,
    "start_time": "2022-04-04T09:22:31.708Z"
   },
   {
    "duration": 12,
    "start_time": "2022-04-04T09:22:31.736Z"
   },
   {
    "duration": 4,
    "start_time": "2022-04-04T09:22:31.750Z"
   },
   {
    "duration": 19,
    "start_time": "2022-04-04T09:22:31.758Z"
   },
   {
    "duration": 9,
    "start_time": "2022-04-04T09:22:31.779Z"
   },
   {
    "duration": 44,
    "start_time": "2022-04-04T09:22:31.789Z"
   },
   {
    "duration": 22,
    "start_time": "2022-04-04T09:22:31.835Z"
   },
   {
    "duration": 10,
    "start_time": "2022-04-04T09:22:31.859Z"
   },
   {
    "duration": 5,
    "start_time": "2022-04-04T09:22:31.870Z"
   },
   {
    "duration": 16,
    "start_time": "2022-04-04T09:22:31.877Z"
   },
   {
    "duration": 14,
    "start_time": "2022-04-04T09:22:31.894Z"
   },
   {
    "duration": 24,
    "start_time": "2022-04-04T09:22:31.910Z"
   },
   {
    "duration": 36,
    "start_time": "2022-04-04T09:22:31.936Z"
   },
   {
    "duration": 34,
    "start_time": "2022-04-04T09:22:31.973Z"
   },
   {
    "duration": 4,
    "start_time": "2022-04-04T09:22:32.009Z"
   },
   {
    "duration": 43,
    "start_time": "2022-04-04T09:22:32.015Z"
   },
   {
    "duration": 16,
    "start_time": "2022-04-04T09:22:32.059Z"
   },
   {
    "duration": 22,
    "start_time": "2022-04-04T09:22:32.077Z"
   },
   {
    "duration": 5,
    "start_time": "2022-04-04T09:22:32.101Z"
   },
   {
    "duration": 52,
    "start_time": "2022-04-04T09:22:32.107Z"
   },
   {
    "duration": 14,
    "start_time": "2022-04-04T09:22:32.160Z"
   },
   {
    "duration": 19,
    "start_time": "2022-04-04T09:22:32.179Z"
   },
   {
    "duration": 4,
    "start_time": "2022-04-04T09:22:32.200Z"
   },
   {
    "duration": 45,
    "start_time": "2022-04-04T09:22:32.205Z"
   },
   {
    "duration": 6,
    "start_time": "2022-04-04T09:22:32.251Z"
   },
   {
    "duration": 8,
    "start_time": "2022-04-04T09:22:32.258Z"
   },
   {
    "duration": 7,
    "start_time": "2022-04-04T09:22:32.268Z"
   },
   {
    "duration": 9,
    "start_time": "2022-04-04T09:22:32.277Z"
   },
   {
    "duration": 4,
    "start_time": "2022-04-04T09:22:32.287Z"
   },
   {
    "duration": 9,
    "start_time": "2022-04-04T09:22:32.292Z"
   },
   {
    "duration": 46,
    "start_time": "2022-04-04T09:22:32.302Z"
   },
   {
    "duration": 10,
    "start_time": "2022-04-04T09:22:32.349Z"
   },
   {
    "duration": 17,
    "start_time": "2022-04-04T09:22:32.361Z"
   },
   {
    "duration": 13,
    "start_time": "2022-04-04T09:22:32.379Z"
   },
   {
    "duration": 16,
    "start_time": "2022-04-04T09:22:32.394Z"
   },
   {
    "duration": 10,
    "start_time": "2022-04-04T09:22:32.412Z"
   },
   {
    "duration": 11,
    "start_time": "2022-04-04T09:22:32.423Z"
   },
   {
    "duration": 15,
    "start_time": "2022-04-04T09:22:32.436Z"
   },
   {
    "duration": 17,
    "start_time": "2022-04-04T09:22:32.452Z"
   },
   {
    "duration": 26,
    "start_time": "2022-04-04T09:22:32.470Z"
   },
   {
    "duration": 8,
    "start_time": "2022-04-04T09:22:32.498Z"
   },
   {
    "duration": 48,
    "start_time": "2022-04-04T09:22:32.507Z"
   },
   {
    "duration": 7,
    "start_time": "2022-04-04T09:22:32.557Z"
   },
   {
    "duration": 5,
    "start_time": "2022-04-04T09:22:32.566Z"
   },
   {
    "duration": 9,
    "start_time": "2022-04-04T09:22:32.572Z"
   },
   {
    "duration": 20,
    "start_time": "2022-04-04T09:22:32.583Z"
   },
   {
    "duration": 28,
    "start_time": "2022-04-04T09:22:32.605Z"
   },
   {
    "duration": 36,
    "start_time": "2022-04-04T09:22:32.637Z"
   },
   {
    "duration": 8,
    "start_time": "2022-04-04T09:22:32.675Z"
   },
   {
    "duration": 5,
    "start_time": "2022-04-04T09:22:32.684Z"
   },
   {
    "duration": 8,
    "start_time": "2022-04-04T09:22:32.690Z"
   },
   {
    "duration": 46,
    "start_time": "2022-04-04T09:22:32.700Z"
   },
   {
    "duration": 10,
    "start_time": "2022-04-04T09:22:32.748Z"
   },
   {
    "duration": 23,
    "start_time": "2022-04-04T09:22:32.759Z"
   },
   {
    "duration": 8,
    "start_time": "2022-04-04T09:22:32.784Z"
   },
   {
    "duration": 4,
    "start_time": "2022-04-04T09:22:32.793Z"
   },
   {
    "duration": 42,
    "start_time": "2022-04-04T09:22:32.798Z"
   },
   {
    "duration": 20,
    "start_time": "2022-04-04T09:22:32.843Z"
   },
   {
    "duration": 14,
    "start_time": "2022-04-04T09:22:32.865Z"
   },
   {
    "duration": 9,
    "start_time": "2022-04-04T09:22:32.881Z"
   },
   {
    "duration": 11,
    "start_time": "2022-04-04T09:22:32.892Z"
   },
   {
    "duration": 9,
    "start_time": "2022-04-04T09:22:32.905Z"
   },
   {
    "duration": 5,
    "start_time": "2022-04-04T09:22:32.915Z"
   },
   {
    "duration": 21,
    "start_time": "2022-04-04T09:22:32.922Z"
   },
   {
    "duration": 10,
    "start_time": "2022-04-04T09:22:32.945Z"
   },
   {
    "duration": 10,
    "start_time": "2022-04-04T09:22:32.956Z"
   },
   {
    "duration": 7,
    "start_time": "2022-04-04T09:22:32.968Z"
   },
   {
    "duration": 4,
    "start_time": "2022-04-04T09:22:32.976Z"
   },
   {
    "duration": 7,
    "start_time": "2022-04-04T09:22:32.981Z"
   },
   {
    "duration": 8,
    "start_time": "2022-04-04T09:22:32.989Z"
   },
   {
    "duration": 156,
    "start_time": "2022-04-04T09:22:32.998Z"
   },
   {
    "duration": 13,
    "start_time": "2022-04-04T09:22:33.155Z"
   },
   {
    "duration": 5,
    "start_time": "2022-04-04T09:22:33.169Z"
   },
   {
    "duration": 10,
    "start_time": "2022-04-04T09:22:33.176Z"
   },
   {
    "duration": 4,
    "start_time": "2022-04-04T09:22:33.188Z"
   },
   {
    "duration": 10,
    "start_time": "2022-04-04T09:22:33.198Z"
   },
   {
    "duration": 23,
    "start_time": "2022-04-04T09:22:33.234Z"
   },
   {
    "duration": 14,
    "start_time": "2022-04-04T09:22:33.258Z"
   },
   {
    "duration": 6,
    "start_time": "2022-04-04T09:22:33.274Z"
   },
   {
    "duration": 7,
    "start_time": "2022-04-04T09:22:33.281Z"
   },
   {
    "duration": 233,
    "start_time": "2022-04-04T09:22:33.289Z"
   },
   {
    "duration": 195,
    "start_time": "2022-04-04T09:22:33.524Z"
   },
   {
    "duration": 180,
    "start_time": "2022-04-04T09:22:33.721Z"
   },
   {
    "duration": 6,
    "start_time": "2022-04-04T09:22:33.902Z"
   },
   {
    "duration": 13,
    "start_time": "2022-04-04T09:22:33.909Z"
   },
   {
    "duration": 25,
    "start_time": "2022-04-04T09:22:33.924Z"
   },
   {
    "duration": 7,
    "start_time": "2022-04-04T09:22:33.951Z"
   },
   {
    "duration": 13,
    "start_time": "2022-04-04T09:22:33.960Z"
   },
   {
    "duration": 6,
    "start_time": "2022-04-04T09:22:33.974Z"
   },
   {
    "duration": 5,
    "start_time": "2022-04-04T09:44:09.722Z"
   },
   {
    "duration": 0,
    "start_time": "2022-04-04T09:45:21.242Z"
   },
   {
    "duration": 1926,
    "start_time": "2022-04-04T09:45:27.092Z"
   },
   {
    "duration": 1826,
    "start_time": "2022-04-04T09:45:46.170Z"
   },
   {
    "duration": 1253,
    "start_time": "2022-04-04T09:45:53.314Z"
   },
   {
    "duration": 3,
    "start_time": "2022-04-04T09:45:54.570Z"
   },
   {
    "duration": 498,
    "start_time": "2022-04-04T09:45:54.575Z"
   },
   {
    "duration": 25,
    "start_time": "2022-04-04T09:45:55.075Z"
   },
   {
    "duration": 11,
    "start_time": "2022-04-04T09:45:55.101Z"
   },
   {
    "duration": 4,
    "start_time": "2022-04-04T09:45:55.114Z"
   },
   {
    "duration": 42,
    "start_time": "2022-04-04T09:45:55.119Z"
   },
   {
    "duration": 8,
    "start_time": "2022-04-04T09:45:55.163Z"
   },
   {
    "duration": 5,
    "start_time": "2022-04-04T09:45:55.173Z"
   },
   {
    "duration": 20,
    "start_time": "2022-04-04T09:45:55.181Z"
   },
   {
    "duration": 34,
    "start_time": "2022-04-04T09:45:55.202Z"
   },
   {
    "duration": 19,
    "start_time": "2022-04-04T09:45:55.238Z"
   },
   {
    "duration": 11,
    "start_time": "2022-04-04T09:45:55.258Z"
   },
   {
    "duration": 10,
    "start_time": "2022-04-04T09:45:55.271Z"
   },
   {
    "duration": 6,
    "start_time": "2022-04-04T09:45:55.282Z"
   },
   {
    "duration": 13,
    "start_time": "2022-04-04T09:45:55.289Z"
   },
   {
    "duration": 40,
    "start_time": "2022-04-04T09:45:55.304Z"
   },
   {
    "duration": 8,
    "start_time": "2022-04-04T09:45:55.347Z"
   },
   {
    "duration": 25,
    "start_time": "2022-04-04T09:45:55.356Z"
   },
   {
    "duration": 50,
    "start_time": "2022-04-04T09:45:55.383Z"
   },
   {
    "duration": 7,
    "start_time": "2022-04-04T09:45:55.435Z"
   },
   {
    "duration": 34,
    "start_time": "2022-04-04T09:45:55.444Z"
   },
   {
    "duration": 17,
    "start_time": "2022-04-04T09:45:55.480Z"
   },
   {
    "duration": 48,
    "start_time": "2022-04-04T09:45:55.498Z"
   },
   {
    "duration": 6,
    "start_time": "2022-04-04T09:45:55.548Z"
   },
   {
    "duration": 37,
    "start_time": "2022-04-04T09:45:55.556Z"
   },
   {
    "duration": 40,
    "start_time": "2022-04-04T09:45:55.595Z"
   },
   {
    "duration": 22,
    "start_time": "2022-04-04T09:45:55.641Z"
   },
   {
    "duration": 4,
    "start_time": "2022-04-04T09:45:55.665Z"
   },
   {
    "duration": 19,
    "start_time": "2022-04-04T09:45:55.671Z"
   },
   {
    "duration": 6,
    "start_time": "2022-04-04T09:45:55.692Z"
   },
   {
    "duration": 13,
    "start_time": "2022-04-04T09:45:55.699Z"
   },
   {
    "duration": 19,
    "start_time": "2022-04-04T09:45:55.734Z"
   },
   {
    "duration": 12,
    "start_time": "2022-04-04T09:45:55.755Z"
   },
   {
    "duration": 4,
    "start_time": "2022-04-04T09:45:55.768Z"
   },
   {
    "duration": 8,
    "start_time": "2022-04-04T09:45:55.774Z"
   },
   {
    "duration": 8,
    "start_time": "2022-04-04T09:45:55.784Z"
   },
   {
    "duration": 16,
    "start_time": "2022-04-04T09:45:55.794Z"
   },
   {
    "duration": 31,
    "start_time": "2022-04-04T09:45:55.811Z"
   },
   {
    "duration": 11,
    "start_time": "2022-04-04T09:45:55.844Z"
   },
   {
    "duration": 7,
    "start_time": "2022-04-04T09:45:55.856Z"
   },
   {
    "duration": 7,
    "start_time": "2022-04-04T09:45:55.865Z"
   },
   {
    "duration": 8,
    "start_time": "2022-04-04T09:45:55.873Z"
   },
   {
    "duration": 5,
    "start_time": "2022-04-04T09:45:55.883Z"
   },
   {
    "duration": 7,
    "start_time": "2022-04-04T09:45:55.889Z"
   },
   {
    "duration": 27,
    "start_time": "2022-04-04T09:45:55.934Z"
   },
   {
    "duration": 8,
    "start_time": "2022-04-04T09:45:55.963Z"
   },
   {
    "duration": 33,
    "start_time": "2022-04-04T09:45:55.973Z"
   },
   {
    "duration": 35,
    "start_time": "2022-04-04T09:45:56.007Z"
   },
   {
    "duration": 12,
    "start_time": "2022-04-04T09:45:56.044Z"
   },
   {
    "duration": 10,
    "start_time": "2022-04-04T09:45:56.057Z"
   },
   {
    "duration": 19,
    "start_time": "2022-04-04T09:45:56.069Z"
   },
   {
    "duration": 9,
    "start_time": "2022-04-04T09:45:56.089Z"
   },
   {
    "duration": 70,
    "start_time": "2022-04-04T09:45:56.100Z"
   },
   {
    "duration": 8,
    "start_time": "2022-04-04T09:45:56.172Z"
   },
   {
    "duration": 8,
    "start_time": "2022-04-04T09:45:56.182Z"
   },
   {
    "duration": 8,
    "start_time": "2022-04-04T09:45:56.192Z"
   },
   {
    "duration": 17,
    "start_time": "2022-04-04T09:45:56.202Z"
   },
   {
    "duration": 12,
    "start_time": "2022-04-04T09:45:56.233Z"
   },
   {
    "duration": 26,
    "start_time": "2022-04-04T09:45:56.247Z"
   },
   {
    "duration": 8,
    "start_time": "2022-04-04T09:45:56.274Z"
   },
   {
    "duration": 10,
    "start_time": "2022-04-04T09:45:56.284Z"
   },
   {
    "duration": 11,
    "start_time": "2022-04-04T09:45:56.296Z"
   },
   {
    "duration": 25,
    "start_time": "2022-04-04T09:45:56.308Z"
   },
   {
    "duration": 9,
    "start_time": "2022-04-04T09:45:56.336Z"
   },
   {
    "duration": 11,
    "start_time": "2022-04-04T09:45:56.348Z"
   },
   {
    "duration": 10,
    "start_time": "2022-04-04T09:45:56.361Z"
   },
   {
    "duration": 9,
    "start_time": "2022-04-04T09:45:56.372Z"
   },
   {
    "duration": 7,
    "start_time": "2022-04-04T09:45:56.383Z"
   },
   {
    "duration": 5,
    "start_time": "2022-04-04T09:45:56.391Z"
   },
   {
    "duration": 12,
    "start_time": "2022-04-04T09:45:56.398Z"
   },
   {
    "duration": 9,
    "start_time": "2022-04-04T09:45:56.433Z"
   },
   {
    "duration": 18,
    "start_time": "2022-04-04T09:45:56.445Z"
   },
   {
    "duration": 8,
    "start_time": "2022-04-04T09:45:56.465Z"
   },
   {
    "duration": 5,
    "start_time": "2022-04-04T09:45:56.475Z"
   },
   {
    "duration": 10,
    "start_time": "2022-04-04T09:45:56.481Z"
   },
   {
    "duration": 14,
    "start_time": "2022-04-04T09:45:56.492Z"
   },
   {
    "duration": 184,
    "start_time": "2022-04-04T09:45:56.508Z"
   },
   {
    "duration": 16,
    "start_time": "2022-04-04T09:45:56.694Z"
   },
   {
    "duration": 20,
    "start_time": "2022-04-04T09:45:56.712Z"
   },
   {
    "duration": 18,
    "start_time": "2022-04-04T09:45:56.735Z"
   },
   {
    "duration": 4,
    "start_time": "2022-04-04T09:45:56.759Z"
   },
   {
    "duration": 13,
    "start_time": "2022-04-04T09:45:56.764Z"
   },
   {
    "duration": 17,
    "start_time": "2022-04-04T09:45:56.779Z"
   },
   {
    "duration": 43,
    "start_time": "2022-04-04T09:45:56.798Z"
   },
   {
    "duration": 9,
    "start_time": "2022-04-04T09:45:56.843Z"
   },
   {
    "duration": 9,
    "start_time": "2022-04-04T09:45:56.854Z"
   },
   {
    "duration": 224,
    "start_time": "2022-04-04T09:45:56.864Z"
   },
   {
    "duration": 202,
    "start_time": "2022-04-04T09:45:57.090Z"
   },
   {
    "duration": 203,
    "start_time": "2022-04-04T09:45:57.294Z"
   },
   {
    "duration": 8,
    "start_time": "2022-04-04T09:45:57.499Z"
   },
   {
    "duration": 27,
    "start_time": "2022-04-04T09:45:57.509Z"
   },
   {
    "duration": 29,
    "start_time": "2022-04-04T09:45:57.538Z"
   },
   {
    "duration": 5,
    "start_time": "2022-04-04T09:45:57.569Z"
   },
   {
    "duration": 14,
    "start_time": "2022-04-04T09:45:57.576Z"
   },
   {
    "duration": 6,
    "start_time": "2022-04-04T09:45:57.592Z"
   },
   {
    "duration": 12,
    "start_time": "2022-04-04T09:46:29.080Z"
   },
   {
    "duration": 1142,
    "start_time": "2022-04-04T09:47:07.160Z"
   },
   {
    "duration": 2,
    "start_time": "2022-04-04T09:47:08.305Z"
   },
   {
    "duration": 450,
    "start_time": "2022-04-04T09:47:08.308Z"
   },
   {
    "duration": 27,
    "start_time": "2022-04-04T09:47:08.760Z"
   },
   {
    "duration": 12,
    "start_time": "2022-04-04T09:47:08.788Z"
   },
   {
    "duration": 5,
    "start_time": "2022-04-04T09:47:08.801Z"
   },
   {
    "duration": 34,
    "start_time": "2022-04-04T09:47:08.808Z"
   },
   {
    "duration": 9,
    "start_time": "2022-04-04T09:47:08.845Z"
   },
   {
    "duration": 7,
    "start_time": "2022-04-04T09:47:08.855Z"
   },
   {
    "duration": 20,
    "start_time": "2022-04-04T09:47:08.866Z"
   },
   {
    "duration": 8,
    "start_time": "2022-04-04T09:47:08.888Z"
   },
   {
    "duration": 36,
    "start_time": "2022-04-04T09:47:08.898Z"
   },
   {
    "duration": 19,
    "start_time": "2022-04-04T09:47:08.937Z"
   },
   {
    "duration": 15,
    "start_time": "2022-04-04T09:47:08.959Z"
   },
   {
    "duration": 5,
    "start_time": "2022-04-04T09:47:08.976Z"
   },
   {
    "duration": 16,
    "start_time": "2022-04-04T09:47:08.983Z"
   },
   {
    "duration": 15,
    "start_time": "2022-04-04T09:47:09.001Z"
   },
   {
    "duration": 21,
    "start_time": "2022-04-04T09:47:09.035Z"
   },
   {
    "duration": 32,
    "start_time": "2022-04-04T09:47:09.057Z"
   },
   {
    "duration": 36,
    "start_time": "2022-04-04T09:47:09.091Z"
   },
   {
    "duration": 7,
    "start_time": "2022-04-04T09:47:09.134Z"
   },
   {
    "duration": 54,
    "start_time": "2022-04-04T09:47:09.143Z"
   },
   {
    "duration": 17,
    "start_time": "2022-04-04T09:47:09.199Z"
   },
   {
    "duration": 50,
    "start_time": "2022-04-04T09:47:09.218Z"
   },
   {
    "duration": 6,
    "start_time": "2022-04-04T09:47:09.270Z"
   },
   {
    "duration": 56,
    "start_time": "2022-04-04T09:47:09.280Z"
   },
   {
    "duration": 23,
    "start_time": "2022-04-04T09:47:09.338Z"
   },
   {
    "duration": 20,
    "start_time": "2022-04-04T09:47:09.366Z"
   },
   {
    "duration": 5,
    "start_time": "2022-04-04T09:47:09.388Z"
   },
   {
    "duration": 41,
    "start_time": "2022-04-04T09:47:09.394Z"
   },
   {
    "duration": 17,
    "start_time": "2022-04-04T09:47:09.438Z"
   },
   {
    "duration": 13,
    "start_time": "2022-04-04T09:47:09.457Z"
   },
   {
    "duration": 19,
    "start_time": "2022-04-04T09:47:09.472Z"
   },
   {
    "duration": 18,
    "start_time": "2022-04-04T09:47:09.493Z"
   },
   {
    "duration": 8,
    "start_time": "2022-04-04T09:47:09.513Z"
   },
   {
    "duration": 34,
    "start_time": "2022-04-04T09:47:09.523Z"
   },
   {
    "duration": 6,
    "start_time": "2022-04-04T09:47:09.559Z"
   },
   {
    "duration": 11,
    "start_time": "2022-04-04T09:47:09.567Z"
   },
   {
    "duration": 14,
    "start_time": "2022-04-04T09:47:09.580Z"
   },
   {
    "duration": 9,
    "start_time": "2022-04-04T09:47:09.596Z"
   },
   {
    "duration": 8,
    "start_time": "2022-04-04T09:47:09.607Z"
   },
   {
    "duration": 16,
    "start_time": "2022-04-04T09:47:09.617Z"
   },
   {
    "duration": 12,
    "start_time": "2022-04-04T09:47:09.635Z"
   },
   {
    "duration": 9,
    "start_time": "2022-04-04T09:47:09.649Z"
   },
   {
    "duration": 9,
    "start_time": "2022-04-04T09:47:09.660Z"
   },
   {
    "duration": 28,
    "start_time": "2022-04-04T09:47:09.671Z"
   },
   {
    "duration": 41,
    "start_time": "2022-04-04T09:47:09.702Z"
   },
   {
    "duration": 52,
    "start_time": "2022-04-04T09:47:09.746Z"
   },
   {
    "duration": 11,
    "start_time": "2022-04-04T09:47:09.800Z"
   },
   {
    "duration": 5,
    "start_time": "2022-04-04T09:47:09.813Z"
   },
   {
    "duration": 9,
    "start_time": "2022-04-04T09:47:09.832Z"
   },
   {
    "duration": 29,
    "start_time": "2022-04-04T09:47:09.843Z"
   },
   {
    "duration": 10,
    "start_time": "2022-04-04T09:47:09.874Z"
   },
   {
    "duration": 55,
    "start_time": "2022-04-04T09:47:09.886Z"
   },
   {
    "duration": 10,
    "start_time": "2022-04-04T09:47:09.944Z"
   },
   {
    "duration": 10,
    "start_time": "2022-04-04T09:47:09.956Z"
   },
   {
    "duration": 10,
    "start_time": "2022-04-04T09:47:09.968Z"
   },
   {
    "duration": 17,
    "start_time": "2022-04-04T09:47:09.979Z"
   },
   {
    "duration": 8,
    "start_time": "2022-04-04T09:47:09.998Z"
   },
   {
    "duration": 60,
    "start_time": "2022-04-04T09:47:10.008Z"
   },
   {
    "duration": 9,
    "start_time": "2022-04-04T09:47:10.070Z"
   },
   {
    "duration": 4,
    "start_time": "2022-04-04T09:47:10.081Z"
   },
   {
    "duration": 8,
    "start_time": "2022-04-04T09:47:10.087Z"
   },
   {
    "duration": 10,
    "start_time": "2022-04-04T09:47:10.097Z"
   },
   {
    "duration": 6,
    "start_time": "2022-04-04T09:47:10.109Z"
   },
   {
    "duration": 5,
    "start_time": "2022-04-04T09:47:10.132Z"
   },
   {
    "duration": 14,
    "start_time": "2022-04-04T09:47:10.140Z"
   },
   {
    "duration": 9,
    "start_time": "2022-04-04T09:47:10.156Z"
   },
   {
    "duration": 11,
    "start_time": "2022-04-04T09:47:10.167Z"
   },
   {
    "duration": 4,
    "start_time": "2022-04-04T09:47:10.180Z"
   },
   {
    "duration": 11,
    "start_time": "2022-04-04T09:47:10.185Z"
   },
   {
    "duration": 39,
    "start_time": "2022-04-04T09:47:10.198Z"
   },
   {
    "duration": 22,
    "start_time": "2022-04-04T09:47:10.241Z"
   },
   {
    "duration": 12,
    "start_time": "2022-04-04T09:47:10.265Z"
   },
   {
    "duration": 10,
    "start_time": "2022-04-04T09:47:10.279Z"
   },
   {
    "duration": 9,
    "start_time": "2022-04-04T09:47:10.291Z"
   },
   {
    "duration": 16,
    "start_time": "2022-04-04T09:47:10.302Z"
   },
   {
    "duration": 123,
    "start_time": "2022-04-04T09:47:10.336Z"
   },
   {
    "duration": 12,
    "start_time": "2022-04-04T09:47:10.461Z"
   },
   {
    "duration": 6,
    "start_time": "2022-04-04T09:47:10.475Z"
   },
   {
    "duration": 12,
    "start_time": "2022-04-04T09:47:10.482Z"
   },
   {
    "duration": 4,
    "start_time": "2022-04-04T09:47:10.499Z"
   },
   {
    "duration": 42,
    "start_time": "2022-04-04T09:47:10.505Z"
   },
   {
    "duration": 31,
    "start_time": "2022-04-04T09:47:10.548Z"
   },
   {
    "duration": 24,
    "start_time": "2022-04-04T09:47:10.581Z"
   },
   {
    "duration": 25,
    "start_time": "2022-04-04T09:47:10.608Z"
   },
   {
    "duration": 8,
    "start_time": "2022-04-04T09:47:10.636Z"
   },
   {
    "duration": 226,
    "start_time": "2022-04-04T09:47:10.646Z"
   },
   {
    "duration": 201,
    "start_time": "2022-04-04T09:47:10.874Z"
   },
   {
    "duration": 208,
    "start_time": "2022-04-04T09:47:11.077Z"
   },
   {
    "duration": 6,
    "start_time": "2022-04-04T09:47:11.287Z"
   },
   {
    "duration": 6,
    "start_time": "2022-04-04T09:47:11.295Z"
   },
   {
    "duration": 12,
    "start_time": "2022-04-04T09:47:11.303Z"
   },
   {
    "duration": 5,
    "start_time": "2022-04-04T09:47:11.334Z"
   },
   {
    "duration": 21,
    "start_time": "2022-04-04T09:47:11.341Z"
   },
   {
    "duration": 7,
    "start_time": "2022-04-04T09:47:11.364Z"
   },
   {
    "duration": 1112,
    "start_time": "2022-04-04T09:48:24.184Z"
   },
   {
    "duration": 2,
    "start_time": "2022-04-04T09:48:25.298Z"
   },
   {
    "duration": 409,
    "start_time": "2022-04-04T09:48:25.303Z"
   },
   {
    "duration": 28,
    "start_time": "2022-04-04T09:48:25.714Z"
   },
   {
    "duration": 20,
    "start_time": "2022-04-04T09:48:25.744Z"
   },
   {
    "duration": 5,
    "start_time": "2022-04-04T09:48:25.765Z"
   },
   {
    "duration": 28,
    "start_time": "2022-04-04T09:48:25.771Z"
   },
   {
    "duration": 8,
    "start_time": "2022-04-04T09:48:25.801Z"
   },
   {
    "duration": 38,
    "start_time": "2022-04-04T09:48:25.810Z"
   },
   {
    "duration": 24,
    "start_time": "2022-04-04T09:48:25.850Z"
   },
   {
    "duration": 8,
    "start_time": "2022-04-04T09:48:25.876Z"
   },
   {
    "duration": 5,
    "start_time": "2022-04-04T09:48:25.886Z"
   },
   {
    "duration": 11,
    "start_time": "2022-04-04T09:48:25.894Z"
   },
   {
    "duration": 29,
    "start_time": "2022-04-04T09:48:25.907Z"
   },
   {
    "duration": 8,
    "start_time": "2022-04-04T09:48:25.938Z"
   },
   {
    "duration": 14,
    "start_time": "2022-04-04T09:48:25.948Z"
   },
   {
    "duration": 11,
    "start_time": "2022-04-04T09:48:25.964Z"
   },
   {
    "duration": 7,
    "start_time": "2022-04-04T09:48:25.976Z"
   },
   {
    "duration": 22,
    "start_time": "2022-04-04T09:48:25.985Z"
   },
   {
    "duration": 62,
    "start_time": "2022-04-04T09:48:26.009Z"
   },
   {
    "duration": 4,
    "start_time": "2022-04-04T09:48:26.073Z"
   },
   {
    "duration": 30,
    "start_time": "2022-04-04T09:48:26.079Z"
   },
   {
    "duration": 47,
    "start_time": "2022-04-04T09:48:26.111Z"
   },
   {
    "duration": 24,
    "start_time": "2022-04-04T09:48:26.160Z"
   },
   {
    "duration": 6,
    "start_time": "2022-04-04T09:48:26.186Z"
   },
   {
    "duration": 47,
    "start_time": "2022-04-04T09:48:26.194Z"
   },
   {
    "duration": 17,
    "start_time": "2022-04-04T09:48:26.243Z"
   },
   {
    "duration": 19,
    "start_time": "2022-04-04T09:48:26.262Z"
   },
   {
    "duration": 5,
    "start_time": "2022-04-04T09:48:26.283Z"
   },
   {
    "duration": 44,
    "start_time": "2022-04-04T09:48:26.290Z"
   },
   {
    "duration": 8,
    "start_time": "2022-04-04T09:48:26.337Z"
   },
   {
    "duration": 12,
    "start_time": "2022-04-04T09:48:26.347Z"
   },
   {
    "duration": 7,
    "start_time": "2022-04-04T09:48:26.361Z"
   },
   {
    "duration": 8,
    "start_time": "2022-04-04T09:48:26.370Z"
   },
   {
    "duration": 4,
    "start_time": "2022-04-04T09:48:26.380Z"
   },
   {
    "duration": 7,
    "start_time": "2022-04-04T09:48:26.385Z"
   },
   {
    "duration": 40,
    "start_time": "2022-04-04T09:48:26.393Z"
   },
   {
    "duration": 8,
    "start_time": "2022-04-04T09:48:26.436Z"
   },
   {
    "duration": 16,
    "start_time": "2022-04-04T09:48:26.446Z"
   },
   {
    "duration": 7,
    "start_time": "2022-04-04T09:48:26.467Z"
   },
   {
    "duration": 7,
    "start_time": "2022-04-04T09:48:26.476Z"
   },
   {
    "duration": 8,
    "start_time": "2022-04-04T09:48:26.484Z"
   },
   {
    "duration": 39,
    "start_time": "2022-04-04T09:48:26.494Z"
   },
   {
    "duration": 10,
    "start_time": "2022-04-04T09:48:26.538Z"
   },
   {
    "duration": 11,
    "start_time": "2022-04-04T09:48:26.551Z"
   },
   {
    "duration": 28,
    "start_time": "2022-04-04T09:48:26.564Z"
   },
   {
    "duration": 9,
    "start_time": "2022-04-04T09:48:26.593Z"
   },
   {
    "duration": 54,
    "start_time": "2022-04-04T09:48:26.603Z"
   },
   {
    "duration": 8,
    "start_time": "2022-04-04T09:48:26.659Z"
   },
   {
    "duration": 4,
    "start_time": "2022-04-04T09:48:26.669Z"
   },
   {
    "duration": 8,
    "start_time": "2022-04-04T09:48:26.674Z"
   },
   {
    "duration": 17,
    "start_time": "2022-04-04T09:48:26.683Z"
   },
   {
    "duration": 8,
    "start_time": "2022-04-04T09:48:26.702Z"
   },
   {
    "duration": 35,
    "start_time": "2022-04-04T09:48:26.734Z"
   },
   {
    "duration": 8,
    "start_time": "2022-04-04T09:48:26.771Z"
   },
   {
    "duration": 5,
    "start_time": "2022-04-04T09:48:26.780Z"
   },
   {
    "duration": 10,
    "start_time": "2022-04-04T09:48:26.786Z"
   },
   {
    "duration": 43,
    "start_time": "2022-04-04T09:48:26.798Z"
   },
   {
    "duration": 9,
    "start_time": "2022-04-04T09:48:26.844Z"
   },
   {
    "duration": 22,
    "start_time": "2022-04-04T09:48:26.855Z"
   },
   {
    "duration": 7,
    "start_time": "2022-04-04T09:48:26.879Z"
   },
   {
    "duration": 4,
    "start_time": "2022-04-04T09:48:26.887Z"
   },
   {
    "duration": 8,
    "start_time": "2022-04-04T09:48:26.893Z"
   },
   {
    "duration": 38,
    "start_time": "2022-04-04T09:48:26.902Z"
   },
   {
    "duration": 9,
    "start_time": "2022-04-04T09:48:26.942Z"
   },
   {
    "duration": 5,
    "start_time": "2022-04-04T09:48:26.952Z"
   },
   {
    "duration": 10,
    "start_time": "2022-04-04T09:48:26.959Z"
   },
   {
    "duration": 8,
    "start_time": "2022-04-04T09:48:26.970Z"
   },
   {
    "duration": 12,
    "start_time": "2022-04-04T09:48:26.980Z"
   },
   {
    "duration": 4,
    "start_time": "2022-04-04T09:48:26.993Z"
   },
   {
    "duration": 37,
    "start_time": "2022-04-04T09:48:26.998Z"
   },
   {
    "duration": 9,
    "start_time": "2022-04-04T09:48:27.036Z"
   },
   {
    "duration": 14,
    "start_time": "2022-04-04T09:48:27.048Z"
   },
   {
    "duration": 7,
    "start_time": "2022-04-04T09:48:27.064Z"
   },
   {
    "duration": 4,
    "start_time": "2022-04-04T09:48:27.072Z"
   },
   {
    "duration": 6,
    "start_time": "2022-04-04T09:48:27.078Z"
   },
   {
    "duration": 8,
    "start_time": "2022-04-04T09:48:27.086Z"
   },
   {
    "duration": 157,
    "start_time": "2022-04-04T09:48:27.095Z"
   },
   {
    "duration": 13,
    "start_time": "2022-04-04T09:48:27.254Z"
   },
   {
    "duration": 4,
    "start_time": "2022-04-04T09:48:27.268Z"
   },
   {
    "duration": 13,
    "start_time": "2022-04-04T09:48:27.273Z"
   },
   {
    "duration": 6,
    "start_time": "2022-04-04T09:48:27.287Z"
   },
   {
    "duration": 13,
    "start_time": "2022-04-04T09:48:27.294Z"
   },
   {
    "duration": 42,
    "start_time": "2022-04-04T09:48:27.308Z"
   },
   {
    "duration": 17,
    "start_time": "2022-04-04T09:48:27.352Z"
   },
   {
    "duration": 7,
    "start_time": "2022-04-04T09:48:27.370Z"
   },
   {
    "duration": 11,
    "start_time": "2022-04-04T09:48:27.379Z"
   },
   {
    "duration": 224,
    "start_time": "2022-04-04T09:48:27.391Z"
   },
   {
    "duration": 187,
    "start_time": "2022-04-04T09:48:27.617Z"
   },
   {
    "duration": 186,
    "start_time": "2022-04-04T09:48:27.806Z"
   },
   {
    "duration": 6,
    "start_time": "2022-04-04T09:48:27.994Z"
   },
   {
    "duration": 5,
    "start_time": "2022-04-04T09:48:28.001Z"
   },
   {
    "duration": 36,
    "start_time": "2022-04-04T09:48:28.008Z"
   },
   {
    "duration": 5,
    "start_time": "2022-04-04T09:48:28.046Z"
   },
   {
    "duration": 13,
    "start_time": "2022-04-04T09:48:28.053Z"
   },
   {
    "duration": 9,
    "start_time": "2022-04-04T09:48:28.067Z"
   },
   {
    "duration": 44,
    "start_time": "2022-04-04T12:58:19.091Z"
   },
   {
    "duration": 1246,
    "start_time": "2022-04-04T12:58:26.697Z"
   },
   {
    "duration": 3,
    "start_time": "2022-04-04T12:58:27.945Z"
   },
   {
    "duration": 415,
    "start_time": "2022-04-04T12:58:27.949Z"
   },
   {
    "duration": 25,
    "start_time": "2022-04-04T12:58:28.366Z"
   },
   {
    "duration": 11,
    "start_time": "2022-04-04T12:58:28.393Z"
   },
   {
    "duration": 6,
    "start_time": "2022-04-04T12:58:28.405Z"
   },
   {
    "duration": 25,
    "start_time": "2022-04-04T12:58:28.413Z"
   },
   {
    "duration": 7,
    "start_time": "2022-04-04T12:58:28.440Z"
   },
   {
    "duration": 6,
    "start_time": "2022-04-04T12:58:28.448Z"
   },
   {
    "duration": 18,
    "start_time": "2022-04-04T12:58:28.482Z"
   },
   {
    "duration": 8,
    "start_time": "2022-04-04T12:58:28.501Z"
   },
   {
    "duration": 9,
    "start_time": "2022-04-04T12:58:28.510Z"
   },
   {
    "duration": 19,
    "start_time": "2022-04-04T12:58:28.521Z"
   },
   {
    "duration": 16,
    "start_time": "2022-04-04T12:58:28.542Z"
   },
   {
    "duration": 15,
    "start_time": "2022-04-04T12:58:28.581Z"
   },
   {
    "duration": 19,
    "start_time": "2022-04-04T12:58:28.598Z"
   },
   {
    "duration": 18,
    "start_time": "2022-04-04T12:58:28.619Z"
   },
   {
    "duration": 9,
    "start_time": "2022-04-04T12:58:28.639Z"
   },
   {
    "duration": 26,
    "start_time": "2022-04-04T12:58:28.650Z"
   },
   {
    "duration": 33,
    "start_time": "2022-04-04T12:58:28.678Z"
   },
   {
    "duration": 5,
    "start_time": "2022-04-04T12:58:28.713Z"
   },
   {
    "duration": 29,
    "start_time": "2022-04-04T12:58:28.720Z"
   },
   {
    "duration": 33,
    "start_time": "2022-04-04T12:58:28.751Z"
   },
   {
    "duration": 24,
    "start_time": "2022-04-04T12:58:28.785Z"
   },
   {
    "duration": 5,
    "start_time": "2022-04-04T12:58:28.810Z"
   },
   {
    "duration": 25,
    "start_time": "2022-04-04T12:58:28.817Z"
   },
   {
    "duration": 13,
    "start_time": "2022-04-04T12:58:28.843Z"
   },
   {
    "duration": 17,
    "start_time": "2022-04-04T12:58:28.880Z"
   },
   {
    "duration": 8,
    "start_time": "2022-04-04T12:58:28.898Z"
   },
   {
    "duration": 15,
    "start_time": "2022-04-04T12:58:28.907Z"
   },
   {
    "duration": 6,
    "start_time": "2022-04-04T12:58:28.923Z"
   },
   {
    "duration": 10,
    "start_time": "2022-04-04T12:58:28.930Z"
   },
   {
    "duration": 10,
    "start_time": "2022-04-04T12:58:28.942Z"
   },
   {
    "duration": 29,
    "start_time": "2022-04-04T12:58:28.953Z"
   },
   {
    "duration": 4,
    "start_time": "2022-04-04T12:58:28.983Z"
   },
   {
    "duration": 11,
    "start_time": "2022-04-04T12:58:28.988Z"
   },
   {
    "duration": 7,
    "start_time": "2022-04-04T12:58:29.000Z"
   },
   {
    "duration": 10,
    "start_time": "2022-04-04T12:58:29.008Z"
   },
   {
    "duration": 24,
    "start_time": "2022-04-04T12:58:29.020Z"
   },
   {
    "duration": 11,
    "start_time": "2022-04-04T12:58:29.045Z"
   },
   {
    "duration": 10,
    "start_time": "2022-04-04T12:58:29.057Z"
   },
   {
    "duration": 19,
    "start_time": "2022-04-04T12:58:29.068Z"
   },
   {
    "duration": 10,
    "start_time": "2022-04-04T12:58:29.089Z"
   },
   {
    "duration": 6,
    "start_time": "2022-04-04T12:58:29.101Z"
   },
   {
    "duration": 8,
    "start_time": "2022-04-04T12:58:29.109Z"
   },
   {
    "duration": 32,
    "start_time": "2022-04-04T12:58:29.118Z"
   },
   {
    "duration": 29,
    "start_time": "2022-04-04T12:58:29.152Z"
   },
   {
    "duration": 30,
    "start_time": "2022-04-04T12:58:29.182Z"
   },
   {
    "duration": 7,
    "start_time": "2022-04-04T12:58:29.214Z"
   },
   {
    "duration": 10,
    "start_time": "2022-04-04T12:58:29.223Z"
   },
   {
    "duration": 12,
    "start_time": "2022-04-04T12:58:29.234Z"
   },
   {
    "duration": 36,
    "start_time": "2022-04-04T12:58:29.248Z"
   },
   {
    "duration": 8,
    "start_time": "2022-04-04T12:58:29.286Z"
   },
   {
    "duration": 30,
    "start_time": "2022-04-04T12:58:29.296Z"
   },
   {
    "duration": 7,
    "start_time": "2022-04-04T12:58:29.328Z"
   },
   {
    "duration": 4,
    "start_time": "2022-04-04T12:58:29.337Z"
   },
   {
    "duration": 12,
    "start_time": "2022-04-04T12:58:29.343Z"
   },
   {
    "duration": 33,
    "start_time": "2022-04-04T12:58:29.357Z"
   },
   {
    "duration": 8,
    "start_time": "2022-04-04T12:58:29.392Z"
   },
   {
    "duration": 23,
    "start_time": "2022-04-04T12:58:29.401Z"
   },
   {
    "duration": 7,
    "start_time": "2022-04-04T12:58:29.425Z"
   },
   {
    "duration": 10,
    "start_time": "2022-04-04T12:58:29.434Z"
   },
   {
    "duration": 12,
    "start_time": "2022-04-04T12:58:29.446Z"
   },
   {
    "duration": 28,
    "start_time": "2022-04-04T12:58:29.460Z"
   },
   {
    "duration": 6,
    "start_time": "2022-04-04T12:58:29.490Z"
   },
   {
    "duration": 3,
    "start_time": "2022-04-04T12:58:29.498Z"
   },
   {
    "duration": 12,
    "start_time": "2022-04-04T12:58:29.503Z"
   },
   {
    "duration": 10,
    "start_time": "2022-04-04T12:58:29.517Z"
   },
   {
    "duration": 5,
    "start_time": "2022-04-04T12:58:29.529Z"
   },
   {
    "duration": 15,
    "start_time": "2022-04-04T12:58:29.535Z"
   },
   {
    "duration": 9,
    "start_time": "2022-04-04T12:58:29.552Z"
   },
   {
    "duration": 24,
    "start_time": "2022-04-04T12:58:29.563Z"
   },
   {
    "duration": 9,
    "start_time": "2022-04-04T12:58:29.589Z"
   },
   {
    "duration": 7,
    "start_time": "2022-04-04T12:58:29.599Z"
   },
   {
    "duration": 14,
    "start_time": "2022-04-04T12:58:29.608Z"
   },
   {
    "duration": 10,
    "start_time": "2022-04-04T12:58:29.624Z"
   },
   {
    "duration": 103,
    "start_time": "2022-04-04T12:58:29.636Z"
   },
   {
    "duration": 10,
    "start_time": "2022-04-04T12:58:29.741Z"
   },
   {
    "duration": 6,
    "start_time": "2022-04-04T12:58:29.753Z"
   },
   {
    "duration": 26,
    "start_time": "2022-04-04T12:58:29.761Z"
   },
   {
    "duration": 7,
    "start_time": "2022-04-04T12:58:29.789Z"
   },
   {
    "duration": 19,
    "start_time": "2022-04-04T12:58:29.801Z"
   },
   {
    "duration": 16,
    "start_time": "2022-04-04T12:58:29.821Z"
   },
   {
    "duration": 16,
    "start_time": "2022-04-04T12:58:29.839Z"
   },
   {
    "duration": 6,
    "start_time": "2022-04-04T12:58:29.856Z"
   },
   {
    "duration": 24,
    "start_time": "2022-04-04T12:58:29.864Z"
   },
   {
    "duration": 267,
    "start_time": "2022-04-04T12:58:29.889Z"
   },
   {
    "duration": 172,
    "start_time": "2022-04-04T12:58:30.157Z"
   },
   {
    "duration": 166,
    "start_time": "2022-04-04T12:58:30.331Z"
   },
   {
    "duration": 6,
    "start_time": "2022-04-04T12:58:30.499Z"
   },
   {
    "duration": 23,
    "start_time": "2022-04-04T12:58:30.506Z"
   },
   {
    "duration": 19,
    "start_time": "2022-04-04T12:58:30.531Z"
   },
   {
    "duration": 29,
    "start_time": "2022-04-04T12:58:30.552Z"
   },
   {
    "duration": 24,
    "start_time": "2022-04-04T12:58:30.583Z"
   },
   {
    "duration": 39,
    "start_time": "2022-04-04T12:58:30.609Z"
   },
   {
    "duration": 89,
    "start_time": "2022-04-04T13:16:54.044Z"
   },
   {
    "duration": 5,
    "start_time": "2022-04-04T13:22:07.658Z"
   },
   {
    "duration": 1109,
    "start_time": "2022-04-04T13:22:48.190Z"
   },
   {
    "duration": 3,
    "start_time": "2022-04-04T13:22:49.301Z"
   },
   {
    "duration": 409,
    "start_time": "2022-04-04T13:22:49.305Z"
   },
   {
    "duration": 24,
    "start_time": "2022-04-04T13:22:49.716Z"
   },
   {
    "duration": 9,
    "start_time": "2022-04-04T13:22:49.742Z"
   },
   {
    "duration": 4,
    "start_time": "2022-04-04T13:22:49.752Z"
   },
   {
    "duration": 28,
    "start_time": "2022-04-04T13:22:49.757Z"
   },
   {
    "duration": 7,
    "start_time": "2022-04-04T13:22:49.787Z"
   },
   {
    "duration": 7,
    "start_time": "2022-04-04T13:22:49.796Z"
   },
   {
    "duration": 18,
    "start_time": "2022-04-04T13:22:49.806Z"
   },
   {
    "duration": 7,
    "start_time": "2022-04-04T13:22:49.825Z"
   },
   {
    "duration": 7,
    "start_time": "2022-04-04T13:22:49.833Z"
   },
   {
    "duration": 12,
    "start_time": "2022-04-04T13:22:49.841Z"
   },
   {
    "duration": 29,
    "start_time": "2022-04-04T13:22:49.854Z"
   },
   {
    "duration": 7,
    "start_time": "2022-04-04T13:22:49.884Z"
   },
   {
    "duration": 13,
    "start_time": "2022-04-04T13:22:49.893Z"
   },
   {
    "duration": 14,
    "start_time": "2022-04-04T13:22:49.907Z"
   },
   {
    "duration": 7,
    "start_time": "2022-04-04T13:22:49.922Z"
   },
   {
    "duration": 24,
    "start_time": "2022-04-04T13:22:49.930Z"
   },
   {
    "duration": 43,
    "start_time": "2022-04-04T13:22:49.956Z"
   },
   {
    "duration": 5,
    "start_time": "2022-04-04T13:22:50.000Z"
   },
   {
    "duration": 29,
    "start_time": "2022-04-04T13:22:50.006Z"
   },
   {
    "duration": 15,
    "start_time": "2022-04-04T13:22:50.037Z"
   },
   {
    "duration": 39,
    "start_time": "2022-04-04T13:22:50.054Z"
   },
   {
    "duration": 4,
    "start_time": "2022-04-04T13:22:50.095Z"
   },
   {
    "duration": 21,
    "start_time": "2022-04-04T13:22:50.101Z"
   },
   {
    "duration": 13,
    "start_time": "2022-04-04T13:22:50.124Z"
   },
   {
    "duration": 40,
    "start_time": "2022-04-04T13:22:50.141Z"
   },
   {
    "duration": 4,
    "start_time": "2022-04-04T13:22:50.182Z"
   },
   {
    "duration": 14,
    "start_time": "2022-04-04T13:22:50.187Z"
   },
   {
    "duration": 5,
    "start_time": "2022-04-04T13:22:50.202Z"
   },
   {
    "duration": 9,
    "start_time": "2022-04-04T13:22:50.209Z"
   },
   {
    "duration": 9,
    "start_time": "2022-04-04T13:22:50.220Z"
   },
   {
    "duration": 10,
    "start_time": "2022-04-04T13:22:50.231Z"
   },
   {
    "duration": 3,
    "start_time": "2022-04-04T13:22:50.242Z"
   },
   {
    "duration": 8,
    "start_time": "2022-04-04T13:22:50.246Z"
   },
   {
    "duration": 26,
    "start_time": "2022-04-04T13:22:50.255Z"
   },
   {
    "duration": 5,
    "start_time": "2022-04-04T13:22:50.282Z"
   },
   {
    "duration": 13,
    "start_time": "2022-04-04T13:22:50.289Z"
   },
   {
    "duration": 9,
    "start_time": "2022-04-04T13:22:50.304Z"
   },
   {
    "duration": 6,
    "start_time": "2022-04-04T13:22:50.315Z"
   },
   {
    "duration": 7,
    "start_time": "2022-04-04T13:22:50.323Z"
   },
   {
    "duration": 9,
    "start_time": "2022-04-04T13:22:50.331Z"
   },
   {
    "duration": 6,
    "start_time": "2022-04-04T13:22:50.341Z"
   },
   {
    "duration": 33,
    "start_time": "2022-04-04T13:22:50.348Z"
   },
   {
    "duration": 21,
    "start_time": "2022-04-04T13:22:50.382Z"
   },
   {
    "duration": 8,
    "start_time": "2022-04-04T13:22:50.405Z"
   },
   {
    "duration": 33,
    "start_time": "2022-04-04T13:22:50.414Z"
   },
   {
    "duration": 7,
    "start_time": "2022-04-04T13:22:50.449Z"
   },
   {
    "duration": 24,
    "start_time": "2022-04-04T13:22:50.457Z"
   },
   {
    "duration": 6,
    "start_time": "2022-04-04T13:22:50.482Z"
   },
   {
    "duration": 19,
    "start_time": "2022-04-04T13:22:50.489Z"
   },
   {
    "duration": 8,
    "start_time": "2022-04-04T13:22:50.509Z"
   },
   {
    "duration": 29,
    "start_time": "2022-04-04T13:22:50.518Z"
   },
   {
    "duration": 6,
    "start_time": "2022-04-04T13:22:50.549Z"
   },
   {
    "duration": 25,
    "start_time": "2022-04-04T13:22:50.556Z"
   },
   {
    "duration": 10,
    "start_time": "2022-04-04T13:22:50.583Z"
   },
   {
    "duration": 15,
    "start_time": "2022-04-04T13:22:50.594Z"
   },
   {
    "duration": 6,
    "start_time": "2022-04-04T13:22:50.611Z"
   },
   {
    "duration": 21,
    "start_time": "2022-04-04T13:22:50.618Z"
   },
   {
    "duration": 7,
    "start_time": "2022-04-04T13:22:50.640Z"
   },
   {
    "duration": 14,
    "start_time": "2022-04-04T13:22:50.649Z"
   },
   {
    "duration": 17,
    "start_time": "2022-04-04T13:22:50.664Z"
   },
   {
    "duration": 8,
    "start_time": "2022-04-04T13:22:50.683Z"
   },
   {
    "duration": 5,
    "start_time": "2022-04-04T13:22:50.692Z"
   },
   {
    "duration": 12,
    "start_time": "2022-04-04T13:22:50.699Z"
   },
   {
    "duration": 14,
    "start_time": "2022-04-04T13:22:50.712Z"
   },
   {
    "duration": 6,
    "start_time": "2022-04-04T13:22:50.727Z"
   },
   {
    "duration": 10,
    "start_time": "2022-04-04T13:22:50.734Z"
   },
   {
    "duration": 10,
    "start_time": "2022-04-04T13:22:50.745Z"
   },
   {
    "duration": 5,
    "start_time": "2022-04-04T13:22:50.757Z"
   },
   {
    "duration": 19,
    "start_time": "2022-04-04T13:22:50.763Z"
   },
   {
    "duration": 7,
    "start_time": "2022-04-04T13:22:50.783Z"
   },
   {
    "duration": 9,
    "start_time": "2022-04-04T13:22:50.792Z"
   },
   {
    "duration": 7,
    "start_time": "2022-04-04T13:22:50.803Z"
   },
   {
    "duration": 4,
    "start_time": "2022-04-04T13:22:50.811Z"
   },
   {
    "duration": 8,
    "start_time": "2022-04-04T13:22:50.816Z"
   },
   {
    "duration": 8,
    "start_time": "2022-04-04T13:22:50.825Z"
   },
   {
    "duration": 124,
    "start_time": "2022-04-04T13:22:50.834Z"
   },
   {
    "duration": 11,
    "start_time": "2022-04-04T13:22:50.959Z"
   },
   {
    "duration": 11,
    "start_time": "2022-04-04T13:22:50.971Z"
   },
   {
    "duration": 10,
    "start_time": "2022-04-04T13:22:50.986Z"
   },
   {
    "duration": 6,
    "start_time": "2022-04-04T13:22:50.997Z"
   },
   {
    "duration": 13,
    "start_time": "2022-04-04T13:22:51.005Z"
   },
   {
    "duration": 18,
    "start_time": "2022-04-04T13:22:51.019Z"
   },
   {
    "duration": 15,
    "start_time": "2022-04-04T13:22:51.038Z"
   },
   {
    "duration": 30,
    "start_time": "2022-04-04T13:22:51.054Z"
   },
   {
    "duration": 6,
    "start_time": "2022-04-04T13:22:51.085Z"
   },
   {
    "duration": 187,
    "start_time": "2022-04-04T13:22:51.092Z"
   },
   {
    "duration": 162,
    "start_time": "2022-04-04T13:22:51.280Z"
   },
   {
    "duration": 161,
    "start_time": "2022-04-04T13:22:51.443Z"
   },
   {
    "duration": 4,
    "start_time": "2022-04-04T13:22:51.606Z"
   },
   {
    "duration": 5,
    "start_time": "2022-04-04T13:22:51.612Z"
   },
   {
    "duration": 12,
    "start_time": "2022-04-04T13:22:51.619Z"
   },
   {
    "duration": 4,
    "start_time": "2022-04-04T13:22:51.633Z"
   },
   {
    "duration": 11,
    "start_time": "2022-04-04T13:22:51.639Z"
   },
   {
    "duration": 32,
    "start_time": "2022-04-04T13:22:51.651Z"
   },
   {
    "duration": 1083,
    "start_time": "2022-04-04T13:23:51.713Z"
   },
   {
    "duration": 3,
    "start_time": "2022-04-04T13:23:52.797Z"
   },
   {
    "duration": 396,
    "start_time": "2022-04-04T13:23:52.803Z"
   },
   {
    "duration": 24,
    "start_time": "2022-04-04T13:23:53.201Z"
   },
   {
    "duration": 11,
    "start_time": "2022-04-04T13:23:53.226Z"
   },
   {
    "duration": 4,
    "start_time": "2022-04-04T13:23:53.238Z"
   },
   {
    "duration": 28,
    "start_time": "2022-04-04T13:23:53.244Z"
   },
   {
    "duration": 9,
    "start_time": "2022-04-04T13:23:53.273Z"
   },
   {
    "duration": 7,
    "start_time": "2022-04-04T13:23:53.284Z"
   },
   {
    "duration": 19,
    "start_time": "2022-04-04T13:23:53.292Z"
   },
   {
    "duration": 11,
    "start_time": "2022-04-04T13:23:53.313Z"
   },
   {
    "duration": 17,
    "start_time": "2022-04-04T13:23:53.326Z"
   },
   {
    "duration": 15,
    "start_time": "2022-04-04T13:23:53.345Z"
   },
   {
    "duration": 16,
    "start_time": "2022-04-04T13:23:53.361Z"
   },
   {
    "duration": 9,
    "start_time": "2022-04-04T13:23:53.379Z"
   },
   {
    "duration": 17,
    "start_time": "2022-04-04T13:23:53.389Z"
   },
   {
    "duration": 18,
    "start_time": "2022-04-04T13:23:53.408Z"
   },
   {
    "duration": 21,
    "start_time": "2022-04-04T13:23:53.427Z"
   },
   {
    "duration": 43,
    "start_time": "2022-04-04T13:23:53.449Z"
   },
   {
    "duration": 42,
    "start_time": "2022-04-04T13:23:53.494Z"
   },
   {
    "duration": 4,
    "start_time": "2022-04-04T13:23:53.538Z"
   },
   {
    "duration": 42,
    "start_time": "2022-04-04T13:23:53.544Z"
   },
   {
    "duration": 18,
    "start_time": "2022-04-04T13:23:53.588Z"
   },
   {
    "duration": 30,
    "start_time": "2022-04-04T13:23:53.607Z"
   },
   {
    "duration": 13,
    "start_time": "2022-04-04T13:23:53.639Z"
   },
   {
    "duration": 29,
    "start_time": "2022-04-04T13:23:53.653Z"
   },
   {
    "duration": 13,
    "start_time": "2022-04-04T13:23:53.686Z"
   },
   {
    "duration": 32,
    "start_time": "2022-04-04T13:23:53.700Z"
   },
   {
    "duration": 4,
    "start_time": "2022-04-04T13:23:53.734Z"
   },
   {
    "duration": 29,
    "start_time": "2022-04-04T13:23:53.740Z"
   },
   {
    "duration": 12,
    "start_time": "2022-04-04T13:23:53.770Z"
   },
   {
    "duration": 12,
    "start_time": "2022-04-04T13:23:53.784Z"
   },
   {
    "duration": 15,
    "start_time": "2022-04-04T13:23:53.797Z"
   },
   {
    "duration": 31,
    "start_time": "2022-04-04T13:23:53.813Z"
   },
   {
    "duration": 22,
    "start_time": "2022-04-04T13:23:53.845Z"
   },
   {
    "duration": 11,
    "start_time": "2022-04-04T13:23:53.868Z"
   },
   {
    "duration": 27,
    "start_time": "2022-04-04T13:23:53.881Z"
   },
   {
    "duration": 13,
    "start_time": "2022-04-04T13:23:53.909Z"
   },
   {
    "duration": 33,
    "start_time": "2022-04-04T13:23:53.924Z"
   },
   {
    "duration": 7,
    "start_time": "2022-04-04T13:23:53.959Z"
   },
   {
    "duration": 7,
    "start_time": "2022-04-04T13:23:53.968Z"
   },
   {
    "duration": 15,
    "start_time": "2022-04-04T13:23:53.977Z"
   },
   {
    "duration": 21,
    "start_time": "2022-04-04T13:23:53.993Z"
   },
   {
    "duration": 13,
    "start_time": "2022-04-04T13:23:54.016Z"
   },
   {
    "duration": 15,
    "start_time": "2022-04-04T13:23:54.031Z"
   },
   {
    "duration": 24,
    "start_time": "2022-04-04T13:23:54.047Z"
   },
   {
    "duration": 8,
    "start_time": "2022-04-04T13:23:54.073Z"
   },
   {
    "duration": 30,
    "start_time": "2022-04-04T13:23:54.082Z"
   },
   {
    "duration": 7,
    "start_time": "2022-04-04T13:23:54.113Z"
   },
   {
    "duration": 5,
    "start_time": "2022-04-04T13:23:54.122Z"
   },
   {
    "duration": 9,
    "start_time": "2022-04-04T13:23:54.128Z"
   },
   {
    "duration": 18,
    "start_time": "2022-04-04T13:23:54.138Z"
   },
   {
    "duration": 25,
    "start_time": "2022-04-04T13:23:54.157Z"
   },
   {
    "duration": 30,
    "start_time": "2022-04-04T13:23:54.184Z"
   },
   {
    "duration": 8,
    "start_time": "2022-04-04T13:23:54.216Z"
   },
   {
    "duration": 5,
    "start_time": "2022-04-04T13:23:54.225Z"
   },
   {
    "duration": 8,
    "start_time": "2022-04-04T13:23:54.231Z"
   },
   {
    "duration": 15,
    "start_time": "2022-04-04T13:23:54.241Z"
   },
   {
    "duration": 6,
    "start_time": "2022-04-04T13:23:54.281Z"
   },
   {
    "duration": 20,
    "start_time": "2022-04-04T13:23:54.289Z"
   },
   {
    "duration": 7,
    "start_time": "2022-04-04T13:23:54.311Z"
   },
   {
    "duration": 6,
    "start_time": "2022-04-04T13:23:54.319Z"
   },
   {
    "duration": 9,
    "start_time": "2022-04-04T13:23:54.326Z"
   },
   {
    "duration": 9,
    "start_time": "2022-04-04T13:23:54.336Z"
   },
   {
    "duration": 4,
    "start_time": "2022-04-04T13:23:54.346Z"
   },
   {
    "duration": 29,
    "start_time": "2022-04-04T13:23:54.352Z"
   },
   {
    "duration": 4,
    "start_time": "2022-04-04T13:23:54.382Z"
   },
   {
    "duration": 8,
    "start_time": "2022-04-04T13:23:54.388Z"
   },
   {
    "duration": 42,
    "start_time": "2022-04-04T13:23:54.397Z"
   },
   {
    "duration": 24,
    "start_time": "2022-04-04T13:23:54.440Z"
   },
   {
    "duration": 21,
    "start_time": "2022-04-04T13:23:54.466Z"
   },
   {
    "duration": 25,
    "start_time": "2022-04-04T13:23:54.489Z"
   },
   {
    "duration": 20,
    "start_time": "2022-04-04T13:23:54.515Z"
   },
   {
    "duration": 20,
    "start_time": "2022-04-04T13:23:54.536Z"
   },
   {
    "duration": 21,
    "start_time": "2022-04-04T13:23:54.558Z"
   },
   {
    "duration": 10,
    "start_time": "2022-04-04T13:23:54.580Z"
   },
   {
    "duration": 19,
    "start_time": "2022-04-04T13:23:54.591Z"
   },
   {
    "duration": 21,
    "start_time": "2022-04-04T13:23:54.612Z"
   },
   {
    "duration": 23,
    "start_time": "2022-04-04T13:23:54.635Z"
   },
   {
    "duration": 110,
    "start_time": "2022-04-04T13:23:54.659Z"
   },
   {
    "duration": 15,
    "start_time": "2022-04-04T13:23:54.774Z"
   },
   {
    "duration": 13,
    "start_time": "2022-04-04T13:23:54.791Z"
   },
   {
    "duration": 32,
    "start_time": "2022-04-04T13:23:54.805Z"
   },
   {
    "duration": 7,
    "start_time": "2022-04-04T13:23:54.839Z"
   },
   {
    "duration": 25,
    "start_time": "2022-04-04T13:23:54.847Z"
   },
   {
    "duration": 31,
    "start_time": "2022-04-04T13:23:54.873Z"
   },
   {
    "duration": 49,
    "start_time": "2022-04-04T13:23:54.906Z"
   },
   {
    "duration": 14,
    "start_time": "2022-04-04T13:23:54.957Z"
   },
   {
    "duration": 23,
    "start_time": "2022-04-04T13:23:54.973Z"
   },
   {
    "duration": 195,
    "start_time": "2022-04-04T13:23:54.998Z"
   },
   {
    "duration": 167,
    "start_time": "2022-04-04T13:23:55.194Z"
   },
   {
    "duration": 159,
    "start_time": "2022-04-04T13:23:55.362Z"
   },
   {
    "duration": 4,
    "start_time": "2022-04-04T13:23:55.522Z"
   },
   {
    "duration": 24,
    "start_time": "2022-04-04T13:23:55.528Z"
   },
   {
    "duration": 22,
    "start_time": "2022-04-04T13:23:55.553Z"
   },
   {
    "duration": 14,
    "start_time": "2022-04-04T13:23:55.576Z"
   },
   {
    "duration": 20,
    "start_time": "2022-04-04T13:23:55.591Z"
   },
   {
    "duration": 40,
    "start_time": "2022-04-04T13:23:55.612Z"
   },
   {
    "duration": 1100,
    "start_time": "2022-04-04T13:24:47.783Z"
   },
   {
    "duration": 2,
    "start_time": "2022-04-04T13:24:48.885Z"
   },
   {
    "duration": 401,
    "start_time": "2022-04-04T13:24:48.889Z"
   },
   {
    "duration": 23,
    "start_time": "2022-04-04T13:24:49.292Z"
   },
   {
    "duration": 15,
    "start_time": "2022-04-04T13:24:49.317Z"
   },
   {
    "duration": 14,
    "start_time": "2022-04-04T13:24:49.333Z"
   },
   {
    "duration": 28,
    "start_time": "2022-04-04T13:24:49.349Z"
   },
   {
    "duration": 18,
    "start_time": "2022-04-04T13:24:49.379Z"
   },
   {
    "duration": 23,
    "start_time": "2022-04-04T13:24:49.398Z"
   },
   {
    "duration": 30,
    "start_time": "2022-04-04T13:24:49.423Z"
   },
   {
    "duration": 6,
    "start_time": "2022-04-04T13:24:49.455Z"
   },
   {
    "duration": 10,
    "start_time": "2022-04-04T13:24:49.463Z"
   },
   {
    "duration": 15,
    "start_time": "2022-04-04T13:24:49.475Z"
   },
   {
    "duration": 16,
    "start_time": "2022-04-04T13:24:49.492Z"
   },
   {
    "duration": 9,
    "start_time": "2022-04-04T13:24:49.510Z"
   },
   {
    "duration": 12,
    "start_time": "2022-04-04T13:24:49.520Z"
   },
   {
    "duration": 16,
    "start_time": "2022-04-04T13:24:49.533Z"
   },
   {
    "duration": 18,
    "start_time": "2022-04-04T13:24:49.551Z"
   },
   {
    "duration": 34,
    "start_time": "2022-04-04T13:24:49.570Z"
   },
   {
    "duration": 30,
    "start_time": "2022-04-04T13:24:49.605Z"
   },
   {
    "duration": 7,
    "start_time": "2022-04-04T13:24:49.637Z"
   },
   {
    "duration": 29,
    "start_time": "2022-04-04T13:24:49.645Z"
   },
   {
    "duration": 16,
    "start_time": "2022-04-04T13:24:49.680Z"
   },
   {
    "duration": 22,
    "start_time": "2022-04-04T13:24:49.697Z"
   },
   {
    "duration": 6,
    "start_time": "2022-04-04T13:24:49.721Z"
   },
   {
    "duration": 42,
    "start_time": "2022-04-04T13:24:49.729Z"
   },
   {
    "duration": 17,
    "start_time": "2022-04-04T13:24:49.773Z"
   },
   {
    "duration": 30,
    "start_time": "2022-04-04T13:24:49.794Z"
   },
   {
    "duration": 4,
    "start_time": "2022-04-04T13:24:49.825Z"
   },
   {
    "duration": 19,
    "start_time": "2022-04-04T13:24:49.830Z"
   },
   {
    "duration": 14,
    "start_time": "2022-04-04T13:24:49.850Z"
   },
   {
    "duration": 12,
    "start_time": "2022-04-04T13:24:49.865Z"
   },
   {
    "duration": 12,
    "start_time": "2022-04-04T13:24:49.879Z"
   },
   {
    "duration": 21,
    "start_time": "2022-04-04T13:24:49.892Z"
   },
   {
    "duration": 11,
    "start_time": "2022-04-04T13:24:49.915Z"
   },
   {
    "duration": 23,
    "start_time": "2022-04-04T13:24:49.927Z"
   },
   {
    "duration": 13,
    "start_time": "2022-04-04T13:24:49.952Z"
   },
   {
    "duration": 16,
    "start_time": "2022-04-04T13:24:49.967Z"
   },
   {
    "duration": 25,
    "start_time": "2022-04-04T13:24:49.985Z"
   },
   {
    "duration": 21,
    "start_time": "2022-04-04T13:24:50.012Z"
   },
   {
    "duration": 17,
    "start_time": "2022-04-04T13:24:50.036Z"
   },
   {
    "duration": 22,
    "start_time": "2022-04-04T13:24:50.055Z"
   },
   {
    "duration": 14,
    "start_time": "2022-04-04T13:24:50.079Z"
   },
   {
    "duration": 25,
    "start_time": "2022-04-04T13:24:50.094Z"
   },
   {
    "duration": 18,
    "start_time": "2022-04-04T13:24:50.120Z"
   },
   {
    "duration": 35,
    "start_time": "2022-04-04T13:24:50.139Z"
   },
   {
    "duration": 8,
    "start_time": "2022-04-04T13:24:50.175Z"
   },
   {
    "duration": 33,
    "start_time": "2022-04-04T13:24:50.184Z"
   },
   {
    "duration": 8,
    "start_time": "2022-04-04T13:24:50.218Z"
   },
   {
    "duration": 17,
    "start_time": "2022-04-04T13:24:50.227Z"
   },
   {
    "duration": 19,
    "start_time": "2022-04-04T13:24:50.245Z"
   },
   {
    "duration": 26,
    "start_time": "2022-04-04T13:24:50.266Z"
   },
   {
    "duration": 7,
    "start_time": "2022-04-04T13:24:50.293Z"
   },
   {
    "duration": 42,
    "start_time": "2022-04-04T13:24:50.302Z"
   },
   {
    "duration": 7,
    "start_time": "2022-04-04T13:24:50.345Z"
   },
   {
    "duration": 19,
    "start_time": "2022-04-04T13:24:50.354Z"
   },
   {
    "duration": 37,
    "start_time": "2022-04-04T13:24:50.375Z"
   },
   {
    "duration": 18,
    "start_time": "2022-04-04T13:24:50.414Z"
   },
   {
    "duration": 21,
    "start_time": "2022-04-04T13:24:50.433Z"
   },
   {
    "duration": 36,
    "start_time": "2022-04-04T13:24:50.456Z"
   },
   {
    "duration": 9,
    "start_time": "2022-04-04T13:24:50.493Z"
   },
   {
    "duration": 5,
    "start_time": "2022-04-04T13:24:50.504Z"
   },
   {
    "duration": 14,
    "start_time": "2022-04-04T13:24:50.510Z"
   },
   {
    "duration": 34,
    "start_time": "2022-04-04T13:24:50.526Z"
   },
   {
    "duration": 10,
    "start_time": "2022-04-04T13:24:50.561Z"
   },
   {
    "duration": 19,
    "start_time": "2022-04-04T13:24:50.573Z"
   },
   {
    "duration": 14,
    "start_time": "2022-04-04T13:24:50.594Z"
   },
   {
    "duration": 22,
    "start_time": "2022-04-04T13:24:50.610Z"
   },
   {
    "duration": 26,
    "start_time": "2022-04-04T13:24:50.634Z"
   },
   {
    "duration": 14,
    "start_time": "2022-04-04T13:24:50.661Z"
   },
   {
    "duration": 14,
    "start_time": "2022-04-04T13:24:50.677Z"
   },
   {
    "duration": 13,
    "start_time": "2022-04-04T13:24:50.692Z"
   },
   {
    "duration": 21,
    "start_time": "2022-04-04T13:24:50.706Z"
   },
   {
    "duration": 21,
    "start_time": "2022-04-04T13:24:50.729Z"
   },
   {
    "duration": 23,
    "start_time": "2022-04-04T13:24:50.751Z"
   },
   {
    "duration": 15,
    "start_time": "2022-04-04T13:24:50.776Z"
   },
   {
    "duration": 16,
    "start_time": "2022-04-04T13:24:50.793Z"
   },
   {
    "duration": 14,
    "start_time": "2022-04-04T13:24:50.810Z"
   },
   {
    "duration": 29,
    "start_time": "2022-04-04T13:24:50.825Z"
   },
   {
    "duration": 19,
    "start_time": "2022-04-04T13:24:50.856Z"
   },
   {
    "duration": 101,
    "start_time": "2022-04-04T13:24:50.876Z"
   },
   {
    "duration": 11,
    "start_time": "2022-04-04T13:24:50.982Z"
   },
   {
    "duration": 12,
    "start_time": "2022-04-04T13:24:50.994Z"
   },
   {
    "duration": 23,
    "start_time": "2022-04-04T13:24:51.008Z"
   },
   {
    "duration": 23,
    "start_time": "2022-04-04T13:24:51.032Z"
   },
   {
    "duration": 29,
    "start_time": "2022-04-04T13:24:51.056Z"
   },
   {
    "duration": 30,
    "start_time": "2022-04-04T13:24:51.087Z"
   },
   {
    "duration": 29,
    "start_time": "2022-04-04T13:24:51.118Z"
   },
   {
    "duration": 26,
    "start_time": "2022-04-04T13:24:51.149Z"
   },
   {
    "duration": 9,
    "start_time": "2022-04-04T13:24:51.177Z"
   },
   {
    "duration": 182,
    "start_time": "2022-04-04T13:24:51.188Z"
   },
   {
    "duration": 165,
    "start_time": "2022-04-04T13:24:51.372Z"
   },
   {
    "duration": 169,
    "start_time": "2022-04-04T13:24:51.539Z"
   },
   {
    "duration": 5,
    "start_time": "2022-04-04T13:24:51.709Z"
   },
   {
    "duration": 22,
    "start_time": "2022-04-04T13:24:51.716Z"
   },
   {
    "duration": 19,
    "start_time": "2022-04-04T13:24:51.740Z"
   },
   {
    "duration": 15,
    "start_time": "2022-04-04T13:24:51.761Z"
   },
   {
    "duration": 18,
    "start_time": "2022-04-04T13:24:51.777Z"
   },
   {
    "duration": 17,
    "start_time": "2022-04-04T13:24:51.797Z"
   },
   {
    "duration": 1084,
    "start_time": "2022-04-04T13:25:37.212Z"
   },
   {
    "duration": 2,
    "start_time": "2022-04-04T13:25:38.298Z"
   },
   {
    "duration": 398,
    "start_time": "2022-04-04T13:25:38.302Z"
   },
   {
    "duration": 23,
    "start_time": "2022-04-04T13:25:38.702Z"
   },
   {
    "duration": 10,
    "start_time": "2022-04-04T13:25:38.727Z"
   },
   {
    "duration": 3,
    "start_time": "2022-04-04T13:25:38.738Z"
   },
   {
    "duration": 24,
    "start_time": "2022-04-04T13:25:38.742Z"
   },
   {
    "duration": 7,
    "start_time": "2022-04-04T13:25:38.767Z"
   },
   {
    "duration": 7,
    "start_time": "2022-04-04T13:25:38.775Z"
   },
   {
    "duration": 19,
    "start_time": "2022-04-04T13:25:38.783Z"
   },
   {
    "duration": 7,
    "start_time": "2022-04-04T13:25:38.803Z"
   },
   {
    "duration": 6,
    "start_time": "2022-04-04T13:25:38.811Z"
   },
   {
    "duration": 10,
    "start_time": "2022-04-04T13:25:38.818Z"
   },
   {
    "duration": 11,
    "start_time": "2022-04-04T13:25:38.831Z"
   },
   {
    "duration": 6,
    "start_time": "2022-04-04T13:25:38.844Z"
   },
   {
    "duration": 30,
    "start_time": "2022-04-04T13:25:38.851Z"
   },
   {
    "duration": 10,
    "start_time": "2022-04-04T13:25:38.882Z"
   },
   {
    "duration": 7,
    "start_time": "2022-04-04T13:25:38.893Z"
   },
   {
    "duration": 24,
    "start_time": "2022-04-04T13:25:38.901Z"
   },
   {
    "duration": 32,
    "start_time": "2022-04-04T13:25:38.926Z"
   },
   {
    "duration": 23,
    "start_time": "2022-04-04T13:25:38.960Z"
   },
   {
    "duration": 28,
    "start_time": "2022-04-04T13:25:38.984Z"
   },
   {
    "duration": 15,
    "start_time": "2022-04-04T13:25:39.013Z"
   },
   {
    "duration": 20,
    "start_time": "2022-04-04T13:25:39.030Z"
   },
   {
    "duration": 3,
    "start_time": "2022-04-04T13:25:39.052Z"
   },
   {
    "duration": 20,
    "start_time": "2022-04-04T13:25:39.081Z"
   },
   {
    "duration": 13,
    "start_time": "2022-04-04T13:25:39.103Z"
   },
   {
    "duration": 20,
    "start_time": "2022-04-04T13:25:39.117Z"
   },
   {
    "duration": 4,
    "start_time": "2022-04-04T13:25:39.138Z"
   },
   {
    "duration": 19,
    "start_time": "2022-04-04T13:25:39.143Z"
   },
   {
    "duration": 5,
    "start_time": "2022-04-04T13:25:39.180Z"
   },
   {
    "duration": 9,
    "start_time": "2022-04-04T13:25:39.186Z"
   },
   {
    "duration": 9,
    "start_time": "2022-04-04T13:25:39.196Z"
   },
   {
    "duration": 10,
    "start_time": "2022-04-04T13:25:39.207Z"
   },
   {
    "duration": 3,
    "start_time": "2022-04-04T13:25:39.219Z"
   },
   {
    "duration": 6,
    "start_time": "2022-04-04T13:25:39.223Z"
   },
   {
    "duration": 6,
    "start_time": "2022-04-04T13:25:39.231Z"
   },
   {
    "duration": 8,
    "start_time": "2022-04-04T13:25:39.238Z"
   },
   {
    "duration": 34,
    "start_time": "2022-04-04T13:25:39.247Z"
   },
   {
    "duration": 6,
    "start_time": "2022-04-04T13:25:39.283Z"
   },
   {
    "duration": 5,
    "start_time": "2022-04-04T13:25:39.294Z"
   },
   {
    "duration": 11,
    "start_time": "2022-04-04T13:25:39.301Z"
   },
   {
    "duration": 10,
    "start_time": "2022-04-04T13:25:39.313Z"
   },
   {
    "duration": 6,
    "start_time": "2022-04-04T13:25:39.324Z"
   },
   {
    "duration": 12,
    "start_time": "2022-04-04T13:25:39.332Z"
   },
   {
    "duration": 40,
    "start_time": "2022-04-04T13:25:39.345Z"
   },
   {
    "duration": 7,
    "start_time": "2022-04-04T13:25:39.387Z"
   },
   {
    "duration": 31,
    "start_time": "2022-04-04T13:25:39.395Z"
   },
   {
    "duration": 7,
    "start_time": "2022-04-04T13:25:39.427Z"
   },
   {
    "duration": 4,
    "start_time": "2022-04-04T13:25:39.435Z"
   },
   {
    "duration": 10,
    "start_time": "2022-04-04T13:25:39.441Z"
   },
   {
    "duration": 36,
    "start_time": "2022-04-04T13:25:39.452Z"
   },
   {
    "duration": 7,
    "start_time": "2022-04-04T13:25:39.489Z"
   },
   {
    "duration": 29,
    "start_time": "2022-04-04T13:25:39.498Z"
   },
   {
    "duration": 6,
    "start_time": "2022-04-04T13:25:39.529Z"
   },
   {
    "duration": 6,
    "start_time": "2022-04-04T13:25:39.537Z"
   },
   {
    "duration": 9,
    "start_time": "2022-04-04T13:25:39.544Z"
   },
   {
    "duration": 29,
    "start_time": "2022-04-04T13:25:39.554Z"
   },
   {
    "duration": 7,
    "start_time": "2022-04-04T13:25:39.585Z"
   },
   {
    "duration": 22,
    "start_time": "2022-04-04T13:25:39.593Z"
   },
   {
    "duration": 7,
    "start_time": "2022-04-04T13:25:39.616Z"
   },
   {
    "duration": 5,
    "start_time": "2022-04-04T13:25:39.624Z"
   },
   {
    "duration": 9,
    "start_time": "2022-04-04T13:25:39.630Z"
   },
   {
    "duration": 10,
    "start_time": "2022-04-04T13:25:39.640Z"
   },
   {
    "duration": 9,
    "start_time": "2022-04-04T13:25:39.651Z"
   },
   {
    "duration": 25,
    "start_time": "2022-04-04T13:25:39.662Z"
   },
   {
    "duration": 3,
    "start_time": "2022-04-04T13:25:39.689Z"
   },
   {
    "duration": 5,
    "start_time": "2022-04-04T13:25:39.694Z"
   },
   {
    "duration": 12,
    "start_time": "2022-04-04T13:25:39.700Z"
   },
   {
    "duration": 6,
    "start_time": "2022-04-04T13:25:39.713Z"
   },
   {
    "duration": 11,
    "start_time": "2022-04-04T13:25:39.720Z"
   },
   {
    "duration": 8,
    "start_time": "2022-04-04T13:25:39.733Z"
   },
   {
    "duration": 13,
    "start_time": "2022-04-04T13:25:39.742Z"
   },
   {
    "duration": 13,
    "start_time": "2022-04-04T13:25:39.756Z"
   },
   {
    "duration": 12,
    "start_time": "2022-04-04T13:25:39.771Z"
   },
   {
    "duration": 4,
    "start_time": "2022-04-04T13:25:39.784Z"
   },
   {
    "duration": 13,
    "start_time": "2022-04-04T13:25:39.789Z"
   },
   {
    "duration": 21,
    "start_time": "2022-04-04T13:25:39.803Z"
   },
   {
    "duration": 5,
    "start_time": "2022-04-04T13:25:39.826Z"
   },
   {
    "duration": 14,
    "start_time": "2022-04-04T13:25:39.833Z"
   },
   {
    "duration": 11,
    "start_time": "2022-04-04T13:25:39.848Z"
   },
   {
    "duration": 92,
    "start_time": "2022-04-04T13:25:39.860Z"
   },
   {
    "duration": 11,
    "start_time": "2022-04-04T13:25:39.954Z"
   },
   {
    "duration": 16,
    "start_time": "2022-04-04T13:25:39.966Z"
   },
   {
    "duration": 12,
    "start_time": "2022-04-04T13:25:39.984Z"
   },
   {
    "duration": 6,
    "start_time": "2022-04-04T13:25:39.997Z"
   },
   {
    "duration": 16,
    "start_time": "2022-04-04T13:25:40.004Z"
   },
   {
    "duration": 16,
    "start_time": "2022-04-04T13:25:40.022Z"
   },
   {
    "duration": 14,
    "start_time": "2022-04-04T13:25:40.040Z"
   },
   {
    "duration": 5,
    "start_time": "2022-04-04T13:25:40.055Z"
   },
   {
    "duration": 21,
    "start_time": "2022-04-04T13:25:40.062Z"
   },
   {
    "duration": 182,
    "start_time": "2022-04-04T13:25:40.085Z"
   },
   {
    "duration": 161,
    "start_time": "2022-04-04T13:25:40.269Z"
   },
   {
    "duration": 161,
    "start_time": "2022-04-04T13:25:40.432Z"
   },
   {
    "duration": 5,
    "start_time": "2022-04-04T13:25:40.595Z"
   },
   {
    "duration": 7,
    "start_time": "2022-04-04T13:25:40.601Z"
   },
   {
    "duration": 13,
    "start_time": "2022-04-04T13:25:40.610Z"
   },
   {
    "duration": 5,
    "start_time": "2022-04-04T13:25:40.625Z"
   },
   {
    "duration": 12,
    "start_time": "2022-04-04T13:25:40.631Z"
   },
   {
    "duration": 13,
    "start_time": "2022-04-04T13:25:40.644Z"
   },
   {
    "duration": 9,
    "start_time": "2022-04-04T13:29:19.193Z"
   },
   {
    "duration": 4,
    "start_time": "2022-04-04T13:29:44.226Z"
   },
   {
    "duration": 90,
    "start_time": "2022-04-04T13:30:03.193Z"
   },
   {
    "duration": 9,
    "start_time": "2022-04-04T13:30:11.945Z"
   },
   {
    "duration": 1087,
    "start_time": "2022-04-04T13:30:23.214Z"
   },
   {
    "duration": 3,
    "start_time": "2022-04-04T13:30:24.302Z"
   },
   {
    "duration": 401,
    "start_time": "2022-04-04T13:30:24.306Z"
   },
   {
    "duration": 26,
    "start_time": "2022-04-04T13:30:24.709Z"
   },
   {
    "duration": 10,
    "start_time": "2022-04-04T13:30:24.737Z"
   },
   {
    "duration": 5,
    "start_time": "2022-04-04T13:30:24.749Z"
   },
   {
    "duration": 24,
    "start_time": "2022-04-04T13:30:24.756Z"
   },
   {
    "duration": 10,
    "start_time": "2022-04-04T13:30:24.782Z"
   },
   {
    "duration": 8,
    "start_time": "2022-04-04T13:30:24.793Z"
   },
   {
    "duration": 22,
    "start_time": "2022-04-04T13:30:24.803Z"
   },
   {
    "duration": 56,
    "start_time": "2022-04-04T13:30:24.826Z"
   },
   {
    "duration": 6,
    "start_time": "2022-04-04T13:30:24.884Z"
   },
   {
    "duration": 11,
    "start_time": "2022-04-04T13:30:24.892Z"
   },
   {
    "duration": 10,
    "start_time": "2022-04-04T13:30:24.905Z"
   },
   {
    "duration": 4,
    "start_time": "2022-04-04T13:30:24.917Z"
   },
   {
    "duration": 14,
    "start_time": "2022-04-04T13:30:24.923Z"
   },
   {
    "duration": 9,
    "start_time": "2022-04-04T13:30:24.938Z"
   },
   {
    "duration": 7,
    "start_time": "2022-04-04T13:30:24.949Z"
   },
   {
    "duration": 20,
    "start_time": "2022-04-04T13:30:24.958Z"
   },
   {
    "duration": 32,
    "start_time": "2022-04-04T13:30:24.980Z"
   },
   {
    "duration": 5,
    "start_time": "2022-04-04T13:30:25.013Z"
   },
   {
    "duration": 28,
    "start_time": "2022-04-04T13:30:25.019Z"
   },
   {
    "duration": 15,
    "start_time": "2022-04-04T13:30:25.049Z"
   },
   {
    "duration": 23,
    "start_time": "2022-04-04T13:30:25.066Z"
   },
   {
    "duration": 4,
    "start_time": "2022-04-04T13:30:25.090Z"
   },
   {
    "duration": 24,
    "start_time": "2022-04-04T13:30:25.096Z"
   },
   {
    "duration": 13,
    "start_time": "2022-04-04T13:30:25.122Z"
   },
   {
    "duration": 18,
    "start_time": "2022-04-04T13:30:25.139Z"
   },
   {
    "duration": 4,
    "start_time": "2022-04-04T13:30:25.158Z"
   },
   {
    "duration": 19,
    "start_time": "2022-04-04T13:30:25.164Z"
   },
   {
    "duration": 6,
    "start_time": "2022-04-04T13:30:25.184Z"
   },
   {
    "duration": 11,
    "start_time": "2022-04-04T13:30:25.191Z"
   },
   {
    "duration": 7,
    "start_time": "2022-04-04T13:30:25.204Z"
   },
   {
    "duration": 10,
    "start_time": "2022-04-04T13:30:25.212Z"
   },
   {
    "duration": 3,
    "start_time": "2022-04-04T13:30:25.224Z"
   },
   {
    "duration": 6,
    "start_time": "2022-04-04T13:30:25.228Z"
   },
   {
    "duration": 6,
    "start_time": "2022-04-04T13:30:25.235Z"
   },
   {
    "duration": 8,
    "start_time": "2022-04-04T13:30:25.242Z"
   },
   {
    "duration": 13,
    "start_time": "2022-04-04T13:30:25.251Z"
   },
   {
    "duration": 6,
    "start_time": "2022-04-04T13:30:25.265Z"
   },
   {
    "duration": 7,
    "start_time": "2022-04-04T13:30:25.272Z"
   },
   {
    "duration": 7,
    "start_time": "2022-04-04T13:30:25.280Z"
   },
   {
    "duration": 11,
    "start_time": "2022-04-04T13:30:25.288Z"
   },
   {
    "duration": 7,
    "start_time": "2022-04-04T13:30:25.300Z"
   },
   {
    "duration": 7,
    "start_time": "2022-04-04T13:30:25.308Z"
   },
   {
    "duration": 36,
    "start_time": "2022-04-04T13:30:25.316Z"
   },
   {
    "duration": 18,
    "start_time": "2022-04-04T13:30:25.354Z"
   },
   {
    "duration": 44,
    "start_time": "2022-04-04T13:30:25.373Z"
   },
   {
    "duration": 7,
    "start_time": "2022-04-04T13:30:25.419Z"
   },
   {
    "duration": 5,
    "start_time": "2022-04-04T13:30:25.427Z"
   },
   {
    "duration": 9,
    "start_time": "2022-04-04T13:30:25.433Z"
   },
   {
    "duration": 11,
    "start_time": "2022-04-04T13:30:25.444Z"
   },
   {
    "duration": 20,
    "start_time": "2022-04-04T13:30:25.457Z"
   },
   {
    "duration": 7,
    "start_time": "2022-04-04T13:30:25.479Z"
   },
   {
    "duration": 32,
    "start_time": "2022-04-04T13:30:25.488Z"
   },
   {
    "duration": 7,
    "start_time": "2022-04-04T13:30:25.521Z"
   },
   {
    "duration": 4,
    "start_time": "2022-04-04T13:30:25.530Z"
   },
   {
    "duration": 8,
    "start_time": "2022-04-04T13:30:25.535Z"
   },
   {
    "duration": 16,
    "start_time": "2022-04-04T13:30:25.545Z"
   },
   {
    "duration": 6,
    "start_time": "2022-04-04T13:30:25.562Z"
   },
   {
    "duration": 20,
    "start_time": "2022-04-04T13:30:25.569Z"
   },
   {
    "duration": 6,
    "start_time": "2022-04-04T13:30:25.591Z"
   },
   {
    "duration": 5,
    "start_time": "2022-04-04T13:30:25.598Z"
   },
   {
    "duration": 16,
    "start_time": "2022-04-04T13:30:25.604Z"
   },
   {
    "duration": 9,
    "start_time": "2022-04-04T13:30:25.621Z"
   },
   {
    "duration": 4,
    "start_time": "2022-04-04T13:30:25.632Z"
   },
   {
    "duration": 7,
    "start_time": "2022-04-04T13:30:25.637Z"
   },
   {
    "duration": 4,
    "start_time": "2022-04-04T13:30:25.645Z"
   },
   {
    "duration": 5,
    "start_time": "2022-04-04T13:30:25.650Z"
   },
   {
    "duration": 9,
    "start_time": "2022-04-04T13:30:25.656Z"
   },
   {
    "duration": 3,
    "start_time": "2022-04-04T13:30:25.667Z"
   },
   {
    "duration": 12,
    "start_time": "2022-04-04T13:30:25.672Z"
   },
   {
    "duration": 6,
    "start_time": "2022-04-04T13:30:25.685Z"
   },
   {
    "duration": 10,
    "start_time": "2022-04-04T13:30:25.692Z"
   },
   {
    "duration": 8,
    "start_time": "2022-04-04T13:30:25.703Z"
   },
   {
    "duration": 7,
    "start_time": "2022-04-04T13:30:25.712Z"
   },
   {
    "duration": 4,
    "start_time": "2022-04-04T13:30:25.720Z"
   },
   {
    "duration": 11,
    "start_time": "2022-04-04T13:30:25.725Z"
   },
   {
    "duration": 8,
    "start_time": "2022-04-04T13:30:25.737Z"
   },
   {
    "duration": 4,
    "start_time": "2022-04-04T13:30:25.747Z"
   },
   {
    "duration": 7,
    "start_time": "2022-04-04T13:30:25.752Z"
   },
   {
    "duration": 8,
    "start_time": "2022-04-04T13:30:25.764Z"
   },
   {
    "duration": 99,
    "start_time": "2022-04-04T13:30:25.773Z"
   },
   {
    "duration": 15,
    "start_time": "2022-04-04T13:30:25.874Z"
   },
   {
    "duration": 4,
    "start_time": "2022-04-04T13:30:25.890Z"
   },
   {
    "duration": 10,
    "start_time": "2022-04-04T13:30:25.896Z"
   },
   {
    "duration": 5,
    "start_time": "2022-04-04T13:30:25.908Z"
   },
   {
    "duration": 11,
    "start_time": "2022-04-04T13:30:25.914Z"
   },
   {
    "duration": 16,
    "start_time": "2022-04-04T13:30:25.927Z"
   },
   {
    "duration": 15,
    "start_time": "2022-04-04T13:30:25.944Z"
   },
   {
    "duration": 6,
    "start_time": "2022-04-04T13:30:25.960Z"
   },
   {
    "duration": 13,
    "start_time": "2022-04-04T13:30:25.968Z"
   },
   {
    "duration": 339,
    "start_time": "2022-04-04T13:30:25.983Z"
   },
   {
    "duration": 186,
    "start_time": "2022-04-04T13:30:26.324Z"
   },
   {
    "duration": 303,
    "start_time": "2022-04-04T13:30:26.511Z"
   },
   {
    "duration": 5,
    "start_time": "2022-04-04T13:30:26.815Z"
   },
   {
    "duration": 60,
    "start_time": "2022-04-04T13:30:26.822Z"
   },
   {
    "duration": 10,
    "start_time": "2022-04-04T13:30:26.884Z"
   },
   {
    "duration": 11,
    "start_time": "2022-04-04T13:30:26.896Z"
   },
   {
    "duration": 12,
    "start_time": "2022-04-04T13:30:26.909Z"
   },
   {
    "duration": 10,
    "start_time": "2022-04-04T13:30:26.923Z"
   },
   {
    "duration": 200,
    "start_time": "2022-04-04T13:50:51.934Z"
   },
   {
    "duration": 183,
    "start_time": "2022-04-04T13:57:25.969Z"
   },
   {
    "duration": 1148,
    "start_time": "2022-04-04T15:05:19.454Z"
   },
   {
    "duration": 3,
    "start_time": "2022-04-04T15:05:20.603Z"
   },
   {
    "duration": 415,
    "start_time": "2022-04-04T15:05:20.608Z"
   },
   {
    "duration": 24,
    "start_time": "2022-04-04T15:05:21.025Z"
   },
   {
    "duration": 9,
    "start_time": "2022-04-04T15:05:21.051Z"
   },
   {
    "duration": 9,
    "start_time": "2022-04-04T15:05:21.061Z"
   },
   {
    "duration": 23,
    "start_time": "2022-04-04T15:05:21.071Z"
   },
   {
    "duration": 7,
    "start_time": "2022-04-04T15:05:21.095Z"
   },
   {
    "duration": 10,
    "start_time": "2022-04-04T15:05:21.104Z"
   },
   {
    "duration": 17,
    "start_time": "2022-04-04T15:05:21.116Z"
   },
   {
    "duration": 7,
    "start_time": "2022-04-04T15:05:21.134Z"
   },
   {
    "duration": 9,
    "start_time": "2022-04-04T15:05:21.142Z"
   },
   {
    "duration": 21,
    "start_time": "2022-04-04T15:05:21.152Z"
   },
   {
    "duration": 8,
    "start_time": "2022-04-04T15:05:21.180Z"
   },
   {
    "duration": 13,
    "start_time": "2022-04-04T15:05:21.189Z"
   },
   {
    "duration": 13,
    "start_time": "2022-04-04T15:05:21.204Z"
   },
   {
    "duration": 10,
    "start_time": "2022-04-04T15:05:21.219Z"
   },
   {
    "duration": 5,
    "start_time": "2022-04-04T15:05:21.230Z"
   },
   {
    "duration": 19,
    "start_time": "2022-04-04T15:05:21.237Z"
   },
   {
    "duration": 47,
    "start_time": "2022-04-04T15:05:21.258Z"
   },
   {
    "duration": 4,
    "start_time": "2022-04-04T15:05:21.307Z"
   },
   {
    "duration": 28,
    "start_time": "2022-04-04T15:05:21.313Z"
   },
   {
    "duration": 16,
    "start_time": "2022-04-04T15:05:21.342Z"
   },
   {
    "duration": 21,
    "start_time": "2022-04-04T15:05:21.381Z"
   },
   {
    "duration": 4,
    "start_time": "2022-04-04T15:05:21.404Z"
   },
   {
    "duration": 23,
    "start_time": "2022-04-04T15:05:21.410Z"
   },
   {
    "duration": 13,
    "start_time": "2022-04-04T15:05:21.435Z"
   },
   {
    "duration": 37,
    "start_time": "2022-04-04T15:05:21.452Z"
   },
   {
    "duration": 4,
    "start_time": "2022-04-04T15:05:21.491Z"
   },
   {
    "duration": 17,
    "start_time": "2022-04-04T15:05:21.496Z"
   },
   {
    "duration": 5,
    "start_time": "2022-04-04T15:05:21.514Z"
   },
   {
    "duration": 10,
    "start_time": "2022-04-04T15:05:21.521Z"
   },
   {
    "duration": 10,
    "start_time": "2022-04-04T15:05:21.533Z"
   },
   {
    "duration": 11,
    "start_time": "2022-04-04T15:05:21.544Z"
   },
   {
    "duration": 5,
    "start_time": "2022-04-04T15:05:21.556Z"
   },
   {
    "duration": 3,
    "start_time": "2022-04-04T15:05:21.581Z"
   },
   {
    "duration": 5,
    "start_time": "2022-04-04T15:05:21.586Z"
   },
   {
    "duration": 12,
    "start_time": "2022-04-04T15:05:21.593Z"
   },
   {
    "duration": 13,
    "start_time": "2022-04-04T15:05:21.606Z"
   },
   {
    "duration": 8,
    "start_time": "2022-04-04T15:05:21.620Z"
   },
   {
    "duration": 6,
    "start_time": "2022-04-04T15:05:21.630Z"
   },
   {
    "duration": 6,
    "start_time": "2022-04-04T15:05:21.637Z"
   },
   {
    "duration": 8,
    "start_time": "2022-04-04T15:05:21.645Z"
   },
   {
    "duration": 5,
    "start_time": "2022-04-04T15:05:21.654Z"
   },
   {
    "duration": 6,
    "start_time": "2022-04-04T15:05:21.680Z"
   },
   {
    "duration": 24,
    "start_time": "2022-04-04T15:05:21.687Z"
   },
   {
    "duration": 7,
    "start_time": "2022-04-04T15:05:21.712Z"
   },
   {
    "duration": 29,
    "start_time": "2022-04-04T15:05:21.720Z"
   },
   {
    "duration": 7,
    "start_time": "2022-04-04T15:05:21.750Z"
   },
   {
    "duration": 24,
    "start_time": "2022-04-04T15:05:21.758Z"
   },
   {
    "duration": 8,
    "start_time": "2022-04-04T15:05:21.783Z"
   },
   {
    "duration": 18,
    "start_time": "2022-04-04T15:05:21.792Z"
   },
   {
    "duration": 7,
    "start_time": "2022-04-04T15:05:21.812Z"
   },
   {
    "duration": 29,
    "start_time": "2022-04-04T15:05:21.821Z"
   },
   {
    "duration": 7,
    "start_time": "2022-04-04T15:05:21.852Z"
   },
   {
    "duration": 22,
    "start_time": "2022-04-04T15:05:21.860Z"
   },
   {
    "duration": 8,
    "start_time": "2022-04-04T15:05:21.883Z"
   },
   {
    "duration": 21,
    "start_time": "2022-04-04T15:05:21.892Z"
   },
   {
    "duration": 7,
    "start_time": "2022-04-04T15:05:21.914Z"
   },
   {
    "duration": 24,
    "start_time": "2022-04-04T15:05:21.923Z"
   },
   {
    "duration": 7,
    "start_time": "2022-04-04T15:05:21.948Z"
   },
   {
    "duration": 6,
    "start_time": "2022-04-04T15:05:21.957Z"
   },
   {
    "duration": 18,
    "start_time": "2022-04-04T15:05:21.965Z"
   },
   {
    "duration": 9,
    "start_time": "2022-04-04T15:05:21.985Z"
   },
   {
    "duration": 6,
    "start_time": "2022-04-04T15:05:21.995Z"
   },
   {
    "duration": 7,
    "start_time": "2022-04-04T15:05:22.003Z"
   },
   {
    "duration": 4,
    "start_time": "2022-04-04T15:05:22.012Z"
   },
   {
    "duration": 4,
    "start_time": "2022-04-04T15:05:22.018Z"
   },
   {
    "duration": 11,
    "start_time": "2022-04-04T15:05:22.024Z"
   },
   {
    "duration": 5,
    "start_time": "2022-04-04T15:05:22.036Z"
   },
   {
    "duration": 43,
    "start_time": "2022-04-04T15:05:22.042Z"
   },
   {
    "duration": 3,
    "start_time": "2022-04-04T15:05:22.087Z"
   },
   {
    "duration": 7,
    "start_time": "2022-04-04T15:05:22.092Z"
   },
   {
    "duration": 11,
    "start_time": "2022-04-04T15:05:22.101Z"
   },
   {
    "duration": 8,
    "start_time": "2022-04-04T15:05:22.113Z"
   },
   {
    "duration": 4,
    "start_time": "2022-04-04T15:05:22.122Z"
   },
   {
    "duration": 10,
    "start_time": "2022-04-04T15:05:22.127Z"
   },
   {
    "duration": 8,
    "start_time": "2022-04-04T15:05:22.138Z"
   },
   {
    "duration": 6,
    "start_time": "2022-04-04T15:05:22.147Z"
   },
   {
    "duration": 6,
    "start_time": "2022-04-04T15:05:22.180Z"
   },
   {
    "duration": 9,
    "start_time": "2022-04-04T15:05:22.187Z"
   },
   {
    "duration": 105,
    "start_time": "2022-04-04T15:05:22.201Z"
   },
   {
    "duration": 11,
    "start_time": "2022-04-04T15:05:22.307Z"
   },
   {
    "duration": 6,
    "start_time": "2022-04-04T15:05:22.319Z"
   },
   {
    "duration": 10,
    "start_time": "2022-04-04T15:05:22.326Z"
   },
   {
    "duration": 5,
    "start_time": "2022-04-04T15:05:22.337Z"
   },
   {
    "duration": 10,
    "start_time": "2022-04-04T15:05:22.343Z"
   },
   {
    "duration": 32,
    "start_time": "2022-04-04T15:05:22.355Z"
   },
   {
    "duration": 13,
    "start_time": "2022-04-04T15:05:22.388Z"
   },
   {
    "duration": 5,
    "start_time": "2022-04-04T15:05:22.403Z"
   },
   {
    "duration": 6,
    "start_time": "2022-04-04T15:05:22.409Z"
   },
   {
    "duration": 190,
    "start_time": "2022-04-04T15:05:22.417Z"
   },
   {
    "duration": 162,
    "start_time": "2022-04-04T15:05:22.608Z"
   },
   {
    "duration": 163,
    "start_time": "2022-04-04T15:05:22.771Z"
   },
   {
    "duration": 5,
    "start_time": "2022-04-04T15:05:22.936Z"
   },
   {
    "duration": 18,
    "start_time": "2022-04-04T15:05:22.942Z"
   },
   {
    "duration": 13,
    "start_time": "2022-04-04T15:05:22.961Z"
   },
   {
    "duration": 9,
    "start_time": "2022-04-04T15:05:22.975Z"
   },
   {
    "duration": 11,
    "start_time": "2022-04-04T15:05:22.986Z"
   },
   {
    "duration": 23,
    "start_time": "2022-04-04T15:05:22.998Z"
   },
   {
    "duration": 2,
    "start_time": "2022-04-04T16:00:31.507Z"
   },
   {
    "duration": 6,
    "start_time": "2022-04-04T16:01:03.012Z"
   },
   {
    "duration": 1150,
    "start_time": "2022-04-04T16:01:13.755Z"
   },
   {
    "duration": 3,
    "start_time": "2022-04-04T16:01:14.907Z"
   },
   {
    "duration": 435,
    "start_time": "2022-04-04T16:01:14.912Z"
   },
   {
    "duration": 22,
    "start_time": "2022-04-04T16:01:15.349Z"
   },
   {
    "duration": 9,
    "start_time": "2022-04-04T16:01:15.373Z"
   },
   {
    "duration": 3,
    "start_time": "2022-04-04T16:01:15.384Z"
   },
   {
    "duration": 21,
    "start_time": "2022-04-04T16:01:15.389Z"
   },
   {
    "duration": 7,
    "start_time": "2022-04-04T16:01:15.411Z"
   },
   {
    "duration": 9,
    "start_time": "2022-04-04T16:01:15.420Z"
   },
   {
    "duration": 18,
    "start_time": "2022-04-04T16:01:15.431Z"
   },
   {
    "duration": 6,
    "start_time": "2022-04-04T16:01:15.451Z"
   },
   {
    "duration": 22,
    "start_time": "2022-04-04T16:01:15.459Z"
   },
   {
    "duration": 8,
    "start_time": "2022-04-04T16:01:15.483Z"
   },
   {
    "duration": 10,
    "start_time": "2022-04-04T16:01:15.493Z"
   },
   {
    "duration": 8,
    "start_time": "2022-04-04T16:01:15.504Z"
   },
   {
    "duration": 14,
    "start_time": "2022-04-04T16:01:15.513Z"
   },
   {
    "duration": 10,
    "start_time": "2022-04-04T16:01:15.529Z"
   },
   {
    "duration": 6,
    "start_time": "2022-04-04T16:01:15.540Z"
   },
   {
    "duration": 39,
    "start_time": "2022-04-04T16:01:15.547Z"
   },
   {
    "duration": 32,
    "start_time": "2022-04-04T16:01:15.587Z"
   },
   {
    "duration": 4,
    "start_time": "2022-04-04T16:01:15.621Z"
   },
   {
    "duration": 28,
    "start_time": "2022-04-04T16:01:15.626Z"
   },
   {
    "duration": 32,
    "start_time": "2022-04-04T16:01:15.655Z"
   },
   {
    "duration": 21,
    "start_time": "2022-04-04T16:01:15.688Z"
   },
   {
    "duration": 4,
    "start_time": "2022-04-04T16:01:15.710Z"
   },
   {
    "duration": 22,
    "start_time": "2022-04-04T16:01:15.716Z"
   },
   {
    "duration": 14,
    "start_time": "2022-04-04T16:01:15.739Z"
   },
   {
    "duration": 18,
    "start_time": "2022-04-04T16:01:15.782Z"
   },
   {
    "duration": 4,
    "start_time": "2022-04-04T16:01:15.802Z"
   },
   {
    "duration": 13,
    "start_time": "2022-04-04T16:01:15.807Z"
   },
   {
    "duration": 5,
    "start_time": "2022-04-04T16:01:15.822Z"
   },
   {
    "duration": 8,
    "start_time": "2022-04-04T16:01:15.828Z"
   },
   {
    "duration": 8,
    "start_time": "2022-04-04T16:01:15.837Z"
   },
   {
    "duration": 36,
    "start_time": "2022-04-04T16:01:15.846Z"
   },
   {
    "duration": 4,
    "start_time": "2022-04-04T16:01:15.883Z"
   },
   {
    "duration": 7,
    "start_time": "2022-04-04T16:01:15.888Z"
   },
   {
    "duration": 7,
    "start_time": "2022-04-04T16:01:15.897Z"
   },
   {
    "duration": 7,
    "start_time": "2022-04-04T16:01:15.906Z"
   },
   {
    "duration": 16,
    "start_time": "2022-04-04T16:01:15.914Z"
   },
   {
    "duration": 8,
    "start_time": "2022-04-04T16:01:15.931Z"
   },
   {
    "duration": 12,
    "start_time": "2022-04-04T16:01:15.940Z"
   },
   {
    "duration": 6,
    "start_time": "2022-04-04T16:01:15.953Z"
   },
   {
    "duration": 36,
    "start_time": "2022-04-04T16:01:15.961Z"
   },
   {
    "duration": 8,
    "start_time": "2022-04-04T16:01:15.999Z"
   },
   {
    "duration": 30,
    "start_time": "2022-04-04T16:01:16.009Z"
   },
   {
    "duration": 9,
    "start_time": "2022-04-04T16:01:16.040Z"
   },
   {
    "duration": 31,
    "start_time": "2022-04-04T16:01:16.050Z"
   },
   {
    "duration": 13,
    "start_time": "2022-04-04T16:01:16.083Z"
   },
   {
    "duration": 21,
    "start_time": "2022-04-04T16:01:16.097Z"
   },
   {
    "duration": 8,
    "start_time": "2022-04-04T16:01:16.120Z"
   },
   {
    "duration": 30,
    "start_time": "2022-04-04T16:01:16.130Z"
   },
   {
    "duration": 24,
    "start_time": "2022-04-04T16:01:16.162Z"
   },
   {
    "duration": 5,
    "start_time": "2022-04-04T16:01:16.188Z"
   },
   {
    "duration": 8,
    "start_time": "2022-04-04T16:01:16.195Z"
   },
   {
    "duration": 18,
    "start_time": "2022-04-04T16:01:16.204Z"
   },
   {
    "duration": 9,
    "start_time": "2022-04-04T16:01:16.223Z"
   },
   {
    "duration": 47,
    "start_time": "2022-04-04T16:01:16.234Z"
   },
   {
    "duration": 9,
    "start_time": "2022-04-04T16:01:16.283Z"
   },
   {
    "duration": 9,
    "start_time": "2022-04-04T16:01:16.293Z"
   },
   {
    "duration": 9,
    "start_time": "2022-04-04T16:01:16.304Z"
   },
   {
    "duration": 9,
    "start_time": "2022-04-04T16:01:16.315Z"
   },
   {
    "duration": 4,
    "start_time": "2022-04-04T16:01:16.325Z"
   },
   {
    "duration": 8,
    "start_time": "2022-04-04T16:01:16.331Z"
   },
   {
    "duration": 5,
    "start_time": "2022-04-04T16:01:16.340Z"
   },
   {
    "duration": 36,
    "start_time": "2022-04-04T16:01:16.347Z"
   },
   {
    "duration": 10,
    "start_time": "2022-04-04T16:01:16.385Z"
   },
   {
    "duration": 5,
    "start_time": "2022-04-04T16:01:16.396Z"
   },
   {
    "duration": 9,
    "start_time": "2022-04-04T16:01:16.402Z"
   },
   {
    "duration": 4,
    "start_time": "2022-04-04T16:01:16.413Z"
   },
   {
    "duration": 5,
    "start_time": "2022-04-04T16:01:16.418Z"
   },
   {
    "duration": 9,
    "start_time": "2022-04-04T16:01:16.425Z"
   },
   {
    "duration": 7,
    "start_time": "2022-04-04T16:01:16.435Z"
   },
   {
    "duration": 39,
    "start_time": "2022-04-04T16:01:16.443Z"
   },
   {
    "duration": 10,
    "start_time": "2022-04-04T16:01:16.484Z"
   },
   {
    "duration": 7,
    "start_time": "2022-04-04T16:01:16.495Z"
   },
   {
    "duration": 4,
    "start_time": "2022-04-04T16:01:16.504Z"
   },
   {
    "duration": 6,
    "start_time": "2022-04-04T16:01:16.510Z"
   },
   {
    "duration": 8,
    "start_time": "2022-04-04T16:01:16.517Z"
   },
   {
    "duration": 6,
    "start_time": "2022-04-04T16:01:16.527Z"
   },
   {
    "duration": 3,
    "start_time": "2022-04-04T16:01:16.534Z"
   },
   {
    "duration": 42,
    "start_time": "2022-04-04T16:01:16.539Z"
   },
   {
    "duration": 99,
    "start_time": "2022-04-04T16:01:16.586Z"
   },
   {
    "duration": 10,
    "start_time": "2022-04-04T16:01:16.687Z"
   },
   {
    "duration": 5,
    "start_time": "2022-04-04T16:01:16.699Z"
   },
   {
    "duration": 12,
    "start_time": "2022-04-04T16:01:16.705Z"
   },
   {
    "duration": 4,
    "start_time": "2022-04-04T16:01:16.718Z"
   },
   {
    "duration": 15,
    "start_time": "2022-04-04T16:01:16.723Z"
   },
   {
    "duration": 18,
    "start_time": "2022-04-04T16:01:16.739Z"
   },
   {
    "duration": 34,
    "start_time": "2022-04-04T16:01:16.759Z"
   },
   {
    "duration": 5,
    "start_time": "2022-04-04T16:01:16.794Z"
   },
   {
    "duration": 7,
    "start_time": "2022-04-04T16:01:16.801Z"
   },
   {
    "duration": 190,
    "start_time": "2022-04-04T16:01:16.809Z"
   },
   {
    "duration": 161,
    "start_time": "2022-04-04T16:01:17.001Z"
   },
   {
    "duration": 170,
    "start_time": "2022-04-04T16:01:17.163Z"
   },
   {
    "duration": 5,
    "start_time": "2022-04-04T16:01:17.334Z"
   },
   {
    "duration": 6,
    "start_time": "2022-04-04T16:01:17.341Z"
   },
   {
    "duration": 13,
    "start_time": "2022-04-04T16:01:17.348Z"
   },
   {
    "duration": 18,
    "start_time": "2022-04-04T16:01:17.363Z"
   },
   {
    "duration": 11,
    "start_time": "2022-04-04T16:01:17.382Z"
   },
   {
    "duration": 7,
    "start_time": "2022-04-04T16:01:17.395Z"
   },
   {
    "duration": 3,
    "start_time": "2022-04-04T16:02:34.658Z"
   },
   {
    "duration": 7,
    "start_time": "2022-04-04T16:02:49.980Z"
   },
   {
    "duration": 208,
    "start_time": "2022-04-04T16:05:11.347Z"
   },
   {
    "duration": 6,
    "start_time": "2022-04-04T16:05:58.731Z"
   },
   {
    "duration": 4,
    "start_time": "2022-04-04T16:06:17.027Z"
   },
   {
    "duration": 9,
    "start_time": "2022-04-04T16:06:24.545Z"
   },
   {
    "duration": 7,
    "start_time": "2022-04-04T16:06:28.748Z"
   },
   {
    "duration": 1194,
    "start_time": "2022-04-04T16:06:38.748Z"
   },
   {
    "duration": 2,
    "start_time": "2022-04-04T16:06:39.944Z"
   },
   {
    "duration": 403,
    "start_time": "2022-04-04T16:06:39.951Z"
   },
   {
    "duration": 24,
    "start_time": "2022-04-04T16:06:40.356Z"
   },
   {
    "duration": 10,
    "start_time": "2022-04-04T16:06:40.382Z"
   },
   {
    "duration": 10,
    "start_time": "2022-04-04T16:06:40.394Z"
   },
   {
    "duration": 25,
    "start_time": "2022-04-04T16:06:40.406Z"
   },
   {
    "duration": 8,
    "start_time": "2022-04-04T16:06:40.432Z"
   },
   {
    "duration": 7,
    "start_time": "2022-04-04T16:06:40.442Z"
   },
   {
    "duration": 37,
    "start_time": "2022-04-04T16:06:40.450Z"
   },
   {
    "duration": 6,
    "start_time": "2022-04-04T16:06:40.489Z"
   },
   {
    "duration": 6,
    "start_time": "2022-04-04T16:06:40.497Z"
   },
   {
    "duration": 14,
    "start_time": "2022-04-04T16:06:40.505Z"
   },
   {
    "duration": 12,
    "start_time": "2022-04-04T16:06:40.520Z"
   },
   {
    "duration": 10,
    "start_time": "2022-04-04T16:06:40.534Z"
   },
   {
    "duration": 36,
    "start_time": "2022-04-04T16:06:40.545Z"
   },
   {
    "duration": 14,
    "start_time": "2022-04-04T16:06:40.583Z"
   },
   {
    "duration": 8,
    "start_time": "2022-04-04T16:06:40.599Z"
   },
   {
    "duration": 22,
    "start_time": "2022-04-04T16:06:40.608Z"
   },
   {
    "duration": 53,
    "start_time": "2022-04-04T16:06:40.632Z"
   },
   {
    "duration": 5,
    "start_time": "2022-04-04T16:06:40.687Z"
   },
   {
    "duration": 28,
    "start_time": "2022-04-04T16:06:40.693Z"
   },
   {
    "duration": 18,
    "start_time": "2022-04-04T16:06:40.723Z"
   },
   {
    "duration": 48,
    "start_time": "2022-04-04T16:06:40.743Z"
   },
   {
    "duration": 5,
    "start_time": "2022-04-04T16:06:40.792Z"
   },
   {
    "duration": 30,
    "start_time": "2022-04-04T16:06:40.799Z"
   },
   {
    "duration": 14,
    "start_time": "2022-04-04T16:06:40.833Z"
   },
   {
    "duration": 49,
    "start_time": "2022-04-04T16:06:40.848Z"
   },
   {
    "duration": 7,
    "start_time": "2022-04-04T16:06:40.899Z"
   },
   {
    "duration": 13,
    "start_time": "2022-04-04T16:06:40.908Z"
   },
   {
    "duration": 5,
    "start_time": "2022-04-04T16:06:40.922Z"
   },
   {
    "duration": 9,
    "start_time": "2022-04-04T16:06:40.929Z"
   },
   {
    "duration": 7,
    "start_time": "2022-04-04T16:06:40.940Z"
   },
   {
    "duration": 35,
    "start_time": "2022-04-04T16:06:40.949Z"
   },
   {
    "duration": 4,
    "start_time": "2022-04-04T16:06:40.987Z"
   },
   {
    "duration": 7,
    "start_time": "2022-04-04T16:06:40.993Z"
   },
   {
    "duration": 5,
    "start_time": "2022-04-04T16:06:41.002Z"
   },
   {
    "duration": 11,
    "start_time": "2022-04-04T16:06:41.009Z"
   },
   {
    "duration": 15,
    "start_time": "2022-04-04T16:06:41.022Z"
   },
   {
    "duration": 9,
    "start_time": "2022-04-04T16:06:41.039Z"
   },
   {
    "duration": 6,
    "start_time": "2022-04-04T16:06:41.082Z"
   },
   {
    "duration": 12,
    "start_time": "2022-04-04T16:06:41.089Z"
   },
   {
    "duration": 31,
    "start_time": "2022-04-04T16:06:41.103Z"
   },
   {
    "duration": 8,
    "start_time": "2022-04-04T16:06:41.136Z"
   },
   {
    "duration": 45,
    "start_time": "2022-04-04T16:06:41.145Z"
   },
   {
    "duration": 8,
    "start_time": "2022-04-04T16:06:41.192Z"
   },
   {
    "duration": 5,
    "start_time": "2022-04-04T16:06:41.202Z"
   },
   {
    "duration": 12,
    "start_time": "2022-04-04T16:06:41.209Z"
   },
   {
    "duration": 24,
    "start_time": "2022-04-04T16:06:41.223Z"
   },
   {
    "duration": 8,
    "start_time": "2022-04-04T16:06:41.249Z"
   },
   {
    "duration": 44,
    "start_time": "2022-04-04T16:06:41.259Z"
   },
   {
    "duration": 8,
    "start_time": "2022-04-04T16:06:41.305Z"
   },
   {
    "duration": 10,
    "start_time": "2022-04-04T16:06:41.315Z"
   },
   {
    "duration": 11,
    "start_time": "2022-04-04T16:06:41.327Z"
   },
   {
    "duration": 16,
    "start_time": "2022-04-04T16:06:41.339Z"
   },
   {
    "duration": 30,
    "start_time": "2022-04-04T16:06:41.357Z"
   },
   {
    "duration": 22,
    "start_time": "2022-04-04T16:06:41.389Z"
   },
   {
    "duration": 9,
    "start_time": "2022-04-04T16:06:41.413Z"
   },
   {
    "duration": 12,
    "start_time": "2022-04-04T16:06:41.423Z"
   },
   {
    "duration": 9,
    "start_time": "2022-04-04T16:06:41.437Z"
   },
   {
    "duration": 35,
    "start_time": "2022-04-04T16:06:41.448Z"
   },
   {
    "duration": 4,
    "start_time": "2022-04-04T16:06:41.485Z"
   },
   {
    "duration": 11,
    "start_time": "2022-04-04T16:06:41.490Z"
   },
   {
    "duration": 12,
    "start_time": "2022-04-04T16:06:41.503Z"
   },
   {
    "duration": 8,
    "start_time": "2022-04-04T16:06:41.517Z"
   },
   {
    "duration": 9,
    "start_time": "2022-04-04T16:06:41.527Z"
   },
   {
    "duration": 5,
    "start_time": "2022-04-04T16:06:41.537Z"
   },
   {
    "duration": 8,
    "start_time": "2022-04-04T16:06:41.544Z"
   },
   {
    "duration": 5,
    "start_time": "2022-04-04T16:06:41.554Z"
   },
   {
    "duration": 23,
    "start_time": "2022-04-04T16:06:41.561Z"
   },
   {
    "duration": 14,
    "start_time": "2022-04-04T16:06:41.585Z"
   },
   {
    "duration": 9,
    "start_time": "2022-04-04T16:06:41.600Z"
   },
   {
    "duration": 6,
    "start_time": "2022-04-04T16:06:41.610Z"
   },
   {
    "duration": 17,
    "start_time": "2022-04-04T16:06:41.618Z"
   },
   {
    "duration": 15,
    "start_time": "2022-04-04T16:06:41.637Z"
   },
   {
    "duration": 9,
    "start_time": "2022-04-04T16:06:41.654Z"
   },
   {
    "duration": 8,
    "start_time": "2022-04-04T16:06:41.682Z"
   },
   {
    "duration": 9,
    "start_time": "2022-04-04T16:06:41.692Z"
   },
   {
    "duration": 10,
    "start_time": "2022-04-04T16:06:41.703Z"
   },
   {
    "duration": 7,
    "start_time": "2022-04-04T16:06:41.715Z"
   },
   {
    "duration": 10,
    "start_time": "2022-04-04T16:06:41.728Z"
   },
   {
    "duration": 118,
    "start_time": "2022-04-04T16:06:41.740Z"
   },
   {
    "duration": 22,
    "start_time": "2022-04-04T16:06:41.859Z"
   },
   {
    "duration": 6,
    "start_time": "2022-04-04T16:06:41.884Z"
   },
   {
    "duration": 22,
    "start_time": "2022-04-04T16:06:41.893Z"
   },
   {
    "duration": 6,
    "start_time": "2022-04-04T16:06:41.917Z"
   },
   {
    "duration": 15,
    "start_time": "2022-04-04T16:06:41.924Z"
   },
   {
    "duration": 16,
    "start_time": "2022-04-04T16:06:41.940Z"
   },
   {
    "duration": 33,
    "start_time": "2022-04-04T16:06:41.958Z"
   },
   {
    "duration": 6,
    "start_time": "2022-04-04T16:06:41.992Z"
   },
   {
    "duration": 6,
    "start_time": "2022-04-04T16:06:42.000Z"
   },
   {
    "duration": 204,
    "start_time": "2022-04-04T16:06:42.007Z"
   },
   {
    "duration": 282,
    "start_time": "2022-04-04T16:06:42.213Z"
   },
   {
    "duration": 250,
    "start_time": "2022-04-04T16:06:42.497Z"
   },
   {
    "duration": 6,
    "start_time": "2022-04-04T16:06:42.748Z"
   },
   {
    "duration": 6,
    "start_time": "2022-04-04T16:06:42.755Z"
   },
   {
    "duration": 28,
    "start_time": "2022-04-04T16:06:42.763Z"
   },
   {
    "duration": 5,
    "start_time": "2022-04-04T16:06:42.793Z"
   },
   {
    "duration": 20,
    "start_time": "2022-04-04T16:06:42.799Z"
   },
   {
    "duration": 6,
    "start_time": "2022-04-04T16:06:42.821Z"
   },
   {
    "duration": 7,
    "start_time": "2022-04-04T16:07:10.180Z"
   },
   {
    "duration": 7,
    "start_time": "2022-04-04T16:07:14.315Z"
   },
   {
    "duration": 1098,
    "start_time": "2022-04-04T16:08:36.811Z"
   },
   {
    "duration": 3,
    "start_time": "2022-04-04T16:08:37.911Z"
   },
   {
    "duration": 428,
    "start_time": "2022-04-04T16:08:37.915Z"
   },
   {
    "duration": 25,
    "start_time": "2022-04-04T16:08:38.345Z"
   },
   {
    "duration": 11,
    "start_time": "2022-04-04T16:08:38.371Z"
   },
   {
    "duration": 4,
    "start_time": "2022-04-04T16:08:38.383Z"
   },
   {
    "duration": 19,
    "start_time": "2022-04-04T16:08:38.388Z"
   },
   {
    "duration": 7,
    "start_time": "2022-04-04T16:08:38.409Z"
   },
   {
    "duration": 5,
    "start_time": "2022-04-04T16:08:38.417Z"
   },
   {
    "duration": 18,
    "start_time": "2022-04-04T16:08:38.424Z"
   },
   {
    "duration": 7,
    "start_time": "2022-04-04T16:08:38.443Z"
   },
   {
    "duration": 5,
    "start_time": "2022-04-04T16:08:38.481Z"
   },
   {
    "duration": 11,
    "start_time": "2022-04-04T16:08:38.488Z"
   },
   {
    "duration": 8,
    "start_time": "2022-04-04T16:08:38.501Z"
   },
   {
    "duration": 5,
    "start_time": "2022-04-04T16:08:38.511Z"
   },
   {
    "duration": 13,
    "start_time": "2022-04-04T16:08:38.517Z"
   },
   {
    "duration": 9,
    "start_time": "2022-04-04T16:08:38.532Z"
   },
   {
    "duration": 5,
    "start_time": "2022-04-04T16:08:38.543Z"
   },
   {
    "duration": 46,
    "start_time": "2022-04-04T16:08:38.549Z"
   },
   {
    "duration": 30,
    "start_time": "2022-04-04T16:08:38.596Z"
   },
   {
    "duration": 4,
    "start_time": "2022-04-04T16:08:38.628Z"
   },
   {
    "duration": 47,
    "start_time": "2022-04-04T16:08:38.634Z"
   },
   {
    "duration": 16,
    "start_time": "2022-04-04T16:08:38.682Z"
   },
   {
    "duration": 21,
    "start_time": "2022-04-04T16:08:38.699Z"
   },
   {
    "duration": 5,
    "start_time": "2022-04-04T16:08:38.721Z"
   },
   {
    "duration": 22,
    "start_time": "2022-04-04T16:08:38.727Z"
   },
   {
    "duration": 38,
    "start_time": "2022-04-04T16:08:38.750Z"
   },
   {
    "duration": 18,
    "start_time": "2022-04-04T16:08:38.792Z"
   },
   {
    "duration": 4,
    "start_time": "2022-04-04T16:08:38.811Z"
   },
   {
    "duration": 12,
    "start_time": "2022-04-04T16:08:38.817Z"
   },
   {
    "duration": 4,
    "start_time": "2022-04-04T16:08:38.831Z"
   },
   {
    "duration": 7,
    "start_time": "2022-04-04T16:08:38.837Z"
   },
   {
    "duration": 8,
    "start_time": "2022-04-04T16:08:38.845Z"
   },
   {
    "duration": 33,
    "start_time": "2022-04-04T16:08:38.855Z"
   },
   {
    "duration": 3,
    "start_time": "2022-04-04T16:08:38.889Z"
   },
   {
    "duration": 7,
    "start_time": "2022-04-04T16:08:38.893Z"
   },
   {
    "duration": 7,
    "start_time": "2022-04-04T16:08:38.901Z"
   },
   {
    "duration": 6,
    "start_time": "2022-04-04T16:08:38.909Z"
   },
   {
    "duration": 16,
    "start_time": "2022-04-04T16:08:38.917Z"
   },
   {
    "duration": 9,
    "start_time": "2022-04-04T16:08:38.934Z"
   },
   {
    "duration": 11,
    "start_time": "2022-04-04T16:08:38.944Z"
   },
   {
    "duration": 24,
    "start_time": "2022-04-04T16:08:38.957Z"
   },
   {
    "duration": 30,
    "start_time": "2022-04-04T16:08:38.983Z"
   },
   {
    "duration": 8,
    "start_time": "2022-04-04T16:08:39.014Z"
   },
   {
    "duration": 31,
    "start_time": "2022-04-04T16:08:39.023Z"
   },
   {
    "duration": 8,
    "start_time": "2022-04-04T16:08:39.055Z"
   },
   {
    "duration": 17,
    "start_time": "2022-04-04T16:08:39.064Z"
   },
   {
    "duration": 11,
    "start_time": "2022-04-04T16:08:39.082Z"
   },
   {
    "duration": 17,
    "start_time": "2022-04-04T16:08:39.094Z"
   },
   {
    "duration": 8,
    "start_time": "2022-04-04T16:08:39.113Z"
   },
   {
    "duration": 33,
    "start_time": "2022-04-04T16:08:39.122Z"
   },
   {
    "duration": 8,
    "start_time": "2022-04-04T16:08:39.157Z"
   },
   {
    "duration": 15,
    "start_time": "2022-04-04T16:08:39.167Z"
   },
   {
    "duration": 15,
    "start_time": "2022-04-04T16:08:39.184Z"
   },
   {
    "duration": 16,
    "start_time": "2022-04-04T16:08:39.200Z"
   },
   {
    "duration": 7,
    "start_time": "2022-04-04T16:08:39.217Z"
   },
   {
    "duration": 21,
    "start_time": "2022-04-04T16:08:39.226Z"
   },
   {
    "duration": 7,
    "start_time": "2022-04-04T16:08:39.248Z"
   },
   {
    "duration": 25,
    "start_time": "2022-04-04T16:08:39.257Z"
   },
   {
    "duration": 10,
    "start_time": "2022-04-04T16:08:39.284Z"
   },
   {
    "duration": 8,
    "start_time": "2022-04-04T16:08:39.296Z"
   },
   {
    "duration": 5,
    "start_time": "2022-04-04T16:08:39.305Z"
   },
   {
    "duration": 7,
    "start_time": "2022-04-04T16:08:39.311Z"
   },
   {
    "duration": 5,
    "start_time": "2022-04-04T16:08:39.319Z"
   },
   {
    "duration": 5,
    "start_time": "2022-04-04T16:08:39.326Z"
   },
   {
    "duration": 10,
    "start_time": "2022-04-04T16:08:39.332Z"
   },
   {
    "duration": 4,
    "start_time": "2022-04-04T16:08:39.343Z"
   },
   {
    "duration": 9,
    "start_time": "2022-04-04T16:08:39.381Z"
   },
   {
    "duration": 5,
    "start_time": "2022-04-04T16:08:39.391Z"
   },
   {
    "duration": 9,
    "start_time": "2022-04-04T16:08:39.397Z"
   },
   {
    "duration": 10,
    "start_time": "2022-04-04T16:08:39.408Z"
   },
   {
    "duration": 10,
    "start_time": "2022-04-04T16:08:39.420Z"
   },
   {
    "duration": 7,
    "start_time": "2022-04-04T16:08:39.431Z"
   },
   {
    "duration": 13,
    "start_time": "2022-04-04T16:08:39.439Z"
   },
   {
    "duration": 29,
    "start_time": "2022-04-04T16:08:39.454Z"
   },
   {
    "duration": 11,
    "start_time": "2022-04-04T16:08:39.485Z"
   },
   {
    "duration": 9,
    "start_time": "2022-04-04T16:08:39.498Z"
   },
   {
    "duration": 7,
    "start_time": "2022-04-04T16:08:39.509Z"
   },
   {
    "duration": 7,
    "start_time": "2022-04-04T16:08:39.518Z"
   },
   {
    "duration": 9,
    "start_time": "2022-04-04T16:08:39.526Z"
   },
   {
    "duration": 11,
    "start_time": "2022-04-04T16:08:39.537Z"
   },
   {
    "duration": 113,
    "start_time": "2022-04-04T16:08:39.553Z"
   },
   {
    "duration": 18,
    "start_time": "2022-04-04T16:08:39.668Z"
   },
   {
    "duration": 5,
    "start_time": "2022-04-04T16:08:39.687Z"
   },
   {
    "duration": 13,
    "start_time": "2022-04-04T16:08:39.694Z"
   },
   {
    "duration": 4,
    "start_time": "2022-04-04T16:08:39.709Z"
   },
   {
    "duration": 14,
    "start_time": "2022-04-04T16:08:39.715Z"
   },
   {
    "duration": 15,
    "start_time": "2022-04-04T16:08:39.730Z"
   },
   {
    "duration": 49,
    "start_time": "2022-04-04T16:08:39.747Z"
   },
   {
    "duration": 7,
    "start_time": "2022-04-04T16:08:39.798Z"
   },
   {
    "duration": 7,
    "start_time": "2022-04-04T16:08:39.806Z"
   },
   {
    "duration": 227,
    "start_time": "2022-04-04T16:08:39.815Z"
   },
   {
    "duration": 173,
    "start_time": "2022-04-04T16:08:40.043Z"
   },
   {
    "duration": 167,
    "start_time": "2022-04-04T16:08:40.218Z"
   },
   {
    "duration": 6,
    "start_time": "2022-04-04T16:08:40.387Z"
   },
   {
    "duration": 5,
    "start_time": "2022-04-04T16:08:40.394Z"
   },
   {
    "duration": 13,
    "start_time": "2022-04-04T16:08:40.400Z"
   },
   {
    "duration": 7,
    "start_time": "2022-04-04T16:08:40.415Z"
   },
   {
    "duration": 14,
    "start_time": "2022-04-04T16:08:40.424Z"
   },
   {
    "duration": 9,
    "start_time": "2022-04-04T16:08:40.439Z"
   },
   {
    "duration": 8,
    "start_time": "2022-04-05T08:35:50.453Z"
   },
   {
    "duration": 7,
    "start_time": "2022-04-05T08:35:50.463Z"
   },
   {
    "duration": 518,
    "start_time": "2022-04-05T08:35:50.472Z"
   },
   {
    "duration": 26,
    "start_time": "2022-04-05T08:35:50.992Z"
   },
   {
    "duration": 9,
    "start_time": "2022-04-05T08:35:51.020Z"
   },
   {
    "duration": 8,
    "start_time": "2022-04-05T08:35:51.031Z"
   },
   {
    "duration": 26,
    "start_time": "2022-04-05T08:35:51.040Z"
   },
   {
    "duration": 8,
    "start_time": "2022-04-05T08:35:51.068Z"
   },
   {
    "duration": 7,
    "start_time": "2022-04-05T08:35:51.078Z"
   },
   {
    "duration": 22,
    "start_time": "2022-04-05T08:35:51.087Z"
   },
   {
    "duration": 27,
    "start_time": "2022-04-05T08:35:51.111Z"
   },
   {
    "duration": 5,
    "start_time": "2022-04-05T08:35:51.140Z"
   },
   {
    "duration": 12,
    "start_time": "2022-04-05T08:35:51.146Z"
   },
   {
    "duration": 13,
    "start_time": "2022-04-05T08:35:51.159Z"
   },
   {
    "duration": 8,
    "start_time": "2022-04-05T08:35:51.174Z"
   },
   {
    "duration": 16,
    "start_time": "2022-04-05T08:35:51.184Z"
   },
   {
    "duration": 14,
    "start_time": "2022-04-05T08:35:51.201Z"
   },
   {
    "duration": 26,
    "start_time": "2022-04-05T08:35:51.217Z"
   },
   {
    "duration": 25,
    "start_time": "2022-04-05T08:35:51.245Z"
   },
   {
    "duration": 28,
    "start_time": "2022-04-05T08:35:51.272Z"
   },
   {
    "duration": 5,
    "start_time": "2022-04-05T08:35:51.301Z"
   },
   {
    "duration": 43,
    "start_time": "2022-04-05T08:35:51.315Z"
   },
   {
    "duration": 17,
    "start_time": "2022-04-05T08:35:51.359Z"
   },
   {
    "duration": 22,
    "start_time": "2022-04-05T08:35:51.377Z"
   },
   {
    "duration": 5,
    "start_time": "2022-04-05T08:35:51.400Z"
   },
   {
    "duration": 49,
    "start_time": "2022-04-05T08:35:51.407Z"
   },
   {
    "duration": 13,
    "start_time": "2022-04-05T08:35:51.458Z"
   },
   {
    "duration": 18,
    "start_time": "2022-04-05T08:35:51.473Z"
   },
   {
    "duration": 4,
    "start_time": "2022-04-05T08:35:51.493Z"
   },
   {
    "duration": 41,
    "start_time": "2022-04-05T08:35:51.499Z"
   },
   {
    "duration": 6,
    "start_time": "2022-04-05T08:35:51.542Z"
   },
   {
    "duration": 11,
    "start_time": "2022-04-05T08:35:51.550Z"
   },
   {
    "duration": 18,
    "start_time": "2022-04-05T08:35:51.562Z"
   },
   {
    "duration": 9,
    "start_time": "2022-04-05T08:35:51.582Z"
   },
   {
    "duration": 7,
    "start_time": "2022-04-05T08:35:51.592Z"
   },
   {
    "duration": 8,
    "start_time": "2022-04-05T08:35:51.600Z"
   },
   {
    "duration": 8,
    "start_time": "2022-04-05T08:35:51.609Z"
   },
   {
    "duration": 22,
    "start_time": "2022-04-05T08:35:51.619Z"
   },
   {
    "duration": 16,
    "start_time": "2022-04-05T08:35:51.643Z"
   },
   {
    "duration": 7,
    "start_time": "2022-04-05T08:35:51.660Z"
   },
   {
    "duration": 7,
    "start_time": "2022-04-05T08:35:51.668Z"
   },
   {
    "duration": 9,
    "start_time": "2022-04-05T08:35:51.676Z"
   },
   {
    "duration": 25,
    "start_time": "2022-04-05T08:35:51.687Z"
   },
   {
    "duration": 8,
    "start_time": "2022-04-05T08:35:51.738Z"
   },
   {
    "duration": 33,
    "start_time": "2022-04-05T08:35:51.748Z"
   },
   {
    "duration": 8,
    "start_time": "2022-04-05T08:35:51.783Z"
   },
   {
    "duration": 5,
    "start_time": "2022-04-05T08:35:51.792Z"
   },
   {
    "duration": 10,
    "start_time": "2022-04-05T08:35:51.798Z"
   },
   {
    "duration": 39,
    "start_time": "2022-04-05T08:35:51.810Z"
   },
   {
    "duration": 8,
    "start_time": "2022-04-05T08:35:51.851Z"
   },
   {
    "duration": 32,
    "start_time": "2022-04-05T08:35:51.860Z"
   },
   {
    "duration": 8,
    "start_time": "2022-04-05T08:35:51.893Z"
   },
   {
    "duration": 14,
    "start_time": "2022-04-05T08:35:51.903Z"
   },
   {
    "duration": 21,
    "start_time": "2022-04-05T08:35:51.919Z"
   },
   {
    "duration": 18,
    "start_time": "2022-04-05T08:35:51.942Z"
   },
   {
    "duration": 9,
    "start_time": "2022-04-05T08:35:51.962Z"
   },
   {
    "duration": 23,
    "start_time": "2022-04-05T08:35:51.973Z"
   },
   {
    "duration": 8,
    "start_time": "2022-04-05T08:35:51.998Z"
   },
   {
    "duration": 29,
    "start_time": "2022-04-05T08:35:52.008Z"
   },
   {
    "duration": 18,
    "start_time": "2022-04-05T08:35:52.039Z"
   },
   {
    "duration": 12,
    "start_time": "2022-04-05T08:35:52.059Z"
   },
   {
    "duration": 5,
    "start_time": "2022-04-05T08:35:52.073Z"
   },
   {
    "duration": 12,
    "start_time": "2022-04-05T08:35:52.079Z"
   },
   {
    "duration": 4,
    "start_time": "2022-04-05T08:35:52.093Z"
   },
   {
    "duration": 7,
    "start_time": "2022-04-05T08:35:52.098Z"
   },
   {
    "duration": 31,
    "start_time": "2022-04-05T08:35:52.106Z"
   },
   {
    "duration": 5,
    "start_time": "2022-04-05T08:35:52.139Z"
   },
   {
    "duration": 15,
    "start_time": "2022-04-05T08:35:52.146Z"
   },
   {
    "duration": 6,
    "start_time": "2022-04-05T08:35:52.163Z"
   },
   {
    "duration": 7,
    "start_time": "2022-04-05T08:35:52.170Z"
   },
   {
    "duration": 12,
    "start_time": "2022-04-05T08:35:52.179Z"
   },
   {
    "duration": 8,
    "start_time": "2022-04-05T08:35:52.192Z"
   },
   {
    "duration": 5,
    "start_time": "2022-04-05T08:35:52.202Z"
   },
   {
    "duration": 33,
    "start_time": "2022-04-05T08:35:52.208Z"
   },
   {
    "duration": 9,
    "start_time": "2022-04-05T08:35:52.242Z"
   },
   {
    "duration": 17,
    "start_time": "2022-04-05T08:35:52.253Z"
   },
   {
    "duration": 14,
    "start_time": "2022-04-05T08:35:52.272Z"
   },
   {
    "duration": 9,
    "start_time": "2022-04-05T08:35:52.287Z"
   },
   {
    "duration": 8,
    "start_time": "2022-04-05T08:35:52.298Z"
   },
   {
    "duration": 5,
    "start_time": "2022-04-05T08:35:52.308Z"
   },
   {
    "duration": 32,
    "start_time": "2022-04-05T08:35:52.314Z"
   },
   {
    "duration": 110,
    "start_time": "2022-04-05T08:35:52.348Z"
   },
   {
    "duration": 12,
    "start_time": "2022-04-05T08:35:52.460Z"
   },
   {
    "duration": 10,
    "start_time": "2022-04-05T08:35:52.473Z"
   },
   {
    "duration": 14,
    "start_time": "2022-04-05T08:35:52.484Z"
   },
   {
    "duration": 9,
    "start_time": "2022-04-05T08:35:52.500Z"
   },
   {
    "duration": 13,
    "start_time": "2022-04-05T08:35:52.510Z"
   },
   {
    "duration": 19,
    "start_time": "2022-04-05T08:35:52.537Z"
   },
   {
    "duration": 22,
    "start_time": "2022-04-05T08:35:52.557Z"
   },
   {
    "duration": 8,
    "start_time": "2022-04-05T08:35:52.581Z"
   },
   {
    "duration": 7,
    "start_time": "2022-04-05T08:35:52.591Z"
   },
   {
    "duration": 225,
    "start_time": "2022-04-05T08:35:52.600Z"
   },
   {
    "duration": 192,
    "start_time": "2022-04-05T08:35:52.827Z"
   },
   {
    "duration": 198,
    "start_time": "2022-04-05T08:35:53.021Z"
   },
   {
    "duration": 6,
    "start_time": "2022-04-05T08:35:53.221Z"
   },
   {
    "duration": 4,
    "start_time": "2022-04-05T08:35:53.238Z"
   },
   {
    "duration": 14,
    "start_time": "2022-04-05T08:35:53.244Z"
   },
   {
    "duration": 7,
    "start_time": "2022-04-05T08:35:53.260Z"
   },
   {
    "duration": 14,
    "start_time": "2022-04-05T08:35:53.269Z"
   },
   {
    "duration": 9,
    "start_time": "2022-04-05T08:35:53.285Z"
   },
   {
    "duration": 98,
    "start_time": "2022-04-05T09:27:55.242Z"
   },
   {
    "duration": 14,
    "start_time": "2022-04-05T09:32:32.062Z"
   },
   {
    "duration": 18,
    "start_time": "2022-04-05T09:33:23.933Z"
   },
   {
    "duration": 17,
    "start_time": "2022-04-05T09:33:48.392Z"
   },
   {
    "duration": 27,
    "start_time": "2022-04-05T09:34:29.614Z"
   },
   {
    "duration": 34,
    "start_time": "2022-04-05T09:35:55.620Z"
   },
   {
    "duration": 16,
    "start_time": "2022-04-05T09:36:40.493Z"
   },
   {
    "duration": 18,
    "start_time": "2022-04-05T09:37:25.740Z"
   },
   {
    "duration": 15,
    "start_time": "2022-04-05T09:39:17.756Z"
   },
   {
    "duration": 17,
    "start_time": "2022-04-05T09:41:11.155Z"
   },
   {
    "duration": 20,
    "start_time": "2022-04-05T09:41:43.074Z"
   },
   {
    "duration": 21,
    "start_time": "2022-04-05T09:42:18.016Z"
   },
   {
    "duration": 1183,
    "start_time": "2022-04-05T09:42:43.416Z"
   },
   {
    "duration": 2,
    "start_time": "2022-04-05T09:42:44.601Z"
   },
   {
    "duration": 415,
    "start_time": "2022-04-05T09:42:44.605Z"
   },
   {
    "duration": 28,
    "start_time": "2022-04-05T09:42:45.023Z"
   },
   {
    "duration": 13,
    "start_time": "2022-04-05T09:42:45.053Z"
   },
   {
    "duration": 5,
    "start_time": "2022-04-05T09:42:45.067Z"
   },
   {
    "duration": 26,
    "start_time": "2022-04-05T09:42:45.073Z"
   },
   {
    "duration": 9,
    "start_time": "2022-04-05T09:42:45.101Z"
   },
   {
    "duration": 28,
    "start_time": "2022-04-05T09:42:45.111Z"
   },
   {
    "duration": 30,
    "start_time": "2022-04-05T09:42:45.142Z"
   },
   {
    "duration": 12,
    "start_time": "2022-04-05T09:42:45.174Z"
   },
   {
    "duration": 15,
    "start_time": "2022-04-05T09:42:45.188Z"
   },
   {
    "duration": 18,
    "start_time": "2022-04-05T09:42:45.205Z"
   },
   {
    "duration": 21,
    "start_time": "2022-04-05T09:42:45.224Z"
   },
   {
    "duration": 6,
    "start_time": "2022-04-05T09:42:45.247Z"
   },
   {
    "duration": 15,
    "start_time": "2022-04-05T09:42:45.255Z"
   },
   {
    "duration": 15,
    "start_time": "2022-04-05T09:42:45.271Z"
   },
   {
    "duration": 7,
    "start_time": "2022-04-05T09:42:45.288Z"
   },
   {
    "duration": 48,
    "start_time": "2022-04-05T09:42:45.297Z"
   },
   {
    "duration": 35,
    "start_time": "2022-04-05T09:42:45.347Z"
   },
   {
    "duration": 5,
    "start_time": "2022-04-05T09:42:45.384Z"
   },
   {
    "duration": 50,
    "start_time": "2022-04-05T09:42:45.391Z"
   },
   {
    "duration": 18,
    "start_time": "2022-04-05T09:42:45.442Z"
   },
   {
    "duration": 23,
    "start_time": "2022-04-05T09:42:45.462Z"
   },
   {
    "duration": 5,
    "start_time": "2022-04-05T09:42:45.487Z"
   },
   {
    "duration": 56,
    "start_time": "2022-04-05T09:42:45.493Z"
   },
   {
    "duration": 14,
    "start_time": "2022-04-05T09:42:45.551Z"
   },
   {
    "duration": 19,
    "start_time": "2022-04-05T09:42:45.570Z"
   },
   {
    "duration": 5,
    "start_time": "2022-04-05T09:42:45.591Z"
   },
   {
    "duration": 41,
    "start_time": "2022-04-05T09:42:45.598Z"
   },
   {
    "duration": 7,
    "start_time": "2022-04-05T09:42:45.641Z"
   },
   {
    "duration": 11,
    "start_time": "2022-04-05T09:42:45.650Z"
   },
   {
    "duration": 14,
    "start_time": "2022-04-05T09:42:45.663Z"
   },
   {
    "duration": 15,
    "start_time": "2022-04-05T09:42:45.679Z"
   },
   {
    "duration": 6,
    "start_time": "2022-04-05T09:42:45.695Z"
   },
   {
    "duration": 9,
    "start_time": "2022-04-05T09:42:45.702Z"
   },
   {
    "duration": 27,
    "start_time": "2022-04-05T09:42:45.712Z"
   },
   {
    "duration": 10,
    "start_time": "2022-04-05T09:42:45.741Z"
   },
   {
    "duration": 16,
    "start_time": "2022-04-05T09:42:45.753Z"
   },
   {
    "duration": 8,
    "start_time": "2022-04-05T09:42:45.771Z"
   },
   {
    "duration": 8,
    "start_time": "2022-04-05T09:42:45.781Z"
   },
   {
    "duration": 9,
    "start_time": "2022-04-05T09:42:45.791Z"
   },
   {
    "duration": 55,
    "start_time": "2022-04-05T09:42:45.801Z"
   },
   {
    "duration": 10,
    "start_time": "2022-04-05T09:42:45.859Z"
   },
   {
    "duration": 42,
    "start_time": "2022-04-05T09:42:45.871Z"
   },
   {
    "duration": 22,
    "start_time": "2022-04-05T09:42:45.915Z"
   },
   {
    "duration": 3,
    "start_time": "2022-04-05T09:42:45.940Z"
   },
   {
    "duration": 11,
    "start_time": "2022-04-05T09:42:45.945Z"
   },
   {
    "duration": 21,
    "start_time": "2022-04-05T09:42:45.957Z"
   },
   {
    "duration": 10,
    "start_time": "2022-04-05T09:42:45.980Z"
   },
   {
    "duration": 62,
    "start_time": "2022-04-05T09:42:45.993Z"
   },
   {
    "duration": 8,
    "start_time": "2022-04-05T09:42:46.057Z"
   },
   {
    "duration": 7,
    "start_time": "2022-04-05T09:42:46.067Z"
   },
   {
    "duration": 13,
    "start_time": "2022-04-05T09:42:46.075Z"
   },
   {
    "duration": 18,
    "start_time": "2022-04-05T09:42:46.090Z"
   },
   {
    "duration": 9,
    "start_time": "2022-04-05T09:42:46.110Z"
   },
   {
    "duration": 23,
    "start_time": "2022-04-05T09:42:46.139Z"
   },
   {
    "duration": 9,
    "start_time": "2022-04-05T09:42:46.164Z"
   },
   {
    "duration": 7,
    "start_time": "2022-04-05T09:42:46.175Z"
   },
   {
    "duration": 9,
    "start_time": "2022-04-05T09:42:46.183Z"
   },
   {
    "duration": 15,
    "start_time": "2022-04-05T09:42:46.194Z"
   },
   {
    "duration": 30,
    "start_time": "2022-04-05T09:42:46.211Z"
   },
   {
    "duration": 9,
    "start_time": "2022-04-05T09:42:46.243Z"
   },
   {
    "duration": 7,
    "start_time": "2022-04-05T09:42:46.254Z"
   },
   {
    "duration": 9,
    "start_time": "2022-04-05T09:42:46.263Z"
   },
   {
    "duration": 10,
    "start_time": "2022-04-05T09:42:46.274Z"
   },
   {
    "duration": 5,
    "start_time": "2022-04-05T09:42:46.286Z"
   },
   {
    "duration": 13,
    "start_time": "2022-04-05T09:42:46.293Z"
   },
   {
    "duration": 4,
    "start_time": "2022-04-05T09:42:46.337Z"
   },
   {
    "duration": 11,
    "start_time": "2022-04-05T09:42:46.343Z"
   },
   {
    "duration": 11,
    "start_time": "2022-04-05T09:42:46.355Z"
   },
   {
    "duration": 9,
    "start_time": "2022-04-05T09:42:46.368Z"
   },
   {
    "duration": 5,
    "start_time": "2022-04-05T09:42:46.379Z"
   },
   {
    "duration": 13,
    "start_time": "2022-04-05T09:42:46.386Z"
   },
   {
    "duration": 38,
    "start_time": "2022-04-05T09:42:46.401Z"
   },
   {
    "duration": 7,
    "start_time": "2022-04-05T09:42:46.441Z"
   },
   {
    "duration": 10,
    "start_time": "2022-04-05T09:42:46.450Z"
   },
   {
    "duration": 8,
    "start_time": "2022-04-05T09:42:46.462Z"
   },
   {
    "duration": 8,
    "start_time": "2022-04-05T09:42:46.472Z"
   },
   {
    "duration": 6,
    "start_time": "2022-04-05T09:42:46.482Z"
   },
   {
    "duration": 10,
    "start_time": "2022-04-05T09:42:46.490Z"
   },
   {
    "duration": 133,
    "start_time": "2022-04-05T09:42:46.505Z"
   },
   {
    "duration": 13,
    "start_time": "2022-04-05T09:42:46.640Z"
   },
   {
    "duration": 8,
    "start_time": "2022-04-05T09:42:46.654Z"
   },
   {
    "duration": 16,
    "start_time": "2022-04-05T09:42:46.663Z"
   },
   {
    "duration": 7,
    "start_time": "2022-04-05T09:42:46.681Z"
   },
   {
    "duration": 13,
    "start_time": "2022-04-05T09:42:46.690Z"
   },
   {
    "duration": 43,
    "start_time": "2022-04-05T09:42:46.705Z"
   },
   {
    "duration": 18,
    "start_time": "2022-04-05T09:42:46.750Z"
   },
   {
    "duration": 8,
    "start_time": "2022-04-05T09:42:46.769Z"
   },
   {
    "duration": 11,
    "start_time": "2022-04-05T09:42:46.778Z"
   },
   {
    "duration": 234,
    "start_time": "2022-04-05T09:42:46.791Z"
   },
   {
    "duration": 199,
    "start_time": "2022-04-05T09:42:47.027Z"
   },
   {
    "duration": 209,
    "start_time": "2022-04-05T09:42:47.228Z"
   },
   {
    "duration": 23,
    "start_time": "2022-04-05T09:42:47.439Z"
   },
   {
    "duration": 6,
    "start_time": "2022-04-05T09:42:47.464Z"
   },
   {
    "duration": 7,
    "start_time": "2022-04-05T09:42:47.472Z"
   },
   {
    "duration": 16,
    "start_time": "2022-04-05T09:42:47.480Z"
   },
   {
    "duration": 40,
    "start_time": "2022-04-05T09:42:47.498Z"
   },
   {
    "duration": 20,
    "start_time": "2022-04-05T09:42:47.540Z"
   },
   {
    "duration": 8,
    "start_time": "2022-04-05T09:42:47.562Z"
   },
   {
    "duration": 21,
    "start_time": "2022-04-05T09:44:21.325Z"
   },
   {
    "duration": 1524,
    "start_time": "2022-04-05T09:44:36.476Z"
   },
   {
    "duration": 3,
    "start_time": "2022-04-05T09:44:38.002Z"
   },
   {
    "duration": 408,
    "start_time": "2022-04-05T09:44:38.009Z"
   },
   {
    "duration": 27,
    "start_time": "2022-04-05T09:44:38.419Z"
   },
   {
    "duration": 11,
    "start_time": "2022-04-05T09:44:38.448Z"
   },
   {
    "duration": 4,
    "start_time": "2022-04-05T09:44:38.461Z"
   },
   {
    "duration": 26,
    "start_time": "2022-04-05T09:44:38.466Z"
   },
   {
    "duration": 9,
    "start_time": "2022-04-05T09:44:38.493Z"
   },
   {
    "duration": 33,
    "start_time": "2022-04-05T09:44:38.504Z"
   },
   {
    "duration": 19,
    "start_time": "2022-04-05T09:44:38.540Z"
   },
   {
    "duration": 8,
    "start_time": "2022-04-05T09:44:38.561Z"
   },
   {
    "duration": 7,
    "start_time": "2022-04-05T09:44:38.571Z"
   },
   {
    "duration": 15,
    "start_time": "2022-04-05T09:44:38.581Z"
   },
   {
    "duration": 41,
    "start_time": "2022-04-05T09:44:38.598Z"
   },
   {
    "duration": 7,
    "start_time": "2022-04-05T09:44:38.641Z"
   },
   {
    "duration": 13,
    "start_time": "2022-04-05T09:44:38.650Z"
   },
   {
    "duration": 12,
    "start_time": "2022-04-05T09:44:38.665Z"
   },
   {
    "duration": 7,
    "start_time": "2022-04-05T09:44:38.678Z"
   },
   {
    "duration": 25,
    "start_time": "2022-04-05T09:44:38.687Z"
   },
   {
    "duration": 58,
    "start_time": "2022-04-05T09:44:38.714Z"
   },
   {
    "duration": 6,
    "start_time": "2022-04-05T09:44:38.774Z"
   },
   {
    "duration": 56,
    "start_time": "2022-04-05T09:44:38.782Z"
   },
   {
    "duration": 18,
    "start_time": "2022-04-05T09:44:38.841Z"
   },
   {
    "duration": 24,
    "start_time": "2022-04-05T09:44:38.862Z"
   },
   {
    "duration": 5,
    "start_time": "2022-04-05T09:44:38.888Z"
   },
   {
    "duration": 57,
    "start_time": "2022-04-05T09:44:38.895Z"
   },
   {
    "duration": 15,
    "start_time": "2022-04-05T09:44:38.954Z"
   },
   {
    "duration": 19,
    "start_time": "2022-04-05T09:44:38.971Z"
   },
   {
    "duration": 5,
    "start_time": "2022-04-05T09:44:38.992Z"
   },
   {
    "duration": 42,
    "start_time": "2022-04-05T09:44:38.999Z"
   },
   {
    "duration": 7,
    "start_time": "2022-04-05T09:44:39.043Z"
   },
   {
    "duration": 11,
    "start_time": "2022-04-05T09:44:39.051Z"
   },
   {
    "duration": 10,
    "start_time": "2022-04-05T09:44:39.064Z"
   },
   {
    "duration": 11,
    "start_time": "2022-04-05T09:44:39.075Z"
   },
   {
    "duration": 3,
    "start_time": "2022-04-05T09:44:39.088Z"
   },
   {
    "duration": 7,
    "start_time": "2022-04-05T09:44:39.093Z"
   },
   {
    "duration": 35,
    "start_time": "2022-04-05T09:44:39.102Z"
   },
   {
    "duration": 8,
    "start_time": "2022-04-05T09:44:39.140Z"
   },
   {
    "duration": 14,
    "start_time": "2022-04-05T09:44:39.150Z"
   },
   {
    "duration": 8,
    "start_time": "2022-04-05T09:44:39.169Z"
   },
   {
    "duration": 9,
    "start_time": "2022-04-05T09:44:39.179Z"
   },
   {
    "duration": 8,
    "start_time": "2022-04-05T09:44:39.190Z"
   },
   {
    "duration": 51,
    "start_time": "2022-04-05T09:44:39.199Z"
   },
   {
    "duration": 9,
    "start_time": "2022-04-05T09:44:39.252Z"
   },
   {
    "duration": 39,
    "start_time": "2022-04-05T09:44:39.263Z"
   },
   {
    "duration": 9,
    "start_time": "2022-04-05T09:44:39.303Z"
   },
   {
    "duration": 24,
    "start_time": "2022-04-05T09:44:39.313Z"
   },
   {
    "duration": 7,
    "start_time": "2022-04-05T09:44:39.339Z"
   },
   {
    "duration": 22,
    "start_time": "2022-04-05T09:44:39.347Z"
   },
   {
    "duration": 8,
    "start_time": "2022-04-05T09:44:39.371Z"
   },
   {
    "duration": 32,
    "start_time": "2022-04-05T09:44:39.381Z"
   },
   {
    "duration": 29,
    "start_time": "2022-04-05T09:44:39.415Z"
   },
   {
    "duration": 4,
    "start_time": "2022-04-05T09:44:39.446Z"
   },
   {
    "duration": 10,
    "start_time": "2022-04-05T09:44:39.451Z"
   },
   {
    "duration": 19,
    "start_time": "2022-04-05T09:44:39.463Z"
   },
   {
    "duration": 8,
    "start_time": "2022-04-05T09:44:39.483Z"
   },
   {
    "duration": 47,
    "start_time": "2022-04-05T09:44:39.493Z"
   },
   {
    "duration": 9,
    "start_time": "2022-04-05T09:44:39.541Z"
   },
   {
    "duration": 10,
    "start_time": "2022-04-05T09:44:39.551Z"
   },
   {
    "duration": 12,
    "start_time": "2022-04-05T09:44:39.563Z"
   },
   {
    "duration": 11,
    "start_time": "2022-04-05T09:44:39.576Z"
   },
   {
    "duration": 5,
    "start_time": "2022-04-05T09:44:39.589Z"
   },
   {
    "duration": 14,
    "start_time": "2022-04-05T09:44:39.595Z"
   },
   {
    "duration": 28,
    "start_time": "2022-04-05T09:44:39.611Z"
   },
   {
    "duration": 14,
    "start_time": "2022-04-05T09:44:39.641Z"
   },
   {
    "duration": 11,
    "start_time": "2022-04-05T09:44:39.657Z"
   },
   {
    "duration": 8,
    "start_time": "2022-04-05T09:44:39.670Z"
   },
   {
    "duration": 14,
    "start_time": "2022-04-05T09:44:39.679Z"
   },
   {
    "duration": 9,
    "start_time": "2022-04-05T09:44:39.695Z"
   },
   {
    "duration": 7,
    "start_time": "2022-04-05T09:44:39.706Z"
   },
   {
    "duration": 24,
    "start_time": "2022-04-05T09:44:39.714Z"
   },
   {
    "duration": 7,
    "start_time": "2022-04-05T09:44:39.740Z"
   },
   {
    "duration": 7,
    "start_time": "2022-04-05T09:44:39.748Z"
   },
   {
    "duration": 15,
    "start_time": "2022-04-05T09:44:39.757Z"
   },
   {
    "duration": 11,
    "start_time": "2022-04-05T09:44:39.774Z"
   },
   {
    "duration": 24,
    "start_time": "2022-04-05T09:44:39.787Z"
   },
   {
    "duration": 10,
    "start_time": "2022-04-05T09:44:39.813Z"
   },
   {
    "duration": 18,
    "start_time": "2022-04-05T09:44:39.825Z"
   },
   {
    "duration": 7,
    "start_time": "2022-04-05T09:44:39.845Z"
   },
   {
    "duration": 6,
    "start_time": "2022-04-05T09:44:39.854Z"
   },
   {
    "duration": 22,
    "start_time": "2022-04-05T09:44:39.861Z"
   },
   {
    "duration": 108,
    "start_time": "2022-04-05T09:44:39.884Z"
   },
   {
    "duration": 14,
    "start_time": "2022-04-05T09:44:39.994Z"
   },
   {
    "duration": 4,
    "start_time": "2022-04-05T09:44:40.010Z"
   },
   {
    "duration": 30,
    "start_time": "2022-04-05T09:44:40.016Z"
   },
   {
    "duration": 8,
    "start_time": "2022-04-05T09:44:40.048Z"
   },
   {
    "duration": 16,
    "start_time": "2022-04-05T09:44:40.057Z"
   },
   {
    "duration": 22,
    "start_time": "2022-04-05T09:44:40.074Z"
   },
   {
    "duration": 18,
    "start_time": "2022-04-05T09:44:40.097Z"
   },
   {
    "duration": 26,
    "start_time": "2022-04-05T09:44:40.117Z"
   },
   {
    "duration": 12,
    "start_time": "2022-04-05T09:44:40.145Z"
   },
   {
    "duration": 214,
    "start_time": "2022-04-05T09:44:40.159Z"
   },
   {
    "duration": 195,
    "start_time": "2022-04-05T09:44:40.375Z"
   },
   {
    "duration": 190,
    "start_time": "2022-04-05T09:44:40.572Z"
   },
   {
    "duration": 20,
    "start_time": "2022-04-05T09:44:40.764Z"
   },
   {
    "duration": 7,
    "start_time": "2022-04-05T09:44:40.786Z"
   },
   {
    "duration": 17,
    "start_time": "2022-04-05T09:44:40.795Z"
   },
   {
    "duration": 24,
    "start_time": "2022-04-05T09:44:40.814Z"
   },
   {
    "duration": 5,
    "start_time": "2022-04-05T09:44:40.839Z"
   },
   {
    "duration": 39,
    "start_time": "2022-04-05T09:44:40.845Z"
   },
   {
    "duration": 20,
    "start_time": "2022-04-05T09:44:40.885Z"
   },
   {
    "duration": 732,
    "start_time": "2022-04-05T09:45:04.537Z"
   },
   {
    "duration": 17,
    "start_time": "2022-04-05T09:45:12.625Z"
   },
   {
    "duration": 252,
    "start_time": "2022-04-05T09:58:22.738Z"
   },
   {
    "duration": 16,
    "start_time": "2022-04-05T10:02:53.576Z"
   },
   {
    "duration": 46,
    "start_time": "2022-04-05T20:37:18.893Z"
   },
   {
    "duration": 1349,
    "start_time": "2022-04-05T20:37:26.791Z"
   },
   {
    "duration": 2,
    "start_time": "2022-04-05T20:37:28.142Z"
   },
   {
    "duration": 404,
    "start_time": "2022-04-05T20:37:28.145Z"
   },
   {
    "duration": 23,
    "start_time": "2022-04-05T20:37:28.551Z"
   },
   {
    "duration": 10,
    "start_time": "2022-04-05T20:37:28.576Z"
   },
   {
    "duration": 3,
    "start_time": "2022-04-05T20:37:28.587Z"
   },
   {
    "duration": 22,
    "start_time": "2022-04-05T20:37:28.591Z"
   },
   {
    "duration": 7,
    "start_time": "2022-04-05T20:37:28.614Z"
   },
   {
    "duration": 7,
    "start_time": "2022-04-05T20:37:28.623Z"
   },
   {
    "duration": 17,
    "start_time": "2022-04-05T20:37:28.632Z"
   },
   {
    "duration": 8,
    "start_time": "2022-04-05T20:37:28.650Z"
   },
   {
    "duration": 8,
    "start_time": "2022-04-05T20:37:28.659Z"
   },
   {
    "duration": 34,
    "start_time": "2022-04-05T20:37:28.668Z"
   },
   {
    "duration": 9,
    "start_time": "2022-04-05T20:37:28.703Z"
   },
   {
    "duration": 10,
    "start_time": "2022-04-05T20:37:28.713Z"
   },
   {
    "duration": 15,
    "start_time": "2022-04-05T20:37:28.725Z"
   },
   {
    "duration": 16,
    "start_time": "2022-04-05T20:37:28.742Z"
   },
   {
    "duration": 7,
    "start_time": "2022-04-05T20:37:28.760Z"
   },
   {
    "duration": 39,
    "start_time": "2022-04-05T20:37:28.769Z"
   },
   {
    "duration": 35,
    "start_time": "2022-04-05T20:37:28.810Z"
   },
   {
    "duration": 5,
    "start_time": "2022-04-05T20:37:28.846Z"
   },
   {
    "duration": 48,
    "start_time": "2022-04-05T20:37:28.853Z"
   },
   {
    "duration": 16,
    "start_time": "2022-04-05T20:37:28.903Z"
   },
   {
    "duration": 22,
    "start_time": "2022-04-05T20:37:28.921Z"
   },
   {
    "duration": 4,
    "start_time": "2022-04-05T20:37:28.945Z"
   },
   {
    "duration": 29,
    "start_time": "2022-04-05T20:37:28.950Z"
   },
   {
    "duration": 30,
    "start_time": "2022-04-05T20:37:28.981Z"
   },
   {
    "duration": 18,
    "start_time": "2022-04-05T20:37:29.015Z"
   },
   {
    "duration": 5,
    "start_time": "2022-04-05T20:37:29.035Z"
   },
   {
    "duration": 25,
    "start_time": "2022-04-05T20:37:29.041Z"
   },
   {
    "duration": 7,
    "start_time": "2022-04-05T20:37:29.068Z"
   },
   {
    "duration": 29,
    "start_time": "2022-04-05T20:37:29.076Z"
   },
   {
    "duration": 20,
    "start_time": "2022-04-05T20:37:29.107Z"
   },
   {
    "duration": 19,
    "start_time": "2022-04-05T20:37:29.128Z"
   },
   {
    "duration": 11,
    "start_time": "2022-04-05T20:37:29.148Z"
   },
   {
    "duration": 24,
    "start_time": "2022-04-05T20:37:29.160Z"
   },
   {
    "duration": 16,
    "start_time": "2022-04-05T20:37:29.185Z"
   },
   {
    "duration": 14,
    "start_time": "2022-04-05T20:37:29.202Z"
   },
   {
    "duration": 20,
    "start_time": "2022-04-05T20:37:29.217Z"
   },
   {
    "duration": 19,
    "start_time": "2022-04-05T20:37:29.238Z"
   },
   {
    "duration": 32,
    "start_time": "2022-04-05T20:37:29.259Z"
   },
   {
    "duration": 14,
    "start_time": "2022-04-05T20:37:29.292Z"
   },
   {
    "duration": 47,
    "start_time": "2022-04-05T20:37:29.308Z"
   },
   {
    "duration": 8,
    "start_time": "2022-04-05T20:37:29.357Z"
   },
   {
    "duration": 35,
    "start_time": "2022-04-05T20:37:29.366Z"
   },
   {
    "duration": 8,
    "start_time": "2022-04-05T20:37:29.403Z"
   },
   {
    "duration": 14,
    "start_time": "2022-04-05T20:37:29.412Z"
   },
   {
    "duration": 20,
    "start_time": "2022-04-05T20:37:29.428Z"
   },
   {
    "duration": 31,
    "start_time": "2022-04-05T20:37:29.449Z"
   },
   {
    "duration": 10,
    "start_time": "2022-04-05T20:37:29.482Z"
   },
   {
    "duration": 39,
    "start_time": "2022-04-05T20:37:29.494Z"
   },
   {
    "duration": 7,
    "start_time": "2022-04-05T20:37:29.535Z"
   },
   {
    "duration": 27,
    "start_time": "2022-04-05T20:37:29.544Z"
   },
   {
    "duration": 22,
    "start_time": "2022-04-05T20:37:29.573Z"
   },
   {
    "duration": 30,
    "start_time": "2022-04-05T20:37:29.596Z"
   },
   {
    "duration": 18,
    "start_time": "2022-04-05T20:37:29.627Z"
   },
   {
    "duration": 38,
    "start_time": "2022-04-05T20:37:29.646Z"
   },
   {
    "duration": 7,
    "start_time": "2022-04-05T20:37:29.686Z"
   },
   {
    "duration": 24,
    "start_time": "2022-04-05T20:37:29.694Z"
   },
   {
    "duration": 26,
    "start_time": "2022-04-05T20:37:29.720Z"
   },
   {
    "duration": 29,
    "start_time": "2022-04-05T20:37:29.748Z"
   },
   {
    "duration": 38,
    "start_time": "2022-04-05T20:37:29.778Z"
   },
   {
    "duration": 28,
    "start_time": "2022-04-05T20:37:29.817Z"
   },
   {
    "duration": 26,
    "start_time": "2022-04-05T20:37:29.847Z"
   },
   {
    "duration": 25,
    "start_time": "2022-04-05T20:37:29.874Z"
   },
   {
    "duration": 31,
    "start_time": "2022-04-05T20:37:29.901Z"
   },
   {
    "duration": 22,
    "start_time": "2022-04-05T20:37:29.934Z"
   },
   {
    "duration": 22,
    "start_time": "2022-04-05T20:37:29.958Z"
   },
   {
    "duration": 33,
    "start_time": "2022-04-05T20:37:29.981Z"
   },
   {
    "duration": 28,
    "start_time": "2022-04-05T20:37:30.015Z"
   },
   {
    "duration": 27,
    "start_time": "2022-04-05T20:37:30.044Z"
   },
   {
    "duration": 24,
    "start_time": "2022-04-05T20:37:30.072Z"
   },
   {
    "duration": 23,
    "start_time": "2022-04-05T20:37:30.097Z"
   },
   {
    "duration": 22,
    "start_time": "2022-04-05T20:37:30.121Z"
   },
   {
    "duration": 35,
    "start_time": "2022-04-05T20:37:30.145Z"
   },
   {
    "duration": 42,
    "start_time": "2022-04-05T20:37:30.181Z"
   },
   {
    "duration": 25,
    "start_time": "2022-04-05T20:37:30.225Z"
   },
   {
    "duration": 39,
    "start_time": "2022-04-05T20:37:30.252Z"
   },
   {
    "duration": 39,
    "start_time": "2022-04-05T20:37:30.293Z"
   },
   {
    "duration": 26,
    "start_time": "2022-04-05T20:37:30.334Z"
   },
   {
    "duration": 33,
    "start_time": "2022-04-05T20:37:30.361Z"
   },
   {
    "duration": 16,
    "start_time": "2022-04-05T20:37:30.399Z"
   },
   {
    "duration": 112,
    "start_time": "2022-04-05T20:37:30.417Z"
   },
   {
    "duration": 12,
    "start_time": "2022-04-05T20:37:30.531Z"
   },
   {
    "duration": 8,
    "start_time": "2022-04-05T20:37:30.544Z"
   },
   {
    "duration": 14,
    "start_time": "2022-04-05T20:37:30.554Z"
   },
   {
    "duration": 14,
    "start_time": "2022-04-05T20:37:30.569Z"
   },
   {
    "duration": 17,
    "start_time": "2022-04-05T20:37:30.585Z"
   },
   {
    "duration": 16,
    "start_time": "2022-04-05T20:37:30.604Z"
   },
   {
    "duration": 17,
    "start_time": "2022-04-05T20:37:30.622Z"
   },
   {
    "duration": 7,
    "start_time": "2022-04-05T20:37:30.640Z"
   },
   {
    "duration": 17,
    "start_time": "2022-04-05T20:37:30.648Z"
   },
   {
    "duration": 218,
    "start_time": "2022-04-05T20:37:30.666Z"
   },
   {
    "duration": 195,
    "start_time": "2022-04-05T20:37:30.886Z"
   },
   {
    "duration": 188,
    "start_time": "2022-04-05T20:37:31.083Z"
   },
   {
    "duration": 15,
    "start_time": "2022-04-05T20:37:31.273Z"
   },
   {
    "duration": 18,
    "start_time": "2022-04-05T20:37:31.300Z"
   },
   {
    "duration": 11,
    "start_time": "2022-04-05T20:37:31.320Z"
   },
   {
    "duration": 29,
    "start_time": "2022-04-05T20:37:31.333Z"
   },
   {
    "duration": 25,
    "start_time": "2022-04-05T20:37:31.364Z"
   },
   {
    "duration": 21,
    "start_time": "2022-04-05T20:37:31.391Z"
   },
   {
    "duration": 21,
    "start_time": "2022-04-05T20:37:31.413Z"
   },
   {
    "duration": 1114,
    "start_time": "2022-04-05T20:41:57.024Z"
   },
   {
    "duration": 3,
    "start_time": "2022-04-05T20:41:58.140Z"
   },
   {
    "duration": 403,
    "start_time": "2022-04-05T20:41:58.144Z"
   },
   {
    "duration": 24,
    "start_time": "2022-04-05T20:41:58.550Z"
   },
   {
    "duration": 11,
    "start_time": "2022-04-05T20:41:58.576Z"
   },
   {
    "duration": 10,
    "start_time": "2022-04-05T20:41:58.589Z"
   },
   {
    "duration": 30,
    "start_time": "2022-04-05T20:41:58.601Z"
   },
   {
    "duration": 7,
    "start_time": "2022-04-05T20:41:58.633Z"
   },
   {
    "duration": 10,
    "start_time": "2022-04-05T20:41:58.642Z"
   },
   {
    "duration": 31,
    "start_time": "2022-04-05T20:41:58.654Z"
   },
   {
    "duration": 15,
    "start_time": "2022-04-05T20:41:58.686Z"
   },
   {
    "duration": 8,
    "start_time": "2022-04-05T20:41:58.702Z"
   },
   {
    "duration": 19,
    "start_time": "2022-04-05T20:41:58.712Z"
   },
   {
    "duration": 9,
    "start_time": "2022-04-05T20:41:58.732Z"
   },
   {
    "duration": 12,
    "start_time": "2022-04-05T20:41:58.743Z"
   },
   {
    "duration": 22,
    "start_time": "2022-04-05T20:41:58.757Z"
   },
   {
    "duration": 18,
    "start_time": "2022-04-05T20:41:58.780Z"
   },
   {
    "duration": 13,
    "start_time": "2022-04-05T20:41:58.800Z"
   },
   {
    "duration": 33,
    "start_time": "2022-04-05T20:41:58.814Z"
   },
   {
    "duration": 35,
    "start_time": "2022-04-05T20:41:58.849Z"
   },
   {
    "duration": 5,
    "start_time": "2022-04-05T20:41:58.886Z"
   },
   {
    "duration": 43,
    "start_time": "2022-04-05T20:41:58.892Z"
   },
   {
    "duration": 17,
    "start_time": "2022-04-05T20:41:58.936Z"
   },
   {
    "duration": 22,
    "start_time": "2022-04-05T20:41:58.955Z"
   },
   {
    "duration": 4,
    "start_time": "2022-04-05T20:41:58.979Z"
   },
   {
    "duration": 37,
    "start_time": "2022-04-05T20:41:58.984Z"
   },
   {
    "duration": 15,
    "start_time": "2022-04-05T20:41:59.022Z"
   },
   {
    "duration": 20,
    "start_time": "2022-04-05T20:41:59.042Z"
   },
   {
    "duration": 4,
    "start_time": "2022-04-05T20:41:59.064Z"
   },
   {
    "duration": 32,
    "start_time": "2022-04-05T20:41:59.070Z"
   },
   {
    "duration": 6,
    "start_time": "2022-04-05T20:41:59.103Z"
   },
   {
    "duration": 18,
    "start_time": "2022-04-05T20:41:59.111Z"
   },
   {
    "duration": 15,
    "start_time": "2022-04-05T20:41:59.131Z"
   },
   {
    "duration": 25,
    "start_time": "2022-04-05T20:41:59.147Z"
   },
   {
    "duration": 13,
    "start_time": "2022-04-05T20:41:59.174Z"
   },
   {
    "duration": 10,
    "start_time": "2022-04-05T20:41:59.189Z"
   },
   {
    "duration": 17,
    "start_time": "2022-04-05T20:41:59.200Z"
   },
   {
    "duration": 22,
    "start_time": "2022-04-05T20:41:59.218Z"
   },
   {
    "duration": 25,
    "start_time": "2022-04-05T20:41:59.242Z"
   },
   {
    "duration": 14,
    "start_time": "2022-04-05T20:41:59.269Z"
   },
   {
    "duration": 22,
    "start_time": "2022-04-05T20:41:59.284Z"
   },
   {
    "duration": 12,
    "start_time": "2022-04-05T20:41:59.308Z"
   },
   {
    "duration": 30,
    "start_time": "2022-04-05T20:41:59.321Z"
   },
   {
    "duration": 7,
    "start_time": "2022-04-05T20:41:59.352Z"
   },
   {
    "duration": 39,
    "start_time": "2022-04-05T20:41:59.361Z"
   },
   {
    "duration": 7,
    "start_time": "2022-04-05T20:41:59.402Z"
   },
   {
    "duration": 5,
    "start_time": "2022-04-05T20:41:59.410Z"
   },
   {
    "duration": 22,
    "start_time": "2022-04-05T20:41:59.417Z"
   },
   {
    "duration": 28,
    "start_time": "2022-04-05T20:41:59.441Z"
   },
   {
    "duration": 10,
    "start_time": "2022-04-05T20:41:59.471Z"
   },
   {
    "duration": 55,
    "start_time": "2022-04-05T20:41:59.482Z"
   },
   {
    "duration": 7,
    "start_time": "2022-04-05T20:41:59.538Z"
   },
   {
    "duration": 11,
    "start_time": "2022-04-05T20:41:59.547Z"
   },
   {
    "duration": 32,
    "start_time": "2022-04-05T20:41:59.559Z"
   },
   {
    "duration": 30,
    "start_time": "2022-04-05T20:41:59.592Z"
   },
   {
    "duration": 17,
    "start_time": "2022-04-05T20:41:59.623Z"
   },
   {
    "duration": 52,
    "start_time": "2022-04-05T20:41:59.642Z"
   },
   {
    "duration": 7,
    "start_time": "2022-04-05T20:41:59.696Z"
   },
   {
    "duration": 34,
    "start_time": "2022-04-05T20:41:59.705Z"
   },
   {
    "duration": 10,
    "start_time": "2022-04-05T20:41:59.740Z"
   },
   {
    "duration": 18,
    "start_time": "2022-04-05T20:41:59.751Z"
   },
   {
    "duration": 10,
    "start_time": "2022-04-05T20:41:59.770Z"
   },
   {
    "duration": 20,
    "start_time": "2022-04-05T20:41:59.781Z"
   },
   {
    "duration": 18,
    "start_time": "2022-04-05T20:41:59.802Z"
   },
   {
    "duration": 21,
    "start_time": "2022-04-05T20:41:59.822Z"
   },
   {
    "duration": 17,
    "start_time": "2022-04-05T20:41:59.845Z"
   },
   {
    "duration": 25,
    "start_time": "2022-04-05T20:41:59.863Z"
   },
   {
    "duration": 22,
    "start_time": "2022-04-05T20:41:59.889Z"
   },
   {
    "duration": 10,
    "start_time": "2022-04-05T20:41:59.912Z"
   },
   {
    "duration": 13,
    "start_time": "2022-04-05T20:41:59.923Z"
   },
   {
    "duration": 20,
    "start_time": "2022-04-05T20:41:59.938Z"
   },
   {
    "duration": 12,
    "start_time": "2022-04-05T20:41:59.960Z"
   },
   {
    "duration": 18,
    "start_time": "2022-04-05T20:41:59.973Z"
   },
   {
    "duration": 24,
    "start_time": "2022-04-05T20:41:59.992Z"
   },
   {
    "duration": 25,
    "start_time": "2022-04-05T20:42:00.018Z"
   },
   {
    "duration": 23,
    "start_time": "2022-04-05T20:42:00.044Z"
   },
   {
    "duration": 23,
    "start_time": "2022-04-05T20:42:00.068Z"
   },
   {
    "duration": 19,
    "start_time": "2022-04-05T20:42:00.093Z"
   },
   {
    "duration": 26,
    "start_time": "2022-04-05T20:42:00.114Z"
   },
   {
    "duration": 19,
    "start_time": "2022-04-05T20:42:00.141Z"
   },
   {
    "duration": 23,
    "start_time": "2022-04-05T20:42:00.161Z"
   },
   {
    "duration": 112,
    "start_time": "2022-04-05T20:42:00.190Z"
   },
   {
    "duration": 11,
    "start_time": "2022-04-05T20:42:00.304Z"
   },
   {
    "duration": 15,
    "start_time": "2022-04-05T20:42:00.317Z"
   },
   {
    "duration": 44,
    "start_time": "2022-04-05T20:42:00.333Z"
   },
   {
    "duration": 14,
    "start_time": "2022-04-05T20:42:00.378Z"
   },
   {
    "duration": 33,
    "start_time": "2022-04-05T20:42:00.394Z"
   },
   {
    "duration": 26,
    "start_time": "2022-04-05T20:42:00.428Z"
   },
   {
    "duration": 21,
    "start_time": "2022-04-05T20:42:00.455Z"
   },
   {
    "duration": 37,
    "start_time": "2022-04-05T20:42:00.477Z"
   },
   {
    "duration": 17,
    "start_time": "2022-04-05T20:42:00.515Z"
   },
   {
    "duration": 198,
    "start_time": "2022-04-05T20:42:00.533Z"
   },
   {
    "duration": 172,
    "start_time": "2022-04-05T20:42:00.733Z"
   },
   {
    "duration": 180,
    "start_time": "2022-04-05T20:42:00.906Z"
   },
   {
    "duration": 21,
    "start_time": "2022-04-05T20:42:01.088Z"
   },
   {
    "duration": 21,
    "start_time": "2022-04-05T20:42:01.111Z"
   },
   {
    "duration": 22,
    "start_time": "2022-04-05T20:42:01.134Z"
   },
   {
    "duration": 31,
    "start_time": "2022-04-05T20:42:01.158Z"
   },
   {
    "duration": 22,
    "start_time": "2022-04-05T20:42:01.191Z"
   },
   {
    "duration": 31,
    "start_time": "2022-04-05T20:42:01.215Z"
   },
   {
    "duration": 26,
    "start_time": "2022-04-05T20:42:01.248Z"
   },
   {
    "duration": 1230,
    "start_time": "2022-04-05T21:23:17.221Z"
   },
   {
    "duration": 2,
    "start_time": "2022-04-05T21:23:18.453Z"
   },
   {
    "duration": 433,
    "start_time": "2022-04-05T21:23:18.457Z"
   },
   {
    "duration": 26,
    "start_time": "2022-04-05T21:23:18.892Z"
   },
   {
    "duration": 10,
    "start_time": "2022-04-05T21:23:18.920Z"
   },
   {
    "duration": 4,
    "start_time": "2022-04-05T21:23:18.932Z"
   },
   {
    "duration": 23,
    "start_time": "2022-04-05T21:23:18.937Z"
   },
   {
    "duration": 8,
    "start_time": "2022-04-05T21:23:18.961Z"
   },
   {
    "duration": 33,
    "start_time": "2022-04-05T21:23:18.971Z"
   },
   {
    "duration": 20,
    "start_time": "2022-04-05T21:23:19.007Z"
   },
   {
    "duration": 8,
    "start_time": "2022-04-05T21:23:19.028Z"
   },
   {
    "duration": 5,
    "start_time": "2022-04-05T21:23:19.037Z"
   },
   {
    "duration": 11,
    "start_time": "2022-04-05T21:23:19.043Z"
   },
   {
    "duration": 10,
    "start_time": "2022-04-05T21:23:19.055Z"
   },
   {
    "duration": 37,
    "start_time": "2022-04-05T21:23:19.066Z"
   },
   {
    "duration": 13,
    "start_time": "2022-04-05T21:23:19.105Z"
   },
   {
    "duration": 15,
    "start_time": "2022-04-05T21:23:19.119Z"
   },
   {
    "duration": 9,
    "start_time": "2022-04-05T21:23:19.136Z"
   },
   {
    "duration": 26,
    "start_time": "2022-04-05T21:23:19.146Z"
   },
   {
    "duration": 54,
    "start_time": "2022-04-05T21:23:19.173Z"
   },
   {
    "duration": 4,
    "start_time": "2022-04-05T21:23:19.229Z"
   },
   {
    "duration": 29,
    "start_time": "2022-04-05T21:23:19.235Z"
   },
   {
    "duration": 37,
    "start_time": "2022-04-05T21:23:19.266Z"
   },
   {
    "duration": 22,
    "start_time": "2022-04-05T21:23:19.305Z"
   },
   {
    "duration": 5,
    "start_time": "2022-04-05T21:23:19.329Z"
   },
   {
    "duration": 24,
    "start_time": "2022-04-05T21:23:19.335Z"
   },
   {
    "duration": 15,
    "start_time": "2022-04-05T21:23:19.361Z"
   },
   {
    "duration": 19,
    "start_time": "2022-04-05T21:23:19.404Z"
   },
   {
    "duration": 5,
    "start_time": "2022-04-05T21:23:19.425Z"
   },
   {
    "duration": 41,
    "start_time": "2022-04-05T21:23:19.431Z"
   },
   {
    "duration": 6,
    "start_time": "2022-04-05T21:23:19.474Z"
   },
   {
    "duration": 25,
    "start_time": "2022-04-05T21:23:19.481Z"
   },
   {
    "duration": 11,
    "start_time": "2022-04-05T21:23:19.507Z"
   },
   {
    "duration": 30,
    "start_time": "2022-04-05T21:23:19.520Z"
   },
   {
    "duration": 21,
    "start_time": "2022-04-05T21:23:19.551Z"
   },
   {
    "duration": 13,
    "start_time": "2022-04-05T21:23:19.574Z"
   },
   {
    "duration": 19,
    "start_time": "2022-04-05T21:23:19.589Z"
   },
   {
    "duration": 24,
    "start_time": "2022-04-05T21:23:19.609Z"
   },
   {
    "duration": 26,
    "start_time": "2022-04-05T21:23:19.634Z"
   },
   {
    "duration": 13,
    "start_time": "2022-04-05T21:23:19.662Z"
   },
   {
    "duration": 17,
    "start_time": "2022-04-05T21:23:19.676Z"
   },
   {
    "duration": 23,
    "start_time": "2022-04-05T21:23:19.695Z"
   },
   {
    "duration": 48,
    "start_time": "2022-04-05T21:23:19.720Z"
   },
   {
    "duration": 8,
    "start_time": "2022-04-05T21:23:19.770Z"
   },
   {
    "duration": 37,
    "start_time": "2022-04-05T21:23:19.780Z"
   },
   {
    "duration": 8,
    "start_time": "2022-04-05T21:23:19.819Z"
   },
   {
    "duration": 10,
    "start_time": "2022-04-05T21:23:19.828Z"
   },
   {
    "duration": 25,
    "start_time": "2022-04-05T21:23:19.839Z"
   },
   {
    "duration": 24,
    "start_time": "2022-04-05T21:23:19.865Z"
   },
   {
    "duration": 8,
    "start_time": "2022-04-05T21:23:19.890Z"
   },
   {
    "duration": 41,
    "start_time": "2022-04-05T21:23:19.900Z"
   },
   {
    "duration": 7,
    "start_time": "2022-04-05T21:23:19.943Z"
   },
   {
    "duration": 8,
    "start_time": "2022-04-05T21:23:19.952Z"
   },
   {
    "duration": 17,
    "start_time": "2022-04-05T21:23:19.962Z"
   },
   {
    "duration": 25,
    "start_time": "2022-04-05T21:23:19.980Z"
   },
   {
    "duration": 9,
    "start_time": "2022-04-05T21:23:20.006Z"
   },
   {
    "duration": 31,
    "start_time": "2022-04-05T21:23:20.016Z"
   },
   {
    "duration": 8,
    "start_time": "2022-04-05T21:23:20.049Z"
   },
   {
    "duration": 17,
    "start_time": "2022-04-05T21:23:20.058Z"
   },
   {
    "duration": 25,
    "start_time": "2022-04-05T21:23:20.077Z"
   },
   {
    "duration": 25,
    "start_time": "2022-04-05T21:23:20.104Z"
   },
   {
    "duration": 15,
    "start_time": "2022-04-05T21:23:20.131Z"
   },
   {
    "duration": 23,
    "start_time": "2022-04-05T21:23:20.147Z"
   },
   {
    "duration": 24,
    "start_time": "2022-04-05T21:23:20.172Z"
   },
   {
    "duration": 24,
    "start_time": "2022-04-05T21:23:20.198Z"
   },
   {
    "duration": 20,
    "start_time": "2022-04-05T21:23:20.223Z"
   },
   {
    "duration": 24,
    "start_time": "2022-04-05T21:23:20.245Z"
   },
   {
    "duration": 24,
    "start_time": "2022-04-05T21:23:20.271Z"
   },
   {
    "duration": 16,
    "start_time": "2022-04-05T21:23:20.297Z"
   },
   {
    "duration": 16,
    "start_time": "2022-04-05T21:23:20.315Z"
   },
   {
    "duration": 31,
    "start_time": "2022-04-05T21:23:20.333Z"
   },
   {
    "duration": 11,
    "start_time": "2022-04-05T21:23:20.366Z"
   },
   {
    "duration": 8,
    "start_time": "2022-04-05T21:23:20.379Z"
   },
   {
    "duration": 17,
    "start_time": "2022-04-05T21:23:20.388Z"
   },
   {
    "duration": 24,
    "start_time": "2022-04-05T21:23:20.406Z"
   },
   {
    "duration": 14,
    "start_time": "2022-04-05T21:23:20.432Z"
   },
   {
    "duration": 22,
    "start_time": "2022-04-05T21:23:20.448Z"
   },
   {
    "duration": 19,
    "start_time": "2022-04-05T21:23:20.471Z"
   },
   {
    "duration": 27,
    "start_time": "2022-04-05T21:23:20.491Z"
   },
   {
    "duration": 8,
    "start_time": "2022-04-05T21:23:20.519Z"
   },
   {
    "duration": 23,
    "start_time": "2022-04-05T21:23:20.528Z"
   },
   {
    "duration": 105,
    "start_time": "2022-04-05T21:23:20.556Z"
   },
   {
    "duration": 13,
    "start_time": "2022-04-05T21:23:20.662Z"
   },
   {
    "duration": 11,
    "start_time": "2022-04-05T21:23:20.677Z"
   },
   {
    "duration": 31,
    "start_time": "2022-04-05T21:23:20.690Z"
   },
   {
    "duration": 6,
    "start_time": "2022-04-05T21:23:20.723Z"
   },
   {
    "duration": 21,
    "start_time": "2022-04-05T21:23:20.731Z"
   },
   {
    "duration": 19,
    "start_time": "2022-04-05T21:23:20.754Z"
   },
   {
    "duration": 16,
    "start_time": "2022-04-05T21:23:20.775Z"
   },
   {
    "duration": 13,
    "start_time": "2022-04-05T21:23:20.793Z"
   },
   {
    "duration": 6,
    "start_time": "2022-04-05T21:23:20.807Z"
   },
   {
    "duration": 203,
    "start_time": "2022-04-05T21:23:20.814Z"
   },
   {
    "duration": 188,
    "start_time": "2022-04-05T21:23:21.019Z"
   },
   {
    "duration": 169,
    "start_time": "2022-04-05T21:23:21.209Z"
   },
   {
    "duration": 23,
    "start_time": "2022-04-05T21:23:21.380Z"
   },
   {
    "duration": 8,
    "start_time": "2022-04-05T21:23:21.404Z"
   },
   {
    "duration": 5,
    "start_time": "2022-04-05T21:23:21.414Z"
   },
   {
    "duration": 13,
    "start_time": "2022-04-05T21:23:21.420Z"
   },
   {
    "duration": 4,
    "start_time": "2022-04-05T21:23:21.435Z"
   },
   {
    "duration": 13,
    "start_time": "2022-04-05T21:23:21.440Z"
   },
   {
    "duration": 6,
    "start_time": "2022-04-05T21:23:21.455Z"
   },
   {
    "duration": 73,
    "start_time": "2022-04-05T22:53:38.568Z"
   },
   {
    "duration": 1481,
    "start_time": "2022-04-05T22:55:53.164Z"
   },
   {
    "duration": 4,
    "start_time": "2022-04-05T22:55:54.648Z"
   },
   {
    "duration": 532,
    "start_time": "2022-04-05T22:55:54.654Z"
   },
   {
    "duration": 38,
    "start_time": "2022-04-05T22:55:55.191Z"
   },
   {
    "duration": 19,
    "start_time": "2022-04-05T22:55:55.232Z"
   },
   {
    "duration": 6,
    "start_time": "2022-04-05T22:55:55.284Z"
   },
   {
    "duration": 33,
    "start_time": "2022-04-05T22:55:55.293Z"
   },
   {
    "duration": 13,
    "start_time": "2022-04-05T22:55:55.329Z"
   },
   {
    "duration": 44,
    "start_time": "2022-04-05T22:55:55.345Z"
   },
   {
    "duration": 28,
    "start_time": "2022-04-05T22:55:55.395Z"
   },
   {
    "duration": 12,
    "start_time": "2022-04-05T22:55:55.426Z"
   },
   {
    "duration": 45,
    "start_time": "2022-04-05T22:55:55.441Z"
   },
   {
    "duration": 23,
    "start_time": "2022-04-05T22:55:55.488Z"
   },
   {
    "duration": 14,
    "start_time": "2022-04-05T22:55:55.514Z"
   },
   {
    "duration": 11,
    "start_time": "2022-04-05T22:55:55.531Z"
   },
   {
    "duration": 50,
    "start_time": "2022-04-05T22:55:55.545Z"
   },
   {
    "duration": 18,
    "start_time": "2022-04-05T22:55:55.598Z"
   },
   {
    "duration": 10,
    "start_time": "2022-04-05T22:55:55.618Z"
   },
   {
    "duration": 67,
    "start_time": "2022-04-05T22:55:55.630Z"
   },
   {
    "duration": 51,
    "start_time": "2022-04-05T22:55:55.701Z"
   },
   {
    "duration": 6,
    "start_time": "2022-04-05T22:55:55.755Z"
   },
   {
    "duration": 36,
    "start_time": "2022-04-05T22:55:55.785Z"
   },
   {
    "duration": 23,
    "start_time": "2022-04-05T22:55:55.823Z"
   },
   {
    "duration": 66,
    "start_time": "2022-04-05T22:55:55.848Z"
   },
   {
    "duration": 7,
    "start_time": "2022-04-05T22:55:55.916Z"
   },
   {
    "duration": 34,
    "start_time": "2022-04-05T22:55:55.925Z"
   },
   {
    "duration": 19,
    "start_time": "2022-04-05T22:55:55.985Z"
   },
   {
    "duration": 29,
    "start_time": "2022-04-05T22:55:56.013Z"
   },
   {
    "duration": 7,
    "start_time": "2022-04-05T22:55:56.044Z"
   },
   {
    "duration": 47,
    "start_time": "2022-04-05T22:55:56.053Z"
   },
   {
    "duration": 9,
    "start_time": "2022-04-05T22:55:56.102Z"
   },
   {
    "duration": 15,
    "start_time": "2022-04-05T22:55:56.113Z"
   },
   {
    "duration": 13,
    "start_time": "2022-04-05T22:55:56.130Z"
   },
   {
    "duration": 50,
    "start_time": "2022-04-05T22:55:56.145Z"
   },
   {
    "duration": 4,
    "start_time": "2022-04-05T22:55:56.198Z"
   },
   {
    "duration": 9,
    "start_time": "2022-04-05T22:55:56.205Z"
   },
   {
    "duration": 8,
    "start_time": "2022-04-05T22:55:56.216Z"
   },
   {
    "duration": 12,
    "start_time": "2022-04-05T22:55:56.225Z"
   },
   {
    "duration": 57,
    "start_time": "2022-04-05T22:55:56.240Z"
   },
   {
    "duration": 16,
    "start_time": "2022-04-05T22:55:56.299Z"
   },
   {
    "duration": 15,
    "start_time": "2022-04-05T22:55:56.317Z"
   },
   {
    "duration": 11,
    "start_time": "2022-04-05T22:55:56.335Z"
   },
   {
    "duration": 58,
    "start_time": "2022-04-05T22:55:56.348Z"
   },
   {
    "duration": 12,
    "start_time": "2022-04-05T22:55:56.408Z"
   },
   {
    "duration": 68,
    "start_time": "2022-04-05T22:55:56.423Z"
   },
   {
    "duration": 12,
    "start_time": "2022-04-05T22:55:56.494Z"
   },
   {
    "duration": 5,
    "start_time": "2022-04-05T22:55:56.508Z"
   },
   {
    "duration": 12,
    "start_time": "2022-04-05T22:55:56.515Z"
   },
   {
    "duration": 56,
    "start_time": "2022-04-05T22:55:56.529Z"
   },
   {
    "duration": 13,
    "start_time": "2022-04-05T22:55:56.587Z"
   },
   {
    "duration": 50,
    "start_time": "2022-04-05T22:55:56.602Z"
   },
   {
    "duration": 34,
    "start_time": "2022-04-05T22:55:56.654Z"
   },
   {
    "duration": 7,
    "start_time": "2022-04-05T22:55:56.690Z"
   },
   {
    "duration": 18,
    "start_time": "2022-04-05T22:55:56.699Z"
   },
   {
    "duration": 23,
    "start_time": "2022-04-05T22:55:56.719Z"
   },
   {
    "duration": 41,
    "start_time": "2022-04-05T22:55:56.745Z"
   },
   {
    "duration": 29,
    "start_time": "2022-04-05T22:55:56.789Z"
   },
   {
    "duration": 12,
    "start_time": "2022-04-05T22:55:56.820Z"
   },
   {
    "duration": 8,
    "start_time": "2022-04-05T22:55:56.835Z"
   },
   {
    "duration": 45,
    "start_time": "2022-04-05T22:55:56.845Z"
   },
   {
    "duration": 13,
    "start_time": "2022-04-05T22:55:56.892Z"
   },
   {
    "duration": 6,
    "start_time": "2022-04-05T22:55:56.907Z"
   },
   {
    "duration": 10,
    "start_time": "2022-04-05T22:55:56.915Z"
   },
   {
    "duration": 7,
    "start_time": "2022-04-05T22:55:56.927Z"
   },
   {
    "duration": 9,
    "start_time": "2022-04-05T22:55:56.936Z"
   },
   {
    "duration": 10,
    "start_time": "2022-04-05T22:55:56.984Z"
   },
   {
    "duration": 7,
    "start_time": "2022-04-05T22:55:56.997Z"
   },
   {
    "duration": 15,
    "start_time": "2022-04-05T22:55:57.006Z"
   },
   {
    "duration": 9,
    "start_time": "2022-04-05T22:55:57.023Z"
   },
   {
    "duration": 18,
    "start_time": "2022-04-05T22:55:57.034Z"
   },
   {
    "duration": 41,
    "start_time": "2022-04-05T22:55:57.054Z"
   },
   {
    "duration": 13,
    "start_time": "2022-04-05T22:55:57.098Z"
   },
   {
    "duration": 6,
    "start_time": "2022-04-05T22:55:57.113Z"
   },
   {
    "duration": 20,
    "start_time": "2022-04-05T22:55:57.121Z"
   },
   {
    "duration": 47,
    "start_time": "2022-04-05T22:55:57.144Z"
   },
   {
    "duration": 6,
    "start_time": "2022-04-05T22:55:57.194Z"
   },
   {
    "duration": 8,
    "start_time": "2022-04-05T22:55:57.202Z"
   },
   {
    "duration": 12,
    "start_time": "2022-04-05T22:55:57.212Z"
   },
   {
    "duration": 10,
    "start_time": "2022-04-05T22:55:57.226Z"
   },
   {
    "duration": 46,
    "start_time": "2022-04-05T22:55:57.238Z"
   },
   {
    "duration": 14,
    "start_time": "2022-04-05T22:55:57.287Z"
   },
   {
    "duration": 297,
    "start_time": "2022-04-05T22:55:57.310Z"
   },
   {
    "duration": 19,
    "start_time": "2022-04-05T22:55:57.610Z"
   },
   {
    "duration": 7,
    "start_time": "2022-04-05T22:55:57.631Z"
   },
   {
    "duration": 25,
    "start_time": "2022-04-05T22:55:57.641Z"
   },
   {
    "duration": 19,
    "start_time": "2022-04-05T22:55:57.668Z"
   },
   {
    "duration": 21,
    "start_time": "2022-04-05T22:55:57.690Z"
   },
   {
    "duration": 26,
    "start_time": "2022-04-05T22:55:57.713Z"
   },
   {
    "duration": 58,
    "start_time": "2022-04-05T22:55:57.741Z"
   },
   {
    "duration": 9,
    "start_time": "2022-04-05T22:55:57.802Z"
   },
   {
    "duration": 14,
    "start_time": "2022-04-05T22:55:57.814Z"
   },
   {
    "duration": 373,
    "start_time": "2022-04-05T22:55:57.830Z"
   },
   {
    "duration": 308,
    "start_time": "2022-04-05T22:55:58.205Z"
   },
   {
    "duration": 416,
    "start_time": "2022-04-05T22:55:58.516Z"
   },
   {
    "duration": 24,
    "start_time": "2022-04-05T22:55:58.935Z"
   },
   {
    "duration": 29,
    "start_time": "2022-04-05T22:55:58.962Z"
   },
   {
    "duration": 7,
    "start_time": "2022-04-05T22:55:58.993Z"
   },
   {
    "duration": 17,
    "start_time": "2022-04-05T22:55:59.003Z"
   },
   {
    "duration": 7,
    "start_time": "2022-04-05T22:55:59.022Z"
   },
   {
    "duration": 53,
    "start_time": "2022-04-05T22:55:59.032Z"
   },
   {
    "duration": 7,
    "start_time": "2022-04-05T22:55:59.088Z"
   },
   {
    "duration": 11,
    "start_time": "2022-04-05T22:57:41.784Z"
   },
   {
    "duration": 6,
    "start_time": "2022-04-05T22:58:29.015Z"
   },
   {
    "duration": 5,
    "start_time": "2022-04-05T22:58:55.994Z"
   },
   {
    "duration": 11,
    "start_time": "2022-04-05T22:59:02.692Z"
   },
   {
    "duration": 5,
    "start_time": "2022-04-05T22:59:23.683Z"
   },
   {
    "duration": 5,
    "start_time": "2022-04-05T22:59:24.330Z"
   },
   {
    "duration": 10,
    "start_time": "2022-04-05T22:59:26.026Z"
   },
   {
    "duration": 1500,
    "start_time": "2022-04-05T22:59:33.956Z"
   },
   {
    "duration": 4,
    "start_time": "2022-04-05T22:59:35.458Z"
   },
   {
    "duration": 531,
    "start_time": "2022-04-05T22:59:35.464Z"
   },
   {
    "duration": 36,
    "start_time": "2022-04-05T22:59:35.997Z"
   },
   {
    "duration": 16,
    "start_time": "2022-04-05T22:59:36.035Z"
   },
   {
    "duration": 5,
    "start_time": "2022-04-05T22:59:36.053Z"
   },
   {
    "duration": 52,
    "start_time": "2022-04-05T22:59:36.060Z"
   },
   {
    "duration": 12,
    "start_time": "2022-04-05T22:59:36.114Z"
   },
   {
    "duration": 7,
    "start_time": "2022-04-05T22:59:36.128Z"
   },
   {
    "duration": 61,
    "start_time": "2022-04-05T22:59:36.140Z"
   },
   {
    "duration": 10,
    "start_time": "2022-04-05T22:59:36.203Z"
   },
   {
    "duration": 10,
    "start_time": "2022-04-05T22:59:36.215Z"
   },
   {
    "duration": 16,
    "start_time": "2022-04-05T22:59:36.227Z"
   },
   {
    "duration": 46,
    "start_time": "2022-04-05T22:59:36.245Z"
   },
   {
    "duration": 11,
    "start_time": "2022-04-05T22:59:36.293Z"
   },
   {
    "duration": 20,
    "start_time": "2022-04-05T22:59:36.305Z"
   },
   {
    "duration": 19,
    "start_time": "2022-04-05T22:59:36.328Z"
   },
   {
    "duration": 37,
    "start_time": "2022-04-05T22:59:36.349Z"
   },
   {
    "duration": 37,
    "start_time": "2022-04-05T22:59:36.388Z"
   },
   {
    "duration": 61,
    "start_time": "2022-04-05T22:59:36.427Z"
   },
   {
    "duration": 6,
    "start_time": "2022-04-05T22:59:36.491Z"
   },
   {
    "duration": 42,
    "start_time": "2022-04-05T22:59:36.500Z"
   },
   {
    "duration": 43,
    "start_time": "2022-04-05T22:59:36.544Z"
   },
   {
    "duration": 33,
    "start_time": "2022-04-05T22:59:36.590Z"
   },
   {
    "duration": 7,
    "start_time": "2022-04-05T22:59:36.626Z"
   },
   {
    "duration": 57,
    "start_time": "2022-04-05T22:59:36.635Z"
   },
   {
    "duration": 19,
    "start_time": "2022-04-05T22:59:36.694Z"
   },
   {
    "duration": 28,
    "start_time": "2022-04-05T22:59:36.719Z"
   },
   {
    "duration": 36,
    "start_time": "2022-04-05T22:59:36.749Z"
   },
   {
    "duration": 19,
    "start_time": "2022-04-05T22:59:36.788Z"
   },
   {
    "duration": 9,
    "start_time": "2022-04-05T22:59:36.809Z"
   },
   {
    "duration": 18,
    "start_time": "2022-04-05T22:59:36.820Z"
   },
   {
    "duration": 44,
    "start_time": "2022-04-05T22:59:36.841Z"
   },
   {
    "duration": 31,
    "start_time": "2022-04-05T22:59:36.888Z"
   },
   {
    "duration": 9,
    "start_time": "2022-04-05T22:59:36.921Z"
   },
   {
    "duration": 21,
    "start_time": "2022-04-05T22:59:36.932Z"
   },
   {
    "duration": 19,
    "start_time": "2022-04-05T22:59:36.956Z"
   },
   {
    "duration": 18,
    "start_time": "2022-04-05T22:59:36.977Z"
   },
   {
    "duration": 50,
    "start_time": "2022-04-05T22:59:36.997Z"
   },
   {
    "duration": 27,
    "start_time": "2022-04-05T22:59:37.049Z"
   },
   {
    "duration": 33,
    "start_time": "2022-04-05T22:59:37.078Z"
   },
   {
    "duration": 27,
    "start_time": "2022-04-05T22:59:37.113Z"
   },
   {
    "duration": 37,
    "start_time": "2022-04-05T22:59:37.142Z"
   },
   {
    "duration": 13,
    "start_time": "2022-04-05T22:59:37.181Z"
   },
   {
    "duration": 56,
    "start_time": "2022-04-05T22:59:37.197Z"
   },
   {
    "duration": 13,
    "start_time": "2022-04-05T22:59:37.255Z"
   },
   {
    "duration": 17,
    "start_time": "2022-04-05T22:59:37.270Z"
   },
   {
    "duration": 13,
    "start_time": "2022-04-05T22:59:37.289Z"
   },
   {
    "duration": 28,
    "start_time": "2022-04-05T22:59:37.304Z"
   },
   {
    "duration": 12,
    "start_time": "2022-04-05T22:59:37.335Z"
   },
   {
    "duration": 78,
    "start_time": "2022-04-05T22:59:37.350Z"
   },
   {
    "duration": 12,
    "start_time": "2022-04-05T22:59:37.430Z"
   },
   {
    "duration": 15,
    "start_time": "2022-04-05T22:59:37.445Z"
   },
   {
    "duration": 36,
    "start_time": "2022-04-05T22:59:37.462Z"
   },
   {
    "duration": 38,
    "start_time": "2022-04-05T22:59:37.501Z"
   },
   {
    "duration": 27,
    "start_time": "2022-04-05T22:59:37.542Z"
   },
   {
    "duration": 63,
    "start_time": "2022-04-05T22:59:37.572Z"
   },
   {
    "duration": 12,
    "start_time": "2022-04-05T22:59:37.637Z"
   },
   {
    "duration": 15,
    "start_time": "2022-04-05T22:59:37.651Z"
   },
   {
    "duration": 32,
    "start_time": "2022-04-05T22:59:37.669Z"
   },
   {
    "duration": 25,
    "start_time": "2022-04-05T22:59:37.704Z"
   },
   {
    "duration": 12,
    "start_time": "2022-04-05T22:59:37.731Z"
   },
   {
    "duration": 13,
    "start_time": "2022-04-05T22:59:37.745Z"
   },
   {
    "duration": 21,
    "start_time": "2022-04-05T22:59:37.760Z"
   },
   {
    "duration": 19,
    "start_time": "2022-04-05T22:59:37.783Z"
   },
   {
    "duration": 21,
    "start_time": "2022-04-05T22:59:37.805Z"
   },
   {
    "duration": 18,
    "start_time": "2022-04-05T22:59:37.828Z"
   },
   {
    "duration": 27,
    "start_time": "2022-04-05T22:59:37.848Z"
   },
   {
    "duration": 9,
    "start_time": "2022-04-05T22:59:37.877Z"
   },
   {
    "duration": 24,
    "start_time": "2022-04-05T22:59:37.888Z"
   },
   {
    "duration": 22,
    "start_time": "2022-04-05T22:59:37.914Z"
   },
   {
    "duration": 28,
    "start_time": "2022-04-05T22:59:37.938Z"
   },
   {
    "duration": 28,
    "start_time": "2022-04-05T22:59:37.968Z"
   },
   {
    "duration": 28,
    "start_time": "2022-04-05T22:59:37.999Z"
   },
   {
    "duration": 30,
    "start_time": "2022-04-05T22:59:38.029Z"
   },
   {
    "duration": 26,
    "start_time": "2022-04-05T22:59:38.062Z"
   },
   {
    "duration": 14,
    "start_time": "2022-04-05T22:59:38.090Z"
   },
   {
    "duration": 25,
    "start_time": "2022-04-05T22:59:38.106Z"
   },
   {
    "duration": 22,
    "start_time": "2022-04-05T22:59:38.133Z"
   },
   {
    "duration": 23,
    "start_time": "2022-04-05T22:59:38.157Z"
   },
   {
    "duration": 23,
    "start_time": "2022-04-05T22:59:38.183Z"
   },
   {
    "duration": 18,
    "start_time": "2022-04-05T22:59:38.214Z"
   },
   {
    "duration": 162,
    "start_time": "2022-04-05T22:59:38.235Z"
   },
   {
    "duration": 0,
    "start_time": "2022-04-05T22:59:38.399Z"
   },
   {
    "duration": 0,
    "start_time": "2022-04-05T22:59:38.401Z"
   },
   {
    "duration": 0,
    "start_time": "2022-04-05T22:59:38.402Z"
   },
   {
    "duration": 0,
    "start_time": "2022-04-05T22:59:38.403Z"
   },
   {
    "duration": 0,
    "start_time": "2022-04-05T22:59:38.404Z"
   },
   {
    "duration": 0,
    "start_time": "2022-04-05T22:59:38.406Z"
   },
   {
    "duration": 0,
    "start_time": "2022-04-05T22:59:38.407Z"
   },
   {
    "duration": 0,
    "start_time": "2022-04-05T22:59:38.409Z"
   },
   {
    "duration": 0,
    "start_time": "2022-04-05T22:59:38.410Z"
   },
   {
    "duration": 0,
    "start_time": "2022-04-05T22:59:38.412Z"
   },
   {
    "duration": 0,
    "start_time": "2022-04-05T22:59:38.413Z"
   },
   {
    "duration": 0,
    "start_time": "2022-04-05T22:59:38.415Z"
   },
   {
    "duration": 0,
    "start_time": "2022-04-05T22:59:38.416Z"
   },
   {
    "duration": 0,
    "start_time": "2022-04-05T22:59:38.417Z"
   },
   {
    "duration": 0,
    "start_time": "2022-04-05T22:59:38.419Z"
   },
   {
    "duration": 0,
    "start_time": "2022-04-05T22:59:38.420Z"
   },
   {
    "duration": 0,
    "start_time": "2022-04-05T22:59:38.421Z"
   },
   {
    "duration": 0,
    "start_time": "2022-04-05T22:59:38.423Z"
   },
   {
    "duration": 0,
    "start_time": "2022-04-05T22:59:38.424Z"
   },
   {
    "duration": 6,
    "start_time": "2022-04-05T23:01:13.779Z"
   },
   {
    "duration": 5,
    "start_time": "2022-04-05T23:01:14.450Z"
   },
   {
    "duration": 10,
    "start_time": "2022-04-05T23:01:16.234Z"
   },
   {
    "duration": 1650,
    "start_time": "2022-04-05T23:01:26.609Z"
   },
   {
    "duration": 4,
    "start_time": "2022-04-05T23:01:28.262Z"
   },
   {
    "duration": 578,
    "start_time": "2022-04-05T23:01:28.268Z"
   },
   {
    "duration": 51,
    "start_time": "2022-04-05T23:01:28.849Z"
   },
   {
    "duration": 22,
    "start_time": "2022-04-05T23:01:28.903Z"
   },
   {
    "duration": 6,
    "start_time": "2022-04-05T23:01:28.928Z"
   },
   {
    "duration": 72,
    "start_time": "2022-04-05T23:01:28.937Z"
   },
   {
    "duration": 16,
    "start_time": "2022-04-05T23:01:29.012Z"
   },
   {
    "duration": 22,
    "start_time": "2022-04-05T23:01:29.030Z"
   },
   {
    "duration": 42,
    "start_time": "2022-04-05T23:01:29.056Z"
   },
   {
    "duration": 11,
    "start_time": "2022-04-05T23:01:29.101Z"
   },
   {
    "duration": 7,
    "start_time": "2022-04-05T23:01:29.115Z"
   },
   {
    "duration": 21,
    "start_time": "2022-04-05T23:01:29.124Z"
   },
   {
    "duration": 48,
    "start_time": "2022-04-05T23:01:29.147Z"
   },
   {
    "duration": 10,
    "start_time": "2022-04-05T23:01:29.197Z"
   },
   {
    "duration": 16,
    "start_time": "2022-04-05T23:01:29.210Z"
   },
   {
    "duration": 19,
    "start_time": "2022-04-05T23:01:29.229Z"
   },
   {
    "duration": 36,
    "start_time": "2022-04-05T23:01:29.250Z"
   },
   {
    "duration": 32,
    "start_time": "2022-04-05T23:01:29.288Z"
   },
   {
    "duration": 70,
    "start_time": "2022-04-05T23:01:29.322Z"
   },
   {
    "duration": 7,
    "start_time": "2022-04-05T23:01:29.395Z"
   },
   {
    "duration": 46,
    "start_time": "2022-04-05T23:01:29.404Z"
   },
   {
    "duration": 38,
    "start_time": "2022-04-05T23:01:29.453Z"
   },
   {
    "duration": 34,
    "start_time": "2022-04-05T23:01:29.494Z"
   },
   {
    "duration": 7,
    "start_time": "2022-04-05T23:01:29.531Z"
   },
   {
    "duration": 67,
    "start_time": "2022-04-05T23:01:29.541Z"
   },
   {
    "duration": 22,
    "start_time": "2022-04-05T23:01:29.611Z"
   },
   {
    "duration": 53,
    "start_time": "2022-04-05T23:01:29.642Z"
   },
   {
    "duration": 8,
    "start_time": "2022-04-05T23:01:29.697Z"
   },
   {
    "duration": 19,
    "start_time": "2022-04-05T23:01:29.707Z"
   },
   {
    "duration": 9,
    "start_time": "2022-04-05T23:01:29.728Z"
   },
   {
    "duration": 50,
    "start_time": "2022-04-05T23:01:29.739Z"
   },
   {
    "duration": 17,
    "start_time": "2022-04-05T23:01:29.791Z"
   },
   {
    "duration": 31,
    "start_time": "2022-04-05T23:01:29.810Z"
   },
   {
    "duration": 4,
    "start_time": "2022-04-05T23:01:29.844Z"
   },
   {
    "duration": 11,
    "start_time": "2022-04-05T23:01:29.851Z"
   },
   {
    "duration": 23,
    "start_time": "2022-04-05T23:01:29.864Z"
   },
   {
    "duration": 15,
    "start_time": "2022-04-05T23:01:29.890Z"
   },
   {
    "duration": 23,
    "start_time": "2022-04-05T23:01:29.907Z"
   },
   {
    "duration": 14,
    "start_time": "2022-04-05T23:01:29.932Z"
   },
   {
    "duration": 38,
    "start_time": "2022-04-05T23:01:29.949Z"
   },
   {
    "duration": 14,
    "start_time": "2022-04-05T23:01:29.990Z"
   },
   {
    "duration": 51,
    "start_time": "2022-04-05T23:01:30.007Z"
   },
   {
    "duration": 29,
    "start_time": "2022-04-05T23:01:30.061Z"
   },
   {
    "duration": 58,
    "start_time": "2022-04-05T23:01:30.093Z"
   },
   {
    "duration": 29,
    "start_time": "2022-04-05T23:01:30.154Z"
   },
   {
    "duration": 5,
    "start_time": "2022-04-05T23:01:30.187Z"
   },
   {
    "duration": 18,
    "start_time": "2022-04-05T23:01:30.194Z"
   },
   {
    "duration": 32,
    "start_time": "2022-04-05T23:01:30.215Z"
   },
   {
    "duration": 37,
    "start_time": "2022-04-05T23:01:30.249Z"
   },
   {
    "duration": 62,
    "start_time": "2022-04-05T23:01:30.288Z"
   },
   {
    "duration": 12,
    "start_time": "2022-04-05T23:01:30.352Z"
   },
   {
    "duration": 23,
    "start_time": "2022-04-05T23:01:30.366Z"
   },
   {
    "duration": 17,
    "start_time": "2022-04-05T23:01:30.391Z"
   },
   {
    "duration": 33,
    "start_time": "2022-04-05T23:01:30.410Z"
   },
   {
    "duration": 12,
    "start_time": "2022-04-05T23:01:30.445Z"
   },
   {
    "duration": 50,
    "start_time": "2022-04-05T23:01:30.459Z"
   },
   {
    "duration": 12,
    "start_time": "2022-04-05T23:01:30.511Z"
   },
   {
    "duration": 16,
    "start_time": "2022-04-05T23:01:30.525Z"
   },
   {
    "duration": 19,
    "start_time": "2022-04-05T23:01:30.543Z"
   },
   {
    "duration": 27,
    "start_time": "2022-04-05T23:01:30.565Z"
   },
   {
    "duration": 16,
    "start_time": "2022-04-05T23:01:30.595Z"
   },
   {
    "duration": 15,
    "start_time": "2022-04-05T23:01:30.613Z"
   },
   {
    "duration": 20,
    "start_time": "2022-04-05T23:01:30.631Z"
   },
   {
    "duration": 12,
    "start_time": "2022-04-05T23:01:30.653Z"
   },
   {
    "duration": 31,
    "start_time": "2022-04-05T23:01:30.667Z"
   },
   {
    "duration": 29,
    "start_time": "2022-04-05T23:01:30.700Z"
   },
   {
    "duration": 22,
    "start_time": "2022-04-05T23:01:30.731Z"
   },
   {
    "duration": 12,
    "start_time": "2022-04-05T23:01:30.755Z"
   },
   {
    "duration": 20,
    "start_time": "2022-04-05T23:01:30.770Z"
   },
   {
    "duration": 20,
    "start_time": "2022-04-05T23:01:30.792Z"
   },
   {
    "duration": 14,
    "start_time": "2022-04-05T23:01:30.815Z"
   },
   {
    "duration": 19,
    "start_time": "2022-04-05T23:01:30.832Z"
   },
   {
    "duration": 32,
    "start_time": "2022-04-05T23:01:30.853Z"
   },
   {
    "duration": 43,
    "start_time": "2022-04-05T23:01:30.888Z"
   },
   {
    "duration": 25,
    "start_time": "2022-04-05T23:01:30.934Z"
   },
   {
    "duration": 26,
    "start_time": "2022-04-05T23:01:30.961Z"
   },
   {
    "duration": 15,
    "start_time": "2022-04-05T23:01:30.989Z"
   },
   {
    "duration": 10,
    "start_time": "2022-04-05T23:01:31.007Z"
   },
   {
    "duration": 13,
    "start_time": "2022-04-05T23:01:31.019Z"
   },
   {
    "duration": 12,
    "start_time": "2022-04-05T23:01:31.034Z"
   },
   {
    "duration": 47,
    "start_time": "2022-04-05T23:01:31.054Z"
   },
   {
    "duration": 179,
    "start_time": "2022-04-05T23:01:31.104Z"
   },
   {
    "duration": 21,
    "start_time": "2022-04-05T23:01:31.286Z"
   },
   {
    "duration": 12,
    "start_time": "2022-04-05T23:01:31.310Z"
   },
   {
    "duration": 32,
    "start_time": "2022-04-05T23:01:31.325Z"
   },
   {
    "duration": 25,
    "start_time": "2022-04-05T23:01:31.360Z"
   },
   {
    "duration": 31,
    "start_time": "2022-04-05T23:01:31.387Z"
   },
   {
    "duration": 30,
    "start_time": "2022-04-05T23:01:31.421Z"
   },
   {
    "duration": 37,
    "start_time": "2022-04-05T23:01:31.453Z"
   },
   {
    "duration": 10,
    "start_time": "2022-04-05T23:01:31.493Z"
   },
   {
    "duration": 10,
    "start_time": "2022-04-05T23:01:31.506Z"
   },
   {
    "duration": 504,
    "start_time": "2022-04-05T23:01:31.518Z"
   },
   {
    "duration": 314,
    "start_time": "2022-04-05T23:01:32.024Z"
   },
   {
    "duration": 314,
    "start_time": "2022-04-05T23:01:32.341Z"
   },
   {
    "duration": 29,
    "start_time": "2022-04-05T23:01:32.657Z"
   },
   {
    "duration": 12,
    "start_time": "2022-04-05T23:01:32.689Z"
   },
   {
    "duration": 11,
    "start_time": "2022-04-05T23:01:32.704Z"
   },
   {
    "duration": 22,
    "start_time": "2022-04-05T23:01:32.717Z"
   },
   {
    "duration": 42,
    "start_time": "2022-04-05T23:01:32.742Z"
   },
   {
    "duration": 20,
    "start_time": "2022-04-05T23:01:32.787Z"
   },
   {
    "duration": 20,
    "start_time": "2022-04-05T23:01:32.809Z"
   },
   {
    "duration": 171,
    "start_time": "2022-04-05T23:03:17.610Z"
   },
   {
    "duration": 18,
    "start_time": "2022-04-05T23:03:22.242Z"
   },
   {
    "duration": 174,
    "start_time": "2022-04-05T23:05:03.137Z"
   },
   {
    "duration": 21,
    "start_time": "2022-04-05T23:05:06.417Z"
   },
   {
    "duration": 1485,
    "start_time": "2022-04-05T23:05:48.572Z"
   },
   {
    "duration": 4,
    "start_time": "2022-04-05T23:05:50.060Z"
   },
   {
    "duration": 551,
    "start_time": "2022-04-05T23:05:50.066Z"
   },
   {
    "duration": 35,
    "start_time": "2022-04-05T23:05:50.620Z"
   },
   {
    "duration": 17,
    "start_time": "2022-04-05T23:05:50.657Z"
   },
   {
    "duration": 11,
    "start_time": "2022-04-05T23:05:50.676Z"
   },
   {
    "duration": 34,
    "start_time": "2022-04-05T23:05:50.690Z"
   },
   {
    "duration": 12,
    "start_time": "2022-04-05T23:05:50.726Z"
   },
   {
    "duration": 12,
    "start_time": "2022-04-05T23:05:50.740Z"
   },
   {
    "duration": 27,
    "start_time": "2022-04-05T23:05:50.785Z"
   },
   {
    "duration": 13,
    "start_time": "2022-04-05T23:05:50.814Z"
   },
   {
    "duration": 39,
    "start_time": "2022-04-05T23:05:50.829Z"
   },
   {
    "duration": 35,
    "start_time": "2022-04-05T23:05:50.870Z"
   },
   {
    "duration": 20,
    "start_time": "2022-04-05T23:05:50.907Z"
   },
   {
    "duration": 13,
    "start_time": "2022-04-05T23:05:50.929Z"
   },
   {
    "duration": 21,
    "start_time": "2022-04-05T23:05:50.944Z"
   },
   {
    "duration": 66,
    "start_time": "2022-04-05T23:05:50.968Z"
   },
   {
    "duration": 20,
    "start_time": "2022-04-05T23:05:51.037Z"
   },
   {
    "duration": 39,
    "start_time": "2022-04-05T23:05:51.060Z"
   },
   {
    "duration": 50,
    "start_time": "2022-04-05T23:05:51.102Z"
   },
   {
    "duration": 7,
    "start_time": "2022-04-05T23:05:51.154Z"
   },
   {
    "duration": 38,
    "start_time": "2022-04-05T23:05:51.184Z"
   },
   {
    "duration": 24,
    "start_time": "2022-04-05T23:05:51.225Z"
   },
   {
    "duration": 65,
    "start_time": "2022-04-05T23:05:51.251Z"
   },
   {
    "duration": 15,
    "start_time": "2022-04-05T23:05:51.318Z"
   },
   {
    "duration": 50,
    "start_time": "2022-04-05T23:05:51.336Z"
   },
   {
    "duration": 20,
    "start_time": "2022-04-05T23:05:51.388Z"
   },
   {
    "duration": 28,
    "start_time": "2022-04-05T23:05:51.415Z"
   },
   {
    "duration": 6,
    "start_time": "2022-04-05T23:05:51.446Z"
   },
   {
    "duration": 43,
    "start_time": "2022-04-05T23:05:51.454Z"
   },
   {
    "duration": 9,
    "start_time": "2022-04-05T23:05:51.499Z"
   },
   {
    "duration": 23,
    "start_time": "2022-04-05T23:05:51.510Z"
   },
   {
    "duration": 18,
    "start_time": "2022-04-05T23:05:51.536Z"
   },
   {
    "duration": 46,
    "start_time": "2022-04-05T23:05:51.557Z"
   },
   {
    "duration": 14,
    "start_time": "2022-04-05T23:05:51.605Z"
   },
   {
    "duration": 23,
    "start_time": "2022-04-05T23:05:51.622Z"
   },
   {
    "duration": 26,
    "start_time": "2022-04-05T23:05:51.648Z"
   },
   {
    "duration": 35,
    "start_time": "2022-04-05T23:05:51.676Z"
   },
   {
    "duration": 30,
    "start_time": "2022-04-05T23:05:51.714Z"
   },
   {
    "duration": 24,
    "start_time": "2022-04-05T23:05:51.747Z"
   },
   {
    "duration": 30,
    "start_time": "2022-04-05T23:05:51.774Z"
   },
   {
    "duration": 26,
    "start_time": "2022-04-05T23:05:51.807Z"
   },
   {
    "duration": 43,
    "start_time": "2022-04-05T23:05:51.836Z"
   },
   {
    "duration": 14,
    "start_time": "2022-04-05T23:05:51.882Z"
   },
   {
    "duration": 47,
    "start_time": "2022-04-05T23:05:51.898Z"
   },
   {
    "duration": 12,
    "start_time": "2022-04-05T23:05:51.948Z"
   },
   {
    "duration": 40,
    "start_time": "2022-04-05T23:05:51.963Z"
   },
   {
    "duration": 35,
    "start_time": "2022-04-05T23:05:52.005Z"
   },
   {
    "duration": 39,
    "start_time": "2022-04-05T23:05:52.043Z"
   },
   {
    "duration": 13,
    "start_time": "2022-04-05T23:05:52.085Z"
   },
   {
    "duration": 62,
    "start_time": "2022-04-05T23:05:52.101Z"
   },
   {
    "duration": 28,
    "start_time": "2022-04-05T23:05:52.165Z"
   },
   {
    "duration": 27,
    "start_time": "2022-04-05T23:05:52.196Z"
   },
   {
    "duration": 21,
    "start_time": "2022-04-05T23:05:52.226Z"
   },
   {
    "duration": 43,
    "start_time": "2022-04-05T23:05:52.249Z"
   },
   {
    "duration": 12,
    "start_time": "2022-04-05T23:05:52.294Z"
   },
   {
    "duration": 38,
    "start_time": "2022-04-05T23:05:52.308Z"
   },
   {
    "duration": 12,
    "start_time": "2022-04-05T23:05:52.348Z"
   },
   {
    "duration": 35,
    "start_time": "2022-04-05T23:05:52.362Z"
   },
   {
    "duration": 25,
    "start_time": "2022-04-05T23:05:52.399Z"
   },
   {
    "duration": 41,
    "start_time": "2022-04-05T23:05:52.426Z"
   },
   {
    "duration": 36,
    "start_time": "2022-04-05T23:05:52.469Z"
   },
   {
    "duration": 22,
    "start_time": "2022-04-05T23:05:52.507Z"
   },
   {
    "duration": 24,
    "start_time": "2022-04-05T23:05:52.531Z"
   },
   {
    "duration": 21,
    "start_time": "2022-04-05T23:05:52.557Z"
   },
   {
    "duration": 22,
    "start_time": "2022-04-05T23:05:52.580Z"
   },
   {
    "duration": 34,
    "start_time": "2022-04-05T23:05:52.605Z"
   },
   {
    "duration": 25,
    "start_time": "2022-04-05T23:05:52.641Z"
   },
   {
    "duration": 28,
    "start_time": "2022-04-05T23:05:52.668Z"
   },
   {
    "duration": 21,
    "start_time": "2022-04-05T23:05:52.698Z"
   },
   {
    "duration": 31,
    "start_time": "2022-04-05T23:05:52.721Z"
   },
   {
    "duration": 20,
    "start_time": "2022-04-05T23:05:52.754Z"
   },
   {
    "duration": 19,
    "start_time": "2022-04-05T23:05:52.776Z"
   },
   {
    "duration": 31,
    "start_time": "2022-04-05T23:05:52.797Z"
   },
   {
    "duration": 26,
    "start_time": "2022-04-05T23:05:52.831Z"
   },
   {
    "duration": 19,
    "start_time": "2022-04-05T23:05:52.859Z"
   },
   {
    "duration": 31,
    "start_time": "2022-04-05T23:05:52.880Z"
   },
   {
    "duration": 25,
    "start_time": "2022-04-05T23:05:52.913Z"
   },
   {
    "duration": 31,
    "start_time": "2022-04-05T23:05:52.941Z"
   },
   {
    "duration": 8,
    "start_time": "2022-04-05T23:05:52.974Z"
   },
   {
    "duration": 28,
    "start_time": "2022-04-05T23:05:52.984Z"
   },
   {
    "duration": 27,
    "start_time": "2022-04-05T23:05:53.020Z"
   },
   {
    "duration": 178,
    "start_time": "2022-04-05T23:05:53.049Z"
   },
   {
    "duration": 18,
    "start_time": "2022-04-05T23:05:53.230Z"
   },
   {
    "duration": 13,
    "start_time": "2022-04-05T23:05:53.251Z"
   },
   {
    "duration": 43,
    "start_time": "2022-04-05T23:05:53.266Z"
   },
   {
    "duration": 27,
    "start_time": "2022-04-05T23:05:53.311Z"
   },
   {
    "duration": 26,
    "start_time": "2022-04-05T23:05:53.340Z"
   },
   {
    "duration": 31,
    "start_time": "2022-04-05T23:05:53.369Z"
   },
   {
    "duration": 25,
    "start_time": "2022-04-05T23:05:53.402Z"
   },
   {
    "duration": 9,
    "start_time": "2022-04-05T23:05:53.429Z"
   },
   {
    "duration": 34,
    "start_time": "2022-04-05T23:05:53.441Z"
   },
   {
    "duration": 349,
    "start_time": "2022-04-05T23:05:53.478Z"
   },
   {
    "duration": 306,
    "start_time": "2022-04-05T23:05:53.829Z"
   },
   {
    "duration": 417,
    "start_time": "2022-04-05T23:05:54.137Z"
   },
   {
    "duration": 32,
    "start_time": "2022-04-05T23:05:54.556Z"
   },
   {
    "duration": 21,
    "start_time": "2022-04-05T23:05:54.591Z"
   },
   {
    "duration": 26,
    "start_time": "2022-04-05T23:05:54.614Z"
   },
   {
    "duration": 30,
    "start_time": "2022-04-05T23:05:54.642Z"
   },
   {
    "duration": 10,
    "start_time": "2022-04-05T23:05:54.674Z"
   },
   {
    "duration": 23,
    "start_time": "2022-04-05T23:05:54.686Z"
   },
   {
    "duration": 22,
    "start_time": "2022-04-05T23:05:54.711Z"
   },
   {
    "duration": 4,
    "start_time": "2022-04-05T23:09:30.967Z"
   },
   {
    "duration": 3,
    "start_time": "2022-04-05T23:09:31.439Z"
   },
   {
    "duration": 4,
    "start_time": "2022-04-05T23:09:32.495Z"
   },
   {
    "duration": 160,
    "start_time": "2022-04-05T23:09:35.072Z"
   },
   {
    "duration": 28,
    "start_time": "2022-04-05T23:09:51.128Z"
   },
   {
    "duration": 1444,
    "start_time": "2022-04-05T23:09:59.414Z"
   },
   {
    "duration": 4,
    "start_time": "2022-04-05T23:10:00.861Z"
   },
   {
    "duration": 555,
    "start_time": "2022-04-05T23:10:00.867Z"
   },
   {
    "duration": 35,
    "start_time": "2022-04-05T23:10:01.425Z"
   },
   {
    "duration": 23,
    "start_time": "2022-04-05T23:10:01.463Z"
   },
   {
    "duration": 16,
    "start_time": "2022-04-05T23:10:01.489Z"
   },
   {
    "duration": 41,
    "start_time": "2022-04-05T23:10:01.507Z"
   },
   {
    "duration": 12,
    "start_time": "2022-04-05T23:10:01.551Z"
   },
   {
    "duration": 26,
    "start_time": "2022-04-05T23:10:01.566Z"
   },
   {
    "duration": 36,
    "start_time": "2022-04-05T23:10:01.596Z"
   },
   {
    "duration": 17,
    "start_time": "2022-04-05T23:10:01.635Z"
   },
   {
    "duration": 15,
    "start_time": "2022-04-05T23:10:01.654Z"
   },
   {
    "duration": 46,
    "start_time": "2022-04-05T23:10:01.671Z"
   },
   {
    "duration": 30,
    "start_time": "2022-04-05T23:10:01.720Z"
   },
   {
    "duration": 21,
    "start_time": "2022-04-05T23:10:01.752Z"
   },
   {
    "duration": 36,
    "start_time": "2022-04-05T23:10:01.776Z"
   },
   {
    "duration": 31,
    "start_time": "2022-04-05T23:10:01.815Z"
   },
   {
    "duration": 28,
    "start_time": "2022-04-05T23:10:01.849Z"
   },
   {
    "duration": 40,
    "start_time": "2022-04-05T23:10:01.880Z"
   },
   {
    "duration": 51,
    "start_time": "2022-04-05T23:10:01.923Z"
   },
   {
    "duration": 10,
    "start_time": "2022-04-05T23:10:01.977Z"
   },
   {
    "duration": 55,
    "start_time": "2022-04-05T23:10:01.990Z"
   },
   {
    "duration": 38,
    "start_time": "2022-04-05T23:10:02.048Z"
   },
   {
    "duration": 40,
    "start_time": "2022-04-05T23:10:02.088Z"
   },
   {
    "duration": 9,
    "start_time": "2022-04-05T23:10:02.130Z"
   },
   {
    "duration": 68,
    "start_time": "2022-04-05T23:10:02.141Z"
   },
   {
    "duration": 21,
    "start_time": "2022-04-05T23:10:02.212Z"
   },
   {
    "duration": 69,
    "start_time": "2022-04-05T23:10:02.242Z"
   },
   {
    "duration": 42,
    "start_time": "2022-04-05T23:10:02.314Z"
   },
   {
    "duration": 86,
    "start_time": "2022-04-05T23:10:02.359Z"
   },
   {
    "duration": 75,
    "start_time": "2022-04-05T23:10:02.448Z"
   },
   {
    "duration": 69,
    "start_time": "2022-04-05T23:10:02.526Z"
   },
   {
    "duration": 105,
    "start_time": "2022-04-05T23:10:02.598Z"
   },
   {
    "duration": 40,
    "start_time": "2022-04-05T23:10:02.705Z"
   },
   {
    "duration": 36,
    "start_time": "2022-04-05T23:10:02.748Z"
   },
   {
    "duration": 61,
    "start_time": "2022-04-05T23:10:02.786Z"
   },
   {
    "duration": 77,
    "start_time": "2022-04-05T23:10:02.849Z"
   },
   {
    "duration": 63,
    "start_time": "2022-04-05T23:10:02.928Z"
   },
   {
    "duration": 80,
    "start_time": "2022-04-05T23:10:02.994Z"
   },
   {
    "duration": 81,
    "start_time": "2022-04-05T23:10:03.076Z"
   },
   {
    "duration": 63,
    "start_time": "2022-04-05T23:10:03.159Z"
   },
   {
    "duration": 37,
    "start_time": "2022-04-05T23:10:03.224Z"
   },
   {
    "duration": 54,
    "start_time": "2022-04-05T23:10:03.263Z"
   },
   {
    "duration": 13,
    "start_time": "2022-04-05T23:10:03.320Z"
   },
   {
    "duration": 64,
    "start_time": "2022-04-05T23:10:03.335Z"
   },
   {
    "duration": 11,
    "start_time": "2022-04-05T23:10:03.401Z"
   },
   {
    "duration": 20,
    "start_time": "2022-04-05T23:10:03.414Z"
   },
   {
    "duration": 34,
    "start_time": "2022-04-05T23:10:03.436Z"
   },
   {
    "duration": 88,
    "start_time": "2022-04-05T23:10:03.472Z"
   },
   {
    "duration": 13,
    "start_time": "2022-04-05T23:10:03.563Z"
   },
   {
    "duration": 65,
    "start_time": "2022-04-05T23:10:03.578Z"
   },
   {
    "duration": 13,
    "start_time": "2022-04-05T23:10:03.645Z"
   },
   {
    "duration": 16,
    "start_time": "2022-04-05T23:10:03.660Z"
   },
   {
    "duration": 67,
    "start_time": "2022-04-05T23:10:03.679Z"
   },
   {
    "duration": 40,
    "start_time": "2022-04-05T23:10:03.748Z"
   },
   {
    "duration": 53,
    "start_time": "2022-04-05T23:10:03.790Z"
   },
   {
    "duration": 56,
    "start_time": "2022-04-05T23:10:03.845Z"
   },
   {
    "duration": 12,
    "start_time": "2022-04-05T23:10:03.903Z"
   },
   {
    "duration": 5,
    "start_time": "2022-04-05T23:10:03.917Z"
   },
   {
    "duration": 19,
    "start_time": "2022-04-05T23:10:03.924Z"
   },
   {
    "duration": 17,
    "start_time": "2022-04-05T23:10:03.946Z"
   },
   {
    "duration": 6,
    "start_time": "2022-04-05T23:10:03.984Z"
   },
   {
    "duration": 15,
    "start_time": "2022-04-05T23:10:03.992Z"
   },
   {
    "duration": 16,
    "start_time": "2022-04-05T23:10:04.010Z"
   },
   {
    "duration": 9,
    "start_time": "2022-04-05T23:10:04.028Z"
   },
   {
    "duration": 45,
    "start_time": "2022-04-05T23:10:04.039Z"
   },
   {
    "duration": 7,
    "start_time": "2022-04-05T23:10:04.086Z"
   },
   {
    "duration": 15,
    "start_time": "2022-04-05T23:10:04.096Z"
   },
   {
    "duration": 13,
    "start_time": "2022-04-05T23:10:04.114Z"
   },
   {
    "duration": 22,
    "start_time": "2022-04-05T23:10:04.129Z"
   },
   {
    "duration": 39,
    "start_time": "2022-04-05T23:10:04.154Z"
   },
   {
    "duration": 17,
    "start_time": "2022-04-05T23:10:04.196Z"
   },
   {
    "duration": 11,
    "start_time": "2022-04-05T23:10:04.215Z"
   },
   {
    "duration": 19,
    "start_time": "2022-04-05T23:10:04.229Z"
   },
   {
    "duration": 41,
    "start_time": "2022-04-05T23:10:04.250Z"
   },
   {
    "duration": 7,
    "start_time": "2022-04-05T23:10:04.293Z"
   },
   {
    "duration": 16,
    "start_time": "2022-04-05T23:10:04.303Z"
   },
   {
    "duration": 15,
    "start_time": "2022-04-05T23:10:04.321Z"
   },
   {
    "duration": 12,
    "start_time": "2022-04-05T23:10:04.339Z"
   },
   {
    "duration": 4,
    "start_time": "2022-04-05T23:10:04.385Z"
   },
   {
    "duration": 6,
    "start_time": "2022-04-05T23:10:04.392Z"
   },
   {
    "duration": 3,
    "start_time": "2022-04-05T23:10:04.408Z"
   },
   {
    "duration": 181,
    "start_time": "2022-04-05T23:10:04.414Z"
   },
   {
    "duration": 0,
    "start_time": "2022-04-05T23:10:04.597Z"
   },
   {
    "duration": 0,
    "start_time": "2022-04-05T23:10:04.599Z"
   },
   {
    "duration": 0,
    "start_time": "2022-04-05T23:10:04.601Z"
   },
   {
    "duration": 0,
    "start_time": "2022-04-05T23:10:04.603Z"
   },
   {
    "duration": 0,
    "start_time": "2022-04-05T23:10:04.605Z"
   },
   {
    "duration": 0,
    "start_time": "2022-04-05T23:10:04.607Z"
   },
   {
    "duration": 0,
    "start_time": "2022-04-05T23:10:04.609Z"
   },
   {
    "duration": 0,
    "start_time": "2022-04-05T23:10:04.611Z"
   },
   {
    "duration": 0,
    "start_time": "2022-04-05T23:10:04.613Z"
   },
   {
    "duration": 0,
    "start_time": "2022-04-05T23:10:04.616Z"
   },
   {
    "duration": 0,
    "start_time": "2022-04-05T23:10:04.618Z"
   },
   {
    "duration": 0,
    "start_time": "2022-04-05T23:10:04.620Z"
   },
   {
    "duration": 0,
    "start_time": "2022-04-05T23:10:04.622Z"
   },
   {
    "duration": 1,
    "start_time": "2022-04-05T23:10:04.624Z"
   },
   {
    "duration": 0,
    "start_time": "2022-04-05T23:10:04.627Z"
   },
   {
    "duration": 0,
    "start_time": "2022-04-05T23:10:04.629Z"
   },
   {
    "duration": 0,
    "start_time": "2022-04-05T23:10:04.684Z"
   },
   {
    "duration": 0,
    "start_time": "2022-04-05T23:10:04.686Z"
   },
   {
    "duration": 0,
    "start_time": "2022-04-05T23:10:04.688Z"
   },
   {
    "duration": 170,
    "start_time": "2022-04-05T23:11:41.861Z"
   },
   {
    "duration": 20,
    "start_time": "2022-04-05T23:11:48.452Z"
   },
   {
    "duration": 1488,
    "start_time": "2022-04-05T23:12:29.567Z"
   },
   {
    "duration": 4,
    "start_time": "2022-04-05T23:12:31.058Z"
   },
   {
    "duration": 557,
    "start_time": "2022-04-05T23:12:31.065Z"
   },
   {
    "duration": 37,
    "start_time": "2022-04-05T23:12:31.626Z"
   },
   {
    "duration": 24,
    "start_time": "2022-04-05T23:12:31.666Z"
   },
   {
    "duration": 7,
    "start_time": "2022-04-05T23:12:31.692Z"
   },
   {
    "duration": 40,
    "start_time": "2022-04-05T23:12:31.702Z"
   },
   {
    "duration": 41,
    "start_time": "2022-04-05T23:12:31.744Z"
   },
   {
    "duration": 24,
    "start_time": "2022-04-05T23:12:31.788Z"
   },
   {
    "duration": 29,
    "start_time": "2022-04-05T23:12:31.818Z"
   },
   {
    "duration": 20,
    "start_time": "2022-04-05T23:12:31.850Z"
   },
   {
    "duration": 18,
    "start_time": "2022-04-05T23:12:31.872Z"
   },
   {
    "duration": 27,
    "start_time": "2022-04-05T23:12:31.892Z"
   },
   {
    "duration": 19,
    "start_time": "2022-04-05T23:12:31.921Z"
   },
   {
    "duration": 22,
    "start_time": "2022-04-05T23:12:31.943Z"
   },
   {
    "duration": 27,
    "start_time": "2022-04-05T23:12:31.967Z"
   },
   {
    "duration": 22,
    "start_time": "2022-04-05T23:12:31.996Z"
   },
   {
    "duration": 12,
    "start_time": "2022-04-05T23:12:32.020Z"
   },
   {
    "duration": 51,
    "start_time": "2022-04-05T23:12:32.034Z"
   },
   {
    "duration": 50,
    "start_time": "2022-04-05T23:12:32.087Z"
   },
   {
    "duration": 7,
    "start_time": "2022-04-05T23:12:32.139Z"
   },
   {
    "duration": 64,
    "start_time": "2022-04-05T23:12:32.148Z"
   },
   {
    "duration": 22,
    "start_time": "2022-04-05T23:12:32.214Z"
   },
   {
    "duration": 64,
    "start_time": "2022-04-05T23:12:32.238Z"
   },
   {
    "duration": 7,
    "start_time": "2022-04-05T23:12:32.304Z"
   },
   {
    "duration": 37,
    "start_time": "2022-04-05T23:12:32.314Z"
   },
   {
    "duration": 36,
    "start_time": "2022-04-05T23:12:32.354Z"
   },
   {
    "duration": 28,
    "start_time": "2022-04-05T23:12:32.397Z"
   },
   {
    "duration": 7,
    "start_time": "2022-04-05T23:12:32.427Z"
   },
   {
    "duration": 51,
    "start_time": "2022-04-05T23:12:32.436Z"
   },
   {
    "duration": 9,
    "start_time": "2022-04-05T23:12:32.489Z"
   },
   {
    "duration": 16,
    "start_time": "2022-04-05T23:12:32.500Z"
   },
   {
    "duration": 14,
    "start_time": "2022-04-05T23:12:32.518Z"
   },
   {
    "duration": 24,
    "start_time": "2022-04-05T23:12:32.534Z"
   },
   {
    "duration": 27,
    "start_time": "2022-04-05T23:12:32.560Z"
   },
   {
    "duration": 9,
    "start_time": "2022-04-05T23:12:32.590Z"
   },
   {
    "duration": 12,
    "start_time": "2022-04-05T23:12:32.602Z"
   },
   {
    "duration": 18,
    "start_time": "2022-04-05T23:12:32.616Z"
   },
   {
    "duration": 29,
    "start_time": "2022-04-05T23:12:32.636Z"
   },
   {
    "duration": 23,
    "start_time": "2022-04-05T23:12:32.668Z"
   },
   {
    "duration": 26,
    "start_time": "2022-04-05T23:12:32.693Z"
   },
   {
    "duration": 35,
    "start_time": "2022-04-05T23:12:32.721Z"
   },
   {
    "duration": 55,
    "start_time": "2022-04-05T23:12:32.758Z"
   },
   {
    "duration": 14,
    "start_time": "2022-04-05T23:12:32.815Z"
   },
   {
    "duration": 65,
    "start_time": "2022-04-05T23:12:32.831Z"
   },
   {
    "duration": 12,
    "start_time": "2022-04-05T23:12:32.898Z"
   },
   {
    "duration": 27,
    "start_time": "2022-04-05T23:12:32.912Z"
   },
   {
    "duration": 16,
    "start_time": "2022-04-05T23:12:32.941Z"
   },
   {
    "duration": 40,
    "start_time": "2022-04-05T23:12:32.959Z"
   },
   {
    "duration": 13,
    "start_time": "2022-04-05T23:12:33.002Z"
   },
   {
    "duration": 63,
    "start_time": "2022-04-05T23:12:33.017Z"
   },
   {
    "duration": 12,
    "start_time": "2022-04-05T23:12:33.081Z"
   },
   {
    "duration": 37,
    "start_time": "2022-04-05T23:12:33.095Z"
   },
   {
    "duration": 20,
    "start_time": "2022-04-05T23:12:33.135Z"
   },
   {
    "duration": 31,
    "start_time": "2022-04-05T23:12:33.157Z"
   },
   {
    "duration": 12,
    "start_time": "2022-04-05T23:12:33.190Z"
   },
   {
    "duration": 43,
    "start_time": "2022-04-05T23:12:33.204Z"
   },
   {
    "duration": 12,
    "start_time": "2022-04-05T23:12:33.249Z"
   },
   {
    "duration": 26,
    "start_time": "2022-04-05T23:12:33.263Z"
   },
   {
    "duration": 17,
    "start_time": "2022-04-05T23:12:33.291Z"
   },
   {
    "duration": 31,
    "start_time": "2022-04-05T23:12:33.311Z"
   },
   {
    "duration": 27,
    "start_time": "2022-04-05T23:12:33.345Z"
   },
   {
    "duration": 12,
    "start_time": "2022-04-05T23:12:33.376Z"
   },
   {
    "duration": 14,
    "start_time": "2022-04-05T23:12:33.390Z"
   },
   {
    "duration": 19,
    "start_time": "2022-04-05T23:12:33.407Z"
   },
   {
    "duration": 26,
    "start_time": "2022-04-05T23:12:33.428Z"
   },
   {
    "duration": 26,
    "start_time": "2022-04-05T23:12:33.457Z"
   },
   {
    "duration": 28,
    "start_time": "2022-04-05T23:12:33.486Z"
   },
   {
    "duration": 11,
    "start_time": "2022-04-05T23:12:33.518Z"
   },
   {
    "duration": 15,
    "start_time": "2022-04-05T23:12:33.531Z"
   },
   {
    "duration": 28,
    "start_time": "2022-04-05T23:12:33.548Z"
   },
   {
    "duration": 23,
    "start_time": "2022-04-05T23:12:33.579Z"
   },
   {
    "duration": 19,
    "start_time": "2022-04-05T23:12:33.605Z"
   },
   {
    "duration": 20,
    "start_time": "2022-04-05T23:12:33.626Z"
   },
   {
    "duration": 13,
    "start_time": "2022-04-05T23:12:33.648Z"
   },
   {
    "duration": 25,
    "start_time": "2022-04-05T23:12:33.663Z"
   },
   {
    "duration": 17,
    "start_time": "2022-04-05T23:12:33.690Z"
   },
   {
    "duration": 14,
    "start_time": "2022-04-05T23:12:33.710Z"
   },
   {
    "duration": 12,
    "start_time": "2022-04-05T23:12:33.727Z"
   },
   {
    "duration": 43,
    "start_time": "2022-04-05T23:12:33.742Z"
   },
   {
    "duration": 10,
    "start_time": "2022-04-05T23:12:33.788Z"
   },
   {
    "duration": 3,
    "start_time": "2022-04-05T23:12:33.808Z"
   },
   {
    "duration": 199,
    "start_time": "2022-04-05T23:12:33.814Z"
   },
   {
    "duration": 22,
    "start_time": "2022-04-05T23:12:34.015Z"
   },
   {
    "duration": 7,
    "start_time": "2022-04-05T23:12:34.040Z"
   },
   {
    "duration": 51,
    "start_time": "2022-04-05T23:12:34.049Z"
   },
   {
    "duration": 12,
    "start_time": "2022-04-05T23:12:34.102Z"
   },
   {
    "duration": 20,
    "start_time": "2022-04-05T23:12:34.116Z"
   },
   {
    "duration": 50,
    "start_time": "2022-04-05T23:12:34.138Z"
   },
   {
    "duration": 26,
    "start_time": "2022-04-05T23:12:34.191Z"
   },
   {
    "duration": 9,
    "start_time": "2022-04-05T23:12:34.220Z"
   },
   {
    "duration": 14,
    "start_time": "2022-04-05T23:12:34.232Z"
   },
   {
    "duration": 377,
    "start_time": "2022-04-05T23:12:34.248Z"
   },
   {
    "duration": 316,
    "start_time": "2022-04-05T23:12:34.627Z"
   },
   {
    "duration": 312,
    "start_time": "2022-04-05T23:12:34.945Z"
   },
   {
    "duration": 33,
    "start_time": "2022-04-05T23:12:35.259Z"
   },
   {
    "duration": 8,
    "start_time": "2022-04-05T23:12:35.294Z"
   },
   {
    "duration": 13,
    "start_time": "2022-04-05T23:12:35.304Z"
   },
   {
    "duration": 22,
    "start_time": "2022-04-05T23:12:35.319Z"
   },
   {
    "duration": 13,
    "start_time": "2022-04-05T23:12:35.343Z"
   },
   {
    "duration": 40,
    "start_time": "2022-04-05T23:12:35.358Z"
   },
   {
    "duration": 12,
    "start_time": "2022-04-05T23:12:35.400Z"
   },
   {
    "duration": 8,
    "start_time": "2022-04-05T23:15:22.024Z"
   },
   {
    "duration": 186,
    "start_time": "2022-04-05T23:15:37.058Z"
   },
   {
    "duration": 19,
    "start_time": "2022-04-05T23:15:43.762Z"
   },
   {
    "duration": 1506,
    "start_time": "2022-04-05T23:16:11.651Z"
   },
   {
    "duration": 3,
    "start_time": "2022-04-05T23:16:13.160Z"
   },
   {
    "duration": 566,
    "start_time": "2022-04-05T23:16:13.165Z"
   },
   {
    "duration": 37,
    "start_time": "2022-04-05T23:16:13.735Z"
   },
   {
    "duration": 30,
    "start_time": "2022-04-05T23:16:13.775Z"
   },
   {
    "duration": 19,
    "start_time": "2022-04-05T23:16:13.808Z"
   },
   {
    "duration": 43,
    "start_time": "2022-04-05T23:16:13.830Z"
   },
   {
    "duration": 17,
    "start_time": "2022-04-05T23:16:13.875Z"
   },
   {
    "duration": 9,
    "start_time": "2022-04-05T23:16:13.895Z"
   },
   {
    "duration": 36,
    "start_time": "2022-04-05T23:16:13.909Z"
   },
   {
    "duration": 17,
    "start_time": "2022-04-05T23:16:13.948Z"
   },
   {
    "duration": 20,
    "start_time": "2022-04-05T23:16:13.967Z"
   },
   {
    "duration": 38,
    "start_time": "2022-04-05T23:16:13.990Z"
   },
   {
    "duration": 23,
    "start_time": "2022-04-05T23:16:14.030Z"
   },
   {
    "duration": 30,
    "start_time": "2022-04-05T23:16:14.056Z"
   },
   {
    "duration": 29,
    "start_time": "2022-04-05T23:16:14.088Z"
   },
   {
    "duration": 31,
    "start_time": "2022-04-05T23:16:14.119Z"
   },
   {
    "duration": 27,
    "start_time": "2022-04-05T23:16:14.152Z"
   },
   {
    "duration": 53,
    "start_time": "2022-04-05T23:16:14.181Z"
   },
   {
    "duration": 51,
    "start_time": "2022-04-05T23:16:14.236Z"
   },
   {
    "duration": 6,
    "start_time": "2022-04-05T23:16:14.290Z"
   },
   {
    "duration": 59,
    "start_time": "2022-04-05T23:16:14.298Z"
   },
   {
    "duration": 28,
    "start_time": "2022-04-05T23:16:14.359Z"
   },
   {
    "duration": 50,
    "start_time": "2022-04-05T23:16:14.389Z"
   },
   {
    "duration": 7,
    "start_time": "2022-04-05T23:16:14.441Z"
   },
   {
    "duration": 50,
    "start_time": "2022-04-05T23:16:14.450Z"
   },
   {
    "duration": 21,
    "start_time": "2022-04-05T23:16:14.503Z"
   },
   {
    "duration": 40,
    "start_time": "2022-04-05T23:16:14.531Z"
   },
   {
    "duration": 15,
    "start_time": "2022-04-05T23:16:14.574Z"
   },
   {
    "duration": 36,
    "start_time": "2022-04-05T23:16:14.591Z"
   },
   {
    "duration": 34,
    "start_time": "2022-04-05T23:16:14.629Z"
   },
   {
    "duration": 35,
    "start_time": "2022-04-05T23:16:14.665Z"
   },
   {
    "duration": 38,
    "start_time": "2022-04-05T23:16:14.702Z"
   },
   {
    "duration": 41,
    "start_time": "2022-04-05T23:16:14.742Z"
   },
   {
    "duration": 22,
    "start_time": "2022-04-05T23:16:14.785Z"
   },
   {
    "duration": 34,
    "start_time": "2022-04-05T23:16:14.810Z"
   },
   {
    "duration": 26,
    "start_time": "2022-04-05T23:16:14.846Z"
   },
   {
    "duration": 34,
    "start_time": "2022-04-05T23:16:14.874Z"
   },
   {
    "duration": 45,
    "start_time": "2022-04-05T23:16:14.910Z"
   },
   {
    "duration": 33,
    "start_time": "2022-04-05T23:16:14.957Z"
   },
   {
    "duration": 43,
    "start_time": "2022-04-05T23:16:14.992Z"
   },
   {
    "duration": 51,
    "start_time": "2022-04-05T23:16:15.037Z"
   },
   {
    "duration": 52,
    "start_time": "2022-04-05T23:16:15.090Z"
   },
   {
    "duration": 13,
    "start_time": "2022-04-05T23:16:15.144Z"
   },
   {
    "duration": 64,
    "start_time": "2022-04-05T23:16:15.159Z"
   },
   {
    "duration": 12,
    "start_time": "2022-04-05T23:16:15.225Z"
   },
   {
    "duration": 30,
    "start_time": "2022-04-05T23:16:15.239Z"
   },
   {
    "duration": 30,
    "start_time": "2022-04-05T23:16:15.271Z"
   },
   {
    "duration": 35,
    "start_time": "2022-04-05T23:16:15.303Z"
   },
   {
    "duration": 19,
    "start_time": "2022-04-05T23:16:15.341Z"
   },
   {
    "duration": 73,
    "start_time": "2022-04-05T23:16:15.362Z"
   },
   {
    "duration": 11,
    "start_time": "2022-04-05T23:16:15.437Z"
   },
   {
    "duration": 27,
    "start_time": "2022-04-05T23:16:15.451Z"
   },
   {
    "duration": 32,
    "start_time": "2022-04-05T23:16:15.480Z"
   },
   {
    "duration": 34,
    "start_time": "2022-04-05T23:16:15.514Z"
   },
   {
    "duration": 11,
    "start_time": "2022-04-05T23:16:15.550Z"
   },
   {
    "duration": 38,
    "start_time": "2022-04-05T23:16:15.563Z"
   },
   {
    "duration": 11,
    "start_time": "2022-04-05T23:16:15.604Z"
   },
   {
    "duration": 23,
    "start_time": "2022-04-05T23:16:15.617Z"
   },
   {
    "duration": 24,
    "start_time": "2022-04-05T23:16:15.642Z"
   },
   {
    "duration": 37,
    "start_time": "2022-04-05T23:16:15.669Z"
   },
   {
    "duration": 30,
    "start_time": "2022-04-05T23:16:15.709Z"
   },
   {
    "duration": 29,
    "start_time": "2022-04-05T23:16:15.741Z"
   },
   {
    "duration": 19,
    "start_time": "2022-04-05T23:16:15.772Z"
   },
   {
    "duration": 23,
    "start_time": "2022-04-05T23:16:15.793Z"
   },
   {
    "duration": 28,
    "start_time": "2022-04-05T23:16:15.819Z"
   },
   {
    "duration": 26,
    "start_time": "2022-04-05T23:16:15.849Z"
   },
   {
    "duration": 25,
    "start_time": "2022-04-05T23:16:15.877Z"
   },
   {
    "duration": 12,
    "start_time": "2022-04-05T23:16:15.904Z"
   },
   {
    "duration": 43,
    "start_time": "2022-04-05T23:16:15.919Z"
   },
   {
    "duration": 31,
    "start_time": "2022-04-05T23:16:15.964Z"
   },
   {
    "duration": 24,
    "start_time": "2022-04-05T23:16:15.997Z"
   },
   {
    "duration": 18,
    "start_time": "2022-04-05T23:16:16.024Z"
   },
   {
    "duration": 28,
    "start_time": "2022-04-05T23:16:16.045Z"
   },
   {
    "duration": 20,
    "start_time": "2022-04-05T23:16:16.075Z"
   },
   {
    "duration": 15,
    "start_time": "2022-04-05T23:16:16.097Z"
   },
   {
    "duration": 22,
    "start_time": "2022-04-05T23:16:16.114Z"
   },
   {
    "duration": 27,
    "start_time": "2022-04-05T23:16:16.138Z"
   },
   {
    "duration": 23,
    "start_time": "2022-04-05T23:16:16.168Z"
   },
   {
    "duration": 25,
    "start_time": "2022-04-05T23:16:16.193Z"
   },
   {
    "duration": 11,
    "start_time": "2022-04-05T23:16:16.220Z"
   },
   {
    "duration": 27,
    "start_time": "2022-04-05T23:16:16.239Z"
   },
   {
    "duration": 204,
    "start_time": "2022-04-05T23:16:16.268Z"
   },
   {
    "duration": 19,
    "start_time": "2022-04-05T23:16:16.475Z"
   },
   {
    "duration": 12,
    "start_time": "2022-04-05T23:16:16.496Z"
   },
   {
    "duration": 20,
    "start_time": "2022-04-05T23:16:16.510Z"
   },
   {
    "duration": 6,
    "start_time": "2022-04-05T23:16:16.533Z"
   },
   {
    "duration": 43,
    "start_time": "2022-04-05T23:16:16.541Z"
   },
   {
    "duration": 25,
    "start_time": "2022-04-05T23:16:16.586Z"
   },
   {
    "duration": 24,
    "start_time": "2022-04-05T23:16:16.613Z"
   },
   {
    "duration": 45,
    "start_time": "2022-04-05T23:16:16.639Z"
   },
   {
    "duration": 10,
    "start_time": "2022-04-05T23:16:16.686Z"
   },
   {
    "duration": 358,
    "start_time": "2022-04-05T23:16:16.698Z"
   },
   {
    "duration": 312,
    "start_time": "2022-04-05T23:16:17.058Z"
   },
   {
    "duration": 323,
    "start_time": "2022-04-05T23:16:17.373Z"
   },
   {
    "duration": 23,
    "start_time": "2022-04-05T23:16:17.699Z"
   },
   {
    "duration": 9,
    "start_time": "2022-04-05T23:16:17.724Z"
   },
   {
    "duration": 9,
    "start_time": "2022-04-05T23:16:17.735Z"
   },
   {
    "duration": 51,
    "start_time": "2022-04-05T23:16:17.746Z"
   },
   {
    "duration": 15,
    "start_time": "2022-04-05T23:16:17.799Z"
   },
   {
    "duration": 71,
    "start_time": "2022-04-05T23:16:17.816Z"
   },
   {
    "duration": 11,
    "start_time": "2022-04-05T23:16:17.889Z"
   },
   {
    "duration": 7,
    "start_time": "2022-04-05T23:20:46.783Z"
   },
   {
    "duration": 8,
    "start_time": "2022-04-05T23:20:59.349Z"
   },
   {
    "duration": 1440,
    "start_time": "2022-04-05T23:46:34.118Z"
   },
   {
    "duration": 4,
    "start_time": "2022-04-05T23:46:35.561Z"
   },
   {
    "duration": 544,
    "start_time": "2022-04-05T23:46:35.567Z"
   },
   {
    "duration": 34,
    "start_time": "2022-04-05T23:46:36.114Z"
   },
   {
    "duration": 22,
    "start_time": "2022-04-05T23:46:36.151Z"
   },
   {
    "duration": 15,
    "start_time": "2022-04-05T23:46:36.176Z"
   },
   {
    "duration": 43,
    "start_time": "2022-04-05T23:46:36.194Z"
   },
   {
    "duration": 13,
    "start_time": "2022-04-05T23:46:36.239Z"
   },
   {
    "duration": 13,
    "start_time": "2022-04-05T23:46:36.254Z"
   },
   {
    "duration": 33,
    "start_time": "2022-04-05T23:46:36.271Z"
   },
   {
    "duration": 11,
    "start_time": "2022-04-05T23:46:36.306Z"
   },
   {
    "duration": 9,
    "start_time": "2022-04-05T23:46:36.320Z"
   },
   {
    "duration": 18,
    "start_time": "2022-04-05T23:46:36.331Z"
   },
   {
    "duration": 37,
    "start_time": "2022-04-05T23:46:36.351Z"
   },
   {
    "duration": 10,
    "start_time": "2022-04-05T23:46:36.390Z"
   },
   {
    "duration": 30,
    "start_time": "2022-04-05T23:46:36.402Z"
   },
   {
    "duration": 21,
    "start_time": "2022-04-05T23:46:36.434Z"
   },
   {
    "duration": 28,
    "start_time": "2022-04-05T23:46:36.457Z"
   },
   {
    "duration": 45,
    "start_time": "2022-04-05T23:46:36.488Z"
   },
   {
    "duration": 58,
    "start_time": "2022-04-05T23:46:36.535Z"
   },
   {
    "duration": 7,
    "start_time": "2022-04-05T23:46:36.596Z"
   },
   {
    "duration": 41,
    "start_time": "2022-04-05T23:46:36.605Z"
   },
   {
    "duration": 42,
    "start_time": "2022-04-05T23:46:36.648Z"
   },
   {
    "duration": 38,
    "start_time": "2022-04-05T23:46:36.692Z"
   },
   {
    "duration": 7,
    "start_time": "2022-04-05T23:46:36.732Z"
   },
   {
    "duration": 63,
    "start_time": "2022-04-05T23:46:36.741Z"
   },
   {
    "duration": 20,
    "start_time": "2022-04-05T23:46:36.806Z"
   },
   {
    "duration": 57,
    "start_time": "2022-04-05T23:46:36.833Z"
   },
   {
    "duration": 7,
    "start_time": "2022-04-05T23:46:36.893Z"
   },
   {
    "duration": 36,
    "start_time": "2022-04-05T23:46:36.902Z"
   },
   {
    "duration": 8,
    "start_time": "2022-04-05T23:46:36.940Z"
   },
   {
    "duration": 14,
    "start_time": "2022-04-05T23:46:36.950Z"
   },
   {
    "duration": 26,
    "start_time": "2022-04-05T23:46:36.966Z"
   },
   {
    "duration": 19,
    "start_time": "2022-04-05T23:46:36.994Z"
   },
   {
    "duration": 6,
    "start_time": "2022-04-05T23:46:37.015Z"
   },
   {
    "duration": 10,
    "start_time": "2022-04-05T23:46:37.023Z"
   },
   {
    "duration": 12,
    "start_time": "2022-04-05T23:46:37.035Z"
   },
   {
    "duration": 36,
    "start_time": "2022-04-05T23:46:37.050Z"
   },
   {
    "duration": 28,
    "start_time": "2022-04-05T23:46:37.088Z"
   },
   {
    "duration": 14,
    "start_time": "2022-04-05T23:46:37.119Z"
   },
   {
    "duration": 13,
    "start_time": "2022-04-05T23:46:37.135Z"
   },
   {
    "duration": 40,
    "start_time": "2022-04-05T23:46:37.150Z"
   },
   {
    "duration": 40,
    "start_time": "2022-04-05T23:46:37.193Z"
   },
   {
    "duration": 13,
    "start_time": "2022-04-05T23:46:37.235Z"
   },
   {
    "duration": 67,
    "start_time": "2022-04-05T23:46:37.251Z"
   },
   {
    "duration": 12,
    "start_time": "2022-04-05T23:46:37.320Z"
   },
   {
    "duration": 7,
    "start_time": "2022-04-05T23:46:37.334Z"
   },
   {
    "duration": 13,
    "start_time": "2022-04-05T23:46:37.343Z"
   },
   {
    "duration": 25,
    "start_time": "2022-04-05T23:46:37.383Z"
   },
   {
    "duration": 12,
    "start_time": "2022-04-05T23:46:37.410Z"
   },
   {
    "duration": 74,
    "start_time": "2022-04-05T23:46:37.424Z"
   },
   {
    "duration": 12,
    "start_time": "2022-04-05T23:46:37.501Z"
   },
   {
    "duration": 20,
    "start_time": "2022-04-05T23:46:37.515Z"
   },
   {
    "duration": 15,
    "start_time": "2022-04-05T23:46:37.537Z"
   },
   {
    "duration": 40,
    "start_time": "2022-04-05T23:46:37.554Z"
   },
   {
    "duration": 11,
    "start_time": "2022-04-05T23:46:37.597Z"
   },
   {
    "duration": 31,
    "start_time": "2022-04-05T23:46:37.610Z"
   },
   {
    "duration": 11,
    "start_time": "2022-04-05T23:46:37.644Z"
   },
   {
    "duration": 29,
    "start_time": "2022-04-05T23:46:37.657Z"
   },
   {
    "duration": 15,
    "start_time": "2022-04-05T23:46:37.688Z"
   },
   {
    "duration": 13,
    "start_time": "2022-04-05T23:46:37.705Z"
   },
   {
    "duration": 6,
    "start_time": "2022-04-05T23:46:37.721Z"
   },
   {
    "duration": 10,
    "start_time": "2022-04-05T23:46:37.729Z"
   },
   {
    "duration": 45,
    "start_time": "2022-04-05T23:46:37.742Z"
   },
   {
    "duration": 22,
    "start_time": "2022-04-05T23:46:37.790Z"
   },
   {
    "duration": 42,
    "start_time": "2022-04-05T23:46:37.814Z"
   },
   {
    "duration": 9,
    "start_time": "2022-04-05T23:46:37.858Z"
   },
   {
    "duration": 16,
    "start_time": "2022-04-05T23:46:37.869Z"
   },
   {
    "duration": 8,
    "start_time": "2022-04-05T23:46:37.887Z"
   },
   {
    "duration": 9,
    "start_time": "2022-04-05T23:46:37.897Z"
   },
   {
    "duration": 16,
    "start_time": "2022-04-05T23:46:37.908Z"
   },
   {
    "duration": 13,
    "start_time": "2022-04-05T23:46:37.926Z"
   },
   {
    "duration": 7,
    "start_time": "2022-04-05T23:46:37.941Z"
   },
   {
    "duration": 16,
    "start_time": "2022-04-05T23:46:37.984Z"
   },
   {
    "duration": 10,
    "start_time": "2022-04-05T23:46:38.002Z"
   },
   {
    "duration": 7,
    "start_time": "2022-04-05T23:46:38.014Z"
   },
   {
    "duration": 9,
    "start_time": "2022-04-05T23:46:38.023Z"
   },
   {
    "duration": 55,
    "start_time": "2022-04-05T23:46:38.034Z"
   },
   {
    "duration": 195,
    "start_time": "2022-04-05T23:46:38.091Z"
   },
   {
    "duration": 18,
    "start_time": "2022-04-05T23:46:38.289Z"
   },
   {
    "duration": 19,
    "start_time": "2022-04-05T23:46:38.309Z"
   },
   {
    "duration": 16,
    "start_time": "2022-04-05T23:46:38.337Z"
   },
   {
    "duration": 28,
    "start_time": "2022-04-05T23:46:38.356Z"
   },
   {
    "duration": 33,
    "start_time": "2022-04-05T23:46:38.387Z"
   },
   {
    "duration": 34,
    "start_time": "2022-04-05T23:46:38.422Z"
   },
   {
    "duration": 35,
    "start_time": "2022-04-05T23:46:38.459Z"
   },
   {
    "duration": 10,
    "start_time": "2022-04-05T23:46:38.497Z"
   },
   {
    "duration": 10,
    "start_time": "2022-04-05T23:46:38.509Z"
   },
   {
    "duration": 360,
    "start_time": "2022-04-05T23:46:38.522Z"
   },
   {
    "duration": 310,
    "start_time": "2022-04-05T23:46:38.884Z"
   },
   {
    "duration": 309,
    "start_time": "2022-04-05T23:46:39.197Z"
   },
   {
    "duration": 23,
    "start_time": "2022-04-05T23:46:39.509Z"
   },
   {
    "duration": 12,
    "start_time": "2022-04-05T23:46:39.534Z"
   },
   {
    "duration": 36,
    "start_time": "2022-04-05T23:46:39.549Z"
   },
   {
    "duration": 22,
    "start_time": "2022-04-05T23:46:39.588Z"
   },
   {
    "duration": 11,
    "start_time": "2022-04-05T23:46:39.613Z"
   },
   {
    "duration": 19,
    "start_time": "2022-04-05T23:46:39.626Z"
   },
   {
    "duration": 8,
    "start_time": "2022-04-05T23:46:39.647Z"
   }
  ],
  "kernelspec": {
   "display_name": "Python 3 (ipykernel)",
   "language": "python",
   "name": "python3"
  },
  "language_info": {
   "codemirror_mode": {
    "name": "ipython",
    "version": 3
   },
   "file_extension": ".py",
   "mimetype": "text/x-python",
   "name": "python",
   "nbconvert_exporter": "python",
   "pygments_lexer": "ipython3",
   "version": "3.9.7"
  },
  "toc": {
   "base_numbering": 1,
   "nav_menu": {},
   "number_sections": true,
   "sideBar": true,
   "skip_h1_title": true,
   "title_cell": "Содержание",
   "title_sidebar": "Contents",
   "toc_cell": true,
   "toc_position": {
    "height": "calc(100% - 180px)",
    "left": "10px",
    "top": "150px",
    "width": "495.391px"
   },
   "toc_section_display": true,
   "toc_window_display": true
  }
 },
 "nbformat": 4,
 "nbformat_minor": 5
}
